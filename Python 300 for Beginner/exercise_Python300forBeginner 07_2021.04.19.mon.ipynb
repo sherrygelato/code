{
 "cells": [
  {
   "cell_type": "markdown",
   "id": "253b8276",
   "metadata": {},
   "source": [
    "# # 101~150"
   ]
  },
  {
   "cell_type": "markdown",
   "id": "8c87ceb0",
   "metadata": {},
   "source": [
    "# 101\n",
    "파이썬에서 True 혹은 False를 갖는 데이터 타입은 무엇인가?"
   ]
  },
  {
   "cell_type": "code",
   "execution_count": 1,
   "id": "09e68e74",
   "metadata": {},
   "outputs": [],
   "source": [
    "# boolean "
   ]
  },
  {
   "cell_type": "markdown",
   "id": "64132d24",
   "metadata": {},
   "source": [
    "# 102\n",
    "아래 코드의 출력 결과를 예상하라\n",
    "\n",
    "print(3 == 5)"
   ]
  },
  {
   "cell_type": "code",
   "execution_count": 2,
   "id": "67ffad78",
   "metadata": {},
   "outputs": [
    {
     "name": "stdout",
     "output_type": "stream",
     "text": [
      "False\n"
     ]
    }
   ],
   "source": [
    "# false\n",
    "\n",
    "print(3 == 5)"
   ]
  },
  {
   "cell_type": "markdown",
   "id": "e19870a6",
   "metadata": {},
   "source": [
    "# 103\n",
    "아래 코드의 출력 결과를 예상하라\n",
    "\n",
    "print(3 < 5)"
   ]
  },
  {
   "cell_type": "code",
   "execution_count": 3,
   "id": "e9008732",
   "metadata": {},
   "outputs": [
    {
     "name": "stdout",
     "output_type": "stream",
     "text": [
      "True\n"
     ]
    }
   ],
   "source": [
    "# True\n",
    "\n",
    "print(3 < 5)"
   ]
  },
  {
   "cell_type": "markdown",
   "id": "3e711e5c",
   "metadata": {},
   "source": [
    "# 104\n",
    "아래 코드의 결과를 예상하라.\n",
    "\n",
    "x = 4\\\n",
    "print(1 < x < 5)"
   ]
  },
  {
   "cell_type": "code",
   "execution_count": 4,
   "id": "a01e4940",
   "metadata": {},
   "outputs": [
    {
     "name": "stdout",
     "output_type": "stream",
     "text": [
      "True\n"
     ]
    }
   ],
   "source": [
    "# True\n",
    "\n",
    "x = 4\n",
    "print(1 < x < 5)"
   ]
  },
  {
   "cell_type": "markdown",
   "id": "05782908",
   "metadata": {},
   "source": [
    "# 105\n",
    "아래 코드의 결과를 예상하라.\n",
    "\n",
    "print ((3 == 3) and (4 != 3))"
   ]
  },
  {
   "cell_type": "code",
   "execution_count": 5,
   "id": "1be8f805",
   "metadata": {},
   "outputs": [
    {
     "name": "stdout",
     "output_type": "stream",
     "text": [
      "True\n"
     ]
    }
   ],
   "source": [
    "# True\n",
    "\n",
    "print ((3 == 3) and (4 != 3)) # and는 둘다 충족될 때"
   ]
  },
  {
   "cell_type": "markdown",
   "id": "f6a2fc63",
   "metadata": {},
   "source": [
    "# 106\n",
    "아래 코드에서 에러가 발생하는 원인에 대해 설명하라.\n",
    "\n",
    "print(3 => 4)"
   ]
  },
  {
   "cell_type": "code",
   "execution_count": 6,
   "id": "7f565343",
   "metadata": {},
   "outputs": [],
   "source": [
    "# 괄호안이 bool로 되어있지 않음\n",
    "# 지원되지 않은 연산자"
   ]
  },
  {
   "cell_type": "markdown",
   "id": "f1c8d52d",
   "metadata": {},
   "source": [
    "# 107\n",
    "아래 코드의 출력 결과를 예상하라\n",
    "\n",
    "if 4 < 3:\\\n",
    "    print(\"Hello World\")"
   ]
  },
  {
   "cell_type": "code",
   "execution_count": 7,
   "id": "a9a42fc5",
   "metadata": {},
   "outputs": [
    {
     "ename": "IndentationError",
     "evalue": "expected an indented block (<ipython-input-7-47744a6c6d3a>, line 2)",
     "output_type": "error",
     "traceback": [
      "\u001b[1;36m  File \u001b[1;32m\"<ipython-input-7-47744a6c6d3a>\"\u001b[1;36m, line \u001b[1;32m2\u001b[0m\n\u001b[1;33m    print(\"Hello World\")\u001b[0m\n\u001b[1;37m        ^\u001b[0m\n\u001b[1;31mIndentationError\u001b[0m\u001b[1;31m:\u001b[0m expected an indented block\n"
     ]
    }
   ],
   "source": [
    "if 4 < 3:\n",
    "print(\"Hello World\")"
   ]
  },
  {
   "cell_type": "code",
   "execution_count": 8,
   "id": "b9a2b089",
   "metadata": {},
   "outputs": [],
   "source": [
    "#조건을 만족하지 않기 때문에 아무 결과도 출력되지 않습니다."
   ]
  },
  {
   "cell_type": "markdown",
   "id": "4de171ff",
   "metadata": {},
   "source": [
    "# 108\n",
    "아래 코드의 출력 결과를 예상하라\n",
    "\n",
    "if 4 < 3:\\\n",
    "    print(\"Hello World.\")\\\n",
    "else:\\\n",
    "    print(\"Hi, there.\")"
   ]
  },
  {
   "cell_type": "code",
   "execution_count": 10,
   "id": "c3a1fa68",
   "metadata": {},
   "outputs": [
    {
     "name": "stdout",
     "output_type": "stream",
     "text": [
      "Hi, there.\n"
     ]
    }
   ],
   "source": [
    "# Hi, there.\n",
    "\n",
    "if 4 < 3:\n",
    "    print(\"Hello World.\")\n",
    "else: \n",
    "    print(\"Hi, there.\")"
   ]
  },
  {
   "cell_type": "markdown",
   "id": "d4ec2b39",
   "metadata": {},
   "source": [
    "# 109\n",
    "아래 코드의 출력 결과를 예상하라\n",
    "\n",
    "if True :\\\n",
    "    print (\"1\")\\\n",
    "    print (\"2\")\\\n",
    "else :\\\n",
    "    print(\"3\")\\\n",
    "print(\"4\")"
   ]
  },
  {
   "cell_type": "code",
   "execution_count": 11,
   "id": "301b5fae",
   "metadata": {},
   "outputs": [
    {
     "name": "stdout",
     "output_type": "stream",
     "text": [
      "1\n",
      "2\n",
      "4\n"
     ]
    }
   ],
   "source": [
    "if True :\n",
    "    print (\"1\")\n",
    "    print (\"2\")\n",
    "else :\n",
    "    print(\"3\")\n",
    "print(\"4\")"
   ]
  },
  {
   "cell_type": "markdown",
   "id": "05ff14f4",
   "metadata": {},
   "source": [
    "# 110\n",
    "아래 코드의 출력 결과를 예상하라\n",
    "\n",
    "if True :\\\n",
    "    if False:\\\n",
    "        print(\"1\")\\\n",
    "        print(\"2\")\\\n",
    "    else:\\\n",
    "        print(\"3\")\\\n",
    "else :\\\n",
    "    print(\"4\")\\\n",
    "print(\"5\")"
   ]
  },
  {
   "cell_type": "code",
   "execution_count": 12,
   "id": "83b435a4",
   "metadata": {},
   "outputs": [
    {
     "name": "stdout",
     "output_type": "stream",
     "text": [
      "3\n",
      "5\n"
     ]
    }
   ],
   "source": [
    "if True :\n",
    "    if False:\n",
    "        print(\"1\")\n",
    "        print(\"2\")\n",
    "    else:\n",
    "        print(\"3\")\n",
    "else :\n",
    "    print(\"4\")\n",
    "print(\"5\")"
   ]
  },
  {
   "cell_type": "markdown",
   "id": "fb30e811",
   "metadata": {},
   "source": [
    "# 111\n",
    "사용자로부터 입력받은 문자열을 두 번 출력하라. 아래는 사용자가 \"안녕하세요\"를 입력한 경우의 출력 결과이다.\n",
    "\n",
    ">> 안녕하세요\\\n",
    "안녕하세요안녕하세요"
   ]
  },
  {
   "cell_type": "code",
   "execution_count": 13,
   "id": "14de2531",
   "metadata": {},
   "outputs": [
    {
     "name": "stdout",
     "output_type": "stream",
     "text": [
      "입력> 안녕하세요\n",
      "안녕하세요안녕하세요\n"
     ]
    }
   ],
   "source": [
    "a = input(\"입력> \")\n",
    "\n",
    "print(\"안녕하세요\"*2)"
   ]
  },
  {
   "cell_type": "markdown",
   "id": "d4ca6b9f",
   "metadata": {},
   "source": [
    "# 112\n",
    "사용자로부터 하나의 숫자를 입력받고, 입력 받은 숫자에 10을 더해 출력하라.\n",
    "\n",
    ">> 숫자를 입력하세요: 30\\\n",
    "40"
   ]
  },
  {
   "cell_type": "code",
   "execution_count": 15,
   "id": "caaab9e7",
   "metadata": {},
   "outputs": [
    {
     "name": "stdout",
     "output_type": "stream",
     "text": [
      "숫자를 입력하세요: 30\n",
      "40\n"
     ]
    }
   ],
   "source": [
    "a = input(\"숫자를 입력하세요: \")\n",
    "\n",
    "print(int(a)+10)"
   ]
  },
  {
   "cell_type": "markdown",
   "id": "07dce0df",
   "metadata": {},
   "source": [
    "# 113\n",
    "사용자로부터 하나의 숫자를 입력 받고 짝수/홀수를 판별하라.\n",
    "\n",
    ">> 30\\\n",
    "짝수"
   ]
  },
  {
   "cell_type": "code",
   "execution_count": 16,
   "id": "5942bf8a",
   "metadata": {},
   "outputs": [
    {
     "name": "stdout",
     "output_type": "stream",
     "text": [
      "입력>30\n",
      "짝수\n"
     ]
    }
   ],
   "source": [
    "a = int(input(\"입력>\"))\n",
    "\n",
    "if a % 2 == 0:\n",
    "    print(\"짝수\")\n",
    "else:\n",
    "    print(\"홀수\")"
   ]
  },
  {
   "cell_type": "markdown",
   "id": "bc0c7d82",
   "metadata": {},
   "source": [
    "# 114\n",
    "사용자로부터 값을 입력받은 후 해당 값에 20을 더한 값을 출력하라. 단 사용자가 입력한 값과 20을 더한 계산 값이 255를 초과하는 경우 255를 출력해야 한다.\n",
    "\n",
    ">> 입력값: 200\\\n",
    "출력값: 220\n",
    "\n",
    ">> 입력값: 240\\\n",
    "출력값: 255"
   ]
  },
  {
   "cell_type": "code",
   "execution_count": 19,
   "id": "63862448",
   "metadata": {},
   "outputs": [
    {
     "name": "stdout",
     "output_type": "stream",
     "text": [
      "입력200\n",
      "220\n"
     ]
    }
   ],
   "source": [
    "a = int(input(\"입력\"))\n",
    "\n",
    "if a+20>255:\n",
    "    print(255)\n",
    "else:\n",
    "    print(a+20)"
   ]
  },
  {
   "cell_type": "code",
   "execution_count": 20,
   "id": "969b1091",
   "metadata": {},
   "outputs": [
    {
     "name": "stdout",
     "output_type": "stream",
     "text": [
      "입력240\n",
      "255\n"
     ]
    }
   ],
   "source": [
    "a = int(input(\"입력\"))\n",
    "\n",
    "if a+20>255:\n",
    "    print(255)\n",
    "else:\n",
    "    print(a+20)"
   ]
  },
  {
   "cell_type": "markdown",
   "id": "a2daa622",
   "metadata": {},
   "source": [
    "# 115\n",
    "사용자로부터 하나의 값을 입력받은 후 해당 값에 20을 뺀 값을 출력하라. 단 출력 값의 범위는 0~255이다. 예를 들어 결괏값이 0보다 작은 값이되는 경우 0을 출력하고 255보다 큰 값이 되는 경우 255를 출력해야 한다.\n",
    "\n",
    ">> 입력값: 200\\\n",
    "출력값: 180\n",
    "\n",
    ">> 입력값: 15\\\n",
    "출력값: 0"
   ]
  },
  {
   "cell_type": "code",
   "execution_count": 21,
   "id": "5c612033",
   "metadata": {},
   "outputs": [
    {
     "name": "stdout",
     "output_type": "stream",
     "text": [
      "입력:200\n",
      "180\n"
     ]
    }
   ],
   "source": [
    "a = int(input(\"입력:\"))\n",
    "if 0<a-20<255:\n",
    "    print(a-20)\n",
    "elif 0>a-20:\n",
    "    print(0)\n",
    "else:\n",
    "    print(255)"
   ]
  },
  {
   "cell_type": "code",
   "execution_count": 22,
   "id": "a3abe43c",
   "metadata": {},
   "outputs": [
    {
     "name": "stdout",
     "output_type": "stream",
     "text": [
      "입력:15\n",
      "0\n"
     ]
    }
   ],
   "source": [
    "a = int(input(\"입력:\"))\n",
    "if 0<a-20<255:\n",
    "    print(a-20)\n",
    "elif 0>a-20:\n",
    "    print(0)\n",
    "else:\n",
    "    print(255)"
   ]
  },
  {
   "cell_type": "markdown",
   "id": "ed866b63",
   "metadata": {},
   "source": [
    "# 116\n",
    "사용자로부터 입력 받은 시간이 정각인지 판별하라.\n",
    "\n",
    ">> 현재시간:02:00\n",
    "정각 입니다.\n",
    "\n",
    ">> 현재시간:03:10\n",
    "정각이 아닙니다"
   ]
  },
  {
   "cell_type": "code",
   "execution_count": 25,
   "id": "54f7daef",
   "metadata": {},
   "outputs": [
    {
     "name": "stdout",
     "output_type": "stream",
     "text": [
      "현재시간: 02:00\n",
      "정각 입니다.\n"
     ]
    }
   ],
   "source": [
    "time = input(\"현재시간: \")\n",
    "if time[-2:] == \"00\":\n",
    "    print(\"정각 입니다.\")\n",
    "else:\n",
    "    print(\"정각이 아닙니다.\")"
   ]
  },
  {
   "cell_type": "code",
   "execution_count": 26,
   "id": "f390d5e4",
   "metadata": {},
   "outputs": [
    {
     "name": "stdout",
     "output_type": "stream",
     "text": [
      "현재시간: 03:10\n",
      "정각이 아닙니다.\n"
     ]
    }
   ],
   "source": [
    "time = input(\"현재시간: \")\n",
    "if time[-2:] == \"00\":\n",
    "    print(\"정각 입니다.\")\n",
    "else:\n",
    "    print(\"정각이 아닙니다.\")"
   ]
  },
  {
   "cell_type": "markdown",
   "id": "c146572d",
   "metadata": {},
   "source": [
    "# 117\n",
    "사용자로 입력받은 단어가 아래 fruit 리스트에 포함되어 있는지를 확인하라. 포함되었다면 \"정답입니다\"를 아닐 경우 \"오답입니다\" 출력하라.\n",
    "\n",
    "fruit = [\"사과\", \"포도\", \"홍시\"]\n",
    "\n",
    ">> 좋아하는 과일은? 사과\\\n",
    "정답입니다."
   ]
  },
  {
   "cell_type": "code",
   "execution_count": 27,
   "id": "b92251c4",
   "metadata": {},
   "outputs": [
    {
     "name": "stdout",
     "output_type": "stream",
     "text": [
      "입력>사과\n",
      "좋아하는 과일은? 사과\n",
      "정답입니다.\n"
     ]
    }
   ],
   "source": [
    "fruit = [\"사과\", \"포도\", \"홍시\"]\n",
    "\n",
    "a = input(\"입력>\")\n",
    "\n",
    "if a in fruit:\n",
    "    print(\"좋아하는 과일은?\", a)\n",
    "    print(\"정답입니다.\")\n",
    "else:\n",
    "    print(\"오답입니다.\")"
   ]
  },
  {
   "cell_type": "markdown",
   "id": "9f3c5451",
   "metadata": {},
   "source": [
    "# 118\n",
    "투자 경고 종목 리스트가 있을 때 사용자로부터 종목명을 입력 받은 후 해당 종목이 투자 경고 종목이라면 '투자 경고 종목입니다'를 아니면 \"투자 경고 종목이 아닙니다.\"를 출력하는 프로그램을 작성하라.\n",
    "\n",
    "warn_investment_list = [\"Microsoft\", \"Google\", \"Naver\", \"Kakao\", \"SAMSUNG\", \"LG\"]"
   ]
  },
  {
   "cell_type": "code",
   "execution_count": 28,
   "id": "d7f60760",
   "metadata": {},
   "outputs": [
    {
     "name": "stdout",
     "output_type": "stream",
     "text": [
      "Google\n",
      "투자 경고 종목입니다\n"
     ]
    }
   ],
   "source": [
    "warn_investment_list = [\"Microsoft\", \"Google\", \"Naver\", \"Kakao\", \"SAMSUNG\", \"LG\"]\n",
    "\n",
    "a = input()\n",
    "\n",
    "if a in warn_investment_list:\n",
    "    print(\"투자 경고 종목입니다\")\n",
    "else: \n",
    "    print(\"투자 경고 종목이 아닙니다\")"
   ]
  },
  {
   "cell_type": "markdown",
   "id": "ca6c690b",
   "metadata": {},
   "source": [
    "# 119\n",
    "아래와 같이 fruit 딕셔너리가 정의되어 있다. 사용자가 입력한 값이 딕셔너리 키 (key) 값에 포함되었다면 \"정답입니다\"를 아닐 경우 \"오답입니다\" 출력하라.\n",
    "\n",
    "fruit = {\"봄\" : \"딸기\", \"여름\" : \"토마토\", \"가을\" : \"사과\"}\n",
    "\n",
    ">> 제가좋아하는계절은: 봄\\\n",
    "정답입니다."
   ]
  },
  {
   "cell_type": "code",
   "execution_count": 29,
   "id": "091cbd9b",
   "metadata": {},
   "outputs": [
    {
     "name": "stdout",
     "output_type": "stream",
     "text": [
      "봄\n",
      "제가 좋아하는 계절은: 봄\n",
      "정답입니다.\n"
     ]
    }
   ],
   "source": [
    "fruit = {\"봄\" : \"딸기\", \"여름\" : \"토마토\", \"가을\" : \"사과\"}\n",
    "\n",
    "a = input()\n",
    "\n",
    "print(\"제가 좋아하는 계절은:\", a)\n",
    "\n",
    "if a in fruit:\n",
    "    print(\"정답입니다.\")\n",
    "else: \n",
    "    print(\"오답입니다.\")"
   ]
  },
  {
   "cell_type": "markdown",
   "id": "3ad33378",
   "metadata": {},
   "source": [
    "# 120\n",
    "아래와 같이 fruit 딕셔너리가 정의되어 있다. 사용자가 입력한 값이 딕셔너리 값 (value)에 포함되었다면 \"정답입니다\"를 아닐 경우 \"오답입니다\" 출력하라.\n",
    "\n",
    "fruit = {\"봄\" : \"딸기\", \"여름\" : \"토마토\", \"가을\" : \"사과\"}\n",
    "\n",
    ">> 좋아하는과일은? 한라봉\\\n",
    "오답입니다."
   ]
  },
  {
   "cell_type": "code",
   "execution_count": 31,
   "id": "b0cb788e",
   "metadata": {},
   "outputs": [
    {
     "name": "stdout",
     "output_type": "stream",
     "text": [
      "한라봉\n",
      "좋아하는 과일은? 한라봉\n",
      "오답입니다.\n"
     ]
    }
   ],
   "source": [
    "fruit = {\"봄\" : \"딸기\", \"여름\" : \"토마토\", \"가을\" : \"사과\"}\n",
    "\n",
    "a = input()\n",
    "\n",
    "print(\"좋아하는 과일은?\", a)\n",
    "\n",
    "if a in fruit:\n",
    "    print(\"정답입니다.\")\n",
    "else: \n",
    "    print(\"오답입니다.\")"
   ]
  },
  {
   "cell_type": "markdown",
   "id": "c05ceca6",
   "metadata": {},
   "source": [
    "# 121\n",
    "사용자로부터 문자 한 개를 입력 받고, 소문자일 경우 대문자로, 대문자 일 경우, 소문자로 변경해서 출력하라.\n",
    "\n",
    ">> a\\\n",
    "A\\\n",
    "힌트-1 : islower() 함수는 문자의 소문자 여부를 판별합니다. 만약 소문자일 경우 True, 대문자일 경우 False를 반환합니다. \\\n",
    "힌트-2 : upper() 함수는 대문자로, lower() 함수는 소문자로 변경합니다."
   ]
  },
  {
   "cell_type": "code",
   "execution_count": 2,
   "id": "fc2d221a",
   "metadata": {},
   "outputs": [
    {
     "name": "stdout",
     "output_type": "stream",
     "text": [
      "a\n",
      "A\n"
     ]
    }
   ],
   "source": [
    "a = str(input())\n",
    "\n",
    "if a.islower() == True:\n",
    "    print(a.upper())\n",
    "else:\n",
    "    print(a.lower())\n"
   ]
  },
  {
   "cell_type": "markdown",
   "id": "05e73df1",
   "metadata": {},
   "source": [
    "# 122\n",
    "점수 구간에 해당하는 학점이 아래와 같이 정의되어 있다. 사용자로부터 score를 입력받아 학점을 출력하라.\n",
    "\n",
    "점수\t학점\\\n",
    "81~100\tA\\\n",
    "61~80\tB\\\n",
    "41~60\tC\\\n",
    "21~40\tD\\\n",
    "0~20\tE\n",
    "\n",
    ">> score: 83\\\n",
    "grade is A\n"
   ]
  },
  {
   "cell_type": "code",
   "execution_count": 4,
   "id": "b50d15a7",
   "metadata": {},
   "outputs": [
    {
     "name": "stdout",
     "output_type": "stream",
     "text": [
      "83\n",
      "A\n"
     ]
    }
   ],
   "source": [
    "score = int(input())\n",
    "a = score\n",
    "\n",
    "if a<=100:\n",
    "    print(\"A\")\n",
    "elif a<=80:\n",
    "    print(\"B\")\n",
    "elif a<=60:\n",
    "    print(\"C\")\n",
    "elif a<=40:\n",
    "    print(\"D\")\n",
    "else:\n",
    "    print(\"E\")"
   ]
  },
  {
   "cell_type": "markdown",
   "id": "d40f3b25",
   "metadata": {},
   "source": [
    "# 123\n",
    "사용자로부터 달러, 엔, 유로, 또는 위안 금액을 입력받은 후 이를 원으로 변환하는 프로그램을 작성하라. 각 통화별 환율은 다음과 같다. 사용자는 100 달러, 1000 엔, 13 유로, 100 위안과 같이 금액과 통화명 사이에 공백을 넣어 입력한다고 가정한다.\n",
    "\n",
    "통화명\t환율\\\n",
    "달러\t1167\\\n",
    "엔\t1.096\\\n",
    "유로\t1268\\\n",
    "위안\t171\n",
    "\n",
    ">> 입력: 100 달러\\\n",
    "116700.00 원"
   ]
  },
  {
   "cell_type": "code",
   "execution_count": 8,
   "id": "d8bf5425",
   "metadata": {},
   "outputs": [
    {
     "name": "stdout",
     "output_type": "stream",
     "text": [
      "100 달러\n"
     ]
    },
    {
     "ename": "TypeError",
     "evalue": "argument of type 'int' is not iterable",
     "output_type": "error",
     "traceback": [
      "\u001b[1;31m---------------------------------------------------------------------------\u001b[0m",
      "\u001b[1;31mTypeError\u001b[0m                                 Traceback (most recent call last)",
      "\u001b[1;32m<ipython-input-8-03a384f56ec0>\u001b[0m in \u001b[0;36m<module>\u001b[1;34m\u001b[0m\n\u001b[0;32m      9\u001b[0m \u001b[0maa\u001b[0m \u001b[1;33m=\u001b[0m \u001b[0mint\u001b[0m\u001b[1;33m(\u001b[0m\u001b[0ma\u001b[0m\u001b[1;33m[\u001b[0m\u001b[1;36m0\u001b[0m\u001b[1;33m]\u001b[0m\u001b[1;33m)\u001b[0m\u001b[1;33m\u001b[0m\u001b[1;33m\u001b[0m\u001b[0m\n\u001b[0;32m     10\u001b[0m \u001b[1;33m\u001b[0m\u001b[0m\n\u001b[1;32m---> 11\u001b[1;33m \u001b[1;32mif\u001b[0m \u001b[1;34m\"달러\"\u001b[0m \u001b[1;32min\u001b[0m \u001b[0maa\u001b[0m\u001b[1;33m:\u001b[0m\u001b[1;33m\u001b[0m\u001b[1;33m\u001b[0m\u001b[0m\n\u001b[0m\u001b[0;32m     12\u001b[0m     \u001b[0mprint\u001b[0m\u001b[1;33m(\u001b[0m\u001b[0maa\u001b[0m\u001b[1;33m*\u001b[0m\u001b[0musa\u001b[0m\u001b[1;33m)\u001b[0m\u001b[1;33m\u001b[0m\u001b[1;33m\u001b[0m\u001b[0m\n\u001b[0;32m     13\u001b[0m \u001b[1;32melif\u001b[0m \u001b[1;34m'엔'\u001b[0m \u001b[1;32min\u001b[0m \u001b[0maa\u001b[0m\u001b[1;33m:\u001b[0m\u001b[1;33m\u001b[0m\u001b[1;33m\u001b[0m\u001b[0m\n",
      "\u001b[1;31mTypeError\u001b[0m: argument of type 'int' is not iterable"
     ]
    }
   ],
   "source": [
    "a = input()\n",
    "\n",
    "usa = 1167\n",
    "jpn = 1.96\n",
    "eua = 1268\n",
    "cha = 171\n",
    "\n",
    "aa = a.split()\n",
    "aa = int(a[0])\n",
    "\n",
    "if \"달러\" in aa:\n",
    "    print(aa*usa)\n",
    "elif '엔' in aa:\n",
    "    print(aa*jpn)\n",
    "elif \"유로\" in aa:\n",
    "    print(aa*eua)\n",
    "else :\n",
    "    print(aa*cha)"
   ]
  },
  {
   "cell_type": "code",
   "execution_count": 9,
   "id": "bc3c091f",
   "metadata": {},
   "outputs": [
    {
     "name": "stdout",
     "output_type": "stream",
     "text": [
      "입력: 100 달러\n",
      "116700.0 원\n"
     ]
    }
   ],
   "source": [
    "환율 = {\"달러\": 1167, \n",
    "        \"엔\": 1.096, \n",
    "        \"유로\": 1268, \n",
    "        \"위안\": 171}\n",
    "user = input(\"입력: \")\n",
    "num, currency = user.split()\n",
    "print(float(num) * 환율[currency], \"원\")"
   ]
  },
  {
   "cell_type": "markdown",
   "id": "cd3934c4",
   "metadata": {},
   "source": [
    "# 124\n",
    "사용자로부터 세 개의 숫자를 입력 받은 후 가장 큰 숫자를 출력하라.\n",
    "\n",
    ">> input number1: 10\\\n",
    ">> input number2: 9\\\n",
    ">> input number3: 20\\\n",
    "20"
   ]
  },
  {
   "cell_type": "code",
   "execution_count": 12,
   "id": "c74d4ac6",
   "metadata": {},
   "outputs": [
    {
     "name": "stdout",
     "output_type": "stream",
     "text": [
      "input number1: 10\n",
      "input number2: 9\n",
      "input number3: 20\n",
      "20\n"
     ]
    }
   ],
   "source": [
    "num1 = int(input(\"input number1: \"))\n",
    "num2 = int(input(\"input number2: \"))\n",
    "num3 = int(input(\"input number3: \"))\n",
    "\n",
    "if num1 > num2 and num1 > num3:\n",
    "    print(num1)\n",
    "elif num2 > num1 and num2 > num3:\n",
    "    print(num2)\n",
    "else:\n",
    "    print(num3)"
   ]
  },
  {
   "cell_type": "markdown",
   "id": "c5c650aa",
   "metadata": {},
   "source": [
    "# 125\n",
    "휴대폰 번호 앞자리에 따라 통신사는 아래와 같이 구분된다. 사용자로부터 휴대전화 번호를 입력 받고, 통신사를 출력하는 프로그램을 작성하라.\n",
    "\n",
    "번호\t통신사\\\n",
    "011\tSKT\\\n",
    "016\tKT\\\n",
    "019\tLGU\\\n",
    "010\t알수없음\n",
    "\n",
    ">> 휴대전화 번호 입력: 011-345-1922\\\n",
    "당신은 SKT 사용자입니다."
   ]
  },
  {
   "cell_type": "code",
   "execution_count": 7,
   "id": "53fef77e",
   "metadata": {},
   "outputs": [
    {
     "name": "stdout",
     "output_type": "stream",
     "text": [
      "휴대전화 번호 입력: 011-345-1922\n",
      "당신은 SKT 사용자입니다.\n"
     ]
    }
   ],
   "source": [
    "number = input(\"휴대전화 번호 입력: \")\n",
    "num = number.split(\"-\")[0]\n",
    "if num == \"011\":\n",
    "    com = \"SKT\"\n",
    "elif num == \"016\":\n",
    "    com = \"KT\"\n",
    "elif num == \"019\":\n",
    "    com = \"LGU\"\n",
    "else:\n",
    "    com = \"알수없음\"\n",
    "print(f\"당신은 {com} 사용자입니다.\")"
   ]
  },
  {
   "cell_type": "markdown",
   "id": "3e89c126",
   "metadata": {},
   "source": [
    "# 126\n",
    "우편번호는 5자리로 구성되는데, 앞의 세자리는 구를 나타낸다. 예를들어, 강북구의 경우 010, 011, 012 세 자리로 시작한다.\n",
    "\n",
    "-\t0\t1\t2\t3\t4\t5\t6\t7\t8\t9\\\n",
    "01\t강북구\t강북구\t강북구\t도봉구\t도봉구\t도봉구\t노원구\t노원구\t노원구\t노원구\\\n",
    "사용자로 부터 5자리 우편번호를 입력받고 구를 판별하라\n",
    "\n",
    ">> 우편번호: 01400\\\n",
    "도봉구"
   ]
  },
  {
   "cell_type": "code",
   "execution_count": 8,
   "id": "c82c6ee1",
   "metadata": {},
   "outputs": [
    {
     "name": "stdout",
     "output_type": "stream",
     "text": [
      "우편번호: 01400\n",
      "도봉구\n"
     ]
    }
   ],
   "source": [
    "우편번호 = input(\"우편번호: \")\n",
    "우편번호 = 우편번호[:3]\n",
    "if 우편번호 in [\"010\", \"011\", \"012\"]:\n",
    "    print(\"강북구\")\n",
    "elif 우편번호 in [\"014\", \"015\", \"016\"]:\n",
    "    print(\"도봉구\")\n",
    "else:\n",
    "    print(\"노원구\")"
   ]
  },
  {
   "cell_type": "markdown",
   "id": "0618ba5e",
   "metadata": {},
   "source": [
    "# 127\n",
    "주민등록번호 뒷 자리 7자리 중 첫째 자리는 성별을 나타내는데, 1, 3은 남자 2, 4는 여자를 의미한다. 사용자로부터 13자리의 주민등록번호를 입력 받은 후 성별 (남자, 여자)를 출력하는 프로그램을 작성하라.\n",
    "\n",
    ">> 주민등록번호: 821010-1635210\\\n",
    "남자"
   ]
  },
  {
   "cell_type": "code",
   "execution_count": 12,
   "id": "00fd2747",
   "metadata": {},
   "outputs": [
    {
     "name": "stdout",
     "output_type": "stream",
     "text": [
      "주민등록번호:821010-1635210\n",
      "남자\n"
     ]
    }
   ],
   "source": [
    "a = input(\"주민등록번호:\")\n",
    "aa = a.split(\"-\")[1]\n",
    "\n",
    "if aa[0] == \"1\" or aa[0] == \"3\":\n",
    "    print(\"남자\")\n",
    "else:\n",
    "    print(\"여자\")"
   ]
  },
  {
   "cell_type": "markdown",
   "id": "0e82dc51",
   "metadata": {},
   "source": [
    "# 128\n",
    "주민등록번호의 뒷 자리 7자리 중 두번째와 세번째는 지역코드를 의미한다. 주민 등록 번호를 입력 받은 후 출생지가 서울인지 아닌지 판단하는 코드를 작성하라\n",
    "\n",
    "지역코드\t출생지\\\n",
    "00 ~ 08\t서울\\\n",
    "09 ~ 12\t부산\n",
    "\n",
    ">> 주민등록번호: 821010-1635210\\\n",
    "서울이 아닙니다.\n",
    "\n",
    ">> 주민등록번호: 861010-1015210\\\n",
    "서울 입니다."
   ]
  },
  {
   "cell_type": "code",
   "execution_count": 13,
   "id": "a039f28d",
   "metadata": {},
   "outputs": [
    {
     "name": "stdout",
     "output_type": "stream",
     "text": [
      "주민등록번호: 821010-1635210\n",
      "서울이 아닙니다.\n"
     ]
    }
   ],
   "source": [
    "주민번호 = input(\"주민등록번호: \")\n",
    "뒷자리 = 주민번호.split(\"-\")[1]\n",
    "if 0 <= int(뒷자리[1:3]) <= 8:\n",
    "    print(\"서울입니다.\")\n",
    "else:\n",
    "    print(\"서울이 아닙니다.\")"
   ]
  },
  {
   "cell_type": "markdown",
   "id": "94fffd01",
   "metadata": {},
   "source": [
    "# 129\n",
    "주민등록번호는 13자리로 구성되는데 마지막 자리수는 주민등록번호의 유효성을 체크하는데 사용된다. 먼저 앞에서부터 12자리의 숫자에 2, 3, 4, 5, 6, 7, 8, 9, 2, 3, 4, 5를 차례로 곱한 뒤 그 값을 전부 더한다. 연산 결과 값을 11로 나누면 나머지가 나오는데 11에서 나머지를 뺀 값이 주민등록번호의 마지막 번호가 된다.\n",
    "\n",
    "  8 2 1 0 1 0 - 1 6 3 5 2 1 0\n",
    "x 2 3 4 5 6 7   8 9 2 3 4 5 \n",
    "-----------------------------\n",
    "1차 계산: (8*2 + 2*3 + 1*4 + 0*5 + 1*6 + 0*7 + 1*8 + 6*9 + 3*2 + 5*3 + 2*4 + 1*5) = (128 % 11) = 7\n",
    "\n",
    "2차 계산: 11 -7 = 4\n",
    "위와 같이 821010-1635210에 대해서 계산을 해보면 마지막 자리는 4가 되어야 함을 알 수 있다. 즉, 821010-1635210은 유효하지 않은 주민등록번호임을 알 수 있다.\n",
    "\n",
    "다음과 같이 사용자로부터 주민등록번호를 입력받은 후 주민등록번호가 유효한지를 출력하는 프로그램을 작성하라.\n",
    "\n",
    ">> 주민등록번호: 821010-1635210\n",
    "유효하지 않은 주민등록번호입니다. "
   ]
  },
  {
   "cell_type": "code",
   "execution_count": 14,
   "id": "805cfb24",
   "metadata": {},
   "outputs": [
    {
     "name": "stdout",
     "output_type": "stream",
     "text": [
      "주민등록번호: 821010-1635210\n",
      "유효하지 않은 주민등록번호입니다.\n"
     ]
    }
   ],
   "source": [
    "num = input(\"주민등록번호: \")\n",
    "계산1 = int(num[0]) * 2 + int(num[1]) * 3 + int(num[2]) * 4 + int(num[3]) * 5 + int(num[4]) * 6 + \\\n",
    "        int(num[5]) * 7 + int(num[7]) * 8 + int(num[8]) * 9 + int(num[9]) * 2 + int(num[10])* 3 + \\\n",
    "        int(num[11])* 4 + int(num[12]) * 5\n",
    "계산2 = 11 - (계산1 % 11)\n",
    "계산3 = str(계산2)\n",
    "\n",
    "if num[-1] == 계산3[-1]:\n",
    "    print(\"유효한 주민등록번호입니다.\")\n",
    "else:\n",
    "    print(\"유효하지 않은 주민등록번호입니다.\")"
   ]
  },
  {
   "cell_type": "markdown",
   "id": "f8e63959",
   "metadata": {},
   "source": [
    "# 130\n",
    "아래 코드는 비트코인의 가격 정보를 딕셔너리로 가져오는 코드이다.\n",
    "\n",
    "import requests\n",
    "btc = requests.get(\"https://api.bithumb.com/public/ticker/\").json()['data']\n",
    "\n",
    "btc 딕셔너리 안에는 시가, 종가, 최고가, 최저가 등이 저장되어 있다. 최고가와 최저가의 차이를 변동폭으로 정의할 때 (시가 + 변동폭)이 최고가 보다 높을 경우 \"상승장\", 그렇지 않은 경우 \"하락장\" 문자열을 출력하라.\n",
    "\n",
    "Key Name\tDescription\\\n",
    "opening_price\t최근 24시간 내 시작 거래금액\\\n",
    "closing_price\t최근 24시간 내 마지막 거래금액\\\n",
    "min_price\t최근 24시간 내 최저 거래금액\\\n",
    "max_price\t최근 24시간 내 최고 거래금액"
   ]
  },
  {
   "cell_type": "code",
   "execution_count": 15,
   "id": "0d7abe02",
   "metadata": {},
   "outputs": [
    {
     "name": "stdout",
     "output_type": "stream",
     "text": [
      "상승장\n"
     ]
    }
   ],
   "source": [
    "import requests\n",
    "btc = requests.get(\"https://api.bithumb.com/public/ticker/\").json()['data']\n",
    "\n",
    "변동폭 = float(btc['max_price']) - float(btc['min_price'])\n",
    "시가 = float(btc['opening_price'])\n",
    "최고가 = float(btc['max_price'])\n",
    "\n",
    "if (시가+변동폭) > 최고가:\n",
    "    print(\"상승장\")\n",
    "else:\n",
    "    print(\"하락장\")"
   ]
  },
  {
   "cell_type": "markdown",
   "id": "e919478d",
   "metadata": {},
   "source": [
    "# 131\n",
    "for문의 실행결과를 예측하라.\n",
    "\n",
    "과일 = [\"사과\", \"귤\", \"수박\"]\\\n",
    "for 변수 in 과일:\\\n",
    "    print(변수)"
   ]
  },
  {
   "cell_type": "code",
   "execution_count": 16,
   "id": "f4d562b3",
   "metadata": {},
   "outputs": [
    {
     "name": "stdout",
     "output_type": "stream",
     "text": [
      "사과\n",
      "귤\n",
      "수박\n"
     ]
    }
   ],
   "source": [
    "과일 = [\"사과\", \"귤\", \"수박\"]\n",
    "for 변수 in 과일:\n",
    "    print(변수)"
   ]
  },
  {
   "cell_type": "markdown",
   "id": "c48193ad",
   "metadata": {},
   "source": [
    "# 132\n",
    "for문의 실행결과를 예측하라.\n",
    "\n",
    "과일 = [\"사과\", \"귤\", \"수박\"]\\\n",
    "for 변수 in 과일:\\\n",
    "  print(\"#####\")"
   ]
  },
  {
   "cell_type": "code",
   "execution_count": 17,
   "id": "6e115d5c",
   "metadata": {},
   "outputs": [
    {
     "name": "stdout",
     "output_type": "stream",
     "text": [
      "#####\n",
      "#####\n",
      "#####\n"
     ]
    }
   ],
   "source": [
    "과일 = [\"사과\", \"귤\", \"수박\"]\n",
    "for 변수 in 과일:\n",
    "  print(\"#####\")"
   ]
  },
  {
   "cell_type": "markdown",
   "id": "0639ee56",
   "metadata": {},
   "source": [
    "# 133\n",
    "다음 for 문과 동일한 기능을 수행하는 코드를 작성하세요.\n",
    "\n",
    "for 변수 in [\"A\", \"B\", \"C\"]:\\\n",
    "  print(변수)"
   ]
  },
  {
   "cell_type": "code",
   "execution_count": 18,
   "id": "4f134f9f",
   "metadata": {},
   "outputs": [
    {
     "name": "stdout",
     "output_type": "stream",
     "text": [
      "A\n",
      "B\n",
      "C\n"
     ]
    }
   ],
   "source": [
    "변수 = \"A\"\n",
    "print(변수)\n",
    "변수 = \"B\"\n",
    "print(변수)\n",
    "변수 = \"C\"\n",
    "print(변수)"
   ]
  },
  {
   "cell_type": "markdown",
   "id": "56b30a25",
   "metadata": {},
   "source": [
    "# 134\n",
    "for문을 풀어서 동일한 동작을하는 코드를 작성하라.\n",
    "\n",
    "for 변수 in [\"A\", \"B\", \"C\"]:\\\n",
    "  print(\"출력:\", 변수)"
   ]
  },
  {
   "cell_type": "code",
   "execution_count": 19,
   "id": "05371621",
   "metadata": {},
   "outputs": [
    {
     "name": "stdout",
     "output_type": "stream",
     "text": [
      "출력: A\n",
      "출력: B\n",
      "출력: C\n"
     ]
    }
   ],
   "source": [
    "print(\"출력:\", \"A\")\n",
    "print(\"출력:\", \"B\")\n",
    "print(\"출력:\", \"C\")"
   ]
  },
  {
   "cell_type": "markdown",
   "id": "d78ba0b4",
   "metadata": {},
   "source": [
    "# 135\n",
    "for문을 풀어서 동일한 동작을 하는 코드를 작성하라.\n",
    "\n",
    "for 변수 in [\"A\", \"B\", \"C\"]:\\\n",
    "  b = 변수.lower()\\\n",
    "  print(\"변환:\", b)"
   ]
  },
  {
   "cell_type": "code",
   "execution_count": 20,
   "id": "47ed07a2",
   "metadata": {},
   "outputs": [
    {
     "name": "stdout",
     "output_type": "stream",
     "text": [
      "변환: a\n",
      "변환: b\n",
      "변환: c\n"
     ]
    }
   ],
   "source": [
    "변수 = \"A\"\n",
    "b = 변수.lower()\n",
    "print(\"변환:\", b)\n",
    "변수 = \"B\"\n",
    "b = 변수.lower()\n",
    "print(\"변환:\", b)\n",
    "변수 = \"C\"\n",
    "b = 변수.lower()\n",
    "print(\"변환:\", b)"
   ]
  },
  {
   "cell_type": "markdown",
   "id": "ebbc50f2",
   "metadata": {},
   "source": [
    "# 136\n",
    "다음 코드를 for문으로 작성하라.\n",
    "\n",
    "변수 = 10\\\n",
    "print(변수)\\\n",
    "변수 = 20\\\n",
    "print(변수)\\\n",
    "변수 = 30\\\n",
    "print(변수)"
   ]
  },
  {
   "cell_type": "code",
   "execution_count": 21,
   "id": "0e545e33",
   "metadata": {},
   "outputs": [
    {
     "name": "stdout",
     "output_type": "stream",
     "text": [
      "10\n",
      "20\n",
      "30\n"
     ]
    }
   ],
   "source": [
    "for 변수 in [10,20,30]:\n",
    "    print(변수)"
   ]
  },
  {
   "cell_type": "markdown",
   "id": "a6eba4af",
   "metadata": {},
   "source": [
    "# 137\n",
    "다음 코드를 for문으로 작성하라.\n",
    "\n",
    "print(10)\\\n",
    "print(20)\\\n",
    "print(30)"
   ]
  },
  {
   "cell_type": "code",
   "execution_count": 22,
   "id": "fe9357f6",
   "metadata": {},
   "outputs": [
    {
     "name": "stdout",
     "output_type": "stream",
     "text": [
      "10\n",
      "20\n",
      "30\n"
     ]
    }
   ],
   "source": [
    "for 변수 in [10, 20, 30]:\n",
    "  print(변수)"
   ]
  },
  {
   "cell_type": "markdown",
   "id": "502bc80e",
   "metadata": {},
   "source": [
    "# 138\n",
    "다음 코드를 for문으로 작성하라.\n",
    "\n",
    "print(10)\\\n",
    "print(\"-------\")\\\n",
    "print(20)\\\n",
    "print(\"-------\")\\\n",
    "print(30)\\\n",
    "print(\"-------\")"
   ]
  },
  {
   "cell_type": "code",
   "execution_count": 23,
   "id": "38fe0590",
   "metadata": {},
   "outputs": [
    {
     "name": "stdout",
     "output_type": "stream",
     "text": [
      "10\n",
      "-------\n",
      "20\n",
      "-------\n",
      "30\n",
      "-------\n"
     ]
    }
   ],
   "source": [
    "for 변수 in [10,20,30]:\n",
    "    print(변수)\n",
    "    print(\"-------\")"
   ]
  },
  {
   "cell_type": "markdown",
   "id": "6c27bbc7",
   "metadata": {},
   "source": [
    "# 139\n",
    "다음 코드를 for문으로 작성하라.\n",
    "\n",
    "print(\"++++\")\\\n",
    "print(10)\\\n",
    "print(20)\\\n",
    "print(30)"
   ]
  },
  {
   "cell_type": "code",
   "execution_count": 24,
   "id": "fe02ce6a",
   "metadata": {},
   "outputs": [
    {
     "name": "stdout",
     "output_type": "stream",
     "text": [
      "++++\n",
      "10\n",
      "20\n",
      "30\n"
     ]
    }
   ],
   "source": [
    "print(\"++++\")\n",
    "for 변수 in [10,20,30]:\n",
    "    print(변수)"
   ]
  },
  {
   "cell_type": "markdown",
   "id": "c55c7eb6",
   "metadata": {},
   "source": [
    "# 140\n",
    "다음 코드를 for문으로 작성하라.\n",
    "\n",
    "print(\"-------\")\\\n",
    "print(\"-------\")\\\n",
    "print(\"-------\")\\\n",
    "print(\"-------\")"
   ]
  },
  {
   "cell_type": "code",
   "execution_count": 25,
   "id": "7fbf6b74",
   "metadata": {},
   "outputs": [
    {
     "name": "stdout",
     "output_type": "stream",
     "text": [
      "-------\n",
      "-------\n",
      "-------\n",
      "-------\n"
     ]
    }
   ],
   "source": [
    "for i in range(4):\n",
    "    print(\"-------\")"
   ]
  },
  {
   "cell_type": "markdown",
   "id": "4bdd3f35",
   "metadata": {},
   "source": [
    "# 141\n",
    "다음과 같이 판매가가 저장된 리스트가 있을 때 부가세가 포함된 가격을 for 문을 사용해서 화면에 출력하라. 단 부가세는 10원으로 가정한다.\n",
    "\n",
    "리스트 = [100, 200, 300]\\\n",
    "110\\\n",
    "210\\\n",
    "310"
   ]
  },
  {
   "cell_type": "code",
   "execution_count": 26,
   "id": "c01b9091",
   "metadata": {},
   "outputs": [
    {
     "name": "stdout",
     "output_type": "stream",
     "text": [
      "110\n",
      "210\n",
      "310\n"
     ]
    }
   ],
   "source": [
    "리스트 = [100, 200, 300]\n",
    "for l in 리스트:\n",
    "    print(l+10)"
   ]
  },
  {
   "cell_type": "markdown",
   "id": "be857ca0",
   "metadata": {},
   "source": [
    "# 142\n",
    "for 문을 사용해서 리스트에 저장된 값을 다음과 같이 출력하라.\n",
    "\n",
    "리스트 = [\"김밥\", \"라면\", \"튀김\"]\\\n",
    "오늘의 메뉴: 김밥\\\n",
    "오늘의 메뉴: 라면\\\n",
    "오늘의 메뉴: 튀김"
   ]
  },
  {
   "cell_type": "code",
   "execution_count": 31,
   "id": "93971282",
   "metadata": {},
   "outputs": [
    {
     "name": "stdout",
     "output_type": "stream",
     "text": [
      "오늘의 메뉴: 김밥\n",
      "오늘의 메뉴: 라면\n",
      "오늘의 메뉴: 튀김\n"
     ]
    }
   ],
   "source": [
    "리스트 = [\"김밥\", \"라면\", \"튀김\"]\n",
    "for 메뉴 in 리스트:\n",
    "  print(\"오늘의 메뉴:\", 메뉴)"
   ]
  },
  {
   "cell_type": "markdown",
   "id": "a798f820",
   "metadata": {},
   "source": [
    "# 143\n",
    "리스트에 주식 종목이름이 저장돼 있다.\n",
    "\n",
    "리스트 = [\"SK하이닉스\", \"삼성전자\", \"LG전자\"]\\\n",
    "저장된 문자열의 길이를 다음과 같이 출력하라.\n",
    "\n",
    "6\\\n",
    "4\\\n",
    "4"
   ]
  },
  {
   "cell_type": "code",
   "execution_count": 32,
   "id": "0b88b469",
   "metadata": {},
   "outputs": [
    {
     "name": "stdout",
     "output_type": "stream",
     "text": [
      "6\n",
      "4\n",
      "4\n"
     ]
    }
   ],
   "source": [
    "리스트 = [\"SK하이닉스\", \"삼성전자\", \"LG전자\"]\n",
    "for 리스트 in 리스트:\n",
    "    print(len(리스트))"
   ]
  },
  {
   "cell_type": "markdown",
   "id": "787d2c3b",
   "metadata": {},
   "source": [
    "# 144\n",
    "리스트에는 동물이름이 문자열로 저장돼 있다.\n",
    "\n",
    "리스트 = ['dog', 'cat', 'parrot']\\\n",
    "동물 이름과 글자수를 다음과 같이 출력하라.\n",
    "\n",
    "dog 3\\\n",
    "cat 3\\\n",
    "parrot 6"
   ]
  },
  {
   "cell_type": "code",
   "execution_count": 33,
   "id": "e3fb9f95",
   "metadata": {},
   "outputs": [
    {
     "name": "stdout",
     "output_type": "stream",
     "text": [
      "dog 3\n",
      "cat 3\n",
      "parrot 6\n"
     ]
    }
   ],
   "source": [
    "리스트 = ['dog', 'cat', 'parrot']\n",
    "for 리스트 in 리스트:\n",
    "    print(리스트, len(리스트))"
   ]
  },
  {
   "cell_type": "markdown",
   "id": "015a871f",
   "metadata": {},
   "source": [
    "# 145\n",
    "리스트에 동물 이름 저장돼 있다.\n",
    "\n",
    "리스트 = ['dog', 'cat', 'parrot']\\\n",
    "for문을 사용해서 동물 이름의 첫 글자만 출력하라.\n",
    "\n",
    "d\\\n",
    "c\\\n",
    "p"
   ]
  },
  {
   "cell_type": "code",
   "execution_count": 34,
   "id": "77698830",
   "metadata": {},
   "outputs": [
    {
     "name": "stdout",
     "output_type": "stream",
     "text": [
      "d\n",
      "c\n",
      "p\n"
     ]
    }
   ],
   "source": [
    "리스트 = ['dog', 'cat', 'parrot']\n",
    "for 리스트 in 리스트:\n",
    "    print(리스트[0])"
   ]
  },
  {
   "cell_type": "markdown",
   "id": "0089c6b8",
   "metadata": {},
   "source": [
    "# 146\n",
    "리스트에는 세 개의 숫자가 바인딩돼 있다.\n",
    "\n",
    "리스트 = [1, 2, 3]\\\n",
    "for문을 사용해서 다음과 같이 출력하라.\n",
    "\n",
    "3 x 1\\\n",
    "3 x 2\\\n",
    "3 x 3"
   ]
  },
  {
   "cell_type": "code",
   "execution_count": 35,
   "id": "e8832507",
   "metadata": {},
   "outputs": [
    {
     "name": "stdout",
     "output_type": "stream",
     "text": [
      "3 x 1\n",
      "3 x 2\n",
      "3 x 3\n"
     ]
    }
   ],
   "source": [
    "리스트 = [1, 2, 3]\n",
    "for 리스트 in 리스트:\n",
    "    print(\"3 x\",리스트)"
   ]
  },
  {
   "cell_type": "markdown",
   "id": "c6bef804",
   "metadata": {},
   "source": [
    "# 147\n",
    "리스트에는 세 개의 숫자가 바인딩돼 있다.\n",
    "\n",
    "리스트 = [1, 2, 3]\\\n",
    "for문을 사용해서 다음과 같이 출력하라.\n",
    "\n",
    "3 x 1 = 3\\\n",
    "3 x 2 = 6\\\n",
    "3 x 3 = 9"
   ]
  },
  {
   "cell_type": "code",
   "execution_count": 37,
   "id": "e1bca654",
   "metadata": {},
   "outputs": [
    {
     "name": "stdout",
     "output_type": "stream",
     "text": [
      "3 x 1 = 3\n",
      "3 x 2 = 6\n",
      "3 x 3 = 9\n"
     ]
    }
   ],
   "source": [
    "리스트 = [1, 2, 3]\n",
    "for 리스트 in 리스트:\n",
    "    print(\"3 x\", 리스트, \"=\", 3*int(리스트))"
   ]
  },
  {
   "cell_type": "markdown",
   "id": "61dda926",
   "metadata": {},
   "source": [
    "# 148\n",
    "리스트에는 네 개의 문자열이 바인딩돼 있다.\n",
    "\n",
    "리스트 = [\"가\", \"나\", \"다\", \"라\"]\\\n",
    "for문을 사용해서 다음과 같이 출력하라.\n",
    "\n",
    "나\\\n",
    "다\\\n",
    "라"
   ]
  },
  {
   "cell_type": "code",
   "execution_count": 40,
   "id": "e315b3dc",
   "metadata": {},
   "outputs": [
    {
     "name": "stdout",
     "output_type": "stream",
     "text": [
      "나\n",
      "다\n",
      "라\n"
     ]
    }
   ],
   "source": [
    "리스트 = [\"가\", \"나\", \"다\", \"라\"]\n",
    "for 리스트 in 리스트[1:]:\n",
    "    print(리스트)"
   ]
  },
  {
   "cell_type": "markdown",
   "id": "428a359b",
   "metadata": {},
   "source": [
    "# 149\n",
    "리스트에는 네 개의 문자열이 바인딩돼 있다.\n",
    "\n",
    "리스트 = [\"가\", \"나\", \"다\", \"라\"]\\\n",
    "for문을 사용해서 다음과 같이 출력하라.\n",
    "\n",
    "가\\\n",
    "다"
   ]
  },
  {
   "cell_type": "code",
   "execution_count": 43,
   "id": "0d94e511",
   "metadata": {},
   "outputs": [
    {
     "name": "stdout",
     "output_type": "stream",
     "text": [
      "가\n",
      "나\n"
     ]
    }
   ],
   "source": [
    "리스트 = [\"가\", \"나\", \"다\", \"라\"]\n",
    "for 리스트 in 리스트[0:2]:\n",
    "    print(리스트)"
   ]
  },
  {
   "cell_type": "markdown",
   "id": "bab81ddc",
   "metadata": {},
   "source": [
    "# 150\n",
    "리스트에는 네 개의 문자열이 바인딩돼 있다.\n",
    "\n",
    "리스트 = [\"가\", \"나\", \"다\", \"라\"]\\\n",
    "for문을 사용해서 다음과 같이 출력하라.\n",
    "\n",
    "라\\\n",
    "다\\\n",
    "나\\\n",
    "가"
   ]
  },
  {
   "cell_type": "code",
   "execution_count": 46,
   "id": "25821dfc",
   "metadata": {},
   "outputs": [
    {
     "name": "stdout",
     "output_type": "stream",
     "text": [
      "라\n",
      "다\n",
      "나\n",
      "가\n"
     ]
    }
   ],
   "source": [
    "리스트 = [\"가\", \"나\", \"다\", \"라\"]\n",
    "for 리스트 in 리스트[::-1]:\n",
    "    print(리스트)"
   ]
  },
  {
   "cell_type": "markdown",
   "id": "1935561b",
   "metadata": {},
   "source": [
    "--- seYi"
   ]
  }
 ],
 "metadata": {
  "kernelspec": {
   "display_name": "python3_7_6",
   "language": "python",
   "name": "py3_7_6"
  },
  "language_info": {
   "codemirror_mode": {
    "name": "ipython",
    "version": 3
   },
   "file_extension": ".py",
   "mimetype": "text/x-python",
   "name": "python",
   "nbconvert_exporter": "python",
   "pygments_lexer": "ipython3",
   "version": "3.7.6"
  }
 },
 "nbformat": 4,
 "nbformat_minor": 5
}
