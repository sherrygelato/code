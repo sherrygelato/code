{
 "cells": [
  {
   "cell_type": "markdown",
   "id": "a3529a93",
   "metadata": {},
   "source": [
    "파이썬 머신러닝 판다스 데이터분석\n",
    "\n",
    "\n",
    "# Part 1. 판다스 입문\n",
    "## 1. 판다스란?\n",
    "- 2008년 금융 데이터 분석용으로 개발되었다. \n",
    "- 오프 소스 커뮤니티를 통해 발전하고 있으며,통계와 데이터 과학, 머신러닝 분야에서 가장 중요한 소프트웨어로 성장하였다. \n",
    "- 파이썬을 기반으로 하며, 데이터를 수집하고 정리하는데 최적화된 도구다.\n",
    "- 판다스를 배우면 데이터 과학의 80~90% 업무를 처리할 수 있다.\n",
    "\n",
    "\n",
    "## 2. 판다스 자료 구조\n",
    "- 데이터 형식: 구조화된 Series시리즈(1차원 배열)와 DataFrame데이터프레임(2차원 배열)\n",
    "- 라이브러리: 여러 종류의 Class(시리즈, 데이터프레임)와 다양한 내장 함수(Series(), DataFrame(), read_csv(), read_excel() 등)으로 구성되어있다.\n",
    "- 서로 다른 종류의 데이터를 한 곳에 담는 그릇(컨테이너)이 된다. \n",
    "- 서로 다른 여러 가지 유형의 데이터를 공통의 포맷으로 정리한다.\n",
    "- 행과 열로 이루어진 2차원 구조의 데이터프레임은 데이터 분석 실무에서 자주 사용된다.\n",
    "\n",
    "### (1) 시리즈\n",
    "- 데이터가 순차적으로 나열된 1차원 배열\n",
    "- index와 value가 일대일 대응으로 {k:v} 형태이며, 파이션 딕셔너리와 비슷한 구조다.\n",
    "\n",
    "#### - 시리즈 만들기\n",
    "- 딕셔너리->시리즈: 시리즈 = pd.Series(딕셔너리)\n",
    "\n",
    "##### 1.1_dict_to_series.py"
   ]
  },
  {
   "cell_type": "code",
   "execution_count": 1,
   "id": "30257990",
   "metadata": {},
   "outputs": [
    {
     "name": "stdout",
     "output_type": "stream",
     "text": [
      "<class 'pandas.core.series.Series'>\n",
      "\n",
      "\n",
      "a    1\n",
      "b    2\n",
      "c    3\n",
      "dtype: int64\n"
     ]
    }
   ],
   "source": [
    "# -*- coding: utf-8 -*-\n",
    "\n",
    "# pandas 불러오기 \n",
    "import pandas as pd # as pd로 약칭 사용하기\n",
    "\n",
    "# k:v 구조를 갖는 딕셔너리를 만들고, 변수 dict_data에 저장\n",
    "dict_data = {'a': 1, 'b': 2, 'c': 3}\n",
    "\n",
    "# Series() 함수로 딕셔너리(dict_data)를 시리즈로 변환. 변수 sr에 저장 \n",
    "sr = pd.Series(dict_data)\n",
    "\n",
    "# 변수 sr의 자료형 출력\n",
    "print(type(sr))\n",
    "print('\\n') # 한 줄 띄우기\n",
    "\n",
    "# 변수 sr에 저장되어 있는 시리즈 객체를 출력\n",
    "print(sr) # 인덱스는 왼쪽, 값은 오른쪾"
   ]
  },
  {
   "cell_type": "markdown",
   "id": "a57d408e",
   "metadata": {},
   "source": [
    "#### - 인덱스 구조\n",
    "- 인덱스는 자기와 짝을 이루는 데이터의 값의 순서와 주소를 저장한다.\n",
    "    - 딕셔너리와 다른 점은, 딕셔너리는 키값으로 접근하는 것에 반해, 시리즈는 인덱스로 접근한다.\n",
    "- 인덱스로 데이터 값의 탐색, 정렬, 선택, 결합 등 조작을 할 수 있다.\n",
    "- 인덱스의 두 가지 종류\n",
    "    - 1) 정수형 위치 인덱스 (0,1,2,...)\n",
    "    - 2) 인덱스 이름 또는 인덱스 라벨 (따옴표 필요)\n",
    "- 인덱스 배열: 시리즈.index\n",
    "- 데이터 값 배열: 시리즈.values\n",
    "\n",
    "\n",
    "##### 1.2_series_index.py"
   ]
  },
  {
   "cell_type": "code",
   "execution_count": 2,
   "id": "682faa52",
   "metadata": {},
   "outputs": [
    {
     "name": "stdout",
     "output_type": "stream",
     "text": [
      "0    2019-01-02\n",
      "1          3.14\n",
      "2           ABC\n",
      "3           100\n",
      "4          True\n",
      "dtype: object\n"
     ]
    }
   ],
   "source": [
    "# 리스트를 시리즈로 변환하여 변수 sr에 저장\n",
    "# 리스트를 시리즈로 변환할 때는 딕셔너리의 키처럼 인덱스로 변환될 값이 없다. \n",
    "# 인덱스를 별도로 정의하지 않으면, 디폴트로 정수형 위치 인덱스가 자동으로 지정된다.\n",
    "list_data = ['2019-01-02', 3.14, 'ABC', 100, True]\n",
    "sr = pd.Series(list_data)\n",
    "print(sr)"
   ]
  },
  {
   "cell_type": "code",
   "execution_count": 3,
   "id": "2beaf5e6",
   "metadata": {},
   "outputs": [
    {
     "name": "stdout",
     "output_type": "stream",
     "text": [
      "RangeIndex(start=0, stop=5, step=1)\n",
      "\n",
      "\n",
      "['2019-01-02' 3.14 'ABC' 100 True]\n"
     ]
    }
   ],
   "source": [
    "# 인덱스 배열은 변수 idx에 저장. 데이터 값 배열은 변수 val에 저장\n",
    "idx = sr.index\n",
    "val = sr.values\n",
    "print(idx)\n",
    "print('\\n')\n",
    "print(val)"
   ]
  },
  {
   "cell_type": "markdown",
   "id": "821fcf75",
   "metadata": {},
   "source": [
    "#### - 원소 선택\n",
    "- 인덱스를 이용하여 시리즈의 원소를 선택한다. 하나 또는 다수를 한꺼번에 선택이 가능하다.\n",
    "- 대괄호[] 안에 인덱스를 입력한다.\n",
    "\n",
    "\n",
    "##### 1.3_series_element.py"
   ]
  },
  {
   "cell_type": "code",
   "execution_count": 4,
   "id": "45d3c9da",
   "metadata": {},
   "outputs": [
    {
     "name": "stdout",
     "output_type": "stream",
     "text": [
      "이름              영인\n",
      "생년월일    2010-05-01\n",
      "성별               여\n",
      "학생여부          True\n",
      "dtype: object\n"
     ]
    }
   ],
   "source": [
    "# 투플은 한번 묶었으면 변경이 불가능한 특징이 있다.\n",
    "# 투플을 시리즈로 변환\n",
    "\n",
    "# 투플은 딕셔너리 키에 해당하는 값이 없기 때문에 정수형 위치 인덱스가 자동 지정된다.\n",
    "# index 옵션에 인덱스 이름을 지정할 수 있다.\n",
    "tup_data = ('영인', '2010-05-01', '여', True)\n",
    "sr = pd.Series(tup_data, index=['이름', '생년월일', '성별', '학생여부'])\n",
    "print(sr)"
   ]
  },
  {
   "cell_type": "code",
   "execution_count": 5,
   "id": "8e58e407",
   "metadata": {},
   "outputs": [
    {
     "name": "stdout",
     "output_type": "stream",
     "text": [
      "영인\n",
      "영인\n"
     ]
    }
   ],
   "source": [
    "# 원소를 1개 선택\n",
    "print(sr[0])       # 정수형 위치 인덱스\n",
    "print('\\n') \n",
    "print(sr['이름'])  #인덱스 이름 또는 인덱스 라벨"
   ]
  },
  {
   "cell_type": "code",
   "execution_count": 6,
   "id": "15f9e045",
   "metadata": {},
   "outputs": [
    {
     "name": "stdout",
     "output_type": "stream",
     "text": [
      "생년월일    2010-05-01\n",
      "성별               여\n",
      "dtype: object\n",
      "\n",
      "\n",
      "생년월일    2010-05-01\n",
      "성별               여\n",
      "dtype: object\n"
     ]
    }
   ],
   "source": [
    "# 여러 개의 원소를 선택 (인덱스 리스트)\n",
    "print(sr[[1, 2]]) \n",
    "print('\\n')           \n",
    "print(sr[['생년월일', '성별']])"
   ]
  },
  {
   "cell_type": "code",
   "execution_count": 7,
   "id": "dc7a2b4f",
   "metadata": {},
   "outputs": [
    {
     "name": "stdout",
     "output_type": "stream",
     "text": [
      "생년월일    2010-05-01\n",
      "dtype: object\n",
      "\n",
      "\n",
      "생년월일    2010-05-01\n",
      "성별               여\n",
      "dtype: object\n"
     ]
    }
   ],
   "source": [
    "# 여러 개의 원소를 선택 (인덱스 범위 지정: 슬라이싱)\n",
    "print(sr[1 : 2])  \n",
    "print('\\n')              \n",
    "print(sr['생년월일':'성별'])"
   ]
  },
  {
   "cell_type": "markdown",
   "id": "c636d080",
   "metadata": {},
   "source": [
    "### (2) 데이터프레임\n",
    "- 데이터프레임은 행과 열로 만들어지는 2차원 배열이며, R의 데이터프레임에서 유래했다.\n",
    "- 데이터프레임의 열은 각각 시리즈 객체이다.\n",
    "    - 시리즈를 열벡터라고 하면, 데이터프레임은 여러 개의 열벡터들이 같은 행 인덱스를 기준으로 줄지어 결합된 2차원 백터 또는 행렬이다.\n",
    "- 행 인덱스와 열 이름 또는 열 라벨로 구분한다.\n",
    "    - 행: __개별 관측대상__ 에 대한 다양한 속성 데이터들의 모음인 __레코드__ (관측값)\n",
    "    - 열: 공통의 __속성__ 을 갖는 일련의 데이터. (속성, 범주, 변수)\n",
    "    \n",
    "\n",
    "#### - 데이터프레임 만들기\n",
    "- 원소의 개수가 동일한 1차원의 배열 여러 개(시리즈, 즉 열)을 모아 놓은 집합이다.\n",
    "- 딕셔너리->데이터프레임: df = pd.DataFrame(딕셔너리)\n",
    "\n",
    "\n",
    "##### 1.4_dict_to_dataframe.py"
   ]
  },
  {
   "cell_type": "code",
   "execution_count": 8,
   "id": "8bd2b764",
   "metadata": {},
   "outputs": [
    {
     "name": "stdout",
     "output_type": "stream",
     "text": [
      "<class 'pandas.core.frame.DataFrame'>\n",
      "\n",
      "\n",
      "   c0  c1  c2  c3  c4\n",
      "0   1   4   7  10  13\n",
      "1   2   5   8  11  14\n",
      "2   3   6   9  12  15\n"
     ]
    }
   ],
   "source": [
    "# 열 이름을 key로 하고, 리스트를 value로 갖는 딕셔너리 정의 (2차원 배열)\n",
    "dict_data = {'c0':[1,2,3], 'c1':[4,5,6], 'c2':[7,8,9], 'c3':[10,11,12], 'c4':[13,14,15]}\n",
    "\n",
    "# DataFrame() 함수로 딕셔너리를 데이터프레임으로 변환하고 변수 df에 저장\n",
    "df = pd.DataFrame(dict_data)\n",
    "\n",
    "# df의 자료형 출력\n",
    "print(type(df)) \n",
    "print('\\n')\n",
    "# 변수 df에 저장되어 있는 데이터프레임 객체를 출력\n",
    "print(df)"
   ]
  },
  {
   "cell_type": "markdown",
   "id": "5abb70ec",
   "metadata": {},
   "source": [
    "#### - 행 인덱스 / 열 이름 설정\n",
    "- 1) 행 인덱스 / 열 이름 설정: \n",
    "    - df = pd.DataFrame(2차원 배열의 리스트(투플), index=행 인덱스 배열, columns=열 이름 배열)\n",
    "    - index, columns 옵션\n",
    "\n",
    "\n",
    "##### 1.5_change_df_idx_col.py"
   ]
  },
  {
   "cell_type": "code",
   "execution_count": 9,
   "id": "64d7844b",
   "metadata": {},
   "outputs": [
    {
     "name": "stdout",
     "output_type": "stream",
     "text": [
      "    나이 성별   학교\n",
      "준서  15  남  덕영중\n",
      "예은  17  여  수리중\n",
      "\n",
      "\n",
      "Index(['준서', '예은'], dtype='object')\n",
      "\n",
      "\n",
      "Index(['나이', '성별', '학교'], dtype='object')\n"
     ]
    }
   ],
   "source": [
    "# 행 인덱스/열 이름 지정하여, 데이터프레임 만들기\n",
    "df = pd.DataFrame([[15, '남', '덕영중'], [17, '여', '수리중']], \n",
    "                   index=['준서', '예은'], # 2행\n",
    "                   columns=['나이', '성별', '학교']) # 3열\n",
    "\n",
    "# 행 인덱스, 열 이름 확인하기\n",
    "print(df)            #데이터프레임\n",
    "print('\\n')\n",
    "print(df.index)      #행 인덱스\n",
    "print('\\n')\n",
    "print(df.columns)    #열 이름"
   ]
  },
  {
   "cell_type": "markdown",
   "id": "10039577",
   "metadata": {},
   "source": [
    "- 2) 새로운 배열 할당하여 행 인덱스와 열 이름 변경:\n",
    "    - 행 인덱스 변경: df.index = 새로운 행 인덱스 배열\n",
    "    - 열 이름 변경: df.columns = 새로운 열 이름 배열"
   ]
  },
  {
   "cell_type": "code",
   "execution_count": 10,
   "id": "5938646b",
   "metadata": {},
   "outputs": [
    {
     "name": "stdout",
     "output_type": "stream",
     "text": [
      "     연령 남녀   소속\n",
      "학생1  15  남  덕영중\n",
      "학생2  17  여  수리중\n",
      "\n",
      "\n",
      "Index(['학생1', '학생2'], dtype='object')\n",
      "\n",
      "\n",
      "Index(['연령', '남녀', '소속'], dtype='object')\n"
     ]
    }
   ],
   "source": [
    "# 행 인덱스, 열 이름 변경하기\n",
    "df.index=['학생1', '학생2']\n",
    "df.columns=['연령', '남녀', '소속']\n",
    "\n",
    "print(df)            #데이터프레임\n",
    "print('\\n')\n",
    "print(df.index)      #행 인덱스\n",
    "print('\\n')\n",
    "print(df.columns)    #열 이름"
   ]
  },
  {
   "cell_type": "markdown",
   "id": "a6cb8dbe",
   "metadata": {},
   "source": [
    "- 3) rename()으로 행 인덱스 또는 열 이름의 일부를 선택하여 변경:\n",
    "    - 행 인덱스 변경: df.rename(index = {기존 인덱스:새 인덱스})\n",
    "    - 열 이름 변경: df.rename(columns = {기존 이름: 새 이름})\n",
    "    \n",
    "    \n",
    "    - 단, 원본 객체를 직접 수정하는 게 아니라 새 객체를 반환하는 것이므로\n",
    "    - 원본 객체 변경하려면 inplace=True 옵션 사용한다. (원본 덮어씌우기, 업그레이드하거나 이 옵션을 씀)\n",
    "    \n",
    "    \n",
    "##### 1.6_change_df_idx_col2.py"
   ]
  },
  {
   "cell_type": "code",
   "execution_count": 11,
   "id": "2f72dad0",
   "metadata": {},
   "outputs": [
    {
     "name": "stdout",
     "output_type": "stream",
     "text": [
      "    나이 성별   학교\n",
      "준서  15  남  덕영중\n",
      "예은  17  여  수리중\n"
     ]
    }
   ],
   "source": [
    "# 행 인덱스/열 이름 지정하여, 데이터프레임 만들기\n",
    "df = pd.DataFrame([[15, '남', '덕영중'], [17, '여', '수리중']], \n",
    "                   index=['준서', '예은'],\n",
    "                   columns=['나이', '성별', '학교'])\n",
    "\n",
    "# 데이터프레임 df 출력\n",
    "print(df)"
   ]
  },
  {
   "cell_type": "code",
   "execution_count": 12,
   "id": "32cd960d",
   "metadata": {},
   "outputs": [
    {
     "name": "stdout",
     "output_type": "stream",
     "text": [
      "     연령 남녀   소속\n",
      "학생1  15  남  덕영중\n",
      "학생2  17  여  수리중\n"
     ]
    }
   ],
   "source": [
    "# 열 이름 중, '나이'를 '연령'으로, '성별'을 '남녀'로, '학교'를 '소속'으로 바꾸기\n",
    "df.rename(columns={'나이':'연령', '성별':'남녀', '학교':'소속'}, inplace=True)\n",
    "\n",
    "# df의 행 인덱스 중에서, '준서'를 '학생1'로, '예은'을 '학생2'로 바꾸기\n",
    "df.rename(index={'준서':'학생1', '예은':'학생2' }, inplace=True)\n",
    "\n",
    "# df 출력(변경 후)\n",
    "print(df)"
   ]
  },
  {
   "cell_type": "markdown",
   "id": "d1d5c95a",
   "metadata": {},
   "source": [
    "#### - 행 / 열 삭제\n",
    "- drop()을 사용하는데, \n",
    "    - 행을 삭제할 때: 옵션 axis = 0 또는 입력x(default가 행 기준)\n",
    "    - 열을 삭제할 때: 옵션 axis = 1\n",
    "    - 여러 개 삭제할 때: 리스트 형태로 입력\n",
    "    - 원본 객체를 직접 변경할 때: inplace=True 옵션 추가(False면 새로운 객체 생성, 원 객체는 유지)\n",
    "    \n",
    "    \n",
    "    - 행 삭제: df.drop(행 인덱스 또는 배열, axis=0)\n",
    "    - 열 삭제: df.drop(열 이름 또는 배열, axis=1)\n",
    "    \n",
    "    \n",
    "##### 1.7_remove_row.py"
   ]
  },
  {
   "cell_type": "code",
   "execution_count": 14,
   "id": "fa12c163",
   "metadata": {},
   "outputs": [],
   "source": [
    "# 오류(SettingWithCopyError 발생)\n",
    "pd.set_option('mode.chained_assignment', 'raise') # SettingWithCopyError\n",
    "\n",
    "# 경고(SettingWithCopyWarning 발생, 기본 값입니다)\n",
    "pd.set_option('mode.chained_assignment', 'warn') # SettingWithCopyWarning\n",
    "\n",
    "# 무시\n",
    "pd.set_option('mode.chained_assignment',  None) # <==== 경고를 끈다"
   ]
  },
  {
   "cell_type": "code",
   "execution_count": 15,
   "id": "69db5aa1",
   "metadata": {
    "scrolled": true
   },
   "outputs": [
    {
     "name": "stdout",
     "output_type": "stream",
     "text": [
      "    수학  영어   음악   체육\n",
      "서준  90  98   85  100\n",
      "우현  80  89   95   90\n",
      "인아  70  95  100   90\n",
      "\n",
      "\n",
      "    수학  영어   음악   체육\n",
      "서준  90  98   85  100\n",
      "인아  70  95  100   90\n",
      "\n",
      "\n",
      "    수학  영어  음악   체육\n",
      "서준  90  98  85  100\n"
     ]
    }
   ],
   "source": [
    "# DataFrame() 함수로 데이터프레임 변환. 변수 df에 저장 \n",
    "exam_data = {'수학' : [ 90, 80, 70], '영어' : [ 98, 89, 95],\n",
    "             '음악' : [ 85, 95, 100], '체육' : [ 100, 90, 90]}\n",
    "\n",
    "df = pd.DataFrame(exam_data, index=['서준', '우현', '인아'])\n",
    "print(df)\n",
    "print('\\n')\n",
    "\n",
    "# 데이터프레임 df를 복제[:]하여 변수 df2에 저장. df2의 1개 행(row)을 삭제\n",
    "df2 = df[:]\n",
    "df2.drop('우현', inplace=True)\n",
    "print(df2)\n",
    "print('\\n')\n",
    "\n",
    "# 데이터프레임 df를 복제하여 변수 df3에 저장. df3의 2개 행(row)을 삭제\n",
    "df3 = df[:]\n",
    "df3.drop(['우현', '인아'], axis=0, inplace=True)\n",
    "print(df3)"
   ]
  },
  {
   "cell_type": "markdown",
   "id": "cd9ca7bc",
   "metadata": {},
   "source": [
    "##### 1.8_remove_column.py"
   ]
  },
  {
   "cell_type": "code",
   "execution_count": 16,
   "id": "39d5b0a2",
   "metadata": {},
   "outputs": [
    {
     "name": "stdout",
     "output_type": "stream",
     "text": [
      "    수학  영어   음악   체육\n",
      "서준  90  98   85  100\n",
      "우현  80  89   95   90\n",
      "인아  70  95  100   90\n",
      "\n",
      "\n",
      "    영어   음악   체육\n",
      "서준  98   85  100\n",
      "우현  89   95   90\n",
      "인아  95  100   90\n",
      "\n",
      "\n",
      "    수학   체육\n",
      "서준  90  100\n",
      "우현  80   90\n",
      "인아  70   90\n"
     ]
    }
   ],
   "source": [
    "# DataFrame() 함수로 데이터프레임 변환. 변수 df에 저장 \n",
    "exam_data = {'수학' : [ 90, 80, 70], '영어' : [ 98, 89, 95],\n",
    "             '음악' : [ 85, 95, 100], '체육' : [ 100, 90, 90]}\n",
    "\n",
    "df = pd.DataFrame(exam_data, index=['서준', '우현', '인아'])\n",
    "print(df)\n",
    "print('\\n')\n",
    "\n",
    "# 데이터프레임 df를 복제하여 변수 df4에 저장. df4의 1개 열(column)을 삭제\n",
    "df4 = df[:]\n",
    "df4.drop('수학', axis=1, inplace=True)\n",
    "print(df4)\n",
    "print('\\n')\n",
    "\n",
    "# 데이터프레임 df를 복제하여 변수 df5에 저장. df5의 2개 열(column)을 삭제\n",
    "df5 = df[:]\n",
    "df5.drop(['영어', '음악'], axis=1, inplace=True)\n",
    "print(df5)"
   ]
  },
  {
   "cell_type": "markdown",
   "id": "8711dd9a",
   "metadata": {},
   "source": [
    "--- seYi"
   ]
  }
 ],
 "metadata": {
  "kernelspec": {
   "display_name": "python3_7_6",
   "language": "python",
   "name": "py3_7_6"
  },
  "language_info": {
   "codemirror_mode": {
    "name": "ipython",
    "version": 3
   },
   "file_extension": ".py",
   "mimetype": "text/x-python",
   "name": "python",
   "nbconvert_exporter": "python",
   "pygments_lexer": "ipython3",
   "version": "3.7.6"
  }
 },
 "nbformat": 4,
 "nbformat_minor": 5
}
