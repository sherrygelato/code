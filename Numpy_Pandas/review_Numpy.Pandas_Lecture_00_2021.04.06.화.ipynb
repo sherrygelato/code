{
 "cells": [
  {
   "cell_type": "markdown",
   "id": "f430907e",
   "metadata": {},
   "source": [
    "numpy.pdf\n",
    "\n",
    "\n",
    "# [Numpy] 01. Numpy(넘파이) 란?\n",
    "\n",
    "\n",
    "## 1. Numpy(넘파이) 란?\n",
    "- 고성능의 수치 계산을 하기 위해 만들어진 Python(파이썬)의 핵심 라이브러리다.\n",
    "- 다차원 배열을 효과적으로 다루기 위해 ndarray를 사용한다.\n",
    "- 벡터화 연산을 지원하기 때문에 반복문을 사용하지 않고도 배열의 모든 원소에 대해 반복 연산이 가능하다.\n",
    "- 브로드캐스팅을 지원하기 때문에 배열 간 연산을 하는데 배열의 크기가 서로 다르더라도 크기가 작은 배열을 자동으로 반복 확장하여 크기가 큰 배열에 맞추어 연산이 가능하다.\n",
    "\n",
    " \n",
    "## 2. ndarray 란?\n",
    "- N-Dimesional Array\n",
    "- 차원(ndim), 자료형(dtype), 모양(shape), 크기(size) 등 멤버 변수를 포함한다.\n",
    "\n",
    "\n",
    "- ndarray의 차원은 1차원(1D), 2차원(2D), ... n차원(nD) 등\n",
    "- 일반적으로 1차원~ 4차원까지 많이 사용한다.\n",
    "- ndarray.ndim 변수로 차원을 확인한다.\n",
    "- 예) 1차원의 배열(행), 2행 3열, 2채널의 4행 2열, 3묶음(?)의 2채널의 4행 2열"
   ]
  },
  {
   "cell_type": "code",
   "execution_count": 1,
   "id": "operational-poland",
   "metadata": {},
   "outputs": [],
   "source": [
    "import numpy as np # numpy 모듈 불러오기"
   ]
  },
  {
   "cell_type": "code",
   "execution_count": 2,
   "id": "editorial-mountain",
   "metadata": {},
   "outputs": [
    {
     "data": {
      "text/plain": [
       "array([1, 2, 3, 4])"
      ]
     },
     "execution_count": 2,
     "metadata": {},
     "output_type": "execute_result"
    }
   ],
   "source": [
    "nd1 = np.array([1,2,3,4]) # ndarray 생성\n",
    "nd1"
   ]
  },
  {
   "cell_type": "code",
   "execution_count": 3,
   "id": "present-beauty",
   "metadata": {},
   "outputs": [
    {
     "data": {
      "text/plain": [
       "1"
      ]
     },
     "execution_count": 3,
     "metadata": {},
     "output_type": "execute_result"
    }
   ],
   "source": [
    "nd1.ndim    # ndim: 차원"
   ]
  },
  {
   "cell_type": "code",
   "execution_count": 4,
   "id": "printable-george",
   "metadata": {},
   "outputs": [
    {
     "data": {
      "text/plain": [
       "numpy.ndarray"
      ]
     },
     "execution_count": 4,
     "metadata": {},
     "output_type": "execute_result"
    }
   ],
   "source": [
    "type(nd1) # 타입 확인"
   ]
  },
  {
   "cell_type": "code",
   "execution_count": 5,
   "id": "russian-technical",
   "metadata": {},
   "outputs": [
    {
     "data": {
      "text/plain": [
       "array([[1, 2, 3],\n",
       "       [4, 5, 6]])"
      ]
     },
     "execution_count": 5,
     "metadata": {},
     "output_type": "execute_result"
    }
   ],
   "source": [
    "nd2 = np.array([[1,2,3],[4,5,6]]) # 리스트 안의 리스트 (리스트 내포)\n",
    "nd2 # 출력 시 행과 열 구조라고 보여줌"
   ]
  },
  {
   "cell_type": "code",
   "execution_count": 6,
   "id": "piano-karen",
   "metadata": {},
   "outputs": [
    {
     "data": {
      "text/plain": [
       "2"
      ]
     },
     "execution_count": 6,
     "metadata": {},
     "output_type": "execute_result"
    }
   ],
   "source": [
    "nd2.ndim # number of dimension"
   ]
  },
  {
   "cell_type": "code",
   "execution_count": 7,
   "id": "pursuant-corpus",
   "metadata": {},
   "outputs": [
    {
     "data": {
      "text/plain": [
       "numpy.ndarray"
      ]
     },
     "execution_count": 7,
     "metadata": {},
     "output_type": "execute_result"
    }
   ],
   "source": [
    "type(nd1)"
   ]
  },
  {
   "cell_type": "code",
   "execution_count": 8,
   "id": "ancient-outreach",
   "metadata": {},
   "outputs": [
    {
     "data": {
      "text/plain": [
       "numpy.ndarray"
      ]
     },
     "execution_count": 8,
     "metadata": {},
     "output_type": "execute_result"
    }
   ],
   "source": [
    "type(nd2)"
   ]
  },
  {
   "cell_type": "code",
   "execution_count": 9,
   "id": "satellite-vertical",
   "metadata": {},
   "outputs": [],
   "source": [
    "nd3 = np.array([[[1, 2, 3, 4],\n",
    "               [5, 6, 7, 8],\n",
    "               [9, 10, 11, 12]],\n",
    "              [[11, 12, 13, 14],\n",
    "               [15, 16, 17, 18],\n",
    "               [19, 20, 21, 22]]])\n",
    "# 실제 인덱스 [채널, 행, 열]"
   ]
  },
  {
   "cell_type": "code",
   "execution_count": 10,
   "id": "monthly-faculty",
   "metadata": {},
   "outputs": [
    {
     "name": "stdout",
     "output_type": "stream",
     "text": [
      "[[[ 1  2  3  4]\n",
      "  [ 5  6  7  8]\n",
      "  [ 9 10 11 12]]\n",
      "\n",
      " [[11 12 13 14]\n",
      "  [15 16 17 18]\n",
      "  [19 20 21 22]]]\n"
     ]
    }
   ],
   "source": [
    "print(nd3)"
   ]
  },
  {
   "cell_type": "code",
   "execution_count": 11,
   "id": "a0a4b161",
   "metadata": {},
   "outputs": [
    {
     "data": {
      "text/plain": [
       "array([[[[ 1,  2],\n",
       "         [ 3,  4]],\n",
       "\n",
       "        [[ 5,  6],\n",
       "         [ 7,  8]]],\n",
       "\n",
       "\n",
       "       [[[ 9, 10],\n",
       "         [11, 12]],\n",
       "\n",
       "        [[13, 14],\n",
       "         [15, 16]]],\n",
       "\n",
       "\n",
       "       [[[17, 18],\n",
       "         [19, 20]],\n",
       "\n",
       "        [[21, 22],\n",
       "         [23, 24]]]])"
      ]
     },
     "execution_count": 11,
     "metadata": {},
     "output_type": "execute_result"
    }
   ],
   "source": [
    "nd4 = np.array([[[[1,2], [3,4]],\n",
    "                 [[5,6],[7,8]]],\n",
    "                [[[9,10],[11,12]],\n",
    "                 [[13,14],[15,16]]],\n",
    "                [[[17,18],[19,20]],\n",
    "                 [[21,22],[23,24]]]])\n",
    "nd4\n",
    "# 인덱스 [묶음, 채널, 행, 열]"
   ]
  },
  {
   "cell_type": "code",
   "execution_count": 12,
   "id": "e523354e",
   "metadata": {},
   "outputs": [
    {
     "data": {
      "text/plain": [
       "4"
      ]
     },
     "execution_count": 12,
     "metadata": {},
     "output_type": "execute_result"
    }
   ],
   "source": [
    "nd4.ndim"
   ]
  },
  {
   "cell_type": "markdown",
   "id": "understood-information",
   "metadata": {},
   "source": [
    "#### 자료형\n",
    "- 넘파이의 배열, ndarray는 원소가 모두 같은 자료형이어야 한다. \n",
    "- 열을 만들 때 자료형을 명시적으로 적용하려면 dtype 옵션을 사용한다. \n",
    "- dtype 지정을 하지 않으면, 주어진 데이터를 저장할 수 있는 자료형을 스스로 유추한다.\n",
    "- Boolean(dtype=bool), int, float, datatime, timedelta(날짜 차이), str, object\n",
    "\n",
    "\n",
    "- ndarray 자료형 확인: print(nd1.dtype)\n",
    "- ndarray 자료형 형변환 : nd1 = nd1.astype(np.int32)\n",
    "- ndarray 자료형 할당"
   ]
  },
  {
   "cell_type": "code",
   "execution_count": 13,
   "id": "be4c2386",
   "metadata": {},
   "outputs": [
    {
     "name": "stdout",
     "output_type": "stream",
     "text": [
      "float64\n"
     ]
    }
   ],
   "source": [
    "nd5 = np.array([1.0, 2.1, 3.0, 4.2]) # float64로 default 할당\n",
    "print(nd5.dtype) # 자료형 확인"
   ]
  },
  {
   "cell_type": "code",
   "execution_count": 14,
   "id": "d727697c",
   "metadata": {},
   "outputs": [
    {
     "name": "stdout",
     "output_type": "stream",
     "text": [
      "int32\n"
     ]
    }
   ],
   "source": [
    "nd6 = np.array([[1, 2, 3], [4, 5, 6]]) # int32로 default 할당\n",
    "print(nd6.dtype)"
   ]
  },
  {
   "cell_type": "code",
   "execution_count": 15,
   "id": "899b9173",
   "metadata": {},
   "outputs": [
    {
     "name": "stdout",
     "output_type": "stream",
     "text": [
      "float32\n"
     ]
    }
   ],
   "source": [
    "nd7 = np.array([[1, 2, 3], [4, 5, 6]], dtype = np.float32)\n",
    "print(nd7.dtype)"
   ]
  },
  {
   "cell_type": "code",
   "execution_count": 16,
   "id": "73a39310",
   "metadata": {},
   "outputs": [
    {
     "name": "stdout",
     "output_type": "stream",
     "text": [
      "float64\n"
     ]
    }
   ],
   "source": [
    "nd8 = np.array([[1, 2, 3], [4, 5, 6]], dtype = 'float64')\n",
    "print(nd8.dtype)"
   ]
  },
  {
   "cell_type": "code",
   "execution_count": 17,
   "id": "1ee9e4a8",
   "metadata": {},
   "outputs": [
    {
     "name": "stdout",
     "output_type": "stream",
     "text": [
      "int32\n"
     ]
    }
   ],
   "source": [
    "# 자료형 형변환\n",
    "nd5 = nd5.astype(np.int32)\n",
    "print(nd5.dtype)"
   ]
  },
  {
   "cell_type": "markdown",
   "id": "15487eb4",
   "metadata": {},
   "source": [
    "## 3. ndarrya의 모양: shape\n",
    "- 머신러닝/딥러닝에서 *입력 데이터의 shape를 맞추고 확인하는 과정*은 매우 중요하다. \n",
    "- ndarray.shape 변수를 이용하여 shape를 확인하고 결과는 튜플(,)로 나온다.\n",
    "- 예) 1차원: (4,), 2차원: (2, 3), 3차원: (2, 4, 3), 4차원: (3, 2, 2, 2)"
   ]
  },
  {
   "cell_type": "code",
   "execution_count": 18,
   "id": "rotary-championship",
   "metadata": {},
   "outputs": [
    {
     "data": {
      "text/plain": [
       "(4,)"
      ]
     },
     "execution_count": 18,
     "metadata": {},
     "output_type": "execute_result"
    }
   ],
   "source": [
    "nd1.shape # (4,1)의 생략임"
   ]
  },
  {
   "cell_type": "code",
   "execution_count": 19,
   "id": "applied-offer",
   "metadata": {},
   "outputs": [
    {
     "data": {
      "text/plain": [
       "(2, 3)"
      ]
     },
     "execution_count": 19,
     "metadata": {},
     "output_type": "execute_result"
    }
   ],
   "source": [
    "nd2.shape"
   ]
  },
  {
   "cell_type": "markdown",
   "id": "f45963d6",
   "metadata": {},
   "source": [
    "## 4. ndarray의 크기: size\n",
    "- ndarray.size 변수로 전체 크기(모든 원수의 갯수)를 알 수 있다.\n",
    "- size: 모든 원소의 갯수이며 shape의 모든 값을 곱한 값\n",
    "- 예) (4,)의 size: 4, (2, 3)의 size: 6, (2, 4, 3)의 size: 24, (3, 2, 2, 2)의 size: 24"
   ]
  },
  {
   "cell_type": "code",
   "execution_count": 20,
   "id": "active-gender",
   "metadata": {},
   "outputs": [
    {
     "data": {
      "text/plain": [
       "6"
      ]
     },
     "execution_count": 20,
     "metadata": {},
     "output_type": "execute_result"
    }
   ],
   "source": [
    "nd2.size"
   ]
  },
  {
   "cell_type": "code",
   "execution_count": 21,
   "id": "valid-portfolio",
   "metadata": {},
   "outputs": [
    {
     "data": {
      "text/plain": [
       "4"
      ]
     },
     "execution_count": 21,
     "metadata": {},
     "output_type": "execute_result"
    }
   ],
   "source": [
    "nd1.size"
   ]
  },
  {
   "cell_type": "markdown",
   "id": "3988e4d3",
   "metadata": {},
   "source": [
    "## 5. ndarray의 reshape\n",
    "- 입력데이터의 shape이 불일치한 경우, 이를 맞추기 위해 reshape 해준다.\n",
    "- 동일 차원 내 변환 및 이종 차원간 변환이 가능한데, 즉 ndarray의 size가 동일해야 reshape이 가능하다는 소리다."
   ]
  },
  {
   "cell_type": "markdown",
   "id": "shared-protocol",
   "metadata": {},
   "source": [
    "## 6. ndarray의 기타 함수\n",
    "- np.zeros(shape) : shape의 모양대로 0으로 채운 ndarray 생성\n",
    "- np.ones(shape) : shape의 모양대로 1으로 채운 ndarray 생성\n",
    "- np.arange(start, stop, step) : 파이썬 range 함수와 동일"
   ]
  },
  {
   "cell_type": "code",
   "execution_count": 22,
   "id": "published-visitor",
   "metadata": {},
   "outputs": [
    {
     "data": {
      "text/plain": [
       "array([[0., 0., 0.],\n",
       "       [0., 0., 0.],\n",
       "       [0., 0., 0.],\n",
       "       [0., 0., 0.]])"
      ]
     },
     "execution_count": 22,
     "metadata": {},
     "output_type": "execute_result"
    }
   ],
   "source": [
    "np.zeros((4,3)) # output: 실수 표현하기에 .이 있는 것"
   ]
  },
  {
   "cell_type": "code",
   "execution_count": 23,
   "id": "prepared-factory",
   "metadata": {},
   "outputs": [
    {
     "data": {
      "text/plain": [
       "array([[1., 1., 1., 1.],\n",
       "       [1., 1., 1., 1.],\n",
       "       [1., 1., 1., 1.]])"
      ]
     },
     "execution_count": 23,
     "metadata": {},
     "output_type": "execute_result"
    }
   ],
   "source": [
    "a = np.ones((3,4))\n",
    "a"
   ]
  },
  {
   "cell_type": "code",
   "execution_count": 24,
   "id": "sized-harrison",
   "metadata": {},
   "outputs": [
    {
     "data": {
      "text/plain": [
       "12"
      ]
     },
     "execution_count": 24,
     "metadata": {},
     "output_type": "execute_result"
    }
   ],
   "source": [
    "a.size"
   ]
  },
  {
   "cell_type": "code",
   "execution_count": 25,
   "id": "professional-original",
   "metadata": {},
   "outputs": [
    {
     "data": {
      "text/plain": [
       "array([ 0,  1,  2,  3,  4,  5,  6,  7,  8,  9, 10, 11])"
      ]
     },
     "execution_count": 25,
     "metadata": {},
     "output_type": "execute_result"
    }
   ],
   "source": [
    "np.arange(12)"
   ]
  },
  {
   "cell_type": "code",
   "execution_count": 26,
   "id": "refined-recommendation",
   "metadata": {},
   "outputs": [
    {
     "data": {
      "text/plain": [
       "array([1, 3, 5, 7, 9])"
      ]
     },
     "execution_count": 26,
     "metadata": {},
     "output_type": "execute_result"
    }
   ],
   "source": [
    "np.arange(1, 10, 2)"
   ]
  },
  {
   "cell_type": "code",
   "execution_count": 27,
   "id": "loose-sustainability",
   "metadata": {},
   "outputs": [
    {
     "data": {
      "text/plain": [
       "array([0, 2, 4, 6, 8])"
      ]
     },
     "execution_count": 27,
     "metadata": {},
     "output_type": "execute_result"
    }
   ],
   "source": [
    "np.arange(0, 10, 2)"
   ]
  },
  {
   "cell_type": "code",
   "execution_count": 28,
   "id": "athletic-belle",
   "metadata": {},
   "outputs": [
    {
     "data": {
      "text/plain": [
       "array([[ 0,  1,  2],\n",
       "       [ 3,  4,  5],\n",
       "       [ 6,  7,  8],\n",
       "       [ 9, 10, 11]])"
      ]
     },
     "execution_count": 28,
     "metadata": {},
     "output_type": "execute_result"
    }
   ],
   "source": [
    "np.arange(12).reshape(4,3)"
   ]
  },
  {
   "cell_type": "code",
   "execution_count": 29,
   "id": "another-morris",
   "metadata": {},
   "outputs": [
    {
     "data": {
      "text/plain": [
       "array([[ 0,  1,  2],\n",
       "       [ 3,  4,  5],\n",
       "       [ 6,  7,  8],\n",
       "       [ 9, 10, 11]])"
      ]
     },
     "execution_count": 29,
     "metadata": {},
     "output_type": "execute_result"
    }
   ],
   "source": [
    "np.arange(12).reshape(4,-1) # 끝자리를 알아서 정리해줌"
   ]
  },
  {
   "cell_type": "code",
   "execution_count": 30,
   "id": "photographic-control",
   "metadata": {},
   "outputs": [
    {
     "data": {
      "text/plain": [
       "array([[ 0,  1,  2,  3,  4,  5,  6,  7,  8,  9, 10, 11]])"
      ]
     },
     "execution_count": 30,
     "metadata": {},
     "output_type": "execute_result"
    }
   ],
   "source": [
    "np.arange(12).reshape(1,-1)"
   ]
  },
  {
   "cell_type": "code",
   "execution_count": 32,
   "id": "piano-small",
   "metadata": {},
   "outputs": [
    {
     "data": {
      "text/plain": [
       "array([[   0,    1,    2, ...,  397,  398,  399],\n",
       "       [ 400,  401,  402, ...,  797,  798,  799],\n",
       "       [ 800,  801,  802, ..., 1197, 1198, 1199]])"
      ]
     },
     "execution_count": 32,
     "metadata": {},
     "output_type": "execute_result"
    }
   ],
   "source": [
    "np.arange(1200).reshape(3, -1)"
   ]
  },
  {
   "cell_type": "markdown",
   "id": "beb7e816",
   "metadata": {},
   "source": [
    "## 7. ndarray의 벡터화 연산\n",
    "- 같은 위치의 값끼리 반복 연산(+, -, x, /) 가능하다.\n",
    "\n",
    "\n",
    "## 8. ndarray의 브로드캐스팅\n",
    "- 연산이 가능한 형태로 reshape한 후 반복된 값으로 자동으로 할당하여 연산한다."
   ]
  },
  {
   "cell_type": "code",
   "execution_count": 33,
   "id": "5a0510f1",
   "metadata": {},
   "outputs": [
    {
     "data": {
      "text/plain": [
       "array([0, 1, 2, 3, 4])"
      ]
     },
     "execution_count": 33,
     "metadata": {},
     "output_type": "execute_result"
    }
   ],
   "source": [
    "# 브로드캐스팅 연산\n",
    "x = np.arange(5)\n",
    "x"
   ]
  },
  {
   "cell_type": "code",
   "execution_count": 34,
   "id": "a4414ecf",
   "metadata": {},
   "outputs": [
    {
     "data": {
      "text/plain": [
       "array([1, 2, 3, 4, 5])"
      ]
     },
     "execution_count": 34,
     "metadata": {},
     "output_type": "execute_result"
    }
   ],
   "source": [
    "x + 1"
   ]
  },
  {
   "cell_type": "code",
   "execution_count": 35,
   "id": "03bfd7af",
   "metadata": {},
   "outputs": [
    {
     "data": {
      "text/plain": [
       "array([1, 1, 1, 1, 1])"
      ]
     },
     "execution_count": 35,
     "metadata": {},
     "output_type": "execute_result"
    }
   ],
   "source": [
    "# 위와 비교할 것\n",
    "x = np.arange(5)\n",
    "y = np.ones_like(x)\n",
    "y"
   ]
  },
  {
   "cell_type": "code",
   "execution_count": 36,
   "id": "a2f32c87",
   "metadata": {},
   "outputs": [
    {
     "data": {
      "text/plain": [
       "array([1, 2, 3, 4, 5])"
      ]
     },
     "execution_count": 36,
     "metadata": {},
     "output_type": "execute_result"
    }
   ],
   "source": [
    "x + y"
   ]
  },
  {
   "cell_type": "markdown",
   "id": "1aaecfbe",
   "metadata": {},
   "source": [
    "참고: [데이터 사이언스 스쿨 파이썬 편](https://datascienceschool.net/01%20python/00.00%20%EC%86%8C%EA%B0%9C%EC%9D%98%20%EA%B8%80.html)"
   ]
  },
  {
   "cell_type": "markdown",
   "id": "e5e2ef45",
   "metadata": {},
   "source": [
    "--- seYi"
   ]
  }
 ],
 "metadata": {
  "kernelspec": {
   "display_name": "python3_7_6",
   "language": "python",
   "name": "py3_7_6"
  },
  "language_info": {
   "codemirror_mode": {
    "name": "ipython",
    "version": 3
   },
   "file_extension": ".py",
   "mimetype": "text/x-python",
   "name": "python",
   "nbconvert_exporter": "python",
   "pygments_lexer": "ipython3",
   "version": "3.7.6"
  }
 },
 "nbformat": 4,
 "nbformat_minor": 5
}
