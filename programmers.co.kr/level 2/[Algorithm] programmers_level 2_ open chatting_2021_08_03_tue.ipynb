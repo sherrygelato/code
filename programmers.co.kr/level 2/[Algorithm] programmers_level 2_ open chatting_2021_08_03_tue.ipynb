{
  "nbformat": 4,
  "nbformat_minor": 0,
  "metadata": {
    "colab": {
      "name": "[programmers] level2 오픈채팅방 2021.08.03.tue_",
      "provenance": [],
      "collapsed_sections": []
    },
    "kernelspec": {
      "name": "python3",
      "display_name": "Python 3"
    },
    "language_info": {
      "name": "python"
    }
  },
  "cells": [
    {
      "cell_type": "markdown",
      "metadata": {
        "id": "6tbtuZpnYBky"
      },
      "source": [
        "https://programmers.co.kr/learn/courses/30/lessons/42888?language=python3\n",
        "\n",
        "# 오픈채팅방\n",
        "\n",
        "\n",
        "### 문제 설명\n",
        "카카오톡 오픈채팅방에서는 친구가 아닌 사람들과 대화를 할 수 있는데, 본래 닉네임이 아닌 가상의 닉네임을 사용하여 채팅방에 들어갈 수 있다.\n",
        "\n",
        "\n",
        "신입사원인 김크루는 카카오톡 오픈 채팅방을 개설한 사람을 위해, 다양한 사람들이 들어오고, 나가는 것을 지켜볼 수 있는 관리자창을 만들기로 했다. 채팅방에 누군가 들어오면 다음 메시지가 출력된다.\n",
        "\n",
        "\n",
        "\"[닉네임]님이 들어왔습니다.\"\n",
        "\n",
        "\n",
        "채팅방에서 누군가 나가면 다음 메시지가 출력된다.\n",
        "\n",
        "\n",
        "\"[닉네임]님이 나갔습니다.\"\n",
        "\n",
        "\n",
        "채팅방에서 닉네임을 변경하는 방법은 다음과 같이 두 가지이다.\n",
        "\n",
        "\n",
        "채팅방을 나간 후, 새로운 닉네임으로 다시 들어간다.\n",
        "채팅방에서 닉네임을 변경한다.\n",
        "닉네임을 변경할 때는 기존에 채팅방에 출력되어 있던 메시지의 닉네임도 전부 변경된다.\n",
        "\n",
        "\n",
        "예를 들어, 채팅방에 \"Muzi\"와 \"Prodo\"라는 닉네임을 사용하는 사람이 순서대로 들어오면 채팅방에는 다음과 같이 메시지가 출력된다.\n",
        "\n",
        "\n",
        "\"Muzi님이 들어왔습니다.\"\n",
        "\"Prodo님이 들어왔습니다.\"\n",
        "\n",
        "\n",
        "채팅방에 있던 사람이 나가면 채팅방에는 다음과 같이 메시지가 남는다.\n",
        "\n",
        "\n",
        "\"Muzi님이 들어왔습니다.\"\n",
        "\"Prodo님이 들어왔습니다.\"\n",
        "\"Muzi님이 나갔습니다.\"\n",
        "\n",
        "\n",
        "Muzi가 나간후 다시 들어올 때, Prodo 라는 닉네임으로 들어올 경우 기존에 채팅방에 남아있던 Muzi도 Prodo로 다음과 같이 변경된다.\n",
        "\n",
        "\n",
        "\"Prodo님이 들어왔습니다.\"\n",
        "\"Prodo님이 들어왔습니다.\"\n",
        "\"Prodo님이 나갔습니다.\"\n",
        "\"Prodo님이 들어왔습니다.\"\n",
        "\n",
        "\n",
        "채팅방은 중복 닉네임을 허용하기 때문에, 현재 채팅방에는 Prodo라는 닉네임을 사용하는 사람이 두 명이 있다. 이제, 채팅방에 두 번째로 들어왔던 Prodo가 Ryan으로 닉네임을 변경하면 채팅방 메시지는 다음과 같이 변경된다.\n",
        "\n",
        "\n",
        "\"Prodo님이 들어왔습니다.\"\n",
        "\"Ryan님이 들어왔습니다.\"\n",
        "\"Prodo님이 나갔습니다.\"\n",
        "\"Prodo님이 들어왔습니다.\"\n",
        "\n",
        "\n",
        "채팅방에 들어오고 나가거나, 닉네임을 변경한 기록이 담긴 문자열 배열 record가 매개변수로 주어질 때, 모든 기록이 처리된 후, 최종적으로 방을 개설한 사람이 보게 되는 메시지를 문자열 배열 형태로 return 하도록 solution 함수를 완성하라.\n",
        "\n",
        "\n",
        "### 제한사항\n",
        "- record는 다음과 같은 문자열이 담긴 배열이며, 길이는 1 이상 100,000 이하이다.\n",
        "- 다음은 record에 담긴 문자열에 대한 설명이다.\n",
        "모든 유저는 [유저 아이디]로 구분한다.\n",
        "[유저 아이디] 사용자가 [닉네임]으로 채팅방에 입장 - \"Enter [유저 아이디] [닉네임]\" (ex. \"Enter uid1234 Muzi\")\n",
        "[유저 아이디] 사용자가 채팅방에서 퇴장 - \"Leave [유저 아이디]\" (ex. \"Leave uid1234\")\n",
        "[유저 아이디] 사용자가 닉네임을 [닉네임]으로 변경 - \"Change [유저 아이디] [닉네임]\" (ex. \"Change uid1234 Muzi\")\n",
        "- 첫 단어는 Enter, Leave, Change 중 하나이다.\n",
        "각 단어는 공백으로 구분되어 있으며, 알파벳 대문자, 소문자, 숫자로만 이루어져있다.\n",
        "- 유저 아이디와 닉네임은 알파벳 대문자, 소문자를 구별한다.\n",
        "- 유저 아이디와 닉네임의 길이는 1 이상 10 이하이다.\n",
        "- 채팅방에서 나간 유저가 닉네임을 변경하는 등 잘못 된 입력은 주어지지 않는다."
      ]
    },
    {
      "cell_type": "markdown",
      "metadata": {
        "id": "2ePUsUyYYeri"
      },
      "source": [
        "### 입출력 예\n",
        "- record\t\n",
        "\n",
        "\n",
        "[\"Enter uid1234 Muzi\", \"Enter uid4567 Prodo\",\"Leave uid1234\",\"Enter uid1234 Prodo\",\"Change uid4567 Ryan\"]\n",
        "- result\n",
        "\n",
        "\n",
        "[\"Prodo님이 들어왔습니다.\", \"Ryan님이 들어왔습니다.\", \"Prodo님이 나갔습니다.\", \"Prodo님이 들어왔습니다.\"]"
      ]
    },
    {
      "cell_type": "code",
      "metadata": {
        "colab": {
          "base_uri": "https://localhost:8080/"
        },
        "id": "gjSAlMKRXziT",
        "outputId": "352e4c75-f91e-4d92-82bd-6dbb96684c90"
      },
      "source": [
        "record = [\"Enter uid1234 Muzi\", \"Enter uid4567 Prodo\",\"Leave uid1234\",\"Enter uid1234 Prodo\",\"Change uid4567 Ryan\"]\n",
        "\n",
        "\n",
        "dic = {}\n",
        "for sentence in record:\n",
        "  sentence_split = sentence.split()\n",
        "  if len(sentence_split) == 3:\n",
        "    dic[sentence_split[1]] = sentence_split[2]\n",
        "dic"
      ],
      "execution_count": 6,
      "outputs": [
        {
          "output_type": "execute_result",
          "data": {
            "text/plain": [
              "{'uid1234': 'Prodo', 'uid4567': 'Ryan'}"
            ]
          },
          "metadata": {
            "tags": []
          },
          "execution_count": 6
        }
      ]
    },
    {
      "cell_type": "code",
      "metadata": {
        "colab": {
          "base_uri": "https://localhost:8080/"
        },
        "id": "QcxRGjn0ZAcx",
        "outputId": "787bfe83-6b37-4906-98f0-9219c5fc9586"
      },
      "source": [
        "answer = []\n",
        "\n",
        "for sentence in record:\n",
        "    sentence_split = sentence.split()\n",
        "    if sentence_split[0] == 'Enter':\n",
        "        answer.append('%s님이 들어왔습니다.' %dic[sentence_split[1]])\n",
        "    elif sentence_split[0] == 'Leave':\n",
        "        answer.append('%s님이 나갔습니다.' %dic[sentence_split[1]])\n",
        "\n",
        "answer"
      ],
      "execution_count": 7,
      "outputs": [
        {
          "output_type": "execute_result",
          "data": {
            "text/plain": [
              "['Prodo님이 들어왔습니다.', 'Ryan님이 들어왔습니다.', 'Prodo님이 나갔습니다.', 'Prodo님이 들어왔습니다.']"
            ]
          },
          "metadata": {
            "tags": []
          },
          "execution_count": 7
        }
      ]
    },
    {
      "cell_type": "markdown",
      "metadata": {
        "id": "AUy7EoWiZply"
      },
      "source": [
        "- Dictionary에 저장된 key값을 활용하여 해당 닉네임이 출력되도록 구현하면 된다.\n",
        "- 최종적으로 변경된 아이디가 화면에 출력되면 되기 때문에 닉네임이 'Change'되는 과정은 고려하지 않아도 된다."
      ]
    },
    {
      "cell_type": "code",
      "metadata": {
        "id": "38jV7K2mZhhd"
      },
      "source": [
        "def solution(record):\n",
        "    answer = []\n",
        "    dic = {}\n",
        "    \n",
        "    for sentence in record:\n",
        "        sentence_split = sentence.split()\n",
        "        if len(sentence_split) == 3:\n",
        "            dic[sentence_split[1]] = sentence_split[2]\n",
        "            \n",
        "    for sentence in record:\n",
        "        sentence_split = sentence.split()\n",
        "        if sentence_split[0] == 'Enter':\n",
        "            answer.append('%s님이 들어왔습니다.' %dic[sentence_split[1]])\n",
        "        elif sentence_split[0] == 'Leave':\n",
        "            answer.append('%s님이 나갔습니다.' %dic[sentence_split[1]])\n",
        "            \n",
        "    return(answer)"
      ],
      "execution_count": 8,
      "outputs": []
    },
    {
      "cell_type": "code",
      "metadata": {
        "colab": {
          "base_uri": "https://localhost:8080/"
        },
        "id": "jjDRoGXXZ_yU",
        "outputId": "b004e0ab-422c-4130-e88a-a81f950e5240"
      },
      "source": [
        "answer"
      ],
      "execution_count": 9,
      "outputs": [
        {
          "output_type": "execute_result",
          "data": {
            "text/plain": [
              "['Prodo님이 들어왔습니다.', 'Ryan님이 들어왔습니다.', 'Prodo님이 나갔습니다.', 'Prodo님이 들어왔습니다.']"
            ]
          },
          "metadata": {
            "tags": []
          },
          "execution_count": 9
        }
      ]
    },
    {
      "cell_type": "code",
      "metadata": {
        "id": "TWFdTw4AaBBn"
      },
      "source": [
        ""
      ],
      "execution_count": null,
      "outputs": []
    }
  ]
}