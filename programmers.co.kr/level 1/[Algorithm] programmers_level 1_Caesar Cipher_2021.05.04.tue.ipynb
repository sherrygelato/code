{
 "cells": [
  {
   "cell_type": "markdown",
   "id": "0b9c4577",
   "metadata": {},
   "source": [
    "# 시저 암호"
   ]
  },
  {
   "cell_type": "markdown",
   "id": "1b119e1e",
   "metadata": {},
   "source": [
    "### 문제 설명\n",
    "- 어떤 문장의 각 알파벳을 일정한 거리만큼 밀어서 다른 알파벳으로 바꾸는 암호화 방식을 시저 암호라고 합니다. 예를 들어 \"AB\"는 1만큼 밀면 \"BC\"가 되고, 3만큼 밀면 \"DE\"가 됩니다. \"z\"는 1만큼 밀면 \"a\"가 됩니다. 문자열 s와 거리 n을 입력받아 s를 n만큼 민 암호문을 만드는 함수, solution을 완성해 보세요."
   ]
  },
  {
   "cell_type": "markdown",
   "id": "928b5239",
   "metadata": {},
   "source": [
    "### 제한 조건\n",
    "- 공백은 아무리 밀어도 공백입니다.\n",
    "- s는 알파벳 소문자, 대문자, 공백으로만 이루어져 있습니다.\n",
    "- s의 길이는 8000이하입니다.\n",
    "- n은 1 이상, 25이하인 자연수입니다."
   ]
  },
  {
   "cell_type": "markdown",
   "id": "ce6f5b53",
   "metadata": {},
   "source": [
    "### 입출력 예\n",
    "|s|n|result|\n",
    "|-----|---|---|\n",
    "|\"AB\"|1|\"BC\"|\n",
    "|\"z\"|1|\"a\"|\n",
    "|\"a B z\"|4|\"e F d\"|"
   ]
  },
  {
   "cell_type": "markdown",
   "id": "646a3704",
   "metadata": {},
   "source": [
    "### 나의 풀이:\n",
    "- 세 부분으로 나누자 생각했다. 소문자, 대문자, 공백\n",
    "- 구분이 쉽게 소문자 문자열과 대문자 문자열을 나눠 저장하고\n",
    "- 세 부분으로 나눠 코드를 입력했다.\n",
    "- 문자열 인덱스를 .index() 함수로 찾고 n만큼 더해줘서 인덱스에 저장했다.\n",
    "- 소/대문자 문자열에서 인덱스를 26으로 나눈 나머지를 위치로 지정해 답안에 저장했다."
   ]
  },
  {
   "cell_type": "code",
   "execution_count": 1,
   "id": "5d28ad64",
   "metadata": {},
   "outputs": [],
   "source": [
    "def solution(s, n):\n",
    "    answer = ''\n",
    "\n",
    "    lower = 'abcdefghijklmnopqrstuvwxyz'\n",
    "    upper = lower.upper()\n",
    "\n",
    "    for alphabet in s:\n",
    "\n",
    "        if alphabet in lower:\n",
    "            idx = lower.index(alphabet) + n\n",
    "            answer += lower[idx % 26]\n",
    "\n",
    "        elif alphabet in upper:\n",
    "            idx = upper.index(alphabet) + n\n",
    "            answer += upper[idx % 26]\n",
    "\n",
    "        else:\n",
    "            answer += \" \"\n",
    "\n",
    "    return answer"
   ]
  },
  {
   "cell_type": "code",
   "execution_count": 2,
   "id": "6c103075",
   "metadata": {},
   "outputs": [
    {
     "data": {
      "text/plain": [
       "'BC'"
      ]
     },
     "execution_count": 2,
     "metadata": {},
     "output_type": "execute_result"
    }
   ],
   "source": [
    "solution(\"AB\", 1)"
   ]
  },
  {
   "cell_type": "markdown",
   "id": "3ae38ec5",
   "metadata": {},
   "source": [
    "--- seYI"
   ]
  }
 ],
 "metadata": {
  "kernelspec": {
   "display_name": "python3_7_6",
   "language": "python",
   "name": "py3_7_6"
  },
  "language_info": {
   "codemirror_mode": {
    "name": "ipython",
    "version": 3
   },
   "file_extension": ".py",
   "mimetype": "text/x-python",
   "name": "python",
   "nbconvert_exporter": "python",
   "pygments_lexer": "ipython3",
   "version": "3.7.6"
  }
 },
 "nbformat": 4,
 "nbformat_minor": 5
}
