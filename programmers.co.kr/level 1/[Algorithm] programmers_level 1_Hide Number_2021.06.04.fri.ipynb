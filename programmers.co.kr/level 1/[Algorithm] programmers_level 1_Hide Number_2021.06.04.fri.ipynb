{
 "cells": [
  {
   "cell_type": "markdown",
   "id": "02e3d52e",
   "metadata": {},
   "source": [
    "# 핸드폰 번호 가리기\n",
    "https://programmers.co.kr/learn/courses/30/lessons/12948\n",
    "\n",
    "\n",
    "### 문제 설명\n",
    "- 프로그래머스 모바일은 개인정보 보호를 위해 고지서를 보낼 때 고객들의 전화번호의 일부를 가립니다.\n",
    "- 전화번호가 문자열 phone_number로 주어졌을 때, 전화번호의 뒷 4자리를 제외한 나머지 숫자를 전부 *으로 가린 문자열을 리턴하는 함수, solution을 완성해주세요.\n",
    "\n",
    "\n",
    "### 제한 조건\n",
    "- s는 길이 4 이상, 20이하인 문자열입니다.\n",
    "\n",
    "\n",
    "### 입출력 예\n",
    "- phone_number\treturn\n",
    "- \"01033334444\"\t\"*******4444\"\n",
    "- \"027778888\"\t\"*****8888\"\n",
    "\n",
    "\n",
    "### 나의 풀이:\n",
    "- 문제 순서대로 풀어봄\n",
    "- number[-4]가 헷갈렸지만 print()해서 다시 해봄"
   ]
  },
  {
   "cell_type": "code",
   "execution_count": 1,
   "id": "ec675415",
   "metadata": {},
   "outputs": [],
   "source": [
    "def solution(phone_number):\n",
    "    answer = ''\n",
    "    \n",
    "    mask = len(phone_number)-4\n",
    "    answer += '*'*mask\n",
    "    \n",
    "    answer += phone_number[-4:]\n",
    "    \n",
    "    return answer"
   ]
  },
  {
   "cell_type": "code",
   "execution_count": 2,
   "id": "cedd16e5",
   "metadata": {},
   "outputs": [],
   "source": [
    "def hide_numbers(s):\n",
    "    return \"*\"*(len(s)-4) + s[-4:]"
   ]
  },
  {
   "cell_type": "code",
   "execution_count": null,
   "id": "e28a4d19",
   "metadata": {},
   "outputs": [],
   "source": []
  }
 ],
 "metadata": {
  "kernelspec": {
   "display_name": "python3_7_6",
   "language": "python",
   "name": "py3_7_6"
  },
  "language_info": {
   "codemirror_mode": {
    "name": "ipython",
    "version": 3
   },
   "file_extension": ".py",
   "mimetype": "text/x-python",
   "name": "python",
   "nbconvert_exporter": "python",
   "pygments_lexer": "ipython3",
   "version": "3.7.6"
  }
 },
 "nbformat": 4,
 "nbformat_minor": 5
}
