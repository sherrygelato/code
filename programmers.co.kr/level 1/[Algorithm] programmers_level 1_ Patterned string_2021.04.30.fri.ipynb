{
 "cells": [
  {
   "cell_type": "markdown",
   "id": "fee56aa8",
   "metadata": {},
   "source": [
    "# 수박수박수박수박수박수?\n",
    "https://programmers.co.kr/learn/courses/30/lessons/12922"
   ]
  },
  {
   "cell_type": "markdown",
   "id": "5138ef4d",
   "metadata": {},
   "source": [
    "### 문제 설명:\n",
    "길이가 n이고, \"수박수박수박수....\"와 같은 패턴을 유지하는 문자열을 리턴하는 함수, solution을 완성하세요. 예를들어 n이 4이면 \"수박수박\"을 리턴하고 3이라면 \"수박수\"를 리턴하면 됩니다."
   ]
  },
  {
   "cell_type": "markdown",
   "id": "7cd9d8fa",
   "metadata": {},
   "source": [
    "### 제한 조건:\n",
    "n은 길이 10,000이하인 자연수입니다."
   ]
  },
  {
   "cell_type": "markdown",
   "id": "304f858d",
   "metadata": {},
   "source": [
    "### 입출력 예:\n",
    "n   ->  return\\\n",
    "3   ->  \"수박수\"\\\n",
    "4   ->  \"수박수박\""
   ]
  },
  {
   "cell_type": "markdown",
   "id": "45a59e79",
   "metadata": {},
   "source": [
    "### 나의 풀이:\n",
    "1) 문제를 보자마자 오늘 당장 배워서인지, zip()과 for문이 생각났다. \\\n",
    "         - 어떻게 조합해 볼까, += 이 연산자를 어떻게 사용할까 생각했다. \\\n",
    "2) 그리고 \"수\"와 \"박\"을 어떤 식으로 조합해줘야 할지 고민하던 중, 생각의 길이 완전히 바뀌었다. \\\n",
    "3) 어차피 \"수박\"을 이용해서 홀/짝에 따라 끝자리가 수/박으로 나뉠 거라면,\\\n",
    "4) n의 숫자대로 슬라이싱해도 되지 않을까? \\\n",
    "         - (3이면 수박수, 4이면 수박수박으로 힌트 얻음)\\\n",
    "5) 어차피 홀짝으로 끝나는 숫자대로 수/박 자리가 맞춰진다.\\\n",
    "6) 문제는 문자열의 길이었는데, \\\n",
    "         - 어떤 수를 곱해도 수박의 형태는 없어지지 않고 유지되며,\\\n",
    "         - 수박수박수박의 [:3]의 결과는 수박수\\\n",
    "         - 수박수박수박수박의 [:4]의 결과는 수박수박인 게 보였다."
   ]
  },
  {
   "cell_type": "code",
   "execution_count": 27,
   "id": "4b0f8532",
   "metadata": {},
   "outputs": [],
   "source": [
    "def solution(n): \n",
    "    answer = [\"수박\"]\n",
    "    return (answer[0]*n)[:n]"
   ]
  },
  {
   "cell_type": "code",
   "execution_count": 28,
   "id": "3a9d8136",
   "metadata": {
    "scrolled": true
   },
   "outputs": [
    {
     "data": {
      "text/plain": [
       "'수박수박수박수'"
      ]
     },
     "execution_count": 28,
     "metadata": {},
     "output_type": "execute_result"
    }
   ],
   "source": [
    "solution(7)"
   ]
  }
 ],
 "metadata": {
  "kernelspec": {
   "display_name": "python3_7_6",
   "language": "python",
   "name": "py3_7_6"
  },
  "language_info": {
   "codemirror_mode": {
    "name": "ipython",
    "version": 3
   },
   "file_extension": ".py",
   "mimetype": "text/x-python",
   "name": "python",
   "nbconvert_exporter": "python",
   "pygments_lexer": "ipython3",
   "version": "3.7.6"
  }
 },
 "nbformat": 4,
 "nbformat_minor": 5
}
