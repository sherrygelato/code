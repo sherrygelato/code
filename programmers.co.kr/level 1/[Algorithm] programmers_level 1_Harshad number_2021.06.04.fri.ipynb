{
 "cells": [
  {
   "cell_type": "markdown",
   "id": "6f8ed454",
   "metadata": {},
   "source": [
    "# 하샤드 수\n",
    "https://programmers.co.kr/learn/courses/30/lessons/12947\n",
    "\n",
    "\n",
    "### 문제 설명\n",
    "- 양의 정수 x가 하샤드 수이려면 x의 자릿수의 합으로 x가 나누어져야 합니다. 예를 들어 18의 자릿수 합은 1+8=9이고, 18은 9로 나누어 떨어지므로 18은 하샤드 수입니다. 자연수 x를 입력받아 x가 하샤드 수인지 아닌지 검사하는 함수, solution을 완성해주세요.\n",
    "\n",
    "\n",
    "### 제한 조건\n",
    "- x는 1 이상, 10000 이하인 정수입니다.\n",
    "\n",
    "\n",
    "### 입출력 예"
   ]
  },
  {
   "cell_type": "markdown",
   "id": "6c63b26b",
   "metadata": {},
   "source": [
    "|arr\t|return|\n",
    "|---|---|\n",
    "|10\t|true|\n",
    "|12\t|true|\n",
    "|11\t|false|\n",
    "|13\t|false|"
   ]
  },
  {
   "cell_type": "markdown",
   "id": "cceaa4ad",
   "metadata": {},
   "source": [
    "### 입출력 예 설명\n",
    "- 입출력 예 #1\n",
    "- 10의 모든 자릿수의 합은 1입니다. 10은 1로 나누어 떨어지므로 10은 하샤드 수입니다.\n",
    "\n",
    "- 입출력 예 #2\n",
    "- 12의 모든 자릿수의 합은 3입니다. 12는 3으로 나누어 떨어지므로 12는 하샤드 수입니다.\n",
    "\n",
    "- 입출력 예 #3\n",
    "- 11의 모든 자릿수의 합은 2입니다. 11은 2로 나누어 떨어지지 않으므로 11는 하샤드 수가 아닙니다.\n",
    "\n",
    "- 입출력 예 #4\n",
    "- 13의 모든 자릿수의 합은 4입니다. 13은 4로 나누어 떨어지지 않으므로 13은 하샤드 수가 아닙니다."
   ]
  },
  {
   "cell_type": "markdown",
   "id": "ce217a3f",
   "metadata": {},
   "source": [
    "### 나의 풀이:\n",
    "1. 합의 초기화\n",
    "2. x를 문자열로 바꿔주고 문자열의 각 자릿수를 int로 변환하여 하나씩 sum에 더해준다.\n",
    "3. 만약 x가 sum으로 나눠지는 숫자라면, True를, 그렇지 않으면 False를 반환한다."
   ]
  },
  {
   "cell_type": "code",
   "execution_count": 1,
   "id": "5ebcbefd",
   "metadata": {},
   "outputs": [],
   "source": [
    "def solution(x):\n",
    "    sum = 0\n",
    "    for i in str(x):\n",
    "        sum += int(i)\n",
    "    print(sum)\n",
    "    \n",
    "    if int(x) % sum == 0:\n",
    "        return True\n",
    "    else:\n",
    "        return False"
   ]
  },
  {
   "cell_type": "markdown",
   "id": "e64e872a",
   "metadata": {},
   "source": [
    "다른 사람 풀이:"
   ]
  },
  {
   "cell_type": "code",
   "execution_count": 2,
   "id": "cec64da1",
   "metadata": {},
   "outputs": [],
   "source": [
    "def Harshad(n):\n",
    "    return n % sum([int(c) for c in str(n)]) == 0"
   ]
  },
  {
   "cell_type": "code",
   "execution_count": 3,
   "id": "195b4888",
   "metadata": {},
   "outputs": [],
   "source": [
    "def solution(x):\n",
    "    answer = True\n",
    "\n",
    "    xs = str(x)\n",
    "\n",
    "    s = 0\n",
    "    for i in range(len(xs)):\n",
    "        s += int(xs[i])\n",
    "\n",
    "    if x % s == 0:\n",
    "        answer = True\n",
    "    else:\n",
    "        answer = False\n",
    "\n",
    "    return answer"
   ]
  },
  {
   "cell_type": "code",
   "execution_count": null,
   "id": "5a7ae647",
   "metadata": {},
   "outputs": [],
   "source": []
  }
 ],
 "metadata": {
  "kernelspec": {
   "display_name": "python3_7_6",
   "language": "python",
   "name": "py3_7_6"
  },
  "language_info": {
   "codemirror_mode": {
    "name": "ipython",
    "version": 3
   },
   "file_extension": ".py",
   "mimetype": "text/x-python",
   "name": "python",
   "nbconvert_exporter": "python",
   "pygments_lexer": "ipython3",
   "version": "3.7.6"
  }
 },
 "nbformat": 4,
 "nbformat_minor": 5
}
