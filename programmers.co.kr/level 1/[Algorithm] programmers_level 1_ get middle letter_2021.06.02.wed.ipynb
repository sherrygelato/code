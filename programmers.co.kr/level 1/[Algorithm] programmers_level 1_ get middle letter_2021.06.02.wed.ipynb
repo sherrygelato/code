{
 "cells": [
  {
   "cell_type": "markdown",
   "id": "d26b8532",
   "metadata": {},
   "source": [
    "# 가운데 글자 가져오기\n",
    "https://programmers.co.kr/learn/courses/30/lessons/12903?language=python3\n",
    "\n",
    "\n",
    "### 문제 설명\n",
    "- 단어 s의 가운데 글자를 반환하는 함수, solution을 만들어 보세요. 단어의 길이가 짝수라면 가운데 두글자를 반환하면 됩니다.\n",
    "\n",
    "\n",
    "### 제한사항\n",
    "- s는 길이가 1 이상, 100이하인 스트링입니다.\n",
    "\n",
    "\n",
    "### 입출력 예\n",
    "- s\treturn\n",
    "- \"abcde\"\t\"c\"\n",
    "- \"qwer\"\t\"we\"\n",
    "\n",
    "\n",
    "### 나의 풀이:\n",
    "1. 문자열 길이가 짝홀수의 조건으로 나누었다.\n",
    "2. 가운데 글자를 찾기 위해 몫을 구하고 인덱스를 지정했다."
   ]
  },
  {
   "cell_type": "code",
   "execution_count": 20,
   "id": "19660f8f",
   "metadata": {},
   "outputs": [],
   "source": [
    "def solution(s):\n",
    "    if len(s) % 2 != 0:\n",
    "        return s[len(s)//2]\n",
    "    else:\n",
    "        return s[len(s)//2-1]+s[len(s)//2]"
   ]
  },
  {
   "cell_type": "code",
   "execution_count": 21,
   "id": "dcd80e6c",
   "metadata": {},
   "outputs": [
    {
     "data": {
      "text/plain": [
       "'c'"
      ]
     },
     "execution_count": 21,
     "metadata": {},
     "output_type": "execute_result"
    }
   ],
   "source": [
    "s = 'abcde'\n",
    "solution(s)"
   ]
  },
  {
   "cell_type": "code",
   "execution_count": 22,
   "id": "42ab44c4",
   "metadata": {},
   "outputs": [
    {
     "data": {
      "text/plain": [
       "'we'"
      ]
     },
     "execution_count": 22,
     "metadata": {},
     "output_type": "execute_result"
    }
   ],
   "source": [
    "s = 'qwer'\n",
    "solution(s)"
   ]
  },
  {
   "cell_type": "markdown",
   "id": "3c2342aa",
   "metadata": {},
   "source": [
    "### 다른 사람의 풀이:"
   ]
  },
  {
   "cell_type": "code",
   "execution_count": 23,
   "id": "2daaa4ce",
   "metadata": {},
   "outputs": [],
   "source": [
    "def string_middle(str):\n",
    "    return str[(len(str)-1)//2:len(str)//2+1]"
   ]
  },
  {
   "cell_type": "code",
   "execution_count": 24,
   "id": "c5b3a602",
   "metadata": {},
   "outputs": [
    {
     "data": {
      "text/plain": [
       "'c'"
      ]
     },
     "execution_count": 24,
     "metadata": {},
     "output_type": "execute_result"
    }
   ],
   "source": [
    "s = 'abcde'\n",
    "solution(s)"
   ]
  },
  {
   "cell_type": "code",
   "execution_count": 25,
   "id": "03443e39",
   "metadata": {},
   "outputs": [
    {
     "data": {
      "text/plain": [
       "'we'"
      ]
     },
     "execution_count": 25,
     "metadata": {},
     "output_type": "execute_result"
    }
   ],
   "source": [
    "s = 'qwer'\n",
    "solution(s)"
   ]
  }
 ],
 "metadata": {
  "kernelspec": {
   "display_name": "python3_7_6",
   "language": "python",
   "name": "py3_7_6"
  },
  "language_info": {
   "codemirror_mode": {
    "name": "ipython",
    "version": 3
   },
   "file_extension": ".py",
   "mimetype": "text/x-python",
   "name": "python",
   "nbconvert_exporter": "python",
   "pygments_lexer": "ipython3",
   "version": "3.7.6"
  }
 },
 "nbformat": 4,
 "nbformat_minor": 5
}
