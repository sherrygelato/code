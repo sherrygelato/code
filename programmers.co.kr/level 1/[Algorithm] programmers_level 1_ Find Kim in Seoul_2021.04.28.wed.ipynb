{
 "cells": [
  {
   "cell_type": "markdown",
   "id": "1af1f7eb",
   "metadata": {},
   "source": [
    "# 서울에서 김서방 찾기\n",
    "https://programmers.co.kr/learn/courses/30/lessons/12919"
   ]
  },
  {
   "cell_type": "markdown",
   "id": "513910ed",
   "metadata": {},
   "source": [
    "### 문제 설명\n",
    "String형 배열 seoul의 element중 \"Kim\"의 위치 x를 찾아, \"김서방은 x에 있다\"는 String을 반환하는 함수, solution을 완성하세요. seoul에 \"Kim\"은 오직 한 번만 나타나며 잘못된 값이 입력되는 경우는 없습니다."
   ]
  },
  {
   "cell_type": "markdown",
   "id": "ef220453",
   "metadata": {},
   "source": [
    "### 제한 사항\n",
    "seoul은 길이 1 이상, 1000 이하인 배열입니다.\n",
    "seoul의 원소는 길이 1 이상, 20 이하인 문자열입니다.\n",
    "\"Kim\"은 반드시 seoul 안에 포함되어 있습니다."
   ]
  },
  {
   "cell_type": "markdown",
   "id": "e25505ca",
   "metadata": {},
   "source": [
    "### 입출력 예\n",
    "seoul = [\"Jane\", \"Kim\"]\\\n",
    "return \"김서방은 1에 있다\""
   ]
  },
  {
   "cell_type": "markdown",
   "id": "a88a746a",
   "metadata": {},
   "source": [
    "### 나의 풀이:\n",
    "1) 배열 seoul의 원소 \"Kim\"의 위치를 찾아 출력하는 문제로 이해했다.\\\n",
    "2) 계속 시리즈, 데이터프레임을 복습해서인지 바로 index()가 떠올랐다.\\\n",
    "3) 제한 사항에 str임을 강조했길래 인덱스 값을 str으로 변환시켰다.\\\n",
    "          - 작성해놓고 보니 숫자와 문자열의 + 연산은 불가능함을 깨달았다."
   ]
  },
  {
   "cell_type": "code",
   "execution_count": 1,
   "id": "2595c1ad",
   "metadata": {},
   "outputs": [],
   "source": [
    "def solution(seoul): \n",
    "    answer = str(seoul.index('Kim')) \n",
    "    return \"김서방은 \"+answer+\"에 있다\""
   ]
  },
  {
   "cell_type": "code",
   "execution_count": 2,
   "id": "10933dc5",
   "metadata": {},
   "outputs": [
    {
     "data": {
      "text/plain": [
       "'김서방은 0에 있다'"
      ]
     },
     "execution_count": 2,
     "metadata": {},
     "output_type": "execute_result"
    }
   ],
   "source": [
    "seoul = [\"Jane\", \"Kim\"]\n",
    "solution(\"Kim\")"
   ]
  }
 ],
 "metadata": {
  "kernelspec": {
   "display_name": "python3_7_6",
   "language": "python",
   "name": "py3_7_6"
  },
  "language_info": {
   "codemirror_mode": {
    "name": "ipython",
    "version": 3
   },
   "file_extension": ".py",
   "mimetype": "text/x-python",
   "name": "python",
   "nbconvert_exporter": "python",
   "pygments_lexer": "ipython3",
   "version": "3.7.6"
  }
 },
 "nbformat": 4,
 "nbformat_minor": 5
}
