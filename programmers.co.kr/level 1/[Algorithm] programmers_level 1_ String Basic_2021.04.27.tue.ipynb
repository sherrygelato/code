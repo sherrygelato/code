{
 "cells": [
  {
   "cell_type": "markdown",
   "id": "a7164b4c",
   "metadata": {},
   "source": [
    "# 문자열 다루기 기본\n",
    "https://programmers.co.kr/learn/courses/30/lessons/12918"
   ]
  },
  {
   "cell_type": "markdown",
   "id": "fdca3e77",
   "metadata": {},
   "source": [
    "### 문제 설명\n",
    "문자열 s의 길이가 4 혹은 6이고, 숫자로만 구성돼있는지 확인해주는 함수, solution을 완성하세요. 예를 들어 s가 \"a234\"이면 False를 리턴하고 \"1234\"라면 True를 리턴하면 됩니다."
   ]
  },
  {
   "cell_type": "markdown",
   "id": "ac60c01b",
   "metadata": {},
   "source": [
    "### 제한 사항\n",
    "s는 길이 1 이상, 길이 8 이하인 문자열입니다."
   ]
  },
  {
   "cell_type": "markdown",
   "id": "42a66cfc",
   "metadata": {},
   "source": [
    "### 출력 예\n",
    "1. s = \"a234\" 이면 return false\n",
    "\n",
    "2. s = \"1234\" 이면 return true"
   ]
  },
  {
   "cell_type": "markdown",
   "id": "5cf0acf5",
   "metadata": {},
   "source": [
    "### 나의 풀이\n",
    "그저 문제의 흐름에 따라 코드를 만들었다."
   ]
  },
  {
   "cell_type": "code",
   "execution_count": 1,
   "id": "6b43fff7",
   "metadata": {},
   "outputs": [],
   "source": [
    "def solution(s):\n",
    "    if len(s) == 4 or len(s) == 6: # 만약 s의 길이가 4 혹은 6 이고,\n",
    "            if s.isdigit(): # 숫자로만 구성돼있다면,\n",
    "                return True # True 리턴.\n",
    "    return False # 만약이 아니면 False 리턴."
   ]
  },
  {
   "cell_type": "code",
   "execution_count": 2,
   "id": "88bb29bf",
   "metadata": {},
   "outputs": [
    {
     "data": {
      "text/plain": [
       "False"
      ]
     },
     "execution_count": 2,
     "metadata": {},
     "output_type": "execute_result"
    }
   ],
   "source": [
    "s = \"a234\"\n",
    "solution(s)"
   ]
  },
  {
   "cell_type": "code",
   "execution_count": 3,
   "id": "9cbf6364",
   "metadata": {},
   "outputs": [
    {
     "data": {
      "text/plain": [
       "True"
      ]
     },
     "execution_count": 3,
     "metadata": {},
     "output_type": "execute_result"
    }
   ],
   "source": [
    "s = \"1234\"\n",
    "solution(s)"
   ]
  }
 ],
 "metadata": {
  "kernelspec": {
   "display_name": "python3_7_6",
   "language": "python",
   "name": "py3_7_6"
  },
  "language_info": {
   "codemirror_mode": {
    "name": "ipython",
    "version": 3
   },
   "file_extension": ".py",
   "mimetype": "text/x-python",
   "name": "python",
   "nbconvert_exporter": "python",
   "pygments_lexer": "ipython3",
   "version": "3.7.6"
  }
 },
 "nbformat": 4,
 "nbformat_minor": 5
}
