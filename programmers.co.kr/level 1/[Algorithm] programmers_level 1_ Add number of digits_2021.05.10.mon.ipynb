{
 "cells": [
  {
   "cell_type": "markdown",
   "id": "ef31495f",
   "metadata": {},
   "source": [
    "https://programmers.co.kr/learn/courses/30/lessons/12931"
   ]
  },
  {
   "cell_type": "markdown",
   "id": "c89d8f59",
   "metadata": {},
   "source": [
    "# 자릿수 더하기\n",
    "\n",
    "\n",
    "### 문제 설명\n",
    "- 자연수 N이 주어지면, N의 각 자릿수의 합을 구해서 return 하는 solution 함수를 만들어 주세요.\n",
    "- 예를들어 N = 123이면 1 + 2 + 3 = 6을 return 하면 됩니다.\n",
    "\n",
    "\n",
    "### 제한 사항\n",
    "- N의 범위 : 100,000,000 이하의 자연수\n",
    "\n",
    "\n",
    "### 입출력 예\n",
    "- #1: N\t: 123\n",
    "- answer : 6\n",
    "- #2: N : 987\n",
    "- answer: 24\n",
    "\n",
    "\n",
    "### 입출력 예 설명\n",
    "- 입출력 예 #1 : 문제의 예시와 같습니다.\n",
    "- 입출력 예 #2 : 9 + 8 + 7 = 24이므로 24를 return 하면 됩니다.\n",
    "\n",
    "\n",
    "### 나의 풀이:\n",
    "- 1) n을 문자열로 만들어주고 인덱스를 사용할 것\n",
    "- 2) n의 길이를 가지고 for문을 돌리는데\n",
    "- 3) n을 숫자로 만들어주고 하나씩 더해준다.\n",
    "- 4) 속도가 매~우 느리다."
   ]
  },
  {
   "cell_type": "code",
   "execution_count": 1,
   "id": "3f279d64",
   "metadata": {},
   "outputs": [],
   "source": [
    "def solution(n):\n",
    "    answer = 0 # 초기화\n",
    "    n = str(n) # 문자열로 바꿔주기\n",
    "    for i in range(len(n)): # 문자열 길이로 for문\n",
    "        answer += int(n[i]) # 자릿수마다 숫자로 만들어서 더해주기\n",
    "    return answer"
   ]
  },
  {
   "cell_type": "code",
   "execution_count": 4,
   "id": "adb7a054",
   "metadata": {},
   "outputs": [
    {
     "data": {
      "text/plain": [
       "6"
      ]
     },
     "execution_count": 4,
     "metadata": {},
     "output_type": "execute_result"
    }
   ],
   "source": [
    "n = 123\n",
    "solution(n)"
   ]
  },
  {
   "cell_type": "markdown",
   "id": "01bf798c",
   "metadata": {},
   "source": [
    "### 다른 사람 풀이:"
   ]
  },
  {
   "cell_type": "code",
   "execution_count": 5,
   "id": "9907cb50",
   "metadata": {},
   "outputs": [],
   "source": [
    "def sum_digit(number):\n",
    "    return sum([int(i) for i in str(number)])"
   ]
  },
  {
   "cell_type": "code",
   "execution_count": 6,
   "id": "6c3040e2",
   "metadata": {},
   "outputs": [
    {
     "data": {
      "text/plain": [
       "24"
      ]
     },
     "execution_count": 6,
     "metadata": {},
     "output_type": "execute_result"
    }
   ],
   "source": [
    "n = 987\n",
    "solution(n)"
   ]
  }
 ],
 "metadata": {
  "kernelspec": {
   "display_name": "python3_7_6",
   "language": "python",
   "name": "py3_7_6"
  },
  "language_info": {
   "codemirror_mode": {
    "name": "ipython",
    "version": 3
   },
   "file_extension": ".py",
   "mimetype": "text/x-python",
   "name": "python",
   "nbconvert_exporter": "python",
   "pygments_lexer": "ipython3",
   "version": "3.7.6"
  }
 },
 "nbformat": 4,
 "nbformat_minor": 5
}
