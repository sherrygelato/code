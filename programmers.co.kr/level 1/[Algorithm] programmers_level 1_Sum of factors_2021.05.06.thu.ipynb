{
 "cells": [
  {
   "cell_type": "markdown",
   "id": "34f43959",
   "metadata": {},
   "source": [
    "# # 약수의 합https://programmers.co.kr/learn/courses/30/lessons/12928"
   ]
  },
  {
   "cell_type": "markdown",
   "id": "6dc299e7",
   "metadata": {},
   "source": [
    "### 문제 설명\n",
    "정수 n을 입력받아 n의 약수를 모두 더한 값을 리턴하는 함수, solution을 완성해주세요."
   ]
  },
  {
   "cell_type": "markdown",
   "id": "7b3d532f",
   "metadata": {},
   "source": [
    "### 제한 사항\n",
    "n은 0 이상 3000이하인 정수입니다."
   ]
  },
  {
   "cell_type": "markdown",
   "id": "0e3a3d95",
   "metadata": {},
   "source": [
    "#### 입출력 예 #1\n",
    "12의 약수는 1, 2, 3, 4, 6, 12입니다. 이를 모두 더하면 28입니다.\n",
    "\n",
    "\n",
    "#### 입출력 예 #2\n",
    "5의 약수는 1, 5입니다. 이를 모두 더하면 6입니다."
   ]
  },
  {
   "cell_type": "markdown",
   "id": "92e4766b",
   "metadata": {},
   "source": [
    "### 나의 풀이\n",
    "- 1) 1부터 n까지의 수를 만들고\n",
    "- 2) 약수를 찾고\n",
    "- 3) 약수값 더하고\n",
    "- 4) 이 코드를 간단화 했다."
   ]
  },
  {
   "cell_type": "code",
   "execution_count": 1,
   "id": "e2a3aed5",
   "metadata": {},
   "outputs": [],
   "source": [
    "# 1) ~ 3) 코드 실행 및  확인\n",
    "\n",
    "def solution(n):\n",
    "    answer = 0 # 초깃값\n",
    "    \n",
    "    for i in range(1, n+1): # 1부터 n까지의 수\n",
    "        if n % i == 0: # 약수 찾기\n",
    "            answer += i # 약수 값 더하기\n",
    "            \n",
    "    return answer"
   ]
  },
  {
   "cell_type": "code",
   "execution_count": 2,
   "id": "965d5185",
   "metadata": {},
   "outputs": [
    {
     "data": {
      "text/plain": [
       "28"
      ]
     },
     "execution_count": 2,
     "metadata": {},
     "output_type": "execute_result"
    }
   ],
   "source": [
    "solution(12)"
   ]
  },
  {
   "cell_type": "code",
   "execution_count": 3,
   "id": "da0f512a",
   "metadata": {},
   "outputs": [
    {
     "data": {
      "text/plain": [
       "6"
      ]
     },
     "execution_count": 3,
     "metadata": {},
     "output_type": "execute_result"
    }
   ],
   "source": [
    "solution(5)"
   ]
  },
  {
   "cell_type": "code",
   "execution_count": 4,
   "id": "3bdba2ab",
   "metadata": {},
   "outputs": [],
   "source": [
    "# 4) 코드 간단화 하기\n",
    "\n",
    "def solution(n):\n",
    "    return sum([i for i in range(1, n + 1) if n % i == 0 ])"
   ]
  },
  {
   "cell_type": "code",
   "execution_count": 5,
   "id": "29368ff6",
   "metadata": {},
   "outputs": [
    {
     "data": {
      "text/plain": [
       "28"
      ]
     },
     "execution_count": 5,
     "metadata": {},
     "output_type": "execute_result"
    }
   ],
   "source": [
    "solution(12)"
   ]
  },
  {
   "cell_type": "code",
   "execution_count": 6,
   "id": "4b816688",
   "metadata": {},
   "outputs": [
    {
     "data": {
      "text/plain": [
       "6"
      ]
     },
     "execution_count": 6,
     "metadata": {},
     "output_type": "execute_result"
    }
   ],
   "source": [
    "solution(5)"
   ]
  },
  {
   "cell_type": "markdown",
   "id": "121004ab",
   "metadata": {},
   "source": [
    "--- seYi"
   ]
  }
 ],
 "metadata": {
  "kernelspec": {
   "display_name": "python3_7_6",
   "language": "python",
   "name": "py3_7_6"
  },
  "language_info": {
   "codemirror_mode": {
    "name": "ipython",
    "version": 3
   },
   "file_extension": ".py",
   "mimetype": "text/x-python",
   "name": "python",
   "nbconvert_exporter": "python",
   "pygments_lexer": "ipython3",
   "version": "3.7.6"
  }
 },
 "nbformat": 4,
 "nbformat_minor": 5
}
