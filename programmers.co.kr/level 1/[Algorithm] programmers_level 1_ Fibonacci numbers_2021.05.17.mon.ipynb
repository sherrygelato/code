{
 "cells": [
  {
   "cell_type": "markdown",
   "id": "a8ae3180",
   "metadata": {},
   "source": [
    "# 피보나치 수\n",
    "https://programmers.co.kr/learn/courses/30/lessons/12945\n",
    "\n",
    "\n",
    "### 문제 설명\n",
    "- 피보나치 수는 F(0) = 0, F(1) = 1일 때, 1 이상의 n에 대하여 F(n) = F(n-1) + F(n-2) 가 적용되는 수 입니다.\n",
    "\n",
    "\n",
    "- 예를들어\n",
    "- F(2) = F(0) + F(1) = 0 + 1 = 1\n",
    "- F(3) = F(1) + F(2) = 1 + 1 = 2\n",
    "- F(4) = F(2) + F(3) = 1 + 2 = 3\n",
    "- F(5) = F(3) + F(4) = 2 + 3 = 5\n",
    "- 와 같이 이어집니다.\n",
    "\n",
    "\n",
    "- 2 이상의 n이 입력되었을 때, n번째 피보나치 수를 1234567으로 나눈 나머지를 리턴하는 함수, solution을 완성해 주세요.\n",
    "\n",
    "\n",
    "\n",
    "### 제한 사항\n",
    "- * n은 1이상, 100000이하인 자연수입니다.\n",
    "\n",
    "### 입출력 예\n",
    "- #1 n = 3\n",
    "- return 2\n",
    "- #2 n = 5\n",
    "- return 5\n",
    "\n",
    "\n",
    "### 입출력 예 설명\n",
    "- 피보나치수는 0번째부터 0, 1, 1, 2, 3, 5, ... 와 같이 이어집니다.\n",
    "\n",
    "\n",
    "### # 나머지 연산 분배 법칙\n",
    "- 나머지 연산 알고리즘 문제를 푸는 과정에서 결과 값이 매우 큰 경우\n",
    "- 결과 값에 모듈러 연산을 수행할 시 이미 결과 값은 너무 커져서 오버플로우가 발생한 경우가 대부분이기 때문에, 연산 과정 도중에 모듈러 연산을 적용해야 함\n",
    "\n",
    "\n",
    "- 공식:\n",
    "- (A + B) % p = ((A % p) + (B % p)) % p\n",
    "- (A * B) % p = ((A % p) * (B % p)) % p\n",
    "- (A - B) % p = ((A % p) - (B % p) + p) % p\n",
    "- (나눗셈은 없음)\n",
    "\n",
    "\n",
    "- 참고: \n",
    "- https://youseokhwan.me/blog/remainder-distribution-property/\n",
    "\n",
    "\n",
    "### 다른 사람 풀이:"
   ]
  },
  {
   "cell_type": "code",
   "execution_count": 3,
   "id": "1c9810b3",
   "metadata": {},
   "outputs": [],
   "source": [
    "def solution(n):\n",
    "    f_list = [0,1]\n",
    "    for i in range(2,n+1):\n",
    "        f_list.append((f_list[i-2]%1234567+f_list[i-1]%1234567)%1234567)\n",
    "    return f_list[-1]"
   ]
  },
  {
   "cell_type": "code",
   "execution_count": 4,
   "id": "50759e12",
   "metadata": {},
   "outputs": [],
   "source": [
    "def solution(n):\n",
    "    list = [0,1]\n",
    "    for i in range(2,n+1):\n",
    "        list.append((list[i-2] + list[i-1])%1234567)\n",
    "    return list[-1]"
   ]
  },
  {
   "cell_type": "code",
   "execution_count": 5,
   "id": "274b09d5",
   "metadata": {},
   "outputs": [],
   "source": [
    "def solution(n):\n",
    "    a,b = 0,1\n",
    "    for i in range(num):\n",
    "        a,b = b,a+b\n",
    "    return a"
   ]
  }
 ],
 "metadata": {
  "kernelspec": {
   "display_name": "python3_7_6",
   "language": "python",
   "name": "py3_7_6"
  },
  "language_info": {
   "codemirror_mode": {
    "name": "ipython",
    "version": 3
   },
   "file_extension": ".py",
   "mimetype": "text/x-python",
   "name": "python",
   "nbconvert_exporter": "python",
   "pygments_lexer": "ipython3",
   "version": "3.7.6"
  }
 },
 "nbformat": 4,
 "nbformat_minor": 5
}
