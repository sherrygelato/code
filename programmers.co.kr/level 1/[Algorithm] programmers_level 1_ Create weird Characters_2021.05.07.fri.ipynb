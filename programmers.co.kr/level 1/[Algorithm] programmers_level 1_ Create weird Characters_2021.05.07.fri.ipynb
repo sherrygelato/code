{
 "cells": [
  {
   "cell_type": "markdown",
   "id": "ef31495f",
   "metadata": {},
   "source": [
    "programmers.co.kr/learn/courses/30/lessons/12930"
   ]
  },
  {
   "cell_type": "markdown",
   "id": "c89d8f59",
   "metadata": {},
   "source": [
    "# 이상한 문자 만들기\n",
    "\n",
    "\n",
    "### 문제 설명\n",
    "- 문자열 s는 한 개 이상의 단어로 구성되어 있습니다. 각 단어는 하나 이상의 공백문자로 구분되어 있습니다. 각 단어의 짝수번째 알파벳은 대문자로, 홀수번째 알파벳은 소문자로 바꾼 문자열을 리턴하는 함수, solution을 완성하세요.\n",
    "\n",
    "\n",
    "### 제한 사항\n",
    "- 문자열 전체의 짝/홀수 인덱스가 아니라, 단어(공백을 기준)별로 짝/홀수 인덱스를 판단해야합니다.\n",
    "- 첫 번째 글자는 0번째 인덱스로 보아 짝수번째 알파벳으로 처리해야 합니다.\n",
    "\n",
    "\n",
    "### 입출력 예\n",
    "- s = \"try hello world\"\t\n",
    "- return: \"TrY HeLlO WoRlD\"\n",
    "\n",
    "\n",
    "### 입출력 예 설명\n",
    "- \"try hello world\"는 세 단어 \"try\", \"hello\", \"world\"로 구성되어 있습니다. \n",
    "- 각 단어의 짝수번째 문자를 대문자로, 홀수번째 문자를 소문자로 바꾸면 \"TrY\", \"HeLlO\", \"WoRlD\"입니다. \n",
    "- 따라서 \"TrY HeLlO WoRlD\" 를 리턴합니다.\n",
    "\n",
    "\n",
    "### 나의 풀이:"
   ]
  },
  {
   "cell_type": "code",
   "execution_count": 3,
   "id": "a135fc41",
   "metadata": {},
   "outputs": [],
   "source": [
    "def solution(s):\n",
    "    answer = list(s) # 리스트로 변환\n",
    "    index_count = 0 # 초깃값\n",
    "    for i, v in enumerate(answer): # 인덱스와 값을 동시에 돌리기\n",
    "        if v == \" \":\n",
    "            index_count = 0 # 공백은 0 처리\n",
    "        else: \n",
    "            if index_count % 2 == 0: \n",
    "                answer[i] = v.upper() # 인덱스가 짝수라면 대문자\n",
    "            else:\n",
    "                answer[i] = v.lower() # 인덱스가 홀수라면 소문자\n",
    "            index_count += 1 # 그 다음 인덱스로 넘어가기\n",
    "    return ''.join(answer)"
   ]
  },
  {
   "cell_type": "code",
   "execution_count": 4,
   "id": "adb7a054",
   "metadata": {},
   "outputs": [
    {
     "data": {
      "text/plain": [
       "'TrY HeLlO WoRlD'"
      ]
     },
     "execution_count": 4,
     "metadata": {},
     "output_type": "execute_result"
    }
   ],
   "source": [
    "s = \"try hello world\"\n",
    "solution(s)"
   ]
  }
 ],
 "metadata": {
  "kernelspec": {
   "display_name": "python3_7_6",
   "language": "python",
   "name": "py3_7_6"
  },
  "language_info": {
   "codemirror_mode": {
    "name": "ipython",
    "version": 3
   },
   "file_extension": ".py",
   "mimetype": "text/x-python",
   "name": "python",
   "nbconvert_exporter": "python",
   "pygments_lexer": "ipython3",
   "version": "3.7.6"
  }
 },
 "nbformat": 4,
 "nbformat_minor": 5
}
