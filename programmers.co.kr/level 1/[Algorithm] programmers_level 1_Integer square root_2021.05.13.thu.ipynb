{
 "cells": [
  {
   "cell_type": "markdown",
   "id": "658053fd",
   "metadata": {},
   "source": [
    "# 정수 제곱근 판별\n",
    "https://programmers.co.kr/learn/courses/30/lessons/12934"
   ]
  },
  {
   "cell_type": "markdown",
   "id": "7ea71965",
   "metadata": {},
   "source": [
    "### 문제 설명\n",
    "- 임의의 양의 정수 n에 대해, n이 어떤 양의 정수 x의 제곱인지 아닌지 판단하려 합니다.\n",
    "- n이 양의 정수 x의 제곱이라면 x+1의 제곱을 리턴하고, n이 양의 정수 x의 제곱이 아니라면 -1을 리턴하는 함수를 완성하세요.\n",
    "\n",
    "\n",
    "### 제한 사항\n",
    "- n은 1이상, 50000000000000 이하인 양의 정수입니다.\n",
    "\n",
    "\n",
    "### 입출력 예\n",
    "- #1 n = 121\n",
    "- return 144\n",
    "- #2 n = 3\n",
    "- return -1\n",
    "\n",
    "\n",
    "### 입출력 예 설명\n",
    "#### 입출력 예#1\n",
    "- 121은 양의 정수 11의 제곱이므로, (11+1)를 제곱한 144를 리턴합니다.\n",
    "\n",
    "#### 입출력 예#2\n",
    "- 3은 양의 정수의 제곱이 아니므로, -1을 리턴합니다.\n",
    "\n",
    "\n",
    "### 나의 풀이:\n",
    "1. n을 루트 씌워서 업데이트하고 \n",
    "2. if 조건절로  n을 업데이트 한 것이 정수인지 판별\n",
    "3. 그렇지 않으면 -1 리턴 (else 안씀)"
   ]
  },
  {
   "cell_type": "code",
   "execution_count": 1,
   "id": "88d6c64e",
   "metadata": {},
   "outputs": [],
   "source": [
    "def solution(n):\n",
    "    n = n ** 0.5\n",
    "\n",
    "    if n == int(n) :\n",
    "        return (n+1)**2\n",
    "\n",
    "    return -1"
   ]
  },
  {
   "cell_type": "code",
   "execution_count": 2,
   "id": "62d50d5f",
   "metadata": {},
   "outputs": [
    {
     "data": {
      "text/plain": [
       "144.0"
      ]
     },
     "execution_count": 2,
     "metadata": {},
     "output_type": "execute_result"
    }
   ],
   "source": [
    "n = 121\n",
    "solution(n)"
   ]
  },
  {
   "cell_type": "code",
   "execution_count": 3,
   "id": "75d789c9",
   "metadata": {},
   "outputs": [
    {
     "data": {
      "text/plain": [
       "-1"
      ]
     },
     "execution_count": 3,
     "metadata": {},
     "output_type": "execute_result"
    }
   ],
   "source": [
    "n = 3\n",
    "solution(n)"
   ]
  },
  {
   "cell_type": "markdown",
   "id": "c86563f7",
   "metadata": {},
   "source": [
    "--- seYi"
   ]
  }
 ],
 "metadata": {
  "kernelspec": {
   "display_name": "python3_7_6",
   "language": "python",
   "name": "py3_7_6"
  },
  "language_info": {
   "codemirror_mode": {
    "name": "ipython",
    "version": 3
   },
   "file_extension": ".py",
   "mimetype": "text/x-python",
   "name": "python",
   "nbconvert_exporter": "python",
   "pygments_lexer": "ipython3",
   "version": "3.7.6"
  }
 },
 "nbformat": 4,
 "nbformat_minor": 5
}
