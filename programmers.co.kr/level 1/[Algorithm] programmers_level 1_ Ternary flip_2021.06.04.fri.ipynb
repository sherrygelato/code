{
 "cells": [
  {
   "cell_type": "markdown",
   "id": "0434eaa4",
   "metadata": {},
   "source": [
    "# 3진법 뒤집기\n",
    "https://programmers.co.kr/learn/courses/30/lessons/68935?language=python3\n",
    "\n",
    "\n",
    "### 문제 설명\n",
    "- 자연수 n이 매개변수로 주어집니다. n을 3진법 상에서 앞뒤로 뒤집은 후, 이를 다시 10진법으로 표현한 수를 return 하도록 solution 함수를 완성해주세요.\n",
    "\n",
    "\n",
    "### 제한사항\n",
    "- n은 1 이상 100,000,000 이하인 자연수입니다.\n",
    "\n",
    "\n",
    "### 입출력 예\n",
    "- n\tresult\n",
    "- 45\t7\n",
    "- 125\t229\n",
    "\n",
    "\n",
    "### 입출력 예 설명\n",
    "#### 입출력 예 #1\n",
    "\n",
    "- 답을 도출하는 과정은 다음과 같습니다.\n",
    "- n (10진법)\tn (3진법)\t앞뒤 반전(3진법)\t10진법으로 표현\n",
    "- 45\t1200\t0021\t7\n",
    "- 따라서 7을 return 해야 합니다.\n",
    "#### 입출력 예 #2\n",
    "\n",
    "- 답을 도출하는 과정은 다음과 같습니다.\n",
    "- n (10진법)\tn (3진법)\t앞뒤 반전(3진법)\t10진법으로 표현\n",
    "- 125\t11122\t22111\t229\n",
    "- 따라서 229를 return 해야 합니다.\n",
    "\n",
    "\n",
    "### 나의 풀이:\n",
    "1. 3진법으로 전환하면서 \n",
    "- 45 / 3 = 15, 0\n",
    "- 15 / 3 = 5, 0\n",
    "- 5 / 3 = 1 나머지 2\n",
    "- 즉, 1200이 거꾸로 되는 걸 보면서 조건 1, 2를 함께 두었다.\n",
    "\n",
    "2. 파이썬에서 지원하는 함수 int(숫자, n진법)을 사용했다."
   ]
  },
  {
   "cell_type": "code",
   "execution_count": 27,
   "id": "545b75f6",
   "metadata": {},
   "outputs": [],
   "source": [
    "def solution(n):\n",
    "    \n",
    "    # 1. 3진법 전환과 2. 앞뒤 변환\n",
    "    cnt = 0\n",
    "    ternary = ''\n",
    "    \n",
    "    while n >= 3:\n",
    "        ternary += str(n % 3) \n",
    "        n = n // 3\n",
    "        cnt += 1\n",
    "    else:\n",
    "        ternary += str(n % 3)\n",
    "    print(ternary)\n",
    "\n",
    "    # 3. 10진법 전환\n",
    "    answer = int(ternary, 3)\n",
    "    \n",
    "    return answer"
   ]
  },
  {
   "cell_type": "code",
   "execution_count": 28,
   "id": "497cb080",
   "metadata": {},
   "outputs": [
    {
     "name": "stdout",
     "output_type": "stream",
     "text": [
      "0021\n"
     ]
    },
    {
     "data": {
      "text/plain": [
       "7"
      ]
     },
     "execution_count": 28,
     "metadata": {},
     "output_type": "execute_result"
    }
   ],
   "source": [
    "# 7\n",
    "n = 45\n",
    "solution(n)"
   ]
  },
  {
   "cell_type": "code",
   "execution_count": 29,
   "id": "0d8c085a",
   "metadata": {},
   "outputs": [
    {
     "name": "stdout",
     "output_type": "stream",
     "text": [
      "22111\n"
     ]
    },
    {
     "data": {
      "text/plain": [
       "229"
      ]
     },
     "execution_count": 29,
     "metadata": {},
     "output_type": "execute_result"
    }
   ],
   "source": [
    "# 229\n",
    "n = 125\n",
    "solution(n)"
   ]
  },
  {
   "cell_type": "code",
   "execution_count": null,
   "id": "04786015",
   "metadata": {},
   "outputs": [],
   "source": []
  }
 ],
 "metadata": {
  "kernelspec": {
   "display_name": "python3_7_6",
   "language": "python",
   "name": "py3_7_6"
  },
  "language_info": {
   "codemirror_mode": {
    "name": "ipython",
    "version": 3
   },
   "file_extension": ".py",
   "mimetype": "text/x-python",
   "name": "python",
   "nbconvert_exporter": "python",
   "pygments_lexer": "ipython3",
   "version": "3.7.6"
  }
 },
 "nbformat": 4,
 "nbformat_minor": 5
}
