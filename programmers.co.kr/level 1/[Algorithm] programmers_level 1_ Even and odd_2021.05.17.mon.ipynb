{
 "cells": [
  {
   "cell_type": "markdown",
   "id": "626a562c",
   "metadata": {},
   "source": [
    "# 짝수와 홀수\n",
    "https://programmers.co.kr/learn/courses/30/lessons/12937\n",
    "\n",
    "\n",
    "### 문제 설명\n",
    "- 정수 num이 짝수일 경우 \"Even\"을 반환하고 홀수인 경우 \"Odd\"를 반환하는 함수, solution을 완성해주세요.\n",
    "\n",
    "\n",
    "### 제한 조건\n",
    "- num은 int 범위의 정수입니다.\n",
    "- 0은 짝수입니다.\n",
    "\n",
    "\n",
    "### 입출력 예\n",
    "- #1 num = 3\n",
    "- return \"Odd\"\n",
    "- #2 num = 4\t\n",
    "- return \"Even\"\n",
    "\n",
    "\n",
    "### 나의 풀이:"
   ]
  },
  {
   "cell_type": "code",
   "execution_count": 1,
   "id": "59cadc3e",
   "metadata": {},
   "outputs": [],
   "source": [
    "def solution(num):\n",
    "    return \"Even\" if int(num) % 2 == 0 else \"Odd\""
   ]
  },
  {
   "cell_type": "code",
   "execution_count": 2,
   "id": "ee1ff74b",
   "metadata": {},
   "outputs": [
    {
     "data": {
      "text/plain": [
       "'Odd'"
      ]
     },
     "execution_count": 2,
     "metadata": {},
     "output_type": "execute_result"
    }
   ],
   "source": [
    "num = 3\n",
    "solution(num)"
   ]
  },
  {
   "cell_type": "code",
   "execution_count": 3,
   "id": "f5d17edb",
   "metadata": {},
   "outputs": [
    {
     "data": {
      "text/plain": [
       "'Even'"
      ]
     },
     "execution_count": 3,
     "metadata": {},
     "output_type": "execute_result"
    }
   ],
   "source": [
    "num = 4\n",
    "solution(num)"
   ]
  },
  {
   "cell_type": "markdown",
   "id": "22e6fbdc",
   "metadata": {},
   "source": [
    "### 다른 사람 풀이:"
   ]
  },
  {
   "cell_type": "code",
   "execution_count": 4,
   "id": "924d1e9c",
   "metadata": {},
   "outputs": [],
   "source": [
    "def evenOrOdd(num):\n",
    "    return [\"Even\", \"Odd\"][num & 1]"
   ]
  },
  {
   "cell_type": "code",
   "execution_count": 5,
   "id": "21027f6e",
   "metadata": {},
   "outputs": [
    {
     "data": {
      "text/plain": [
       "'Odd'"
      ]
     },
     "execution_count": 5,
     "metadata": {},
     "output_type": "execute_result"
    }
   ],
   "source": [
    "num = 3\n",
    "solution(num)"
   ]
  },
  {
   "cell_type": "code",
   "execution_count": 6,
   "id": "1efe7d9a",
   "metadata": {},
   "outputs": [
    {
     "data": {
      "text/plain": [
       "'Even'"
      ]
     },
     "execution_count": 6,
     "metadata": {},
     "output_type": "execute_result"
    }
   ],
   "source": [
    "num = 4\n",
    "solution(num)"
   ]
  }
 ],
 "metadata": {
  "kernelspec": {
   "display_name": "python3_7_6",
   "language": "python",
   "name": "py3_7_6"
  },
  "language_info": {
   "codemirror_mode": {
    "name": "ipython",
    "version": 3
   },
   "file_extension": ".py",
   "mimetype": "text/x-python",
   "name": "python",
   "nbconvert_exporter": "python",
   "pygments_lexer": "ipython3",
   "version": "3.7.6"
  }
 },
 "nbformat": 4,
 "nbformat_minor": 5
}
