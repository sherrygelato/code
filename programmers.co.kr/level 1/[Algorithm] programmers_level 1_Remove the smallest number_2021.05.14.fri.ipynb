{
 "cells": [
  {
   "cell_type": "markdown",
   "id": "96c47f02",
   "metadata": {},
   "source": [
    "# 제일 작은 수 제거하기\n",
    "https://programmers.co.kr/learn/courses/30/lessons/12935?language=python3"
   ]
  },
  {
   "cell_type": "markdown",
   "id": "49cdd050",
   "metadata": {},
   "source": [
    "### 문제 설명:\n",
    "- 정수를 저장한 배열, arr 에서 가장 작은 수를 제거한 배열을 리턴하는 함수, solution을 완성해주세요. \n",
    "- 단, 리턴하려는 배열이 빈 배열인 경우엔 배열에 -1을 채워 리턴하세요. \n",
    "- 예를들어 arr이 [4,3,2,1]인 경우는 [4,3,2]를 리턴 하고, [10]면 [-1]을 리턴 합니다.\n",
    "\n",
    "\n",
    "### 제한 조건\n",
    "- arr은 길이 1 이상인 배열입니다.\n",
    "- 인덱스 i, j에 대해 i ≠ j이면 arr[i] ≠ arr[j] 입니다.\n",
    "\n",
    "\n",
    "### 입출력 예\n",
    "- #1 arr = [4,3,2,1]\t\n",
    "- return [4,3,2]\n",
    "- #2 arr = [10]\t\n",
    "- return [-1]\n",
    "\n",
    "\n",
    "### 나의 풀이\n",
    "- 1) 길이가 1일 때 [-1]을 리턴하고 아닌 경우 제일 작은 수를 제거하고 리턴한다.\n",
    "- 2) arr에서 제일 작은 수를 찾고 arr_r에 저장한다.\n",
    "- 3) arr에서 arr_r를 제거하고 그것을 리턴한다."
   ]
  },
  {
   "cell_type": "code",
   "execution_count": 31,
   "id": "302368a6",
   "metadata": {},
   "outputs": [],
   "source": [
    "def solution(arr):\n",
    "    if len(arr) > 1:\n",
    "        arr_r = min(arr)\n",
    "        arr.remove(arr_r)\n",
    "        return arr\n",
    "    return [-1]"
   ]
  },
  {
   "cell_type": "code",
   "execution_count": 32,
   "id": "69eafbc1",
   "metadata": {},
   "outputs": [
    {
     "data": {
      "text/plain": [
       "[4, 3, 2]"
      ]
     },
     "execution_count": 32,
     "metadata": {},
     "output_type": "execute_result"
    }
   ],
   "source": [
    "arr = [4,3,2,1]\n",
    "solution(arr)"
   ]
  }
 ],
 "metadata": {
  "kernelspec": {
   "display_name": "python3_7_6",
   "language": "python",
   "name": "py3_7_6"
  },
  "language_info": {
   "codemirror_mode": {
    "name": "ipython",
    "version": 3
   },
   "file_extension": ".py",
   "mimetype": "text/x-python",
   "name": "python",
   "nbconvert_exporter": "python",
   "pygments_lexer": "ipython3",
   "version": "3.7.6"
  }
 },
 "nbformat": 4,
 "nbformat_minor": 5
}
