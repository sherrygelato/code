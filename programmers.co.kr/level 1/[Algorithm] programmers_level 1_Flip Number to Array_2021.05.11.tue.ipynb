{
 "cells": [
  {
   "cell_type": "markdown",
   "id": "9dad8fb2",
   "metadata": {},
   "source": [
    "# 자연수 뒤집어 배열로 만들기\n",
    "- programmers.co.kr/learn/courses/30/lessons/12932"
   ]
  },
  {
   "cell_type": "markdown",
   "id": "4e071c93",
   "metadata": {},
   "source": [
    "### 문제 설명\n",
    "- 자연수 n을 뒤집어 각 자리 숫자를 원소로 가지는 배열 형태로 리턴해주세요. 예를들어 n이 12345이면 [5,4,3,2,1]을 리턴합니다.\n",
    "\n",
    "\n",
    "### 제한 조건\n",
    "- n은 10,000,000,000이하인 자연수입니다.\n",
    "\n",
    "\n",
    "### 입출력 예\n",
    "- n = 12345\t\n",
    "- return[5,4,3,2,1]\n",
    "\n",
    "\n",
    "### 나의 풀이:\n",
    "- 1) 위치를 뒤집는 함수가 생각나지 않아서 슬라이싱으로 해결하고자 했다.\n",
    "- 2) 자연수 n을 str으로 취하고 이것을 슬라이싱 [::-1]으로 뒤집는다.\n",
    "- 3) for문을 돌려 각 자리 숫자를 원소로 가지는 배열 형태로 리스트를 만들어준다."
   ]
  },
  {
   "cell_type": "code",
   "execution_count": 1,
   "id": "699652ae",
   "metadata": {},
   "outputs": [],
   "source": [
    "def solution(n):\n",
    "    return [int(i) for i in str(n)][::-1]"
   ]
  },
  {
   "cell_type": "code",
   "execution_count": 2,
   "id": "1b044bac",
   "metadata": {},
   "outputs": [
    {
     "data": {
      "text/plain": [
       "[5, 4, 3, 2, 1]"
      ]
     },
     "execution_count": 2,
     "metadata": {},
     "output_type": "execute_result"
    }
   ],
   "source": [
    "n = 12345\n",
    "solution(n)"
   ]
  },
  {
   "cell_type": "markdown",
   "id": "ff1d26c4",
   "metadata": {},
   "source": [
    "### 다른 사람 풀이:"
   ]
  },
  {
   "cell_type": "code",
   "execution_count": 3,
   "id": "239a4300",
   "metadata": {},
   "outputs": [],
   "source": [
    "def digit_reverse(n):\n",
    "    return list(map(int, reversed(str(n))))"
   ]
  },
  {
   "cell_type": "markdown",
   "id": "2e694409",
   "metadata": {},
   "source": [
    "- 내가 알고 싶던 함수 reversed(): 리스트 역순으로 만들기"
   ]
  }
 ],
 "metadata": {
  "kernelspec": {
   "display_name": "python3_7_6",
   "language": "python",
   "name": "py3_7_6"
  },
  "language_info": {
   "codemirror_mode": {
    "name": "ipython",
    "version": 3
   },
   "file_extension": ".py",
   "mimetype": "text/x-python",
   "name": "python",
   "nbconvert_exporter": "python",
   "pygments_lexer": "ipython3",
   "version": "3.7.6"
  }
 },
 "nbformat": 4,
 "nbformat_minor": 5
}
