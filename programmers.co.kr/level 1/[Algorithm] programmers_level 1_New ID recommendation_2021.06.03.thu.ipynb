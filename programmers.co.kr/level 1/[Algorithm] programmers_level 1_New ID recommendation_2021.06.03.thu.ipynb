{
 "cells": [
  {
   "cell_type": "markdown",
   "id": "1a9df9ce",
   "metadata": {},
   "source": [
    "# 신규 아이디 추천\n",
    "https://programmers.co.kr/learn/courses/30/lessons/72410\n",
    "\n",
    "\n",
    "### 문제 설명\n",
    "- 카카오에 입사한 신입 개발자 네오는 \"카카오계정개발팀\"에 배치되어, 카카오 서비스에 가입하는 유저들의 아이디를 생성하는 업무를 담당하게 되었습니다. \"네오\"에게 주어진 첫 업무는 새로 가입하는 유저들이 카카오 아이디 규칙에 맞지 않는 아이디를 입력했을 때, 입력된 아이디와 유사하면서 규칙에 맞는 아이디를 추천해주는 프로그램을 개발하는 것입니다.\n",
    "\n",
    "\n",
    "#### 다음은 카카오 아이디의 규칙입니다.\n",
    "- 아이디의 길이는 3자 이상 15자 이하여야 합니다.\n",
    "- 아이디는 알파벳 소문자, 숫자, 빼기(-), 밑줄(_), 마침표(.) 문자만 사용할 수 있습니다.\n",
    "- 단, 마침표(.)는 처음과 끝에 사용할 수 없으며 또한 연속으로 사용할 수 없습니다.\n",
    "- \"네오\"는 다음과 같이 7단계의 순차적인 처리 과정을 통해 신규 유저가 입력한 아이디가 카카오 아이디 규칙에 맞는 지 검사하고 규칙에 맞지 않은 경우 규칙에 맞는 새로운 아이디를 추천해 주려고 합니다.\n",
    "- 신규 유저가 입력한 아이디가 new_id 라고 한다면,\n",
    "\n",
    "\n",
    "- 1단계 new_id의 모든 대문자를 대응되는 소문자로 치환합니다.\n",
    "- 2단계 new_id에서 알파벳 소문자, 숫자, 빼기(-), 밑줄(_), 마침표(.)를 제외한 모든 문자를 제거합니다.\n",
    "- 3단계 new_id에서 마침표(.)가 2번 이상 연속된 부분을 하나의 마침표(.)로 치환합니다.\n",
    "- 4단계 new_id에서 마침표(.)가 처음이나 끝에 위치한다면 제거합니다.\n",
    "- 5단계 new_id가 빈 문자열이라면, new_id에 \"a\"를 대입합니다.\n",
    "- 6단계 new_id의 길이가 16자 이상이면, new_id의 첫 15개의 문자를 제외한 나머지 문자들을 모두 제거합니다. 만약 제거 후 마침표(.)가 new_id의 끝에 위치한다면 끝에 위치한 마침표(.) 문자를 제거합니다.\n",
    "- 7단계 new_id의 길이가 2자 이하라면, new_id의 마지막 문자를 new_id의 길이가 3이 될 때까지 반복해서 끝에 붙입니다.\n",
    "\n",
    "\n",
    "#### 예를 들어, new_id 값이 \"...!@BaT#*..y.abcdefghijklm\" 라면, 위 7단계를 거치고 나면 new_id는 아래와 같이 변경됩니다.\n",
    "- 1단계 대문자 'B'와 'T'가 소문자 'b'와 't'로 바뀌었습니다.\n",
    "- \"...!@BaT#*..y.abcdefghijklm\" → \"...!@bat#*..y.abcdefghijklm\"\n",
    "- 2단계 '!', '@', '#', '*' 문자가 제거되었습니다.\n",
    "- \"...!@bat#*..y.abcdefghijklm\" → \"...bat..y.abcdefghijklm\"\n",
    "- 3단계 '...'와 '..' 가 '.'로 바뀌었습니다.\n",
    "- \"...bat..y.abcdefghijklm\" → \".bat.y.abcdefghijklm\"\n",
    "- 4단계 아이디의 처음에 위치한 '.'가 제거되었습니다.\n",
    "- \".bat.y.abcdefghijklm\" → \"bat.y.abcdefghijklm\"\n",
    "- 5단계 아이디가 빈 문자열이 아니므로 변화가 없습니다.\n",
    "- \"bat.y.abcdefghijklm\" → \"bat.y.abcdefghijklm\"\n",
    "- 6단계 아이디의 길이가 16자 이상이므로, 처음 15자를 제외한 나머지 문자들이 제거되었습니다.\n",
    "- \"bat.y.abcdefghijklm\" → \"bat.y.abcdefghi\"\n",
    "- 7단계 아이디의 길이가 2자 이하가 아니므로 변화가 없습니다.\n",
    "- \"bat.y.abcdefghi\" → \"bat.y.abcdefghi\"\n",
    "\n",
    "\n",
    "- 따라서 신규 유저가 입력한 new_id가 \"...!@BaT#*..y.abcdefghijklm\"일 때, 네오의 프로그램이 추천하는 새로운 아이디는 \"bat.y.abcdefghi\" 입니다.\n",
    "\n",
    "\n",
    "### [문제]\n",
    "- 신규 유저가 입력한 아이디를 나타내는 new_id가 매개변수로 주어질 때, \"네오\"가 설계한 7단계의 처리 과정을 거친 후의 추천 아이디를 return 하도록 solution 함수를 완성해 주세요.\n",
    "\n",
    "\n",
    "### [제한사항]\n",
    "- new_id는 길이 1 이상 1,000 이하인 문자열입니다.\n",
    "- new_id는 알파벳 대문자, 알파벳 소문자, 숫자, 특수문자로 구성되어 있습니다.\n",
    "- new_id에 나타날 수 있는 특수문자는 -_.~!@#$%^&*()=+[{]}:?,<>/ 로 한정됩니다."
   ]
  },
  {
   "cell_type": "markdown",
   "id": "f9dc6806",
   "metadata": {},
   "source": [
    "### [입출력 예]\n",
    "- no\tnew_id\tresult\n",
    "- 예1\t\"...!@BaT#*..y.abcdefghijklm\"\t\"bat.y.abcdefghi\"\n",
    "- 예2\t\"z-+.^.\"\t\"z--\"\n",
    "- 예3\t\"=.=\"\t\"aaa\"\n",
    "- 예4\t\"123_.def\"\t\"123_.def\"\n",
    "- 예5\t\"abcdefghijklmn.p\"\t\"abcdefghijklmn\"\n",
    "\n",
    "\n",
    "### 입출력 예에 대한 설명\n",
    "#### 입출력 예 #1\n",
    "- 문제의 예시와 같습니다.\n",
    "\n",
    "\n",
    "#### 입출력 예 #2\n",
    "-  7단계를 거치는 동안 new_id가 변화하는 과정은 아래와 같습니다.\n",
    "- 1단계 변화 없습니다.\n",
    "- 2단계 \"z-+.^.\" → \"z-..\"\n",
    "- 3단계 \"z-..\" → \"z-.\"\n",
    "- 4단계 \"z-.\" → \"z-\"\n",
    "- 5단계 변화 없습니다.\n",
    "- 6단계 변화 없습니다.\n",
    "- 7단계 \"z-\" → \"z--\"\n",
    "\n",
    "\n",
    "#### 입출력 예 #3\n",
    "- 7단계를 거치는 동안 new_id가 변화하는 과정은 아래와 같습니다.\n",
    "- 1단계 변화 없습니다.\n",
    "- 2단계 \"=.=\" → \".\"\n",
    "- 3단계 변화 없습니다.\n",
    "- 4단계 \".\" → \"\" (new_id가 빈 문자열이 되었습니다.)\n",
    "- 5단계 \"\" → \"a\"\n",
    "- 6단계 변화 없습니다.\n",
    "- 7단계 \"a\" → \"aaa\"\n",
    "\n",
    "\n",
    "#### 입출력 예 #4\n",
    "- 1단계에서 7단계까지 거치는 동안 new_id(\"123_.def\")는 변하지 않습니다. 즉, new_id가 처음부터 카카오의 아이디 규칙에 맞습니다.\n",
    "\n",
    "\n",
    "#### 입출력 예 #5\n",
    "- 1단계 변화 없습니다.\n",
    "- 2단계 변화 없습니다.\n",
    "- 3단계 변화 없습니다.\n",
    "- 4단계 변화 없습니다.\n",
    "- 5단계 변화 없습니다.\n",
    "- 6단계 \"abcdefghijklmn.p\" → \"abcdefghijklmn.\" → \"abcdefghijklmn\"\n",
    "- 7단계 변화 없습니다."
   ]
  },
  {
   "cell_type": "markdown",
   "id": "134133e8",
   "metadata": {},
   "source": [
    "### 나의 풀이:\n",
    "- 각 단계별로 확인해보려고 print를 해놨다.\n",
    "1. .lower() 함수로 소문자로 치환했다.\n",
    "2. c라는 변수(new_id에 있는 요소)로 알파벳 소문자, 숫자, -, _, .를 감별해서 answer 문자열에 추가해줬다.\n",
    "3. .replace('원래 있는 값', '바꿀 값')으로 변경해줬다.\n",
    "4. 마침표의 처음과 끝을 제거했다. 슬라이싱을 이용해 변수에 업데이트 했다.\n",
    "5. new_id가 빈 문자열이라면, answer에 \"a\"를 대입했다.\n",
    "6. 슬라이싱을 이용해 문자열의 길이가 16 이상이면 문자열 처음 15개 출력하고, 마지막이 마침표면 끝을 제거했다.\n",
    "7. 문자열 길이가 3 이하일 때, -1 슬라이싱을 이용해 마지막 글자를 += 해줬다."
   ]
  },
  {
   "cell_type": "code",
   "execution_count": 23,
   "id": "5ec28f35",
   "metadata": {},
   "outputs": [],
   "source": [
    "def solution(new_id):\n",
    "    answer = ''\n",
    "    \n",
    "    # 1단계: new_id의 모든 대문자를 대응되는 소문자로 치환합니다.\n",
    "    new_id = new_id.lower()\n",
    "    print('1단계: ', new_id)\n",
    "    \n",
    "    # 2단계: new_id에서 알파벳 소문자, 숫자, 빼기(-), 밑줄(_), 마침표(.)를 제외한 모든 문자를 제거합니다.\n",
    "    for c in new_id:\n",
    "        if c.isalpha() or c.isdigit() or c in ['-', '_', '.']:\n",
    "            answer += c\n",
    "    print('2단계: ', answer)\n",
    "            \n",
    "    # 3단계: new_id에서 마침표(.)가 2번 이상 연속된 부분을 하나의 마침표(.)로 치환합니다.\n",
    "    while '..' in answer:\n",
    "        answer = answer.replace('..', '.')\n",
    "    print('3단계: ', answer)   \n",
    "    \n",
    "    # 4단계: new_id에서 마침표(.)가 처음이나 끝에 위치한다면 제거합니다.\n",
    "    if answer[0] == '.':\n",
    "        if len(answer) > 1:\n",
    "            answer = answer[1:] \n",
    "    if answer[-1] == '.':\n",
    "        answer = answer[:-1]\n",
    "    print('4단계: ', answer)\n",
    "        \n",
    "    # 5단계: new_id가 빈 문자열이라면, new_id에 \"a\"를 대입합니다.\n",
    "    if answer == '':\n",
    "        answer = 'a'\n",
    "    print('5단계: ', answer)\n",
    "    \n",
    "    # 6단계: new_id의 길이가 16자 이상이면, new_id의 첫 15개의 문자를 제외한 나머지 문자들을 모두 제거합니다.\n",
    "    # 만약 제거 후 마침표(.)가 new_id의 끝에 위치한다면 끝에 위치한 마침표(.) 문자를 제거합니다.\n",
    "    if len(answer) > 15:\n",
    "        answer = answer[:15]\n",
    "        if answer[-1] == '.':\n",
    "            answer = answer[:-1]\n",
    "    print('6단계: ', answer)        \n",
    "            \n",
    "    # 7단계: new_id의 길이가 2자 이하라면, new_id의 마지막 문자를 new_id의 길이가 3이 될 때까지 반복해서 끝에 붙입니다.\n",
    "    while len(answer) < 3:\n",
    "        answer += answer[-1]\n",
    "    print('7단계: ', answer)  \n",
    "    \n",
    "    return answer"
   ]
  },
  {
   "cell_type": "code",
   "execution_count": 24,
   "id": "0385949f",
   "metadata": {},
   "outputs": [
    {
     "name": "stdout",
     "output_type": "stream",
     "text": [
      "1단계:  ...!@bat#*..y.abcdefghijklm\n",
      "2단계:  ...bat..y.abcdefghijklm\n",
      "3단계:  .bat.y.abcdefghijklm\n",
      "4단계:  bat.y.abcdefghijklm\n",
      "5단계:  bat.y.abcdefghijklm\n",
      "6단계:  bat.y.abcdefghi\n",
      "7단계:  bat.y.abcdefghi\n"
     ]
    },
    {
     "data": {
      "text/plain": [
       "'bat.y.abcdefghi'"
      ]
     },
     "execution_count": 24,
     "metadata": {},
     "output_type": "execute_result"
    }
   ],
   "source": [
    "# \"bat.y.abcdefghi\" \n",
    "new_id = \"...!@BaT#*..y.abcdefghijklm\"\n",
    "solution(new_id)"
   ]
  },
  {
   "cell_type": "code",
   "execution_count": 25,
   "id": "dfede545",
   "metadata": {},
   "outputs": [
    {
     "name": "stdout",
     "output_type": "stream",
     "text": [
      "1단계:  z-+.^.\n",
      "2단계:  z-..\n",
      "3단계:  z-.\n",
      "4단계:  z-\n",
      "5단계:  z-\n",
      "6단계:  z-\n",
      "7단계:  z--\n"
     ]
    },
    {
     "data": {
      "text/plain": [
       "'z--'"
      ]
     },
     "execution_count": 25,
     "metadata": {},
     "output_type": "execute_result"
    }
   ],
   "source": [
    "# \"z--\"\n",
    "new_id = \"z-+.^.\"\n",
    "solution(new_id)"
   ]
  },
  {
   "cell_type": "code",
   "execution_count": 26,
   "id": "1097bac2",
   "metadata": {},
   "outputs": [
    {
     "name": "stdout",
     "output_type": "stream",
     "text": [
      "1단계:  =.=\n",
      "2단계:  .\n",
      "3단계:  .\n",
      "4단계:  \n",
      "5단계:  a\n",
      "6단계:  a\n",
      "7단계:  aaa\n"
     ]
    },
    {
     "data": {
      "text/plain": [
       "'aaa'"
      ]
     },
     "execution_count": 26,
     "metadata": {},
     "output_type": "execute_result"
    }
   ],
   "source": [
    "# \"aaa\"\n",
    "new_id = \"=.=\"\n",
    "solution(new_id)"
   ]
  },
  {
   "cell_type": "code",
   "execution_count": 27,
   "id": "2565d651",
   "metadata": {},
   "outputs": [
    {
     "name": "stdout",
     "output_type": "stream",
     "text": [
      "1단계:  123_.def\n",
      "2단계:  123_.def\n",
      "3단계:  123_.def\n",
      "4단계:  123_.def\n",
      "5단계:  123_.def\n",
      "6단계:  123_.def\n",
      "7단계:  123_.def\n"
     ]
    },
    {
     "data": {
      "text/plain": [
       "'123_.def'"
      ]
     },
     "execution_count": 27,
     "metadata": {},
     "output_type": "execute_result"
    }
   ],
   "source": [
    "# \"123_.def\"\n",
    "new_id = \"123_.def\"\n",
    "solution(new_id)"
   ]
  },
  {
   "cell_type": "code",
   "execution_count": 28,
   "id": "f8e6d267",
   "metadata": {},
   "outputs": [
    {
     "name": "stdout",
     "output_type": "stream",
     "text": [
      "1단계:  abcdefghijklmn.p\n",
      "2단계:  abcdefghijklmn.p\n",
      "3단계:  abcdefghijklmn.p\n",
      "4단계:  abcdefghijklmn.p\n",
      "5단계:  abcdefghijklmn.p\n",
      "6단계:  abcdefghijklmn\n",
      "7단계:  abcdefghijklmn\n"
     ]
    },
    {
     "data": {
      "text/plain": [
       "'abcdefghijklmn'"
      ]
     },
     "execution_count": 28,
     "metadata": {},
     "output_type": "execute_result"
    }
   ],
   "source": [
    "# \"abcdefghijklmn\"\n",
    "new_id = \"abcdefghijklmn.p\"\n",
    "solution(new_id)"
   ]
  },
  {
   "cell_type": "code",
   "execution_count": null,
   "id": "c88243e2",
   "metadata": {},
   "outputs": [],
   "source": []
  }
 ],
 "metadata": {
  "kernelspec": {
   "display_name": "python3_7_6",
   "language": "python",
   "name": "py3_7_6"
  },
  "language_info": {
   "codemirror_mode": {
    "name": "ipython",
    "version": 3
   },
   "file_extension": ".py",
   "mimetype": "text/x-python",
   "name": "python",
   "nbconvert_exporter": "python",
   "pygments_lexer": "ipython3",
   "version": "3.7.6"
  }
 },
 "nbformat": 4,
 "nbformat_minor": 5
}
