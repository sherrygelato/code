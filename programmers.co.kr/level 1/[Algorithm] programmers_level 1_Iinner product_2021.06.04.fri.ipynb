{
 "cells": [
  {
   "cell_type": "markdown",
   "id": "7adc9098",
   "metadata": {},
   "source": [
    "# 내적\n",
    "https://programmers.co.kr/learn/courses/30/lessons/70128?language=python3\n",
    "\n",
    "\n",
    "### 문제 설명\n",
    "- 길이가 같은 두 1차원 정수 배열 a, b가 매개변수로 주어집니다. a와 b의 [내적](https://namu.wiki/w/%EB%82%B4%EC%A0%81)을 return 하도록 solution 함수를 완성해주세요.\n",
    "- 이때, a와 b의 내적은 a[0]*b[0] + a[1]*b[1] + ... + a[n-1]*b[n-1] 입니다. (n은 a, b의 길이)\n",
    "\n",
    "\n",
    "### 제한사항\n",
    "- a, b의 길이는 1 이상 1,000 이하입니다.\n",
    "- a, b의 모든 수는 -1,000 이상 1,000 이하입니다.\n",
    "\n",
    "\n",
    "### 입출력 예\n",
    "- a\tb\tresult\n",
    "- [1,2,3,4]\t[-3,-1,0,2]\t3\n",
    "- [-1,0,1]\t[1,0,-1]\t-2\n",
    "\n",
    "\n",
    "### 입출력 예 설명\n",
    "#### 입출력 예 #1\n",
    "\n",
    "- a와 b의 내적은 1*(-3) + 2*(-1) + 3*0 + 4*2 = 3 입니다.\n",
    "#### 입출력 예 #2\n",
    "\n",
    "- a와 b의 내적은 (-1)*1 + 0*0 + 1*(-1) = -2 입니다.\n",
    "\n",
    "\n",
    "### 나의 풀이:\n",
    "- 두 개의 변수를 쓰니까 zip()이 생각남"
   ]
  },
  {
   "cell_type": "code",
   "execution_count": 2,
   "id": "0e8d986d",
   "metadata": {},
   "outputs": [],
   "source": [
    "def solution(a, b):\n",
    "    answer = 0\n",
    "    for a, b in zip(a,b):\n",
    "        answer += a*b\n",
    "    return answer"
   ]
  },
  {
   "cell_type": "markdown",
   "id": "3eb91de9",
   "metadata": {},
   "source": [
    "### 다른 사람 풀이:"
   ]
  },
  {
   "cell_type": "code",
   "execution_count": 3,
   "id": "5d8b3ed7",
   "metadata": {},
   "outputs": [],
   "source": [
    "def solution(a, b):\n",
    "    return sum([x*y for x, y in zip(a,b)])"
   ]
  },
  {
   "cell_type": "code",
   "execution_count": 4,
   "id": "d738c38e",
   "metadata": {},
   "outputs": [],
   "source": [
    "def solution(a, b):\n",
    "    return sum(map(lambda i: a[i]*b[i], range(len(a))))"
   ]
  },
  {
   "cell_type": "code",
   "execution_count": null,
   "id": "226598c0",
   "metadata": {},
   "outputs": [],
   "source": []
  }
 ],
 "metadata": {
  "kernelspec": {
   "display_name": "python3_7_6",
   "language": "python",
   "name": "py3_7_6"
  },
  "language_info": {
   "codemirror_mode": {
    "name": "ipython",
    "version": 3
   },
   "file_extension": ".py",
   "mimetype": "text/x-python",
   "name": "python",
   "nbconvert_exporter": "python",
   "pygments_lexer": "ipython3",
   "version": "3.7.6"
  }
 },
 "nbformat": 4,
 "nbformat_minor": 5
}
