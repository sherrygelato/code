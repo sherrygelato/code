{
 "cells": [
  {
   "cell_type": "markdown",
   "id": "628db273",
   "metadata": {},
   "source": [
    "# 2016년\n",
    "https://programmers.co.kr/learn/courses/30/lessons/12901\n",
    "\n",
    "\n",
    "### 문제 설명:\n",
    "- 2016년 1월 1일은 금요일입니다. 2016년 a월 b일은 무슨 요일일까요? \n",
    "- 두 수 a ,b를 입력받아 2016년 a월 b일이 무슨 요일인지 리턴하는 함수, solution을 완성하세요. \n",
    "- 요일의 이름은 일요일부터 토요일까지 각각 SUN,MON,TUE,WED,THU,FRI,SAT입니다. \n",
    "- 예를 들어 a=5, b=24라면 5월 24일은 화요일이므로 문자열 \"TUE\"를 반환하세요.\n",
    "\n",
    "\n",
    "### 제한 조건:\n",
    "- 2016년은 윤년입니다.\n",
    "- 2016년 a월 b일은 실제로 있는 날입니다. (13월 26일이나 2월 45일같은 날짜는 주어지지 않습니다)\n",
    "\n",
    "\n",
    "### 입출력 예:\n",
    "- (a,b) = (5, 24)\n",
    "- return \"TUE\"\n",
    "\n",
    "\n",
    "### 나의 풀이:\n",
    "1. 리스트에서 인덱스로 접근하게끔 머리를 굴렸다.\n",
    "2. 월별 몇일인지, 일주일 리스트를 생성했다.\n",
    "3. months와 days의 [1]은 각각 찾고자 하는 것의 -1(제로 인덱스이기에)라서 0, 'THU'\n",
    "4. 1년은 365일이 52주 1일, 윤년은 2일이기에 53주를 곱해줌\n",
    "5. a월이 뜨면 months에서 각 월에 해당하는 날짜수를 더하고, b일을 더해주고\n",
    "6. 그 인덱스로 days에서 요일을 뽑아낸다."
   ]
  },
  {
   "cell_type": "code",
   "execution_count": 1,
   "id": "6c907673",
   "metadata": {},
   "outputs": [],
   "source": [
    "def solution(a,b):\n",
    "    months = [0,31,29,31,30,31,30,31,31,30,31,30,31] \n",
    "    # index 기준 [1] = 31\n",
    "    days = ['THU','FRI','SAT','SUN','MON','TUE','WED']\n",
    "    # index 기준 [1] = 'FRI'\n",
    "    days = days * 53 \n",
    "    # 1년 52주 1일~2일(윤년)\n",
    "    answer = days[sum(months[:a]) + b]\n",
    "    return answer"
   ]
  },
  {
   "cell_type": "code",
   "execution_count": 4,
   "id": "b1d2ca29",
   "metadata": {},
   "outputs": [
    {
     "data": {
      "text/plain": [
       "'FRI'"
      ]
     },
     "execution_count": 4,
     "metadata": {},
     "output_type": "execute_result"
    }
   ],
   "source": [
    "a = 1\n",
    "b = 1\n",
    "solution(a,b)"
   ]
  },
  {
   "cell_type": "code",
   "execution_count": 5,
   "id": "5f177172",
   "metadata": {},
   "outputs": [
    {
     "data": {
      "text/plain": [
       "'TUE'"
      ]
     },
     "execution_count": 5,
     "metadata": {},
     "output_type": "execute_result"
    }
   ],
   "source": [
    "a = 5\n",
    "b = 24\n",
    "solution(a,b)"
   ]
  }
 ],
 "metadata": {
  "kernelspec": {
   "display_name": "python3_7_6",
   "language": "python",
   "name": "py3_7_6"
  },
  "language_info": {
   "codemirror_mode": {
    "name": "ipython",
    "version": 3
   },
   "file_extension": ".py",
   "mimetype": "text/x-python",
   "name": "python",
   "nbconvert_exporter": "python",
   "pygments_lexer": "ipython3",
   "version": "3.7.6"
  }
 },
 "nbformat": 4,
 "nbformat_minor": 5
}
