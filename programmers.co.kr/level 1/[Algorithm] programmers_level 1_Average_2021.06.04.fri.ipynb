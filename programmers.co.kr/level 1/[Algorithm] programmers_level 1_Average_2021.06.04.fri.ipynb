{
 "cells": [
  {
   "cell_type": "markdown",
   "id": "29450405",
   "metadata": {},
   "source": [
    "# 평균 구하기\n",
    "https://programmers.co.kr/learn/courses/30/lessons/12944\n",
    "\n",
    "\n",
    "### 문제 설명\n",
    "- 정수를 담고 있는 배열 arr의 평균값을 return하는 함수, solution을 완성해보세요.\n",
    "\n",
    "\n",
    "### 제한사항\n",
    "- arr은 길이 1 이상, 100 이하인 배열입니다.\n",
    "- arr의 원소는 -10,000 이상 10,000 이하인 정수입니다.\n",
    "\n",
    "\n",
    "### 입출력 예\n",
    "- arr\treturn\n",
    "- [1,2,3,4]\t2.5\n",
    "- [5,5]\t5\n",
    "\n",
    "\n",
    "### 나의 풀이:"
   ]
  },
  {
   "cell_type": "code",
   "execution_count": 1,
   "id": "99043a91",
   "metadata": {},
   "outputs": [],
   "source": [
    "def solution(arr):\n",
    "    return sum(arr) / len(arr)"
   ]
  },
  {
   "cell_type": "code",
   "execution_count": 2,
   "id": "9acfcb1e",
   "metadata": {},
   "outputs": [],
   "source": [
    "def solution(arr):\n",
    "    try:\n",
    "        return sum(arr) / len(arr)\n",
    "    except:\n",
    "        return 0"
   ]
  },
  {
   "cell_type": "code",
   "execution_count": null,
   "id": "16c5a5f8",
   "metadata": {},
   "outputs": [],
   "source": []
  }
 ],
 "metadata": {
  "kernelspec": {
   "display_name": "python3_7_6",
   "language": "python",
   "name": "py3_7_6"
  },
  "language_info": {
   "codemirror_mode": {
    "name": "ipython",
    "version": 3
   },
   "file_extension": ".py",
   "mimetype": "text/x-python",
   "name": "python",
   "nbconvert_exporter": "python",
   "pygments_lexer": "ipython3",
   "version": "3.7.6"
  }
 },
 "nbformat": 4,
 "nbformat_minor": 5
}
