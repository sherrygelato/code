{
 "cells": [
  {
   "cell_type": "markdown",
   "id": "307eb319",
   "metadata": {},
   "source": [
    "# 두 개 뽑아서 더하기\n",
    "https://programmers.co.kr/learn/courses/30/lessons/68644?language=python3\n",
    "\n",
    "\n",
    "### 문제 설명\n",
    "- 정수 배열 numbers가 주어집니다. numbers에서 서로 다른 인덱스에 있는 두 개의 수를 뽑아 더해서 만들 수 있는 모든 수를 배열에 오름차순으로 담아 return 하도록 solution 함수를 완성해주세요.\n",
    "\n",
    "\n",
    "### 제한사항\n",
    "- numbers의 길이는 2 이상 100 이하입니다.\n",
    "- numbers의 모든 수는 0 이상 100 이하입니다.\n",
    "\n",
    "\n",
    "### 입출력 예\n",
    "- numbers\tresult\n",
    "- [2,1,3,4,1]\t[2,3,4,5,6,7]\n",
    "- [5,0,2,7]\t[2,5,7,9,12]\n",
    "\n",
    "\n",
    "### 입출력 예 설명\n",
    "#### 입출력 예 #1\n",
    "- 2 = 1 + 1 입니다. (1이 numbers에 두 개 있습니다.)\n",
    "- 3 = 2 + 1 입니다.\n",
    "- 4 = 1 + 3 입니다.\n",
    "- 5 = 1 + 4 = 2 + 3 입니다.\n",
    "- 6 = 2 + 4 입니다.\n",
    "- 7 = 3 + 4 입니다.\n",
    "- 따라서 [2,3,4,5,6,7] 을 return 해야 합니다.\n",
    "\n",
    "#### 입출력 예 #2\n",
    "- 2 = 0 + 2 입니다.\n",
    "- 5 = 5 + 0 입니다.\n",
    "- 7 = 0 + 7 = 5 + 2 입니다.\n",
    "- 9 = 2 + 7 입니다.\n",
    "- 12 = 5 + 7 입니다.\n",
    "- 따라서 [2,5,7,9,12] 를 return 해야 합니다.\n",
    "\n",
    "\n",
    "### 나의 풀이:\n",
    "1. 둘 중 '하나'와 '다른 하나'의 인덱스를 찾는다.\n",
    "2. '하나'랑 '다른 하나'랑 다르다는 조건을 만들고,\n",
    "3. 그 두 인덱스 값을 더하고 리스트에 추가한다.\n",
    "4. set()으로 묶어서 같은 원소를 없애고 리스트로 변환한다.\n",
    "5. 오름차순으로 정렬하고 answer을 반환한다."
   ]
  },
  {
   "cell_type": "code",
   "execution_count": 1,
   "id": "281e50c9",
   "metadata": {},
   "outputs": [],
   "source": [
    "def solution(numbers):\n",
    "    answer=[]\n",
    "    for i in range(len(numbers)): # 둘 중 '하나'\n",
    "        for j in range(len(numbers)): # 둘 중 '다른 하나'\n",
    "            if i!=j: # '하나'랑 '다른 하나'랑 다르다는 조건\n",
    "                answer.append(numbers[i]+numbers[j])\n",
    "    answer = list(set(answer)) # 같은 원소 없애고 리스트로 반환\n",
    "    answer.sort() # 오름차순 정렬\n",
    "    return answer"
   ]
  },
  {
   "cell_type": "code",
   "execution_count": 2,
   "id": "c1859a11",
   "metadata": {},
   "outputs": [
    {
     "data": {
      "text/plain": [
       "[2, 3, 4, 5, 6, 7]"
      ]
     },
     "execution_count": 2,
     "metadata": {},
     "output_type": "execute_result"
    }
   ],
   "source": [
    "numbers = [2,1,3,4,1]\n",
    "solution(numbers)"
   ]
  },
  {
   "cell_type": "code",
   "execution_count": 3,
   "id": "5f94ec5f",
   "metadata": {},
   "outputs": [
    {
     "data": {
      "text/plain": [
       "[2, 5, 7, 9, 12]"
      ]
     },
     "execution_count": 3,
     "metadata": {},
     "output_type": "execute_result"
    }
   ],
   "source": [
    "numbers = [5,0,2,7]\n",
    "solution(numbers)"
   ]
  }
 ],
 "metadata": {
  "kernelspec": {
   "display_name": "python3_7_6",
   "language": "python",
   "name": "py3_7_6"
  },
  "language_info": {
   "codemirror_mode": {
    "name": "ipython",
    "version": 3
   },
   "file_extension": ".py",
   "mimetype": "text/x-python",
   "name": "python",
   "nbconvert_exporter": "python",
   "pygments_lexer": "ipython3",
   "version": "3.7.6"
  }
 },
 "nbformat": 4,
 "nbformat_minor": 5
}
