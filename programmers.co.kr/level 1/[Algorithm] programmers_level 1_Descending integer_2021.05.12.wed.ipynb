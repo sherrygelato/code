{
 "cells": [
  {
   "cell_type": "markdown",
   "id": "bac00838",
   "metadata": {},
   "source": [
    "# 정수 내림차순으로 배치하기\n",
    "-https://programmers.co.kr/learn/courses/30/lessons/12933?language=python3"
   ]
  },
  {
   "cell_type": "markdown",
   "id": "e8ecc091",
   "metadata": {},
   "source": [
    "### 문제 설명\n",
    "- 함수 solution은 정수 n을 매개변수로 입력받습니다. n의 각 자릿수를 큰것부터 작은 순으로 정렬한 새로운 정수를 리턴해주세요. 예를들어 n이 118372면 873211을 리턴하면 됩니다.\n",
    "\n",
    "\n",
    "### 제한 조건\n",
    "- n은 1이상 8000000000 이하인 자연수입니다.\n",
    "\n",
    "\n",
    "### 입출력 예\n",
    "- n = 118372\t\n",
    "- return 873211\n",
    "\n",
    "\n",
    "### 나의 풀이\n",
    "1. n을 문자로 만든 후 리스트로 만들어준다.\n",
    "2. 리스트로 만들면 인덱스로 문자가 나뉘는데, 그걸 내림차순으로 정렬한다.\n",
    "3. join 함수로 묶고 정수로 변환시켜준다."
   ]
  },
  {
   "cell_type": "code",
   "execution_count": 1,
   "id": "7dd4caf8",
   "metadata": {},
   "outputs": [
    {
     "name": "stdout",
     "output_type": "stream",
     "text": [
      "118372\n",
      "<class 'str'>\n"
     ]
    }
   ],
   "source": [
    "n = 118372\n",
    "n = str(n)\n",
    "print(n)\n",
    "print(type(n))"
   ]
  },
  {
   "cell_type": "code",
   "execution_count": 2,
   "id": "279b0ee3",
   "metadata": {},
   "outputs": [
    {
     "name": "stdout",
     "output_type": "stream",
     "text": [
      "['1', '1', '8', '3', '7', '2']\n",
      "<class 'list'>\n"
     ]
    }
   ],
   "source": [
    "n = list(n)\n",
    "print(n)\n",
    "print(type(n))"
   ]
  },
  {
   "cell_type": "code",
   "execution_count": 3,
   "id": "312f509e",
   "metadata": {},
   "outputs": [
    {
     "name": "stdout",
     "output_type": "stream",
     "text": [
      "['8', '7', '3', '2', '1', '1']\n",
      "<class 'list'>\n"
     ]
    }
   ],
   "source": [
    "n = sorted(n, reverse=True)\n",
    "print(n)\n",
    "print(type(n))"
   ]
  },
  {
   "cell_type": "code",
   "execution_count": 4,
   "id": "9fca4d8e",
   "metadata": {},
   "outputs": [
    {
     "name": "stdout",
     "output_type": "stream",
     "text": [
      "873211\n",
      "<class 'int'>\n"
     ]
    }
   ],
   "source": [
    "answer = int(\"\".join(n))\n",
    "print(answer)\n",
    "print(type(answer))"
   ]
  },
  {
   "cell_type": "code",
   "execution_count": 5,
   "id": "b4b999a6",
   "metadata": {},
   "outputs": [],
   "source": [
    "def solution(n):\n",
    "    n = sorted(list(str(n)), reverse = True)\n",
    "    return int(\"\".join(n))"
   ]
  },
  {
   "cell_type": "code",
   "execution_count": 6,
   "id": "7f51c64e",
   "metadata": {},
   "outputs": [
    {
     "data": {
      "text/plain": [
       "873211"
      ]
     },
     "execution_count": 6,
     "metadata": {},
     "output_type": "execute_result"
    }
   ],
   "source": [
    "n = 118372\n",
    "solution(n)"
   ]
  },
  {
   "cell_type": "markdown",
   "id": "0a5be284",
   "metadata": {},
   "source": [
    "### 다른 사람 풀이"
   ]
  },
  {
   "cell_type": "code",
   "execution_count": 7,
   "id": "79a3af4f",
   "metadata": {},
   "outputs": [],
   "source": [
    "def solution(n):\n",
    "    return int(\"\".join(sorted(list(str(n)), reverse = True)))"
   ]
  },
  {
   "cell_type": "markdown",
   "id": "c5520b0e",
   "metadata": {},
   "source": [
    "sort(), reverse() 사용"
   ]
  },
  {
   "cell_type": "code",
   "execution_count": 8,
   "id": "0787b9c1",
   "metadata": {},
   "outputs": [
    {
     "name": "stdout",
     "output_type": "stream",
     "text": [
      "873211\n",
      "<class 'int'>\n"
     ]
    }
   ],
   "source": [
    "n = 118372\n",
    "n = str(n)\n",
    "n = list(n)\n",
    "n.sort()\n",
    "n.reverse()\n",
    "n = \"\".join(n)\n",
    "n = int(n)\n",
    "print(n)\n",
    "print(type(n))"
   ]
  }
 ],
 "metadata": {
  "kernelspec": {
   "display_name": "python3_7_6",
   "language": "python",
   "name": "py3_7_6"
  },
  "language_info": {
   "codemirror_mode": {
    "name": "ipython",
    "version": 3
   },
   "file_extension": ".py",
   "mimetype": "text/x-python",
   "name": "python",
   "nbconvert_exporter": "python",
   "pygments_lexer": "ipython3",
   "version": "3.7.6"
  }
 },
 "nbformat": 4,
 "nbformat_minor": 5
}
