{
 "cells": [
  {
   "cell_type": "code",
   "execution_count": 1,
   "id": "ec7eca5c",
   "metadata": {},
   "outputs": [],
   "source": [
    "import math"
   ]
  },
  {
   "cell_type": "markdown",
   "id": "5eacebd3",
   "metadata": {},
   "source": [
    "- 지수함수"
   ]
  },
  {
   "cell_type": "code",
   "execution_count": 3,
   "id": "1376d350",
   "metadata": {},
   "outputs": [
    {
     "data": {
      "text/plain": [
       "32.0"
      ]
     },
     "execution_count": 3,
     "metadata": {},
     "output_type": "execute_result"
    }
   ],
   "source": [
    "pow = math.pow(2, 5)\n",
    "# 2의 5승\n",
    "pow"
   ]
  },
  {
   "cell_type": "code",
   "execution_count": 4,
   "id": "665e1767",
   "metadata": {},
   "outputs": [
    {
     "data": {
      "text/plain": [
       "1.4142135623730951"
      ]
     },
     "execution_count": 4,
     "metadata": {},
     "output_type": "execute_result"
    }
   ],
   "source": [
    "math.sqrt(2)\n",
    "# 2의 제곱근"
   ]
  },
  {
   "cell_type": "code",
   "execution_count": 5,
   "id": "b7f039eb",
   "metadata": {},
   "outputs": [
    {
     "data": {
      "text/plain": [
       "7.38905609893065"
      ]
     },
     "execution_count": 5,
     "metadata": {},
     "output_type": "execute_result"
    }
   ],
   "source": [
    "math.exp(2)"
   ]
  },
  {
   "cell_type": "markdown",
   "id": "b2d0e803",
   "metadata": {},
   "source": [
    "- 로그함수"
   ]
  },
  {
   "cell_type": "code",
   "execution_count": 6,
   "id": "a36f12c7",
   "metadata": {},
   "outputs": [
    {
     "data": {
      "text/plain": [
       "0.5"
      ]
     },
     "execution_count": 6,
     "metadata": {},
     "output_type": "execute_result"
    }
   ],
   "source": [
    "# 로그함수\n",
    "math.log(2,4) \n",
    "# 밑이 4이고 진수(승)가 2인 로그함수 log4 2"
   ]
  },
  {
   "cell_type": "code",
   "execution_count": 7,
   "id": "d489b30e",
   "metadata": {},
   "outputs": [
    {
     "data": {
      "text/plain": [
       "2.0"
      ]
     },
     "execution_count": 7,
     "metadata": {},
     "output_type": "execute_result"
    }
   ],
   "source": [
    "math.log(4,2)"
   ]
  },
  {
   "cell_type": "markdown",
   "id": "14cef0f8",
   "metadata": {},
   "source": [
    "- 지수함수와 로그함수의 역함수 관계를 Relu 함수 때문에 이 성질을 잘 알아야 한다.\n",
    "- 로그를 취하면 역으로 구할 수 있음. 작은 수로 수렴하게 되니까."
   ]
  },
  {
   "cell_type": "code",
   "execution_count": null,
   "id": "d95ecfe7",
   "metadata": {},
   "outputs": [],
   "source": []
  }
 ],
 "metadata": {
  "kernelspec": {
   "display_name": "python3_7_6",
   "language": "python",
   "name": "py3_7_6"
  },
  "language_info": {
   "codemirror_mode": {
    "name": "ipython",
    "version": 3
   },
   "file_extension": ".py",
   "mimetype": "text/x-python",
   "name": "python",
   "nbconvert_exporter": "python",
   "pygments_lexer": "ipython3",
   "version": "3.7.6"
  }
 },
 "nbformat": 4,
 "nbformat_minor": 5
}
