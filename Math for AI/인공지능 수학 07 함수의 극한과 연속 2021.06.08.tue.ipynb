{
 "cells": [
  {
   "cell_type": "code",
   "execution_count": 3,
   "id": "9139f520",
   "metadata": {},
   "outputs": [],
   "source": [
    "import math\n",
    "from sympy import Limit, S, Symbol"
   ]
  },
  {
   "cell_type": "code",
   "execution_count": 2,
   "id": "51988a7c",
   "metadata": {},
   "outputs": [
    {
     "name": "stdout",
     "output_type": "stream",
     "text": [
      "Collecting sympy\n",
      "  Downloading sympy-1.8-py3-none-any.whl (6.1 MB)\n",
      "Collecting mpmath>=0.19\n",
      "  Downloading mpmath-1.2.1-py3-none-any.whl (532 kB)\n",
      "Installing collected packages: mpmath, sympy\n",
      "Successfully installed mpmath-1.2.1 sympy-1.8\n",
      "Note: you may need to restart the kernel to use updated packages.\n"
     ]
    },
    {
     "name": "stderr",
     "output_type": "stream",
     "text": [
      "WARNING: Ignoring invalid distribution -ensorflow-estimator (c:\\programdata\\anaconda3\\envs\\py3_7_6\\lib\\site-packages)\n",
      "WARNING: Ignoring invalid distribution -ensorflow-estimator (c:\\programdata\\anaconda3\\envs\\py3_7_6\\lib\\site-packages)\n",
      "WARNING: Ignoring invalid distribution -ensorflow-estimator (c:\\programdata\\anaconda3\\envs\\py3_7_6\\lib\\site-packages)\n",
      "WARNING: Ignoring invalid distribution -ensorflow-estimator (c:\\programdata\\anaconda3\\envs\\py3_7_6\\lib\\site-packages)\n",
      "WARNING: Ignoring invalid distribution -ensorflow-estimator (c:\\programdata\\anaconda3\\envs\\py3_7_6\\lib\\site-packages)\n",
      "WARNING: Ignoring invalid distribution -ensorflow-estimator (c:\\programdata\\anaconda3\\envs\\py3_7_6\\lib\\site-packages)\n",
      "WARNING: Ignoring invalid distribution -ensorflow-estimator (c:\\programdata\\anaconda3\\envs\\py3_7_6\\lib\\site-packages)\n",
      "WARNING: Ignoring invalid distribution -ensorflow-estimator (c:\\programdata\\anaconda3\\envs\\py3_7_6\\lib\\site-packages)\n"
     ]
    }
   ],
   "source": [
    "pip install sympy"
   ]
  },
  {
   "cell_type": "code",
   "execution_count": 4,
   "id": "dc86b51a",
   "metadata": {},
   "outputs": [
    {
     "data": {
      "text/latex": [
       "$\\displaystyle 0$"
      ],
      "text/plain": [
       "0"
      ]
     },
     "execution_count": 4,
     "metadata": {},
     "output_type": "execute_result"
    }
   ],
   "source": [
    "x = Symbol('x')\n",
    "Limit(1/x, x, S.Infinity).doit()"
   ]
  },
  {
   "cell_type": "code",
   "execution_count": 5,
   "id": "331a63ce",
   "metadata": {},
   "outputs": [
    {
     "data": {
      "text/latex": [
       "$\\displaystyle x$"
      ],
      "text/plain": [
       "x"
      ]
     },
     "execution_count": 5,
     "metadata": {},
     "output_type": "execute_result"
    }
   ],
   "source": [
    "x"
   ]
  },
  {
   "cell_type": "code",
   "execution_count": 8,
   "id": "b85b8c92",
   "metadata": {},
   "outputs": [
    {
     "data": {
      "text/latex": [
       "$\\displaystyle \\lim_{x \\to 0^+} \\frac{1}{x}$"
      ],
      "text/plain": [
       "Limit(1/x, x, 0)"
      ]
     },
     "execution_count": 8,
     "metadata": {},
     "output_type": "execute_result"
    }
   ],
   "source": [
    "Limit(1/x, x, 0)"
   ]
  },
  {
   "cell_type": "code",
   "execution_count": 9,
   "id": "ec9d7edb",
   "metadata": {},
   "outputs": [
    {
     "data": {
      "text/latex": [
       "$\\displaystyle \\infty$"
      ],
      "text/plain": [
       "oo"
      ]
     },
     "execution_count": 9,
     "metadata": {},
     "output_type": "execute_result"
    }
   ],
   "source": [
    "Limit(1/x, x, 0).doit()"
   ]
  },
  {
   "cell_type": "code",
   "execution_count": 10,
   "id": "699a5713",
   "metadata": {},
   "outputs": [
    {
     "data": {
      "text/latex": [
       "$\\displaystyle \\lim_{x \\to 0^-} \\frac{1}{x}$"
      ],
      "text/plain": [
       "Limit(1/x, x, 0, dir='-')"
      ]
     },
     "execution_count": 10,
     "metadata": {},
     "output_type": "execute_result"
    }
   ],
   "source": [
    "Limit(1/x, x, 0, dir='-')"
   ]
  },
  {
   "cell_type": "code",
   "execution_count": 11,
   "id": "cb1854c2",
   "metadata": {},
   "outputs": [
    {
     "data": {
      "text/latex": [
       "$\\displaystyle -\\infty$"
      ],
      "text/plain": [
       "-oo"
      ]
     },
     "execution_count": 11,
     "metadata": {},
     "output_type": "execute_result"
    }
   ],
   "source": [
    "Limit(1/x, x, 0, dir='-').doit()"
   ]
  },
  {
   "cell_type": "code",
   "execution_count": null,
   "id": "f7560f08",
   "metadata": {},
   "outputs": [],
   "source": []
  }
 ],
 "metadata": {
  "kernelspec": {
   "display_name": "python3_7_6",
   "language": "python",
   "name": "py3_7_6"
  },
  "language_info": {
   "codemirror_mode": {
    "name": "ipython",
    "version": 3
   },
   "file_extension": ".py",
   "mimetype": "text/x-python",
   "name": "python",
   "nbconvert_exporter": "python",
   "pygments_lexer": "ipython3",
   "version": "3.7.6"
  }
 },
 "nbformat": 4,
 "nbformat_minor": 5
}
