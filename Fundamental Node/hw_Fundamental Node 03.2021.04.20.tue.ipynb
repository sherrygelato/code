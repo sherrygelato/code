{
 "cells": [
  {
   "cell_type": "markdown",
   "id": "397c58a7",
   "metadata": {},
   "source": [
    "# 13-1 파이썬 잘 하는 척 해보기"
   ]
  },
  {
   "cell_type": "markdown",
   "id": "193c5a22",
   "metadata": {},
   "source": [
    "# 13-1 목차"
   ]
  },
  {
   "cell_type": "markdown",
   "id": "7858481f",
   "metadata": {},
   "source": [
    "1. 파이썬 어디까지 써 봤니?\n",
    "2. 파이썬을 더 잘 사용해보자!\\\n",
    "   2.1. for문 잘 써보기\\\n",
    "   2.2. Try - Except\\\n",
    "   2.3. Multiprocessing\n",
    "3. 같은 코드 두 번 짜지 말자!\\\n",
    "   3.1. 함수\\\n",
    "   3.2. 람다 표현식\\\n",
    "   3.3. 클래스, 모듈, 패키지\n",
    "4. 프로그래밍 패러다임과 함수형 프로그래밍\n",
    "5. 파이써닉하게 코드를 짜보자!"
   ]
  },
  {
   "cell_type": "markdown",
   "id": "0aace0a4",
   "metadata": {},
   "source": [
    "# 13-2 파이썬 어디까지 써 봤니?!"
   ]
  },
  {
   "cell_type": "markdown",
   "id": "3bb8dbe7",
   "metadata": {},
   "source": [
    "##### 왜 파이썬인가?"
   ]
  },
  {
   "cell_type": "markdown",
   "id": "ddc4a88a",
   "metadata": {},
   "source": [
    "## 퍼포먼스 vs 생산성"
   ]
  },
  {
   "cell_type": "markdown",
   "id": "08fd7c3a",
   "metadata": {},
   "source": [
    "- 코딩 언어에서 가장 중요하게 생각하는 것 두 가지"
   ]
  },
  {
   "cell_type": "markdown",
   "id": "08784d4b",
   "metadata": {},
   "source": [
    "### 1. 퍼포먼스(성능)\n",
    "- 어떤 언어든 코드를 짜서 실행을 시켰을 때 얼마나 빨리 처리가 되는가"
   ]
  },
  {
   "cell_type": "markdown",
   "id": "caa74154",
   "metadata": {},
   "source": [
    "##### 예시) 자전거와 자동차\n",
    "- 자전거: 사람이 엔진이 되어 움직이는 이동수단\n",
    "- 자동차: 기계가 엔진으로 있는 성능이 매우 좋은 이동수단\n",
    "\n",
    "성능이 좋고 나쁘고는 이동수단이 얼마나 빨리 움직인늬에 따라 정해진다.\n",
    "\n",
    "자전거를 타는 것보다는 자동차를 타고 움직이는 것이 훨씬 빠르다는 결론."
   ]
  },
  {
   "cell_type": "markdown",
   "id": "a6b1f4f7",
   "metadata": {},
   "source": [
    "언어도 마찬가지. 퍼포먼스가 좋은 언어는 는 특정한 연산을 빠르게 수행하고 퍼포먼스가 안 좋은 언어는 연산이 느리게 수행되게 된다."
   ]
  },
  {
   "cell_type": "markdown",
   "id": "e27cdad9",
   "metadata": {},
   "source": [
    "### 2. 생산성\n",
    "- 똑같은 기능을 하는 프로그램을 얼마나 빨리 작성할 수 있는가\n",
    "\n",
    "예를 들어, 사진을 분류하는 프로그램을 만든다고 해보면, 같은 기능을 가진 프로\n",
    "그램이라도 파이썬으로는 일주일 만에 짤 수도 있지만, C++로는 한 달이 걸릴 수도 있다. 훨씬 많은 코드를 쳐서 만들어야 한다."
   ]
  },
  {
   "cell_type": "markdown",
   "id": "16641ebe",
   "metadata": {},
   "source": [
    "### 3. 퍼포먼스 vs 생산성\n",
    "- 생산성과 퍼포먼스가 모두 뛰어난 언어를 선택하면 좋겠지만, 사실 생산성이 좋은 언어들은 퍼포먼스가 떨어지고 퍼포먼스가 좋은 언어는 생산성이 떨어진다. "
   ]
  },
  {
   "cell_type": "markdown",
   "id": "bc52123f",
   "metadata": {},
   "source": [
    "#### 그래서 어떤 언어를 써야 하는가?\n",
    "- 목적, 상황에 맞게 언어를 선택하고 사용하는 방법을 배우면 된다.\n",
    "\n",
    "실무: 회사의 각 프로그램들에서 기존에 사용하고 있는 언어를 가장 먼저 고려하고, 그 다음에 개발하고자 하는 프로젝트의 성능과 개발 기간을 고려해서 언어를 정한다."
   ]
  },
  {
   "cell_type": "markdown",
   "id": "e0937c3d",
   "metadata": {},
   "source": [
    "### 파이썬의 성능\n",
    "### 1. 높은 생산성\n",
    "- 다양한 모듈의 라이브러리화\n",
    "- 쉽게 설치할 수 있는 써드파티 라이브러리"
   ]
  },
  {
   "cell_type": "markdown",
   "id": "7c5f5893",
   "metadata": {},
   "source": [
    "### 2. 코드의 간결함"
   ]
  },
  {
   "cell_type": "markdown",
   "id": "9968423e",
   "metadata": {},
   "source": [
    "#### java"
   ]
  },
  {
   "cell_type": "code",
   "execution_count": 1,
   "id": "e3a627fb",
   "metadata": {},
   "outputs": [
    {
     "ename": "SyntaxError",
     "evalue": "invalid syntax (<ipython-input-1-77492b640bf2>, line 1)",
     "output_type": "error",
     "traceback": [
      "\u001b[1;36m  File \u001b[1;32m\"<ipython-input-1-77492b640bf2>\"\u001b[1;36m, line \u001b[1;32m1\u001b[0m\n\u001b[1;33m    if(true) {\u001b[0m\n\u001b[1;37m             ^\u001b[0m\n\u001b[1;31mSyntaxError\u001b[0m\u001b[1;31m:\u001b[0m invalid syntax\n"
     ]
    }
   ],
   "source": [
    "if(true) {\n",
    "    System.out.println(\"첫 번째\");\n",
    "    if(true) {\n",
    "        System.out.println(\"두 번째\");\n",
    "    }\n",
    "}"
   ]
  },
  {
   "cell_type": "markdown",
   "id": "4324b344",
   "metadata": {},
   "source": [
    "#### python"
   ]
  },
  {
   "cell_type": "code",
   "execution_count": null,
   "id": "41d92007",
   "metadata": {},
   "outputs": [],
   "source": [
    "if True :\n",
    "    print(\"첫 번쨰\");\n",
    "    if True :\n",
    "        print(\"두 번째\");"
   ]
  },
  {
   "cell_type": "markdown",
   "id": "a46045c3",
   "metadata": {},
   "source": [
    "### 3. 빠른 개발 속도"
   ]
  },
  {
   "cell_type": "markdown",
   "id": "b3b673c8",
   "metadata": {},
   "source": [
    "C++로 짜게 되면 평균 11시간 정도의 시간이 걸리고, 파이썬으로 짜게 되면 약 3시간의 시간이 걸리는 걸 확인할 수 있으므로, 성능과 상관없이 개발이 빨리 돼야 하는 프로젝트를 하시게 된다면 파이썬을 사용하면 좋다.\n"
   ]
  },
  {
   "cell_type": "markdown",
   "id": "417535ff",
   "metadata": {},
   "source": [
    "### 4.  스크립트 언어"
   ]
  },
  {
   "cell_type": "markdown",
   "id": "9b1f5216",
   "metadata": {},
   "source": [
    "- 스크립트 언어는 프로그래밍 언어의 한 종류\n",
    "- 기존에 이미 존재하는 소프트웨어(애플리케이션)를 제어하기 위한 용도\n",
    "\n",
    "- 일반적인 응용 소프트웨어는 컴파일러를 사용하는 언어에 의해 기계어로 번역된 채로 실행되기 때문에, 수정이 빈번하게 발생하면 수정 후 일일이 컴파일을 다시 해야 한다.\n",
    "- 덩치가 큰 프로그램은 컴파일 시간도 몇 시간 단위로 잡아먹는 일이 많은 데다, 일일이 컴파일을 다시 하는 것도 상당히 귀찮은 작업이다. 이 때문에 수정이 빈번하게 발생하는 부분은 소스코드를 한줄 한줄 읽어 바로바로 실행하는 인터프리터 방식이 상당히 유리하다.\n",
    "- 스크립트 언어는 이런 부분에 사용하기 위해 나온 것으로, 응용 소프트웨어에서 스크립트 언어에 맞는 API를 제공, 응용 소프트웨어와 상호작용하면서 돌아가게 된다.\\\n",
    "출처 : 나무위키: 스크립트 언어"
   ]
  },
  {
   "cell_type": "markdown",
   "id": "4606a9f9",
   "metadata": {},
   "source": [
    "# 13-3. 파이썬을 더 잘 사용해보자! \n",
    "# (1) for문 잘 사용하기"
   ]
  },
  {
   "cell_type": "markdown",
   "id": "e3f68692",
   "metadata": {},
   "source": [
    "## - 실행시간 측정"
   ]
  },
  {
   "cell_type": "code",
   "execution_count": null,
   "id": "23ed5a53",
   "metadata": {},
   "outputs": [],
   "source": [
    "import time\n",
    "start = time.time() # 시작 시간 저장\n",
    "\n",
    "a = 1\n",
    "for i in range(100):\n",
    "    a += 1\n",
    "\n",
    "# 작업 코드\n",
    "print(\"time:\", time.time()-start) # 결과는 '초' 단위 입니다."
   ]
  },
  {
   "cell_type": "markdown",
   "id": "be57c049",
   "metadata": {},
   "source": [
    "### for문 잘 써보기 - enumerate()와 이중 for문"
   ]
  },
  {
   "cell_type": "code",
   "execution_count": null,
   "id": "b1cc08b5",
   "metadata": {},
   "outputs": [],
   "source": [
    "my_list = ['a','b','c','d']\n",
    "\n",
    "for i in my_list:\n",
    "    print(\"값 : \", i)"
   ]
  },
  {
   "cell_type": "markdown",
   "id": "a5d48966",
   "metadata": {},
   "source": [
    "##### enumerate() \n",
    "- 순서와 리스트의 값을 함께 반환해주는 기능(리스트, 문자열, 튜플 등이 있는 경우)\n",
    "- 대랑의 값을 출력한다고 했을 때는 '50번째에 출력된 값이 무엇인가?'라고 물으면 대답하기가 어려운데, 이때 확인하는 방법은 enumerate() 라는 기능을 이용하는 것이다."
   ]
  },
  {
   "cell_type": "code",
   "execution_count": null,
   "id": "01f64555",
   "metadata": {},
   "outputs": [],
   "source": [
    "my_list = ['a','b','c','d']\n",
    "for i, value in enumerate(my_list):\n",
    "    print(\"순번 : \", i, \" , 값 : \", value)"
   ]
  },
  {
   "cell_type": "markdown",
   "id": "21944384",
   "metadata": {},
   "source": [
    "enumerate()를 통해 단순 for문이 아니라 순서에 대한 결과 값도 함께 추가 되었다!"
   ]
  },
  {
   "cell_type": "markdown",
   "id": "5382b1be",
   "metadata": {},
   "source": [
    "#### 이중 for문\n",
    "n중 for문도 가능하나, 삼중 for문 이상이고 데이터가 많아지면 매우 느리게 동작하므로 이중 for문까지만 쓰는 경우가 많다. 쓰는 경우도 있지만 효율적이진 않다."
   ]
  },
  {
   "cell_type": "code",
   "execution_count": 2,
   "id": "eaa2022c",
   "metadata": {},
   "outputs": [
    {
     "name": "stdout",
     "output_type": "stream",
     "text": [
      "[(0, 'a'), (0, 'b'), (0, 'c'), (0, 'd'), (1, 'a'), (1, 'b'), (1, 'c'), (1, 'd')]\n"
     ]
    }
   ],
   "source": [
    "my_list = ['a', 'b', 'c', 'd']\n",
    "result_list = []\n",
    "\n",
    "for i in range(2):\n",
    "    for j in my_list:\n",
    "        result_list.append((i,j))\n",
    "print(result_list)"
   ]
  },
  {
   "cell_type": "markdown",
   "id": "6f03fe78",
   "metadata": {},
   "source": [
    "i 안에 j가 있기 때문에 j가 다 돌때까지 i는 0에서 고정되고 j가 순서대로 a,b,c,d로 나오게 된다. j가 다 돌면 i는 다음으로 넘어간다. "
   ]
  },
  {
   "cell_type": "markdown",
   "id": "48447bb3",
   "metadata": {},
   "source": [
    "##### 참고: range()\n",
    "range([start], stop [, stop]):range(2)와 같이 정수가 들어가야 하며, 2면 0부터 시작해서 2개인 list를, range(1,10,2)라면 1부터 10까지 2씩 증가하는 리스트를 만든다."
   ]
  },
  {
   "cell_type": "markdown",
   "id": "2ebc7c83",
   "metadata": {},
   "source": [
    "### 리스트 컴프리헨션 (List Cmprehension)\n",
    "- 리스트 등 순회형 컨테이너 객체로부터 이를 가공한 새로운 리스트를 생성하는 아주 간결하고 편리한 방법이다.\n",
    "- 비단 리스트뿐만 아니라 set, dict에도 적용 가능하다."
   ]
  },
  {
   "cell_type": "code",
   "execution_count": 3,
   "id": "5ad1f6f7",
   "metadata": {},
   "outputs": [
    {
     "name": "stdout",
     "output_type": "stream",
     "text": [
      "[(0, 'a'), (0, 'b'), (0, 'c'), (0, 'd'), (1, 'a'), (1, 'b'), (1, 'c'), (1, 'd')]\n"
     ]
    }
   ],
   "source": [
    "my_list = ['a', 'b', 'c', 'd']\n",
    "result_list = [(i, j) for i in range(2) for j in my_list]\n",
    "print(result_list)"
   ]
  },
  {
   "cell_type": "markdown",
   "id": "7cccbea1",
   "metadata": {},
   "source": [
    "### 제네레이터 (Generator)\n",
    "머신러닝을 하면 매우 많은 데이터를 접하게 되는데, 데이터를 처리하는 반복구조를 위해 for문을 떠올리게 될 것이다."
   ]
  },
  {
   "cell_type": "code",
   "execution_count": 4,
   "id": "800aefee",
   "metadata": {},
   "outputs": [
    {
     "name": "stdout",
     "output_type": "stream",
     "text": [
      ">> 8 data loaded..\n",
      "0 a\n",
      "0 b\n",
      "0 c\n",
      "0 d\n",
      "1 a\n",
      "1 b\n",
      "1 c\n",
      "1 d\n"
     ]
    }
   ],
   "source": [
    "my_list = ['a','b','c','d']\n",
    "\n",
    "# 인자로 받은 리스트를 가공해서 만든 데이터셋 리스트를 리턴하는 함수\n",
    "def get_dataset_list(my_list):\n",
    "    result_list = []\n",
    "    for i in range(2):\n",
    "        for j in my_list:\n",
    "            result_list.append((i, j))\n",
    "    print('>> {} data loaded..'.format(len(result_list)))\n",
    "    return result_list\n",
    "\n",
    "for X, y in get_dataset_list(my_list):\n",
    "    print(X, y)"
   ]
  },
  {
   "cell_type": "code",
   "execution_count": 5,
   "id": "d5880097",
   "metadata": {},
   "outputs": [
    {
     "name": "stdout",
     "output_type": "stream",
     "text": [
      "0 a\n",
      ">> 1 data loaded..\n",
      "0 b\n",
      ">> 1 data loaded..\n",
      "0 c\n",
      ">> 1 data loaded..\n",
      "0 d\n",
      ">> 1 data loaded..\n",
      "1 a\n",
      ">> 1 data loaded..\n",
      "1 b\n",
      ">> 1 data loaded..\n",
      "1 c\n",
      ">> 1 data loaded..\n",
      "1 d\n",
      ">> 1 data loaded..\n"
     ]
    }
   ],
   "source": [
    "my_list = ['a','b','c','d']\n",
    "\n",
    "# 인자로 받은 리스트를 가공해서 만든 데이터셋 리스트를 리턴하는 함수\n",
    "def get_dataset_generator(my_list):\n",
    "    result_list = []\n",
    "    for i in range(2):\n",
    "        for j in my_list:\n",
    "            yield(i,j)\n",
    "            print('>> 1 data loaded..')\n",
    "\n",
    "dataset_generator = get_dataset_generator(my_list)\n",
    "for X, y in dataset_generator:\n",
    "    print(X, y)"
   ]
  },
  {
   "cell_type": "markdown",
   "id": "f417f7b9",
   "metadata": {},
   "source": [
    "위 두 코드는 동일한 (x,y)를 출력하지만 데이터가 로드되는 시점에 차이가 있다. 위 코드만 봐서는 굳이 제너레이터가 왜 필요한지 이해할 수없을지도 모르겠다. 그러나 우리가 처리해야할 데이터가 길이 4짜리 my_list가 아니라 1억 개의 레코드가 담겨있는 빅데이터 파일이라면? 제너레이터가 없다면 우리는 길이 1억짜리 리스트를 리턴받아 메모리에 전부 올려놓고 처리를 시작해야 할 것이다. \n",
    "\n",
    "제너레이터를 활용할 때는 1억 개의 데이터를 전부 메모리에 올려놓을 필요가 없이 현재 처리해야 할 데이터 1개씩 로드해서 사용할 수 있게 된다. \n",
    "\n",
    "빅데이터를 처리해야 할 머신러닝 상황에서 매우 요긴하다."
   ]
  },
  {
   "cell_type": "markdown",
   "id": "5249f24c",
   "metadata": {},
   "source": [
    "# 13-4. 파이썬을 더 잘 사용해보자! \n",
    "# (2) Try -Except 예외 처리하기\n",
    "에러를 잡기 위한 수많은 노력 중 하나가 바로 Try - Except"
   ]
  },
  {
   "cell_type": "markdown",
   "id": "6372ed1b",
   "metadata": {},
   "source": [
    "### 예외 처리를 위한 방법: Try - Except\n",
    "- 예외 처리는 코드를 수행하다가 예외(에러)가 발생했을 때 그 예외(에러)를 무시하게 하거나 예외(에러) 대신 적절한 처리를 해주게 하는 등의 작업"
   ]
  },
  {
   "cell_type": "code",
   "execution_count": 6,
   "id": "a189e0e0",
   "metadata": {},
   "outputs": [
    {
     "ename": "ZeroDivisionError",
     "evalue": "division by zero",
     "output_type": "error",
     "traceback": [
      "\u001b[1;31m---------------------------------------------------------------------------\u001b[0m",
      "\u001b[1;31mZeroDivisionError\u001b[0m                         Traceback (most recent call last)",
      "\u001b[1;32m<ipython-input-6-07c92a6cb29c>\u001b[0m in \u001b[0;36m<module>\u001b[1;34m\u001b[0m\n\u001b[1;32m----> 1\u001b[1;33m \u001b[0mprint\u001b[0m\u001b[1;33m(\u001b[0m\u001b[1;36m10\u001b[0m\u001b[1;33m/\u001b[0m\u001b[1;36m0\u001b[0m\u001b[1;33m)\u001b[0m \u001b[1;31m# 0으로는 어떠한 값도 나눌 수 없다.\u001b[0m\u001b[1;33m\u001b[0m\u001b[1;33m\u001b[0m\u001b[0m\n\u001b[0m",
      "\u001b[1;31mZeroDivisionError\u001b[0m: division by zero"
     ]
    }
   ],
   "source": [
    "print(10/0) # 0으로는 어떠한 값도 나눌 수 없다."
   ]
  },
  {
   "cell_type": "markdown",
   "id": "d4073ffb",
   "metadata": {},
   "source": [
    "##### 이 에러를 회피하고 싶다면?\n",
    "- 아예 처음부터 0으로 나우는 경우를 만들지 않으면 됨\n",
    "- 실제 데이터 분석이나 프로그래밍을 하다 보면 이런 에러가 자주 발생한다. \n",
    "- 모든 데이터 목록이 어떻게 생겼는지 미처 확인을 못 했을 수도 있고, 데이터를 내 입맛에 맞게 처리를 하다 보면 예상치 못하게 0이 생성될 수도 있다.\n",
    "- 데이터 자체를 하나하나 확인하고 코드를 실행하기 어려울 수 있으니 예외 처리 구문을 통해 문제를 해결해야 한다."
   ]
  },
  {
   "cell_type": "markdown",
   "id": "508f7de3",
   "metadata": {},
   "source": [
    "#### 에러가 발생했을 때 에러 메세지를 출력하는 대신 에러가 발생했다는 문구가 출력되도럭 해보자"
   ]
  },
  {
   "cell_type": "code",
   "execution_count": 7,
   "id": "b13411b4",
   "metadata": {},
   "outputs": [
    {
     "name": "stdout",
     "output_type": "stream",
     "text": [
      "에러가 발생했습니다.\n"
     ]
    }
   ],
   "source": [
    "a = 10\n",
    "b = 0\n",
    "\n",
    "try:\n",
    "    #실행 코드\n",
    "    print(a/b)\n",
    "except:\n",
    "    #에러가 발생했을 때 처리하는 코드\n",
    "    print('에러가 발생했습니다.')"
   ]
  },
  {
   "cell_type": "markdown",
   "id": "357b0821",
   "metadata": {},
   "source": [
    "#### 에러가 발생하지 않는다면?"
   ]
  },
  {
   "cell_type": "code",
   "execution_count": 8,
   "id": "c0797fb3",
   "metadata": {},
   "outputs": [
    {
     "name": "stdout",
     "output_type": "stream",
     "text": [
      "10.0\n"
     ]
    }
   ],
   "source": [
    "a = 10\n",
    "b = 1\n",
    "try:\n",
    "    #실행 코드\n",
    "    print(a/b)\n",
    "except:\n",
    "    #에러가 발생했을 때 처리하는 코드\n",
    "    print('에러가 발생했습니다.')"
   ]
  },
  {
   "cell_type": "markdown",
   "id": "f11d0727",
   "metadata": {},
   "source": [
    "- try 내부의 코드가 정상적으로 실행되었으므로 except 내부는 실행되지 않고 try 내부의 결과만 출력한다.\n",
    "\n",
    "#### except에서 에러가 발생했다는 것만 단순히 알려주고 끝내는 것이 아니라, 에러가 발생했을 경우 '에러가 발생하지 않을 값'으로 바꿔서 결과를 출력하고 싶다면?"
   ]
  },
  {
   "cell_type": "code",
   "execution_count": 9,
   "id": "3aaab480",
   "metadata": {},
   "outputs": [
    {
     "name": "stdout",
     "output_type": "stream",
     "text": [
      "에러가 발생했습니다.\n",
      "값 수정 :  10.0\n"
     ]
    }
   ],
   "source": [
    "a = 10\n",
    "b = 0\n",
    "\n",
    "try:\n",
    "    #실행 코드\n",
    "    print(a/b)\n",
    "except:\n",
    "    print('에러가 발생했습니다.')\n",
    "    #에러가 발생했을 때 처리하는 코드\n",
    "    b = b+1\n",
    "    print(\"값 수정 : \", a/b)"
   ]
  },
  {
   "cell_type": "markdown",
   "id": "7dc0cd5a",
   "metadata": {},
   "source": [
    "# 13-5. 파이썬을 더 잘 사용해보자! \n",
    "## (3) Multiprocessing\n",
    "- 컴퓨터가 작업을 처리하는 속도를 높여주는 방법 중 하나\n",
    "- 예) 하나의 자전거를 이용해 여러 명이 한 명씩 순차적으로 목적지까지 가다가, 여러 자전거를 이용해서 여러 명이 동시에 목적지까지 가게 되는 것\n",
    "\n",
    "\n",
    "- parallel processing: 병렬 처리 (예, 4개의 문자열이 \"동시에\" 처리되어 저장)\n",
    "- serial processing: 순차 처리 (예, 하나씩 차례대로 처리되어 저장, 4개의 자전거를 가용할 수 있으나 그중 1개의 자전거만 사용하고 있는 것과 같음)\n",
    "\n",
    "https://sebastianraschka.com/Articles/2014_multiprocessing.html"
   ]
  },
  {
   "cell_type": "markdown",
   "id": "5d117a4f",
   "metadata": {},
   "source": [
    "##### 순차 처리\n",
    "변수 1억번 돌리기"
   ]
  },
  {
   "cell_type": "code",
   "execution_count": 10,
   "id": "aa5a741f",
   "metadata": {},
   "outputs": [
    {
     "name": "stdout",
     "output_type": "stream",
     "text": [
      "finish: p1\n",
      "finish: p2\n",
      "finish: p3\n",
      "finish: p4\n",
      "time: 14.700241088867188\n"
     ]
    }
   ],
   "source": [
    "import time\n",
    "\n",
    "num_list=['p1', 'p2', 'p3', 'p4']\n",
    "start = time.time()\n",
    "\n",
    "def count(name):\n",
    "    for i in range(0,100000000):\n",
    "        a = 1+2\n",
    "    \n",
    "    print(\"finish:\", name)\n",
    "\n",
    "for num in num_list:\n",
    "    count(num)\n",
    "\n",
    "print(\"time:\", time.time()-start)"
   ]
  },
  {
   "cell_type": "markdown",
   "id": "c398f4ea",
   "metadata": {},
   "source": [
    "##### 병렬 처리"
   ]
  },
  {
   "cell_type": "code",
   "execution_count": null,
   "id": "cea2a8a0",
   "metadata": {},
   "outputs": [],
   "source": [
    "import multiprocessing\n",
    "import time\n",
    "\n",
    "num_list=['p1', 'p2', 'p3', 'p4']\n",
    "start = time.time()\n",
    "\n",
    "def count(name):\n",
    "    for i in range(0, 100000000):\n",
    "        a = 1+2\n",
    "    print(\"finish:\", name)\n",
    "\n",
    "if __name__ == '__main__':\n",
    "    pool = multiprocessing.Pool(processes = 4)\n",
    "    pool.map(count, num_list)\n",
    "    pool.close()\n",
    "    pool.join()\n",
    "\n",
    "print(\"time:\", time.time()-start)"
   ]
  },
  {
   "cell_type": "markdown",
   "id": "68a17ddc",
   "metadata": {},
   "source": [
    "#### 병렬 처리 사용하는 방법"
   ]
  },
  {
   "cell_type": "markdown",
   "id": "4ea17131",
   "metadata": {},
   "source": [
    "- if __name__ == '__main__':\n",
    "코드 시작점"
   ]
  },
  {
   "cell_type": "markdown",
   "id": "77728d46",
   "metadata": {},
   "source": [
    "- pool = multiprocessing.Pool(processes = 4) : 병렬 처리 시, 4개의 프로세스를 사용하기\n",
    "\n",
    "- pool.map(count, num_list) : 병렬화를 시키는 함수. count 함수에 num_list의 원소들을 하나씩 넣어 놓는다. 여기서 num_list의 원소는 4개이므로 4개의 count함수에 한씩 원소가 들어간다. 즉, count('p1'),count('p2'),count('p3'),count('p4')가 만들어짐\n",
    "\n",
    "- pool.close() : 병렬화 부분이 끝나면 일반적으로 나오는 코드. 더이상 pool을 통해서 새로운 작업을 추가하지 않을 때 사용\n",
    "\n",
    "- pool.join() : 프로세스가 종료될 때까지 대기하도록 지시하는 구문. 병렬처리 작업이 끝날 때까지 기다리도록 함."
   ]
  },
  {
   "cell_type": "markdown",
   "id": "b062022c",
   "metadata": {},
   "source": [
    "--- seYi"
   ]
  }
 ],
 "metadata": {
  "kernelspec": {
   "display_name": "python3_7_6",
   "language": "python",
   "name": "py3_7_6"
  },
  "language_info": {
   "codemirror_mode": {
    "name": "ipython",
    "version": 3
   },
   "file_extension": ".py",
   "mimetype": "text/x-python",
   "name": "python",
   "nbconvert_exporter": "python",
   "pygments_lexer": "ipython3",
   "version": "3.7.6"
  }
 },
 "nbformat": 4,
 "nbformat_minor": 5
}
