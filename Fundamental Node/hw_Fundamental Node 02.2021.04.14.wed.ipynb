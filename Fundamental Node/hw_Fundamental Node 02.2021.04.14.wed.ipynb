{
 "cells": [
  {
   "cell_type": "markdown",
   "id": "7e4f85c8",
   "metadata": {},
   "source": [
    "# 3-2 파이썬으로 코딩 시작하기_제어문"
   ]
  },
  {
   "cell_type": "markdown",
   "id": "3d2ee0a5",
   "metadata": {},
   "source": [
    "## 3-9 제어문\n",
    "- 이미 만들어놓은 함수를 부르기만 하면 이미 만들어진 함수가 화면에 글자를 표시해주고, 수치 데이터를 그래프로 그려주고, 사진을 파일로 만들어 저장해 줌.\n",
    "- 함수 등을 통해 제공된 기능들을 \"적절한 흐름\"에 따라서 조합함\n",
    "- 특정 조건에 따라 알아서 필요한 횟수만큼 반복해서 실행하는 등 프로그램의 \"흐름을 제어\"하는 방법을 알아보겠음"
   ]
  },
  {
   "cell_type": "markdown",
   "id": "5da3cbbc",
   "metadata": {},
   "source": [
    "## 3-10. 제어문 (1) 'if': 진실 혹은 거짓\n",
    "- 어떤 명제가 참인지 거짓인지에 따라 코드의 실행 여부가 결정됨"
   ]
  },
  {
   "cell_type": "code",
   "execution_count": 13,
   "id": "7742f3b8",
   "metadata": {},
   "outputs": [],
   "source": [
    "# 입력값으로 주어진 숫자가 0 이상일 경우 화면에 숫자를 표시하는 함수\n",
    "def print_if_positive(number):\n",
    "    if number >=0:\n",
    "        print(number)\n",
    "\n",
    "# 숫자가 0보다 크거나 같을 경우, 0 이상일 경우에만 숫자를 출력"
   ]
  },
  {
   "cell_type": "code",
   "execution_count": 14,
   "id": "e3b1fc2d",
   "metadata": {},
   "outputs": [
    {
     "name": "stdout",
     "output_type": "stream",
     "text": [
      "1\n"
     ]
    }
   ],
   "source": [
    "print_if_positive(1)"
   ]
  },
  {
   "cell_type": "code",
   "execution_count": 15,
   "id": "b6b0c44e",
   "metadata": {},
   "outputs": [],
   "source": [
    "print_if_positive(-1)"
   ]
  },
  {
   "cell_type": "markdown",
   "id": "b281cb60",
   "metadata": {},
   "source": [
    "### if 명제:\n",
    "- 들여쓰기 된 코드 블럭의 내용은 if 키워드 다음 명제가 참일 때만 실행\n",
    "- 명제 구성 시 사용하는 코드는 비교연산자\n",
    "- 초과> 미만< 이상>= 이하<= 같음== 다름!= "
   ]
  },
  {
   "cell_type": "markdown",
   "id": "211b87bf",
   "metadata": {},
   "source": [
    "#### 위의 함수를 변형해서 양음 부호 표시하려면?\n",
    "- 앞의 명제와 비슷하게 if number<0:를 추가할 수 있지만 그 외의 경우(else)를 나타내는 else:를 사용하여 앞의 명제가 거짓인 경우에 실행할 코드를 명시할 수 있음"
   ]
  },
  {
   "cell_type": "code",
   "execution_count": 16,
   "id": "97251dd8",
   "metadata": {},
   "outputs": [],
   "source": [
    "def print_whether_positive_or_negative(number):\n",
    "    if number >=0:\n",
    "        print('+')\n",
    "    else:\n",
    "        print('-')\n",
    "# 숫자가 0보다 크거나 같으면 +를, 작으면 -를 출력함"
   ]
  },
  {
   "cell_type": "code",
   "execution_count": 17,
   "id": "ee3a353b",
   "metadata": {},
   "outputs": [
    {
     "name": "stdout",
     "output_type": "stream",
     "text": [
      "+\n"
     ]
    }
   ],
   "source": [
    "print_whether_positive_or_negative(1)"
   ]
  },
  {
   "cell_type": "code",
   "execution_count": 18,
   "id": "238baed5",
   "metadata": {},
   "outputs": [
    {
     "name": "stdout",
     "output_type": "stream",
     "text": [
      "-\n"
     ]
    }
   ],
   "source": [
    "print_whether_positive_or_negative(-1)"
   ]
  },
  {
   "cell_type": "markdown",
   "id": "3a1210ae",
   "metadata": {},
   "source": [
    "#### 0에 대한 조건문을 추가한다면?"
   ]
  },
  {
   "cell_type": "code",
   "execution_count": 19,
   "id": "50f31d9b",
   "metadata": {},
   "outputs": [],
   "source": [
    "def print_whether_positive_or_negative_or_zero(number):\n",
    "    if number >=0:\n",
    "        print('+')\n",
    "    elif number == 0:\n",
    "        print('0')\n",
    "    else:\n",
    "        print('-')\n",
    "# 숫자가 0보다 크거나 같으면 +를, 작으면 -를, 양수/음수가 아닌 0일 경우 0을 출력함"
   ]
  },
  {
   "cell_type": "code",
   "execution_count": 20,
   "id": "76c6f241",
   "metadata": {},
   "outputs": [
    {
     "name": "stdout",
     "output_type": "stream",
     "text": [
      "+\n"
     ]
    }
   ],
   "source": [
    "print_whether_positive_or_negative_or_zero(1)"
   ]
  },
  {
   "cell_type": "code",
   "execution_count": 21,
   "id": "fcc89112",
   "metadata": {},
   "outputs": [
    {
     "name": "stdout",
     "output_type": "stream",
     "text": [
      "+\n"
     ]
    }
   ],
   "source": [
    "print_whether_positive_or_negative_or_zero(0)"
   ]
  },
  {
   "cell_type": "code",
   "execution_count": 22,
   "id": "b506e312",
   "metadata": {},
   "outputs": [
    {
     "name": "stdout",
     "output_type": "stream",
     "text": [
      "-\n"
     ]
    }
   ],
   "source": [
    "print_whether_positive_or_negative_or_zero(-1)"
   ]
  },
  {
   "cell_type": "markdown",
   "id": "97b0d9df",
   "metadata": {},
   "source": [
    "#### 양수이면서 짝수일 때만 숫자를 출력한다면?"
   ]
  },
  {
   "cell_type": "code",
   "execution_count": 23,
   "id": "13b72bbd",
   "metadata": {},
   "outputs": [],
   "source": [
    "def print_if_positive_and_even(number):\n",
    "    if (number>0) and (number % 2 ==0):\n",
    "        print(number)\n",
    "\n",
    "# 숫자가 양수이고 짝수일 때 숫자 출력\n",
    "# 양수 : number > 0\n",
    "# 짝수 : number % 2 == 0  나머지가 0인 경우"
   ]
  },
  {
   "cell_type": "code",
   "execution_count": 24,
   "id": "5f8170eb",
   "metadata": {
    "scrolled": true
   },
   "outputs": [],
   "source": [
    "print_if_positive_and_even(1)"
   ]
  },
  {
   "cell_type": "code",
   "execution_count": 25,
   "id": "b96993d3",
   "metadata": {},
   "outputs": [],
   "source": [
    "print_if_positive_and_even(-1)"
   ]
  },
  {
   "cell_type": "code",
   "execution_count": 26,
   "id": "4b308be5",
   "metadata": {},
   "outputs": [
    {
     "name": "stdout",
     "output_type": "stream",
     "text": [
      "2\n"
     ]
    }
   ],
   "source": [
    "print_if_positive_and_even(2)"
   ]
  },
  {
   "cell_type": "code",
   "execution_count": 27,
   "id": "bc505eb7",
   "metadata": {},
   "outputs": [],
   "source": [
    "print_if_positive_and_even(-2)"
   ]
  },
  {
   "cell_type": "code",
   "execution_count": 29,
   "id": "f43440d5",
   "metadata": {},
   "outputs": [
    {
     "name": "stdout",
     "output_type": "stream",
     "text": [
      "None\n",
      "None\n",
      "None\n"
     ]
    }
   ],
   "source": [
    "print(print_if_positive_and_even(1))\n",
    "print(print_if_positive_and_even(-1))\n",
    "print(print_if_positive_and_even(-2))"
   ]
  },
  {
   "cell_type": "markdown",
   "id": "bd2078a5",
   "metadata": {},
   "source": [
    "#### 음수이거나 음양에 상관없이 홀수인 경우에만 출력?"
   ]
  },
  {
   "cell_type": "code",
   "execution_count": 30,
   "id": "6d889dd2",
   "metadata": {},
   "outputs": [],
   "source": [
    "def print_if_negative_or_odd(number):\n",
    "    if (number<0) or (number%2!=0):\n",
    "        print(number)\n",
    "        \n",
    "# 숫자가 음수이거나 홀수일 때 숫자 출력\n",
    "# 음수 : number < 0\n",
    "# 홀수 : number % 2 != 0  나머지가 0인 경우"
   ]
  },
  {
   "cell_type": "code",
   "execution_count": 32,
   "id": "918d96d0",
   "metadata": {},
   "outputs": [
    {
     "name": "stdout",
     "output_type": "stream",
     "text": [
      "1\n",
      "None\n",
      "\n",
      "-1\n",
      "None\n",
      "\n",
      "None\n",
      "\n",
      "-2\n",
      "None\n"
     ]
    }
   ],
   "source": [
    "print(print_if_negative_or_odd(1))\n",
    "print()\n",
    "print(print_if_negative_or_odd(-1))\n",
    "print()\n",
    "print(print_if_negative_or_odd(2))\n",
    "print()\n",
    "print(print_if_negative_or_odd(-2))"
   ]
  },
  {
   "cell_type": "markdown",
   "id": "69aef2c1",
   "metadata": {},
   "source": [
    "## 3-11. 제어문 (2) while: 조건이 참인 동안 반복\n",
    "위 코드에서 입력값을 차례대로 하나하나 입력했으나, while 반복문을 사용하면 컴퓨터가 자동으로 하나씩 계산한다.\n",
    "- fibonacci()함수: n번째 피보나치 수를 반환하는 함수"
   ]
  },
  {
   "cell_type": "code",
   "execution_count": 33,
   "id": "7ce427d2",
   "metadata": {},
   "outputs": [
    {
     "name": "stdout",
     "output_type": "stream",
     "text": [
      "1\n",
      "1\n",
      "2\n",
      "3\n",
      "5\n",
      "8\n",
      "13\n",
      "21\n",
      "34\n",
      "55\n",
      "89\n",
      "144\n",
      "233\n",
      "377\n",
      "610\n",
      "987\n",
      "1597\n",
      "2584\n",
      "4181\n",
      "6765\n",
      "끝!\n"
     ]
    }
   ],
   "source": [
    "def fibonacci(n):\n",
    "    if n<=2:\n",
    "        return 1\n",
    "    else:\n",
    "        return fibonacci(n-2)+fibonacci(n-1)\n",
    "    \n",
    "n = 1\n",
    "\n",
    "while n<=20:\n",
    "    print(fibonacci(n))\n",
    "    n=n+1\n",
    "\n",
    "print(\"끝!\")"
   ]
  },
  {
   "cell_type": "markdown",
   "id": "5df88d4d",
   "metadata": {},
   "source": [
    "while문은 코드 블럭을 실행하기 앞서 가장 먼저 조건문을 검사해서 조건문이 참이면 코드 블럭을 실행한다.\\\n",
    "처음 실행 시 마지막 줄에서 n은 2가 되고 n<=2-이 참이니 3행으로 돌아가 print(fibonacci(2))를 실행한다. 그 다음 n=3, 다시 3행으로가 실행, ...\n",
    "- 이런 반복문들을 루프(loop, 고리)라고 한다. "
   ]
  },
  {
   "cell_type": "markdown",
   "id": "bd42c1e4",
   "metadata": {},
   "source": [
    "#### 무한 루프"
   ]
  },
  {
   "cell_type": "code",
   "execution_count": 34,
   "id": "aa33eeea",
   "metadata": {},
   "outputs": [],
   "source": [
    "# 경고 : 실행하지 마세요!\n",
    "# 만약 실행했다면 터미널 창에서 ctrl+c를 눌러 종료하세요.\n",
    "#while 1 == 1:\n",
    "# print('Infinite loop!')"
   ]
  },
  {
   "cell_type": "markdown",
   "id": "b9f4d217",
   "metadata": {},
   "source": [
    "## 3-12. 제어문 (3) for: 하나씩 반복\n",
    "for a in a:\n",
    "- 여러 개의 값이 들어있는 목록 A에서 값을 하나씩 꺼내 a 변수에 담아 반복문을 실행한다."
   ]
  },
  {
   "cell_type": "code",
   "execution_count": 35,
   "id": "6b95a9e3",
   "metadata": {},
   "outputs": [
    {
     "name": "stdout",
     "output_type": "stream",
     "text": [
      "True\n"
     ]
    }
   ],
   "source": [
    "print('H' + 'i' == 'Hi')"
   ]
  },
  {
   "cell_type": "markdown",
   "id": "66ad569c",
   "metadata": {},
   "source": [
    "### 반복 가능한 객체\n",
    "하나씩 순서대로 넘길 수 있는 값들을 반복 가능한 객체라고 한다."
   ]
  },
  {
   "cell_type": "markdown",
   "id": "5b6b4bb7",
   "metadata": {},
   "source": [
    "#### 'Hello'의 글자 하나씩 print()"
   ]
  },
  {
   "cell_type": "code",
   "execution_count": 36,
   "id": "c583382c",
   "metadata": {},
   "outputs": [
    {
     "name": "stdout",
     "output_type": "stream",
     "text": [
      "H\n",
      "e\n",
      "l\n",
      "l\n",
      "o\n"
     ]
    }
   ],
   "source": [
    "for character in 'Hello':\n",
    "    print(character)"
   ]
  },
  {
   "cell_type": "markdown",
   "id": "7511ff9a",
   "metadata": {},
   "source": [
    "for문이 실행되면 일단 'Hello'의 첫 글자인 'H'가 character라는 변수에 할당되어 'H'가 출력되고, 이어서 한글자씩 print()가 실행되며 마지막 'o'를 마친 뒤에 해당 for문의 고드 블럭에서 빠져나오게 된다."
   ]
  },
  {
   "cell_type": "markdown",
   "id": "160f43fc",
   "metadata": {},
   "source": [
    "---seYI"
   ]
  },
  {
   "cell_type": "code",
   "execution_count": null,
   "id": "9e2c2f0b",
   "metadata": {},
   "outputs": [],
   "source": []
  }
 ],
 "metadata": {
  "kernelspec": {
   "display_name": "python3_7_6",
   "language": "python",
   "name": "py3_7_6"
  },
  "language_info": {
   "codemirror_mode": {
    "name": "ipython",
    "version": 3
   },
   "file_extension": ".py",
   "mimetype": "text/x-python",
   "name": "python",
   "nbconvert_exporter": "python",
   "pygments_lexer": "ipython3",
   "version": "3.7.6"
  }
 },
 "nbformat": 4,
 "nbformat_minor": 5
}
