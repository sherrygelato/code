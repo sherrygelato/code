{
 "cells": [
  {
   "cell_type": "markdown",
   "id": "c355b9e2",
   "metadata": {},
   "source": [
    "# 3-1 파이썬으로 코딩 시작하기_함수와 변수\n",
    "## 1. 파이썬으로 코딩 시작하기\n",
    "### 학습목표\n",
    "- 기본 개념\n",
    " - 변수\n",
    " - 함수\n",
    " - 연산자\n",
    " - 제어문\n",
    " - 자료형\n",
    "- 오류 메세지 이해\n",
    "- 코드 이해 및 수정"
   ]
  },
  {
   "cell_type": "markdown",
   "id": "241776ef",
   "metadata": {},
   "source": [
    "# 3-2 함수와 변수\n",
    "## (1) 함수 불러보기\n",
    "### 함수 호출\n",
    "함수: 입력값input에 대해 출력값output을 가지는 관계\\\n",
    "f:x->y or f(x)=y\\\n",
    "f는 함수, x는 입력값, y는 출력값"
   ]
  },
  {
   "cell_type": "markdown",
   "id": "81b9e507",
   "metadata": {},
   "source": [
    "#### 프로그래밍에서의 함수?\n",
    "불려진 시점에 특정한 작업을 수행하며, 입력값과 출력값은 있을 수도 없을 수도 있음"
   ]
  },
  {
   "cell_type": "code",
   "execution_count": 1,
   "id": "b906dd6c",
   "metadata": {},
   "outputs": [
    {
     "name": "stdout",
     "output_type": "stream",
     "text": [
      "\n"
     ]
    }
   ],
   "source": [
    "print()     # 기본적으로 제공되는 함수, 화면에 문자열을 표시해줌"
   ]
  },
  {
   "cell_type": "markdown",
   "id": "ea5f90bf",
   "metadata": {},
   "source": [
    "괄호()안에 입력값이 없어서 아무 것도 보이지 않음.\n",
    "- 어떤 함수는 입력값이 필수라서 없을 때 오류를 범하기도 함"
   ]
  },
  {
   "cell_type": "code",
   "execution_count": 2,
   "id": "291bee7e",
   "metadata": {},
   "outputs": [
    {
     "name": "stdout",
     "output_type": "stream",
     "text": [
      "1\n"
     ]
    }
   ],
   "source": [
    "print(1)"
   ]
  },
  {
   "cell_type": "markdown",
   "id": "f02ba12a",
   "metadata": {},
   "source": [
    "입력값: argument인자라고 부름"
   ]
  },
  {
   "cell_type": "code",
   "execution_count": 3,
   "id": "7de7e46b",
   "metadata": {},
   "outputs": [
    {
     "name": "stdout",
     "output_type": "stream",
     "text": [
      "2\n"
     ]
    }
   ],
   "source": [
    "print(1+1) # 괄호 안의 내용이 먼저 계산되고 출력됨"
   ]
  },
  {
   "cell_type": "code",
   "execution_count": 4,
   "id": "5f0646a2",
   "metadata": {},
   "outputs": [
    {
     "name": "stdout",
     "output_type": "stream",
     "text": [
      "Hello!\n"
     ]
    }
   ],
   "source": [
    "print(\"Hello!\") # 글자를 표시하고 싶다면 따옴표('',\"\")로 표시 -> 문자열: 따옴표로 감싼 글자들의 한 묶음"
   ]
  },
  {
   "cell_type": "code",
   "execution_count": 5,
   "id": "cd79d9f9",
   "metadata": {},
   "outputs": [
    {
     "name": "stdout",
     "output_type": "stream",
     "text": [
      "Helloworld\n"
     ]
    }
   ],
   "source": [
    "print('Hello'+'world') # 문자열끼리 더하면 각각의 문자열을 이어줌"
   ]
  },
  {
   "cell_type": "code",
   "execution_count": 6,
   "id": "15a3a36e",
   "metadata": {},
   "outputs": [
    {
     "ename": "TypeError",
     "evalue": "unsupported operand type(s) for -: 'str' and 'str'",
     "output_type": "error",
     "traceback": [
      "\u001b[1;31m------------------------------------------------------------------\u001b[0m",
      "\u001b[1;31mTypeError\u001b[0m                        Traceback (most recent call last)",
      "\u001b[1;32m<ipython-input-6-b5e4903bd25e>\u001b[0m in \u001b[0;36m<module>\u001b[1;34m\u001b[0m\n\u001b[1;32m----> 1\u001b[1;33m \u001b[0mprint\u001b[0m\u001b[1;33m(\u001b[0m\u001b[1;34m'Hello'\u001b[0m\u001b[1;33m-\u001b[0m\u001b[1;34m'o'\u001b[0m\u001b[1;33m)\u001b[0m \u001b[1;31m# 문자열에서 문자를 뺄 수 있을까? No. str 타입 간에 - 연산은 불가능\u001b[0m\u001b[1;33m\u001b[0m\u001b[1;33m\u001b[0m\u001b[0m\n\u001b[0m",
      "\u001b[1;31mTypeError\u001b[0m: unsupported operand type(s) for -: 'str' and 'str'"
     ]
    }
   ],
   "source": [
    "print('Hello'-'o') # 문자열에서 문자를 뺄 수 있을까? No. str 타입 간에 - 연산은 불가능"
   ]
  },
  {
   "cell_type": "markdown",
   "id": "4d056b83",
   "metadata": {},
   "source": [
    "# 3-3 함수와 변수\n",
    "## (2) 변수 사용하기"
   ]
  },
  {
   "cell_type": "markdown",
   "id": "e8846212",
   "metadata": {},
   "source": [
    "f(x)=y에서 f()가 함수라면 입력값과 출력값인 x와 y는 변수\\\n",
    "변수: 어떤 관계나 범위 안에서 여러 가지 값으로 변할 수 있는 수\\\n",
    "스스로 값을 갖기 봐는 다른 값을 가리키는 존재"
   ]
  },
  {
   "cell_type": "code",
   "execution_count": 7,
   "id": "3ed0b0ef",
   "metadata": {},
   "outputs": [
    {
     "name": "stdout",
     "output_type": "stream",
     "text": [
      "안녕하세요?\n"
     ]
    }
   ],
   "source": [
    "# print() 함수와 greeting이라는 변수\n",
    "\n",
    "# greeting이라는 변수에 '안녕하세요?'라는 문자열을 저장합니다. (변수 정의/선언)\n",
    "greeting = '안녕하세요?' \n",
    "\n",
    "# greeting을 출력합니다.\n",
    "print(greeting)"
   ]
  },
  {
   "cell_type": "markdown",
   "id": "0a1aff20",
   "metadata": {},
   "source": [
    "변수 정의: [변수명]=[변수값]\\\n",
    "변수 정의하기 전 먼저 사용하려고 하면 오류 남(not defined)"
   ]
  },
  {
   "cell_type": "code",
   "execution_count": 8,
   "id": "255081ec",
   "metadata": {},
   "outputs": [
    {
     "ename": "NameError",
     "evalue": "name 'something' is not defined",
     "output_type": "error",
     "traceback": [
      "\u001b[1;31m------------------------------------------------------------------\u001b[0m",
      "\u001b[1;31mNameError\u001b[0m                        Traceback (most recent call last)",
      "\u001b[1;32m<ipython-input-8-aba354489d61>\u001b[0m in \u001b[0;36m<module>\u001b[1;34m\u001b[0m\n\u001b[1;32m----> 1\u001b[1;33m \u001b[0mprint\u001b[0m\u001b[1;33m(\u001b[0m\u001b[0msomething\u001b[0m\u001b[1;33m)\u001b[0m\u001b[1;33m\u001b[0m\u001b[1;33m\u001b[0m\u001b[0m\n\u001b[0m",
      "\u001b[1;31mNameError\u001b[0m: name 'something' is not defined"
     ]
    }
   ],
   "source": [
    "print(something)"
   ]
  },
  {
   "cell_type": "markdown",
   "id": "3572ae5e",
   "metadata": {},
   "source": [
    "##### 같은 변수명을 재사용하게 될 경우"
   ]
  },
  {
   "cell_type": "code",
   "execution_count": 9,
   "id": "fc542541",
   "metadata": {},
   "outputs": [
    {
     "name": "stdout",
     "output_type": "stream",
     "text": [
      "안녕!\n"
     ]
    }
   ],
   "source": [
    "greeting = '안녕하세요?' \n",
    "greeting = '안녕!' \n",
    "print(greeting)"
   ]
  },
  {
   "cell_type": "code",
   "execution_count": 10,
   "id": "cb8f125a",
   "metadata": {},
   "outputs": [
    {
     "name": "stdout",
     "output_type": "stream",
     "text": [
      "안녕하세요?\n"
     ]
    }
   ],
   "source": [
    "greeting = '안녕하세요?' \n",
    "print(greeting) \n",
    "greeting = '안녕!'"
   ]
  },
  {
   "cell_type": "markdown",
   "id": "99ee4ca8",
   "metadata": {},
   "source": [
    "print() 함수가 불리는 시점의 변수의 값이 출력된다"
   ]
  },
  {
   "cell_type": "markdown",
   "id": "71915a56",
   "metadata": {},
   "source": [
    "# 3-4 함수와 변수\n",
    "## (3) 새로운 함수 정의하기\n",
    "직접 함수를 만들 수 있음. 함수는 내부에서 다른 함수를 부르거나 변수를 정의하는 등 다양한 작업 가능함."
   ]
  },
  {
   "cell_type": "code",
   "execution_count": 11,
   "id": "c14b2a35",
   "metadata": {},
   "outputs": [],
   "source": [
    "# 부르면 '안녕!'이라고 인사해주는 함수를 정의\n",
    "def say_hi():\n",
    "    print('안녕!') # 정의했으나 함수 자체를 실행하지는 않음."
   ]
  },
  {
   "cell_type": "markdown",
   "id": "0cb7dfbe",
   "metadata": {},
   "source": [
    "#### def 함수\n",
    "- def: 함수 정의 시 사요아는 일종의 예약어, 임의로 만들 수 있음.\n",
    "- 함수 뒤 괄호는 이 함수에 입력으로 전달되는 값을 받는 자리, 입력값이 필요 없을 시 함수명 뒤에 ()를 붙여줌"
   ]
  },
  {
   "cell_type": "markdown",
   "id": "8b1e44bc",
   "metadata": {},
   "source": [
    "#### def 함수명() :\n",
    "- :를 뒤에 꼭 붙여줌. 이어서 함수가 불릴 때 실행할 작업들을 나열해줌. \n",
    "- 단, 해당 함수가 포함된 작업이라는 것을 나타내기 위해 def줄부터 함수 끝날 때까지 띄어쓰기 4칸으로 들여쓰기 해줘야 함."
   ]
  },
  {
   "cell_type": "code",
   "execution_count": 12,
   "id": "18e54c9f",
   "metadata": {},
   "outputs": [
    {
     "name": "stdout",
     "output_type": "stream",
     "text": [
      "안녕!\n"
     ]
    }
   ],
   "source": [
    "say_hi() # 입력값 받지 않는 say_hi 함수는 '안녕' 문자열을 출력하는 함수 "
   ]
  },
  {
   "cell_type": "code",
   "execution_count": 13,
   "id": "4600367b",
   "metadata": {},
   "outputs": [
    {
     "ename": "IndentationError",
     "evalue": "expected an indented block (<ipython-input-13-c94cc0367626>, line 2)",
     "output_type": "error",
     "traceback": [
      "\u001b[1;36m  File \u001b[1;32m\"<ipython-input-13-c94cc0367626>\"\u001b[1;36m, line \u001b[1;32m2\u001b[0m\n\u001b[1;33m    print('안녕!') # : 이어서 4칸 들여쓰기 안한다면?\u001b[0m\n\u001b[1;37m        ^\u001b[0m\n\u001b[1;31mIndentationError\u001b[0m\u001b[1;31m:\u001b[0m expected an indented block\n"
     ]
    }
   ],
   "source": [
    "def say_hi_no_indent(): \n",
    "print('안녕!') # : 이어서 4칸 들여쓰기 안한다면?"
   ]
  },
  {
   "cell_type": "code",
   "execution_count": 14,
   "id": "d4ecb1a6",
   "metadata": {},
   "outputs": [],
   "source": [
    "def say_hi_no_indent():\n",
    "    print('안녕!') # 들여쓰기가 유지되는 구간을 블럭이라고 함"
   ]
  },
  {
   "cell_type": "markdown",
   "id": "ac025251",
   "metadata": {},
   "source": [
    "들여쓰기: 이 줄의 코드가 윗 단계의 코드에 속한다는 것을 표시"
   ]
  },
  {
   "cell_type": "code",
   "execution_count": 15,
   "id": "9ee7c9e9",
   "metadata": {},
   "outputs": [],
   "source": [
    "def say_hi_nice():\n",
    "    print('안녕!')\n",
    "    print('반가워.') # 새로운 함수 정의"
   ]
  },
  {
   "cell_type": "code",
   "execution_count": 16,
   "id": "fa75f9bd",
   "metadata": {},
   "outputs": [
    {
     "name": "stdout",
     "output_type": "stream",
     "text": [
      "안녕!\n",
      "반가워.\n"
     ]
    }
   ],
   "source": [
    "# 출력은?\n",
    "say_hi_nice()"
   ]
  },
  {
   "cell_type": "markdown",
   "id": "ec76355c",
   "metadata": {},
   "source": [
    "# 3-5 함수와 변수\n",
    "## (4) 스코프: 변수의 유효 범위\n",
    "- 함수 내에서도 변수 정의가 가능하다.\n",
    "   - 단, 함수 안에서만 일어난 일. 함수가 끝나면 해당 변수는 사라지고, 함수 밖에서 해당 변수를 들여다 볼 수도 없음."
   ]
  },
  {
   "cell_type": "code",
   "execution_count": 17,
   "id": "83de283c",
   "metadata": {},
   "outputs": [
    {
     "ename": "NameError",
     "evalue": "name 'goodbye' is not defined",
     "output_type": "error",
     "traceback": [
      "\u001b[1;31m------------------------------------------------------------------\u001b[0m",
      "\u001b[1;31mNameError\u001b[0m                        Traceback (most recent call last)",
      "\u001b[1;32m<ipython-input-17-2ab49edead64>\u001b[0m in \u001b[0;36m<module>\u001b[1;34m\u001b[0m\n\u001b[0;32m      1\u001b[0m \u001b[1;32mdef\u001b[0m \u001b[0msay_goodbye\u001b[0m\u001b[1;33m(\u001b[0m\u001b[1;33m)\u001b[0m\u001b[1;33m:\u001b[0m\u001b[1;33m\u001b[0m\u001b[1;33m\u001b[0m\u001b[0m\n\u001b[0;32m      2\u001b[0m     \u001b[0mgoodbye\u001b[0m \u001b[1;33m=\u001b[0m \u001b[1;34m'잘 가!'\u001b[0m\u001b[1;33m\u001b[0m\u001b[1;33m\u001b[0m\u001b[0m\n\u001b[1;32m----> 3\u001b[1;33m \u001b[0mprint\u001b[0m\u001b[1;33m(\u001b[0m\u001b[0mgoodbye\u001b[0m\u001b[1;33m)\u001b[0m\u001b[1;33m\u001b[0m\u001b[1;33m\u001b[0m\u001b[0m\n\u001b[0m",
      "\u001b[1;31mNameError\u001b[0m: name 'goodbye' is not defined"
     ]
    }
   ],
   "source": [
    "def say_goodbye():\n",
    "    goodbye = '잘 가!'\n",
    "print(goodbye)"
   ]
  },
  {
   "cell_type": "markdown",
   "id": "1886fc71",
   "metadata": {},
   "source": [
    "함수 내에서 함수 밖의 변수를 읽는다면?\n",
    "- 가능"
   ]
  },
  {
   "cell_type": "code",
   "execution_count": 18,
   "id": "ac175bb1",
   "metadata": {
    "scrolled": true
   },
   "outputs": [
    {
     "name": "stdout",
     "output_type": "stream",
     "text": [
      "하루\n",
      "시우\n"
     ]
    }
   ],
   "source": [
    "# 변수 정의\n",
    "name = '하루' \n",
    "\n",
    "# 함수로 변수를 읽어줌\n",
    "def say_name():\n",
    "    print(name)\n",
    "\n",
    "say_name()\n",
    "\n",
    "name = '시우'\n",
    "say_name()"
   ]
  },
  {
   "cell_type": "markdown",
   "id": "17aa71aa",
   "metadata": {},
   "source": [
    "함수 안에서 새로운 변수를 정의하는 것으로만 이해한다."
   ]
  },
  {
   "cell_type": "code",
   "execution_count": 19,
   "id": "8d677eff",
   "metadata": {},
   "outputs": [
    {
     "name": "stdout",
     "output_type": "stream",
     "text": [
      "하루\n"
     ]
    }
   ],
   "source": [
    "# 변수 정의\n",
    "name = '하루' \n",
    "\n",
    "# 함수 정의\n",
    "def change_name():\n",
    "    name = '시우'    # name은 해당 함수 내에서만 문자열 '시우'를 가리킴\n",
    "    \n",
    "change_name() # 함수 호출 시 출력값 없음\n",
    "\n",
    "print(name)  #- 첫 줄, 즉 함수 바깥에서 정의된 문자열 '하루'가 출력됨."
   ]
  },
  {
   "cell_type": "markdown",
   "id": "33f8738e",
   "metadata": {},
   "source": [
    "#### 스코프(scope)\n",
    "특정 위치에서 어떤 변수에 접근할 수 있는지, 또 한 곳에서 정의된 변수가 어디까지 유효한지 정의된 범위를 변수의 스코프라고 한다.\\\n",
    "\\\n",
    "위의 코드 중 name='하루'는 함수 내부를 포함해 코드 어디서든 참조 가능하므로 \"전역 스코프(global)\"를 갖는 변수이며,\\\n",
    "name='시우'는 chanpe_name() 내부에서 정의되어 밖에서 볼 수 없으모로, \"지역 스코프(local)\"를 갖는 변수이다."
   ]
  },
  {
   "cell_type": "markdown",
   "id": "7df8009e",
   "metadata": {},
   "source": [
    "# 3-6 함수와 변수\n",
    "## (5) 함수에 인자 전달하기"
   ]
  },
  {
   "cell_type": "markdown",
   "id": "a0d0ed1a",
   "metadata": {},
   "source": [
    "##### 만약 원하는 이름을 주고 [이름],안녕!을 표시하게 하려면 어떻게 해야 할까?"
   ]
  },
  {
   "cell_type": "code",
   "execution_count": 20,
   "id": "16faee49",
   "metadata": {},
   "outputs": [
    {
     "name": "stdout",
     "output_type": "stream",
     "text": [
      "준이, 안녕!\n"
     ]
    }
   ],
   "source": [
    "# 함수 정의\n",
    "def say_hi_somebody(name):\n",
    "    # 문자열인 한 개의 입력값을 받아, '[name], 안녕!'을 출력함\n",
    "    print(name+', 안녕!')\n",
    "\n",
    "# 입력값 '준이'를 넣은 함수 호출\n",
    "say_hi_somebody('준이')"
   ]
  },
  {
   "cell_type": "markdown",
   "id": "f311396d",
   "metadata": {},
   "source": [
    "##### 함수 뜯어보기\n",
    "함수 정의\n",
    "  - 괄호()안에 name이라는 입력값이 정의 됨. \n",
    "  - 이 입력값의 자리에 들어오는 값은 해당 함수 내에서 name이라는 변수로 불러 사용함.\n",
    "\n",
    "##### 매개변수: 입력값으로 주어진 인자(argument)를 받는 변수\n",
    "  - 함수 내부의 name은 매개변수\n",
    "  - 외부에서 함수 부를 때 넣는 입력값 '준이'는 매개변수에 들어가는 인자"
   ]
  },
  {
   "cell_type": "markdown",
   "id": "d7363328",
   "metadata": {},
   "source": [
    "##### 만약 이름을 안 넣고 함수를 부른다면?"
   ]
  },
  {
   "cell_type": "code",
   "execution_count": 21,
   "id": "fbe96431",
   "metadata": {},
   "outputs": [
    {
     "ename": "TypeError",
     "evalue": "say_hi_somebody() missing 1 required positional argument: 'name'",
     "output_type": "error",
     "traceback": [
      "\u001b[1;31m------------------------------------------------------------------\u001b[0m",
      "\u001b[1;31mTypeError\u001b[0m                        Traceback (most recent call last)",
      "\u001b[1;32m<ipython-input-21-72761c90f15b>\u001b[0m in \u001b[0;36m<module>\u001b[1;34m\u001b[0m\n\u001b[1;32m----> 1\u001b[1;33m \u001b[0msay_hi_somebody\u001b[0m\u001b[1;33m(\u001b[0m\u001b[1;33m)\u001b[0m\u001b[1;33m\u001b[0m\u001b[1;33m\u001b[0m\u001b[0m\n\u001b[0m",
      "\u001b[1;31mTypeError\u001b[0m: say_hi_somebody() missing 1 required positional argument: 'name'"
     ]
    }
   ],
   "source": [
    "say_hi_somebody()"
   ]
  },
  {
   "cell_type": "markdown",
   "id": "beaa82ad",
   "metadata": {},
   "source": [
    "당연히 오류가 발생함. \n",
    " - why? say_hi_somebody() 함수는 매개변수 name에 들어갈 인자 없이는 출력되지 않음.\n",
    "\\\n",
    "오류메세지: say_hi_somebody() missing 1 required positional argument: 'name'\\\n",
    "(함수가 매개변수에 들어갈 필수 위치기반 인자 하나를 누락했다.)\n",
    "#### 함수를 정의할 때 매개변수를 함께 정의했으니, 괄호 속에 들어갈 인자를 빼놓고 부르면 안된다."
   ]
  },
  {
   "cell_type": "markdown",
   "id": "64b03ec6",
   "metadata": {},
   "source": [
    "##### 만약 반대로 함수에 억지로 입력값을 넣어본다면? (3-4 함수 호출, say_hi_nice())"
   ]
  },
  {
   "cell_type": "code",
   "execution_count": 22,
   "id": "33aa70cb",
   "metadata": {},
   "outputs": [
    {
     "ename": "TypeError",
     "evalue": "say_hi_nice() takes 0 positional arguments but 1 was given",
     "output_type": "error",
     "traceback": [
      "\u001b[1;31m------------------------------------------------------------------\u001b[0m",
      "\u001b[1;31mTypeError\u001b[0m                        Traceback (most recent call last)",
      "\u001b[1;32m<ipython-input-22-3e2bccaa5c8a>\u001b[0m in \u001b[0;36m<module>\u001b[1;34m\u001b[0m\n\u001b[0;32m      3\u001b[0m     \u001b[0mprint\u001b[0m\u001b[1;33m(\u001b[0m\u001b[1;34m'반가워.'\u001b[0m\u001b[1;33m)\u001b[0m\u001b[1;33m\u001b[0m\u001b[1;33m\u001b[0m\u001b[0m\n\u001b[0;32m      4\u001b[0m \u001b[1;33m\u001b[0m\u001b[0m\n\u001b[1;32m----> 5\u001b[1;33m \u001b[0msay_hi_nice\u001b[0m\u001b[1;33m(\u001b[0m\u001b[1;34m'준이'\u001b[0m\u001b[1;33m)\u001b[0m\u001b[1;33m\u001b[0m\u001b[1;33m\u001b[0m\u001b[0m\n\u001b[0m",
      "\u001b[1;31mTypeError\u001b[0m: say_hi_nice() takes 0 positional arguments but 1 was given"
     ]
    }
   ],
   "source": [
    "def say_hi_nice():\n",
    "    print('안녕!')\n",
    "    print('반가워.')\n",
    "    \n",
    "say_hi_nice('준이')"
   ]
  },
  {
   "cell_type": "markdown",
   "id": "c127eb2a",
   "metadata": {},
   "source": [
    "오류가 발생함\n",
    "  - why?\n",
    "  오류메세지: say_hi_nice() takes 0 positional arguments but 1 was given\\\n",
    "  (이 함수는 위치기반 인자를 받지 않는데 한 개(준이)가 주어졌다.)\n",
    "#### 함수를 호출할 때에는 미리 정의된 입력값을 넣어야 한다."
   ]
  },
  {
   "cell_type": "markdown",
   "id": "905a0274",
   "metadata": {},
   "source": [
    "##### print() 함수처럼 입력값이 있던 없던 자기 할 일을 하는 함수를 정의할 수는 없을까?"
   ]
  },
  {
   "cell_type": "code",
   "execution_count": 23,
   "id": "5c639ad1",
   "metadata": {},
   "outputs": [
    {
     "name": "stdout",
     "output_type": "stream",
     "text": [
      "안녕, 준이!\n"
     ]
    }
   ],
   "source": [
    "def say_hi_default(name='somebody'):\n",
    "    print('안녕, ' + name + '!')\n",
    "\n",
    "say_hi_default('준이')"
   ]
  },
  {
   "cell_type": "code",
   "execution_count": 24,
   "id": "fa8053e6",
   "metadata": {},
   "outputs": [
    {
     "name": "stdout",
     "output_type": "stream",
     "text": [
      "안녕, somebody!\n"
     ]
    }
   ],
   "source": [
    "say_hi_default()"
   ]
  },
  {
   "cell_type": "markdown",
   "id": "d2f7873a",
   "metadata": {},
   "source": [
    "입력값이 주어지면 그 입력값을 그대로 표시하고, 없으면 somebody라는 값이 있는 것처럼 동작함.\n",
    "#### 함수가 받을 매개변수의 값을 지정해주면, 입력값이 없을 경우 해당 기본값을 사용한다."
   ]
  },
  {
   "cell_type": "markdown",
   "id": "f4bdc885",
   "metadata": {},
   "source": [
    "# 3-7 함수와 변수\n",
    "## (6) 함수에 인자 여려 개 한꺼번에 전달하기"
   ]
  },
  {
   "cell_type": "code",
   "execution_count": 25,
   "id": "36aab1e7",
   "metadata": {},
   "outputs": [
    {
     "name": "stdout",
     "output_type": "stream",
     "text": [
      "그리,단테 안녕!\n"
     ]
    }
   ],
   "source": [
    "def say_hi_couple(name1, name2): # 인자 하나 추가 시 괄호 안에서 쉼표로 이름을 다르게 구성해서 넣고, 함수 내에서는 그대로 불러 쓰기\n",
    "    print(name1+','+name2+' 안녕!')\n",
    "\n",
    "say_hi_couple('그리', '단테')"
   ]
  },
  {
   "cell_type": "code",
   "execution_count": 26,
   "id": "e396b6ad",
   "metadata": {},
   "outputs": [
    {
     "ename": "TypeError",
     "evalue": "say_hi_couple() missing 1 required positional argument: 'name2'",
     "output_type": "error",
     "traceback": [
      "\u001b[1;31m------------------------------------------------------------------\u001b[0m",
      "\u001b[1;31mTypeError\u001b[0m                        Traceback (most recent call last)",
      "\u001b[1;32m<ipython-input-26-f7f505fe7386>\u001b[0m in \u001b[0;36m<module>\u001b[1;34m\u001b[0m\n\u001b[1;32m----> 1\u001b[1;33m \u001b[0msay_hi_couple\u001b[0m\u001b[1;33m(\u001b[0m\u001b[1;34m'그리'\u001b[0m\u001b[1;33m)\u001b[0m\u001b[1;33m\u001b[0m\u001b[1;33m\u001b[0m\u001b[0m\n\u001b[0m",
      "\u001b[1;31mTypeError\u001b[0m: say_hi_couple() missing 1 required positional argument: 'name2'"
     ]
    }
   ],
   "source": [
    "say_hi_couple('그리') "
   ]
  },
  {
   "cell_type": "markdown",
   "id": "48442dbe",
   "metadata": {},
   "source": [
    "두 개 인자로 되어있는데 하나를 빼먹는다면?\n",
    "  - 오류메세지:say_hi_couple() missing 1 required positional argument: 'name2'\\\n",
    "  (2개가 아니니 함수 정의 시 약속했던 name2를 입력하라고 뜸)"
   ]
  },
  {
   "cell_type": "markdown",
   "id": "c38016e4",
   "metadata": {},
   "source": [
    "#### 참고 사항\n",
    "- 함수를 정의 할 때 쓰인 인자의 이름을 알고 있다면, 함수를 호출할 때 직접 붙여쓸 수도 있음"
   ]
  },
  {
   "cell_type": "code",
   "execution_count": 27,
   "id": "d351e008",
   "metadata": {},
   "outputs": [
    {
     "name": "stdout",
     "output_type": "stream",
     "text": [
      "그리,단테 안녕!\n"
     ]
    }
   ],
   "source": [
    "say_hi_couple(name1='그리', name2='단테')"
   ]
  },
  {
   "cell_type": "code",
   "execution_count": 28,
   "id": "7294456f",
   "metadata": {},
   "outputs": [
    {
     "name": "stdout",
     "output_type": "stream",
     "text": [
      "단테,그리 안녕!\n"
     ]
    }
   ],
   "source": [
    "say_hi_couple(name2='그리', name1='단테') # 이름으로 인자 전달 시 순서는 상관 없다."
   ]
  },
  {
   "cell_type": "markdown",
   "id": "bbaaaa3e",
   "metadata": {},
   "source": [
    "##### 만약 함수를 정의할 때 약속한 이름이 아닌 엉뚱한 이름을 준다면?"
   ]
  },
  {
   "cell_type": "code",
   "execution_count": 29,
   "id": "93459890",
   "metadata": {},
   "outputs": [
    {
     "ename": "TypeError",
     "evalue": "say_hi_couple() got an unexpected keyword argument 'name'",
     "output_type": "error",
     "traceback": [
      "\u001b[1;31m------------------------------------------------------------------\u001b[0m",
      "\u001b[1;31mTypeError\u001b[0m                        Traceback (most recent call last)",
      "\u001b[1;32m<ipython-input-29-65468996fd85>\u001b[0m in \u001b[0;36m<module>\u001b[1;34m\u001b[0m\n\u001b[1;32m----> 1\u001b[1;33m \u001b[0msay_hi_couple\u001b[0m\u001b[1;33m(\u001b[0m\u001b[0mname\u001b[0m\u001b[1;33m=\u001b[0m\u001b[1;34m'그리'\u001b[0m\u001b[1;33m,\u001b[0m \u001b[0mname2\u001b[0m\u001b[1;33m=\u001b[0m\u001b[1;34m'단테'\u001b[0m\u001b[1;33m)\u001b[0m \u001b[1;31m# 오류가 남\u001b[0m\u001b[1;33m\u001b[0m\u001b[1;33m\u001b[0m\u001b[0m\n\u001b[0m",
      "\u001b[1;31mTypeError\u001b[0m: say_hi_couple() got an unexpected keyword argument 'name'"
     ]
    }
   ],
   "source": [
    "say_hi_couple(name='그리', name2='단테') # 오류가 남"
   ]
  },
  {
   "cell_type": "markdown",
   "id": "1a80ca0b",
   "metadata": {},
   "source": [
    "입력값이 여러 개일 때도 각 입력값마다 기본값을 지정해줄 수 있다.\n",
    "   - 단, 이 경우 기본 값이 있는 인자들이 기본값이 없는 필수 인자들의 뒤에 와야 함"
   ]
  },
  {
   "cell_type": "code",
   "execution_count": 30,
   "id": "dd2170d2",
   "metadata": {},
   "outputs": [
    {
     "ename": "SyntaxError",
     "evalue": "unexpected EOF while parsing (<ipython-input-30-37b0c7767780>, line 2)",
     "output_type": "error",
     "traceback": [
      "\u001b[1;36m  File \u001b[1;32m\"<ipython-input-30-37b0c7767780>\"\u001b[1;36m, line \u001b[1;32m2\u001b[0m\n\u001b[1;33m    print(name1 + ', ' + name2 + ' 안녕!'\u001b[0m\n\u001b[1;37m                                       ^\u001b[0m\n\u001b[1;31mSyntaxError\u001b[0m\u001b[1;31m:\u001b[0m unexpected EOF while parsing\n"
     ]
    }
   ],
   "source": [
    "def say_hi_couple_default(name1, name2='nobody'):\n",
    "    print(name1 + ', ' + name2 + ' 안녕!'"
   ]
  },
  {
   "cell_type": "code",
   "execution_count": 31,
   "id": "833b2bb2",
   "metadata": {},
   "outputs": [
    {
     "ename": "SyntaxError",
     "evalue": "unexpected EOF while parsing (<ipython-input-31-0316fef4bb86>, line 2)",
     "output_type": "error",
     "traceback": [
      "\u001b[1;36m  File \u001b[1;32m\"<ipython-input-31-0316fef4bb86>\"\u001b[1;36m, line \u001b[1;32m2\u001b[0m\n\u001b[1;33m    print(name1 + ', ' + name2 + ' 안녕!'\u001b[0m\n\u001b[1;37m                                       ^\u001b[0m\n\u001b[1;31mSyntaxError\u001b[0m\u001b[1;31m:\u001b[0m unexpected EOF while parsing\n"
     ]
    }
   ],
   "source": [
    "def say_hi_couple_default_wrong(name1='nobody', name2):\n",
    "    print(name1 + ', ' + name2 + ' 안녕!'"
   ]
  },
  {
   "cell_type": "markdown",
   "id": "2bf73954",
   "metadata": {},
   "source": [
    "#### SyntaxError : 기본값이 없는 인자가 기본값이 있는 인자 뒤에 올 때\n",
    "기본값을 정의해놓고 인자를 하나만 주고 함수를 호출하면 생략된 하나의 인자를 어떤 인자로 봐야할 지 불분명하기 때문에 오류가 발생한다."
   ]
  },
  {
   "cell_type": "markdown",
   "id": "2e4d4213",
   "metadata": {},
   "source": [
    "# 3-8 함수와 변수\n",
    "## (7) 함수의 결과로 값을 반환하기\n",
    "함수는 입력값input과 출력값output을 갖는다.\\\n",
    "위에서 입력값을 가진 함수를 정의하고 사용하는 방법을 배웠다.\\\n",
    "값을 출력하는 함수는 아직 살펴보지 않았으니 보기로 한다."
   ]
  },
  {
   "cell_type": "code",
   "execution_count": 32,
   "id": "f8c1b916",
   "metadata": {
    "scrolled": true
   },
   "outputs": [
    {
     "name": "stdout",
     "output_type": "stream",
     "text": [
      "3\n"
     ]
    }
   ],
   "source": [
    "# 숫자 두 개를 더하는 함수 정의하기.\n",
    "def add(number1, number2):\n",
    "    print(number1+number2)\n",
    "\n",
    "add(1,2)"
   ]
  },
  {
   "cell_type": "markdown",
   "id": "70ba37e4",
   "metadata": {},
   "source": [
    "##### 만약 이 결과에 숫자를 한 번 더 더하고 싶다면?"
   ]
  },
  {
   "cell_type": "code",
   "execution_count": 33,
   "id": "14a318e0",
   "metadata": {},
   "outputs": [
    {
     "name": "stdout",
     "output_type": "stream",
     "text": [
      "3\n"
     ]
    },
    {
     "ename": "TypeError",
     "evalue": "unsupported operand type(s) for +: 'NoneType' and 'int'",
     "output_type": "error",
     "traceback": [
      "\u001b[1;31m------------------------------------------------------------------\u001b[0m",
      "\u001b[1;31mTypeError\u001b[0m                        Traceback (most recent call last)",
      "\u001b[1;32m<ipython-input-33-bd5dcf379caf>\u001b[0m in \u001b[0;36m<module>\u001b[1;34m\u001b[0m\n\u001b[1;32m----> 1\u001b[1;33m \u001b[0mprint\u001b[0m\u001b[1;33m(\u001b[0m\u001b[0madd\u001b[0m\u001b[1;33m(\u001b[0m\u001b[1;36m1\u001b[0m\u001b[1;33m,\u001b[0m\u001b[1;36m2\u001b[0m\u001b[1;33m)\u001b[0m\u001b[1;33m+\u001b[0m\u001b[1;36m3\u001b[0m\u001b[1;33m)\u001b[0m\u001b[1;33m\u001b[0m\u001b[1;33m\u001b[0m\u001b[0m\n\u001b[0m",
      "\u001b[1;31mTypeError\u001b[0m: unsupported operand type(s) for +: 'NoneType' and 'int'"
     ]
    }
   ],
   "source": [
    "print(add(1,2)+3)"
   ]
  },
  {
   "cell_type": "markdown",
   "id": "d5682f50",
   "metadata": {},
   "source": [
    "###### 코드가 어떤 순서로 실행될지 생각해 보자.\n",
    "  수학식처럼, 가장 안쪽의 괄호 add(1,2)가 먼저 실행, 그 이후 옆의 +3을 더한 뒤, 가장 바깥쪽의 괄호인 print()가 실행된다.\\\n",
    "  add()로 인해 입력값인 1과 2의 합인 3이 나오고, 거기에 3을 더해서 print()를 했으니 6이 표시되어야 할 것 같다.\n",
    "###### 하지만 결과는?\n",
    "- 오류메시지:unsupported operand type(s) for +: 'NoneType' and 'int'\\\n",
    "  (NoneType과 int(정수, integer) 사이 + 연산은 금지다.)\n",
    "     - NoneType: add(1,2)\n",
    "     - add(): print()를 부르긴 했지만 이 함수의 결과가 무엇인지 명시하지 않음"
   ]
  },
  {
   "cell_type": "markdown",
   "id": "6f0f7a4a",
   "metadata": {},
   "source": [
    "### 함수가 실행된 뒤 그 결과를 가지고 무언가를 하고 싶다면, return으로 이 값을 출력값(output)으로 반환(return)하라고 명시적으로 표시해야 한다."
   ]
  },
  {
   "cell_type": "code",
   "execution_count": 34,
   "id": "b7a9bec3",
   "metadata": {},
   "outputs": [
    {
     "name": "stdout",
     "output_type": "stream",
     "text": [
      "3\n",
      "6\n"
     ]
    }
   ],
   "source": [
    "def add_and_return(number1, number2):\n",
    "    print(number1+number2)\n",
    "    return number1+ number2\n",
    "\n",
    "print(add_and_return(1,2)+3)"
   ]
  },
  {
   "cell_type": "markdown",
   "id": "d813c6fa",
   "metadata": {},
   "source": [
    "#### 함수 뜯어보기 01\n",
    "1. print() 안의 add_and_return(1,2)가 먼저 실행.\n",
    "2. add_and_return() 함수 안 첫 번째 줄인 print(number1+number2) 실행되어 3이 출력됨\n",
    "3. 이후 return number1+ number2로 3이 add_and_return() 함수의 출력값으로서 반환됨\n",
    "4. 이제 print(add_and_return(1,2)+3)은 print(3+3)과 같게 됨\n",
    "5. 최종적으로 print(6)이 되어 출력됨"
   ]
  },
  {
   "cell_type": "markdown",
   "id": "e6164b9e",
   "metadata": {},
   "source": [
    "#### 함수 뜯어보기 02 \n",
    "print(add_and_return(1,2)+3) -- 수학식 풀 듯 순서대로 보자.\n",
    " - 계산식을 푸는 것처럼, 아는 것을 하나씩 순서대로 대입하여, 그 결과 값으로 치환하면 됨\n",
    "1. add_and_return(1,2)가 먼저 수행\n",
    "2. add_and_return() 함수의 정의를 보자"
   ]
  },
  {
   "cell_type": "code",
   "execution_count": 35,
   "id": "9da57d4c",
   "metadata": {},
   "outputs": [],
   "source": [
    "# 함수 정의\n",
    "def add_and_return(number1, number2):\n",
    "    print(number1+number2)\n",
    "    return number1+number2 # 실행할 필요 없음"
   ]
  },
  {
   "cell_type": "code",
   "execution_count": 36,
   "id": "7d99ea6e",
   "metadata": {
    "scrolled": true
   },
   "outputs": [
    {
     "ename": "SyntaxError",
     "evalue": "invalid syntax (<ipython-input-36-d9a60950b0ac>, line 2)",
     "output_type": "error",
     "traceback": [
      "\u001b[1;36m  File \u001b[1;32m\"<ipython-input-36-d9a60950b0ac>\"\u001b[1;36m, line \u001b[1;32m2\u001b[0m\n\u001b[1;33m    def add_and_return(1, 2):\u001b[0m\n\u001b[1;37m                       ^\u001b[0m\n\u001b[1;31mSyntaxError\u001b[0m\u001b[1;31m:\u001b[0m invalid syntax\n"
     ]
    }
   ],
   "source": [
    "# 입력값으로 number1과 number2를 각각 1, 2로 치환\n",
    "def add_and_return(1, 2):\n",
    "    print(1 + 2)\n",
    "    return 1 + 2 # 실행할 필요 없음"
   ]
  },
  {
   "cell_type": "code",
   "execution_count": 37,
   "id": "2dc67adf",
   "metadata": {
    "scrolled": true
   },
   "outputs": [
    {
     "name": "stdout",
     "output_type": "stream",
     "text": [
      "3\n",
      "3\n"
     ]
    }
   ],
   "source": [
    "print(1+2) # 덧셈 계산해서 치환\n",
    "print(3) # 실행할 필요 없음"
   ]
  },
  {
   "cell_type": "code",
   "execution_count": 38,
   "id": "b386e9dd",
   "metadata": {},
   "outputs": [
    {
     "ename": "SyntaxError",
     "evalue": "'return' outside function (<ipython-input-38-933defc23e3d>, line 1)",
     "output_type": "error",
     "traceback": [
      "\u001b[1;36m  File \u001b[1;32m\"<ipython-input-38-933defc23e3d>\"\u001b[1;36m, line \u001b[1;32m1\u001b[0m\n\u001b[1;33m    return 1+2 # 덧셈 계산해서 치환\u001b[0m\n\u001b[1;37m                           ^\u001b[0m\n\u001b[1;31mSyntaxError\u001b[0m\u001b[1;31m:\u001b[0m 'return' outside function\n"
     ]
    }
   ],
   "source": [
    "return 1+2 # 덧셈 계산해서 치환\n",
    "return 3 # 실행할 필요 없음"
   ]
  },
  {
   "cell_type": "code",
   "execution_count": 39,
   "id": "b7cc4070",
   "metadata": {},
   "outputs": [
    {
     "name": "stdout",
     "output_type": "stream",
     "text": [
      "3\n",
      "6\n"
     ]
    }
   ],
   "source": [
    "# 함수가 끝났으니 정의한 함수로 돌아가 return된 값 대입\n",
    "print(add_and_return(1, 2)+3) # 실행할 필요 없음"
   ]
  },
  {
   "cell_type": "code",
   "execution_count": 40,
   "id": "d87659c5",
   "metadata": {},
   "outputs": [
    {
     "name": "stdout",
     "output_type": "stream",
     "text": [
      "6\n"
     ]
    }
   ],
   "source": [
    "print(3+3) # 덧셈 치환 # 실행할 필요 없음"
   ]
  },
  {
   "cell_type": "code",
   "execution_count": 41,
   "id": "cd05cfd9",
   "metadata": {},
   "outputs": [
    {
     "name": "stdout",
     "output_type": "stream",
     "text": [
      "6\n"
     ]
    }
   ],
   "source": [
    "print(6)"
   ]
  },
  {
   "cell_type": "markdown",
   "id": "87949384",
   "metadata": {},
   "source": [
    "### 여기서 문제,\n",
    "#### 다음의 코드는 어떤 순서로 결과를 표시할까?"
   ]
  },
  {
   "cell_type": "code",
   "execution_count": 42,
   "id": "cdeef9a9",
   "metadata": {},
   "outputs": [
    {
     "name": "stdout",
     "output_type": "stream",
     "text": [
      "D\n",
      "C\n",
      "A\n",
      "B\n"
     ]
    }
   ],
   "source": [
    "def print_two(word1, word2):\n",
    "    print(word1)\n",
    "    print(word2) \n",
    "    \n",
    "    \n",
    "def print_and_return(word1, word2, word3):\n",
    "    print_two(word3, word2)\n",
    "    return word1\n",
    "\n",
    "print_two('A', print_and_return('B', 'C', 'D'))"
   ]
  },
  {
   "cell_type": "markdown",
   "id": "a6f0f601",
   "metadata": {},
   "source": [
    "### 스스로 함수 뜯어보기\n",
    "1. print() 안에 있는 print_and_return('B','C','D')를 먼저 푼다.\n",
    "2. B=word1, C=word2, D=word3가 됨\n",
    "3. print_two(word3=D, word2=C) ---> print_two(D,C)\n",
    "4. print_two(D,C)는 __print(D), print(C)가 차례대로 출력된다.\n",
    "5. 그리고 return word1=B은 print_and_return('B', 'C', 'D')의 값이 되므로,\n",
    "6. print_two('A', 'B')는 __print(A), print(B)가 차례대로 출력된다."
   ]
  },
  {
   "cell_type": "code",
   "execution_count": 43,
   "id": "1c247188",
   "metadata": {},
   "outputs": [
    {
     "name": "stdout",
     "output_type": "stream",
     "text": [
      "D\n",
      "C\n"
     ]
    },
    {
     "data": {
      "text/plain": [
       "'B'"
      ]
     },
     "execution_count": 43,
     "metadata": {},
     "output_type": "execute_result"
    }
   ],
   "source": [
    "print_and_return('B', 'C', 'D')"
   ]
  },
  {
   "cell_type": "code",
   "execution_count": 44,
   "id": "bb5d7d60",
   "metadata": {},
   "outputs": [
    {
     "name": "stdout",
     "output_type": "stream",
     "text": [
      "D\n",
      "C\n",
      "A\n",
      "B\n"
     ]
    }
   ],
   "source": [
    "B=print_and_return('B', 'C', 'D')\n",
    "\n",
    "print_two('A', B)"
   ]
  },
  {
   "cell_type": "markdown",
   "id": "2951e80a",
   "metadata": {},
   "source": [
    "### ---- 이해완료"
   ]
  },
  {
   "cell_type": "markdown",
   "id": "75796007",
   "metadata": {},
   "source": [
    "--- seYI"
   ]
  },
  {
   "cell_type": "code",
   "execution_count": null,
   "id": "d3a6f79d",
   "metadata": {},
   "outputs": [],
   "source": []
  }
 ],
 "metadata": {
  "kernelspec": {
   "display_name": "python3_7_6",
   "language": "python",
   "name": "py3_7_6"
  },
  "language_info": {
   "codemirror_mode": {
    "name": "ipython",
    "version": 3
   },
   "file_extension": ".py",
   "mimetype": "text/x-python",
   "name": "python",
   "nbconvert_exporter": "python",
   "pygments_lexer": "ipython3",
   "version": "3.7.6"
  }
 },
 "nbformat": 4,
 "nbformat_minor": 5
}
