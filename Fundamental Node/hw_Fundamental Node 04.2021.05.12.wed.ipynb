{
 "cells": [
  {
   "cell_type": "markdown",
   "id": "ac3bca2e",
   "metadata": {},
   "source": [
    "# # 9-1 사이킷런으로 구현해 보는 머신러닝\n",
    "\n",
    "1. 다양한 머신러닝 알고리즘\n",
    "2. 사이킷런에서 가이드하는 머신러닝 알고리즘\n",
    "3. Hello Scikit-learn\n",
    "4. 사이킷런의 주요 모듈\n",
    "    - 4.1. 데이터 표현법\n",
    "    - 4.2. 회귀모델 실습\n",
    "    - 4.3. datasets 모듈\n",
    "    - 4.4. 사이킷런 데이터셋을 이용한 분류 문제 실습\n",
    "    - 4.5. Estimator\n",
    "5. 훈련 데이터와 테스트 데이터 분리하기"
   ]
  },
  {
   "cell_type": "markdown",
   "id": "f4e02247",
   "metadata": {},
   "source": [
    "# # 2. 머신러닝 알고리즘\n",
    "## ## 머신러닝의 알고리즘 종류\n",
    "- 지도학습 (Supervised Learning)\n",
    "- 비지도학습 (Unsupervised Learning)\n",
    "- 강화학습 (Reinforcement Learning)\n",
    "\n",
    "\n",
    "- 상황이나 구현하고자 하는 상황에 따라 합쳐서 사용할 수 있다.\n",
    "- 지도학습으로 진행하다가 차원과 특징의 수가 많아지면, 비지도 학습으로 전환한다.\n",
    "- 어떤 문헌에서는 지도학습과 비지도학습의 중간 개념으로 준(반)지도학습 또는 약지도학습을 제시한다.\n",
    "- 알파고의 경우 지도학습을 통해 바둑 기보를 학습하고 강화학습을 거쳐 최적화 됐다.\n",
    "\n",
    "\n",
    "### ### 지도학습과 비지도학습\n",
    "각 카테고리 속의 머신러닝 알고리즘 종류?\n",
    "- [최적의 ‘머신러닝 알고리즘’을 고르기 위한 치트키](https://blogs.sas.com/content/saskorea/2017/08/22/%EC%B5%9C%EC%A0%81%EC%9D%98-%EB%A8%B8%EC%8B%A0%EB%9F%AC%EB%8B%9D-%EC%95%8C%EA%B3%A0%EB%A6%AC%EC%A6%98%EC%9D%84-%EA%B3%A0%EB%A5%B4%EA%B8%B0-%EC%9C%84%ED%95%9C-%EC%B9%98%ED%8A%B8/)\n",
    "\n",
    "    - 어떤 알고리즘을 사용해야 할까?\n",
    "        - 데이터의 크기, 품질, 특성\n",
    "        - 가용 연산(계산) 시간\n",
    "        - 작업의 긴급성\n",
    "        - 데이터를 이용해 하고 싶은 것\n",
    "        \n",
    "        \n",
    "        - 여러 알고리즘을 직접 써보기 전까지는 최고의 성과를 낼 수 있는 최적의 알고리즘을 구별하기 쉽지 않다. "
   ]
  },
  {
   "cell_type": "markdown",
   "id": "8921c629",
   "metadata": {},
   "source": [
    "#### 1) 지도학습\n",
    "- 한 세트의 사례들을 기반으로 예측을 수행한다.\n",
    "    - 예) 과거 매출 이력(historical sales)을 이용해 미래 가격을 추산\n",
    "    \n",
    "    \n",
    "- 지도 학습에는 기존에 이미 분류된 학습용 데이터(labeled training data)로 구성된 입력 변수(input, x)와 원하는 출력 변수(target, y)가 수반되는데, 알고리즘을 이용해 학습용 데이터를 분석함으로써 입력 변수를 출력 변수와 매핑시키는 함수를 찾을 수 있다. 이렇게 추론된 함수는 학습용 데이터로부터 일반화(generalizing)를 통해 알려지지 않은 새로운 사례들을 매핑하고, 눈에 보이지 않는 상황(unseen situations) 속에서 결과를 예측한다."
   ]
  },
  {
   "cell_type": "markdown",
   "id": "a80cf254",
   "metadata": {},
   "source": [
    "#### 지도학습 종류\n",
    "\n",
    "\n",
    "- __분류__: \n",
    "    - 범주형(categorical) 변수를 예측하여 레이블 또는 지표(indicator)로 할당하는 경우이다. \n",
    "    - 레이블이 두 개인 경우: 이진 분류(binary classification) \n",
    "    - 범주가 두 개 이상인 경우는 다중 클래스 분류(multi-class classification)\n",
    "    \n",
    "    \n",
    "- __회귀(Regression)__: \n",
    "    - 연속 값을 예측할 때\n",
    "    \n",
    "    \n",
    "- __예측(Forecasting)__: \n",
    "    - 과거 및 현재 데이터를 기반으로 미래를 예측하는 과정이므로, 동향(trends)을 분석하기 위해 가장 많이 사용된다. \n",
    "    - 예) 올해와 전년도 매출을 기반으로 내년도 매출을 추산"
   ]
  },
  {
   "cell_type": "markdown",
   "id": "0ea2e56e",
   "metadata": {},
   "source": [
    "Q1. 위 링크에서 지도 학습에 속하는 대표적인 알고리즘에는 어떤것이 있나요?\n",
    "- 분류, 회귀, 예측"
   ]
  },
  {
   "cell_type": "markdown",
   "id": "ef5ca6ca",
   "metadata": {},
   "source": [
    "#### 2) 준지도 학습\n",
    "- 지도 학습의 단점인 데이터 분류(레이블링) 작업에 많은 비용과 시간이 소요된다는 것을 보완했다. \n",
    "- 분류된 자료가 한정적일 때에는 지도 학습을 개선하기 위해 미분류(unlabeled) 사례를 이용할 수 있다. \n",
    "- 이때 기계(machine)는 온전히 지도 받지 않기 때문에 “기계가 준지도(semi-supervised)를 받는다”라고 표현한다. \n",
    "- 준지도 학습은 학습 정확성을 개선하기 위해 미분류 사례와 함께 소량의 분류(labeled) 데이터를 이용한다."
   ]
  },
  {
   "cell_type": "markdown",
   "id": "f690ce8a",
   "metadata": {},
   "source": [
    "#### 3). 비지도 학습\n",
    "- 비지도 학습을 수행할 때 기계는 미분류 데이터만을 제공 받는다. \n",
    "- 기계는 클러스터링 구조(clustering structure), 저차원 다양체(low-dimensional manifold), 희소 트리 및 그래프(a sparse tree and graph) 등과 같은 데이터의 기저를 이루는 고유 패턴을 발견하도록 설정된다."
   ]
  },
  {
   "cell_type": "markdown",
   "id": "ed3a038d",
   "metadata": {},
   "source": [
    "#### 비지도학습 종류\n",
    "\n",
    "\n",
    "- __클러스터링(Clustering)__: \n",
    "    - 특정 기준에 따라 유사한 데이터 사례들을 하나의 세트로 그룹화한다. \n",
    "    - 종종 전체 데이터 세트를 여러 그룹으로 분류하기 위해 사용된다. \n",
    "    - 사용자는 고유한 패턴을 찾기 위해 개별 그룹 차원에서 분석할 수 있다.\n",
    "    \n",
    "    \n",
    "- __차원 축소(Dimension Reduction)__: \n",
    "    - 고려 중인 변수의 개수를 줄인다. \n",
    "    - 많은 애플리케이션에서 원시 데이터(raw data)는 아주 높은 차원의 특징을 지니는데, 일부 특징들은 중복되거나 작업과 아무 관련이 없다. 따라서 차원수(dimensionality)를 줄이면 잠재된 진정한 관계를 도출하기 용이해진다."
   ]
  },
  {
   "cell_type": "markdown",
   "id": "489a1e1c",
   "metadata": {},
   "source": [
    "Q2. 위 링크에서 비지도 학습에 속하는 대표적인 알고리즘에는 어떤 것이 있나요\n",
    "- 클러스터링, 차원축소"
   ]
  },
  {
   "cell_type": "markdown",
   "id": "1f8fc3f1",
   "metadata": {},
   "source": [
    "#### 4) 강화학습\n",
    "- 강화 학습은 환경으로부터의 피드백을 기반으로 행위자(agent)의 행동을 분석하고 최적화한다. \n",
    "- 기계는 어떤 액션을 취해야 할지 듣기 보다는 최고의 __보상__ 을 산출하는 액션을 발견하기 위해 서로 다른 시나리오를 시도합니다. __시행 착오(Trial-and-error)__ 와 __지연 보상(delayed reward)__ 은 다른 기법과 구별되는 강화 학습만의 특징입니다.\n",
    "\n",
    "\n",
    "- 학습하는 시스템을 에이전트라고 하고, 환경을 관찰해서 에이전트가 스스로 행동하게 한다. 모델은 그 결과로 특정 보상을 받아 이 보상을 최대화 하도록 학습한다.\n",
    "\n",
    "\n",
    "- 쓰이는 용어: \n",
    "    - 에이전트(Agent): 학습 주체 (혹은 actor, controller)\n",
    "    - 환경(Environment): 에이전트에게 주어진 환경, 상황, 조건\n",
    "    - 행동(Action): 환경으로부터 주어진 정보를 바탕으로 에이전트가 판단한 행동\n",
    "    - 보상(Reward): 행동에 대한 보상을 머신러닝 엔지니어가 설계\n",
    "\n",
    "\n",
    "- 종류:\n",
    "    - Monte Carlo methods\n",
    "    - Q-Learning\n",
    "    - Policy Gradient methods\n",
    "    \n",
    "    \n",
    "- 강화학습 개발자 커뮤니티    \n",
    "     - [Reinforcement Learning KR](https://github.com/reinforcement-learning-kr)\n",
    "     - [aikorea/awesome-rl](https://github.com/aikorea/awesome-rl)"
   ]
  },
  {
   "cell_type": "markdown",
   "id": "dd30e1b4",
   "metadata": {},
   "source": [
    "### ### 알고리즘 선택 시 고려 사항\n",
    "- 정확성, 학습 시간, 사용 편의성\n",
    "\n",
    "1. __'어떤 결과가 나올 것인지에 상관없이 어떻게 결과를 얻을 것인가'__\n",
    "2. __데이터와 기준이 되는 결과 인지__: 일부 결과를 얻었고 데이터에 익숙해진 후라면 정교한 알고리즘을 사용하는 데 시간을 할애하여 데이터를 더 이해하고 결과를 개선시킨다.\n",
    "3. __복잡한 것 시도__: 최상의 알고리즘은 가장 높은 정확성을 달성한 방법이 아닐 수도 있다. 세심한 하이퍼파라미터 튜닝(tuning)과 광범위한 학습을 요구하기 때문이다."
   ]
  },
  {
   "cell_type": "markdown",
   "id": "368c26bf",
   "metadata": {},
   "source": [
    "### ### 특정 알고리즘을 사용하는 시점\n",
    "1) 선형 회귀(Linear regression)와 로지스틱 회귀(Logistic regression)\n",
    "\n",
    "1. 선형 회귀\n",
    "- 연속적인 종속 변수 y와 한 개 이상의 예측 변수인 x 사이의 관계를 모델링하는 접근법\n",
    "- __선형__ : y = ax + b (a: 기울기, b: bias)\n",
    "\n",
    "2. 로지스틱 회귀\n",
    "- 종속 변수 y가 범주형이라면 선형회귀는 로짓 연결 함수를 이용해 로지스틱 회귀로 변환될 수 있다.\n",
    "- 단순하고 빠르며 강력한 분류 알고리즘이다. \n",
    "- 종속 변수 y가 오직 이진값(-1~1)만을 취한다. (다중 클래스 분류 문제로 확장 가능)\n",
    "- 시그모이드sigmoid 함수"
   ]
  },
  {
   "cell_type": "markdown",
   "id": "bd2a1be0",
   "metadata": {},
   "source": [
    "2) 선형(Linear) SVM(support vector machine) 과 커널(Kernel) SVM\n",
    "\n",
    "- SVM(support vector machine) 학습 알고리즘은 초평면(hyperplane)의 법선 벡터(normal vector) 'a'와 편향 값(bias) 'b'로 표현되는 분류기(classifier)를 찾는다.\n",
    "\n",
    "- __커널 트릭(기법)은 분리 가능한 비선형 함수를 고차원의 분리 가능한 선형 함수로 매핑하기 위해 사용된다.__\n",
    "\n",
    "- 초평면(경계)은 가능한 최대 오차(margin)로 각기 다른 클래스를 분리한다. 그러면 문제를 제약 조건이 있는(constrained) 최적화 문제로 변환할 수 있다."
   ]
  },
  {
   "cell_type": "markdown",
   "id": "c10f9277",
   "metadata": {},
   "source": [
    "3) 트리와 앙상블 트리(ensemble tree)\n",
    "- 의사결정 트리, 랜덤 포레스트(random forest), 그래디언트 부스팅(gradient boosting)\n",
    "- 특징 공간(feature space)을 거의 같은 레이블로 구별되도록 분리한다.\n",
    "- __의사결정 트리__ 는 이해와 구현이 쉽지만 가지를 다 쳐내고 트리의 깊이가 너무 깊어질 경우 데이터를 __과적합(overfit)__ 하는 경향이 있습니다. \n",
    "- 랜덤 포레스트와 그래디언트 부스팅은 일반적으로 __높은 정확성을 달성하고 과적합 문제를 해결하기 위해__ 트리 알고리즘을 사용하는 두 가지 방법입니다."
   ]
  },
  {
   "cell_type": "markdown",
   "id": "72070271",
   "metadata": {},
   "source": [
    "4) 신경망과 딥러닝\n",
    "- 신경망의 구성: 입력 계층(input layer), 은닉 계층(hidden layers), 출력 계층(output layer)\n",
    "- 학습 표본(training samples)은 입력 및 출력 계층을 정의한다. \n",
    "    - 출력 계층이 범주형 변수일 때, 신경망은 __분류__ 문제를 해결\n",
    "    - 출력 계층이 연속 변수일 때, 신경망은 __회귀__ 작업을 위해 사용\n",
    "    - 출력 계층이 입력 계층과 동일할 때, 신경망은 __고유한 특징__ 을 추출. 이때 은닉 계층의 수는 모델 복잡성과 모델링 수용력(capacity)을 결정함."
   ]
  },
  {
   "cell_type": "markdown",
   "id": "53c27a11",
   "metadata": {},
   "source": [
    "5) K-평균/K-모드(k-means/k-modes), 가우시안 혼합 모델(GMM; Gaussian mixture model) 클러스터링\n",
    "\n",
    "\n",
    "- 목표: n개의 관측치(observations)를 k개의 클러스터로 나누는 것\n",
    "\n",
    "\n",
    "- K-평균:\n",
    "    - 표본을 하나의 클러스터에만 강하게 결속시키는 ‘하드 할당(hard assignment)’를 정의한다. \n",
    "    \n",
    "    \n",
    "- 가우시안 혼합 모델(GMM):\n",
    "    - 각 표본이 확률 값을 가짐으로써 어느 한 클러스터에만 결속되지 않는 ‘소프트 할당(soft assignment)’을 정의한다. \n",
    "    \n",
    "    \n",
    "- 두 알고리즘 모두 클러스터 k의 수가 주어질 때 클러스터링을 빠르고 단순하게 수행할 수 있다."
   ]
  },
  {
   "cell_type": "markdown",
   "id": "7c820bac",
   "metadata": {},
   "source": [
    "6) DBSCAN\n",
    "- 클러스터 k의 수가 주어지지 않을 때에는 밀도 확산(density diffusion)을 통해 표본을 연결함으로써 DBSCAN(density-based spatial clustering)을 사용한다.\n",
    "\n",
    "\n",
    "7) 계층적 군집화(Hierarchical clustering)\n",
    "- 계층적 분할은 트리 구조인 덴드로그램(dendrogram)를 이용해 시각화할 수 있다. \n",
    "- 각기 다른 K를 사용해 클러스터를 정제하거나 조대화할 수 있는 각기 다른 세분화(granularities) 수준에서 입력과 분할 결과를 확인할 수 있기 때문에 클러스터의 개수가 필요 없다.\n",
    "\n",
    "\n",
    "8) 차원 축소 PCA, SVD, LDA\n",
    "- 많은 수의 특징을 직접 투입하는 것은 선호되지 않는다. 일부 특징은 관련이 없거나 ‘고유한’ 차원수가 특징의 수보다 적을 수 있기 때문이다.\n",
    "\n",
    "\n",
    "- 주성분 분석(PCA; principal component analysis):\n",
    "    - 원래의 데이터 공간을 저차원의 공간으로 매핑하면서 가능한 많은 정보를 보존하는 비지도 클러스터링 방식이다. \n",
    "    - 데이터 분산(variance)을 가장 많이 보존하는 하위 공간(subspace)을 찾는데, 하위 공간은 데이터의 공분산 매트릭스(covariance matrix)의 지배적인 고유 벡터(eigenvectors)에 따라 정의된다.\n",
    "    \n",
    "    \n",
    "- 특이값 분해(SVD; singular value decomposition):\n",
    "    - 중앙 데이터 매트릭스의 SVD(특징 vs. 표본)가 PCA로 찾은 것과 동일한 하위 공간을 정의하는 지배적인 왼쪽 특이 벡터(left singular vectors)를 제공한다는 점에서 PCA와 관련되어 있다. \n",
    "    - 그러나 SVD는 PCA가 할 수 없는 작업을 수행할 수 있기 때문에 훨씬 다재다능한 기법이다. \n",
    "        - 예) 사용자 대 영화 매트릭스의 SVD는 추천 시스템에서 사용할 수 있는 사용자 프로파일과 영화 프로파일을 추출할 수 있다. \n",
    "    - 자연어 처리(NLP; natural language processing) 과정에서 잠재 의미 분석(latent semantic analysis)으로 알려진 주제 모델링(topic modeling) 도구로서 널리 사용된다.\n",
    "    \n",
    "    \n",
    "- 잠재 디리클레 할당(LDA; latent Dirichlet allocation):\n",
    "     - 자연어 처리(NLP)와 관련된 기법이다.\n",
    "     - LDA는 확률적 주제 모델(probabilistic topic model)로 가우시안 혼합 모델(GMM)이 연속 데이터를 가우시안 밀도로 분해하는 것과 비슷한 방식으로 문서를 주제를 기준으로 분리한다. \n",
    "     - GMM과 다르게 LDA는 이산 데이터(discrete data, 문서 내 단어)를 모델링하고, 주제는 디리클레 분포(Dirichlet distribution)에 따라 연역적(priori)으로 분포돼야 하는 제약이 있다."
   ]
  },
  {
   "cell_type": "markdown",
   "id": "bbb41991",
   "metadata": {},
   "source": [
    "Q3. 위 링크에서 특정 알고리즘에 대해서도 상세히 설명했는데요. 어떤 것들이 있었나요? (최소 5개 이상 적어보세요)\n",
    "- 선형회귀, 로지스틱 회귀, 트리, 앙상블트리 (랜덤포레스트, 그래디언트 부스팅), 신경망 & 딥러닝을 사용하는 알고리즘, K평균, K모드, 가우시안혼합모델 클러스터링, DBSCAN, 계층적 군집화, PCA, SVD, LDA"
   ]
  },
  {
   "cell_type": "markdown",
   "id": "6920c951",
   "metadata": {},
   "source": [
    "- 보통 라벨(정답)의 존재 유무에 따라 머신러닝을 지도학습과 비지도학습으로 나눈다.\n",
    "\n",
    "\n",
    "- 데이터가 매우 복잡하다면, 차원을 축소하기도 하고 만약 주요한 성분이 있다면 주성분 분석을 적용하기도 한다.\n",
    "- 데이터의 종류에 따라 같은 회귀라도 선형회귀는 수치형데이터(연속적인 데이터)를 예측하는데 사용된다면 로지스틱 회귀는 분류(엄밀히 말하면 이진분류)에 사용된다.\n",
    "\n",
    "\n",
    "- __정답 유무, 데이터의 종류, 특성, 문제 정의__ 에 따라 머신러닝 알고리즘은 굉장히 복합적으로 사용된다."
   ]
  },
  {
   "cell_type": "markdown",
   "id": "eb64519a",
   "metadata": {},
   "source": [
    "# # 3. 사이킷런에서 가이드하는 머신러닝 알고리즘\n",
    "- [Scikit-Learn에서의 알고리즘 분류](https://scikit-learn.org/stable/tutorial/machine_learning_map/index.html)"
   ]
  },
  {
   "cell_type": "code",
   "execution_count": 1,
   "id": "67624478",
   "metadata": {},
   "outputs": [
    {
     "data": {
      "image/png": "[encoded data removed]",
      "text/plain": [
       "<Figure size 432x288 with 1 Axes>"
      ]
     },
     "metadata": {
      "needs_background": "light"
     },
     "output_type": "display_data"
    }
   ],
   "source": [
    "import matplotlib.image as img \n",
    "import matplotlib.pyplot as pp \n",
    "\n",
    "fileName = 'C:/Users/User/Downloads/ml_map.png'\n",
    "ndarray = img.imread(fileName) \n",
    "pp.imshow(ndarray) \n",
    "pp.show()"
   ]
  },
  {
   "cell_type": "markdown",
   "id": "43dedfee",
   "metadata": {},
   "source": [
    "Q4. 사이킷런에서 알고리즘의 Task는 몇 가지이며 각각 무엇인가요?\n",
    "- 4가지. Classification, Regression, Clustering, Dimensionality Reduction\n",
    "\n",
    "\n",
    "Q5. 사이킷런에서는 알고리즘을 크게 어떤 기준에 따라 나누었나요?\n",
    "- 데이터 수량라벨의 유무(정답의 유무)데이터의 종류 (수치형 데이터(quantity), 범주형 데이터(category) 등)\n",
    "\n",
    "\n",
    "Q6. 사이킷런에서 소개하는 Classification용 알고리즘은 몇 개이며 그 종류에는 무엇이 있나요?\n",
    "- 7개. SGD Classifier, KNeighborsClassifier, LinearSVC, NaiveBayes, SVC, Kernel approximation, EnsembleClassifiers\n",
    "\n",
    "\n",
    "Q7. 사이킷런에서 소개하는 Regression용 알고리즘은 몇 개이며 그 종류에는 무엇이 있나요?\n",
    "- 7개. SGD Regressor, Lasso, ElasticNet, RidgeRegression, SVR(kernel='linear'), SVR(kernel='rbf'), EnsembelRegressor\n",
    "\n",
    "\n",
    "Q8. Ensemble 기법은 어느 Task 카테고리에 사용되었나요?\n",
    "- Classification, Regressio\n",
    "\n",
    "\n",
    "Q9. SGD 기법은 어느 Task 카테고리에 사용되었나요?\n",
    "- Classification, Regression"
   ]
  },
  {
   "cell_type": "markdown",
   "id": "15ea84ca",
   "metadata": {},
   "source": [
    "# # 9-2. 사이킷런 주요 모듈\n",
    "# # 4. Hello Scikit-learn\n",
    "- [사이킷런scikit-learn](https://scikit-learn.org/stable/index.html)"
   ]
  },
  {
   "cell_type": "code",
   "execution_count": 2,
   "id": "5e4755f9",
   "metadata": {},
   "outputs": [
    {
     "name": "stdout",
     "output_type": "stream",
     "text": [
      "0.24.1\n"
     ]
    }
   ],
   "source": [
    "# !pip install scikit-learn 설치\n",
    "\n",
    "# 버전 확인\n",
    "import sklearn\n",
    "print(sklearn.__version__)"
   ]
  },
  {
   "cell_type": "markdown",
   "id": "ab00b2d3",
   "metadata": {},
   "source": [
    "Q11. Scikit-Learn에서 훈련 데이터와 테스트 데이터를 나누는 기능을 제공하는 함수의 이름은 무엇인가요?\n",
    "- sklearn.model_selection 안의 __train_test_split__"
   ]
  },
  {
   "cell_type": "markdown",
   "id": "86d14536",
   "metadata": {},
   "source": [
    "- 데이터 가공 ETL(Extract Transform Load) 기능을 수행하는 함수: transformer()\n",
    "- 모델(Model)로 표현되는 클래스는 Estimator이다. Estimator 클래스의 메소드에는 __fit(), predict()__ 이 있다.\n",
    "- Estimator와 transformer() 2가지 기능을 수행하는 API는 Pipeline 혹은 meta-estimator이다."
   ]
  },
  {
   "cell_type": "markdown",
   "id": "4b1140bb",
   "metadata": {},
   "source": [
    "#### 설명\n",
    "\n",
    "\n",
    "- sklearn.model_selection 안의 train_test_split:\n",
    "     - 훈련데이터와 테스트데이터를 랜덤하게 섞어준다.\n",
    "     \n",
    "     \n",
    "- 일반적으로 머신러닝에서 데이터 가공(ETL)을 거쳐 모델을 훈련하고 예측하는 과정을 거치는데 ETL부분은 ScikitLearn의 transformer()를 제공한다.\n",
    "\n",
    "\n",
    "- 모델의 훈련과 예측은 Estimator 객체를 통해 수행되며, Estimator에는 각각 fit()(훈련), predict()(예측)을 행하는 메소드가 있다.\n",
    "\n",
    "\n",
    "- 모델의 훈련과 예측이 끝나면 이 2가지는 작업을 Pipeline()으로 묶어 검증을 수행한다."
   ]
  },
  {
   "cell_type": "markdown",
   "id": "926f8136",
   "metadata": {},
   "source": [
    "# 5. 사이킷런의 주요 모듈 \n",
    "## (1) 데이터 표현법\n",
    "- [Scikit-learn: API Reference](https://scikit-learn.org/stable/modules/classes.html)\n",
    "\n",
    "\n",
    "- 사이킷런의 알고리즘은 파이썬 클래스로 구현\n",
    "- 데이터셋은 NumPy의 ndarray, Pandas의 DataFrame, SciPy의 Sparse Matrix를 이용\n",
    "- 훈련과 예측 등 머신러닝 모델을 다룰 때는 CoreAPI라고 불리는 fit() , transfomer() , predict() 과 같은 함수들을 이용"
   ]
  },
  {
   "cell_type": "code",
   "execution_count": 3,
   "id": "81c51f82",
   "metadata": {},
   "outputs": [
    {
     "data": {
      "image/png": "[encoded data removed]",
      "text/plain": [
       "<Figure size 432x288 with 1 Axes>"
      ]
     },
     "metadata": {
      "needs_background": "light"
     },
     "output_type": "display_data"
    }
   ],
   "source": [
    "import matplotlib.image as img \n",
    "import matplotlib.pyplot as pp \n",
    "\n",
    "fileName = 'C:/Users/User/Downloads/scikitlearn.jpg'\n",
    "ndarray = img.imread(fileName) \n",
    "pp.imshow(ndarray) \n",
    "pp.show()"
   ]
  },
  {
   "cell_type": "markdown",
   "id": "323e95bf",
   "metadata": {},
   "source": [
    "### 데이터 표현법\n",
    "- 사이킷런에서는 데이터 표현 방식을 보통 2가지\n",
    "- 특성행렬(Feature Matrix, x)과 타겟벡터(Target Vector, y)"
   ]
  },
  {
   "cell_type": "markdown",
   "id": "ffabad81",
   "metadata": {},
   "source": [
    "#### 특성 행렬(Feature Matrix)\n",
    "- 입력 데이터를 의미\n",
    "- 특성(feature): 데이터에서 수치 값, 이산 값, 불리언 값으로 표현되는 개별 관측치를 의미, 특성 행렬에서 열에 해당하는 값\n",
    "- 표본(sample): 각 입력 데이터, 특성 행렬에서는 행에 해당하는 값\n",
    "- n_samples : 행의 개수(표본의 개수)\n",
    "- n_features : 열의 개수(특성의 개수)\n",
    "- X : 통상 특성 행렬은 변수명 X로 표기합니다.\n",
    "- [n_samples, n_features] 은 [행, 열] 형태의 2차원 배열 구조를 사용, 이는 NumPy의 ndarray, Pandas의 DataFrame, SciPy의 Sparse Matrix를 사용하여 나타냄"
   ]
  },
  {
   "cell_type": "markdown",
   "id": "cb26c115",
   "metadata": {},
   "source": [
    "#### 타겟 벡터 (Target Vector)\n",
    "- 입력 데이터의 라벨(정답)을 의미\n",
    "- 목표(Target): 라벨, 타겟값, 목표값이라고도 부르며, 특성 행렬(Feature Matrix)로 부터 예측하고자 하는 것\n",
    "- n_samples : 벡터의 길이(라벨의 개수)\n",
    "- 타겟 벡터에서 n_features 는 없다.\n",
    "- y : 통상 타겟 벡터는 변수명 y로 표기\n",
    "- 타겟 벡터는 보통 1차원 벡터로 나타내며, 이는 NumPy의 ndarray, Pandas의 Series를 사용하여 나타낼 수 있다.\n",
    "- 단, 타겟 벡터는 경우에 따라 1차원으로 나타내지 않을 수도 있다. 이 노드에서 사용되는 예제는 모두 1차원 벡터이다."
   ]
  },
  {
   "cell_type": "markdown",
   "id": "99fb976f",
   "metadata": {},
   "source": [
    "__주의__ : 특성행렬 X의 n_samples와 타겟벡터 y의 n_samples는 동일해야 한다."
   ]
  },
  {
   "cell_type": "markdown",
   "id": "d08d9d44",
   "metadata": {},
   "source": [
    "## (2) 회귀 모델 실습\n",
    "- 데이터와 머신러닝의 회귀 모델을 이용해 데이터를 예측하는 모델을 만들자."
   ]
  },
  {
   "cell_type": "code",
   "execution_count": 4,
   "id": "1fce6746",
   "metadata": {},
   "outputs": [
    {
     "data": {
      "text/plain": [
       "<matplotlib.collections.PathCollection at 0x28b961d5908>"
      ]
     },
     "execution_count": 4,
     "metadata": {},
     "output_type": "execute_result"
    },
    {
     "data": {
      "image/png": "[encoded data removed]",
      "text/plain": [
       "<Figure size 432x288 with 1 Axes>"
      ]
     },
     "metadata": {
      "needs_background": "light"
     },
     "output_type": "display_data"
    }
   ],
   "source": [
    "import numpy as np\n",
    "import matplotlib.pyplot as plt\n",
    "\n",
    "r = np.random.RandomState(10)\n",
    "x = 10 * r.rand(100)\n",
    "y = 2 * x - 3 * r.rand(100)\n",
    "plt.scatter(x,y)"
   ]
  },
  {
   "cell_type": "code",
   "execution_count": 5,
   "id": "0cf6c4ed",
   "metadata": {},
   "outputs": [
    {
     "data": {
      "text/plain": [
       "(100,)"
      ]
     },
     "execution_count": 5,
     "metadata": {},
     "output_type": "execute_result"
    }
   ],
   "source": [
    "x.shape # 1차원 벡터"
   ]
  },
  {
   "cell_type": "code",
   "execution_count": 6,
   "id": "d140a367",
   "metadata": {},
   "outputs": [
    {
     "data": {
      "text/plain": [
       "(100,)"
      ]
     },
     "execution_count": 6,
     "metadata": {},
     "output_type": "execute_result"
    }
   ],
   "source": [
    "y.shape # 1차원 벡터"
   ]
  },
  {
   "cell_type": "code",
   "execution_count": 7,
   "id": "0f9ff55f",
   "metadata": {},
   "outputs": [
    {
     "data": {
      "text/plain": [
       "LinearRegression()"
      ]
     },
     "execution_count": 7,
     "metadata": {},
     "output_type": "execute_result"
    }
   ],
   "source": [
    "# 모델 객체 생성\n",
    "\n",
    "from sklearn.linear_model import LinearRegression\n",
    "\n",
    "model = LinearRegression()\n",
    "model"
   ]
  },
  {
   "cell_type": "code",
   "execution_count": 8,
   "id": "5c0527a9",
   "metadata": {},
   "outputs": [
    {
     "ename": "ValueError",
     "evalue": "Expected 2D array, got 1D array instead:\narray=[7.71320643 0.20751949 6.33648235 7.48803883 4.98507012 2.24796646\n 1.98062865 7.60530712 1.69110837 0.88339814 6.85359818 9.53393346\n 0.03948266 5.12192263 8.12620962 6.12526067 7.21755317 2.91876068\n 9.17774123 7.14575783 5.42544368 1.42170048 3.7334076  6.74133615\n 4.41833174 4.34013993 6.17766978 5.13138243 6.50397182 6.01038953\n 8.05223197 5.21647152 9.08648881 3.19236089 0.90459349 3.00700057\n 1.13984362 8.28681326 0.46896319 6.26287148 5.47586156 8.19286996\n 1.9894754  8.56850302 3.51652639 7.54647692 2.95961707 8.8393648\n 3.25511638 1.65015898 3.92529244 0.93460375 8.21105658 1.5115202\n 3.84114449 9.44260712 9.87625475 4.56304547 8.26122844 2.51374134\n 5.97371648 9.0283176  5.34557949 5.90201363 0.39281767 3.57181759\n 0.7961309  3.05459918 3.30719312 7.73830296 0.39959209 4.29492178\n 3.14926872 6.36491143 3.4634715  0.43097356 8.79915175 7.63240587\n 8.78096643 4.17509144 6.05577564 5.13466627 5.97836648 2.62215661\n 3.00871309 0.25399782 3.03062561 2.42075875 5.57578189 5.6550702\n 4.75132247 2.92797976 0.64251061 9.78819146 3.39707844 4.95048631\n 9.77080726 4.40773825 3.18272805 5.19796986].\nReshape your data either using array.reshape(-1, 1) if your data has a single feature or array.reshape(1, -1) if it contains a single sample.",
     "output_type": "error",
     "traceback": [
      "\u001b[1;31m---------------------------------------------------------------------------\u001b[0m",
      "\u001b[1;31mValueError\u001b[0m                                Traceback (most recent call last)",
      "\u001b[1;32m<ipython-input-8-f7cfae848292>\u001b[0m in \u001b[0;36m<module>\u001b[1;34m\u001b[0m\n\u001b[0;32m      2\u001b[0m \u001b[1;33m\u001b[0m\u001b[0m\n\u001b[0;32m      3\u001b[0m \u001b[1;31m# ! 에러 발생\u001b[0m\u001b[1;33m\u001b[0m\u001b[1;33m\u001b[0m\u001b[1;33m\u001b[0m\u001b[0m\n\u001b[1;32m----> 4\u001b[1;33m \u001b[0mmodel\u001b[0m\u001b[1;33m.\u001b[0m\u001b[0mfit\u001b[0m\u001b[1;33m(\u001b[0m\u001b[0mx\u001b[0m\u001b[1;33m,\u001b[0m \u001b[0my\u001b[0m\u001b[1;33m)\u001b[0m\u001b[1;33m\u001b[0m\u001b[1;33m\u001b[0m\u001b[0m\n\u001b[0m",
      "\u001b[1;32mC:\\ProgramData\\Anaconda3\\envs\\py3_7_6\\lib\\site-packages\\sklearn\\linear_model\\_base.py\u001b[0m in \u001b[0;36mfit\u001b[1;34m(self, X, y, sample_weight)\u001b[0m\n\u001b[0;32m    517\u001b[0m \u001b[1;33m\u001b[0m\u001b[0m\n\u001b[0;32m    518\u001b[0m         X, y = self._validate_data(X, y, accept_sparse=accept_sparse,\n\u001b[1;32m--> 519\u001b[1;33m                                    y_numeric=True, multi_output=True)\n\u001b[0m\u001b[0;32m    520\u001b[0m \u001b[1;33m\u001b[0m\u001b[0m\n\u001b[0;32m    521\u001b[0m         \u001b[1;32mif\u001b[0m \u001b[0msample_weight\u001b[0m \u001b[1;32mis\u001b[0m \u001b[1;32mnot\u001b[0m \u001b[1;32mNone\u001b[0m\u001b[1;33m:\u001b[0m\u001b[1;33m\u001b[0m\u001b[1;33m\u001b[0m\u001b[0m\n",
      "\u001b[1;32mC:\\ProgramData\\Anaconda3\\envs\\py3_7_6\\lib\\site-packages\\sklearn\\base.py\u001b[0m in \u001b[0;36m_validate_data\u001b[1;34m(self, X, y, reset, validate_separately, **check_params)\u001b[0m\n\u001b[0;32m    431\u001b[0m                 \u001b[0my\u001b[0m \u001b[1;33m=\u001b[0m \u001b[0mcheck_array\u001b[0m\u001b[1;33m(\u001b[0m\u001b[0my\u001b[0m\u001b[1;33m,\u001b[0m \u001b[1;33m**\u001b[0m\u001b[0mcheck_y_params\u001b[0m\u001b[1;33m)\u001b[0m\u001b[1;33m\u001b[0m\u001b[1;33m\u001b[0m\u001b[0m\n\u001b[0;32m    432\u001b[0m             \u001b[1;32melse\u001b[0m\u001b[1;33m:\u001b[0m\u001b[1;33m\u001b[0m\u001b[1;33m\u001b[0m\u001b[0m\n\u001b[1;32m--> 433\u001b[1;33m                 \u001b[0mX\u001b[0m\u001b[1;33m,\u001b[0m \u001b[0my\u001b[0m \u001b[1;33m=\u001b[0m \u001b[0mcheck_X_y\u001b[0m\u001b[1;33m(\u001b[0m\u001b[0mX\u001b[0m\u001b[1;33m,\u001b[0m \u001b[0my\u001b[0m\u001b[1;33m,\u001b[0m \u001b[1;33m**\u001b[0m\u001b[0mcheck_params\u001b[0m\u001b[1;33m)\u001b[0m\u001b[1;33m\u001b[0m\u001b[1;33m\u001b[0m\u001b[0m\n\u001b[0m\u001b[0;32m    434\u001b[0m             \u001b[0mout\u001b[0m \u001b[1;33m=\u001b[0m \u001b[0mX\u001b[0m\u001b[1;33m,\u001b[0m \u001b[0my\u001b[0m\u001b[1;33m\u001b[0m\u001b[1;33m\u001b[0m\u001b[0m\n\u001b[0;32m    435\u001b[0m \u001b[1;33m\u001b[0m\u001b[0m\n",
      "\u001b[1;32mC:\\ProgramData\\Anaconda3\\envs\\py3_7_6\\lib\\site-packages\\sklearn\\utils\\validation.py\u001b[0m in \u001b[0;36minner_f\u001b[1;34m(*args, **kwargs)\u001b[0m\n\u001b[0;32m     61\u001b[0m             \u001b[0mextra_args\u001b[0m \u001b[1;33m=\u001b[0m \u001b[0mlen\u001b[0m\u001b[1;33m(\u001b[0m\u001b[0margs\u001b[0m\u001b[1;33m)\u001b[0m \u001b[1;33m-\u001b[0m \u001b[0mlen\u001b[0m\u001b[1;33m(\u001b[0m\u001b[0mall_args\u001b[0m\u001b[1;33m)\u001b[0m\u001b[1;33m\u001b[0m\u001b[1;33m\u001b[0m\u001b[0m\n\u001b[0;32m     62\u001b[0m             \u001b[1;32mif\u001b[0m \u001b[0mextra_args\u001b[0m \u001b[1;33m<=\u001b[0m \u001b[1;36m0\u001b[0m\u001b[1;33m:\u001b[0m\u001b[1;33m\u001b[0m\u001b[1;33m\u001b[0m\u001b[0m\n\u001b[1;32m---> 63\u001b[1;33m                 \u001b[1;32mreturn\u001b[0m \u001b[0mf\u001b[0m\u001b[1;33m(\u001b[0m\u001b[1;33m*\u001b[0m\u001b[0margs\u001b[0m\u001b[1;33m,\u001b[0m \u001b[1;33m**\u001b[0m\u001b[0mkwargs\u001b[0m\u001b[1;33m)\u001b[0m\u001b[1;33m\u001b[0m\u001b[1;33m\u001b[0m\u001b[0m\n\u001b[0m\u001b[0;32m     64\u001b[0m \u001b[1;33m\u001b[0m\u001b[0m\n\u001b[0;32m     65\u001b[0m             \u001b[1;31m# extra_args > 0\u001b[0m\u001b[1;33m\u001b[0m\u001b[1;33m\u001b[0m\u001b[1;33m\u001b[0m\u001b[0m\n",
      "\u001b[1;32mC:\\ProgramData\\Anaconda3\\envs\\py3_7_6\\lib\\site-packages\\sklearn\\utils\\validation.py\u001b[0m in \u001b[0;36mcheck_X_y\u001b[1;34m(X, y, accept_sparse, accept_large_sparse, dtype, order, copy, force_all_finite, ensure_2d, allow_nd, multi_output, ensure_min_samples, ensure_min_features, y_numeric, estimator)\u001b[0m\n\u001b[0;32m    819\u001b[0m                     \u001b[0mensure_min_samples\u001b[0m\u001b[1;33m=\u001b[0m\u001b[0mensure_min_samples\u001b[0m\u001b[1;33m,\u001b[0m\u001b[1;33m\u001b[0m\u001b[1;33m\u001b[0m\u001b[0m\n\u001b[0;32m    820\u001b[0m                     \u001b[0mensure_min_features\u001b[0m\u001b[1;33m=\u001b[0m\u001b[0mensure_min_features\u001b[0m\u001b[1;33m,\u001b[0m\u001b[1;33m\u001b[0m\u001b[1;33m\u001b[0m\u001b[0m\n\u001b[1;32m--> 821\u001b[1;33m                     estimator=estimator)\n\u001b[0m\u001b[0;32m    822\u001b[0m     \u001b[1;32mif\u001b[0m \u001b[0mmulti_output\u001b[0m\u001b[1;33m:\u001b[0m\u001b[1;33m\u001b[0m\u001b[1;33m\u001b[0m\u001b[0m\n\u001b[0;32m    823\u001b[0m         y = check_array(y, accept_sparse='csr', force_all_finite=True,\n",
      "\u001b[1;32mC:\\ProgramData\\Anaconda3\\envs\\py3_7_6\\lib\\site-packages\\sklearn\\utils\\validation.py\u001b[0m in \u001b[0;36minner_f\u001b[1;34m(*args, **kwargs)\u001b[0m\n\u001b[0;32m     61\u001b[0m             \u001b[0mextra_args\u001b[0m \u001b[1;33m=\u001b[0m \u001b[0mlen\u001b[0m\u001b[1;33m(\u001b[0m\u001b[0margs\u001b[0m\u001b[1;33m)\u001b[0m \u001b[1;33m-\u001b[0m \u001b[0mlen\u001b[0m\u001b[1;33m(\u001b[0m\u001b[0mall_args\u001b[0m\u001b[1;33m)\u001b[0m\u001b[1;33m\u001b[0m\u001b[1;33m\u001b[0m\u001b[0m\n\u001b[0;32m     62\u001b[0m             \u001b[1;32mif\u001b[0m \u001b[0mextra_args\u001b[0m \u001b[1;33m<=\u001b[0m \u001b[1;36m0\u001b[0m\u001b[1;33m:\u001b[0m\u001b[1;33m\u001b[0m\u001b[1;33m\u001b[0m\u001b[0m\n\u001b[1;32m---> 63\u001b[1;33m                 \u001b[1;32mreturn\u001b[0m \u001b[0mf\u001b[0m\u001b[1;33m(\u001b[0m\u001b[1;33m*\u001b[0m\u001b[0margs\u001b[0m\u001b[1;33m,\u001b[0m \u001b[1;33m**\u001b[0m\u001b[0mkwargs\u001b[0m\u001b[1;33m)\u001b[0m\u001b[1;33m\u001b[0m\u001b[1;33m\u001b[0m\u001b[0m\n\u001b[0m\u001b[0;32m     64\u001b[0m \u001b[1;33m\u001b[0m\u001b[0m\n\u001b[0;32m     65\u001b[0m             \u001b[1;31m# extra_args > 0\u001b[0m\u001b[1;33m\u001b[0m\u001b[1;33m\u001b[0m\u001b[1;33m\u001b[0m\u001b[0m\n",
      "\u001b[1;32mC:\\ProgramData\\Anaconda3\\envs\\py3_7_6\\lib\\site-packages\\sklearn\\utils\\validation.py\u001b[0m in \u001b[0;36mcheck_array\u001b[1;34m(array, accept_sparse, accept_large_sparse, dtype, order, copy, force_all_finite, ensure_2d, allow_nd, ensure_min_samples, ensure_min_features, estimator)\u001b[0m\n\u001b[0;32m    639\u001b[0m                     \u001b[1;34m\"Reshape your data either using array.reshape(-1, 1) if \"\u001b[0m\u001b[1;33m\u001b[0m\u001b[1;33m\u001b[0m\u001b[0m\n\u001b[0;32m    640\u001b[0m                     \u001b[1;34m\"your data has a single feature or array.reshape(1, -1) \"\u001b[0m\u001b[1;33m\u001b[0m\u001b[1;33m\u001b[0m\u001b[0m\n\u001b[1;32m--> 641\u001b[1;33m                     \"if it contains a single sample.\".format(array))\n\u001b[0m\u001b[0;32m    642\u001b[0m \u001b[1;33m\u001b[0m\u001b[0m\n\u001b[0;32m    643\u001b[0m         \u001b[1;31m# make sure we actually converted to numeric:\u001b[0m\u001b[1;33m\u001b[0m\u001b[1;33m\u001b[0m\u001b[1;33m\u001b[0m\u001b[0m\n",
      "\u001b[1;31mValueError\u001b[0m: Expected 2D array, got 1D array instead:\narray=[7.71320643 0.20751949 6.33648235 7.48803883 4.98507012 2.24796646\n 1.98062865 7.60530712 1.69110837 0.88339814 6.85359818 9.53393346\n 0.03948266 5.12192263 8.12620962 6.12526067 7.21755317 2.91876068\n 9.17774123 7.14575783 5.42544368 1.42170048 3.7334076  6.74133615\n 4.41833174 4.34013993 6.17766978 5.13138243 6.50397182 6.01038953\n 8.05223197 5.21647152 9.08648881 3.19236089 0.90459349 3.00700057\n 1.13984362 8.28681326 0.46896319 6.26287148 5.47586156 8.19286996\n 1.9894754  8.56850302 3.51652639 7.54647692 2.95961707 8.8393648\n 3.25511638 1.65015898 3.92529244 0.93460375 8.21105658 1.5115202\n 3.84114449 9.44260712 9.87625475 4.56304547 8.26122844 2.51374134\n 5.97371648 9.0283176  5.34557949 5.90201363 0.39281767 3.57181759\n 0.7961309  3.05459918 3.30719312 7.73830296 0.39959209 4.29492178\n 3.14926872 6.36491143 3.4634715  0.43097356 8.79915175 7.63240587\n 8.78096643 4.17509144 6.05577564 5.13466627 5.97836648 2.62215661\n 3.00871309 0.25399782 3.03062561 2.42075875 5.57578189 5.6550702\n 4.75132247 2.92797976 0.64251061 9.78819146 3.39707844 4.95048631\n 9.77080726 4.40773825 3.18272805 5.19796986].\nReshape your data either using array.reshape(-1, 1) if your data has a single feature or array.reshape(1, -1) if it contains a single sample."
     ]
    }
   ],
   "source": [
    "# 훈련 fit()\n",
    "\n",
    "# ! 에러 발생\n",
    "model.fit(x, y)"
   ]
  },
  {
   "cell_type": "markdown",
   "id": "8fe7635b",
   "metadata": {},
   "source": [
    "- x를 행렬로 바꾸어 주어야 한다.\n",
    "- x는 numpy의 ndarray타입이니 reshape()를 사용하면 될 것 같다."
   ]
  },
  {
   "cell_type": "code",
   "execution_count": 9,
   "id": "edb1bf1e",
   "metadata": {},
   "outputs": [
    {
     "data": {
      "text/plain": [
       "7.71320643266746"
      ]
     },
     "execution_count": 9,
     "metadata": {},
     "output_type": "execute_result"
    }
   ],
   "source": [
    "X = x.reshape(100,1)\n",
    "X[0][0]"
   ]
  },
  {
   "cell_type": "code",
   "execution_count": 10,
   "id": "677a61e8",
   "metadata": {},
   "outputs": [
    {
     "data": {
      "text/plain": [
       "LinearRegression()"
      ]
     },
     "execution_count": 10,
     "metadata": {},
     "output_type": "execute_result"
    }
   ],
   "source": [
    "# 훈련\n",
    "model.fit(X,y)"
   ]
  },
  {
   "cell_type": "code",
   "execution_count": 11,
   "id": "9d97ac4e",
   "metadata": {},
   "outputs": [],
   "source": [
    "# 예측\n",
    "# 새로운 데이터는 np.linspace()를 이용해서 생성\n",
    "# 예측은 predict()를 사용하며, 인자는 행렬\n",
    "x_new = np.linspace(-1, 11, 100)\n",
    "X_new = x_new.reshape(100,1)\n",
    "y_new = model.predict(X_new)"
   ]
  },
  {
   "cell_type": "markdown",
   "id": "cbbb856a",
   "metadata": {},
   "source": [
    "#### tip\n",
    "- reshape() 함수에서 나머지 숫자를 -1로 넣으면 자동으로 남은 숫자를 계산한다.\n",
    "- x_new 의 인자의 개수가 100개이므로, (100, 1) 의 형태이나 (2, 50) 의 형태 등으로 변환해 줄 수 있는데, (2, -1) 을 인자로 넣으면 (2, 50) 의 형태로 자동으로 변환해 준다."
   ]
  },
  {
   "cell_type": "code",
   "execution_count": 12,
   "id": "368cb007",
   "metadata": {},
   "outputs": [
    {
     "data": {
      "text/plain": [
       "(100, 1)"
      ]
     },
     "execution_count": 12,
     "metadata": {},
     "output_type": "execute_result"
    }
   ],
   "source": [
    "X_ = x_new.reshape(-1,1)\n",
    "X_.shape"
   ]
  },
  {
   "cell_type": "markdown",
   "id": "79fcfa5c",
   "metadata": {},
   "source": [
    "모델의 성능 평가 \n",
    "- [Scikit-learn: Mean Squared Error](https://scikit-learn.org/stable/modules/model_evaluation.html#mean-squared-error)\n",
    "- 모듈: sklearn.metrics\n",
    "- 만약 회귀 모델일 경우: RMSE(Root Mean Square Error)"
   ]
  },
  {
   "cell_type": "code",
   "execution_count": 13,
   "id": "d4081000",
   "metadata": {},
   "outputs": [
    {
     "data": {
      "text/plain": [
       "[<matplotlib.lines.Line2D at 0x28b82e0a408>]"
      ]
     },
     "execution_count": 13,
     "metadata": {},
     "output_type": "execute_result"
    },
    {
     "data": {
      "image/png": "[encoded data removed]",
      "text/plain": [
       "<Figure size 432x288 with 1 Axes>"
      ]
     },
     "metadata": {
      "needs_background": "light"
     },
     "output_type": "display_data"
    }
   ],
   "source": [
    "# 모델의 성능 평가 \n",
    "\n",
    "from sklearn.metrics import mean_squared_error\n",
    "\n",
    "error = np.sqrt(mean_squared_error(y,y_new))\n",
    "\n",
    "plt.scatter(x, y, label='input data')\n",
    "plt.plot(X_new, y_new, color='red', label='regression line')"
   ]
  },
  {
   "cell_type": "markdown",
   "id": "9b19950d",
   "metadata": {},
   "source": [
    "## (3) datasets 모듈\n",
    "- [Scikit-learn: Dataset loading utilities](https://scikit-learn.org/stable/datasets)\n",
    "- 크게 dataset loaders와 dataset fetchers로 나뉘며, Toy dataset 과 Real World dataset 을 제공"
   ]
  },
  {
   "cell_type": "markdown",
   "id": "23df8c56",
   "metadata": {},
   "source": [
    "Toy dataset 의 예시:\n",
    "- datasets.load_boston() : 회귀 문제, 미국 보스턴 집값 예측\n",
    "- datasets.load_breast_cancer() : 분류 문제, 유방암 판별\n",
    "- datasets.load_digits() : 분류 문제, 0 ~ 9 숫자 분류\n",
    "- datasets.load_iris() : 분류 문제, iris 품종 분류\n",
    "- datasets.load_wine() : 분류 문제, 와인 분류"
   ]
  },
  {
   "cell_type": "markdown",
   "id": "9670a176",
   "metadata": {},
   "source": [
    "### datasets.load_wine() 뜯어보기"
   ]
  },
  {
   "cell_type": "code",
   "execution_count": 14,
   "id": "31f2e45e",
   "metadata": {},
   "outputs": [
    {
     "data": {
      "text/plain": [
       "sklearn.utils.Bunch"
      ]
     },
     "execution_count": 14,
     "metadata": {},
     "output_type": "execute_result"
    }
   ],
   "source": [
    "from sklearn.datasets import load_wine\n",
    "data = load_wine()\n",
    "type(data)"
   ]
  },
  {
   "cell_type": "markdown",
   "id": "9824b6e7",
   "metadata": {},
   "source": [
    "- [Scikit-learn: sklearn.utils.Bunch](https://scikit-learn.org/stable/modules/generated/sklearn.utils.Bunch.html?highlight=bunch#sklearn.utils.Bunch)"
   ]
  },
  {
   "cell_type": "code",
   "execution_count": 15,
   "id": "5e6fefa2",
   "metadata": {},
   "outputs": [
    {
     "name": "stdout",
     "output_type": "stream",
     "text": [
      "{'data': array([[1.423e+01, 1.710e+00, 2.430e+00, ..., 1.040e+00, 3.920e+00,\n",
      "        1.065e+03],\n",
      "       [1.320e+01, 1.780e+00, 2.140e+00, ..., 1.050e+00, 3.400e+00,\n",
      "        1.050e+03],\n",
      "       [1.316e+01, 2.360e+00, 2.670e+00, ..., 1.030e+00, 3.170e+00,\n",
      "        1.185e+03],\n",
      "       ...,\n",
      "       [1.327e+01, 4.280e+00, 2.260e+00, ..., 5.900e-01, 1.560e+00,\n",
      "        8.350e+02],\n",
      "       [1.317e+01, 2.590e+00, 2.370e+00, ..., 6.000e-01, 1.620e+00,\n",
      "        8.400e+02],\n",
      "       [1.413e+01, 4.100e+00, 2.740e+00, ..., 6.100e-01, 1.600e+00,\n",
      "        5.600e+02]]), 'target': array([0, 0, 0, 0, 0, 0, 0, 0, 0, 0, 0, 0, 0, 0, 0, 0, 0, 0, 0, 0, 0, 0,\n",
      "       0, 0, 0, 0, 0, 0, 0, 0, 0, 0, 0, 0, 0, 0, 0, 0, 0, 0, 0, 0, 0, 0,\n",
      "       0, 0, 0, 0, 0, 0, 0, 0, 0, 0, 0, 0, 0, 0, 0, 1, 1, 1, 1, 1, 1, 1,\n",
      "       1, 1, 1, 1, 1, 1, 1, 1, 1, 1, 1, 1, 1, 1, 1, 1, 1, 1, 1, 1, 1, 1,\n",
      "       1, 1, 1, 1, 1, 1, 1, 1, 1, 1, 1, 1, 1, 1, 1, 1, 1, 1, 1, 1, 1, 1,\n",
      "       1, 1, 1, 1, 1, 1, 1, 1, 1, 1, 1, 1, 1, 1, 1, 1, 1, 1, 1, 1, 2, 2,\n",
      "       2, 2, 2, 2, 2, 2, 2, 2, 2, 2, 2, 2, 2, 2, 2, 2, 2, 2, 2, 2, 2, 2,\n",
      "       2, 2, 2, 2, 2, 2, 2, 2, 2, 2, 2, 2, 2, 2, 2, 2, 2, 2, 2, 2, 2, 2,\n",
      "       2, 2]), 'frame': None, 'target_names': array(['class_0', 'class_1', 'class_2'], dtype='<U7'), 'DESCR': '.. _wine_dataset:\\n\\nWine recognition dataset\\n------------------------\\n\\n**Data Set Characteristics:**\\n\\n    :Number of Instances: 178 (50 in each of three classes)\\n    :Number of Attributes: 13 numeric, predictive attributes and the class\\n    :Attribute Information:\\n \\t\\t- Alcohol\\n \\t\\t- Malic acid\\n \\t\\t- Ash\\n\\t\\t- Alcalinity of ash  \\n \\t\\t- Magnesium\\n\\t\\t- Total phenols\\n \\t\\t- Flavanoids\\n \\t\\t- Nonflavanoid phenols\\n \\t\\t- Proanthocyanins\\n\\t\\t- Color intensity\\n \\t\\t- Hue\\n \\t\\t- OD280/OD315 of diluted wines\\n \\t\\t- Proline\\n\\n    - class:\\n            - class_0\\n            - class_1\\n            - class_2\\n\\t\\t\\n    :Summary Statistics:\\n    \\n    ============================= ==== ===== ======= =====\\n                                   Min   Max   Mean     SD\\n    ============================= ==== ===== ======= =====\\n    Alcohol:                      11.0  14.8    13.0   0.8\\n    Malic Acid:                   0.74  5.80    2.34  1.12\\n    Ash:                          1.36  3.23    2.36  0.27\\n    Alcalinity of Ash:            10.6  30.0    19.5   3.3\\n    Magnesium:                    70.0 162.0    99.7  14.3\\n    Total Phenols:                0.98  3.88    2.29  0.63\\n    Flavanoids:                   0.34  5.08    2.03  1.00\\n    Nonflavanoid Phenols:         0.13  0.66    0.36  0.12\\n    Proanthocyanins:              0.41  3.58    1.59  0.57\\n    Colour Intensity:              1.3  13.0     5.1   2.3\\n    Hue:                          0.48  1.71    0.96  0.23\\n    OD280/OD315 of diluted wines: 1.27  4.00    2.61  0.71\\n    Proline:                       278  1680     746   315\\n    ============================= ==== ===== ======= =====\\n\\n    :Missing Attribute Values: None\\n    :Class Distribution: class_0 (59), class_1 (71), class_2 (48)\\n    :Creator: R.A. Fisher\\n    :Donor: Michael Marshall (MARSHALL%PLU@io.arc.nasa.gov)\\n    :Date: July, 1988\\n\\nThis is a copy of UCI ML Wine recognition datasets.\\nhttps://archive.ics.uci.edu/ml/machine-learning-databases/wine/wine.data\\n\\nThe data is the results of a chemical analysis of wines grown in the same\\nregion in Italy by three different cultivators. There are thirteen different\\nmeasurements taken for different constituents found in the three types of\\nwine.\\n\\nOriginal Owners: \\n\\nForina, M. et al, PARVUS - \\nAn Extendible Package for Data Exploration, Classification and Correlation. \\nInstitute of Pharmaceutical and Food Analysis and Technologies,\\nVia Brigata Salerno, 16147 Genoa, Italy.\\n\\nCitation:\\n\\nLichman, M. (2013). UCI Machine Learning Repository\\n[https://archive.ics.uci.edu/ml]. Irvine, CA: University of California,\\nSchool of Information and Computer Science. \\n\\n.. topic:: References\\n\\n  (1) S. Aeberhard, D. Coomans and O. de Vel, \\n  Comparison of Classifiers in High Dimensional Settings, \\n  Tech. Rep. no. 92-02, (1992), Dept. of Computer Science and Dept. of  \\n  Mathematics and Statistics, James Cook University of North Queensland. \\n  (Also submitted to Technometrics). \\n\\n  The data was used with many others for comparing various \\n  classifiers. The classes are separable, though only RDA \\n  has achieved 100% correct classification. \\n  (RDA : 100%, QDA 99.4%, LDA 98.9%, 1NN 96.1% (z-transformed data)) \\n  (All results using the leave-one-out technique) \\n\\n  (2) S. Aeberhard, D. Coomans and O. de Vel, \\n  \"THE CLASSIFICATION PERFORMANCE OF RDA\" \\n  Tech. Rep. no. 92-01, (1992), Dept. of Computer Science and Dept. of \\n  Mathematics and Statistics, James Cook University of North Queensland. \\n  (Also submitted to Journal of Chemometrics).\\n', 'feature_names': ['alcohol', 'malic_acid', 'ash', 'alcalinity_of_ash', 'magnesium', 'total_phenols', 'flavanoids', 'nonflavanoid_phenols', 'proanthocyanins', 'color_intensity', 'hue', 'od280/od315_of_diluted_wines', 'proline']}\n"
     ]
    }
   ],
   "source": [
    "print(data) # key와 value가 {}에 담겨있고, 콜론:으로 구별되어 있다."
   ]
  },
  {
   "cell_type": "code",
   "execution_count": 16,
   "id": "c331c479",
   "metadata": {},
   "outputs": [
    {
     "data": {
      "text/plain": [
       "dict_keys(['data', 'target', 'frame', 'target_names', 'DESCR', 'feature_names'])"
      ]
     },
     "execution_count": 16,
     "metadata": {},
     "output_type": "execute_result"
    }
   ],
   "source": [
    "data.keys()"
   ]
  },
  {
   "cell_type": "markdown",
   "id": "9019696a",
   "metadata": {},
   "source": [
    "#### 1. data\n",
    "- keys()에서 나온 data는 특성 행렬이다.키에 접근하기 위해 .을 사용한다."
   ]
  },
  {
   "cell_type": "code",
   "execution_count": 17,
   "id": "bc31f6a2",
   "metadata": {},
   "outputs": [
    {
     "data": {
      "text/plain": [
       "array([[1.423e+01, 1.710e+00, 2.430e+00, ..., 1.040e+00, 3.920e+00,\n",
       "        1.065e+03],\n",
       "       [1.320e+01, 1.780e+00, 2.140e+00, ..., 1.050e+00, 3.400e+00,\n",
       "        1.050e+03],\n",
       "       [1.316e+01, 2.360e+00, 2.670e+00, ..., 1.030e+00, 3.170e+00,\n",
       "        1.185e+03],\n",
       "       ...,\n",
       "       [1.327e+01, 4.280e+00, 2.260e+00, ..., 5.900e-01, 1.560e+00,\n",
       "        8.350e+02],\n",
       "       [1.317e+01, 2.590e+00, 2.370e+00, ..., 6.000e-01, 1.620e+00,\n",
       "        8.400e+02],\n",
       "       [1.413e+01, 4.100e+00, 2.740e+00, ..., 6.100e-01, 1.600e+00,\n",
       "        5.600e+02]])"
      ]
     },
     "execution_count": 17,
     "metadata": {},
     "output_type": "execute_result"
    }
   ],
   "source": [
    "data.data"
   ]
  },
  {
   "cell_type": "markdown",
   "id": "2f7151bc",
   "metadata": {},
   "source": [
    "- 특성 행렬은 2차원\n",
    "- 행에는 데이터의 개수(n_samples)가 열에는 특성의 개수(n_features)가 들어 있다."
   ]
  },
  {
   "cell_type": "code",
   "execution_count": 18,
   "id": "3c93147a",
   "metadata": {},
   "outputs": [
    {
     "data": {
      "text/plain": [
       "(178, 13)"
      ]
     },
     "execution_count": 18,
     "metadata": {},
     "output_type": "execute_result"
    }
   ],
   "source": [
    "data.data.shape\n",
    "# 특성 13개, 데이터가 178개"
   ]
  },
  {
   "cell_type": "code",
   "execution_count": 19,
   "id": "745eba1e",
   "metadata": {},
   "outputs": [
    {
     "data": {
      "text/plain": [
       "2"
      ]
     },
     "execution_count": 19,
     "metadata": {},
     "output_type": "execute_result"
    }
   ],
   "source": [
    "data.data.ndim\n",
    "# 차원 확인"
   ]
  },
  {
   "cell_type": "markdown",
   "id": "458bcd90",
   "metadata": {},
   "source": [
    "#### 2. target"
   ]
  },
  {
   "cell_type": "code",
   "execution_count": 20,
   "id": "0f2142a2",
   "metadata": {},
   "outputs": [
    {
     "data": {
      "text/plain": [
       "array([0, 0, 0, 0, 0, 0, 0, 0, 0, 0, 0, 0, 0, 0, 0, 0, 0, 0, 0, 0, 0, 0,\n",
       "       0, 0, 0, 0, 0, 0, 0, 0, 0, 0, 0, 0, 0, 0, 0, 0, 0, 0, 0, 0, 0, 0,\n",
       "       0, 0, 0, 0, 0, 0, 0, 0, 0, 0, 0, 0, 0, 0, 0, 1, 1, 1, 1, 1, 1, 1,\n",
       "       1, 1, 1, 1, 1, 1, 1, 1, 1, 1, 1, 1, 1, 1, 1, 1, 1, 1, 1, 1, 1, 1,\n",
       "       1, 1, 1, 1, 1, 1, 1, 1, 1, 1, 1, 1, 1, 1, 1, 1, 1, 1, 1, 1, 1, 1,\n",
       "       1, 1, 1, 1, 1, 1, 1, 1, 1, 1, 1, 1, 1, 1, 1, 1, 1, 1, 1, 1, 2, 2,\n",
       "       2, 2, 2, 2, 2, 2, 2, 2, 2, 2, 2, 2, 2, 2, 2, 2, 2, 2, 2, 2, 2, 2,\n",
       "       2, 2, 2, 2, 2, 2, 2, 2, 2, 2, 2, 2, 2, 2, 2, 2, 2, 2, 2, 2, 2, 2,\n",
       "       2, 2])"
      ]
     },
     "execution_count": 20,
     "metadata": {},
     "output_type": "execute_result"
    }
   ],
   "source": [
    "data.target"
   ]
  },
  {
   "cell_type": "markdown",
   "id": "4089f66a",
   "metadata": {},
   "source": [
    "- target 벡터는 1차원이다. \n",
    "- 타겟 벡터의 길이는 특성 행렬의 데이터 개수와 일치해야 한다."
   ]
  },
  {
   "cell_type": "code",
   "execution_count": 21,
   "id": "8ff5fd47",
   "metadata": {},
   "outputs": [
    {
     "data": {
      "text/plain": [
       "(178,)"
      ]
     },
     "execution_count": 21,
     "metadata": {},
     "output_type": "execute_result"
    }
   ],
   "source": [
    "data.target.shape"
   ]
  },
  {
   "cell_type": "markdown",
   "id": "0f8bf972",
   "metadata": {},
   "source": [
    "#### 3. feature_names\n",
    "- 특성들의 이름이 이곳에 저장되어 있다."
   ]
  },
  {
   "cell_type": "code",
   "execution_count": 22,
   "id": "eba6c3cb",
   "metadata": {},
   "outputs": [
    {
     "data": {
      "text/plain": [
       "['alcohol',\n",
       " 'malic_acid',\n",
       " 'ash',\n",
       " 'alcalinity_of_ash',\n",
       " 'magnesium',\n",
       " 'total_phenols',\n",
       " 'flavanoids',\n",
       " 'nonflavanoid_phenols',\n",
       " 'proanthocyanins',\n",
       " 'color_intensity',\n",
       " 'hue',\n",
       " 'od280/od315_of_diluted_wines',\n",
       " 'proline']"
      ]
     },
     "execution_count": 22,
     "metadata": {},
     "output_type": "execute_result"
    }
   ],
   "source": [
    "data.feature_names"
   ]
  },
  {
   "cell_type": "code",
   "execution_count": 23,
   "id": "ec27e157",
   "metadata": {},
   "outputs": [
    {
     "data": {
      "text/plain": [
       "13"
      ]
     },
     "execution_count": 23,
     "metadata": {},
     "output_type": "execute_result"
    }
   ],
   "source": [
    "len(data.feature_names) # 특성의 갯수, 특성 행렬의 n_features(열) 숫자와 일치"
   ]
  },
  {
   "cell_type": "markdown",
   "id": "24776120",
   "metadata": {},
   "source": [
    "#### 4.  target_names\n",
    "- 분류하고자 하는 대상"
   ]
  },
  {
   "cell_type": "code",
   "execution_count": 24,
   "id": "ad5dbe2d",
   "metadata": {},
   "outputs": [
    {
     "data": {
      "text/plain": [
       "array(['class_0', 'class_1', 'class_2'], dtype='<U7')"
      ]
     },
     "execution_count": 24,
     "metadata": {},
     "output_type": "execute_result"
    }
   ],
   "source": [
    "data.target_names"
   ]
  },
  {
   "cell_type": "markdown",
   "id": "c219083a",
   "metadata": {},
   "source": [
    "- 데이터를 각각 class_0 과 class_1 , class_2 로 분류한다는 뜻\n",
    "- 와인의 종류가 상세하게 무엇을 의미하는지는 모르지만, 각각 0번 와인, 1번 와인, 2번 와인으로 분류"
   ]
  },
  {
   "cell_type": "markdown",
   "id": "1af90af9",
   "metadata": {},
   "source": [
    "#### 5. . DESCR\n",
    "- describe의 약자로 데이터에 대한 설명"
   ]
  },
  {
   "cell_type": "code",
   "execution_count": 25,
   "id": "df540bb7",
   "metadata": {
    "scrolled": true
   },
   "outputs": [
    {
     "data": {
      "text/plain": [
       "'.. _wine_dataset:\\n\\nWine recognition dataset\\n------------------------\\n\\n**Data Set Characteristics:**\\n\\n    :Number of Instances: 178 (50 in each of three classes)\\n    :Number of Attributes: 13 numeric, predictive attributes and the class\\n    :Attribute Information:\\n \\t\\t- Alcohol\\n \\t\\t- Malic acid\\n \\t\\t- Ash\\n\\t\\t- Alcalinity of ash  \\n \\t\\t- Magnesium\\n\\t\\t- Total phenols\\n \\t\\t- Flavanoids\\n \\t\\t- Nonflavanoid phenols\\n \\t\\t- Proanthocyanins\\n\\t\\t- Color intensity\\n \\t\\t- Hue\\n \\t\\t- OD280/OD315 of diluted wines\\n \\t\\t- Proline\\n\\n    - class:\\n            - class_0\\n            - class_1\\n            - class_2\\n\\t\\t\\n    :Summary Statistics:\\n    \\n    ============================= ==== ===== ======= =====\\n                                   Min   Max   Mean     SD\\n    ============================= ==== ===== ======= =====\\n    Alcohol:                      11.0  14.8    13.0   0.8\\n    Malic Acid:                   0.74  5.80    2.34  1.12\\n    Ash:                          1.36  3.23    2.36  0.27\\n    Alcalinity of Ash:            10.6  30.0    19.5   3.3\\n    Magnesium:                    70.0 162.0    99.7  14.3\\n    Total Phenols:                0.98  3.88    2.29  0.63\\n    Flavanoids:                   0.34  5.08    2.03  1.00\\n    Nonflavanoid Phenols:         0.13  0.66    0.36  0.12\\n    Proanthocyanins:              0.41  3.58    1.59  0.57\\n    Colour Intensity:              1.3  13.0     5.1   2.3\\n    Hue:                          0.48  1.71    0.96  0.23\\n    OD280/OD315 of diluted wines: 1.27  4.00    2.61  0.71\\n    Proline:                       278  1680     746   315\\n    ============================= ==== ===== ======= =====\\n\\n    :Missing Attribute Values: None\\n    :Class Distribution: class_0 (59), class_1 (71), class_2 (48)\\n    :Creator: R.A. Fisher\\n    :Donor: Michael Marshall (MARSHALL%PLU@io.arc.nasa.gov)\\n    :Date: July, 1988\\n\\nThis is a copy of UCI ML Wine recognition datasets.\\nhttps://archive.ics.uci.edu/ml/machine-learning-databases/wine/wine.data\\n\\nThe data is the results of a chemical analysis of wines grown in the same\\nregion in Italy by three different cultivators. There are thirteen different\\nmeasurements taken for different constituents found in the three types of\\nwine.\\n\\nOriginal Owners: \\n\\nForina, M. et al, PARVUS - \\nAn Extendible Package for Data Exploration, Classification and Correlation. \\nInstitute of Pharmaceutical and Food Analysis and Technologies,\\nVia Brigata Salerno, 16147 Genoa, Italy.\\n\\nCitation:\\n\\nLichman, M. (2013). UCI Machine Learning Repository\\n[https://archive.ics.uci.edu/ml]. Irvine, CA: University of California,\\nSchool of Information and Computer Science. \\n\\n.. topic:: References\\n\\n  (1) S. Aeberhard, D. Coomans and O. de Vel, \\n  Comparison of Classifiers in High Dimensional Settings, \\n  Tech. Rep. no. 92-02, (1992), Dept. of Computer Science and Dept. of  \\n  Mathematics and Statistics, James Cook University of North Queensland. \\n  (Also submitted to Technometrics). \\n\\n  The data was used with many others for comparing various \\n  classifiers. The classes are separable, though only RDA \\n  has achieved 100% correct classification. \\n  (RDA : 100%, QDA 99.4%, LDA 98.9%, 1NN 96.1% (z-transformed data)) \\n  (All results using the leave-one-out technique) \\n\\n  (2) S. Aeberhard, D. Coomans and O. de Vel, \\n  \"THE CLASSIFICATION PERFORMANCE OF RDA\" \\n  Tech. Rep. no. 92-01, (1992), Dept. of Computer Science and Dept. of \\n  Mathematics and Statistics, James Cook University of North Queensland. \\n  (Also submitted to Journal of Chemometrics).\\n'"
      ]
     },
     "execution_count": 25,
     "metadata": {},
     "output_type": "execute_result"
    }
   ],
   "source": [
    "data.DESCR"
   ]
  },
  {
   "cell_type": "markdown",
   "id": "4f3ce2ed",
   "metadata": {},
   "source": [
    "- [sklearn.datasets.load_wine()\n",
    "](https://scikit-learn.org/stable/modules/generated/sklearn.datasets.load_wine.html?highlight=wine#sklearn.datasets.load_wine)"
   ]
  },
  {
   "cell_type": "markdown",
   "id": "00745693",
   "metadata": {},
   "source": [
    "## (4) 사이킷런 데이터셋을 이용한 분류 문제 실습\n",
    "\n",
    "### DataFrame으로 나타내기"
   ]
  },
  {
   "cell_type": "code",
   "execution_count": 28,
   "id": "f1ce041c",
   "metadata": {},
   "outputs": [
    {
     "data": {
      "text/plain": [
       "array([[1.423e+01, 1.710e+00, 2.430e+00, ..., 1.040e+00, 3.920e+00,\n",
       "        1.065e+03],\n",
       "       [1.320e+01, 1.780e+00, 2.140e+00, ..., 1.050e+00, 3.400e+00,\n",
       "        1.050e+03],\n",
       "       [1.316e+01, 2.360e+00, 2.670e+00, ..., 1.030e+00, 3.170e+00,\n",
       "        1.185e+03],\n",
       "       ...,\n",
       "       [1.327e+01, 4.280e+00, 2.260e+00, ..., 5.900e-01, 1.560e+00,\n",
       "        8.350e+02],\n",
       "       [1.317e+01, 2.590e+00, 2.370e+00, ..., 6.000e-01, 1.620e+00,\n",
       "        8.400e+02],\n",
       "       [1.413e+01, 4.100e+00, 2.740e+00, ..., 6.100e-01, 1.600e+00,\n",
       "        5.600e+02]])"
      ]
     },
     "execution_count": 28,
     "metadata": {},
     "output_type": "execute_result"
    }
   ],
   "source": [
    "import pandas as pd\n",
    "\n",
    "pd.DataFrame(data.data, columns=data.feature_names)\n",
    "data.data"
   ]
  },
  {
   "cell_type": "markdown",
   "id": "1d756299",
   "metadata": {},
   "source": [
    "### 머신러닝"
   ]
  },
  {
   "cell_type": "code",
   "execution_count": 29,
   "id": "5c835202",
   "metadata": {},
   "outputs": [],
   "source": [
    "X = data.data # 특정 행렬\n",
    "y = data.target # 타겟 벡터"
   ]
  },
  {
   "cell_type": "code",
   "execution_count": 30,
   "id": "95883c9f",
   "metadata": {},
   "outputs": [
    {
     "data": {
      "text/plain": [
       "RandomForestClassifier()"
      ]
     },
     "execution_count": 30,
     "metadata": {},
     "output_type": "execute_result"
    }
   ],
   "source": [
    "# 모델 생성\n",
    "# 분류 문제: RandomForestClassifier\n",
    "\n",
    "from sklearn.ensemble import RandomForestClassifier\n",
    "\n",
    "model = RandomForestClassifier()\n",
    "model"
   ]
  },
  {
   "cell_type": "code",
   "execution_count": 31,
   "id": "ac575a16",
   "metadata": {},
   "outputs": [
    {
     "data": {
      "text/plain": [
       "RandomForestClassifier()"
      ]
     },
     "execution_count": 31,
     "metadata": {},
     "output_type": "execute_result"
    }
   ],
   "source": [
    "# 모델 훈련\n",
    "\n",
    "model.fit(X,y)"
   ]
  },
  {
   "cell_type": "code",
   "execution_count": 32,
   "id": "bd9ead4e",
   "metadata": {},
   "outputs": [
    {
     "data": {
      "text/plain": [
       "array([0, 0, 0, 0, 0, 0, 0, 0, 0, 0, 0, 0, 0, 0, 0, 0, 0, 0, 0, 0, 0, 0,\n",
       "       0, 0, 0, 0, 0, 0, 0, 0, 0, 0, 0, 0, 0, 0, 0, 0, 0, 0, 0, 0, 0, 0,\n",
       "       0, 0, 0, 0, 0, 0, 0, 0, 0, 0, 0, 0, 0, 0, 0, 1, 1, 1, 1, 1, 1, 1,\n",
       "       1, 1, 1, 1, 1, 1, 1, 1, 1, 1, 1, 1, 1, 1, 1, 1, 1, 1, 1, 1, 1, 1,\n",
       "       1, 1, 1, 1, 1, 1, 1, 1, 1, 1, 1, 1, 1, 1, 1, 1, 1, 1, 1, 1, 1, 1,\n",
       "       1, 1, 1, 1, 1, 1, 1, 1, 1, 1, 1, 1, 1, 1, 1, 1, 1, 1, 1, 1, 2, 2,\n",
       "       2, 2, 2, 2, 2, 2, 2, 2, 2, 2, 2, 2, 2, 2, 2, 2, 2, 2, 2, 2, 2, 2,\n",
       "       2, 2, 2, 2, 2, 2, 2, 2, 2, 2, 2, 2, 2, 2, 2, 2, 2, 2, 2, 2, 2, 2,\n",
       "       2, 2])"
      ]
     },
     "execution_count": 32,
     "metadata": {},
     "output_type": "execute_result"
    }
   ],
   "source": [
    "# 예측\n",
    "\n",
    "y_pred = model.predict(X)\n",
    "y_pred"
   ]
  },
  {
   "cell_type": "code",
   "execution_count": 33,
   "id": "3d34116f",
   "metadata": {},
   "outputs": [
    {
     "name": "stdout",
     "output_type": "stream",
     "text": [
      "              precision    recall  f1-score   support\n",
      "\n",
      "           0       1.00      1.00      1.00        59\n",
      "           1       1.00      1.00      1.00        71\n",
      "           2       1.00      1.00      1.00        48\n",
      "\n",
      "    accuracy                           1.00       178\n",
      "   macro avg       1.00      1.00      1.00       178\n",
      "weighted avg       1.00      1.00      1.00       178\n",
      "\n",
      "\n",
      "accuracy =  1.0\n"
     ]
    }
   ],
   "source": [
    "# 성능 평가 sklearn.metrics\n",
    "\n",
    "from sklearn.metrics import accuracy_score\n",
    "from sklearn.metrics import classification_report\n",
    "\n",
    "#타겟 벡터 y와 예측값 y_pred\n",
    "print(classification_report(y, y_pred))\n",
    "\n",
    "# 한줄 띄우기\n",
    "print()\n",
    "\n",
    "#정확도를 출력합니다.\n",
    "print(\"accuracy = \", accuracy_score(y, y_pred))"
   ]
  },
  {
   "cell_type": "markdown",
   "id": "1756287b",
   "metadata": {},
   "source": [
    "- 정확도가 100%가 나왔다. 왜일까?"
   ]
  },
  {
   "cell_type": "markdown",
   "id": "3c3038ba",
   "metadata": {},
   "source": [
    "## (5) Estimator\n",
    "- 머신러닝 모델의 훈련은 fit() 메소드를 이용하고 예측은 predict() 메소드를 이용\n",
    "\n",
    "\n",
    "### Estimator 객체\n",
    "- Estimator : 데이터셋을 기반으로 머신러닝 모델의 파라미터를 추정하는 객체\n",
    "\n",
    "\n",
    "1) 분류문제:\n",
    "- model = RandomForestClassifier() --- Model(Estimator)\n",
    "- model.fit(X,y) --- Training Data(Feature Matrix)와 Traiming Label(Target Vector)로 fit\n",
    "- y_pred = model.predict(X) --- Test Data(Feature Matrix) --- Prediction\n",
    "\n",
    "\n",
    "2) 선형 회귀 문제:\n",
    "- model = LinearRegression() --- Model(Estimator)\n",
    "- model.fit(X,y) --- Training Data(Feature Matrix)와 Traiming Label(Target Vector)로 fit\n",
    "- y_pred = model.predict(X_new) --- Test Data(Feature Matrix) --- Prediction\n",
    "\n",
    "\n",
    "3) target vector가 없는 비지도 학습의 경우:\n",
    "- model = PCA() --- Model(Estimator)\n",
    "- model.fit(X) --- Training Data(Feature Matrix)로 fit\n",
    "- y_pred = model.predict(X_new) --- Test Data(Feature Matrix) --- Prediction"
   ]
  },
  {
   "cell_type": "markdown",
   "id": "f718a125",
   "metadata": {},
   "source": [
    "# # 9-10. 훈련 데이터와 테스트 데이터 분리하기\n",
    "- 위에서 했을 때, 훈련에 사용되는 데이터(특성 행렬)와 예측에 사용되는 데이터(특성 행렬)에 같은 값을 넣었다. 즉, 동일한 데이터로 훈련과 예측을 하니 정확도가 100%로 나왔다.\n",
    "\n",
    "\n",
    "### 훈련 데이터와 테스트 데이터 직접 분리하기\n",
    "- 훈련 데이터와 테스트 데이터의 비율은 8:2로 설정"
   ]
  },
  {
   "cell_type": "code",
   "execution_count": 34,
   "id": "b5ec78b7",
   "metadata": {},
   "outputs": [
    {
     "name": "stdout",
     "output_type": "stream",
     "text": [
      "(178, 13)\n",
      "\n",
      "(178,)\n"
     ]
    }
   ],
   "source": [
    "from sklearn.datasets import load_wine\n",
    "\n",
    "data = load_wine()\n",
    "\n",
    "print(data.data.shape)\n",
    "print()\n",
    "print(data.target.shape)"
   ]
  },
  {
   "cell_type": "markdown",
   "id": "a8e96d55",
   "metadata": {},
   "source": [
    "- 전체 데이터의 갯수: 178개\n",
    "- 8대 2로 특성 행렬과 타겟 벡터를 나누는데, 데이터의 개수이므로 정수 개만 가능\n",
    "- 즉, 훈련 데이터는 정수로 표현하면 142개, 그리고 테스트 데이터는 나머지 36개로"
   ]
  },
  {
   "cell_type": "markdown",
   "id": "cc97d40b",
   "metadata": {},
   "source": [
    "- 특성 행렬과 타겟 벡터는 ndarray type이니 numpy의 슬라이싱을 사용"
   ]
  },
  {
   "cell_type": "code",
   "execution_count": 35,
   "id": "f5756556",
   "metadata": {},
   "outputs": [
    {
     "name": "stdout",
     "output_type": "stream",
     "text": [
      "(142, 13) (36, 13)\n"
     ]
    }
   ],
   "source": [
    "X_train = data.data[:142]\n",
    "X_test = data.data[142:]\n",
    "print(X_train.shape, X_test.shape)"
   ]
  },
  {
   "cell_type": "code",
   "execution_count": 36,
   "id": "90dc4708",
   "metadata": {},
   "outputs": [
    {
     "name": "stdout",
     "output_type": "stream",
     "text": [
      "(142,) (36,)\n"
     ]
    }
   ],
   "source": [
    "y_train = data.target[:142]\n",
    "y_test = data.target[142:]\n",
    "print(y_train.shape, y_test.shape)"
   ]
  },
  {
   "cell_type": "markdown",
   "id": "d2abd046",
   "metadata": {},
   "source": [
    "- 데이터 분리가 끝났으니, 다시 훈련과 예측하기"
   ]
  },
  {
   "cell_type": "code",
   "execution_count": 37,
   "id": "abb6c1f6",
   "metadata": {},
   "outputs": [
    {
     "data": {
      "text/plain": [
       "RandomForestClassifier()"
      ]
     },
     "execution_count": 37,
     "metadata": {},
     "output_type": "execute_result"
    }
   ],
   "source": [
    "# 훈련\n",
    "from sklearn.ensemble import RandomForestClassifier\n",
    "\n",
    "model = RandomForestClassifier()\n",
    "\n",
    "model.fit(X_train, y_train)"
   ]
  },
  {
   "cell_type": "code",
   "execution_count": 38,
   "id": "346101be",
   "metadata": {},
   "outputs": [],
   "source": [
    "# 예측\n",
    "y_pred = model.predict(X_test)"
   ]
  },
  {
   "cell_type": "code",
   "execution_count": 39,
   "id": "bef0ecfe",
   "metadata": {},
   "outputs": [
    {
     "name": "stdout",
     "output_type": "stream",
     "text": [
      "정답률= 0.9444444444444444\n"
     ]
    }
   ],
   "source": [
    "# 성능 평가\n",
    "\n",
    "from sklearn.metrics import accuracy_score\n",
    "\n",
    "print(\"정답률=\", accuracy_score(y_test, y_pred))"
   ]
  },
  {
   "cell_type": "markdown",
   "id": "7d1a1126",
   "metadata": {},
   "source": [
    "### train_test_split() 사용해서 분리하기\n",
    "- 훈련 데이터와 테스트 데이터 분리는 필수 기능이다. 훈련에 쓴 데이터를 예측에 사용하면 항상 정확도는 100%가 나오기 때문이다. \n",
    "- 사이킷런에서는 이 필수 기능을 model_selection 의 train_test_split() 함수로 제공한다."
   ]
  },
  {
   "cell_type": "code",
   "execution_count": 40,
   "id": "63330aac",
   "metadata": {},
   "outputs": [],
   "source": [
    "from sklearn.model_selection import train_test_split\n",
    "\n",
    "result = train_test_split(X, y, test_size=0.2, random_state=42)"
   ]
  },
  {
   "cell_type": "markdown",
   "id": "13f42c7f",
   "metadata": {},
   "source": [
    "- 사이킷런은 랜덤하게 데이터를 섞어주는 기능도 있다. random_state 인자에 seed 번호를 입력하면 된다.\n",
    "- train_test_split() 은 반환값으로 4개의 원소로 이루어진 list를 반환한다. (*리스트 원소의 데이터 타입은 array다.)\n"
   ]
  },
  {
   "cell_type": "code",
   "execution_count": 41,
   "id": "ceefea0b",
   "metadata": {},
   "outputs": [
    {
     "name": "stdout",
     "output_type": "stream",
     "text": [
      "<class 'list'>\n",
      "4\n"
     ]
    }
   ],
   "source": [
    "print(type(result))\n",
    "print(len(result))"
   ]
  },
  {
   "cell_type": "code",
   "execution_count": 43,
   "id": "feac3ca1",
   "metadata": {},
   "outputs": [
    {
     "data": {
      "text/plain": [
       "(142, 13)"
      ]
     },
     "execution_count": 43,
     "metadata": {},
     "output_type": "execute_result"
    }
   ],
   "source": [
    "result[0].shape # 훈련 데이터용 특성 행렬"
   ]
  },
  {
   "cell_type": "code",
   "execution_count": 44,
   "id": "4d6acfcd",
   "metadata": {},
   "outputs": [
    {
     "data": {
      "text/plain": [
       "(36, 13)"
      ]
     },
     "execution_count": 44,
     "metadata": {},
     "output_type": "execute_result"
    }
   ],
   "source": [
    "result[1].shape #  테스트 데이터용 특성 행렬"
   ]
  },
  {
   "cell_type": "code",
   "execution_count": 45,
   "id": "beefc659",
   "metadata": {},
   "outputs": [
    {
     "data": {
      "text/plain": [
       "(142,)"
      ]
     },
     "execution_count": 45,
     "metadata": {},
     "output_type": "execute_result"
    }
   ],
   "source": [
    "result[2].shape # 훈련 데이터용 타겟 벡터"
   ]
  },
  {
   "cell_type": "code",
   "execution_count": 46,
   "id": "67a11d10",
   "metadata": {},
   "outputs": [
    {
     "data": {
      "text/plain": [
       "(36,)"
      ]
     },
     "execution_count": 46,
     "metadata": {},
     "output_type": "execute_result"
    }
   ],
   "source": [
    "result[3].shape # 테스트 데이터용 타겟 벡터"
   ]
  },
  {
   "cell_type": "code",
   "execution_count": 47,
   "id": "179a7fbe",
   "metadata": {},
   "outputs": [],
   "source": [
    "X_train, X_test, y_train, y_test = train_test_split(\n",
    "    X, y, test_size=0.2, random_state=42)"
   ]
  },
  {
   "cell_type": "markdown",
   "id": "c2418f7e",
   "metadata": {},
   "source": [
    "- 실습"
   ]
  },
  {
   "cell_type": "code",
   "execution_count": 48,
   "id": "b82ddf98",
   "metadata": {},
   "outputs": [
    {
     "name": "stdout",
     "output_type": "stream",
     "text": [
      "정답률= 0.9722222222222222\n"
     ]
    }
   ],
   "source": [
    "# 과정\n",
    "# 1. 데이터셋 로드하기\n",
    "# 2. 훈련용 데이터셋 나누기\n",
    "# 3. 훈련하기\n",
    "# 4. 예측하기\n",
    "# 5. 정답률 출력하기\n",
    "\n",
    "\n",
    "# 1. 데이터셋 로드하기\n",
    "\n",
    "from sklearn.datasets import load_wine\n",
    "\n",
    "data = load_wine()\n",
    "\n",
    "\n",
    "# 2. 훈련용 데이터셋 나누기\n",
    "\n",
    "from sklearn.model_selection import train_test_split\n",
    "\n",
    "X_train, X_test, y_train, y_test = train_test_split(\n",
    "    data.data, data.target, test_size=0.2, random_state=11)\n",
    "\n",
    "\n",
    "# 3. 훈련하기\n",
    "from sklearn.ensemble import RandomForestClassifier\n",
    "\n",
    "model = RandomForestClassifier()\n",
    "model.fit(X_train, y_train)\n",
    "\n",
    "\n",
    "# 4. 예측하기\n",
    "from sklearn.metrics import accuracy_score\n",
    "\n",
    "y_pred = model.predict(X_test)\n",
    "\n",
    "\n",
    "# 5. 정답률 출력하기\n",
    "\n",
    "print(\"정답률=\", accuracy_score(y_test, y_pred))"
   ]
  },
  {
   "cell_type": "markdown",
   "id": "a45b63fa",
   "metadata": {},
   "source": [
    "# 9-11. 마무리\n",
    "- 사이킷런에서 핵심이 되는 데이터의 표현법과 Estimator 를 이용해 모델을 어떻게 훈련하고 예측하는지 알아보았다. \n",
    "- 훈련 데이터와 테스트 데이터를 분리하는 방법에 대해서도 학습했다. \n",
    "- 평가와 관련된 항목들은 metrics 모듈에 들어가 있다.\n",
    "- 여기서 언급하진 않았지만 sklearn.preprocessing 모듈 역시 중요한 API 중 하나다."
   ]
  },
  {
   "cell_type": "markdown",
   "id": "fda93ea2",
   "metadata": {},
   "source": [
    "|비고|모듈명|설명|\n",
    "|:---:|:---|:---|\n",
    "|데이터셋|sklearn.datasets|사이킷런에서 제공하는 데이터셋|\n",
    "|데이터타입|sklearn.utils.Bunch|데이터셋의 타입(자료형)|\n",
    "|데이터 전처리|sklearn.preprocessing|데이터 전처리(정규화, 인코딩, 스케일링 등|\n",
    "|데이터 분리|sklearn.model_selection.train_test_split|학습용 또는 테스트용 데이터셋 분리|\n",
    "|평가|sklearn.metrics|분류, 회귀, 클러스터링 알고리즘의 성능을 측정하는 함수 제공|\n",
    "|머신러닝 알고리즘(모델)|sklearn.ensemble|앙상블 관련 즉, 랜덤 포레스트, 에이다 부스트, 그래디언트 부스팅|\n",
    "|.|sklearn.linear_model|신형 즉, 릿지, 라쏘, SGD 등|\n",
    "|.|sklearn.naive_bayes|나이브 베이즈 관련|\n",
    "|.|sklearn.neighbors|최근접 이웃 모델 관련 즉, 릿지, 라쏘, SGD 등|\n",
    "|.|sklearn.svm|svm 관련|\n",
    "|.|sklearn.tree|트리 관련 즉, 의사결정트리 등|\n",
    "|.|sklearn.cluster|군집 관련|"
   ]
  },
  {
   "cell_type": "markdown",
   "id": "071d0de8",
   "metadata": {},
   "source": [
    "--- seYi"
   ]
  }
 ],
 "metadata": {
  "kernelspec": {
   "display_name": "python3_7_6",
   "language": "python",
   "name": "py3_7_6"
  },
  "language_info": {
   "codemirror_mode": {
    "name": "ipython",
    "version": 3
   },
   "file_extension": ".py",
   "mimetype": "text/x-python",
   "name": "python",
   "nbconvert_exporter": "python",
   "pygments_lexer": "ipython3",
   "version": "3.7.6"
  }
 },
 "nbformat": 4,
 "nbformat_minor": 5
}
