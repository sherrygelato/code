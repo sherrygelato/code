{
  "nbformat": 4,
  "nbformat_minor": 0,
  "metadata": {
    "kernelspec": {
      "display_name": "Python 3",
      "language": "python",
      "name": "python3"
    },
    "language_info": {
      "codemirror_mode": {
        "name": "ipython",
        "version": 3
      },
      "file_extension": ".py",
      "mimetype": "text/x-python",
      "name": "python",
      "nbconvert_exporter": "python",
      "pygments_lexer": "ipython3",
      "version": "3.8.5"
    },
    "colab": {
      "name": "[PANDAS TEST]_2021.05.15.sat_이승은_2. pandas활용_네이버환율정보테이블.ipynb의 사본",
      "provenance": []
    },
    "accelerator": "GPU"
  },
  "cells": [
    {
      "cell_type": "markdown",
      "metadata": {
        "id": "dYs8sQW8hGnt"
      },
      "source": [
        "## 판다스 테스트_Pandas 활용) 네이버 환율정보 데이터 분석\n",
        "\n",
        "- 총 6문제의 코딩 테스트가 있습니다 \n",
        "- 빈 칸을 채워 동일한 결과가 나오도록 코드를 짜세요. GOOD LUCK"
      ]
    },
    {
      "cell_type": "markdown",
      "metadata": {
        "id": "rQxL9cAghGnz"
      },
      "source": [
        "### 네이버 환율정보 사이트\n",
        "- https://search.naver.com/search.naver?where=nexearch&sm=top_hty&fbm=1&ie=utf8&query=%ED%99%98%EC%9C%A8%EC%A1%B0%ED%9A%8\n"
      ]
    },
    {
      "cell_type": "markdown",
      "metadata": {
        "id": "V3mfLslPhGnz"
      },
      "source": [
        "### pandas로 환율정보 테이블 읽어오기"
      ]
    },
    {
      "cell_type": "code",
      "metadata": {
        "id": "TOpArwLGhGn0"
      },
      "source": [
        "# 경고 무시\n",
        "import warnings\n",
        "warnings.filterwarnings(action='ignore')"
      ],
      "execution_count": 1,
      "outputs": []
    },
    {
      "cell_type": "code",
      "metadata": {
        "id": "ikKaD2NRhGn0"
      },
      "source": [
        "import pandas as pd"
      ],
      "execution_count": 2,
      "outputs": []
    },
    {
      "cell_type": "code",
      "metadata": {
        "id": "pwHP_YlJhGn0"
      },
      "source": [
        "# url 지정\n",
        "url ='https://search.naver.com/search.naver?where=nexearch&sm=top_hty&fbm=1&ie=utf8&query=%ED%99%98%EC%9C%A8%EC%A1%B0%ED%9A%8C'"
      ],
      "execution_count": 3,
      "outputs": []
    },
    {
      "cell_type": "code",
      "metadata": {
        "id": "nC5tTgxwhGn1"
      },
      "source": [
        "# pandas로 읽어오기\n",
        "tables = pd.read_html(url)"
      ],
      "execution_count": 4,
      "outputs": []
    },
    {
      "cell_type": "code",
      "metadata": {
        "colab": {
          "base_uri": "https://localhost:8080/"
        },
        "id": "_r7UYxzbhGn1",
        "outputId": "0bf0c15b-631a-4860-b86f-0745f0ab42eb"
      },
      "source": [
        "tables"
      ],
      "execution_count": 5,
      "outputs": [
        {
          "output_type": "execute_result",
          "data": {
            "text/plain": [
              "[          통화명    매매기준율        전일대비     등락률\n",
              " 0      미국 USD  1129.50  전일대비하락4.00  -0.35%\n",
              " 1  일본 JPY 100  1032.78  전일대비하락0.96  -0.09%\n",
              " 2    유럽연합 EUR  1368.28  전일대비상승0.09  +0.01%\n",
              " 3      중국 CNY   175.35  전일대비하락0.20  -0.11%\n",
              " 4      영국 GBP  1589.26  전일대비하락0.25  -0.02%\n",
              " 5      호주 AUD   874.23  전일대비상승1.55  +0.18%\n",
              " 6     캐나다 CAD   931.09  전일대비하락2.22  -0.24%\n",
              " 7    뉴질랜드 NZD   814.43  전일대비상승5.22  +0.65%]"
            ]
          },
          "metadata": {
            "tags": []
          },
          "execution_count": 5
        }
      ]
    },
    {
      "cell_type": "code",
      "metadata": {
        "scrolled": true,
        "colab": {
          "base_uri": "https://localhost:8080/"
        },
        "id": "qNYckTKGhGn2",
        "outputId": "ad47053a-8627-4f00-f929-c3fbfa5dd2af"
      },
      "source": [
        "# 읽어온 내용 확인하기\n",
        "len(tables)  "
      ],
      "execution_count": 6,
      "outputs": [
        {
          "output_type": "execute_result",
          "data": {
            "text/plain": [
              "1"
            ]
          },
          "metadata": {
            "tags": []
          },
          "execution_count": 6
        }
      ]
    },
    {
      "cell_type": "code",
      "metadata": {
        "colab": {
          "base_uri": "https://localhost:8080/",
          "height": 297
        },
        "id": "UuQsSpqHhGn2",
        "outputId": "6b93d363-d0b7-4c59-ee26-86bfd941673e"
      },
      "source": [
        "# 문제1) talbes 정보를 데이터프레임으로 변경하세요\n",
        "df = pd.DataFrame(tables[0])\n",
        "df"
      ],
      "execution_count": 12,
      "outputs": [
        {
          "output_type": "execute_result",
          "data": {
            "text/html": [
              "<div>\n",
              "<style scoped>\n",
              "    .dataframe tbody tr th:only-of-type {\n",
              "        vertical-align: middle;\n",
              "    }\n",
              "\n",
              "    .dataframe tbody tr th {\n",
              "        vertical-align: top;\n",
              "    }\n",
              "\n",
              "    .dataframe thead th {\n",
              "        text-align: right;\n",
              "    }\n",
              "</style>\n",
              "<table border=\"1\" class=\"dataframe\">\n",
              "  <thead>\n",
              "    <tr style=\"text-align: right;\">\n",
              "      <th></th>\n",
              "      <th>통화명</th>\n",
              "      <th>매매기준율</th>\n",
              "      <th>전일대비</th>\n",
              "      <th>등락률</th>\n",
              "    </tr>\n",
              "  </thead>\n",
              "  <tbody>\n",
              "    <tr>\n",
              "      <th>0</th>\n",
              "      <td>미국 USD</td>\n",
              "      <td>1129.50</td>\n",
              "      <td>전일대비하락4.00</td>\n",
              "      <td>-0.35%</td>\n",
              "    </tr>\n",
              "    <tr>\n",
              "      <th>1</th>\n",
              "      <td>일본 JPY 100</td>\n",
              "      <td>1032.78</td>\n",
              "      <td>전일대비하락0.96</td>\n",
              "      <td>-0.09%</td>\n",
              "    </tr>\n",
              "    <tr>\n",
              "      <th>2</th>\n",
              "      <td>유럽연합 EUR</td>\n",
              "      <td>1368.28</td>\n",
              "      <td>전일대비상승0.09</td>\n",
              "      <td>+0.01%</td>\n",
              "    </tr>\n",
              "    <tr>\n",
              "      <th>3</th>\n",
              "      <td>중국 CNY</td>\n",
              "      <td>175.35</td>\n",
              "      <td>전일대비하락0.20</td>\n",
              "      <td>-0.11%</td>\n",
              "    </tr>\n",
              "    <tr>\n",
              "      <th>4</th>\n",
              "      <td>영국 GBP</td>\n",
              "      <td>1589.26</td>\n",
              "      <td>전일대비하락0.25</td>\n",
              "      <td>-0.02%</td>\n",
              "    </tr>\n",
              "    <tr>\n",
              "      <th>5</th>\n",
              "      <td>호주 AUD</td>\n",
              "      <td>874.23</td>\n",
              "      <td>전일대비상승1.55</td>\n",
              "      <td>+0.18%</td>\n",
              "    </tr>\n",
              "    <tr>\n",
              "      <th>6</th>\n",
              "      <td>캐나다 CAD</td>\n",
              "      <td>931.09</td>\n",
              "      <td>전일대비하락2.22</td>\n",
              "      <td>-0.24%</td>\n",
              "    </tr>\n",
              "    <tr>\n",
              "      <th>7</th>\n",
              "      <td>뉴질랜드 NZD</td>\n",
              "      <td>814.43</td>\n",
              "      <td>전일대비상승5.22</td>\n",
              "      <td>+0.65%</td>\n",
              "    </tr>\n",
              "  </tbody>\n",
              "</table>\n",
              "</div>"
            ],
            "text/plain": [
              "          통화명    매매기준율        전일대비     등락률\n",
              "0      미국 USD  1129.50  전일대비하락4.00  -0.35%\n",
              "1  일본 JPY 100  1032.78  전일대비하락0.96  -0.09%\n",
              "2    유럽연합 EUR  1368.28  전일대비상승0.09  +0.01%\n",
              "3      중국 CNY   175.35  전일대비하락0.20  -0.11%\n",
              "4      영국 GBP  1589.26  전일대비하락0.25  -0.02%\n",
              "5      호주 AUD   874.23  전일대비상승1.55  +0.18%\n",
              "6     캐나다 CAD   931.09  전일대비하락2.22  -0.24%\n",
              "7    뉴질랜드 NZD   814.43  전일대비상승5.22  +0.65%"
            ]
          },
          "metadata": {
            "tags": []
          },
          "execution_count": 12
        }
      ]
    },
    {
      "cell_type": "markdown",
      "metadata": {
        "id": "etU_ZaRfhGn2"
      },
      "source": [
        "### 엑셀로 저장하기"
      ]
    },
    {
      "cell_type": "code",
      "metadata": {
        "colab": {
          "base_uri": "https://localhost:8080/",
          "height": 297
        },
        "id": "pmUooOrAhGn2",
        "outputId": "300b002c-8431-4241-c8de-3d2d81b55d44"
      },
      "source": [
        "# 엑셀로 저장하기\n",
        "df = tables[0]\n",
        "df"
      ],
      "execution_count": 13,
      "outputs": [
        {
          "output_type": "execute_result",
          "data": {
            "text/html": [
              "<div>\n",
              "<style scoped>\n",
              "    .dataframe tbody tr th:only-of-type {\n",
              "        vertical-align: middle;\n",
              "    }\n",
              "\n",
              "    .dataframe tbody tr th {\n",
              "        vertical-align: top;\n",
              "    }\n",
              "\n",
              "    .dataframe thead th {\n",
              "        text-align: right;\n",
              "    }\n",
              "</style>\n",
              "<table border=\"1\" class=\"dataframe\">\n",
              "  <thead>\n",
              "    <tr style=\"text-align: right;\">\n",
              "      <th></th>\n",
              "      <th>통화명</th>\n",
              "      <th>매매기준율</th>\n",
              "      <th>전일대비</th>\n",
              "      <th>등락률</th>\n",
              "    </tr>\n",
              "  </thead>\n",
              "  <tbody>\n",
              "    <tr>\n",
              "      <th>0</th>\n",
              "      <td>미국 USD</td>\n",
              "      <td>1129.50</td>\n",
              "      <td>전일대비하락4.00</td>\n",
              "      <td>-0.35%</td>\n",
              "    </tr>\n",
              "    <tr>\n",
              "      <th>1</th>\n",
              "      <td>일본 JPY 100</td>\n",
              "      <td>1032.78</td>\n",
              "      <td>전일대비하락0.96</td>\n",
              "      <td>-0.09%</td>\n",
              "    </tr>\n",
              "    <tr>\n",
              "      <th>2</th>\n",
              "      <td>유럽연합 EUR</td>\n",
              "      <td>1368.28</td>\n",
              "      <td>전일대비상승0.09</td>\n",
              "      <td>+0.01%</td>\n",
              "    </tr>\n",
              "    <tr>\n",
              "      <th>3</th>\n",
              "      <td>중국 CNY</td>\n",
              "      <td>175.35</td>\n",
              "      <td>전일대비하락0.20</td>\n",
              "      <td>-0.11%</td>\n",
              "    </tr>\n",
              "    <tr>\n",
              "      <th>4</th>\n",
              "      <td>영국 GBP</td>\n",
              "      <td>1589.26</td>\n",
              "      <td>전일대비하락0.25</td>\n",
              "      <td>-0.02%</td>\n",
              "    </tr>\n",
              "    <tr>\n",
              "      <th>5</th>\n",
              "      <td>호주 AUD</td>\n",
              "      <td>874.23</td>\n",
              "      <td>전일대비상승1.55</td>\n",
              "      <td>+0.18%</td>\n",
              "    </tr>\n",
              "    <tr>\n",
              "      <th>6</th>\n",
              "      <td>캐나다 CAD</td>\n",
              "      <td>931.09</td>\n",
              "      <td>전일대비하락2.22</td>\n",
              "      <td>-0.24%</td>\n",
              "    </tr>\n",
              "    <tr>\n",
              "      <th>7</th>\n",
              "      <td>뉴질랜드 NZD</td>\n",
              "      <td>814.43</td>\n",
              "      <td>전일대비상승5.22</td>\n",
              "      <td>+0.65%</td>\n",
              "    </tr>\n",
              "  </tbody>\n",
              "</table>\n",
              "</div>"
            ],
            "text/plain": [
              "          통화명    매매기준율        전일대비     등락률\n",
              "0      미국 USD  1129.50  전일대비하락4.00  -0.35%\n",
              "1  일본 JPY 100  1032.78  전일대비하락0.96  -0.09%\n",
              "2    유럽연합 EUR  1368.28  전일대비상승0.09  +0.01%\n",
              "3      중국 CNY   175.35  전일대비하락0.20  -0.11%\n",
              "4      영국 GBP  1589.26  전일대비하락0.25  -0.02%\n",
              "5      호주 AUD   874.23  전일대비상승1.55  +0.18%\n",
              "6     캐나다 CAD   931.09  전일대비하락2.22  -0.24%\n",
              "7    뉴질랜드 NZD   814.43  전일대비상승5.22  +0.65%"
            ]
          },
          "metadata": {
            "tags": []
          },
          "execution_count": 13
        }
      ]
    },
    {
      "cell_type": "code",
      "metadata": {
        "colab": {
          "base_uri": "https://localhost:8080/"
        },
        "id": "eiXLb8bMhGn3",
        "outputId": "ba644866-7981-4bb3-c402-daf00d3441cd"
      },
      "source": [
        "from datetime import datetime\n",
        "\n",
        "datetime.now() # 현재 날짜를 이용한 시트이름 지정 "
      ],
      "execution_count": 14,
      "outputs": [
        {
          "output_type": "execute_result",
          "data": {
            "text/plain": [
              "datetime.datetime(2021, 5, 15, 9, 20, 8, 505082)"
            ]
          },
          "metadata": {
            "tags": []
          },
          "execution_count": 14
        }
      ]
    },
    {
      "cell_type": "code",
      "metadata": {
        "id": "g6QgYGB0hGn3"
      },
      "source": [
        "from datetime import datetime\n",
        "\n",
        "curtime = datetime.now() \n",
        "# 현재 날짜를 이용한 시트이름 지정 (strftime : string type)\n",
        "df.to_excel(\"네이버환율정보_\"+ curtime.strftime(\"%Y-%m-%d\") + \".xlsx\", index=False)"
      ],
      "execution_count": 15,
      "outputs": []
    },
    {
      "cell_type": "markdown",
      "metadata": {
        "id": "31IJ4J4RhGn3"
      },
      "source": [
        "### 데이타 시각화"
      ]
    },
    {
      "cell_type": "markdown",
      "metadata": {
        "id": "RnPilE9PhGn3"
      },
      "source": [
        "#### 한글 폰트 지정"
      ]
    },
    {
      "cell_type": "code",
      "metadata": {
        "id": "8f90GnIDhGn3"
      },
      "source": [
        "# 한글 폰트 설정 \n",
        "import matplotlib\n",
        "import matplotlib.pyplot as plt \n",
        "import matplotlib.font_manager as fm\n",
        "from matplotlib import rc\n",
        "\n",
        "plt.rc('font', family='AppleGothic')"
      ],
      "execution_count": 16,
      "outputs": []
    },
    {
      "cell_type": "code",
      "metadata": {
        "colab": {
          "base_uri": "https://localhost:8080/",
          "height": 297
        },
        "id": "4zOVyLVrhGn4",
        "outputId": "cd9e7feb-037e-43f8-dfc0-513dc2d6c3cf"
      },
      "source": [
        "df"
      ],
      "execution_count": 17,
      "outputs": [
        {
          "output_type": "execute_result",
          "data": {
            "text/html": [
              "<div>\n",
              "<style scoped>\n",
              "    .dataframe tbody tr th:only-of-type {\n",
              "        vertical-align: middle;\n",
              "    }\n",
              "\n",
              "    .dataframe tbody tr th {\n",
              "        vertical-align: top;\n",
              "    }\n",
              "\n",
              "    .dataframe thead th {\n",
              "        text-align: right;\n",
              "    }\n",
              "</style>\n",
              "<table border=\"1\" class=\"dataframe\">\n",
              "  <thead>\n",
              "    <tr style=\"text-align: right;\">\n",
              "      <th></th>\n",
              "      <th>통화명</th>\n",
              "      <th>매매기준율</th>\n",
              "      <th>전일대비</th>\n",
              "      <th>등락률</th>\n",
              "    </tr>\n",
              "  </thead>\n",
              "  <tbody>\n",
              "    <tr>\n",
              "      <th>0</th>\n",
              "      <td>미국 USD</td>\n",
              "      <td>1129.50</td>\n",
              "      <td>전일대비하락4.00</td>\n",
              "      <td>-0.35%</td>\n",
              "    </tr>\n",
              "    <tr>\n",
              "      <th>1</th>\n",
              "      <td>일본 JPY 100</td>\n",
              "      <td>1032.78</td>\n",
              "      <td>전일대비하락0.96</td>\n",
              "      <td>-0.09%</td>\n",
              "    </tr>\n",
              "    <tr>\n",
              "      <th>2</th>\n",
              "      <td>유럽연합 EUR</td>\n",
              "      <td>1368.28</td>\n",
              "      <td>전일대비상승0.09</td>\n",
              "      <td>+0.01%</td>\n",
              "    </tr>\n",
              "    <tr>\n",
              "      <th>3</th>\n",
              "      <td>중국 CNY</td>\n",
              "      <td>175.35</td>\n",
              "      <td>전일대비하락0.20</td>\n",
              "      <td>-0.11%</td>\n",
              "    </tr>\n",
              "    <tr>\n",
              "      <th>4</th>\n",
              "      <td>영국 GBP</td>\n",
              "      <td>1589.26</td>\n",
              "      <td>전일대비하락0.25</td>\n",
              "      <td>-0.02%</td>\n",
              "    </tr>\n",
              "    <tr>\n",
              "      <th>5</th>\n",
              "      <td>호주 AUD</td>\n",
              "      <td>874.23</td>\n",
              "      <td>전일대비상승1.55</td>\n",
              "      <td>+0.18%</td>\n",
              "    </tr>\n",
              "    <tr>\n",
              "      <th>6</th>\n",
              "      <td>캐나다 CAD</td>\n",
              "      <td>931.09</td>\n",
              "      <td>전일대비하락2.22</td>\n",
              "      <td>-0.24%</td>\n",
              "    </tr>\n",
              "    <tr>\n",
              "      <th>7</th>\n",
              "      <td>뉴질랜드 NZD</td>\n",
              "      <td>814.43</td>\n",
              "      <td>전일대비상승5.22</td>\n",
              "      <td>+0.65%</td>\n",
              "    </tr>\n",
              "  </tbody>\n",
              "</table>\n",
              "</div>"
            ],
            "text/plain": [
              "          통화명    매매기준율        전일대비     등락률\n",
              "0      미국 USD  1129.50  전일대비하락4.00  -0.35%\n",
              "1  일본 JPY 100  1032.78  전일대비하락0.96  -0.09%\n",
              "2    유럽연합 EUR  1368.28  전일대비상승0.09  +0.01%\n",
              "3      중국 CNY   175.35  전일대비하락0.20  -0.11%\n",
              "4      영국 GBP  1589.26  전일대비하락0.25  -0.02%\n",
              "5      호주 AUD   874.23  전일대비상승1.55  +0.18%\n",
              "6     캐나다 CAD   931.09  전일대비하락2.22  -0.24%\n",
              "7    뉴질랜드 NZD   814.43  전일대비상승5.22  +0.65%"
            ]
          },
          "metadata": {
            "tags": []
          },
          "execution_count": 17
        }
      ]
    },
    {
      "cell_type": "code",
      "metadata": {
        "colab": {
          "base_uri": "https://localhost:8080/",
          "height": 328
        },
        "id": "kyZkKMjwhGn4",
        "outputId": "aa75dffb-3120-42bf-a421-0726afbe79e4"
      },
      "source": [
        "# 문제 2)'통화명'을 인덱스로 변경한 후, df2 변수에 넣으세요.\n",
        "df2 = df.set_index('통화명')\n",
        "df2"
      ],
      "execution_count": 18,
      "outputs": [
        {
          "output_type": "execute_result",
          "data": {
            "text/html": [
              "<div>\n",
              "<style scoped>\n",
              "    .dataframe tbody tr th:only-of-type {\n",
              "        vertical-align: middle;\n",
              "    }\n",
              "\n",
              "    .dataframe tbody tr th {\n",
              "        vertical-align: top;\n",
              "    }\n",
              "\n",
              "    .dataframe thead th {\n",
              "        text-align: right;\n",
              "    }\n",
              "</style>\n",
              "<table border=\"1\" class=\"dataframe\">\n",
              "  <thead>\n",
              "    <tr style=\"text-align: right;\">\n",
              "      <th></th>\n",
              "      <th>매매기준율</th>\n",
              "      <th>전일대비</th>\n",
              "      <th>등락률</th>\n",
              "    </tr>\n",
              "    <tr>\n",
              "      <th>통화명</th>\n",
              "      <th></th>\n",
              "      <th></th>\n",
              "      <th></th>\n",
              "    </tr>\n",
              "  </thead>\n",
              "  <tbody>\n",
              "    <tr>\n",
              "      <th>미국 USD</th>\n",
              "      <td>1129.50</td>\n",
              "      <td>전일대비하락4.00</td>\n",
              "      <td>-0.35%</td>\n",
              "    </tr>\n",
              "    <tr>\n",
              "      <th>일본 JPY 100</th>\n",
              "      <td>1032.78</td>\n",
              "      <td>전일대비하락0.96</td>\n",
              "      <td>-0.09%</td>\n",
              "    </tr>\n",
              "    <tr>\n",
              "      <th>유럽연합 EUR</th>\n",
              "      <td>1368.28</td>\n",
              "      <td>전일대비상승0.09</td>\n",
              "      <td>+0.01%</td>\n",
              "    </tr>\n",
              "    <tr>\n",
              "      <th>중국 CNY</th>\n",
              "      <td>175.35</td>\n",
              "      <td>전일대비하락0.20</td>\n",
              "      <td>-0.11%</td>\n",
              "    </tr>\n",
              "    <tr>\n",
              "      <th>영국 GBP</th>\n",
              "      <td>1589.26</td>\n",
              "      <td>전일대비하락0.25</td>\n",
              "      <td>-0.02%</td>\n",
              "    </tr>\n",
              "    <tr>\n",
              "      <th>호주 AUD</th>\n",
              "      <td>874.23</td>\n",
              "      <td>전일대비상승1.55</td>\n",
              "      <td>+0.18%</td>\n",
              "    </tr>\n",
              "    <tr>\n",
              "      <th>캐나다 CAD</th>\n",
              "      <td>931.09</td>\n",
              "      <td>전일대비하락2.22</td>\n",
              "      <td>-0.24%</td>\n",
              "    </tr>\n",
              "    <tr>\n",
              "      <th>뉴질랜드 NZD</th>\n",
              "      <td>814.43</td>\n",
              "      <td>전일대비상승5.22</td>\n",
              "      <td>+0.65%</td>\n",
              "    </tr>\n",
              "  </tbody>\n",
              "</table>\n",
              "</div>"
            ],
            "text/plain": [
              "              매매기준율        전일대비     등락률\n",
              "통화명                                    \n",
              "미국 USD      1129.50  전일대비하락4.00  -0.35%\n",
              "일본 JPY 100  1032.78  전일대비하락0.96  -0.09%\n",
              "유럽연합 EUR    1368.28  전일대비상승0.09  +0.01%\n",
              "중국 CNY       175.35  전일대비하락0.20  -0.11%\n",
              "영국 GBP      1589.26  전일대비하락0.25  -0.02%\n",
              "호주 AUD       874.23  전일대비상승1.55  +0.18%\n",
              "캐나다 CAD      931.09  전일대비하락2.22  -0.24%\n",
              "뉴질랜드 NZD     814.43  전일대비상승5.22  +0.65%"
            ]
          },
          "metadata": {
            "tags": []
          },
          "execution_count": 18
        }
      ]
    },
    {
      "cell_type": "code",
      "metadata": {
        "colab": {
          "base_uri": "https://localhost:8080/",
          "height": 328
        },
        "id": "zrEFlVvfhGn4",
        "outputId": "083c9a00-92e1-4b78-c6f1-13866c2c1dce"
      },
      "source": [
        "df2"
      ],
      "execution_count": 19,
      "outputs": [
        {
          "output_type": "execute_result",
          "data": {
            "text/html": [
              "<div>\n",
              "<style scoped>\n",
              "    .dataframe tbody tr th:only-of-type {\n",
              "        vertical-align: middle;\n",
              "    }\n",
              "\n",
              "    .dataframe tbody tr th {\n",
              "        vertical-align: top;\n",
              "    }\n",
              "\n",
              "    .dataframe thead th {\n",
              "        text-align: right;\n",
              "    }\n",
              "</style>\n",
              "<table border=\"1\" class=\"dataframe\">\n",
              "  <thead>\n",
              "    <tr style=\"text-align: right;\">\n",
              "      <th></th>\n",
              "      <th>매매기준율</th>\n",
              "      <th>전일대비</th>\n",
              "      <th>등락률</th>\n",
              "    </tr>\n",
              "    <tr>\n",
              "      <th>통화명</th>\n",
              "      <th></th>\n",
              "      <th></th>\n",
              "      <th></th>\n",
              "    </tr>\n",
              "  </thead>\n",
              "  <tbody>\n",
              "    <tr>\n",
              "      <th>미국 USD</th>\n",
              "      <td>1129.50</td>\n",
              "      <td>전일대비하락4.00</td>\n",
              "      <td>-0.35%</td>\n",
              "    </tr>\n",
              "    <tr>\n",
              "      <th>일본 JPY 100</th>\n",
              "      <td>1032.78</td>\n",
              "      <td>전일대비하락0.96</td>\n",
              "      <td>-0.09%</td>\n",
              "    </tr>\n",
              "    <tr>\n",
              "      <th>유럽연합 EUR</th>\n",
              "      <td>1368.28</td>\n",
              "      <td>전일대비상승0.09</td>\n",
              "      <td>+0.01%</td>\n",
              "    </tr>\n",
              "    <tr>\n",
              "      <th>중국 CNY</th>\n",
              "      <td>175.35</td>\n",
              "      <td>전일대비하락0.20</td>\n",
              "      <td>-0.11%</td>\n",
              "    </tr>\n",
              "    <tr>\n",
              "      <th>영국 GBP</th>\n",
              "      <td>1589.26</td>\n",
              "      <td>전일대비하락0.25</td>\n",
              "      <td>-0.02%</td>\n",
              "    </tr>\n",
              "    <tr>\n",
              "      <th>호주 AUD</th>\n",
              "      <td>874.23</td>\n",
              "      <td>전일대비상승1.55</td>\n",
              "      <td>+0.18%</td>\n",
              "    </tr>\n",
              "    <tr>\n",
              "      <th>캐나다 CAD</th>\n",
              "      <td>931.09</td>\n",
              "      <td>전일대비하락2.22</td>\n",
              "      <td>-0.24%</td>\n",
              "    </tr>\n",
              "    <tr>\n",
              "      <th>뉴질랜드 NZD</th>\n",
              "      <td>814.43</td>\n",
              "      <td>전일대비상승5.22</td>\n",
              "      <td>+0.65%</td>\n",
              "    </tr>\n",
              "  </tbody>\n",
              "</table>\n",
              "</div>"
            ],
            "text/plain": [
              "              매매기준율        전일대비     등락률\n",
              "통화명                                    \n",
              "미국 USD      1129.50  전일대비하락4.00  -0.35%\n",
              "일본 JPY 100  1032.78  전일대비하락0.96  -0.09%\n",
              "유럽연합 EUR    1368.28  전일대비상승0.09  +0.01%\n",
              "중국 CNY       175.35  전일대비하락0.20  -0.11%\n",
              "영국 GBP      1589.26  전일대비하락0.25  -0.02%\n",
              "호주 AUD       874.23  전일대비상승1.55  +0.18%\n",
              "캐나다 CAD      931.09  전일대비하락2.22  -0.24%\n",
              "뉴질랜드 NZD     814.43  전일대비상승5.22  +0.65%"
            ]
          },
          "metadata": {
            "tags": []
          },
          "execution_count": 19
        }
      ]
    },
    {
      "cell_type": "code",
      "metadata": {
        "colab": {
          "base_uri": "https://localhost:8080/",
          "height": 512
        },
        "id": "33nRYp2YhGn4",
        "outputId": "9a48efdd-c27e-46c4-99c6-76cd8c8d01b5"
      },
      "source": [
        "# 문제 3) title에 \"네이버환율정보\", 격자(grid)가 나타나게 데이터 시각화 하세요.\n",
        "import matplotlib\n",
        "import matplotlib.pyplot as plt \n",
        "import matplotlib.font_manager as fm\n",
        "from matplotlib import rc\n",
        "\n",
        "plt.rc('font', family='AppleGothic')\n",
        "plt.figure(figsize = (10, 7))\n",
        "plt.plot(df2['매매기준율'])\n",
        "plt.title('네이버 환율정보')\n",
        "plt.xlabel('통화명')\n",
        "plt.ylabel('매매기준율')\n",
        "plt.legend(loc = 'upper right')\n",
        "plt.grid()"
      ],
      "execution_count": 20,
      "outputs": [
        {
          "output_type": "stream",
          "text": [
            "No handles with labels found to put in legend.\n",
            "findfont: Font family ['AppleGothic'] not found. Falling back to DejaVu Sans.\n",
            "findfont: Font family ['AppleGothic'] not found. Falling back to DejaVu Sans.\n"
          ],
          "name": "stderr"
        },
        {
          "output_type": "display_data",
          "data": {
            "image/png": "[encoded data removed]",
            "text/plain": [
              "<Figure size 720x504 with 1 Axes>"
            ]
          },
          "metadata": {
            "tags": [],
            "needs_background": "light"
          }
        }
      ]
    },
    {
      "cell_type": "code",
      "metadata": {
        "colab": {
          "base_uri": "https://localhost:8080/",
          "height": 337
        },
        "id": "K1e-R0wwhGn5",
        "outputId": "eeeb7253-2076-4370-9911-90cfa3da9dfc"
      },
      "source": [
        "df2.plot(kind=\"bar\", stacked=True, figsize=(7,4))\n",
        "plt.title(\"네이버환율정보\")\n",
        "plt.grid()"
      ],
      "execution_count": 21,
      "outputs": [
        {
          "output_type": "display_data",
          "data": {
            "image/png": "[encoded data removed]",
            "text/plain": [
              "<Figure size 504x288 with 1 Axes>"
            ]
          },
          "metadata": {
            "tags": [],
            "needs_background": "light"
          }
        }
      ]
    },
    {
      "cell_type": "code",
      "metadata": {
        "colab": {
          "base_uri": "https://localhost:8080/",
          "height": 281
        },
        "id": "eGdAo1n6hGn5",
        "outputId": "62d6a0b3-cfad-436e-a639-79d9265513e1"
      },
      "source": [
        "# 문제4) 위의 그래프를 가로 막대 그래프로 변경하여 데이터 시각화 하세요.\n",
        "# 그림 사이즈는 가로 7인치, 세로 4인치입니다.\n",
        "df2.plot(kind=\"barh\", stacked=True, figsize=(7,4))\n",
        "plt.title(\"네이버환율정보\")\n",
        "plt.grid()"
      ],
      "execution_count": 22,
      "outputs": [
        {
          "output_type": "display_data",
          "data": {
            "image/png": "[encoded data removed]",
            "text/plain": [
              "<Figure size 504x288 with 1 Axes>"
            ]
          },
          "metadata": {
            "tags": [],
            "needs_background": "light"
          }
        }
      ]
    },
    {
      "cell_type": "code",
      "metadata": {
        "colab": {
          "base_uri": "https://localhost:8080/",
          "height": 313
        },
        "id": "lIC90Qd9hGn5",
        "outputId": "6f51b8b5-aa63-467d-e9df-9ce8f5ffd661"
      },
      "source": [
        "# 문제 5) 그래프 종류를 \"area\"로 하고, 투명도를 0.5로 하여 데이터 시각화 하세요.\n",
        "# 그림 사이즈는 가로 7인치, 세로 4인치입니다.\n",
        "df2.plot(kind=\"area\", figsize=(7,4), alpha = 0.5)\n",
        "plt.title(\"네이버환율정보\")\n",
        "plt.xlabel('국가명')\n",
        "plt.ylabel('매매기준율')"
      ],
      "execution_count": 23,
      "outputs": [
        {
          "output_type": "execute_result",
          "data": {
            "text/plain": [
              "Text(0, 0.5, '매매기준율')"
            ]
          },
          "metadata": {
            "tags": []
          },
          "execution_count": 23
        },
        {
          "output_type": "display_data",
          "data": {
            "image/png": "[encoded data removed]",
            "text/plain": [
              "<Figure size 504x288 with 1 Axes>"
            ]
          },
          "metadata": {
            "tags": [],
            "needs_background": "light"
          }
        }
      ]
    },
    {
      "cell_type": "code",
      "metadata": {
        "colab": {
          "base_uri": "https://localhost:8080/",
          "height": 283
        },
        "id": "bzxXCrlUoKn8",
        "outputId": "acd5afcf-9cb6-48e4-8efa-5f77dc771f8e"
      },
      "source": [
        "df2.plot(kind=\"box\", figsize=(7,4))"
      ],
      "execution_count": 24,
      "outputs": [
        {
          "output_type": "execute_result",
          "data": {
            "text/plain": [
              "<matplotlib.axes._subplots.AxesSubplot at 0x7fae29d31610>"
            ]
          },
          "metadata": {
            "tags": []
          },
          "execution_count": 24
        },
        {
          "output_type": "display_data",
          "data": {
            "image/png": "[encoded data removed]",
            "text/plain": [
              "<Figure size 504x288 with 1 Axes>"
            ]
          },
          "metadata": {
            "tags": [],
            "needs_background": "light"
          }
        }
      ]
    },
    {
      "cell_type": "code",
      "metadata": {
        "id": "fbru_Q41hGn5"
      },
      "source": [
        "# 문제 6) boxplot을 그리세요"
      ],
      "execution_count": 25,
      "outputs": []
    },
    {
      "cell_type": "code",
      "metadata": {
        "colab": {
          "base_uri": "https://localhost:8080/",
          "height": 297
        },
        "id": "WXEXDrhVhGn6",
        "outputId": "b283d178-f426-494a-eb3e-aef28cbf4f0a"
      },
      "source": [
        "# 정규분포표 그리기 \n",
        "import seaborn as sns\n",
        "sns.distplot(df['매매기준율'])"
      ],
      "execution_count": 26,
      "outputs": [
        {
          "output_type": "execute_result",
          "data": {
            "text/plain": [
              "<matplotlib.axes._subplots.AxesSubplot at 0x7fae1b140190>"
            ]
          },
          "metadata": {
            "tags": []
          },
          "execution_count": 26
        },
        {
          "output_type": "display_data",
          "data": {
            "image/png": "[encoded data removed]",
            "text/plain": [
              "<Figure size 432x288 with 1 Axes>"
            ]
          },
          "metadata": {
            "tags": [],
            "needs_background": "light"
          }
        }
      ]
    }
  ]
}