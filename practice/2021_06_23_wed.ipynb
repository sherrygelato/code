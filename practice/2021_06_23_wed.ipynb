{
  "nbformat": 4,
  "nbformat_minor": 0,
  "metadata": {
    "colab": {
      "name": "2021.06.23.wed",
      "provenance": [],
      "collapsed_sections": []
    },
    "kernelspec": {
      "name": "python3",
      "display_name": "Python 3"
    },
    "language_info": {
      "name": "python"
    },
    "accelerator": "GPU"
  },
  "cells": [
    {
      "cell_type": "code",
      "metadata": {
        "id": "PO17wHPShbcw"
      },
      "source": [
        "# NLTK 토큰화 하기\n",
        "\n",
        "import nltk"
      ],
      "execution_count": 1,
      "outputs": []
    },
    {
      "cell_type": "code",
      "metadata": {
        "colab": {
          "base_uri": "https://localhost:8080/"
        },
        "id": "KK3-MsS6hezy",
        "outputId": "1b038d52-e81e-4ce8-8e9b-309a7354b8f1"
      },
      "source": [
        "# NLTK 다운\n",
        "\n",
        "nltk.download('punkt')"
      ],
      "execution_count": 2,
      "outputs": [
        {
          "output_type": "stream",
          "text": [
            "[nltk_data] Downloading package punkt to /root/nltk_data...\n",
            "[nltk_data]   Unzipping tokenizers/punkt.zip.\n"
          ],
          "name": "stdout"
        },
        {
          "output_type": "execute_result",
          "data": {
            "text/plain": [
              "True"
            ]
          },
          "metadata": {
            "tags": []
          },
          "execution_count": 2
        }
      ]
    },
    {
      "cell_type": "code",
      "metadata": {
        "id": "7ZZTB3EVhjxl"
      },
      "source": [
        "sent = \"don't worry, be happy. please wake up everbody come on\""
      ],
      "execution_count": 3,
      "outputs": []
    },
    {
      "cell_type": "code",
      "metadata": {
        "colab": {
          "base_uri": "https://localhost:8080/"
        },
        "id": "JkfS70Cjhqdo",
        "outputId": "7c3f9601-6284-48e3-c89d-7496d8fcb085"
      },
      "source": [
        "from nltk.tokenize import word_tokenize\n",
        "\n",
        "print(word_tokenize(sent))"
      ],
      "execution_count": 4,
      "outputs": [
        {
          "output_type": "stream",
          "text": [
            "['do', \"n't\", 'worry', ',', 'be', 'happy', '.', 'please', 'wake', 'up', 'everbody', 'come', 'on']\n"
          ],
          "name": "stdout"
        }
      ]
    },
    {
      "cell_type": "code",
      "metadata": {
        "colab": {
          "base_uri": "https://localhost:8080/"
        },
        "id": "Sk-v-NWshzEU",
        "outputId": "9da6ccb4-c6c5-4d43-b26e-48985a2e387f"
      },
      "source": [
        "word_tokenize(sent)"
      ],
      "execution_count": 5,
      "outputs": [
        {
          "output_type": "execute_result",
          "data": {
            "text/plain": [
              "['do',\n",
              " \"n't\",\n",
              " 'worry',\n",
              " ',',\n",
              " 'be',\n",
              " 'happy',\n",
              " '.',\n",
              " 'please',\n",
              " 'wake',\n",
              " 'up',\n",
              " 'everbody',\n",
              " 'come',\n",
              " 'on']"
            ]
          },
          "metadata": {
            "tags": []
          },
          "execution_count": 5
        }
      ]
    },
    {
      "cell_type": "code",
      "metadata": {
        "colab": {
          "base_uri": "https://localhost:8080/"
        },
        "id": "ft6Nbq60iDFJ",
        "outputId": "abaad144-8449-4985-e2e4-8d836a13d0ac"
      },
      "source": [
        "from nltk.tokenize import wordpunct_tokenize\n",
        "\n",
        "print(wordpunct_tokenize(sent))"
      ],
      "execution_count": 6,
      "outputs": [
        {
          "output_type": "stream",
          "text": [
            "['don', \"'\", 't', 'worry', ',', 'be', 'happy', '.', 'please', 'wake', 'up', 'everbody', 'come', 'on']\n"
          ],
          "name": "stdout"
        }
      ]
    },
    {
      "cell_type": "code",
      "metadata": {
        "colab": {
          "base_uri": "https://localhost:8080/"
        },
        "id": "1x2_By5piUBL",
        "outputId": "1b260eb9-a557-4de2-a655-7b3fbfdcffa4"
      },
      "source": [
        "!pip install konlpy"
      ],
      "execution_count": 7,
      "outputs": [
        {
          "output_type": "stream",
          "text": [
            "Collecting konlpy\n",
            "\u001b[?25l  Downloading https://files.pythonhosted.org/packages/85/0e/f385566fec837c0b83f216b2da65db9997b35dd675e107752005b7d392b1/konlpy-0.5.2-py2.py3-none-any.whl (19.4MB)\n",
            "\u001b[K     |████████████████████████████████| 19.4MB 1.4MB/s \n",
            "\u001b[?25hCollecting beautifulsoup4==4.6.0\n",
            "\u001b[?25l  Downloading https://files.pythonhosted.org/packages/9e/d4/10f46e5cfac773e22707237bfcd51bbffeaf0a576b0a847ec7ab15bd7ace/beautifulsoup4-4.6.0-py3-none-any.whl (86kB)\n",
            "\u001b[K     |████████████████████████████████| 92kB 10.5MB/s \n",
            "\u001b[?25hCollecting JPype1>=0.7.0\n",
            "\u001b[?25l  Downloading https://files.pythonhosted.org/packages/98/88/f817ef1af6f794e8f11313dcd1549de833f4599abcec82746ab5ed086686/JPype1-1.3.0-cp37-cp37m-manylinux_2_5_x86_64.manylinux1_x86_64.whl (448kB)\n",
            "\u001b[K     |████████████████████████████████| 450kB 53.6MB/s \n",
            "\u001b[?25hRequirement already satisfied: tweepy>=3.7.0 in /usr/local/lib/python3.7/dist-packages (from konlpy) (3.10.0)\n",
            "Requirement already satisfied: numpy>=1.6 in /usr/local/lib/python3.7/dist-packages (from konlpy) (1.19.5)\n",
            "Collecting colorama\n",
            "  Downloading https://files.pythonhosted.org/packages/44/98/5b86278fbbf250d239ae0ecb724f8572af1c91f4a11edf4d36a206189440/colorama-0.4.4-py2.py3-none-any.whl\n",
            "Requirement already satisfied: lxml>=4.1.0 in /usr/local/lib/python3.7/dist-packages (from konlpy) (4.2.6)\n",
            "Requirement already satisfied: typing-extensions; python_version < \"3.8\" in /usr/local/lib/python3.7/dist-packages (from JPype1>=0.7.0->konlpy) (3.7.4.3)\n",
            "Requirement already satisfied: requests-oauthlib>=0.7.0 in /usr/local/lib/python3.7/dist-packages (from tweepy>=3.7.0->konlpy) (1.3.0)\n",
            "Requirement already satisfied: six>=1.10.0 in /usr/local/lib/python3.7/dist-packages (from tweepy>=3.7.0->konlpy) (1.15.0)\n",
            "Requirement already satisfied: requests[socks]>=2.11.1 in /usr/local/lib/python3.7/dist-packages (from tweepy>=3.7.0->konlpy) (2.23.0)\n",
            "Requirement already satisfied: oauthlib>=3.0.0 in /usr/local/lib/python3.7/dist-packages (from requests-oauthlib>=0.7.0->tweepy>=3.7.0->konlpy) (3.1.1)\n",
            "Requirement already satisfied: idna<3,>=2.5 in /usr/local/lib/python3.7/dist-packages (from requests[socks]>=2.11.1->tweepy>=3.7.0->konlpy) (2.10)\n",
            "Requirement already satisfied: chardet<4,>=3.0.2 in /usr/local/lib/python3.7/dist-packages (from requests[socks]>=2.11.1->tweepy>=3.7.0->konlpy) (3.0.4)\n",
            "Requirement already satisfied: certifi>=2017.4.17 in /usr/local/lib/python3.7/dist-packages (from requests[socks]>=2.11.1->tweepy>=3.7.0->konlpy) (2021.5.30)\n",
            "Requirement already satisfied: urllib3!=1.25.0,!=1.25.1,<1.26,>=1.21.1 in /usr/local/lib/python3.7/dist-packages (from requests[socks]>=2.11.1->tweepy>=3.7.0->konlpy) (1.24.3)\n",
            "Requirement already satisfied: PySocks!=1.5.7,>=1.5.6; extra == \"socks\" in /usr/local/lib/python3.7/dist-packages (from requests[socks]>=2.11.1->tweepy>=3.7.0->konlpy) (1.7.1)\n",
            "Installing collected packages: beautifulsoup4, JPype1, colorama, konlpy\n",
            "  Found existing installation: beautifulsoup4 4.6.3\n",
            "    Uninstalling beautifulsoup4-4.6.3:\n",
            "      Successfully uninstalled beautifulsoup4-4.6.3\n",
            "Successfully installed JPype1-1.3.0 beautifulsoup4-4.6.0 colorama-0.4.4 konlpy-0.5.2\n"
          ],
          "name": "stdout"
        }
      ]
    },
    {
      "cell_type": "code",
      "metadata": {
        "id": "H_Qhp9X6iXvv"
      },
      "source": [
        "from konlpy.tag import *\n",
        "\n",
        "hannanum = Hannanum()\n",
        "kkma = Kkma()\n",
        "komoran = Komoran()\n",
        "okt = Okt()"
      ],
      "execution_count": 8,
      "outputs": []
    },
    {
      "cell_type": "code",
      "metadata": {
        "colab": {
          "base_uri": "https://localhost:8080/"
        },
        "id": "jB4nsj0vimer",
        "outputId": "248ccd2a-456f-4c25-90b3-9bfa69f41009"
      },
      "source": [
        "# 형태소\n",
        "\n",
        "okt.nouns(\"아무말, 집에 갑니다, 배고파요, 잠 깨고 있어요, 취업, 커피 마시고 싶어요, 자리 뺏겼어요, 졸려요, 헉\")"
      ],
      "execution_count": 9,
      "outputs": [
        {
          "output_type": "execute_result",
          "data": {
            "text/plain": [
              "['말', '집', '잠', '취업', '커피', '자리']"
            ]
          },
          "metadata": {
            "tags": []
          },
          "execution_count": 9
        }
      ]
    },
    {
      "cell_type": "code",
      "metadata": {
        "id": "yKh04wj9jV8z"
      },
      "source": [
        "test = \"아무말, 집에 갑니다, 배고파요, 잠 깨고 있어요, 취업, 커피 마시고 싶어요, 자리 뺏겼어요, 졸려요, 헉\""
      ],
      "execution_count": 10,
      "outputs": []
    },
    {
      "cell_type": "code",
      "metadata": {
        "colab": {
          "base_uri": "https://localhost:8080/"
        },
        "id": "h8gHQRIajg2F",
        "outputId": "c187ab31-57dd-48f7-ab36-02b4bf4674dc"
      },
      "source": [
        "okt.nouns(test)"
      ],
      "execution_count": 11,
      "outputs": [
        {
          "output_type": "execute_result",
          "data": {
            "text/plain": [
              "['말', '집', '잠', '취업', '커피', '자리']"
            ]
          },
          "metadata": {
            "tags": []
          },
          "execution_count": 11
        }
      ]
    },
    {
      "cell_type": "code",
      "metadata": {
        "colab": {
          "base_uri": "https://localhost:8080/"
        },
        "id": "EYC1r1oxjiwR",
        "outputId": "ee8a4afa-52be-4c48-8698-6516550ad176"
      },
      "source": [
        "okt.morphs(test) # 형태소"
      ],
      "execution_count": 12,
      "outputs": [
        {
          "output_type": "execute_result",
          "data": {
            "text/plain": [
              "['아무',\n",
              " '말',\n",
              " ',',\n",
              " '집',\n",
              " '에',\n",
              " '갑니다',\n",
              " ',',\n",
              " '배고파요',\n",
              " ',',\n",
              " '잠',\n",
              " '깨고',\n",
              " '있어요',\n",
              " ',',\n",
              " '취업',\n",
              " ',',\n",
              " '커피',\n",
              " '마시고',\n",
              " '싶어요',\n",
              " ',',\n",
              " '자리',\n",
              " '뺏',\n",
              " '겼어요',\n",
              " ',',\n",
              " '졸려요',\n",
              " ',',\n",
              " '헉']"
            ]
          },
          "metadata": {
            "tags": []
          },
          "execution_count": 12
        }
      ]
    },
    {
      "cell_type": "code",
      "metadata": {
        "colab": {
          "base_uri": "https://localhost:8080/"
        },
        "id": "mqG90jAHjmBV",
        "outputId": "76dc2cb3-c9f7-4893-d5b6-4b524d890e3e"
      },
      "source": [
        "okt.pos(test) # 품사"
      ],
      "execution_count": 13,
      "outputs": [
        {
          "output_type": "execute_result",
          "data": {
            "text/plain": [
              "[('아무', 'Modifier'),\n",
              " ('말', 'Noun'),\n",
              " (',', 'Punctuation'),\n",
              " ('집', 'Noun'),\n",
              " ('에', 'Josa'),\n",
              " ('갑니다', 'Verb'),\n",
              " (',', 'Punctuation'),\n",
              " ('배고파요', 'Adjective'),\n",
              " (',', 'Punctuation'),\n",
              " ('잠', 'Noun'),\n",
              " ('깨고', 'Verb'),\n",
              " ('있어요', 'Adjective'),\n",
              " (',', 'Punctuation'),\n",
              " ('취업', 'Noun'),\n",
              " (',', 'Punctuation'),\n",
              " ('커피', 'Noun'),\n",
              " ('마시고', 'Verb'),\n",
              " ('싶어요', 'Verb'),\n",
              " (',', 'Punctuation'),\n",
              " ('자리', 'Noun'),\n",
              " ('뺏', 'Verb'),\n",
              " ('겼어요', 'Verb'),\n",
              " (',', 'Punctuation'),\n",
              " ('졸려요', 'Verb'),\n",
              " (',', 'Punctuation'),\n",
              " ('헉', 'Adverb')]"
            ]
          },
          "metadata": {
            "tags": []
          },
          "execution_count": 13
        }
      ]
    },
    {
      "cell_type": "code",
      "metadata": {
        "colab": {
          "base_uri": "https://localhost:8080/"
        },
        "id": "H0q1sSJKjsvd",
        "outputId": "90b3152f-1c35-45ee-ff73-adf0f9347ee4"
      },
      "source": [
        "kkma.nouns(test)"
      ],
      "execution_count": 14,
      "outputs": [
        {
          "output_type": "execute_result",
          "data": {
            "text/plain": [
              "['말', '집', '잠', '취업', '커피', '자리']"
            ]
          },
          "metadata": {
            "tags": []
          },
          "execution_count": 14
        }
      ]
    },
    {
      "cell_type": "code",
      "metadata": {
        "colab": {
          "base_uri": "https://localhost:8080/"
        },
        "id": "HlePi1g_j9l3",
        "outputId": "fc5e2e76-fb7e-4781-9743-379aec19a42d"
      },
      "source": [
        "kkma.morphs(test)"
      ],
      "execution_count": 15,
      "outputs": [
        {
          "output_type": "execute_result",
          "data": {
            "text/plain": [
              "['아무',\n",
              " '말',\n",
              " ',',\n",
              " '집',\n",
              " '에',\n",
              " '가',\n",
              " 'ㅂ니다',\n",
              " ',',\n",
              " '배고프',\n",
              " '아요',\n",
              " ',',\n",
              " '잠',\n",
              " '깨',\n",
              " '고',\n",
              " '있',\n",
              " '어요',\n",
              " ',',\n",
              " '취업',\n",
              " ',',\n",
              " '커피',\n",
              " '마시',\n",
              " '고',\n",
              " '싶',\n",
              " '어요',\n",
              " ',',\n",
              " '자리',\n",
              " '뺏기',\n",
              " '었',\n",
              " '어요',\n",
              " ',',\n",
              " '졸',\n",
              " '려요',\n",
              " ',',\n",
              " '헉']"
            ]
          },
          "metadata": {
            "tags": []
          },
          "execution_count": 15
        }
      ]
    },
    {
      "cell_type": "code",
      "metadata": {
        "colab": {
          "base_uri": "https://localhost:8080/"
        },
        "id": "NJH37j_ukFAT",
        "outputId": "dc164b66-3796-42cb-cee3-3c8b9ddd24f6"
      },
      "source": [
        "kkma.pos(test)"
      ],
      "execution_count": 16,
      "outputs": [
        {
          "output_type": "execute_result",
          "data": {
            "text/plain": [
              "[('아무', 'MDT'),\n",
              " ('말', 'NNG'),\n",
              " (',', 'SP'),\n",
              " ('집', 'NNG'),\n",
              " ('에', 'JKM'),\n",
              " ('가', 'VV'),\n",
              " ('ㅂ니다', 'EFN'),\n",
              " (',', 'SP'),\n",
              " ('배고프', 'VA'),\n",
              " ('아요', 'EFN'),\n",
              " (',', 'SP'),\n",
              " ('잠', 'NNG'),\n",
              " ('깨', 'VV'),\n",
              " ('고', 'ECE'),\n",
              " ('있', 'VXV'),\n",
              " ('어요', 'EFN'),\n",
              " (',', 'SP'),\n",
              " ('취업', 'NNG'),\n",
              " (',', 'SP'),\n",
              " ('커피', 'NNG'),\n",
              " ('마시', 'VV'),\n",
              " ('고', 'ECE'),\n",
              " ('싶', 'VXA'),\n",
              " ('어요', 'EFN'),\n",
              " (',', 'SP'),\n",
              " ('자리', 'NNG'),\n",
              " ('뺏기', 'VV'),\n",
              " ('었', 'EPT'),\n",
              " ('어요', 'EFN'),\n",
              " (',', 'SP'),\n",
              " ('졸', 'VV'),\n",
              " ('려요', 'ECD'),\n",
              " (',', 'SP'),\n",
              " ('헉', 'MAG')]"
            ]
          },
          "metadata": {
            "tags": []
          },
          "execution_count": 16
        }
      ]
    },
    {
      "cell_type": "code",
      "metadata": {
        "id": "FhdWlyrAkJsx"
      },
      "source": [
        "# sentense 문장 토큰화\n",
        "\n",
        "text1 = 'Do the boogie like Side step right left to my beat High like the moon rock with me baby Know that I got that heat'"
      ],
      "execution_count": 17,
      "outputs": []
    },
    {
      "cell_type": "code",
      "metadata": {
        "colab": {
          "base_uri": "https://localhost:8080/"
        },
        "id": "UsYl8QAWkvAj",
        "outputId": "e42396c5-3cd9-4f5f-b3bb-df0f29ba672f"
      },
      "source": [
        "from nltk.tokenize import sent_tokenize\n",
        "\n",
        "sent_tokenize(text1)"
      ],
      "execution_count": 19,
      "outputs": [
        {
          "output_type": "execute_result",
          "data": {
            "text/plain": [
              "['Do the boogie like Side step right left to my beat High like the moon rock with me baby Know that I got that heat']"
            ]
          },
          "metadata": {
            "tags": []
          },
          "execution_count": 19
        }
      ]
    },
    {
      "cell_type": "code",
      "metadata": {
        "id": "a5Hz7ANVk4VD"
      },
      "source": [
        "text2 = '사랑을 맺었던가 님들의 치맛 소리, 태욱스럽다'"
      ],
      "execution_count": 20,
      "outputs": []
    },
    {
      "cell_type": "code",
      "metadata": {
        "colab": {
          "base_uri": "https://localhost:8080/"
        },
        "id": "1cIYSwHvlfIH",
        "outputId": "4762d616-8b18-4614-e34a-fe6e4fc8a503"
      },
      "source": [
        "!pip install kss"
      ],
      "execution_count": 21,
      "outputs": [
        {
          "output_type": "stream",
          "text": [
            "Collecting kss\n",
            "\u001b[?25l  Downloading https://files.pythonhosted.org/packages/ed/ea/3030770642a58a08777dfa324a1b65a2f53f1574de8dd84424851f0c2ec7/kss-2.5.1-py3-none-any.whl (65kB)\n",
            "\r\u001b[K     |█████                           | 10kB 15.2MB/s eta 0:00:01\r\u001b[K     |██████████                      | 20kB 16.5MB/s eta 0:00:01\r\u001b[K     |███████████████                 | 30kB 20.1MB/s eta 0:00:01\r\u001b[K     |███████████████████▉            | 40kB 23.4MB/s eta 0:00:01\r\u001b[K     |████████████████████████▉       | 51kB 26.4MB/s eta 0:00:01\r\u001b[K     |█████████████████████████████▉  | 61kB 28.8MB/s eta 0:00:01\r\u001b[K     |████████████████████████████████| 71kB 8.7MB/s \n",
            "\u001b[?25hInstalling collected packages: kss\n",
            "Successfully installed kss-2.5.1\n"
          ],
          "name": "stdout"
        }
      ]
    },
    {
      "cell_type": "code",
      "metadata": {
        "colab": {
          "base_uri": "https://localhost:8080/"
        },
        "id": "YSllg4zLlnA3",
        "outputId": "bd26ba20-b4dd-49bb-aee7-836318dc9b09"
      },
      "source": [
        "import kss \n",
        "\n",
        "kss.split_sentences(text2)"
      ],
      "execution_count": 25,
      "outputs": [
        {
          "output_type": "execute_result",
          "data": {
            "text/plain": [
              "['사랑을 맺었던가 님들의 치맛 소리, 태욱스럽다']"
            ]
          },
          "metadata": {
            "tags": []
          },
          "execution_count": 25
        }
      ]
    },
    {
      "cell_type": "code",
      "metadata": {
        "id": "ZNHKZaW1lx3y"
      },
      "source": [
        "# 텍스트 정규화\n",
        "\n",
        "# 1. stem 스테밍, 어감 추출\n",
        "\n",
        "from nltk.stem import PorterStemmer\n",
        "\n",
        "ps = PorterStemmer() # 생성자 객체화"
      ],
      "execution_count": 26,
      "outputs": []
    },
    {
      "cell_type": "code",
      "metadata": {
        "colab": {
          "base_uri": "https://localhost:8080/"
        },
        "id": "uV8R753ymDa8",
        "outputId": "306accce-ff44-49bb-d465-75a6d1d03cb7"
      },
      "source": [
        "word_tokenize(text1)"
      ],
      "execution_count": 27,
      "outputs": [
        {
          "output_type": "execute_result",
          "data": {
            "text/plain": [
              "['Do',\n",
              " 'the',\n",
              " 'boogie',\n",
              " 'like',\n",
              " 'Side',\n",
              " 'step',\n",
              " 'right',\n",
              " 'left',\n",
              " 'to',\n",
              " 'my',\n",
              " 'beat',\n",
              " 'High',\n",
              " 'like',\n",
              " 'the',\n",
              " 'moon',\n",
              " 'rock',\n",
              " 'with',\n",
              " 'me',\n",
              " 'baby',\n",
              " 'Know',\n",
              " 'that',\n",
              " 'I',\n",
              " 'got',\n",
              " 'that',\n",
              " 'heat']"
            ]
          },
          "metadata": {
            "tags": []
          },
          "execution_count": 27
        }
      ]
    },
    {
      "cell_type": "code",
      "metadata": {
        "id": "kIhCkLUImNTY"
      },
      "source": [
        "words = word_tokenize(text1)"
      ],
      "execution_count": 28,
      "outputs": []
    },
    {
      "cell_type": "code",
      "metadata": {
        "colab": {
          "base_uri": "https://localhost:8080/"
        },
        "id": "p8g858gPmRlf",
        "outputId": "0bd3fffc-fbc1-4fe6-b953-fad01f3ad51a"
      },
      "source": [
        "[ps.stem(w) for w in words] # list(), [] 이거 많이 씀"
      ],
      "execution_count": 29,
      "outputs": [
        {
          "output_type": "execute_result",
          "data": {
            "text/plain": [
              "['Do',\n",
              " 'the',\n",
              " 'boogi',\n",
              " 'like',\n",
              " 'side',\n",
              " 'step',\n",
              " 'right',\n",
              " 'left',\n",
              " 'to',\n",
              " 'my',\n",
              " 'beat',\n",
              " 'high',\n",
              " 'like',\n",
              " 'the',\n",
              " 'moon',\n",
              " 'rock',\n",
              " 'with',\n",
              " 'me',\n",
              " 'babi',\n",
              " 'know',\n",
              " 'that',\n",
              " 'I',\n",
              " 'got',\n",
              " 'that',\n",
              " 'heat']"
            ]
          },
          "metadata": {
            "tags": []
          },
          "execution_count": 29
        }
      ]
    },
    {
      "cell_type": "code",
      "metadata": {
        "colab": {
          "base_uri": "https://localhost:8080/"
        },
        "id": "5PR4OyeymgPy",
        "outputId": "59c3f7c8-7f47-4ff1-c7fb-54d927a62824"
      },
      "source": [
        "# lemmatization\n",
        "\n",
        "nltk.download('wordnet')"
      ],
      "execution_count": 30,
      "outputs": [
        {
          "output_type": "stream",
          "text": [
            "[nltk_data] Downloading package wordnet to /root/nltk_data...\n",
            "[nltk_data]   Unzipping corpora/wordnet.zip.\n"
          ],
          "name": "stdout"
        },
        {
          "output_type": "execute_result",
          "data": {
            "text/plain": [
              "True"
            ]
          },
          "metadata": {
            "tags": []
          },
          "execution_count": 30
        }
      ]
    },
    {
      "cell_type": "code",
      "metadata": {
        "id": "pynIR6mXm0q9"
      },
      "source": [
        "from nltk.stem import WordNetLemmatizer\n",
        "wl = WordNetLemmatizer()"
      ],
      "execution_count": 31,
      "outputs": []
    },
    {
      "cell_type": "code",
      "metadata": {
        "id": "OwBeEbTrm898"
      },
      "source": [
        "words = ['policy', 'doing', 'organization', 'have']"
      ],
      "execution_count": 32,
      "outputs": []
    },
    {
      "cell_type": "code",
      "metadata": {
        "colab": {
          "base_uri": "https://localhost:8080/"
        },
        "id": "jVHFAs7GnKFA",
        "outputId": "248ceee1-7c0a-4ec2-a85f-accdabb65500"
      },
      "source": [
        "[wl.lemmatize(w) for w in words] "
      ],
      "execution_count": 33,
      "outputs": [
        {
          "output_type": "execute_result",
          "data": {
            "text/plain": [
              "['policy', 'doing', 'organization', 'have']"
            ]
          },
          "metadata": {
            "tags": []
          },
          "execution_count": 33
        }
      ]
    },
    {
      "cell_type": "code",
      "metadata": {
        "colab": {
          "base_uri": "https://localhost:8080/"
        },
        "id": "5rScLLKxnTUJ",
        "outputId": "36fd7368-e2d8-4aa5-f536-45e35fed696a"
      },
      "source": [
        "okt.morphs(text2)"
      ],
      "execution_count": 34,
      "outputs": [
        {
          "output_type": "execute_result",
          "data": {
            "text/plain": [
              "['사랑', '을', '맺었던가', '님들', '의', '치맛', '소리', ',', '태욱', '스럽다']"
            ]
          },
          "metadata": {
            "tags": []
          },
          "execution_count": 34
        }
      ]
    },
    {
      "cell_type": "code",
      "metadata": {
        "colab": {
          "base_uri": "https://localhost:8080/"
        },
        "id": "zvYoRFNoneXz",
        "outputId": "f7ac69c4-a58d-4188-a4ff-9539aff3bf15"
      },
      "source": [
        "okt.morphs(text2, stem = True) # 원형 찾기"
      ],
      "execution_count": 35,
      "outputs": [
        {
          "output_type": "execute_result",
          "data": {
            "text/plain": [
              "['사랑', '을', '맺다', '님들', '의', '치맛', '소리', ',', '태욱', '스럽다']"
            ]
          },
          "metadata": {
            "tags": []
          },
          "execution_count": 35
        }
      ]
    },
    {
      "cell_type": "code",
      "metadata": {
        "colab": {
          "base_uri": "https://localhost:8080/"
        },
        "id": "gACFqKKinrXC",
        "outputId": "bdbf4c6c-a130-40cc-a543-cffcae3e038c"
      },
      "source": [
        "okt.pos(text2)"
      ],
      "execution_count": 36,
      "outputs": [
        {
          "output_type": "execute_result",
          "data": {
            "text/plain": [
              "[('사랑', 'Noun'),\n",
              " ('을', 'Josa'),\n",
              " ('맺었던가', 'Verb'),\n",
              " ('님들', 'Noun'),\n",
              " ('의', 'Josa'),\n",
              " ('치맛', 'Noun'),\n",
              " ('소리', 'Noun'),\n",
              " (',', 'Punctuation'),\n",
              " ('태욱', 'Noun'),\n",
              " ('스럽다', 'Adjective')]"
            ]
          },
          "metadata": {
            "tags": []
          },
          "execution_count": 36
        }
      ]
    },
    {
      "cell_type": "code",
      "metadata": {
        "colab": {
          "base_uri": "https://localhost:8080/"
        },
        "id": "Wj6PnMFonoTJ",
        "outputId": "01a417c0-edb9-4b4d-9b29-99486fc8e109"
      },
      "source": [
        "# stopwords 불용어 사용하지 않는 것은 상대적. 쓸 수도 있고 쓰지 않을 수도 있고.\n",
        "\n",
        "nltk.download('stopwords')"
      ],
      "execution_count": 37,
      "outputs": [
        {
          "output_type": "stream",
          "text": [
            "[nltk_data] Downloading package stopwords to /root/nltk_data...\n",
            "[nltk_data]   Unzipping corpora/stopwords.zip.\n"
          ],
          "name": "stdout"
        },
        {
          "output_type": "execute_result",
          "data": {
            "text/plain": [
              "True"
            ]
          },
          "metadata": {
            "tags": []
          },
          "execution_count": 37
        }
      ]
    },
    {
      "cell_type": "code",
      "metadata": {
        "colab": {
          "base_uri": "https://localhost:8080/"
        },
        "id": "IMMP3A2UoMAg",
        "outputId": "e2fc7f68-1104-47a2-8ccd-a99f1c7fa80d"
      },
      "source": [
        "from nltk.corpus import stopwords #말뭉치: corpus\n",
        "\n",
        "print(stopwords.words('english'))"
      ],
      "execution_count": 38,
      "outputs": [
        {
          "output_type": "stream",
          "text": [
            "['i', 'me', 'my', 'myself', 'we', 'our', 'ours', 'ourselves', 'you', \"you're\", \"you've\", \"you'll\", \"you'd\", 'your', 'yours', 'yourself', 'yourselves', 'he', 'him', 'his', 'himself', 'she', \"she's\", 'her', 'hers', 'herself', 'it', \"it's\", 'its', 'itself', 'they', 'them', 'their', 'theirs', 'themselves', 'what', 'which', 'who', 'whom', 'this', 'that', \"that'll\", 'these', 'those', 'am', 'is', 'are', 'was', 'were', 'be', 'been', 'being', 'have', 'has', 'had', 'having', 'do', 'does', 'did', 'doing', 'a', 'an', 'the', 'and', 'but', 'if', 'or', 'because', 'as', 'until', 'while', 'of', 'at', 'by', 'for', 'with', 'about', 'against', 'between', 'into', 'through', 'during', 'before', 'after', 'above', 'below', 'to', 'from', 'up', 'down', 'in', 'out', 'on', 'off', 'over', 'under', 'again', 'further', 'then', 'once', 'here', 'there', 'when', 'where', 'why', 'how', 'all', 'any', 'both', 'each', 'few', 'more', 'most', 'other', 'some', 'such', 'no', 'nor', 'not', 'only', 'own', 'same', 'so', 'than', 'too', 'very', 's', 't', 'can', 'will', 'just', 'don', \"don't\", 'should', \"should've\", 'now', 'd', 'll', 'm', 'o', 're', 've', 'y', 'ain', 'aren', \"aren't\", 'couldn', \"couldn't\", 'didn', \"didn't\", 'doesn', \"doesn't\", 'hadn', \"hadn't\", 'hasn', \"hasn't\", 'haven', \"haven't\", 'isn', \"isn't\", 'ma', 'mightn', \"mightn't\", 'mustn', \"mustn't\", 'needn', \"needn't\", 'shan', \"shan't\", 'shouldn', \"shouldn't\", 'wasn', \"wasn't\", 'weren', \"weren't\", 'won', \"won't\", 'wouldn', \"wouldn't\"]\n"
          ],
          "name": "stdout"
        }
      ]
    },
    {
      "cell_type": "code",
      "metadata": {
        "colab": {
          "base_uri": "https://localhost:8080/"
        },
        "id": "gg48l0nSoVnv",
        "outputId": "b55b0a31-dad9-4c88-a232-1c8135431d18"
      },
      "source": [
        "ex = \"Se is very import person. It's everytinog\"\n",
        "set(stopwords.words('english')) # set()은 중복은 없음"
      ],
      "execution_count": 39,
      "outputs": [
        {
          "output_type": "execute_result",
          "data": {
            "text/plain": [
              "{'a',\n",
              " 'about',\n",
              " 'above',\n",
              " 'after',\n",
              " 'again',\n",
              " 'against',\n",
              " 'ain',\n",
              " 'all',\n",
              " 'am',\n",
              " 'an',\n",
              " 'and',\n",
              " 'any',\n",
              " 'are',\n",
              " 'aren',\n",
              " \"aren't\",\n",
              " 'as',\n",
              " 'at',\n",
              " 'be',\n",
              " 'because',\n",
              " 'been',\n",
              " 'before',\n",
              " 'being',\n",
              " 'below',\n",
              " 'between',\n",
              " 'both',\n",
              " 'but',\n",
              " 'by',\n",
              " 'can',\n",
              " 'couldn',\n",
              " \"couldn't\",\n",
              " 'd',\n",
              " 'did',\n",
              " 'didn',\n",
              " \"didn't\",\n",
              " 'do',\n",
              " 'does',\n",
              " 'doesn',\n",
              " \"doesn't\",\n",
              " 'doing',\n",
              " 'don',\n",
              " \"don't\",\n",
              " 'down',\n",
              " 'during',\n",
              " 'each',\n",
              " 'few',\n",
              " 'for',\n",
              " 'from',\n",
              " 'further',\n",
              " 'had',\n",
              " 'hadn',\n",
              " \"hadn't\",\n",
              " 'has',\n",
              " 'hasn',\n",
              " \"hasn't\",\n",
              " 'have',\n",
              " 'haven',\n",
              " \"haven't\",\n",
              " 'having',\n",
              " 'he',\n",
              " 'her',\n",
              " 'here',\n",
              " 'hers',\n",
              " 'herself',\n",
              " 'him',\n",
              " 'himself',\n",
              " 'his',\n",
              " 'how',\n",
              " 'i',\n",
              " 'if',\n",
              " 'in',\n",
              " 'into',\n",
              " 'is',\n",
              " 'isn',\n",
              " \"isn't\",\n",
              " 'it',\n",
              " \"it's\",\n",
              " 'its',\n",
              " 'itself',\n",
              " 'just',\n",
              " 'll',\n",
              " 'm',\n",
              " 'ma',\n",
              " 'me',\n",
              " 'mightn',\n",
              " \"mightn't\",\n",
              " 'more',\n",
              " 'most',\n",
              " 'mustn',\n",
              " \"mustn't\",\n",
              " 'my',\n",
              " 'myself',\n",
              " 'needn',\n",
              " \"needn't\",\n",
              " 'no',\n",
              " 'nor',\n",
              " 'not',\n",
              " 'now',\n",
              " 'o',\n",
              " 'of',\n",
              " 'off',\n",
              " 'on',\n",
              " 'once',\n",
              " 'only',\n",
              " 'or',\n",
              " 'other',\n",
              " 'our',\n",
              " 'ours',\n",
              " 'ourselves',\n",
              " 'out',\n",
              " 'over',\n",
              " 'own',\n",
              " 're',\n",
              " 's',\n",
              " 'same',\n",
              " 'shan',\n",
              " \"shan't\",\n",
              " 'she',\n",
              " \"she's\",\n",
              " 'should',\n",
              " \"should've\",\n",
              " 'shouldn',\n",
              " \"shouldn't\",\n",
              " 'so',\n",
              " 'some',\n",
              " 'such',\n",
              " 't',\n",
              " 'than',\n",
              " 'that',\n",
              " \"that'll\",\n",
              " 'the',\n",
              " 'their',\n",
              " 'theirs',\n",
              " 'them',\n",
              " 'themselves',\n",
              " 'then',\n",
              " 'there',\n",
              " 'these',\n",
              " 'they',\n",
              " 'this',\n",
              " 'those',\n",
              " 'through',\n",
              " 'to',\n",
              " 'too',\n",
              " 'under',\n",
              " 'until',\n",
              " 'up',\n",
              " 've',\n",
              " 'very',\n",
              " 'was',\n",
              " 'wasn',\n",
              " \"wasn't\",\n",
              " 'we',\n",
              " 'were',\n",
              " 'weren',\n",
              " \"weren't\",\n",
              " 'what',\n",
              " 'when',\n",
              " 'where',\n",
              " 'which',\n",
              " 'while',\n",
              " 'who',\n",
              " 'whom',\n",
              " 'why',\n",
              " 'will',\n",
              " 'with',\n",
              " 'won',\n",
              " \"won't\",\n",
              " 'wouldn',\n",
              " \"wouldn't\",\n",
              " 'y',\n",
              " 'you',\n",
              " \"you'd\",\n",
              " \"you'll\",\n",
              " \"you're\",\n",
              " \"you've\",\n",
              " 'your',\n",
              " 'yours',\n",
              " 'yourself',\n",
              " 'yourselves'}"
            ]
          },
          "metadata": {
            "tags": []
          },
          "execution_count": 39
        }
      ]
    },
    {
      "cell_type": "code",
      "metadata": {
        "id": "NJKrJqbuouc8"
      },
      "source": [
        "stop_words = set(stopwords.words('english'))"
      ],
      "execution_count": 40,
      "outputs": []
    },
    {
      "cell_type": "code",
      "metadata": {
        "colab": {
          "base_uri": "https://localhost:8080/"
        },
        "id": "JrB0tYmWo3Kn",
        "outputId": "9848d123-45da-4a96-eb2b-0ddea9410993"
      },
      "source": [
        "word_tokenize(ex)"
      ],
      "execution_count": 41,
      "outputs": [
        {
          "output_type": "execute_result",
          "data": {
            "text/plain": [
              "['Se', 'is', 'very', 'import', 'person', '.', 'It', \"'s\", 'everytinog']"
            ]
          },
          "metadata": {
            "tags": []
          },
          "execution_count": 41
        }
      ]
    },
    {
      "cell_type": "code",
      "metadata": {
        "id": "8w4lqGVto5qD"
      },
      "source": [
        "word_tokens = word_tokenize(ex)"
      ],
      "execution_count": 42,
      "outputs": []
    },
    {
      "cell_type": "code",
      "metadata": {
        "colab": {
          "base_uri": "https://localhost:8080/"
        },
        "id": "M9RCeo4Co_gE",
        "outputId": "fe543f99-fcbf-4e3c-8a3a-0bf9b0ff5f78"
      },
      "source": [
        "result = []\n",
        "\n",
        "for w in word_tokens:\n",
        "  if w not in stop_words:\n",
        "    result.append(w)\n",
        "    \n",
        "print('원문:', word_tokens)\n",
        "print('불용어 제거문:', result)"
      ],
      "execution_count": 43,
      "outputs": [
        {
          "output_type": "stream",
          "text": [
            "원문: ['Se', 'is', 'very', 'import', 'person', '.', 'It', \"'s\", 'everytinog']\n",
            "불용어 제거문: ['Se', 'import', 'person', '.', 'It', \"'s\", 'everytinog']\n"
          ],
          "name": "stdout"
        }
      ]
    },
    {
      "cell_type": "code",
      "metadata": {
        "id": "H5qfwoZJpU5t"
      },
      "source": [
        "example2 = '남자 소개시켜줘, 알지 남자라고 다 남자 아냐, 재밌네요.'\n",
        "stop_words2 = '아냐 알지'\n",
        "\n",
        "stop_words2 = stop_words2.split(' ')\n",
        "word_tokens2 = word_tokenize(example2)"
      ],
      "execution_count": 50,
      "outputs": []
    },
    {
      "cell_type": "code",
      "metadata": {
        "colab": {
          "base_uri": "https://localhost:8080/"
        },
        "id": "euext_YQzZ7e",
        "outputId": "bd13fe91-bb6a-4e6e-9b25-36cd8878fac3"
      },
      "source": [
        "[w for w in word_tokens2 if w not in stop_words2] # list comperation"
      ],
      "execution_count": 51,
      "outputs": [
        {
          "output_type": "execute_result",
          "data": {
            "text/plain": [
              "['남자', '소개시켜줘', ',', '남자라고', '다', '남자', ',', '재밌네요', '.']"
            ]
          },
          "metadata": {
            "tags": []
          },
          "execution_count": 51
        }
      ]
    },
    {
      "cell_type": "code",
      "metadata": {
        "colab": {
          "base_uri": "https://localhost:8080/"
        },
        "id": "ABN4C2qe0EZn",
        "outputId": "5842e420-7974-4287-d566-1847f32e5507"
      },
      "source": [
        "result = [w for w in word_tokens2 if w not in stop_words2]\n",
        "\n",
        "print('원문: ', word_tokens2)\n",
        "print('불용어 제거 후: ', result)"
      ],
      "execution_count": 52,
      "outputs": [
        {
          "output_type": "stream",
          "text": [
            "원문:  ['남자', '소개시켜줘', ',', '알지', '남자라고', '다', '남자', '아냐', ',', '재밌네요', '.']\n",
            "불용어 제거 후:  ['남자', '소개시켜줘', ',', '남자라고', '다', '남자', ',', '재밌네요', '.']\n"
          ],
          "name": "stdout"
        }
      ]
    },
    {
      "cell_type": "code",
      "metadata": {
        "id": "vGp0ahsW0ewR"
      },
      "source": [
        "# 정수 인코딩\n",
        "\n",
        "text3 = \"A barber is a person. a barber is good person. a barber is huge person. \\\n",
        "        he Knew A Secret! The Secret He Kept is huge secret. Huge secret. His barber kept his word. a barber kept his word. \\\n",
        "        His barber kept his secret. But keeping and keeping such a huge secret to himself was driving the barber crazy. \\\n",
        "        the barber went up a huge mountain.\""
      ],
      "execution_count": 99,
      "outputs": []
    },
    {
      "cell_type": "code",
      "metadata": {
        "colab": {
          "base_uri": "https://localhost:8080/"
        },
        "id": "Qo3NqhEF1AVS",
        "outputId": "01c355b9-820e-46e1-da72-68150ddf5d74"
      },
      "source": [
        "# sentence tokneization\n",
        "\n",
        "sent_tokenize(text3)"
      ],
      "execution_count": 100,
      "outputs": [
        {
          "output_type": "execute_result",
          "data": {
            "text/plain": [
              "['A barber is a person.',\n",
              " 'a barber is good person.',\n",
              " 'a barber is huge person.',\n",
              " 'he Knew A Secret!',\n",
              " 'The Secret He Kept is huge secret.',\n",
              " 'Huge secret.',\n",
              " 'His barber kept his word.',\n",
              " 'a barber kept his word.',\n",
              " 'His barber kept his secret.',\n",
              " 'But keeping and keeping such a huge secret to himself was driving the barber crazy.',\n",
              " 'the barber went up a huge mountain.']"
            ]
          },
          "metadata": {
            "tags": []
          },
          "execution_count": 100
        }
      ]
    },
    {
      "cell_type": "code",
      "metadata": {
        "colab": {
          "base_uri": "https://localhost:8080/"
        },
        "id": "Bffjkcp41ZFG",
        "outputId": "8c6b243f-18ae-44e0-8d73-00ee3fc0350f"
      },
      "source": [
        "text3 = sent_tokenize(text3)\n",
        "print(text3)"
      ],
      "execution_count": 101,
      "outputs": [
        {
          "output_type": "stream",
          "text": [
            "['A barber is a person.', 'a barber is good person.', 'a barber is huge person.', 'he Knew A Secret!', 'The Secret He Kept is huge secret.', 'Huge secret.', 'His barber kept his word.', 'a barber kept his word.', 'His barber kept his secret.', 'But keeping and keeping such a huge secret to himself was driving the barber crazy.', 'the barber went up a huge mountain.']\n"
          ],
          "name": "stdout"
        }
      ]
    },
    {
      "cell_type": "code",
      "metadata": {
        "colab": {
          "base_uri": "https://localhost:8080/"
        },
        "id": "H_ITAjUB1gdU",
        "outputId": "ba976d0d-4303-403d-c5d4-bcf028242cc0"
      },
      "source": [
        "# word tokenization\n",
        "# 이중for문\n",
        "# 리스트의 리스트 (리스트 내포)\n",
        "\n",
        "sentences = [ ]\n",
        "stop_words = set(stopwords.words('english')) \n",
        "\n",
        "for i in text3: \n",
        "  sentence = word_tokenize(i) # sentence 구분\n",
        "  result = [ ]\n",
        "\n",
        "  for word in sentence:\n",
        "    word = word.lower()\n",
        "    if word not in stop_words:\n",
        "      if len(word) > 2:\n",
        "        result.append(word)\n",
        "\n",
        "  sentences.append(result)\n",
        "\n",
        "print(sentences)"
      ],
      "execution_count": 102,
      "outputs": [
        {
          "output_type": "stream",
          "text": [
            "[['barber', 'person'], ['barber', 'good', 'person'], ['barber', 'huge', 'person'], ['knew', 'secret'], ['secret', 'kept', 'huge', 'secret'], ['huge', 'secret'], ['barber', 'kept', 'word'], ['barber', 'kept', 'word'], ['barber', 'kept', 'secret'], ['keeping', 'keeping', 'huge', 'secret', 'driving', 'barber', 'crazy'], ['barber', 'went', 'huge', 'mountain']]\n"
          ],
          "name": "stdout"
        }
      ]
    },
    {
      "cell_type": "code",
      "metadata": {
        "colab": {
          "base_uri": "https://localhost:8080/"
        },
        "id": "g4ixXW1o2TOr",
        "outputId": "3123ff17-c213-4c95-9482-68f53490fa3b"
      },
      "source": [
        "# 단어집합 vocabulary\n",
        "\n",
        "from collections import Counter\n",
        "\n",
        "words = sum(sentences, [])\n",
        "print(words)"
      ],
      "execution_count": 103,
      "outputs": [
        {
          "output_type": "stream",
          "text": [
            "['barber', 'person', 'barber', 'good', 'person', 'barber', 'huge', 'person', 'knew', 'secret', 'secret', 'kept', 'huge', 'secret', 'huge', 'secret', 'barber', 'kept', 'word', 'barber', 'kept', 'word', 'barber', 'kept', 'secret', 'keeping', 'keeping', 'huge', 'secret', 'driving', 'barber', 'crazy', 'barber', 'went', 'huge', 'mountain']\n"
          ],
          "name": "stdout"
        }
      ]
    },
    {
      "cell_type": "code",
      "metadata": {
        "colab": {
          "base_uri": "https://localhost:8080/"
        },
        "id": "Qm0obp8r36iG",
        "outputId": "82025a0a-ac0d-4c93-cb08-29f18121eeb4"
      },
      "source": [
        "print(sum(sentences, []))"
      ],
      "execution_count": 104,
      "outputs": [
        {
          "output_type": "stream",
          "text": [
            "['barber', 'person', 'barber', 'good', 'person', 'barber', 'huge', 'person', 'knew', 'secret', 'secret', 'kept', 'huge', 'secret', 'huge', 'secret', 'barber', 'kept', 'word', 'barber', 'kept', 'word', 'barber', 'kept', 'secret', 'keeping', 'keeping', 'huge', 'secret', 'driving', 'barber', 'crazy', 'barber', 'went', 'huge', 'mountain']\n"
          ],
          "name": "stdout"
        }
      ]
    },
    {
      "cell_type": "markdown",
      "metadata": {
        "id": "fOkHrf1o-kJi"
      },
      "source": [
        "https://wikidocs.net/31766 정수인코딩"
      ]
    },
    {
      "cell_type": "code",
      "metadata": {
        "colab": {
          "base_uri": "https://localhost:8080/"
        },
        "id": "ViZTvamR-Z5A",
        "outputId": "746389a1-ef3c-4094-babe-070713012dba"
      },
      "source": [
        "Counter(words)"
      ],
      "execution_count": 105,
      "outputs": [
        {
          "output_type": "execute_result",
          "data": {
            "text/plain": [
              "Counter({'barber': 8,\n",
              "         'crazy': 1,\n",
              "         'driving': 1,\n",
              "         'good': 1,\n",
              "         'huge': 5,\n",
              "         'keeping': 2,\n",
              "         'kept': 4,\n",
              "         'knew': 1,\n",
              "         'mountain': 1,\n",
              "         'person': 3,\n",
              "         'secret': 6,\n",
              "         'went': 1,\n",
              "         'word': 2})"
            ]
          },
          "metadata": {
            "tags": []
          },
          "execution_count": 105
        }
      ]
    },
    {
      "cell_type": "code",
      "metadata": {
        "colab": {
          "base_uri": "https://localhost:8080/"
        },
        "id": "dKb7cdFr_IXX",
        "outputId": "55a11cfa-26cf-4687-f9a4-89c2c93f244a"
      },
      "source": [
        "vocab = Counter(words)\n",
        "print(vocab)"
      ],
      "execution_count": 106,
      "outputs": [
        {
          "output_type": "stream",
          "text": [
            "Counter({'barber': 8, 'secret': 6, 'huge': 5, 'kept': 4, 'person': 3, 'word': 2, 'keeping': 2, 'good': 1, 'knew': 1, 'driving': 1, 'crazy': 1, 'went': 1, 'mountain': 1})\n"
          ],
          "name": "stdout"
        }
      ]
    },
    {
      "cell_type": "code",
      "metadata": {
        "colab": {
          "base_uri": "https://localhost:8080/"
        },
        "id": "6_Gx8LiB_Xyi",
        "outputId": "6a424bb0-9fcc-4573-ff57-aacf503814f0"
      },
      "source": [
        "print(vocab['huge'])"
      ],
      "execution_count": 109,
      "outputs": [
        {
          "output_type": "stream",
          "text": [
            "5\n"
          ],
          "name": "stdout"
        }
      ]
    },
    {
      "cell_type": "code",
      "metadata": {
        "colab": {
          "base_uri": "https://localhost:8080/"
        },
        "id": "E6dBpa3m_hOR",
        "outputId": "1e8c97e5-cb56-4707-b627-2ff5919745f6"
      },
      "source": [
        "# 정수 인덱스 (integer encoding)\n",
        "# 빈도수가 높을수록 낮은 수의 정수 부여\n",
        "\n",
        "sorted(vocab.items(), key = lambda x: x[1]) # x[0]: key, x[1]: value"
      ],
      "execution_count": 110,
      "outputs": [
        {
          "output_type": "execute_result",
          "data": {
            "text/plain": [
              "[('good', 1),\n",
              " ('knew', 1),\n",
              " ('driving', 1),\n",
              " ('crazy', 1),\n",
              " ('went', 1),\n",
              " ('mountain', 1),\n",
              " ('word', 2),\n",
              " ('keeping', 2),\n",
              " ('person', 3),\n",
              " ('kept', 4),\n",
              " ('huge', 5),\n",
              " ('secret', 6),\n",
              " ('barber', 8)]"
            ]
          },
          "metadata": {
            "tags": []
          },
          "execution_count": 110
        }
      ]
    },
    {
      "cell_type": "code",
      "metadata": {
        "colab": {
          "base_uri": "https://localhost:8080/"
        },
        "id": "ZLXiWEu_ABh7",
        "outputId": "5bd6157e-b32f-436a-c541-21f71d1d87a9"
      },
      "source": [
        "sorted(vocab.items(), key = lambda x: x[1], reverse = True) # x[0]: key, x[1]: value"
      ],
      "execution_count": 111,
      "outputs": [
        {
          "output_type": "execute_result",
          "data": {
            "text/plain": [
              "[('barber', 8),\n",
              " ('secret', 6),\n",
              " ('huge', 5),\n",
              " ('kept', 4),\n",
              " ('person', 3),\n",
              " ('word', 2),\n",
              " ('keeping', 2),\n",
              " ('good', 1),\n",
              " ('knew', 1),\n",
              " ('driving', 1),\n",
              " ('crazy', 1),\n",
              " ('went', 1),\n",
              " ('mountain', 1)]"
            ]
          },
          "metadata": {
            "tags": []
          },
          "execution_count": 111
        }
      ]
    },
    {
      "cell_type": "code",
      "metadata": {
        "id": "RcFo8bK7AqLD"
      },
      "source": [
        "vocab_sorted = sorted(vocab.items(), key = lambda x: x[1], reverse = True) # x[0]: key, x[1]: value"
      ],
      "execution_count": 112,
      "outputs": []
    },
    {
      "cell_type": "code",
      "metadata": {
        "colab": {
          "base_uri": "https://localhost:8080/"
        },
        "id": "lLPJOOc3A1TY",
        "outputId": "fa7a6594-2309-4de3-8b73-6973ba6294f8"
      },
      "source": [
        "word2idx = { }\n",
        "\n",
        "i = 0\n",
        "for (word, frequency) in vocab_sorted:\n",
        "  if frequency > 1:\n",
        "    i = i + 1\n",
        "    word2idx[word] = i\n",
        "print(word2idx)\n",
        "\n",
        "# 케라스 라벨 인코더는 알아서 이걸 해줌"
      ],
      "execution_count": 113,
      "outputs": [
        {
          "output_type": "stream",
          "text": [
            "{'barber': 1, 'secret': 2, 'huge': 3, 'kept': 4, 'person': 5, 'word': 6, 'keeping': 7}\n"
          ],
          "name": "stdout"
        }
      ]
    },
    {
      "cell_type": "code",
      "metadata": {
        "colab": {
          "base_uri": "https://localhost:8080/"
        },
        "id": "PdwaC0r3BTLD",
        "outputId": "1320789f-7272-4b7e-b2c3-0e32c0314462"
      },
      "source": [
        "vocab_size = 5\n",
        "word_frequency = [w for w,c in word2idx.items() if c >= vocab_size + 1 ] # 빈도수 높은 단어\n",
        "\n",
        "for w in word_frequency:\n",
        "  del word2idx[w]\n",
        "\n",
        "print(word2idx)\n",
        "\n",
        "# 마스킹 기법\n",
        "# 정수 인덱스랑 반대니까, 빈도수 많은거 상위 5개만 정하기 위한 코드\n",
        "# 빈도수 적은 거 제거하는 기법"
      ],
      "execution_count": 114,
      "outputs": [
        {
          "output_type": "stream",
          "text": [
            "{'barber': 1, 'secret': 2, 'huge': 3, 'kept': 4, 'person': 5}\n"
          ],
          "name": "stdout"
        }
      ]
    },
    {
      "cell_type": "code",
      "metadata": {
        "colab": {
          "base_uri": "https://localhost:8080/"
        },
        "id": "MWJRWVSMCh3j",
        "outputId": "2c123024-4f32-451c-d9aa-0fb6e10fa601"
      },
      "source": [
        "len(word2idx) + 1"
      ],
      "execution_count": 115,
      "outputs": [
        {
          "output_type": "execute_result",
          "data": {
            "text/plain": [
              "6"
            ]
          },
          "metadata": {
            "tags": []
          },
          "execution_count": 115
        }
      ]
    },
    {
      "cell_type": "code",
      "metadata": {
        "id": "tY5nKRgJD8AG"
      },
      "source": [
        "word2idx['oov'] = len(word2idx) + 1 # out of vocab "
      ],
      "execution_count": 116,
      "outputs": []
    },
    {
      "cell_type": "code",
      "metadata": {
        "colab": {
          "base_uri": "https://localhost:8080/"
        },
        "id": "dYAUXU6AEDNq",
        "outputId": "9d541056-c84c-4efe-8d75-e4ecbb7aa2b9"
      },
      "source": [
        "print(word2idx) # 딕셔너리"
      ],
      "execution_count": 117,
      "outputs": [
        {
          "output_type": "stream",
          "text": [
            "{'barber': 1, 'secret': 2, 'huge': 3, 'kept': 4, 'person': 5, 'oov': 6}\n"
          ],
          "name": "stdout"
        }
      ]
    },
    {
      "cell_type": "code",
      "metadata": {
        "colab": {
          "base_uri": "https://localhost:8080/"
        },
        "id": "nvBqGCkPEG7j",
        "outputId": "ef4fde79-b9ce-4509-b6b7-495b3a844b0f"
      },
      "source": [
        "sentences # 길이가 다 다르네?!"
      ],
      "execution_count": 118,
      "outputs": [
        {
          "output_type": "execute_result",
          "data": {
            "text/plain": [
              "[['barber', 'person'],\n",
              " ['barber', 'good', 'person'],\n",
              " ['barber', 'huge', 'person'],\n",
              " ['knew', 'secret'],\n",
              " ['secret', 'kept', 'huge', 'secret'],\n",
              " ['huge', 'secret'],\n",
              " ['barber', 'kept', 'word'],\n",
              " ['barber', 'kept', 'word'],\n",
              " ['barber', 'kept', 'secret'],\n",
              " ['keeping', 'keeping', 'huge', 'secret', 'driving', 'barber', 'crazy'],\n",
              " ['barber', 'went', 'huge', 'mountain']]"
            ]
          },
          "metadata": {
            "tags": []
          },
          "execution_count": 118
        }
      ]
    },
    {
      "cell_type": "code",
      "metadata": {
        "colab": {
          "base_uri": "https://localhost:8080/"
        },
        "id": "eGXIncmcEMrX",
        "outputId": "180ad254-8b35-4563-d376-c26874f98223"
      },
      "source": [
        "encoded = [ ]\n",
        "for s in sentences:\n",
        "  temp = []\n",
        "  for w in s: # 이중for문\n",
        "    try:\n",
        "      temp.append(word2idx[w])\n",
        "    except KeyError:\n",
        "      temp.append(word2idx['oov'])\n",
        "  encoded.append(temp)\n",
        "\n",
        "encoded"
      ],
      "execution_count": 119,
      "outputs": [
        {
          "output_type": "execute_result",
          "data": {
            "text/plain": [
              "[[1, 5],\n",
              " [1, 6, 5],\n",
              " [1, 3, 5],\n",
              " [6, 2],\n",
              " [2, 4, 3, 2],\n",
              " [3, 2],\n",
              " [1, 4, 6],\n",
              " [1, 4, 6],\n",
              " [1, 4, 2],\n",
              " [6, 6, 3, 2, 6, 1, 6],\n",
              " [1, 6, 3, 6]]"
            ]
          },
          "metadata": {
            "tags": []
          },
          "execution_count": 119
        }
      ]
    },
    {
      "cell_type": "code",
      "metadata": {
        "id": "sUiZ4gQ0Emor"
      },
      "source": [
        ""
      ],
      "execution_count": null,
      "outputs": []
    }
  ]
}