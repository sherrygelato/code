{
 "cells": [
  {
   "cell_type": "markdown",
   "id": "90744593",
   "metadata": {},
   "source": [
    "### 프로젝트 (1) load_digits : 손글씨를 분류해봅시다"
   ]
  },
  {
   "cell_type": "code",
   "execution_count": 1,
   "id": "ef2b57b4",
   "metadata": {},
   "outputs": [],
   "source": [
    "from sklearn.datasets import load_digits\n",
    "from sklearn.model_selection import train_test_split\n",
    "from sklearn.metrics import classification_report"
   ]
  },
  {
   "cell_type": "markdown",
   "id": "7a0b7127",
   "metadata": {},
   "source": [
    "### (2) 데이터 준비"
   ]
  },
  {
   "cell_type": "markdown",
   "id": "fe937673",
   "metadata": {},
   "source": [
    "#### - Feature Data 지정하기\n",
    "#### - Label Data 지정하기"
   ]
  },
  {
   "cell_type": "code",
   "execution_count": 2,
   "id": "5575cec6",
   "metadata": {},
   "outputs": [],
   "source": [
    "digits = load_digits()\n",
    "digits_data = digits.data # Feature Data 지정하기\n",
    "digits_label = digits.target # Label Data 지정하기"
   ]
  },
  {
   "cell_type": "code",
   "execution_count": 3,
   "id": "976b6167",
   "metadata": {},
   "outputs": [
    {
     "name": "stdout",
     "output_type": "stream",
     "text": [
      "<class 'list'>\n"
     ]
    }
   ],
   "source": [
    "print(type(dir(digits))) # digits가 가지고 있는 변수와 메소드 확인"
   ]
  },
  {
   "cell_type": "code",
   "execution_count": 4,
   "id": "5b76450e",
   "metadata": {},
   "outputs": [
    {
     "data": {
      "text/plain": [
       "dict_keys(['data', 'target', 'frame', 'feature_names', 'target_names', 'images', 'DESCR'])"
      ]
     },
     "execution_count": 4,
     "metadata": {},
     "output_type": "execute_result"
    }
   ],
   "source": [
    "digits.keys() #타입은 무엇인가"
   ]
  },
  {
   "cell_type": "code",
   "execution_count": 5,
   "id": "3c55aa37",
   "metadata": {},
   "outputs": [
    {
     "name": "stdout",
     "output_type": "stream",
     "text": [
      "(1797, 64)\n"
     ]
    }
   ],
   "source": [
    "print(digits_data.shape) "
   ]
  },
  {
   "cell_type": "markdown",
   "id": "97299df2",
   "metadata": {},
   "source": [
    "#### - Target Names 출력해 보기"
   ]
  },
  {
   "cell_type": "code",
   "execution_count": 7,
   "id": "d237d98c",
   "metadata": {},
   "outputs": [
    {
     "data": {
      "text/plain": [
       "array([0, 1, 2, 3, 4, 5, 6, 7, 8, 9])"
      ]
     },
     "execution_count": 7,
     "metadata": {},
     "output_type": "execute_result"
    }
   ],
   "source": [
    "digits.target_names # Target Names 출력해 보기"
   ]
  },
  {
   "cell_type": "markdown",
   "id": "a8438677",
   "metadata": {},
   "source": [
    "#### - 데이터 Describe 해 보기"
   ]
  },
  {
   "cell_type": "code",
   "execution_count": 8,
   "id": "33b3a574",
   "metadata": {},
   "outputs": [
    {
     "name": "stdout",
     "output_type": "stream",
     "text": [
      ".. _digits_dataset:\n",
      "\n",
      "Optical recognition of handwritten digits dataset\n",
      "--------------------------------------------------\n",
      "\n",
      "**Data Set Characteristics:**\n",
      "\n",
      "    :Number of Instances: 1797\n",
      "    :Number of Attributes: 64\n",
      "    :Attribute Information: 8x8 image of integer pixels in the range 0..16.\n",
      "    :Missing Attribute Values: None\n",
      "    :Creator: E. Alpaydin (alpaydin '@' boun.edu.tr)\n",
      "    :Date: July; 1998\n",
      "\n",
      "This is a copy of the test set of the UCI ML hand-written digits datasets\n",
      "https://archive.ics.uci.edu/ml/datasets/Optical+Recognition+of+Handwritten+Digits\n",
      "\n",
      "The data set contains images of hand-written digits: 10 classes where\n",
      "each class refers to a digit.\n",
      "\n",
      "Preprocessing programs made available by NIST were used to extract\n",
      "normalized bitmaps of handwritten digits from a preprinted form. From a\n",
      "total of 43 people, 30 contributed to the training set and different 13\n",
      "to the test set. 32x32 bitmaps are divided into nonoverlapping blocks of\n",
      "4x4 and the number of on pixels are counted in each block. This generates\n",
      "an input matrix of 8x8 where each element is an integer in the range\n",
      "0..16. This reduces dimensionality and gives invariance to small\n",
      "distortions.\n",
      "\n",
      "For info on NIST preprocessing routines, see M. D. Garris, J. L. Blue, G.\n",
      "T. Candela, D. L. Dimmick, J. Geist, P. J. Grother, S. A. Janet, and C.\n",
      "L. Wilson, NIST Form-Based Handprint Recognition System, NISTIR 5469,\n",
      "1994.\n",
      "\n",
      ".. topic:: References\n",
      "\n",
      "  - C. Kaynak (1995) Methods of Combining Multiple Classifiers and Their\n",
      "    Applications to Handwritten Digit Recognition, MSc Thesis, Institute of\n",
      "    Graduate Studies in Science and Engineering, Bogazici University.\n",
      "  - E. Alpaydin, C. Kaynak (1998) Cascading Classifiers, Kybernetika.\n",
      "  - Ken Tang and Ponnuthurai N. Suganthan and Xi Yao and A. Kai Qin.\n",
      "    Linear dimensionalityreduction using relevance weighted LDA. School of\n",
      "    Electrical and Electronic Engineering Nanyang Technological University.\n",
      "    2005.\n",
      "  - Claudio Gentile. A New Approximate Maximal Margin Classification\n",
      "    Algorithm. NIPS. 2000.\n",
      "\n"
     ]
    }
   ],
   "source": [
    "print(digits.DESCR) # 데이터 Describe 해 보기"
   ]
  },
  {
   "cell_type": "markdown",
   "id": "4c82eea3",
   "metadata": {},
   "source": [
    "### (4) train, test 데이터 분리"
   ]
  },
  {
   "cell_type": "code",
   "execution_count": 11,
   "id": "1d70257c",
   "metadata": {},
   "outputs": [
    {
     "name": "stdout",
     "output_type": "stream",
     "text": [
      "X_train 개수:  1437 , X_test 개수:  360\n"
     ]
    }
   ],
   "source": [
    "X_train, X_test, y_train, y_test = train_test_split(digits_data,\n",
    "                                                    digits_label,\n",
    "                                                    test_size=0.2,\n",
    "                                                    random_state=7) \n",
    "\n",
    "print('X_train 개수: ', len(X_train), ', X_test 개수: ', len(X_test))"
   ]
  },
  {
   "cell_type": "markdown",
   "id": "74a58272",
   "metadata": {},
   "source": [
    "### (5) 다양한 모델로 학습시켜보기"
   ]
  },
  {
   "cell_type": "markdown",
   "id": "cf63683b",
   "metadata": {},
   "source": [
    "#### Decision Tree 사용해 보기"
   ]
  },
  {
   "cell_type": "code",
   "execution_count": 22,
   "id": "66080201",
   "metadata": {},
   "outputs": [
    {
     "name": "stdout",
     "output_type": "stream",
     "text": [
      "              precision    recall  f1-score   support\n",
      "\n",
      "           0       0.97      0.94      0.96        36\n",
      "           1       0.67      0.86      0.76        36\n",
      "           2       0.79      0.79      0.79        33\n",
      "           3       0.91      0.78      0.84        40\n",
      "           4       0.76      0.85      0.80        40\n",
      "           5       0.94      0.86      0.90        37\n",
      "           6       0.94      0.86      0.90        35\n",
      "           7       0.94      0.76      0.84        38\n",
      "           8       0.74      0.81      0.77        31\n",
      "           9       0.81      0.85      0.83        34\n",
      "\n",
      "    accuracy                           0.84       360\n",
      "   macro avg       0.85      0.84      0.84       360\n",
      "weighted avg       0.85      0.84      0.84       360\n",
      "\n"
     ]
    }
   ],
   "source": [
    "from sklearn.tree import DecisionTreeClassifier\n",
    "\n",
    "decision_tree = DecisionTreeClassifier(random_state=32) #의사결정나무 모델 생성\n",
    "decision_tree.fit(X_train, y_train) #모델 학습\n",
    "\n",
    "y_pred1 = decision_tree.predict(X_test) #예측값\n",
    "\n",
    "print(classification_report(y_test, y_pred1))"
   ]
  },
  {
   "cell_type": "markdown",
   "id": "7fbb1319",
   "metadata": {},
   "source": [
    "#### Random Forest 사용해 보기"
   ]
  },
  {
   "cell_type": "code",
   "execution_count": 23,
   "id": "868c6d94",
   "metadata": {},
   "outputs": [
    {
     "name": "stdout",
     "output_type": "stream",
     "text": [
      "              precision    recall  f1-score   support\n",
      "\n",
      "           0       1.00      1.00      1.00        36\n",
      "           1       0.97      1.00      0.99        36\n",
      "           2       1.00      1.00      1.00        33\n",
      "           3       1.00      0.95      0.97        40\n",
      "           4       0.98      1.00      0.99        40\n",
      "           5       0.95      0.97      0.96        37\n",
      "           6       1.00      0.94      0.97        35\n",
      "           7       1.00      0.95      0.97        38\n",
      "           8       0.88      0.94      0.91        31\n",
      "           9       0.91      0.94      0.93        34\n",
      "\n",
      "    accuracy                           0.97       360\n",
      "   macro avg       0.97      0.97      0.97       360\n",
      "weighted avg       0.97      0.97      0.97       360\n",
      "\n"
     ]
    }
   ],
   "source": [
    "from sklearn.ensemble import RandomForestClassifier\n",
    "\n",
    "X_train, X_test, y_train, y_test = train_test_split(digits_data,\n",
    "                                                    digits_label,\n",
    "                                                    test_size=0.2,\n",
    "                                                    random_state=25)\n",
    "\n",
    "random_forest = RandomForestClassifier(random_state=32)\n",
    "random_forest.fit(X_train, y_train)\n",
    "\n",
    "y_pred2 = random_forest.predict(X_test)\n",
    "\n",
    "print(classification_report(y_test, y_pred2))"
   ]
  },
  {
   "cell_type": "markdown",
   "id": "bfa7ceaf",
   "metadata": {},
   "source": [
    "#### SVM 사용해 보기"
   ]
  },
  {
   "cell_type": "code",
   "execution_count": 24,
   "id": "e411bdf9",
   "metadata": {},
   "outputs": [
    {
     "name": "stdout",
     "output_type": "stream",
     "text": [
      "classifier\n",
      "              precision    recall  f1-score   support\n",
      "\n",
      "           0       1.00      1.00      1.00        36\n",
      "           1       1.00      1.00      1.00        36\n",
      "           2       0.97      1.00      0.99        33\n",
      "           3       1.00      0.97      0.99        40\n",
      "           4       1.00      1.00      1.00        40\n",
      "           5       1.00      0.97      0.99        37\n",
      "           6       1.00      1.00      1.00        35\n",
      "           7       1.00      0.97      0.99        38\n",
      "           8       0.94      1.00      0.97        31\n",
      "           9       0.94      0.94      0.94        34\n",
      "\n",
      "    accuracy                           0.99       360\n",
      "   macro avg       0.99      0.99      0.99       360\n",
      "weighted avg       0.99      0.99      0.99       360\n",
      "\n"
     ]
    }
   ],
   "source": [
    "from sklearn import svm\n",
    "svm_model = svm.SVC()\n",
    "print(svm_model._estimator_type)\n",
    "\n",
    "# 학습시키고\n",
    "svm_model.fit(X_train, y_train)\n",
    "\n",
    "# 결과 확인\n",
    "y_pred3 = svm_model.predict(X_test)\n",
    "\n",
    "print(classification_report(y_test, y_pred3))"
   ]
  },
  {
   "cell_type": "markdown",
   "id": "c8dd2e03",
   "metadata": {},
   "source": [
    "#### SGD Classifier 사용해 보기"
   ]
  },
  {
   "cell_type": "code",
   "execution_count": 25,
   "id": "2849af89",
   "metadata": {},
   "outputs": [
    {
     "name": "stdout",
     "output_type": "stream",
     "text": [
      "classifier\n",
      "              precision    recall  f1-score   support\n",
      "\n",
      "           0       1.00      1.00      1.00        36\n",
      "           1       0.97      0.97      0.97        36\n",
      "           2       1.00      1.00      1.00        33\n",
      "           3       1.00      0.88      0.93        40\n",
      "           4       0.98      1.00      0.99        40\n",
      "           5       0.97      1.00      0.99        37\n",
      "           6       1.00      0.94      0.97        35\n",
      "           7       0.97      0.95      0.96        38\n",
      "           8       0.81      0.94      0.87        31\n",
      "           9       0.94      0.97      0.96        34\n",
      "\n",
      "    accuracy                           0.96       360\n",
      "   macro avg       0.96      0.96      0.96       360\n",
      "weighted avg       0.97      0.96      0.96       360\n",
      "\n"
     ]
    }
   ],
   "source": [
    "from sklearn.linear_model import SGDClassifier\n",
    "\n",
    "sgd_model = SGDClassifier()\n",
    "print(sgd_model._estimator_type)\n",
    "\n",
    "sgd_model.fit(X_train, y_train)\n",
    "\n",
    "y_pred4 = sgd_model.predict(X_test)\n",
    "\n",
    "print(classification_report(y_test, y_pred4))"
   ]
  },
  {
   "cell_type": "markdown",
   "id": "cb8b2c24",
   "metadata": {},
   "source": [
    "#### Logistic Regression 사용해 보기"
   ]
  },
  {
   "cell_type": "code",
   "execution_count": 26,
   "id": "47d105b8",
   "metadata": {},
   "outputs": [
    {
     "name": "stdout",
     "output_type": "stream",
     "text": [
      "classifier\n",
      "              precision    recall  f1-score   support\n",
      "\n",
      "           0       1.00      1.00      1.00        36\n",
      "           1       0.95      1.00      0.97        36\n",
      "           2       1.00      0.97      0.98        33\n",
      "           3       1.00      0.97      0.99        40\n",
      "           4       1.00      0.97      0.99        40\n",
      "           5       0.95      0.95      0.95        37\n",
      "           6       1.00      0.94      0.97        35\n",
      "           7       1.00      0.87      0.93        38\n",
      "           8       0.88      0.97      0.92        31\n",
      "           9       0.85      0.97      0.90        34\n",
      "\n",
      "    accuracy                           0.96       360\n",
      "   macro avg       0.96      0.96      0.96       360\n",
      "weighted avg       0.96      0.96      0.96       360\n",
      "\n"
     ]
    },
    {
     "name": "stderr",
     "output_type": "stream",
     "text": [
      "C:\\ProgramData\\Anaconda3\\envs\\py3_7_6\\lib\\site-packages\\sklearn\\linear_model\\_logistic.py:765: ConvergenceWarning: lbfgs failed to converge (status=1):\n",
      "STOP: TOTAL NO. of ITERATIONS REACHED LIMIT.\n",
      "\n",
      "Increase the number of iterations (max_iter) or scale the data as shown in:\n",
      "    https://scikit-learn.org/stable/modules/preprocessing.html\n",
      "Please also refer to the documentation for alternative solver options:\n",
      "    https://scikit-learn.org/stable/modules/linear_model.html#logistic-regression\n",
      "  extra_warning_msg=_LOGISTIC_SOLVER_CONVERGENCE_MSG)\n"
     ]
    }
   ],
   "source": [
    "from sklearn.linear_model import LogisticRegression\n",
    "logistic_model = LogisticRegression()\n",
    "print(logistic_model._estimator_type)\n",
    "\n",
    "logistic_model.fit(X_train, y_train)\n",
    "\n",
    "y_pred5 = logistic_model.predict(X_test)\n",
    "\n",
    "print(classification_report(y_test, y_pred5))"
   ]
  },
  {
   "cell_type": "markdown",
   "id": "148ec1ee",
   "metadata": {},
   "source": [
    "### (6) 모델을 평가해 보기\n",
    "\n",
    "- 학습된 모델들의 테스트데이터 예측 결과를 어떻게 해석해야 할까요? 모델의 성능을 평가하는 지표로는 무엇이 좋을까요?\n",
    "- sklearn.metrics 에서 제공하는 평가지표 중 적절한 것을 선택해 보세요. 선택하신 이유도 설명해 주세요."
   ]
  },
  {
   "cell_type": "markdown",
   "id": "9612a2fd",
   "metadata": {},
   "source": [
    "- 다중 클래스(10개) 분류이며 전체적인 성능 비교가 중요하므로 F1-score의 weighted avg로 평가\n",
    "- 따라서 SVM이 0.99의 수치로 가장 성능이 좋다. 클래스가 10개이다보니 차원을 늘려 학습한 SVM이 효과적"
   ]
  },
  {
   "cell_type": "markdown",
   "id": "7e1985f2",
   "metadata": {},
   "source": [
    "--- seYi"
   ]
  }
 ],
 "metadata": {
  "kernelspec": {
   "display_name": "python3_7_6",
   "language": "python",
   "name": "py3_7_6"
  },
  "language_info": {
   "codemirror_mode": {
    "name": "ipython",
    "version": 3
   },
   "file_extension": ".py",
   "mimetype": "text/x-python",
   "name": "python",
   "nbconvert_exporter": "python",
   "pygments_lexer": "ipython3",
   "version": "3.7.6"
  }
 },
 "nbformat": 4,
 "nbformat_minor": 5
}
