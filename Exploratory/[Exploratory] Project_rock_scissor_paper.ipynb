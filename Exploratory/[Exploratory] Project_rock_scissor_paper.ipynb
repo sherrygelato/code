{
 "cells": [
  {
   "cell_type": "markdown",
   "id": "cef5dbb1",
   "metadata": {},
   "source": [
    "# [Exloratory] 인공지능과 가위바위보 하기"
   ]
  },
  {
   "cell_type": "markdown",
   "id": "ac1a5435",
   "metadata": {},
   "source": [
    "## 딥러닝 기술\n",
    "__데이터 준비 > 딥러닝 네트워크 설계 > 학습 > 테스트(평가)__"
   ]
  },
  {
   "cell_type": "markdown",
   "id": "9fb40f89",
   "metadata": {},
   "source": [
    "# 1. 데이터 준비\n",
    "## 1) MNIST 숫자 손글씨 Dataset 불러들이기\n",
    "- TensorFlow의 표준 API tf.keras의 Sequential API활용\n",
    "- TensorFlow: 머신러닝 라이브러리 중 하나"
   ]
  },
  {
   "cell_type": "code",
   "execution_count": 1,
   "id": "c941b282",
   "metadata": {},
   "outputs": [
    {
     "name": "stdout",
     "output_type": "stream",
     "text": [
      "2.0.0\n",
      "\n",
      "60000\n"
     ]
    }
   ],
   "source": [
    "import tensorflow as tf\n",
    "from tensorflow import keras\n",
    "\n",
    "import numpy as np\n",
    "import matplotlib.pyplot as plt\n",
    "\n",
    "print(tf.__version__) # Tensorflow 버전\n",
    "print()\n",
    "\n",
    "mnist = keras.datasets.mnist\n",
    "\n",
    "# MNIST 데이터를 로드. 다운로드하지 않았다면 다운로드까지 진행\n",
    "(x_train, y_train), (x_test, y_test) = mnist.load_data()\n",
    "\n",
    "print(len(x_train)) # x_train 배열의 크기"
   ]
  },
  {
   "cell_type": "markdown",
   "id": "2f466185",
   "metadata": {},
   "source": [
    "숫자 손글씨 데이터베이스인 MNIST 데이터셋을 출력해왔다.\n",
    "\n",
    "- MNIST데이터셋(by.Yann Lecun 교수): http://yann.lecun.com/exdb/mnist/"
   ]
  },
  {
   "cell_type": "markdown",
   "id": "b212d012",
   "metadata": {},
   "source": [
    "##### 숫자 손글씨 이미지의 크기는 무엇일까? \"nxn\"(n은 정수)의 형태 로 답변\n",
    "- 28x28"
   ]
  },
  {
   "cell_type": "markdown",
   "id": "b0a4f1ac",
   "metadata": {},
   "source": [
    "##### MNIST dataset에는 총 몇 장의 손글씨 이미지가 있을까?\n",
    "- 학습 이미지: 60,000장\n",
    "- 테스트 이미지가 10,000장\n",
    "- 총 70,000장"
   ]
  },
  {
   "cell_type": "markdown",
   "id": "cf64ad89",
   "metadata": {},
   "source": [
    "##### MNIST 데이터셋의 X항목(위 코드에서는 x_train, x_test)은 이미지 데이터를 담은 행렬(matrix)임"
   ]
  },
  {
   "cell_type": "code",
   "execution_count": 2,
   "id": "5d32bbb0",
   "metadata": {},
   "outputs": [
    {
     "data": {
      "image/png": "[encoded data removed]",
      "text/plain": [
       "<Figure size 432x288 with 1 Axes>"
      ]
     },
     "metadata": {
      "needs_background": "light"
     },
     "output_type": "display_data"
    }
   ],
   "source": [
    "plt.imshow(x_train[1],cmap=plt.cm.binary)\n",
    "plt.show()"
   ]
  },
  {
   "cell_type": "markdown",
   "id": "6ca4e7f0",
   "metadata": {},
   "source": [
    "#### 주의할 점:\n",
    "-  위의 x_train[1]에 담긴 이미지는 x_train 행렬의 1번째가 아니라 2번째 이미지라는 점이다.\n",
    "- 1번째 이미지는 x_train[0]에 담겨 있다."
   ]
  },
  {
   "cell_type": "markdown",
   "id": "f36126d3",
   "metadata": {},
   "source": [
    "##### Y항목에는 어떤 값이 들어 있을까? \n",
    "다음은, y_train 행렬의 2번째 값이다."
   ]
  },
  {
   "cell_type": "code",
   "execution_count": 3,
   "id": "3d1db91b",
   "metadata": {},
   "outputs": [
    {
     "name": "stdout",
     "output_type": "stream",
     "text": [
      "0\n"
     ]
    }
   ],
   "source": [
    "print(y_train[1])"
   ]
  },
  {
   "cell_type": "markdown",
   "id": "fa07430a",
   "metadata": {},
   "source": [
    "Y항목(위 코드의 y_train, y_test)에는 X항목에 들어있는 이미지에 대응하는 실제 숫자값이 담겨 있는 것을 확인하실 수 있다."
   ]
  },
  {
   "cell_type": "markdown",
   "id": "830396a7",
   "metadata": {},
   "source": [
    "#### 다른 이미지 출력하기"
   ]
  },
  {
   "cell_type": "code",
   "execution_count": 4,
   "id": "61d43aad",
   "metadata": {},
   "outputs": [
    {
     "data": {
      "image/png": "[encoded data removed]",
      "text/plain": [
       "<Figure size 432x288 with 1 Axes>"
      ]
     },
     "metadata": {
      "needs_background": "light"
     },
     "output_type": "display_data"
    },
    {
     "name": "stdout",
     "output_type": "stream",
     "text": [
      "10001 번째 이미지의 숫자는 바로  3 입니다.\n"
     ]
    }
   ],
   "source": [
    "# index에 0에서 59999 사이 숫자를 지정해 보자.\n",
    "index=10000\n",
    "plt.imshow(x_train[index],cmap=plt.cm.binary)\n",
    "plt.show()\n",
    "print( (index+1), '번째 이미지의 숫자는 바로 ', y_train[index], '입니다.')"
   ]
  },
  {
   "cell_type": "markdown",
   "id": "5fcf4b15",
   "metadata": {},
   "source": [
    "#### 참고: Matplotlib \n",
    "- 파이썬에서 제공하는 시각화(Visualization) 패키지인 Matplotlib은 차트(chart), 플롯(plot) 등 다양한 형태로 데이터를 시각화할 수 있는 강력한 기능을 제공한다.\n",
    "- 어떤 유용한 기능이 제공되는지 Matplotlib 공식홈페이지에서 제공하는 다양한 활용 예제들을 통해 직접 확인해 볼 수 있다.\n",
    "- 주소: https://matplotlib.org/2.0.2/gallery.html"
   ]
  },
  {
   "cell_type": "markdown",
   "id": "823f3fa9",
   "metadata": {},
   "source": [
    "### 학습용 데이터와 시험용 데이터"
   ]
  },
  {
   "cell_type": "code",
   "execution_count": 5,
   "id": "48014d53",
   "metadata": {},
   "outputs": [],
   "source": [
    "(x_train, y_train), (x_test, y_test) = mnist.load_data()"
   ]
  },
  {
   "cell_type": "markdown",
   "id": "94a0bde4",
   "metadata": {},
   "source": [
    "- mnist.load() 함수를 통해 학습용 데이터 (x_train, y_train)와 시험용 데이터 (x_test, y_test)를 나누어서 받아들이는 것을 볼 수 있다.\n",
    "\n",
    "- 우리가 만든 숫자 손글씨 분류기는 학습용 데이터 (x_train, y_train)만을 가지고 학습시킨다. \n",
    "\n",
    "- 이 손글씨 분류기가 얼마나 좋은 성능을 가지고 있는지 확인해보고 싶을 때, 시험용 데이터 (x_test, y_test)로 테스트 할 수 있다."
   ]
  },
  {
   "cell_type": "markdown",
   "id": "869df209",
   "metadata": {},
   "source": [
    "MNIST 데이터셋은 약 500명의 사용자가 작성한 숫자 이미지를 가지고 있다. 그 중 250여명은 학습용 데이터로, 다른 250여명의 데이터가 시험용 데이터로 이용된다."
   ]
  },
  {
   "cell_type": "markdown",
   "id": "57135640",
   "metadata": {},
   "source": [
    "##### [학습용 데이터(training set)와 시험용 데이터(test set)의 예]\n",
    "- 학습용 데이터 몇 장일까?"
   ]
  },
  {
   "cell_type": "code",
   "execution_count": 6,
   "id": "6bcc231d",
   "metadata": {},
   "outputs": [
    {
     "name": "stdout",
     "output_type": "stream",
     "text": [
      "(60000, 28, 28)\n"
     ]
    }
   ],
   "source": [
    "print(x_train.shape)"
   ]
  },
  {
   "cell_type": "markdown",
   "id": "f67e2349",
   "metadata": {},
   "source": [
    "28x28 크기의 숫자 이미지가 6만장이 있다는 뜻이다."
   ]
  },
  {
   "cell_type": "markdown",
   "id": "87c242bb",
   "metadata": {},
   "source": [
    "- 시험용 데이터 몇 장일까?"
   ]
  },
  {
   "cell_type": "code",
   "execution_count": 7,
   "id": "43de878a",
   "metadata": {},
   "outputs": [
    {
     "name": "stdout",
     "output_type": "stream",
     "text": [
      "(10000, 28, 28)\n"
     ]
    }
   ],
   "source": [
    "print(x_test.shape)"
   ]
  },
  {
   "cell_type": "code",
   "execution_count": 8,
   "id": "6f888df4",
   "metadata": {},
   "outputs": [
    {
     "name": "stdout",
     "output_type": "stream",
     "text": [
      "(60000,)\n"
     ]
    }
   ],
   "source": [
    "print(y_train.shape)"
   ]
  },
  {
   "cell_type": "code",
   "execution_count": 9,
   "id": "0d676b14",
   "metadata": {},
   "outputs": [
    {
     "name": "stdout",
     "output_type": "stream",
     "text": [
      "(10000,)\n"
     ]
    }
   ],
   "source": [
    "print(y_test.shape)"
   ]
  },
  {
   "cell_type": "markdown",
   "id": "a081266e",
   "metadata": {},
   "source": [
    "만장의 시험용 데이터가 저장되어 있다."
   ]
  },
  {
   "cell_type": "markdown",
   "id": "d67de8ad",
   "metadata": {},
   "source": [
    "##### 학습용 데이터, 검증용 데이터 그리고 시험용 데이터의 의미와 차이점\n",
    "- 주소: https://tykimos.github.io/2017/03/25/Dataset_and_Fit_Talk/"
   ]
  },
  {
   "cell_type": "markdown",
   "id": "963bb03d",
   "metadata": {},
   "source": [
    "## 2) 언제 검증용 데이터(validataion set)을 사용하나?\n",
    "- 머신러닝 학습 과정이 정상적으로 진행되고 있는가 여부\n",
    "- 오버피팅이 발생하고 있지는 않는지 여부\n",
    "- 학습을 중단해도 되는지 등의 여부를 확인하고 싶을 때"
   ]
  },
  {
   "cell_type": "markdown",
   "id": "3ac92cbd",
   "metadata": {},
   "source": [
    "## 3) 교차 검증(cross validation) 기법\n",
    "- 고정된 train set과 test set으로 평가를 하고, 반복적으로 모델을 튜닝하다보면 test set에만 과적합 되어버리는 결과가 생긴다.\n",
    "- 이를 해결하고자 하는 것이 교차 검증 기법이다.\n",
    "- 교차 검증은 데이터의 모든 부분을 사용하여 모델을 검증하고, test set을 하나로 고정하지 않는다.\n",
    "\n",
    "- 참고1: https://m.blog.naver.com/ckdgus1433/221599517834\n",
    "- 참고2: https://bkshin.tistory.com/entry/%EB%A8%B8%EC%8B%A0%EB%9F%AC%EB%8B%9D-10-%EA%B5%90%EC%B0%A8%EA%B2%80%EC%A6%9D%EA%B3%BC-%ED%8F%89%EA%B0%80-Cross-Validation-and-Evaluation"
   ]
  },
  {
   "cell_type": "markdown",
   "id": "7a7e3189",
   "metadata": {},
   "source": [
    "## 4) 데이터 전처리"
   ]
  },
  {
   "cell_type": "markdown",
   "id": "56311f7c",
   "metadata": {},
   "source": [
    "- 숫자 손글씨 이미지의 실제 픽셀 값은 0~255 사이의 값을 갖는다."
   ]
  },
  {
   "cell_type": "code",
   "execution_count": 10,
   "id": "d493deee",
   "metadata": {},
   "outputs": [
    {
     "name": "stdout",
     "output_type": "stream",
     "text": [
      "최소값: 0 최대값: 255\n"
     ]
    }
   ],
   "source": [
    "print('최소값:', np.min(x_train), '최대값:', np.max(x_train))"
   ]
  },
  {
   "cell_type": "markdown",
   "id": "4bd0759b",
   "metadata": {},
   "source": [
    "- 인공지능 모델을 훈련시키고 사용할 때, 일반적으로 입력은 0~1 사이의 값으로 정규화 시켜준다. \n",
    "- MNIST 데이터는 각 픽셀의 값이 0~255 사이 범위에 있으므로 데이터들을 255.0으로 나누어주면 된다."
   ]
  },
  {
   "cell_type": "markdown",
   "id": "024743c0",
   "metadata": {},
   "source": [
    "##### 최소값이 0, 최대값이 1에 근접하도록 나오는지 확인해보자."
   ]
  },
  {
   "cell_type": "code",
   "execution_count": 11,
   "id": "ae00b8b4",
   "metadata": {},
   "outputs": [
    {
     "name": "stdout",
     "output_type": "stream",
     "text": [
      "최소값: 0.0 최대값: 1.0\n"
     ]
    }
   ],
   "source": [
    "x_train_norm, x_test_norm = x_train / 255.0, x_test / 255.0\n",
    "\n",
    "print('최소값:', np.min(x_train_norm), '최대값:', np.max(x_train_norm))"
   ]
  },
  {
   "cell_type": "markdown",
   "id": "22c35968",
   "metadata": {},
   "source": [
    "* 튜플 형식은 괄호생략이 가능하다. (x, y) = (x/255, y/255)"
   ]
  },
  {
   "cell_type": "markdown",
   "id": "ca17a46d",
   "metadata": {},
   "source": [
    "# 3. 딥러닝 네트워크 설계\n",
    "- 목적: 빠르게 다양한 응용 예들을 접해보고, 주진 코드를 다른 데이터에 활용 해본다.\n",
    "## Sequenential Model 사용하기\n",
    "- 데이터가 모두 준비가 되었다면 \"딥러닝 네트워크\"를 만들어야 한다. 텐서플로우 케라스(tf.keras)에서 Sequential API라는 방법을 사용할 것인데, Sequential API는 개발의 자유도는 많이 떨어지나 간단하게 딥러닝 모델을 만들어 낼 수 있는 방법이다.\n",
    "\n",
    "- 케라스에서 모델을 만드는 방법은 Sequential API 외에도 Functilanal API를 이용하는 방법, 밑바닥부터 직접 코딩하는 방법 등이 있다."
   ]
  },
  {
   "cell_type": "markdown",
   "id": "37e214c4",
   "metadata": {},
   "source": [
    "##### [tf.keras의 Sequential API를 이용하여  LeNet이라는 딥러닝 네트워크 설계한 예]"
   ]
  },
  {
   "cell_type": "code",
   "execution_count": 12,
   "id": "e27331bb",
   "metadata": {},
   "outputs": [
    {
     "name": "stdout",
     "output_type": "stream",
     "text": [
      "Model에 추가된 Layer 개수:  7\n"
     ]
    }
   ],
   "source": [
    "model=keras.models.Sequential()\n",
    "\n",
    "model.add(keras.layers.Conv2D(16, (3,3), activation='relu', input_shape=(28,28,1)))\n",
    "\n",
    "model.add(keras.layers.MaxPool2D(2,2))\n",
    "\n",
    "model.add(keras.layers.Conv2D(32, (3,3), activation='relu'))\n",
    "\n",
    "model.add(keras.layers.MaxPooling2D((2,2)))\n",
    "\n",
    "model.add(keras.layers.Flatten())\n",
    "\n",
    "model.add(keras.layers.Dense(32, activation='relu'))\n",
    "\n",
    "model.add(keras.layers.Dense(10, activation='softmax'))\n",
    "\n",
    "print('Model에 추가된 Layer 개수: ', len(model.layers))"
   ]
  },
  {
   "cell_type": "markdown",
   "id": "1a5407b0",
   "metadata": {},
   "source": [
    "이런 간단한 코드만으로도 숫자 손글씨를 인식해 낼 수 있다면, IoT 농장에서 귤이 잘 익었는지 아닌지 판단한다거나, 사진 속 인물이 웃고 있는지 무표정한지 파악을 하는 것도 가능할 것!"
   ]
  },
  {
   "cell_type": "markdown",
   "id": "1499bfd7",
   "metadata": {},
   "source": [
    "## 위 코드의 의미\n",
    "- Conv2D: 첫번째 인자는 사용하는 이미지 특징의 개수. 여기서는 16장과 32장을 사용했다. \n",
    "   - 우리의 숫자 이미지는 단순한 형태의 이미지다. 만약 강아지 얼굴 사진이 입력 이미지라면 훨씬 디테일하고 복잡한 영상일 것. 그럴 경우에는 이 특징 숫자를 늘려주는 것이 좋다.\n",
    "   - 16, 32: 얼마나 다양한 이미지의 특징을 살펴볼 것인가? 입력 이미지가 다양할수록 더 많은 특징을 고려할 수 있다.\n",
    "   \n",
    "   \n",
    "- Dense: 첫번째 인자는 분류기에 사용되는 뉴런의 숫자다. 이 값이 클수록 보다 복잡한 분류기를 만들 수 있다. 10개의 숫자가 아닌 알파벳으로 구분하고 싶다면 대문자 26개, 소문자 26로 총 52개의 클래스를 분류해낸다. 그래서 32보다 큰 64, 128 등을 고려해 볼 수 있다.\n",
    "   - 32: 분류기 알고리즘을 얼마나 복잡하게 할 것인가? 복잡한 문제일수록 이 수를 늘려보자\n",
    "   \n",
    "   \n",
    "- 마지막 Dense 레이어의 뉴런 숫자는 결과적으로 분류해 내야 하는 클래스 수로 지정하면 된다. 숫자 인식기에서는 10, 알파벳 인식기에서는 52가 된다.\n",
    "   - 10: 최종 분류기의 class 수. 여기서는 0-9까지 총 10개의 class를 구분하므로 10.\n",
    "\n",
    "\n",
    "- input_shape는 입력 이미지의 형태다."
   ]
  },
  {
   "cell_type": "markdown",
   "id": "5241622a",
   "metadata": {},
   "source": [
    "### 딥러닝 네트워크 모델을 확인한다면?"
   ]
  },
  {
   "cell_type": "code",
   "execution_count": 13,
   "id": "4719e2ce",
   "metadata": {},
   "outputs": [
    {
     "name": "stdout",
     "output_type": "stream",
     "text": [
      "Model: \"sequential\"\n",
      "_________________________________________________________________\n",
      "Layer (type)                 Output Shape              Param #   \n",
      "=================================================================\n",
      "conv2d (Conv2D)              (None, 26, 26, 16)        160       \n",
      "_________________________________________________________________\n",
      "max_pooling2d (MaxPooling2D) (None, 13, 13, 16)        0         \n",
      "_________________________________________________________________\n",
      "conv2d_1 (Conv2D)            (None, 11, 11, 32)        4640      \n",
      "_________________________________________________________________\n",
      "max_pooling2d_1 (MaxPooling2 (None, 5, 5, 32)          0         \n",
      "_________________________________________________________________\n",
      "flatten (Flatten)            (None, 800)               0         \n",
      "_________________________________________________________________\n",
      "dense (Dense)                (None, 32)                25632     \n",
      "_________________________________________________________________\n",
      "dense_1 (Dense)              (None, 10)                330       \n",
      "=================================================================\n",
      "Total params: 30,762\n",
      "Trainable params: 30,762\n",
      "Non-trainable params: 0\n",
      "_________________________________________________________________\n"
     ]
    }
   ],
   "source": [
    "model.summary()"
   ]
  },
  {
   "cell_type": "markdown",
   "id": "bac3823a",
   "metadata": {},
   "source": [
    "# 4. 딥러닝 네트워크 학습시키기 \n",
    "- 우리가 만든 네트워크 입력:\\\n",
    "(데이터 갯수, 이미지 크기 x, 이미지 크기 y, 채널수)\n",
    "     - input_shape=(28,28,1)로 지정했었음\n",
    "\n",
    "\n",
    "- 그런데 print(x_train.shape)를 해보면 (60000, 28, 28)로 채널수에 대한 정보가 없다. 따라서 (60000, 28, 28, 1)로 만들어 주어야 함.\n",
    "     - 여기서 채널수 1은 흑백 이미지를 의미, 컬러라면 R, G, B 세 가지 값이 있기에 3이 됨.\n",
    "     \n",
    "     \n",
    "- __Keyword: fit(), epochs, shape, reshape__"
   ]
  },
  {
   "cell_type": "code",
   "execution_count": 14,
   "id": "1c8e8c14",
   "metadata": {},
   "outputs": [
    {
     "name": "stdout",
     "output_type": "stream",
     "text": [
      "(60000, 28, 28)\n"
     ]
    }
   ],
   "source": [
    "print(x_train.shape) # 채널수 정보가 없음"
   ]
  },
  {
   "cell_type": "code",
   "execution_count": 15,
   "id": "e966c050",
   "metadata": {},
   "outputs": [
    {
     "name": "stdout",
     "output_type": "stream",
     "text": [
      "Before Reshape - x_train_norm shape: (60000, 28, 28)\n",
      "Before Reshape - x_test_norm shape: (10000, 28, 28)\n",
      "\n",
      "After Reshape - x_train_reshaped shape: (60000, 28, 28, 1)\n",
      "After Reshape - x_test_reshaped shape: (10000, 28, 28, 1)\n"
     ]
    }
   ],
   "source": [
    "print(\"Before Reshape - x_train_norm shape: {}\".format(x_train_norm.shape))\n",
    "print(\"Before Reshape - x_test_norm shape: {}\".format(x_test_norm.shape))\n",
    "\n",
    "# 데이터 개수에 -1을 쓰면 reshape시 자동 계산 됨\n",
    "x_train_reshaped = x_train_norm.reshape(-1, 28,28,1)\n",
    "x_test_reshaped = x_test_norm.reshape(-1, 28,28,1)\n",
    "\n",
    "print()\n",
    "\n",
    "print(\"After Reshape - x_train_reshaped shape: {}\".format(x_train_reshaped.shape))\n",
    "print(\"After Reshape - x_test_reshaped shape: {}\".format(x_test_reshaped.shape))"
   ]
  },
  {
   "cell_type": "markdown",
   "id": "e282009e",
   "metadata": {},
   "source": [
    "##### x_train 학습 데이터로 딥러닝 네트워크를 학습시켜보자.\n",
    "- eopchs = 10: 전체 6만개의 데이터를 10번 반복 사용해서 학습시키라는 의미\n",
    "     - model의 입력 정의에 형태를 맞춘 x_train_reshaped가 사용되어야 함"
   ]
  },
  {
   "cell_type": "code",
   "execution_count": 16,
   "id": "b745d038",
   "metadata": {},
   "outputs": [
    {
     "name": "stdout",
     "output_type": "stream",
     "text": [
      "Train on 60000 samples\n",
      "Epoch 1/10\n",
      "60000/60000 [==============================] - 17s 277us/sample - loss: 0.2084 - accuracy: 0.9390\n",
      "Epoch 2/10\n",
      "60000/60000 [==============================] - 16s 270us/sample - loss: 0.0716 - accuracy: 0.9779\n",
      "Epoch 3/10\n",
      "60000/60000 [==============================] - 16s 271us/sample - loss: 0.0534 - accuracy: 0.9841\n",
      "Epoch 4/10\n",
      "60000/60000 [==============================] - 16s 272us/sample - loss: 0.0423 - accuracy: 0.9871\n",
      "Epoch 5/10\n",
      "60000/60000 [==============================] - 15s 257us/sample - loss: 0.0349 - accuracy: 0.9894\n",
      "Epoch 6/10\n",
      "60000/60000 [==============================] - 15s 258us/sample - loss: 0.0292 - accuracy: 0.9906\n",
      "Epoch 7/10\n",
      "60000/60000 [==============================] - 15s 257us/sample - loss: 0.0244 - accuracy: 0.9922\n",
      "Epoch 8/10\n",
      "60000/60000 [==============================] - 16s 259us/sample - loss: 0.0195 - accuracy: 0.9938\n",
      "Epoch 9/10\n",
      "60000/60000 [==============================] - 16s 262us/sample - loss: 0.0171 - accuracy: 0.9944\n",
      "Epoch 10/10\n",
      "60000/60000 [==============================] - 16s 269us/sample - loss: 0.0146 - accuracy: 0.9953\n"
     ]
    },
    {
     "data": {
      "text/plain": [
       "<tensorflow.python.keras.callbacks.History at 0x1cd841b2e08>"
      ]
     },
     "execution_count": 16,
     "metadata": {},
     "output_type": "execute_result"
    }
   ],
   "source": [
    "model.compile(optimizer='adam',\n",
    "             loss = 'sparse_categorical_crossentropy',\n",
    "             metrics=['accuracy'])\n",
    "\n",
    "model.fit(x_train_reshaped, y_train, epochs=10)"
   ]
  },
  {
   "cell_type": "markdown",
   "id": "a0c25c3c",
   "metadata": {},
   "source": [
    "- 각 학습이 진행됨에 따라 epoch 별로 어느 정도 인식 정확도(accuracy)가 올라가는지 확인이 가능하다.\n",
    "- 인식 정확도가 0.9390에서 0.9953까지 나옴\n",
    "- 9 epoch 정도부터는 인식률의 상승이 미미하다. \n",
    "- 10 epoch 정도 학습을 시키면 충분할 것 같다."
   ]
  },
  {
   "cell_type": "markdown",
   "id": "4f5b7f79",
   "metadata": {},
   "source": [
    "# 5. 얼마나 잘 만들었는지 확인하기\n",
    "### 테스트 데이터로 성능을 확인하기\n",
    "위의 인식 정확도는 학습용 데이터(x_train)을 가지고 구한 것이다. 즉 연습 문제를 잘 푸는 인공지능을 만든 거다. 우리가 만든 딥러닝 네트워크는 실제 시험도 잘 볼 수 있는지 확인해보자.\n",
    "\n",
    "\n",
    "- __Keyword: loss, accuracy__"
   ]
  },
  {
   "cell_type": "markdown",
   "id": "fb76503f",
   "metadata": {},
   "source": [
    "#### x_test 시험용 데이터로 딥러닝 네트워크를 학인해보자."
   ]
  },
  {
   "cell_type": "code",
   "execution_count": 17,
   "id": "6242f5cb",
   "metadata": {},
   "outputs": [
    {
     "name": "stdout",
     "output_type": "stream",
     "text": [
      "10000/1 - 1s - loss: 0.0186 - accuracy: 0.9904\n",
      "test_loss: 0.03713349520661432\n",
      "test_accuracy: 0.9904000163078308\n"
     ]
    }
   ],
   "source": [
    "test_loss, test_accuracy = model.evaluate(x_test_reshaped, y_test, verbose=2)\n",
    "\n",
    "print(\"test_loss: {}\".format(test_loss))\n",
    "print(\"test_accuracy: {}\".format(test_accuracy))"
   ]
  },
  {
   "cell_type": "markdown",
   "id": "803e5567",
   "metadata": {},
   "source": [
    "- 학습용 데이터로 얻은 99,53점이 아닌 99.04로 시험점수가 소폭 하락했다. \n",
    "- MNIST 데이터셋 참고문헌을 보면 학습용 데이터와 시험용 데이터의 손글씨 주인이 다른 것을 알 수 있다. 즉, 한번도 본 적이 없는 필체의 손글씨가 섞여있을 수 있다. 어찌보면 인식률이 떨어지는 것은 어느 정도 예상 가능한 일이었다."
   ]
  },
  {
   "cell_type": "markdown",
   "id": "2670723c",
   "metadata": {},
   "source": [
    "### 어떤 데이터를 잘못 추론했을까? 눈으로 확인하기."
   ]
  },
  {
   "cell_type": "markdown",
   "id": "6b71ad5f",
   "metadata": {},
   "source": [
    "- model.evaluate() 대신 model.predict()를 사용하면 model 입력값을 보고 실제로 추론한 확률 분포를 출력할 수 있다. 우리가 만든 model이란 사실 10개의 숫자 중 어느 것일지에 대한 확률값을 출력하는 함수이다.\n",
    "- 이 함수의 출력값, 즉 확률값이 가장 높은 숫자가 바로 model이 추론한 숫자다."
   ]
  },
  {
   "cell_type": "code",
   "execution_count": 18,
   "id": "bf8a1c0b",
   "metadata": {},
   "outputs": [
    {
     "name": "stdout",
     "output_type": "stream",
     "text": [
      "model.predict() 결과 :  [9.9344812e-12 2.4433373e-06 8.9692429e-07 4.0503514e-06 2.2073658e-09\n",
      " 4.3522790e-09 3.8692157e-14 9.9998963e-01 2.7595114e-08 2.9957612e-06]\n",
      "model이 추론한 가장 가능성이 높은 결과 :  7\n",
      "실제 데이터의 라벨 :  7\n"
     ]
    }
   ],
   "source": [
    "predicted_result = model.predict(x_test_reshaped) # model이 추론한 확률값\n",
    "predicted_labels = np.argmax(predicted_result, axis=1)\n",
    "\n",
    "idx=0 #1번째 x_test를 살펴보자.\n",
    "\n",
    "print('model.predict() 결과 : ', predicted_result[idx])\n",
    "print('model이 추론한 가장 가능성이 높은 결과 : ', predicted_labels[idx])\n",
    "print('실제 데이터의 라벨 : ', y_test[idx])"
   ]
  },
  {
   "cell_type": "markdown",
   "id": "f64f5171",
   "metadata": {},
   "source": [
    "- model.predict() 결과가 백터의 형태임\n",
    "- 이 백터는 model이 추론한 결과가 각각 0,1,2,3,4,5,6,7,8,9일 확률을 의미\n",
    "- model이 추론한 결과가 7일 확률이 1.00에 근접하고 있다. 즉, 이 model은 입력한 이미지가 숫자 7이라는 걸 아주 확신하고 있다는 뜻이다."
   ]
  },
  {
   "cell_type": "markdown",
   "id": "76b4944c",
   "metadata": {},
   "source": [
    "##### 정말 숫자 7일까?"
   ]
  },
  {
   "cell_type": "code",
   "execution_count": 19,
   "id": "758d6c8a",
   "metadata": {
    "scrolled": true
   },
   "outputs": [
    {
     "data": {
      "image/png": "[encoded data removed]",
      "text/plain": [
       "<Figure size 432x288 with 1 Axes>"
      ]
     },
     "metadata": {
      "needs_background": "light"
     },
     "output_type": "display_data"
    }
   ],
   "source": [
    "plt.imshow(x_test[idx],cmap=plt.cm.binary)\n",
    "plt.show()"
   ]
  },
  {
   "cell_type": "markdown",
   "id": "f3dc55c8",
   "metadata": {},
   "source": [
    "#### model이 추론해 낸 숫자와 실제 라벨의 값이 다른 경우는 어떤 경우일까?"
   ]
  },
  {
   "cell_type": "code",
   "execution_count": 20,
   "id": "fa9484fb",
   "metadata": {
    "scrolled": true
   },
   "outputs": [
    {
     "name": "stdout",
     "output_type": "stream",
     "text": [
      "예측확률분포:[2.5607910e-11 9.8126121e-09 1.8979751e-08 7.6458663e-02 6.1527780e-06\n",
      " 5.0580716e-01 1.1340712e-10 6.8355099e-08 4.8677794e-07 4.1772750e-01]\n",
      "라벨: 9, 예측결과: 5\n"
     ]
    },
    {
     "data": {
      "image/png": "[encoded data removed]",
      "text/plain": [
       "<Figure size 432x288 with 1 Axes>"
      ]
     },
     "metadata": {
      "needs_background": "light"
     },
     "output_type": "display_data"
    },
    {
     "name": "stdout",
     "output_type": "stream",
     "text": [
      "예측확률분포:[8.0999367e-09 5.5397988e-09 5.4817187e-06 9.0722102e-01 5.1180651e-09\n",
      " 7.1340492e-03 8.2671824e-16 3.4492262e-09 2.8337381e-05 8.5611120e-02]\n",
      "라벨: 9, 예측결과: 3\n"
     ]
    },
    {
     "data": {
      "image/png": "[encoded data removed]",
      "text/plain": [
       "<Figure size 432x288 with 1 Axes>"
      ]
     },
     "metadata": {
      "needs_background": "light"
     },
     "output_type": "display_data"
    },
    {
     "name": "stdout",
     "output_type": "stream",
     "text": [
      "예측확률분포:[9.5399644e-10 1.2744705e-11 8.6072055e-10 2.3892699e-09 7.5661006e-07\n",
      " 1.3392375e-08 3.6519919e-11 1.4297711e-07 6.2893689e-01 3.7106219e-01]\n",
      "라벨: 9, 예측결과: 8\n"
     ]
    },
    {
     "data": {
      "image/png": "[encoded data removed]",
      "text/plain": [
       "<Figure size 432x288 with 1 Axes>"
      ]
     },
     "metadata": {
      "needs_background": "light"
     },
     "output_type": "display_data"
    },
    {
     "name": "stdout",
     "output_type": "stream",
     "text": [
      "예측확률분포:[2.5271904e-06 5.8810844e-08 3.2162362e-07 2.6562279e-08 7.4718286e-05\n",
      " 2.0714165e-08 3.1494460e-10 8.0654424e-08 2.4580756e-02 9.7534150e-01]\n",
      "라벨: 8, 예측결과: 9\n"
     ]
    },
    {
     "data": {
      "image/png": "[encoded data removed]",
      "text/plain": [
       "<Figure size 432x288 with 1 Axes>"
      ]
     },
     "metadata": {
      "needs_background": "light"
     },
     "output_type": "display_data"
    },
    {
     "name": "stdout",
     "output_type": "stream",
     "text": [
      "예측확률분포:[3.7256996e-05 3.4673327e-11 3.8082387e-06 2.0844493e-06 2.0454020e-06\n",
      " 1.2012206e-04 1.6267312e-11 6.1850078e-06 4.1588011e-01 5.8394837e-01]\n",
      "라벨: 8, 예측결과: 9\n"
     ]
    },
    {
     "data": {
      "image/png": "[encoded data removed]",
      "text/plain": [
       "<Figure size 432x288 with 1 Axes>"
      ]
     },
     "metadata": {
      "needs_background": "light"
     },
     "output_type": "display_data"
    }
   ],
   "source": [
    "import random\n",
    "wrong_predict_list=[]\n",
    "\n",
    "for i, _ in enumerate(predicted_labels):\n",
    "    # i번째 test_labels과 y_test이 다른 경우만 모아보기\n",
    "    if predicted_labels[i] != y_test[i]:\n",
    "        wrong_predict_list.append(i)\n",
    "\n",
    "# wrong_predict_list에서 랜덤하게 5개만 뽑기\n",
    "samples = random.choices(population=wrong_predict_list, k=5)\n",
    "\n",
    "for n in samples:\n",
    "    print(\"예측확률분포:\"+str(predicted_result[n]))\n",
    "    print(\"라벨: \" + str(y_test[n]) + \", 예측결과: \" + str(predicted_labels[n]))\n",
    "          \n",
    "    plt.imshow(x_test[n], cmap=plt.cm.binary)\n",
    "    plt.show()"
   ]
  },
  {
   "cell_type": "markdown",
   "id": "4ecd362f",
   "metadata": {},
   "source": [
    "- 틀린 경우를 살펴보면 model도 추론 결과에 대한 확신도가 낮고 매우 혼란스러워 한다.\n",
    "- model의 추론 결과를 시각화하여 살펴보는 것은 향후 model 성능 개선에 도움이 되는 아이디어를 얻을 수 있는 좋은 방법 중 하나이다."
   ]
  },
  {
   "cell_type": "markdown",
   "id": "1aee7901",
   "metadata": {},
   "source": [
    "# 6. 더 좋은 네트워크 만들기"
   ]
  },
  {
   "cell_type": "markdown",
   "id": "a546e7ab",
   "metadata": {},
   "source": [
    "##### 인식률을 다시 99점대로 만들 수 있을까?\n",
    "- 딥러닝 네트워크의 구조 자체는 바꾸지 않으면서도 우리가 해볼 수 있는 것들이 있다.\n",
    "- 하이퍼파라미터들을 바꾸면 된다.\n",
    "     - Conv2D: 입력의미지의 특정 수를 늘리거나 줄여 보거나,\n",
    "     - Dense: 뉴런수를 바꾸어 보거나,\n",
    "     - epoch: 학습 반복 횟수 값을 변경 할 수 있다.\n",
    "     \n",
    "    \n",
    "- __바꿔볼 수 있는 하이퍼파라미터: n_channel_1, n_channel_2, n_dense, n_train_epoch__"
   ]
  },
  {
   "cell_type": "code",
   "execution_count": 21,
   "id": "d682da61",
   "metadata": {
    "scrolled": true
   },
   "outputs": [
    {
     "name": "stdout",
     "output_type": "stream",
     "text": [
      "Model: \"sequential_1\"\n",
      "_________________________________________________________________\n",
      "Layer (type)                 Output Shape              Param #   \n",
      "=================================================================\n",
      "conv2d_2 (Conv2D)            (None, 26, 26, 16)        160       \n",
      "_________________________________________________________________\n",
      "max_pooling2d_2 (MaxPooling2 (None, 13, 13, 16)        0         \n",
      "_________________________________________________________________\n",
      "conv2d_3 (Conv2D)            (None, 11, 11, 32)        4640      \n",
      "_________________________________________________________________\n",
      "max_pooling2d_3 (MaxPooling2 (None, 5, 5, 32)          0         \n",
      "_________________________________________________________________\n",
      "flatten_1 (Flatten)          (None, 800)               0         \n",
      "_________________________________________________________________\n",
      "dense_2 (Dense)              (None, 32)                25632     \n",
      "_________________________________________________________________\n",
      "dense_3 (Dense)              (None, 10)                330       \n",
      "=================================================================\n",
      "Total params: 30,762\n",
      "Trainable params: 30,762\n",
      "Non-trainable params: 0\n",
      "_________________________________________________________________\n",
      "Train on 60000 samples\n",
      "Epoch 1/10\n",
      "60000/60000 [==============================] - 16s 274us/sample - loss: 0.1896 - accuracy: 0.9433\n",
      "Epoch 2/10\n",
      "60000/60000 [==============================] - 16s 265us/sample - loss: 0.0609 - accuracy: 0.9814\n",
      "Epoch 3/10\n",
      "60000/60000 [==============================] - 16s 266us/sample - loss: 0.0440 - accuracy: 0.9861\n",
      "Epoch 4/10\n",
      "60000/60000 [==============================] - 16s 271us/sample - loss: 0.0340 - accuracy: 0.9892\n",
      "Epoch 5/10\n",
      "60000/60000 [==============================] - 16s 267us/sample - loss: 0.0281 - accuracy: 0.9907\n",
      "Epoch 6/10\n",
      "60000/60000 [==============================] - 16s 271us/sample - loss: 0.0228 - accuracy: 0.9925\n",
      "Epoch 7/10\n",
      "60000/60000 [==============================] - 17s 277us/sample - loss: 0.0195 - accuracy: 0.9936\n",
      "Epoch 8/10\n",
      "60000/60000 [==============================] - 17s 275us/sample - loss: 0.0163 - accuracy: 0.9945\n",
      "Epoch 9/10\n",
      "60000/60000 [==============================] - 16s 268us/sample - loss: 0.0135 - accuracy: 0.9954\n",
      "Epoch 10/10\n",
      "60000/60000 [==============================] - 16s 265us/sample - loss: 0.0126 - accuracy: 0.9958\n",
      "10000/1 - 1s - loss: 0.0193 - accuracy: 0.9903\n",
      "test_loss: 0.03866461593211188 \n",
      "test_accuracy: 0.9902999997138977\n"
     ]
    }
   ],
   "source": [
    "# 바꿔볼 수 있는 하이퍼파라미터들\n",
    "n_channel_1=16\n",
    "n_channel_2=32\n",
    "n_dense=32\n",
    "n_train_epoch=10\n",
    "\n",
    "model=keras.models.Sequential()\n",
    "\n",
    "model.add(keras.layers.Conv2D(n_channel_1, (3,3), activation='relu', input_shape=(28,28,1)))\n",
    "model.add(keras.layers.MaxPool2D(2,2))\n",
    "model.add(keras.layers.Conv2D(n_channel_2, (3,3), activation='relu'))\n",
    "model.add(keras.layers.MaxPooling2D((2,2)))\n",
    "model.add(keras.layers.Flatten())\n",
    "model.add(keras.layers.Dense(n_dense, activation='relu'))\n",
    "model.add(keras.layers.Dense(10, activation='softmax'))\n",
    "\n",
    "model.summary()\n",
    "\n",
    "model.compile(optimizer='adam',\n",
    "              loss='sparse_categorical_crossentropy',\n",
    "              metrics=['accuracy'])\n",
    "\n",
    "# 모델 훈련\n",
    "model.fit(x_train_reshaped, y_train, epochs=n_train_epoch)\n",
    "\n",
    "# 모델 시험\n",
    "test_loss, test_accuracy = model.evaluate(x_test_reshaped, y_test, verbose=2)\n",
    "print(\"test_loss: {} \".format(test_loss))\n",
    "print(\"test_accuracy: {}\".format(test_accuracy))"
   ]
  },
  {
   "cell_type": "markdown",
   "id": "0d0414f8",
   "metadata": {},
   "source": [
    "# 7. 프로젝트: 가위바위보 분류기 만들기\n",
    "## 데이터를 준비하자\n",
    "### 데이터 만들기\n",
    "(1) 우리는 노트북 전면 카메라를 활용하여 가위, 바위, 보 이미지 각 100장 만들기. "
   ]
  },
  {
   "cell_type": "markdown",
   "id": "6a79d23b",
   "metadata": {},
   "source": [
    "##### 그런데 300장을 어느 세월에 만들까?\n",
    "- 구글의 teachable machine 사이트에서 쉽게 데이터를 만들어볼 수 있다. 아래 사이트에서 Get Started 버튼을 눌러 보고, Image Project를 선택하면 Webcam을 구동해 클래스별 이미지 데이터를 직접 촬영해서 만들 수 있는 멋진 화면이 나타난다.\n",
    "- 주소: https://teachablemachine.withgoogle.com/"
   ]
  },
  {
   "cell_type": "markdown",
   "id": "32f71885",
   "metadata": {},
   "source": [
    "(2) 먼저 가위 이미지 데이터를 만들어 보다. 웹캠 앞에 가위 포즈를 취하면서 버튼을 누르면 이미지가 캡쳐된다.\n",
    "- 딥러닝 모델이 인식하기 좋게끔 여러분들 손이 잘 보이게 찍어야 한다.\n",
    "- 여러 각도에서 찍어보자.\n",
    "- 여러 크기로 찍어보자.\n",
    "- 혼자하면 다양한 각도와 크기를 저장할 수 없으니, 옆 동료와 함께 하는게 좋다.\n",
    "- 좋은 데이터가 좋은 결과를 낳는다는 것을 꼭 기억하자."
   ]
  },
  {
   "cell_type": "markdown",
   "id": "5924bdf2",
   "metadata": {},
   "source": [
    "(3) 100장의 가위 이미지를 캡쳐했다면, 우상단의 메뉴 아이콘을 눌러 다운로드 한다.\n",
    "\n",
    "\n",
    "(4) 가위 이미지 100장을 모두 저장 했다면, 바위 및 보 이미지에 대해서도 위 과정을 진행하세요. 가위는 scissor 폴더에, 바위는 rock 폴더에, 보는 paper 폴더에 각각 압축을 풀어 봅시다. 각 폴더안에 100개의 이미지가 들어있다면 성공한다."
   ]
  },
  {
   "cell_type": "markdown",
   "id": "fb03571f",
   "metadata": {},
   "source": [
    "추후 프로그램 작성의 통일성을 위해, rock_scissor_paper 라는 폴더 아래에 scissor, rock, paper 폴더를 만들어서 이미지를 저장하자. 각 이미지는 아래 폴더 안에 들어가야 한다."
   ]
  },
  {
   "cell_type": "markdown",
   "id": "da83c644",
   "metadata": {},
   "source": [
    "(5) 숫자 손글씨의 경우 이미지 크기가 28x28 이었기 때문에, 가위, 바위, 보 이미지도 28x28로 만들어야 한다. 이를 위해서는 PIL 라이브러리를 사용한다."
   ]
  },
  {
   "cell_type": "code",
   "execution_count": 22,
   "id": "ad178862",
   "metadata": {},
   "outputs": [
    {
     "name": "stdout",
     "output_type": "stream",
     "text": [
      "Requirement already satisfied: pillow in c:\\programdata\\anaconda3\\envs\\py3_7_6\\lib\\site-packages (8.2.0)\n",
      "PIL 라이브러리 import 완료!\n"
     ]
    }
   ],
   "source": [
    "# PIL 라이브러리가 설치되어 있지 않다면 설치\n",
    "!pip install pillow\n",
    "from PIL import Image\n",
    "\n",
    "import os, glob\n",
    "print(\"PIL 라이브러리 import 완료!\")"
   ]
  },
  {
   "cell_type": "markdown",
   "id": "27a33004",
   "metadata": {},
   "source": [
    "# 잠깐, path 잡기"
   ]
  },
  {
   "cell_type": "markdown",
   "id": "a296c312",
   "metadata": {},
   "source": [
    "##### path 잡기 진행한 순서대로 참고 링크:\n",
    "1. 파이썬에서 환경변수 읽기: https://www.delftstack.com/ko/howto/python/how-to-access-environment-variables-in-python/\n",
    "2. 환경변수 얻는 방법: https://uzooin.tistory.com/147\n",
    "3. 환경변수와 path 참고: https://m.blog.naver.com/zxwnstn/221521038431"
   ]
  },
  {
   "cell_type": "code",
   "execution_count": 23,
   "id": "30be7335",
   "metadata": {},
   "outputs": [
    {
     "data": {
      "text/plain": [
       "environ{'ALLUSERSPROFILE': 'C:\\\\ProgramData',\n",
       "        'APPDATA': 'C:\\\\Users\\\\User\\\\AppData\\\\Roaming',\n",
       "        'COMMONPROGRAMFILES': 'C:\\\\Program Files\\\\Common Files',\n",
       "        'COMMONPROGRAMFILES(X86)': 'C:\\\\Program Files (x86)\\\\Common Files',\n",
       "        'COMMONPROGRAMW6432': 'C:\\\\Program Files\\\\Common Files',\n",
       "        'COMPUTERNAME': 'DESKTOP-IE8KBFV',\n",
       "        'COMSPEC': 'C:\\\\WINDOWS\\\\system32\\\\cmd.exe',\n",
       "        'CONDA_DEFAULT_ENV': 'py3_7_6',\n",
       "        'CONDA_EXE': 'C:\\\\ProgramData\\\\Anaconda3\\\\Scripts\\\\conda.exe',\n",
       "        'CONDA_PREFIX': 'C:\\\\ProgramData\\\\Anaconda3\\\\envs\\\\py3_7_6',\n",
       "        'CONDA_PREFIX_1': 'C:\\\\ProgramData\\\\Anaconda3',\n",
       "        'CONDA_PROMPT_MODIFIER': '(py3_7_6) ',\n",
       "        'CONDA_PYTHON_EXE': 'C:\\\\ProgramData\\\\Anaconda3\\\\python.exe',\n",
       "        'CONDA_SHLVL': '2',\n",
       "        'DRIVERDATA': 'C:\\\\Windows\\\\System32\\\\Drivers\\\\DriverData',\n",
       "        'FPS_BROWSER_APP_PROFILE_STRING': 'Internet Explorer',\n",
       "        'FPS_BROWSER_USER_PROFILE_STRING': 'Default',\n",
       "        'HOMEDRIVE': 'C:',\n",
       "        'HOMEPATH': '\\\\Users\\\\User',\n",
       "        'LOCALAPPDATA': 'C:\\\\Users\\\\User\\\\AppData\\\\Local',\n",
       "        'LOGONSERVER': '\\\\\\\\DESKTOP-IE8KBFV',\n",
       "        'NUMBER_OF_PROCESSORS': '8',\n",
       "        'ONEDRIVE': 'C:\\\\Users\\\\User\\\\OneDrive',\n",
       "        'ONEDRIVECONSUMER': 'C:\\\\Users\\\\User\\\\OneDrive',\n",
       "        'OS': 'Windows_NT',\n",
       "        'PATH': 'C:\\\\ProgramData\\\\Anaconda3\\\\envs\\\\py3_7_6\\\\lib\\\\site-packages\\\\pywin32_system32;c:\\\\programdata\\\\anaconda3\\\\envs\\\\py3_7_6\\\\lib\\\\site-packages\\\\pywin32_system32;C:\\\\ProgramData\\\\Anaconda3\\\\envs\\\\py3_7_6;C:\\\\ProgramData\\\\Anaconda3\\\\envs\\\\py3_7_6\\\\Library\\\\mingw-w64\\\\bin;C:\\\\ProgramData\\\\Anaconda3\\\\envs\\\\py3_7_6\\\\Library\\\\usr\\\\bin;C:\\\\ProgramData\\\\Anaconda3\\\\envs\\\\py3_7_6\\\\Library\\\\bin;C:\\\\ProgramData\\\\Anaconda3\\\\envs\\\\py3_7_6\\\\Scripts;C:\\\\ProgramData\\\\Anaconda3\\\\envs\\\\py3_7_6\\\\bin;C:\\\\ProgramData\\\\Anaconda3\\\\condabin;C:\\\\ProgramData\\\\Anaconda3;C:\\\\ProgramData\\\\Anaconda3\\\\Library\\\\mingw-w64\\\\bin;C:\\\\ProgramData\\\\Anaconda3\\\\Library\\\\usr\\\\bin;C:\\\\ProgramData\\\\Anaconda3\\\\Library\\\\bin;C:\\\\ProgramData\\\\Anaconda3\\\\Scripts;C:\\\\WINDOWS\\\\system32;C:\\\\WINDOWS;C:\\\\WINDOWS\\\\System32\\\\Wbem;C:\\\\WINDOWS\\\\System32\\\\WindowsPowerShell\\\\v1.0;C:\\\\WINDOWS\\\\System32\\\\OpenSSH;C:\\\\Program Files\\\\Microsoft SQL Server\\\\Client SDK\\\\ODBC\\\\170\\\\Tools\\\\Binn;C:\\\\Program Files (x86)\\\\Microsoft SQL Server\\\\150\\\\Tools\\\\Binn;C:\\\\Program Files\\\\Microsoft SQL Server\\\\150\\\\Tools\\\\Binn;C:\\\\Program Files\\\\Microsoft SQL Server\\\\150\\\\DTS\\\\Binn;C:\\\\Program Files (x86)\\\\Microsoft SQL Server\\\\150\\\\DTS\\\\Binn;C:\\\\Program Files\\\\Azure Data Studio\\\\bin;C:\\\\User\\\\User\\\\AppData\\\\Local\\\\Microsoft\\\\WindowsApps\\\\python.exe;C:\\\\Program Files\\\\Git\\\\cmd;C:\\\\Users\\\\User\\\\AppData\\\\Local\\\\Programs\\\\Python\\\\Python37\\\\Scripts;C:\\\\Users\\\\User\\\\AppData\\\\Local\\\\Programs\\\\Python\\\\Python37;C:\\\\Users\\\\User\\\\AppData\\\\Local\\\\Microsoft\\\\WindowsApps;C:\\\\Users\\\\User\\\\AppData\\\\Local\\\\Programs\\\\Microsoft VS Code\\\\bin;C:\\\\Program Files\\\\JetBrains\\\\PyCharm 2020.3.5\\\\bin;.;C:\\\\Program Files\\\\JetBrains\\\\PyCharm Community Edition 2020.3.5\\\\bin;.;C:\\\\Program Files\\\\Azure Data Studio\\\\bin;.;C:\\\\ProgramData\\\\Anaconda3\\\\envs\\\\py3_7_6\\\\lib\\\\site-packages\\\\numpy\\\\.libs;C:\\\\ProgramData\\\\Anaconda3\\\\envs\\\\py3_7_6\\\\lib\\\\site-packages\\\\scipy\\\\.libs',\n",
       "        'PATHEXT': '.COM;.EXE;.BAT;.CMD;.VBS;.VBE;.JS;.JSE;.WSF;.WSH;.MSC',\n",
       "        'PROCESSOR_ARCHITECTURE': 'AMD64',\n",
       "        'PROCESSOR_IDENTIFIER': 'Intel64 Family 6 Model 142 Stepping 12, GenuineIntel',\n",
       "        'PROCESSOR_LEVEL': '6',\n",
       "        'PROCESSOR_REVISION': '8e0c',\n",
       "        'PROGRAMDATA': 'C:\\\\ProgramData',\n",
       "        'PROGRAMFILES': 'C:\\\\Program Files',\n",
       "        'PROGRAMFILES(X86)': 'C:\\\\Program Files (x86)',\n",
       "        'PROGRAMW6432': 'C:\\\\Program Files',\n",
       "        'PROMPT': '(py3_7_6) $P$G',\n",
       "        'PSMODULEPATH': 'C:\\\\Program Files\\\\WindowsPowerShell\\\\Modules;C:\\\\WINDOWS\\\\system32\\\\WindowsPowerShell\\\\v1.0\\\\Modules;C:\\\\Program Files (x86)\\\\Microsoft SQL Server\\\\150\\\\Tools\\\\PowerShell\\\\Modules\\\\',\n",
       "        'PUBLIC': 'C:\\\\Users\\\\Public',\n",
       "        'PYCHARM': 'C:\\\\Program Files\\\\JetBrains\\\\PyCharm 2020.3.5\\\\bin;',\n",
       "        'PYCHARM COMMUNITY EDITION': 'C:\\\\Program Files\\\\JetBrains\\\\PyCharm Community Edition 2020.3.5\\\\bin;',\n",
       "        'SESSIONNAME': 'Console',\n",
       "        'SYSTEMDRIVE': 'C:',\n",
       "        'SYSTEMROOT': 'C:\\\\WINDOWS',\n",
       "        'TEMP': 'C:\\\\Users\\\\User\\\\AppData\\\\Local\\\\Temp',\n",
       "        'TMP': 'C:\\\\Users\\\\User\\\\AppData\\\\Local\\\\Temp',\n",
       "        'USERDOMAIN': 'DESKTOP-IE8KBFV',\n",
       "        'USERDOMAIN_ROAMINGPROFILE': 'DESKTOP-IE8KBFV',\n",
       "        'USERNAME': 'User',\n",
       "        'USERPROFILE': 'C:\\\\Users\\\\User',\n",
       "        'VBOX_MSI_INSTALL_PATH': 'C:\\\\Program Files\\\\Oracle\\\\VirtualBox\\\\',\n",
       "        'WINDIR': 'C:\\\\WINDOWS',\n",
       "        'ZES_ENABLE_SYSMAN': '1',\n",
       "        'JPY_INTERRUPT_EVENT': '3332',\n",
       "        'IPY_INTERRUPT_EVENT': '3332',\n",
       "        'JPY_PARENT_PID': '3384',\n",
       "        'TERM': 'xterm-color',\n",
       "        'CLICOLOR': '1',\n",
       "        'PAGER': 'cat',\n",
       "        'GIT_PAGER': 'cat',\n",
       "        'MPLBACKEND': 'module://ipykernel.pylab.backend_inline'}"
      ]
     },
     "execution_count": 23,
     "metadata": {},
     "output_type": "execute_result"
    }
   ],
   "source": [
    "os.environ # 사용자로 되어있는 키값 찾기"
   ]
  },
  {
   "cell_type": "code",
   "execution_count": 24,
   "id": "f4877c81",
   "metadata": {
    "scrolled": true
   },
   "outputs": [
    {
     "name": "stdout",
     "output_type": "stream",
     "text": [
      "\\Users\\User\n"
     ]
    }
   ],
   "source": [
    "os.getenv(\"HOMEPATH\") # HOMEPATH와 USERPROFILE 중 HOMEPATH를 선택함\n",
    "print(os.getenv(\"HOMEPATH\"))"
   ]
  },
  {
   "cell_type": "code",
   "execution_count": 25,
   "id": "cabfffab",
   "metadata": {},
   "outputs": [
    {
     "data": {
      "text/plain": [
       "'C:\\\\Users\\\\User\\\\Desktop\\\\class'"
      ]
     },
     "execution_count": 25,
     "metadata": {},
     "output_type": "execute_result"
    }
   ],
   "source": [
    "pwd # 참고로 현재 작성 중인 경로"
   ]
  },
  {
   "cell_type": "code",
   "execution_count": 26,
   "id": "017c9ec2",
   "metadata": {
    "scrolled": true
   },
   "outputs": [
    {
     "name": "stdout",
     "output_type": "stream",
     "text": [
      "이미지 디렉토리 경로:  \\Users\\User/Desktop/class/rock_scissor_paper/scissors\n",
      "가위 이미지 resize 완료!\n"
     ]
    }
   ],
   "source": [
    "import os\n",
    "\n",
    "# 가위 이미지가 저장된 디렉토리 아래의 모든 jpg 파일을 읽어들이기\n",
    "image_dir_path = os.getenv(\"HOMEPATH\") + \"/Desktop/class/rock_scissor_paper/scissors\"\n",
    "print(\"이미지 디렉토리 경로: \", image_dir_path)\n",
    "\n",
    "images=glob.glob(image_dir_path + \"/*.jpg\")\n",
    "\n",
    "# 파일마다 모두 28x28 사이즈로 바꾸어 저장한다.\n",
    "target_size=(28,28)\n",
    "for img in images:\n",
    "    old_img=Image.open(img)\n",
    "    new_img=old_img.resize(target_size,Image.ANTIALIAS)\n",
    "    new_img.save(img,\"JPEG\")\n",
    "\n",
    "print(\"가위 이미지 resize 완료!\")"
   ]
  },
  {
   "cell_type": "markdown",
   "id": "3fe9ef71",
   "metadata": {},
   "source": [
    "- 바위 이미지를 불러와서 28x28 사이즈로 변경"
   ]
  },
  {
   "cell_type": "code",
   "execution_count": 27,
   "id": "892073b8",
   "metadata": {},
   "outputs": [
    {
     "name": "stdout",
     "output_type": "stream",
     "text": [
      "이미지 디렉토리 경로:  \\Users\\User/Desktop/class/rock_scissor_paper/rock\n",
      "바위 이미지 resize 완료!\n"
     ]
    }
   ],
   "source": [
    "import os\n",
    "\n",
    "# 바위 이미지가 저장된 디렉토리 아래의 모든 jpg 파일을 읽어들이기\n",
    "image_dir_path = os.getenv(\"HOMEPATH\") + \"/Desktop/class/rock_scissor_paper/rock\"\n",
    "print(\"이미지 디렉토리 경로: \", image_dir_path)\n",
    "\n",
    "images=glob.glob(image_dir_path + \"/*.jpg\")\n",
    "\n",
    "# 파일마다 모두 28x28 사이즈로 바꾸어 저장한다.\n",
    "target_size=(28,28)\n",
    "for img in images:\n",
    "    old_img=Image.open(img)\n",
    "    new_img=old_img.resize(target_size,Image.ANTIALIAS)\n",
    "    new_img.save(img,\"JPEG\")\n",
    "    \n",
    "print(\"바위 이미지 resize 완료!\")"
   ]
  },
  {
   "cell_type": "markdown",
   "id": "a5d0a519",
   "metadata": {},
   "source": [
    "- 보 이미지를 불러와서 28x28 사이즈로 변경"
   ]
  },
  {
   "cell_type": "code",
   "execution_count": 28,
   "id": "0c94ef50",
   "metadata": {},
   "outputs": [
    {
     "name": "stdout",
     "output_type": "stream",
     "text": [
      "이미지 디렉토리 경로:  \\Users\\User/Desktop/class/rock_scissor_paper/paper\n",
      "보 이미지 resize 완료!\n"
     ]
    }
   ],
   "source": [
    "import os\n",
    "\n",
    "# 보 이미지가 저장된 디렉토리 아래의 모든 jpg 파일을 읽어들이기\n",
    "image_dir_path = os.getenv(\"HOMEPATH\") + \"/Desktop/class/rock_scissor_paper/paper\"\n",
    "print(\"이미지 디렉토리 경로: \", image_dir_path)\n",
    "\n",
    "images=glob.glob(image_dir_path + \"/*.jpg\")\n",
    "\n",
    "# 파일마다 모두 28x28 사이즈로 바꾸어 저장한다.\n",
    "target_size=(28,28)\n",
    "for img in images:\n",
    "    old_img=Image.open(img)\n",
    "    new_img=old_img.resize(target_size,Image.ANTIALIAS)\n",
    "    new_img.save(img,\"JPEG\")\n",
    "    \n",
    "print(\"보 이미지 resize 완료!\")"
   ]
  },
  {
   "cell_type": "markdown",
   "id": "7658059e",
   "metadata": {},
   "source": [
    "(6) 숫자 손글씨 인식기는 mnist.load_data() 라는 함수로 데이터를 읽었다.\n",
    "\n",
    "- 가위, 바위, 보 데이터를 읽을 수 있는 load_data() 함수 코드를 활용하면 임의의 사진 데이터(ex. 귤이 잘 익었나, 안 익었나? 웃는 얼굴인가, 우는 얼굴인가, 평범한 표정의 얼굴인가? 등)에 적용하실 수 있다.\n",
    "- load_data() 함수는 입력으로 이미지가 있는 폴더 위치를 받는다.\n",
    "- 숫자 손글씨는 0~9 까지의 클래스가 있었는데, 가위바위보의 경우 3개의 클래스 즉, 가위: 0, 바위: 1, 보: 2 로 라벨링이 될 것이다."
   ]
  },
  {
   "cell_type": "code",
   "execution_count": 29,
   "id": "6c361461",
   "metadata": {},
   "outputs": [
    {
     "name": "stdout",
     "output_type": "stream",
     "text": [
      "학습데이터(x_train)의 이미지 개수는 300 입니다.\n",
      "x_train shape: (300, 28, 28, 3)\n",
      "y_train shape: (300,)\n"
     ]
    }
   ],
   "source": [
    "def load_data(img_path):\n",
    "    # 가위 : 0, 바위 : 1, 보 : 2\n",
    "    number_of_data=300 # 가위바위보 이미지 개수 총합 주의\n",
    "    img_size=28\n",
    "    color=3\n",
    "    \n",
    "    #이미지 데이터와 라벨(가위 : 0, 바위 : 1, 보 : 2) 데이터를 담을 행렬(matrix) 영역을 생성\n",
    "    imgs=np.zeros(number_of_data*img_size*img_size*color,dtype=np.int32).reshape(number_of_data,img_size,img_size,color)\n",
    "    labels=np.zeros(number_of_data,dtype=np.int32)\n",
    "    \n",
    "    idx=0\n",
    "    for file in glob.iglob(img_path+'/scissors/*.jpg'):\n",
    "        img = np.array(Image.open(file),dtype=np.int32)\n",
    "        imgs[idx,:,:,:]=img # 데이터 영역에 이미지 행렬을 복사\n",
    "        labels[idx]=0 # 가위 : 0\n",
    "        idx=idx+1\n",
    "    \n",
    "    for file in glob.iglob(img_path+'/rock/*.jpg'):\n",
    "        img = np.array(Image.open(file),dtype=np.int32)\n",
    "        imgs[idx,:,:,:]=img # 데이터 영역에 이미지 행렬을 복사\n",
    "        labels[idx]=1 # 바위 : 1\n",
    "        idx=idx+1\n",
    "\n",
    "    for file in glob.iglob(img_path+'/paper/*.jpg'):\n",
    "        img = np.array(Image.open(file),dtype=np.int32)\n",
    "        imgs[idx,:,:,:]=img # 데이터 영역에 이미지 행렬을 복사\n",
    "        labels[idx]=2 # 보 : 2\n",
    "        idx=idx+1\n",
    "        \n",
    "    print(\"학습데이터(x_train)의 이미지 개수는\",idx,\"입니다.\")\n",
    "    return imgs, labels\n",
    "\n",
    "image_dir_path = os.getenv(\"HOMEPATH\") + \"/Desktop/class/rock_scissor_paper\"\n",
    "(x_train, y_train)=load_data(image_dir_path)\n",
    "x_train_norm = x_train/255.0 # 입력은 0~1 사이의 값으로 정규화\n",
    "\n",
    "print(\"x_train shape: {}\".format(x_train.shape))\n",
    "print(\"y_train shape: {}\".format(y_train.shape))"
   ]
  },
  {
   "cell_type": "code",
   "execution_count": 30,
   "id": "38842d2c",
   "metadata": {},
   "outputs": [
    {
     "name": "stdout",
     "output_type": "stream",
     "text": [
      "라벨:  0\n"
     ]
    },
    {
     "data": {
      "image/png": "[encoded data removed]",
      "text/plain": [
       "<Figure size 432x288 with 1 Axes>"
      ]
     },
     "metadata": {
      "needs_background": "light"
     },
     "output_type": "display_data"
    }
   ],
   "source": [
    "# 불러온 이미지 확인\n",
    "import matplotlib.pyplot as plt\n",
    "plt.imshow(x_train[0])\n",
    "print('라벨: ', y_train[0])"
   ]
  },
  {
   "cell_type": "markdown",
   "id": "b2c08b50",
   "metadata": {},
   "source": [
    "__네트워크 설계 중 주의: Sequential, Conv2D, MaxPool2D, Flatten, Dense__ "
   ]
  },
  {
   "cell_type": "code",
   "execution_count": 31,
   "id": "435c30de",
   "metadata": {
    "scrolled": true
   },
   "outputs": [
    {
     "name": "stdout",
     "output_type": "stream",
     "text": [
      "Model: \"sequential_2\"\n",
      "_________________________________________________________________\n",
      "Layer (type)                 Output Shape              Param #   \n",
      "=================================================================\n",
      "conv2d_4 (Conv2D)            (None, 26, 26, 16)        448       \n",
      "_________________________________________________________________\n",
      "max_pooling2d_4 (MaxPooling2 (None, 13, 13, 16)        0         \n",
      "_________________________________________________________________\n",
      "conv2d_5 (Conv2D)            (None, 11, 11, 32)        4640      \n",
      "_________________________________________________________________\n",
      "max_pooling2d_5 (MaxPooling2 (None, 5, 5, 32)          0         \n",
      "_________________________________________________________________\n",
      "flatten_2 (Flatten)          (None, 800)               0         \n",
      "_________________________________________________________________\n",
      "dense_4 (Dense)              (None, 32)                25632     \n",
      "_________________________________________________________________\n",
      "dense_5 (Dense)              (None, 3)                 99        \n",
      "=================================================================\n",
      "Total params: 30,819\n",
      "Trainable params: 30,819\n",
      "Non-trainable params: 0\n",
      "_________________________________________________________________\n"
     ]
    }
   ],
   "source": [
    "# 네트워크 설계\n",
    "n_channel_1 = 16\n",
    "n_channel_2 = 32\n",
    "n_dense = 32\n",
    "n_train_epoch = 15\n",
    "\n",
    "# 모델 생성\n",
    "model = keras.models.Sequential()\n",
    "\n",
    "model.add(keras.layers.Conv2D(n_channel_1, (3,3), activation='relu', input_shape=(28,28,3)))\n",
    "model.add(keras.layers.MaxPooling2D(2,2))\n",
    "\n",
    "model.add(keras.layers.Conv2D(n_channel_2, (3,3), activation='relu'))\n",
    "model.add(keras.layers.MaxPooling2D((2,2)))\n",
    "\n",
    "model.add(keras.layers.Flatten())\n",
    "model.add(keras.layers.Dense(n_dense, activation='relu'))\n",
    "model.add(keras.layers.Dense(3, activation='softmax'))\n",
    "\n",
    "model.summary()"
   ]
  },
  {
   "cell_type": "markdown",
   "id": "f3d02a74",
   "metadata": {},
   "source": [
    "__모델 학습 중 주의: compile(loss, optimizer, metrics), fit(x_train, y_train, epochs)__"
   ]
  },
  {
   "cell_type": "code",
   "execution_count": 32,
   "id": "8dd8b4b9",
   "metadata": {
    "scrolled": true
   },
   "outputs": [
    {
     "name": "stdout",
     "output_type": "stream",
     "text": [
      "Train on 300 samples\n",
      "Epoch 1/15\n",
      "300/300 [==============================] - 1s 2ms/sample - loss: 1.1047 - accuracy: 0.3033\n",
      "Epoch 2/15\n",
      "300/300 [==============================] - 0s 289us/sample - loss: 1.0560 - accuracy: 0.4300\n",
      "Epoch 3/15\n",
      "300/300 [==============================] - 0s 381us/sample - loss: 1.0084 - accuracy: 0.6100\n",
      "Epoch 4/15\n",
      "300/300 [==============================] - 0s 319us/sample - loss: 0.8996 - accuracy: 0.7033\n",
      "Epoch 5/15\n",
      "300/300 [==============================] - 0s 310us/sample - loss: 0.7450 - accuracy: 0.8967\n",
      "Epoch 6/15\n",
      "300/300 [==============================] - 0s 332us/sample - loss: 0.5848 - accuracy: 0.8333\n",
      "Epoch 7/15\n",
      "300/300 [==============================] - 0s 349us/sample - loss: 0.4508 - accuracy: 0.8767\n",
      "Epoch 8/15\n",
      "300/300 [==============================] - 0s 336us/sample - loss: 0.3507 - accuracy: 0.9200\n",
      "Epoch 9/15\n",
      "300/300 [==============================] - 0s 342us/sample - loss: 0.2790 - accuracy: 0.9400\n",
      "Epoch 10/15\n",
      "300/300 [==============================] - 0s 322us/sample - loss: 0.2006 - accuracy: 0.9633\n",
      "Epoch 11/15\n",
      "300/300 [==============================] - 0s 312us/sample - loss: 0.1609 - accuracy: 0.9767\n",
      "Epoch 12/15\n",
      "300/300 [==============================] - 0s 315us/sample - loss: 0.1292 - accuracy: 0.9667\n",
      "Epoch 13/15\n",
      "300/300 [==============================] - 0s 389us/sample - loss: 0.1114 - accuracy: 0.9833\n",
      "Epoch 14/15\n",
      "300/300 [==============================] - 0s 360us/sample - loss: 0.0958 - accuracy: 0.9833\n",
      "Epoch 15/15\n",
      "300/300 [==============================] - 0s 348us/sample - loss: 0.0881 - accuracy: 0.9867\n"
     ]
    },
    {
     "data": {
      "text/plain": [
       "<tensorflow.python.keras.callbacks.History at 0x1cd86b71188>"
      ]
     },
     "execution_count": 32,
     "metadata": {},
     "output_type": "execute_result"
    }
   ],
   "source": [
    "# 모델 학습\n",
    "model.compile(optimizer=keras.optimizers.Adam(learning_rate=0.001), loss='sparse_categorical_crossentropy', metrics=['accuracy'])\n",
    "model.fit(x_train_norm, y_train, epochs=n_train_epoch)"
   ]
  },
  {
   "cell_type": "code",
   "execution_count": 33,
   "id": "4385d09c",
   "metadata": {},
   "outputs": [
    {
     "name": "stdout",
     "output_type": "stream",
     "text": [
      "학습데이터(x_train)의 이미지 개수는 300 입니다.\n",
      "x_test shape: (300, 28, 28, 3)\n",
      "y_test shape: (300,)\n"
     ]
    }
   ],
   "source": [
    "# 테스트 이미지\n",
    "image_dir_path = os.getenv(\"HOMEPATH\") + \"/Desktop/class/rock_scissor_paper\"\n",
    "(x_test, y_test)=load_data(image_dir_path)\n",
    "x_test_norm = x_test/255.0   # 입력은 0~1 사이의 값으로 정규화\n",
    "\n",
    "print(\"x_test shape: {}\".format(x_test.shape))\n",
    "print(\"y_test shape: {}\".format(y_test.shape))"
   ]
  },
  {
   "cell_type": "code",
   "execution_count": 34,
   "id": "eb888b82",
   "metadata": {},
   "outputs": [
    {
     "name": "stdout",
     "output_type": "stream",
     "text": [
      "라벨:  0\n"
     ]
    },
    {
     "data": {
      "image/png": "[encoded data removed]",
      "text/plain": [
       "<Figure size 432x288 with 1 Axes>"
      ]
     },
     "metadata": {
      "needs_background": "light"
     },
     "output_type": "display_data"
    }
   ],
   "source": [
    "# 불러온 이미지 확인\n",
    "import matplotlib.pyplot as plt\n",
    "plt.imshow(x_test[0])\n",
    "print('라벨: ', y_test[0])"
   ]
  },
  {
   "cell_type": "code",
   "execution_count": 39,
   "id": "272728f4",
   "metadata": {},
   "outputs": [
    {
     "name": "stdout",
     "output_type": "stream",
     "text": [
      "300/1 - 0s - loss: 0.0606 - accuracy: 0.9767\n",
      "test_loss: 0.11871701433944205 \n",
      "test_accuracy: 0.9766666889190674\n"
     ]
    }
   ],
   "source": [
    "# 모델 테스트\n",
    "test_loss, test_accuracy = model.evaluate(x_test_norm, y_test, verbose=2)\n",
    "print(\"test_loss: {} \".format(test_loss))\n",
    "print(\"test_accuracy: {}\".format(test_accuracy))"
   ]
  },
  {
   "cell_type": "markdown",
   "id": "485f29c4",
   "metadata": {},
   "source": [
    "#### 딥러닝 네트워크 설계하기\n",
    "- 하이퍼 파라미터 튜닝: https://sy-programmingstudy.tistory.com/9"
   ]
  },
  {
   "cell_type": "markdown",
   "id": "c3f88412",
   "metadata": {},
   "source": [
    "# 8. for문으로 한번에 resize하는 법\n",
    "\n",
    "Model Picture 폴더 /Rock, /Paper, /Scissor 아래에 가위바위보 사진이 라벨 별로 들어가 있으니, 한번에 리사이징할 수 있도록 코드를 변경한다."
   ]
  },
  {
   "cell_type": "code",
   "execution_count": 40,
   "id": "785a9b62",
   "metadata": {},
   "outputs": [],
   "source": [
    "# image_directory = os.getenv(\"HOMEPATH\") + \"/Desktop/class/rock_scissor_paper\"\n",
    "# path_pool = \"/Rock\", \"/Scissor\", \"/Paper\"\n",
    "# target_size=(28, 28)\n",
    "\n",
    "# for path in path_pool:\n",
    "#     images=glob.glob(image_directory + path + \"/*.jpg\")\n",
    "    \n",
    "#     for img in images:\n",
    "#         old_img=Image.open(img)\n",
    "#         new_img=old_img.resize(target_size, Image.ANTIALIAS)\n",
    "#         new_img.save(img, \"JPEG\")\n",
    "# print(\"리사이징 완료\")"
   ]
  },
  {
   "cell_type": "markdown",
   "id": "d73ac903",
   "metadata": {},
   "source": [
    "--- seYi"
   ]
  }
 ],
 "metadata": {
  "kernelspec": {
   "display_name": "python3_7_6",
   "language": "python",
   "name": "py3_7_6"
  },
  "language_info": {
   "codemirror_mode": {
    "name": "ipython",
    "version": 3
   },
   "file_extension": ".py",
   "mimetype": "text/x-python",
   "name": "python",
   "nbconvert_exporter": "python",
   "pygments_lexer": "ipython3",
   "version": "3.7.6"
  }
 },
 "nbformat": 4,
 "nbformat_minor": 5
}
