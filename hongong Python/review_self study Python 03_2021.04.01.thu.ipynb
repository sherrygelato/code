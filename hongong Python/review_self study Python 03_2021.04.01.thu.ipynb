{
 "cells": [
  {
   "cell_type": "markdown",
   "id": "dcb77fc2",
   "metadata": {},
   "source": [
    "# 혼자 공부하는 파이썬\n",
    "\n",
    "# 3. 조건문\n",
    "\n",
    "## 03-1 불 자료형과 if 조건문\n",
    "- 불, 비교 연산자, 논리 연산자, if 조건문"
   ]
  },
  {
   "cell_type": "code",
   "execution_count": 53,
   "id": "aggregate-airport",
   "metadata": {},
   "outputs": [
    {
     "name": "stdout",
     "output_type": "stream",
     "text": [
      "True\n",
      "False\n"
     ]
    }
   ],
   "source": [
    "# 참과 거짓 boolean 불\n",
    "\n",
    "print(True)\n",
    "print(False)"
   ]
  },
  {
   "cell_type": "code",
   "execution_count": 55,
   "id": "aging-diameter",
   "metadata": {},
   "outputs": [
    {
     "name": "stdout",
     "output_type": "stream",
     "text": [
      "False\n",
      "True\n",
      "True\n",
      "False\n",
      "True\n",
      "False\n"
     ]
    }
   ],
   "source": [
    "print(10==100) #같다\n",
    "print(10 != 100) #다르다\n",
    "print(10<100) #작다\n",
    "print(10>100) #크다\n",
    "print(10<=100) #작거나 같다\n",
    "print(10>=100) #크거나 같다"
   ]
  },
  {
   "cell_type": "code",
   "execution_count": 57,
   "id": "rental-paint",
   "metadata": {},
   "outputs": [
    {
     "name": "stdout",
     "output_type": "stream",
     "text": [
      "True\n",
      "True\n",
      "True\n",
      "False\n"
     ]
    }
   ],
   "source": [
    "print(\"가방\"==\"가방\")\n",
    "print(\"가방\"!=\"하마\")\n",
    "print(\"가방\"<\"하마\")  # 사전순서. 가방이 앞에 있으니 하마보다 작은 값\n",
    "print(\"가방\">\"하마\")"
   ]
  },
  {
   "cell_type": "code",
   "execution_count": 59,
   "id": "better-myanmar",
   "metadata": {},
   "outputs": [
    {
     "name": "stdout",
     "output_type": "stream",
     "text": [
      "True\n",
      "False\n"
     ]
    }
   ],
   "source": [
    "x = 25\n",
    "print(10<x<30)\n",
    "print(40<x<60)"
   ]
  },
  {
   "cell_type": "code",
   "execution_count": 60,
   "id": "verbal-packaging",
   "metadata": {},
   "outputs": [
    {
     "name": "stdout",
     "output_type": "stream",
     "text": [
      "False\n",
      "True\n"
     ]
    }
   ],
   "source": [
    "print(not True)\n",
    "print(not False)"
   ]
  },
  {
   "cell_type": "code",
   "execution_count": 61,
   "id": "laughing-presentation",
   "metadata": {},
   "outputs": [
    {
     "name": "stdout",
     "output_type": "stream",
     "text": [
      "under_20: True\n",
      "not under_20: False\n"
     ]
    }
   ],
   "source": [
    "x=10\n",
    "under_20 = x<20\n",
    "print(\"under_20:\", under_20)\n",
    "print(\"not under_20:\", not under_20)"
   ]
  },
  {
   "cell_type": "code",
   "execution_count": 63,
   "id": "economic-paragraph",
   "metadata": {},
   "outputs": [
    {
     "name": "stdout",
     "output_type": "stream",
     "text": [
      "True\n",
      "False\n",
      "False\n",
      "False\n"
     ]
    }
   ],
   "source": [
    "print(True and True)\n",
    "print(True and False)\n",
    "print(False and True)\n",
    "print(False and False)     # and는 양쪽이 다 참일 때 T"
   ]
  },
  {
   "cell_type": "code",
   "execution_count": 64,
   "id": "incomplete-shelf",
   "metadata": {},
   "outputs": [
    {
     "name": "stdout",
     "output_type": "stream",
     "text": [
      "True\n",
      "True\n",
      "True\n",
      "False\n"
     ]
    }
   ],
   "source": [
    "print(True or True)\n",
    "print(True or False)\n",
    "print(False or True)\n",
    "print(False or False)     # or는 둘 중 하나라도 참일 때 T"
   ]
  },
  {
   "cell_type": "code",
   "execution_count": 65,
   "id": "activated-anthony",
   "metadata": {},
   "outputs": [],
   "source": [
    "# if 조건문\n",
    "#      if 불 값이 나오는 표현식:\n",
    "#      0000 (tap)"
   ]
  },
  {
   "cell_type": "code",
   "execution_count": 66,
   "id": "noble-gospel",
   "metadata": {},
   "outputs": [
    {
     "name": "stdout",
     "output_type": "stream",
     "text": [
      "True입니다...!\n",
      "정말 True입니다...!\n"
     ]
    }
   ],
   "source": [
    "if True:\n",
    "    print(\"True입니다...!\")\n",
    "    print(\"정말 True입니다...!\")"
   ]
  },
  {
   "cell_type": "code",
   "execution_count": 69,
   "id": "several-squad",
   "metadata": {},
   "outputs": [],
   "source": [
    "if False:\n",
    "    print(\"False입니다...!\")"
   ]
  },
  {
   "cell_type": "markdown",
   "id": "62d1b505",
   "metadata": {},
   "source": [
    "##### 조건문의 기본 사용"
   ]
  },
  {
   "cell_type": "code",
   "execution_count": 73,
   "id": "saving-prompt",
   "metadata": {},
   "outputs": [
    {
     "name": "stdout",
     "output_type": "stream",
     "text": [
      "정수 입력> 3\n",
      "양수입니다.\n"
     ]
    }
   ],
   "source": [
    "# 입력을 받습니다.\n",
    "number = input(\"정수 입력> \")\n",
    "number = int(number)\n",
    "\n",
    "# 양수 조건\n",
    "if number > 0:\n",
    "    print(\"양수입니다.\")\n",
    "\n",
    "# 음수 조건\n",
    "if number < 0:\n",
    "    print(\"음수입니다.\")\n",
    "\n",
    "# 0 조건\n",
    "if number == 0:\n",
    "    print(\"0입니다.\")            # =은 정의할 때 쓰지 불 연산문에서는 =="
   ]
  },
  {
   "cell_type": "markdown",
   "id": "august-publicity",
   "metadata": {},
   "source": [
    "##### 날짜/시간 출력하기"
   ]
  },
  {
   "cell_type": "code",
   "execution_count": 74,
   "id": "accomplished-finder",
   "metadata": {},
   "outputs": [
    {
     "name": "stdout",
     "output_type": "stream",
     "text": [
      "2021 년\n",
      "4 월\n",
      "1 일\n",
      "20 시\n",
      "20 분\n",
      "10 초\n"
     ]
    }
   ],
   "source": [
    "#날짜와 시간과 관련된 기능을 가져옵니다.\n",
    "import datetime\n",
    "\n",
    "#현재 날짜/시간을 구합니다.\n",
    "now = datetime.datetime.now()\n",
    "\n",
    "# 출력합니다.\n",
    "print(now.year, \"년\")\n",
    "print(now.month, \"월\")\n",
    "print(now.day, \"일\")\n",
    "print(now.hour, \"시\")\n",
    "print(now.minute, \"분\")\n",
    "print(now.second, \"초\")"
   ]
  },
  {
   "cell_type": "markdown",
   "id": "29d30bfa",
   "metadata": {},
   "source": [
    "##### 날짜/시간을 한 줄로 출력하기"
   ]
  },
  {
   "cell_type": "code",
   "execution_count": 76,
   "id": "according-lyric",
   "metadata": {},
   "outputs": [
    {
     "name": "stdout",
     "output_type": "stream",
     "text": [
      "2021년 4월 1일 20시 22분 42초\n"
     ]
    }
   ],
   "source": [
    "#날짜와 시간과 관련된 기능을 가져옵니다.\n",
    "import datetime\n",
    "\n",
    "#현재 날짜/시간을 구합니다.\n",
    "now = datetime.datetime.now()\n",
    "\n",
    "# 출력합니다.\n",
    "print(\"{}년 {}월 {}일 {}시 {}분 {}초\".format(\n",
    "    now.year,\n",
    "    now.month,\n",
    "    now.day,\n",
    "    now.hour,\n",
    "    now.minute,\n",
    "    now.second\n",
    "))"
   ]
  },
  {
   "cell_type": "markdown",
   "id": "feadbf28",
   "metadata": {},
   "source": [
    "##### 오전과 오후를 구분하는 프로그램"
   ]
  },
  {
   "cell_type": "code",
   "execution_count": 77,
   "id": "optimum-hometown",
   "metadata": {},
   "outputs": [
    {
     "name": "stdout",
     "output_type": "stream",
     "text": [
      "현재 시각은 20시로 오후입니다!\n"
     ]
    }
   ],
   "source": [
    "#날짜와 시간과 관련된 기능을 가져옵니다.\n",
    "import datetime\n",
    "\n",
    "#현재 날짜/시간을 구합니다.\n",
    "now = datetime.datetime.now()\n",
    "\n",
    "# 오전 구분\n",
    "if now.hour < 12:\n",
    "    print(\"현재 시각은 {}시로 오전입니다!\".format(now.hour))\n",
    "\n",
    "# 오후 구분\n",
    "if now.hour > 12:\n",
    "    print(\"현재 시각은 {}시로 오후입니다!\".format(now.hour))"
   ]
  },
  {
   "cell_type": "markdown",
   "id": "6f932f97",
   "metadata": {},
   "source": [
    "##### 계절을 구분하는 프로그램"
   ]
  },
  {
   "cell_type": "code",
   "execution_count": 79,
   "id": "searching-examination",
   "metadata": {},
   "outputs": [
    {
     "name": "stdout",
     "output_type": "stream",
     "text": [
      "이번 달은 4월로 봄입니다!\n"
     ]
    }
   ],
   "source": [
    "#날짜와 시간과 관련된 기능을 가져옵니다.\n",
    "import datetime\n",
    "\n",
    "#현재 날짜/시간을 구합니다.\n",
    "now = datetime.datetime.now()\n",
    "\n",
    "# 봄 구분\n",
    "if 3 <= now.month <= 5:\n",
    "    print(\"이번 달은 {}월로 봄입니다!\".format(now.month))\n",
    "    \n",
    "# 여름 구분\n",
    "if 6 <= now.month <= 8:\n",
    "    print(\"이번 달은 {}월로 여름입니다!\".format(now.month))\n",
    "        \n",
    "# 가을 구분\n",
    "if 9 <= now.month <= 11:\n",
    "    print(\"이번 달은 {}월로 가을입니다!\".format(now.month))\n",
    "    \n",
    "# 겨울 구분\n",
    "if now.month == 12 or 1 <= now.month <= 2:\n",
    "    print(\"이번 달은 {}월로 겨울입니다!\".format(now.month))"
   ]
  },
  {
   "cell_type": "markdown",
   "id": "equivalent-business",
   "metadata": {},
   "source": [
    "##### 끝자리로 짝수와 홀수 구분"
   ]
  },
  {
   "cell_type": "code",
   "execution_count": 81,
   "id": "ecological-imagination",
   "metadata": {},
   "outputs": [
    {
     "name": "stdout",
     "output_type": "stream",
     "text": [
      "정수 입력> 399\n",
      "홀수입니다.\n"
     ]
    }
   ],
   "source": [
    "# 입력을 받습니다.\n",
    "number = input(\"정수 입력> \")\n",
    "\n",
    "# 마지막 자리 숫자를 추출\n",
    "last_character = number[-1]\n",
    "\n",
    "# 숫자로 변환하기\n",
    "last_number = int(last_character)\n",
    "\n",
    "# 짝수 확인\n",
    "if last_number == 0 \\\n",
    "    or last_number == 2 \\\n",
    "    or last_number == 4 \\\n",
    "    or last_number == 6 \\\n",
    "    or last_number == 8 :\n",
    "    print(\"짝수입니다.\")\n",
    "\n",
    "# 홀수 확인\n",
    "# 짝수 확인\n",
    "if last_number == 1 \\\n",
    "    or last_number == 3 \\\n",
    "    or last_number == 5 \\\n",
    "    or last_number == 7 \\\n",
    "    or last_number == 9 :\n",
    "    print(\"홀수입니다.\")"
   ]
  },
  {
   "cell_type": "markdown",
   "id": "d1e84e7f",
   "metadata": {},
   "source": [
    "##### in 문자열 연산자를 활용해서 짝수와 홀수 구분"
   ]
  },
  {
   "cell_type": "code",
   "execution_count": 83,
   "id": "independent-language",
   "metadata": {},
   "outputs": [
    {
     "name": "stdout",
     "output_type": "stream",
     "text": [
      "정수 입력> 297\n",
      "홀수\n"
     ]
    }
   ],
   "source": [
    "# 입력을 받습니다.\n",
    "number = input(\"정수 입력> \")\n",
    "last_character = number[-1]\n",
    "\n",
    "# 짝수 조건\n",
    "if last_character in \"02468\":\n",
    "    print(\"짝수\")\n",
    "\n",
    "# 홀수 조건\n",
    "if last_character in \"13579\":\n",
    "    print(\"홀수\")"
   ]
  },
  {
   "cell_type": "markdown",
   "id": "2f33ab46",
   "metadata": {},
   "source": [
    "##### 나머지 연산자를 활용해서 짝수와 홀수 구분"
   ]
  },
  {
   "cell_type": "code",
   "execution_count": 85,
   "id": "exceptional-mongolia",
   "metadata": {},
   "outputs": [
    {
     "name": "stdout",
     "output_type": "stream",
     "text": [
      "정수 입력> 274\n",
      "짝수\n"
     ]
    }
   ],
   "source": [
    "# 입력을 받습니다.\n",
    "number = input(\"정수 입력> \")\n",
    "number = int(number)\n",
    "\n",
    "# 짝수 조건\n",
    "if number % 2 == 0 :         # %는 나머지, //는 몫\n",
    "    print(\"짝수\")\n",
    "\n",
    "# 홀수 조건\n",
    "if number % 2 == 1 :\n",
    "    print(\"홀수\")"
   ]
  },
  {
   "cell_type": "markdown",
   "id": "2ba58695",
   "metadata": {},
   "source": [
    "### 확인문제"
   ]
  },
  {
   "cell_type": "code",
   "execution_count": 86,
   "id": "italian-stanford",
   "metadata": {},
   "outputs": [
    {
     "name": "stdout",
     "output_type": "stream",
     "text": [
      "> 1번째 숫자: 100\n",
      "> 2번째 숫자: 10\n",
      "\n",
      "처음 입력했던 100가 10보다 더 큽니다.\n"
     ]
    }
   ],
   "source": [
    "# 숫자 두개 입력받고 첫 숫자가 큰지 두번째 숫자가 큰지 구하는 프로그램\n",
    "\n",
    "a = int(input(\"> 1번째 숫자: \"))\n",
    "b = int(input(\"> 2번째 숫자: \"))\n",
    "print()\n",
    "\n",
    "if a > b:\n",
    "    print(\"처음 입력했던 {}가 {}보다 더 큽니다.\".format(a,b))\n",
    "if a < b:\n",
    "    print(\"두 번째로 입력했던 {}가 {}보다 더 큽니다.\".format(b,a))"
   ]
  },
  {
   "cell_type": "code",
   "execution_count": 87,
   "id": "heavy-trademark",
   "metadata": {},
   "outputs": [
    {
     "name": "stdout",
     "output_type": "stream",
     "text": [
      "> 1번째 숫자: 100\n",
      "> 2번째 숫자: 10\n",
      "\n",
      "처음 입력했던 100.0가 10.0보다 더 큽니다.\n"
     ]
    }
   ],
   "source": [
    "# 숫자 두개 입력받고 첫 숫자가 큰지 두번째 숫자가 큰지 구하는 프로그램\n",
    "\n",
    "a = float(input(\"> 1번째 숫자: \"))\n",
    "b = float(input(\"> 2번째 숫자: \"))\n",
    "print()\n",
    "\n",
    "if a > b:\n",
    "    print(\"처음 입력했던 {}가 {}보다 더 큽니다.\".format(a,b))\n",
    "if a < b:\n",
    "    print(\"두 번째로 입력했던 {}가 {}보다 더 큽니다.\".format(b,a))"
   ]
  },
  {
   "cell_type": "markdown",
   "id": "declared-philadelphia",
   "metadata": {},
   "source": [
    "## 03-2. if~else와 elif 구문\n",
    "- else 구문, elif 구문, False 값, pass"
   ]
  },
  {
   "cell_type": "markdown",
   "id": "12e80179",
   "metadata": {},
   "source": [
    "##### if 조건문에 else 구문을 추가해서 짝수와 홀수 구분"
   ]
  },
  {
   "cell_type": "code",
   "execution_count": 89,
   "id": "rising-rescue",
   "metadata": {},
   "outputs": [
    {
     "name": "stdout",
     "output_type": "stream",
     "text": [
      "정수 입력> 3\n",
      "홀수입니다.\n"
     ]
    }
   ],
   "source": [
    "# 입력을 받습니다.\n",
    "number = input(\"정수 입력> \")\n",
    "number = int(number)\n",
    "\n",
    "# 짝수 조건\n",
    "if number % 2 == 0 :\n",
    "    print(\"짝수입니다.\")\n",
    "    \n",
    "# 홀수 조건\n",
    "if number % 2 == 1 :\n",
    "    print(\"홀수입니다.\")"
   ]
  },
  {
   "cell_type": "markdown",
   "id": "nervous-central",
   "metadata": {},
   "source": [
    "if 조건: \\\n",
    "  0000조건이 참일 때 실행할 문장 \\\n",
    "else : \\\n",
    "  0000조건이 거짓일 때 실행할 문장"
   ]
  },
  {
   "cell_type": "code",
   "execution_count": 90,
   "id": "thorough-physics",
   "metadata": {},
   "outputs": [
    {
     "name": "stdout",
     "output_type": "stream",
     "text": [
      "정수 입력> 25\n",
      "홀수\n"
     ]
    }
   ],
   "source": [
    "# 입력을 받습니다.\n",
    "number = input(\"정수 입력> \")\n",
    "number = int(number)\n",
    "\n",
    "# 조건문을 사용합니다.\n",
    "if number % 2 == 0:\n",
    "    # 조건이 참일 때, 즉 짝수 조건\n",
    "    print(\"짝수\")\n",
    "else:\n",
    "    # 조건이 거짓일 때, 즉 홀수 조건\n",
    "    print(\"홀수\")"
   ]
  },
  {
   "cell_type": "markdown",
   "id": "imperial-ranking",
   "metadata": {},
   "source": [
    "##### 계절 구하기"
   ]
  },
  {
   "cell_type": "code",
   "execution_count": 93,
   "id": "chemical-malpractice",
   "metadata": {},
   "outputs": [
    {
     "name": "stdout",
     "output_type": "stream",
     "text": [
      "봄\n"
     ]
    }
   ],
   "source": [
    "# 날짜/시간과 관련된 기능을 가져옵니다.\n",
    "import datetime\n",
    "\n",
    "# 현재 날짜/시간을 구하고\n",
    "# 쉽게 사용할 수 있게 월을 변수에 저장합니다.\n",
    "now = datetime.datetime.now()\n",
    "month=now.month\n",
    "\n",
    "# 조건문으로 계절을 확인합니다.\n",
    "if 3<= now.month <= 5:\n",
    "    print(\"봄\")\n",
    "elif 6 <= now.month <= 8:\n",
    "    print(\"여름\")\n",
    "elif 9 <= now.month <=11:\n",
    "    print(\"가을\")\n",
    "else:\n",
    "    print(\"겨울\")"
   ]
  },
  {
   "cell_type": "markdown",
   "id": "casual-vampire",
   "metadata": {},
   "source": [
    "##### 유머를 조건문으로 구현하기 (1) #성적프로그램"
   ]
  },
  {
   "cell_type": "code",
   "execution_count": 94,
   "id": "taken-joining",
   "metadata": {},
   "outputs": [
    {
     "name": "stdout",
     "output_type": "stream",
     "text": [
      "학점 입력> 2.4\n",
      "5등급: 일탈을 꿈꾸는 소시민\n"
     ]
    }
   ],
   "source": [
    "# 변수를 선언합니다.\n",
    "score = float(input(\"학점 입력> \"))\n",
    "\n",
    "# 조건문을 적용합니다.\n",
    "if score == 4.5:\n",
    "    print(\"1등급: 신\")\n",
    "elif 4.2 <= score < 4.5:\n",
    "    print(\"2등급: 교수님의 사랑\")\n",
    "elif 3.5 <= score < 4.2:\n",
    "    print(\"3등급: 현 체제의 수호자\")\n",
    "elif 2.8 <= score < 3.5:\n",
    "    print(\"4등급: 일반인\")\n",
    "elif 2.3 <= score < 2.8:\n",
    "    print(\"5등급: 일탈을 꿈꾸는 소시민\")\n",
    "elif 1.75 <= score < 2.3:\n",
    "    print(\"6등급: 오락 문화의 선구자\")\n",
    "elif 1.0 <= score < 1.75:\n",
    "    print(\"7등급: 불가촉천민\")\n",
    "elif 0.5 <= score < 1.0:\n",
    "    print(\"8등급: 자벌레\")\n",
    "elif 0 < score < 0.5:\n",
    "    print(\"9등급: 플랑크톤\")\n",
    "elif score == 0:\n",
    "    print(\"10등급: 시대를 앞서가는 혁명의 씨앗\")"
   ]
  },
  {
   "cell_type": "markdown",
   "id": "2538dc9b",
   "metadata": {},
   "source": [
    "##### 유머를 조건문으로 구현하기 (2) #성적프로그램"
   ]
  },
  {
   "cell_type": "code",
   "execution_count": 95,
   "id": "collective-switzerland",
   "metadata": {},
   "outputs": [
    {
     "name": "stdout",
     "output_type": "stream",
     "text": [
      "학점 입력> 3.5\n",
      "3등급: 현 체제의 수호자\n"
     ]
    }
   ],
   "source": [
    "# 변수를 선언합니다.\n",
    "score = float(input(\"학점 입력> \"))\n",
    "\n",
    "# 조건문을 적용합니다.\n",
    "if score == 4.5:\n",
    "    print(\"1등급: 신\")\n",
    "elif 4.2 <= score:\n",
    "    print(\"2등급: 교수님의 사랑\")\n",
    "elif 3.5 <= score:\n",
    "    print(\"3등급: 현 체제의 수호자\")\n",
    "elif 2.8 <= score:\n",
    "    print(\"4등급: 일반인\")\n",
    "elif 2.3 <= score:\n",
    "    print(\"5등급: 일탈을 꿈꾸는 소시민\")\n",
    "elif 1.75 <= score:\n",
    "    print(\"6등급: 오락 문화의 선구자\")\n",
    "elif 1.0 <= score:\n",
    "    print(\"7등급: 불가촉천민\")\n",
    "elif 0.5 <= score:\n",
    "    print(\"8등급: 자벌레\")\n",
    "elif 0 < score :\n",
    "    print(\"9등급: 플랑크톤\")\n",
    "elif score == 0:\n",
    "    print(\"10등급: 시대를 앞서가는 혁명의 씨앗\")"
   ]
  },
  {
   "cell_type": "markdown",
   "id": "64761b1b",
   "metadata": {},
   "source": [
    "##### False로 변환되는 값"
   ]
  },
  {
   "cell_type": "code",
   "execution_count": 96,
   "id": "soviet-egyptian",
   "metadata": {},
   "outputs": [
    {
     "name": "stdout",
     "output_type": "stream",
     "text": [
      "# if 조건문에 0 녛기\n",
      "0은 False로 변환됩니다.\n",
      "\n",
      "# if 조건문에 빈 문자열 넣기\n",
      "빈 문자열은 False로 변환됩니다.\n"
     ]
    }
   ],
   "source": [
    "print(\"# if 조건문에 0 녛기\")\n",
    "if 0:\n",
    "    print(\"0은 True로 변환됩니다.\")\n",
    "else:\n",
    "    print(\"0은 False로 변환됩니다.\")\n",
    "print()\n",
    "\n",
    "print(\"# if 조건문에 빈 문자열 넣기\")\n",
    "if \"\":\n",
    "    print(\"빈 문자열은 True로 변환됩니다.\")\n",
    "else:\n",
    "    print(\"빈 문자열은 False로 변환됩니다.\")"
   ]
  },
  {
   "cell_type": "markdown",
   "id": "potential-track",
   "metadata": {},
   "source": [
    "##### 나중에 구현하려고 비워 둔 구문"
   ]
  },
  {
   "cell_type": "code",
   "execution_count": 97,
   "id": "nervous-pound",
   "metadata": {},
   "outputs": [
    {
     "ename": "IndentationError",
     "evalue": "expected an indented block (<ipython-input-97-5f0c42aa7f35>, line 8)",
     "output_type": "error",
     "traceback": [
      "\u001b[1;36m  File \u001b[1;32m\"<ipython-input-97-5f0c42aa7f35>\"\u001b[1;36m, line \u001b[1;32m8\u001b[0m\n\u001b[1;33m    else:\u001b[0m\n\u001b[1;37m       ^\u001b[0m\n\u001b[1;31mIndentationError\u001b[0m\u001b[1;31m:\u001b[0m expected an indented block\n"
     ]
    }
   ],
   "source": [
    "# 입력을 받습니다.\n",
    "number = input(\"정수 입력> \")\n",
    "number = int(number)\n",
    "\n",
    "# 조건문 사용\n",
    "if number > 0:\n",
    "    # 양수일 때 : 아직 미구현 상태.\n",
    "else:\n",
    "    # 음수일 때 : 아직 미구현 상태."
   ]
  },
  {
   "cell_type": "code",
   "execution_count": 98,
   "id": "civic-replacement",
   "metadata": {},
   "outputs": [],
   "source": [
    "if number > 0:\n",
    "    0\n",
    "else:\n",
    "    0"
   ]
  },
  {
   "cell_type": "markdown",
   "id": "8ad6c416",
   "metadata": {},
   "source": [
    "##### pass 키워드를 사용한 미구현 부분 입력"
   ]
  },
  {
   "cell_type": "code",
   "execution_count": 99,
   "id": "dressed-indiana",
   "metadata": {},
   "outputs": [
    {
     "name": "stdout",
     "output_type": "stream",
     "text": [
      "정수 입력> 1\n"
     ]
    }
   ],
   "source": [
    "# 입력을 받습니다.\n",
    "number = input(\"정수 입력> \")\n",
    "number = int(number)\n",
    "\n",
    "# 조건문 사용\n",
    "if number > 0:\n",
    "    # 양수일 때 : 아직 미구현 상태.\n",
    "    pass\n",
    "else:\n",
    "    # 음수일 때 : 아직 미구현 상태.\n",
    "    pass"
   ]
  },
  {
   "cell_type": "markdown",
   "id": "complex-anderson",
   "metadata": {},
   "source": [
    "### 확인문제"
   ]
  },
  {
   "cell_type": "code",
   "execution_count": 103,
   "id": "normal-acting",
   "metadata": {},
   "outputs": [
    {
     "name": "stdout",
     "output_type": "stream",
     "text": [
      "12\n"
     ]
    }
   ],
   "source": [
    "x=2\n",
    "y=10\n",
    "\n",
    "if x>4:\n",
    "    if y>2:\n",
    "        print(x*y)     # 첫 if가 거짓으로\n",
    "else:\n",
    "    print(x+y)"
   ]
  },
  {
   "cell_type": "code",
   "execution_count": 104,
   "id": "polish-thumb",
   "metadata": {},
   "outputs": [
    {
     "name": "stdout",
     "output_type": "stream",
     "text": [
      "5\n"
     ]
    }
   ],
   "source": [
    "x=1\n",
    "y=4\n",
    "\n",
    "if x>4:\n",
    "    if y>2:\n",
    "        print(x*y)\n",
    "else: print(x+y)"
   ]
  },
  {
   "cell_type": "code",
   "execution_count": 106,
   "id": "analyzed-diesel",
   "metadata": {},
   "outputs": [],
   "source": [
    "x=10\n",
    "y=2\n",
    "\n",
    "if x>4:\n",
    "    if y>2:\n",
    "        print(x*y)\n",
    "else:\n",
    "    print(x+y)"
   ]
  },
  {
   "cell_type": "code",
   "execution_count": 113,
   "id": "pending-viewer",
   "metadata": {},
   "outputs": [
    {
     "name": "stdout",
     "output_type": "stream",
     "text": [
      "정수입력> 13\n",
      "조건에 맞습니다.\n"
     ]
    }
   ],
   "source": [
    "x = input(\"정수입력> \")\n",
    "x = int(x)\n",
    "\n",
    "if 10<x<20:\n",
    "    print(\"조건에 맞습니다.\")"
   ]
  },
  {
   "cell_type": "code",
   "execution_count": 115,
   "id": "honest-cigarette",
   "metadata": {},
   "outputs": [
    {
     "name": "stdout",
     "output_type": "stream",
     "text": [
      "정수입력> 45\n",
      "x\n"
     ]
    }
   ],
   "source": [
    "x = input(\"정수입력> \")\n",
    "x = int(x)\n",
    "\n",
    "if 10<x<20:\n",
    "    print(\"조건에 맞습니다.\")\n",
    "else:\n",
    "    print(\"x\")"
   ]
  },
  {
   "cell_type": "markdown",
   "id": "timely-affect",
   "metadata": {},
   "source": [
    "##### 태어난 연도로 알아보는 띠 프로그램"
   ]
  },
  {
   "cell_type": "code",
   "execution_count": 119,
   "id": "fourth-garbage",
   "metadata": {},
   "outputs": [
    {
     "name": "stdout",
     "output_type": "stream",
     "text": [
      "태어난 해를 입력해 주세요> 1991\n",
      "양 띠입니다.\n"
     ]
    }
   ],
   "source": [
    "str_input = input(\"태어난 해를 입력해 주세요> \")\n",
    "birth_year = int(str_input) % 12\n",
    "\n",
    "if birth_year == 0:\n",
    "    print(\"원숭이 띠입니다.\")\n",
    "elif birth_year == 1:\n",
    "    print(\"닭 띠입니다.\")\n",
    "elif birth_year == 2:\n",
    "    print(\"개 띠입니다.\")\n",
    "elif birth_year == 3:\n",
    "    print(\"돼지 띠입니다.\")\n",
    "elif birth_year == 4:\n",
    "    print(\"쥐 띠입니다.\")\n",
    "elif birth_year == 5:\n",
    "    print(\"소 띠입니다.\")\n",
    "elif birth_year == 6:\n",
    "    print(\"호랑이 띠입니다.\")\n",
    "elif birth_year == 7:\n",
    "    print(\"토끼 띠입니다.\")\n",
    "elif birth_year == 8:\n",
    "    print(\"용 띠입니다.\")\n",
    "elif birth_year == 9:\n",
    "    print(\"뱀띠입니다.\")\n",
    "elif birth_year == 10:\n",
    "    print(\"말 띠입니다.\")\n",
    "elif birth_year == 11:\n",
    "    print(\"양 띠입니다.\")"
   ]
  }
 ],
 "metadata": {
  "kernelspec": {
   "display_name": "python3_7_6",
   "language": "python",
   "name": "py3_7_6"
  },
  "language_info": {
   "codemirror_mode": {
    "name": "ipython",
    "version": 3
   },
   "file_extension": ".py",
   "mimetype": "text/x-python",
   "name": "python",
   "nbconvert_exporter": "python",
   "pygments_lexer": "ipython3",
   "version": "3.7.6"
  }
 },
 "nbformat": 4,
 "nbformat_minor": 5
}
