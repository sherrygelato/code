{
 "cells": [
  {
   "cell_type": "markdown",
   "id": "0f97c71b",
   "metadata": {},
   "source": [
    "# 혼자 공부하는 파이썬\n",
    "\n",
    "# 1. 파이썬 시작하기\n",
    "\n",
    "## 01-1 파이썬을 하기 전에 읽는 아주 간단한 설명\n",
    "- 컴퓨터 프로그램, 소스 코드, 파이썬"
   ]
  },
  {
   "cell_type": "markdown",
   "id": "worth-medline",
   "metadata": {},
   "source": [
    "Pro + Gram = Program \\\n",
    "미리+작성된것=미리 작성된 것 (프로그래밍) \n",
    "\n",
    "\n",
    " \\ (역슬러시): 줄바꾸기"
   ]
  },
  {
   "cell_type": "markdown",
   "id": "dc943dd2",
   "metadata": {},
   "source": [
    "## 01-2 파이썬을 배우기 위해 준비해야 할 것들\n",
    "- 텍스트 에디터, 파이썬 인터프리터, 인터렉티브, python 명령어"
   ]
  },
  {
   "cell_type": "code",
   "execution_count": 1,
   "id": "977fa980",
   "metadata": {},
   "outputs": [
    {
     "data": {
      "text/plain": [
       "20"
      ]
     },
     "execution_count": 1,
     "metadata": {},
     "output_type": "execute_result"
    }
   ],
   "source": [
    "10+10"
   ]
  },
  {
   "cell_type": "code",
   "execution_count": 3,
   "id": "noticed-colors",
   "metadata": {
    "scrolled": true
   },
   "outputs": [
    {
     "data": {
      "text/plain": [
       "'HelloHelloHello'"
      ]
     },
     "execution_count": 3,
     "metadata": {},
     "output_type": "execute_result"
    }
   ],
   "source": [
    "\"Hello\"*3"
   ]
  },
  {
   "cell_type": "code",
   "execution_count": 4,
   "id": "welsh-player",
   "metadata": {
    "scrolled": false
   },
   "outputs": [
    {
     "name": "stdout",
     "output_type": "stream",
     "text": [
      "IDLE에서 파이썬 코드를\n",
      "작성해서 출력해 보는\n",
      "예제입니다\n"
     ]
    }
   ],
   "source": [
    "print(\"IDLE에서 파이썬 코드를\")\n",
    "print(\"작성해서 출력해 보는\")\n",
    "print(\"예제입니다\") # pr까지 입력하고 [tab]을 누르면 자동으로 print 나옴"
   ]
  },
  {
   "cell_type": "markdown",
   "id": "e82d7423",
   "metadata": {},
   "source": [
    "### 확인문제"
   ]
  },
  {
   "cell_type": "code",
   "execution_count": 7,
   "id": "taken-thickness",
   "metadata": {
    "scrolled": true
   },
   "outputs": [
    {
     "name": "stdout",
     "output_type": "stream",
     "text": [
      "Hello Python\n"
     ]
    }
   ],
   "source": [
    "print(\"Hello Python\")"
   ]
  },
  {
   "cell_type": "code",
   "execution_count": 9,
   "id": "rising-fancy",
   "metadata": {},
   "outputs": [
    {
     "name": "stdout",
     "output_type": "stream",
     "text": [
      "Hello!Hello!Hello!\n",
      "혼자 공부하다 모르면 동영상 강의를 참고하세요!\n"
     ]
    }
   ],
   "source": [
    "print(\"Hello!\"*3)\n",
    "print(\"혼자 공부하다 모르면 동영상 강의를 참고하세요!\")"
   ]
  },
  {
   "cell_type": "markdown",
   "id": "8af2d1cd",
   "metadata": {},
   "source": [
    "## 01-3 이 책에서 자주 나오는 파이썬 용어들\n",
    "- 표현식, 키워드, 식별자, 주석, print()"
   ]
  },
  {
   "cell_type": "code",
   "execution_count": 10,
   "id": "scientific-track",
   "metadata": {},
   "outputs": [
    {
     "name": "stdout",
     "output_type": "stream",
     "text": [
      "Python Programming\n"
     ]
    }
   ],
   "source": [
    "print(\"Python Programming\")"
   ]
  },
  {
   "cell_type": "code",
   "execution_count": 11,
   "id": "committed-killing",
   "metadata": {},
   "outputs": [],
   "source": [
    "import keyword"
   ]
  },
  {
   "cell_type": "code",
   "execution_count": 12,
   "id": "recent-tucson",
   "metadata": {},
   "outputs": [
    {
     "name": "stdout",
     "output_type": "stream",
     "text": [
      "['False', 'None', 'True', 'and', 'as', 'assert', 'async', 'await', 'break', 'class', 'continue', 'def', 'del', 'elif', 'else', 'except', 'finally', 'for', 'from', 'global', 'if', 'import', 'in', 'is', 'lambda', 'nonlocal', 'not', 'or', 'pass', 'raise', 'return', 'try', 'while', 'with', 'yield']\n"
     ]
    }
   ],
   "source": [
    "print(keyword.kwlist)"
   ]
  },
  {
   "cell_type": "code",
   "execution_count": 17,
   "id": "illegal-preparation",
   "metadata": {},
   "outputs": [
    {
     "name": "stdout",
     "output_type": "stream",
     "text": [
      "Hello! Python Programming...\n"
     ]
    }
   ],
   "source": [
    "print(\"Hello! Python Programming...\") #문자열을 출력함. #기호 뒷부분이 주석처리됨"
   ]
  },
  {
   "cell_type": "code",
   "execution_count": 18,
   "id": "imposed-finnish",
   "metadata": {},
   "outputs": [
    {
     "data": {
      "text/plain": [
       "2"
      ]
     },
     "execution_count": 18,
     "metadata": {},
     "output_type": "execute_result"
    }
   ],
   "source": [
    "1+1"
   ]
  },
  {
   "cell_type": "code",
   "execution_count": 19,
   "id": "powered-theology",
   "metadata": {},
   "outputs": [
    {
     "data": {
      "text/plain": [
       "0"
      ]
     },
     "execution_count": 19,
     "metadata": {},
     "output_type": "execute_result"
    }
   ],
   "source": [
    "10-10"
   ]
  },
  {
   "cell_type": "code",
   "execution_count": 20,
   "id": "loose-opinion",
   "metadata": {},
   "outputs": [
    {
     "name": "stdout",
     "output_type": "stream",
     "text": [
      "Hello Python Programming...!\n",
      "52\n",
      "273\n"
     ]
    }
   ],
   "source": [
    "print(\"Hello Python Programming...!\")\n",
    "print(52)\n",
    "print(273)"
   ]
  },
  {
   "cell_type": "code",
   "execution_count": 23,
   "id": "casual-pizza",
   "metadata": {},
   "outputs": [
    {
     "name": "stdout",
     "output_type": "stream",
     "text": [
      "52 273 Hello\n",
      "안녕하세요 저의 이름은 윤인성입니다!\n",
      "안녕하세요저의이름은윤인성입니다!\n"
     ]
    }
   ],
   "source": [
    "print(52,273, \"Hello\")\n",
    "print(\"안녕하세요\", \"저의\",\"이름은\",\"윤인성입니다!\") #콤마하면 저절로 띄어쓰기 되고 중간에 +나오면 빈칸없이 나오나봐\n",
    "print(\"안녕하세요\"+\"저의\"+\"이름은\"+\"윤인성입니다!\")"
   ]
  },
  {
   "cell_type": "code",
   "execution_count": 25,
   "id": "vital-briefing",
   "metadata": {},
   "outputs": [
    {
     "name": "stdout",
     "output_type": "stream",
     "text": [
      "\n"
     ]
    }
   ],
   "source": [
    "print()\n",
    "        # 빈 줄을 출력함"
   ]
  },
  {
   "cell_type": "markdown",
   "id": "be32a4cf",
   "metadata": {},
   "source": [
    "##### 기본 출력"
   ]
  },
  {
   "cell_type": "code",
   "execution_count": 28,
   "id": "increasing-dietary",
   "metadata": {},
   "outputs": [
    {
     "name": "stdout",
     "output_type": "stream",
     "text": [
      "# 하나만 출력합니다.\n",
      "Hello Pythont programming...!\n",
      "\n",
      "# 여러 개를 출력합니다.\n",
      "10 20 30 40 50\n",
      "안녕하세요 저의 이름은 윤인성입니다!\n",
      "\n",
      "# 아무것도 출력하지 않습니다.\n",
      "--- 확인 전용선 ---\n",
      "\n",
      "\n",
      "--- 확인 전용선 ---\n"
     ]
    }
   ],
   "source": [
    "# 하나만 출력합니다.\n",
    "print(\"# 하나만 출력합니다.\")\n",
    "print(\"Hello Pythont programming...!\")\n",
    "print()\n",
    "\n",
    "# 여러 개를 출력합니다\n",
    "print(\"# 여러 개를 출력합니다.\")\n",
    "print(10,20,30,40,50)\n",
    "print(\"안녕하세요\", \"저의\", \"이름은\", \"윤인성입니다!\")\n",
    "print()\n",
    "\n",
    "# 아무것도 입력하지 않으면 단순하게 줄바꿈합니다.\n",
    "print(\"# 아무것도 출력하지 않습니다.\")\n",
    "print(\"--- 확인 전용선 ---\")\n",
    "print()\n",
    "print()\n",
    "print(\"--- 확인 전용선 ---\")"
   ]
  }
 ],
 "metadata": {
  "kernelspec": {
   "display_name": "python3_7_6",
   "language": "python",
   "name": "py3_7_6"
  },
  "language_info": {
   "codemirror_mode": {
    "name": "ipython",
    "version": 3
   },
   "file_extension": ".py",
   "mimetype": "text/x-python",
   "name": "python",
   "nbconvert_exporter": "python",
   "pygments_lexer": "ipython3",
   "version": "3.7.6"
  }
 },
 "nbformat": 4,
 "nbformat_minor": 5
}
