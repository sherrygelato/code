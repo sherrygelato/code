{
 "cells": [
  {
   "cell_type": "markdown",
   "id": "f7d21e0f",
   "metadata": {},
   "source": [
    "# 함수\n",
    "## 5-1 함수 만들기\n",
    "- 호출, 매개변수, 리턴값, 가변 매개변수, 기본 매개변수"
   ]
  },
  {
   "cell_type": "markdown",
   "id": "ba2f6c3b",
   "metadata": {},
   "source": [
    "- 함수 호출: 함수를 사용하는 것 (input)\n",
    "- 매개변수: 함수 호출 시 넣게 되는 자료 (fuc, 전처리)\n",
    "- 리턴값: 함수 호출로 최종적으로 나오는 결과 (output)"
   ]
  },
  {
   "cell_type": "markdown",
   "id": "8cddb5ca",
   "metadata": {},
   "source": [
    "### 함수의 기본\n",
    "- def 함수 이름():\n",
    "- ㅁㅁㅁㅁ 문장"
   ]
  },
  {
   "cell_type": "markdown",
   "id": "6680d986",
   "metadata": {},
   "source": [
    "##### 기본적인 함수"
   ]
  },
  {
   "cell_type": "code",
   "execution_count": 1,
   "id": "4abc8cfa",
   "metadata": {},
   "outputs": [
    {
     "name": "stdout",
     "output_type": "stream",
     "text": [
      "안녕하세요\n",
      "안녕하세요\n",
      "안녕하세요\n"
     ]
    }
   ],
   "source": [
    "def print_3_times():\n",
    "    print(\"안녕하세요\")\n",
    "    print(\"안녕하세요\")\n",
    "    print(\"안녕하세요\")\n",
    "\n",
    "print_3_times()"
   ]
  },
  {
   "cell_type": "markdown",
   "id": "b45e9442",
   "metadata": {},
   "source": [
    "### 함수에 매개변수 \n",
    "- def 함수 이름(매개변수, 매개변수, ...):\n",
    "- ㅁㅁㅁㅁ문장"
   ]
  },
  {
   "cell_type": "markdown",
   "id": "2ef97910",
   "metadata": {},
   "source": [
    "##### 매개변수의 기본"
   ]
  },
  {
   "cell_type": "code",
   "execution_count": 3,
   "id": "06e32ca4",
   "metadata": {},
   "outputs": [
    {
     "name": "stdout",
     "output_type": "stream",
     "text": [
      "안녕하세요\n",
      "안녕하세요\n",
      "안녕하세요\n",
      "안녕하세요\n",
      "안녕하세요\n"
     ]
    }
   ],
   "source": [
    "def print_n_times(value, n):\n",
    "    for i in range(n):\n",
    "        print(value)\n",
    "    \n",
    "print_n_times(\"안녕하세요\", 5) # 매개변수는 덜 넣거나 더 넣으면 타입에러 뜸"
   ]
  },
  {
   "cell_type": "markdown",
   "id": "9261db32",
   "metadata": {},
   "source": [
    "### 가변 매개변수\n",
    "- 매개변수를 원하는만큼 받을 수 있는 함수\n",
    "\n",
    "- def 함수 이름(매개변수, 매개변수, ..., *가변 매개변수):\n",
    "- ㅁㅁㅁㅁ문장\n",
    "\n",
    "\n",
    "- 가변 매개변수 뒤에는 일반 매개변수가 올 수 없고,\n",
    "- 하나만 사용할 수 있음"
   ]
  },
  {
   "cell_type": "markdown",
   "id": "9b6524db",
   "metadata": {},
   "source": [
    "##### 가변 매개변수 함수"
   ]
  },
  {
   "cell_type": "code",
   "execution_count": 5,
   "id": "66677337",
   "metadata": {},
   "outputs": [
    {
     "name": "stdout",
     "output_type": "stream",
     "text": [
      "안녕하세요\n",
      "즐거운\n",
      "파이썬 프로그램\n",
      "\n",
      "안녕하세요\n",
      "즐거운\n",
      "파이썬 프로그램\n",
      "\n",
      "안녕하세요\n",
      "즐거운\n",
      "파이썬 프로그램\n",
      "\n"
     ]
    }
   ],
   "source": [
    "def print_n_times(n, *values):\n",
    "    # n번 반복\n",
    "    for i in range(n):\n",
    "        # value는 리스트처럼 활용\n",
    "        for value in values:\n",
    "                print(value)\n",
    "        #줄바꿈\n",
    "        print()\n",
    "        \n",
    "#함수 호출\n",
    "print_n_times(3, \"안녕하세요\", \"즐거운\", \"파이썬 프로그램\")"
   ]
  },
  {
   "cell_type": "markdown",
   "id": "80d58caa",
   "metadata": {},
   "source": [
    "### 기본 매개변수\n",
    "- '매개변수 = 값'\n",
    "- 기본 미개변수 뒤에는 일반 매개변수가 올 수 없다."
   ]
  },
  {
   "cell_type": "markdown",
   "id": "de5573dc",
   "metadata": {},
   "source": [
    "##### 기본 매개변수"
   ]
  },
  {
   "cell_type": "code",
   "execution_count": 6,
   "id": "a4651d90",
   "metadata": {},
   "outputs": [
    {
     "name": "stdout",
     "output_type": "stream",
     "text": [
      "안녕하세요\n",
      "안녕하세요\n"
     ]
    }
   ],
   "source": [
    "def print_n_times(value, n=2):\n",
    "    # n번 반복\n",
    "    for i in range(n):\n",
    "        print(value)\n",
    "\n",
    "# 함수 호출\n",
    "print_n_times(\"안녕하세요\")"
   ]
  },
  {
   "cell_type": "markdown",
   "id": "97b21224",
   "metadata": {},
   "source": [
    "#### 기본 매개변수가 가변 매개변수보다 앞에 올 때 (에러)"
   ]
  },
  {
   "cell_type": "code",
   "execution_count": 1,
   "id": "95bfcb80",
   "metadata": {},
   "outputs": [
    {
     "ename": "TypeError",
     "evalue": "'str' object cannot be interpreted as an integer",
     "output_type": "error",
     "traceback": [
      "\u001b[1;31m---------------------------------------------------------------------------\u001b[0m",
      "\u001b[1;31mTypeError\u001b[0m                                 Traceback (most recent call last)",
      "\u001b[1;32m<ipython-input-1-d930e83b4778>\u001b[0m in \u001b[0;36m<module>\u001b[1;34m\u001b[0m\n\u001b[0;32m      9\u001b[0m \u001b[1;33m\u001b[0m\u001b[0m\n\u001b[0;32m     10\u001b[0m \u001b[1;31m# 함수 호출\u001b[0m\u001b[1;33m\u001b[0m\u001b[1;33m\u001b[0m\u001b[1;33m\u001b[0m\u001b[0m\n\u001b[1;32m---> 11\u001b[1;33m \u001b[0mprint_n_times\u001b[0m\u001b[1;33m(\u001b[0m\u001b[1;34m\"안녕하세요\"\u001b[0m\u001b[1;33m,\u001b[0m \u001b[1;34m\"즐거운\"\u001b[0m\u001b[1;33m,\u001b[0m \u001b[1;34m\"파이썬 프로그래밍\"\u001b[0m\u001b[1;33m)\u001b[0m\u001b[1;33m\u001b[0m\u001b[1;33m\u001b[0m\u001b[0m\n\u001b[0m",
      "\u001b[1;32m<ipython-input-1-d930e83b4778>\u001b[0m in \u001b[0;36mprint_n_times\u001b[1;34m(n, *values)\u001b[0m\n\u001b[0;32m      1\u001b[0m \u001b[1;32mdef\u001b[0m \u001b[0mprint_n_times\u001b[0m\u001b[1;33m(\u001b[0m\u001b[0mn\u001b[0m\u001b[1;33m=\u001b[0m\u001b[1;36m2\u001b[0m\u001b[1;33m,\u001b[0m \u001b[1;33m*\u001b[0m\u001b[0mvalues\u001b[0m\u001b[1;33m)\u001b[0m\u001b[1;33m:\u001b[0m\u001b[1;33m\u001b[0m\u001b[1;33m\u001b[0m\u001b[0m\n\u001b[0;32m      2\u001b[0m     \u001b[1;31m#n번 반복\u001b[0m\u001b[1;33m\u001b[0m\u001b[1;33m\u001b[0m\u001b[1;33m\u001b[0m\u001b[0m\n\u001b[1;32m----> 3\u001b[1;33m     \u001b[1;32mfor\u001b[0m \u001b[0mi\u001b[0m \u001b[1;32min\u001b[0m \u001b[0mrange\u001b[0m\u001b[1;33m(\u001b[0m\u001b[0mn\u001b[0m\u001b[1;33m)\u001b[0m\u001b[1;33m:\u001b[0m\u001b[1;33m\u001b[0m\u001b[1;33m\u001b[0m\u001b[0m\n\u001b[0m\u001b[0;32m      4\u001b[0m         \u001b[1;31m# values는 리스트처럼 활용\u001b[0m\u001b[1;33m\u001b[0m\u001b[1;33m\u001b[0m\u001b[1;33m\u001b[0m\u001b[0m\n\u001b[0;32m      5\u001b[0m         \u001b[1;32mfor\u001b[0m \u001b[0mvalue\u001b[0m \u001b[1;32min\u001b[0m \u001b[0mvalues\u001b[0m\u001b[1;33m:\u001b[0m\u001b[1;33m\u001b[0m\u001b[1;33m\u001b[0m\u001b[0m\n",
      "\u001b[1;31mTypeError\u001b[0m: 'str' object cannot be interpreted as an integer"
     ]
    }
   ],
   "source": [
    "def print_n_times(n=2, *values):\n",
    "    #n번 반복\n",
    "    for i in range(n):\n",
    "        # values는 리스트처럼 활용\n",
    "        for value in values:\n",
    "            print(value)\n",
    "        # 단순한 줄바꿈\n",
    "        print()\n",
    "    \n",
    "# 함수 호출\n",
    "print_n_times(\"안녕하세요\", \"즐거운\", \"파이썬 프로그래밍\")"
   ]
  },
  {
   "cell_type": "markdown",
   "id": "057946ba",
   "metadata": {},
   "source": [
    "#### 가변 매개변수가 기본 매개변수보다 앞에 올때"
   ]
  },
  {
   "cell_type": "code",
   "execution_count": 2,
   "id": "4ad62031",
   "metadata": {},
   "outputs": [
    {
     "name": "stdout",
     "output_type": "stream",
     "text": [
      "안녕하세요\n",
      "즐거운\n",
      "파이썬 프로그래밍\n",
      "\n",
      "안녕하세요\n",
      "즐거운\n",
      "파이썬 프로그래밍\n",
      "\n"
     ]
    }
   ],
   "source": [
    "def print_n_times(*values, n=2):\n",
    "    #n번 반복\n",
    "    for i in range(n):\n",
    "        # values는 리스트처럼 활용\n",
    "        for value in values:\n",
    "            print(value)\n",
    "        # 단순한 줄바꿈\n",
    "        print()\n",
    "    \n",
    "# 함수 호출\n",
    "print_n_times(\"안녕하세요\", \"즐거운\", \"파이썬 프로그래밍\")"
   ]
  },
  {
   "cell_type": "markdown",
   "id": "42bece4b",
   "metadata": {},
   "source": [
    "##### 키워드 매개변수"
   ]
  },
  {
   "cell_type": "code",
   "execution_count": 3,
   "id": "4a23b2ac",
   "metadata": {},
   "outputs": [
    {
     "name": "stdout",
     "output_type": "stream",
     "text": [
      "안녕하세요\n",
      "즐거운\n",
      "파이썬 프로그래밍\n",
      "\n",
      "안녕하세요\n",
      "즐거운\n",
      "파이썬 프로그래밍\n",
      "\n",
      "안녕하세요\n",
      "즐거운\n",
      "파이썬 프로그래밍\n",
      "\n"
     ]
    }
   ],
   "source": [
    "def print_n_times(*values, n=2):\n",
    "    #n번 반복\n",
    "    for i in range(n):\n",
    "        # values는 리스트처럼 활용\n",
    "        for value in values:\n",
    "            print(value)\n",
    "        # 단순한 줄바꿈\n",
    "        print()\n",
    "    \n",
    "# 함수 호출\n",
    "print_n_times(\"안녕하세요\", \"즐거운\", \"파이썬 프로그래밍\", n=3)\n",
    "# 매개변수 이름을 지정해서 입력하는 매개변수"
   ]
  },
  {
   "cell_type": "markdown",
   "id": "9a98ea42",
   "metadata": {},
   "source": [
    "#### 기본 매개변수 중에서 필요한 값만 입력하기\n",
    "##### 여러 함수 호출 형태"
   ]
  },
  {
   "cell_type": "code",
   "execution_count": 5,
   "id": "c8b87232",
   "metadata": {},
   "outputs": [
    {
     "name": "stdout",
     "output_type": "stream",
     "text": [
      "60\n",
      "310\n",
      "310\n",
      "220\n"
     ]
    }
   ],
   "source": [
    "def test(a, b=10, c=100):\n",
    "    print(a+b+c)\n",
    "    \n",
    "# 1) 기본 형태\n",
    "test(10,20,30)\n",
    "# 2) 키워드 매개변수로 모든 매개변수를 지정한 형태\n",
    "test(a=10, b=100, c=200)\n",
    "# 3) 키워드 매개변수로 모든 매개변수를 마구잡이로 지정한 형태\n",
    "test(c=10, a=100, b=200)\n",
    "# 4) 키워드 매개변수로 일부 매개변수만 지정한 형태\n",
    "test(10, c=200)"
   ]
  },
  {
   "cell_type": "markdown",
   "id": "17397613",
   "metadata": {},
   "source": [
    "### 리턴return"
   ]
  },
  {
   "cell_type": "markdown",
   "id": "96421c33",
   "metadata": {},
   "source": [
    "##### 자료 없이 리턴하기"
   ]
  },
  {
   "cell_type": "code",
   "execution_count": 7,
   "id": "16e4d834",
   "metadata": {},
   "outputs": [
    {
     "name": "stdout",
     "output_type": "stream",
     "text": [
      "A 위치 입니다.\n"
     ]
    }
   ],
   "source": [
    "def return_test():\n",
    "    print(\"A 위치 입니다.\")\n",
    "    return # 리턴\n",
    "    print(\"B 위치 입니다.\")\n",
    "    \n",
    "# 함수 호출\n",
    "return_test()"
   ]
  },
  {
   "cell_type": "markdown",
   "id": "203861ba",
   "metadata": {},
   "source": [
    "##### 자료와 함께 리턴하기"
   ]
  },
  {
   "cell_type": "code",
   "execution_count": 8,
   "id": "56a6a4f0",
   "metadata": {},
   "outputs": [
    {
     "name": "stdout",
     "output_type": "stream",
     "text": [
      "100\n"
     ]
    }
   ],
   "source": [
    "def return_test():\n",
    "    return 100 # 리턴\n",
    "    \n",
    "# 함수 호출\n",
    "value = return_test()\n",
    "print(value)"
   ]
  },
  {
   "cell_type": "markdown",
   "id": "2a8ead72",
   "metadata": {},
   "source": [
    "##### 아무 것도 리턴하지 않았을 때의 리턴값"
   ]
  },
  {
   "cell_type": "code",
   "execution_count": 9,
   "id": "79a01b1f",
   "metadata": {},
   "outputs": [
    {
     "name": "stdout",
     "output_type": "stream",
     "text": [
      "None\n"
     ]
    }
   ],
   "source": [
    "# 함수 정의\n",
    "def return_test():\n",
    "    return \n",
    "    \n",
    "# 함수 호출\n",
    "value = return_test()\n",
    "print(value)"
   ]
  },
  {
   "cell_type": "markdown",
   "id": "9a287a32",
   "metadata": {},
   "source": [
    "### 기본적인 함수의 활용\n",
    "- def 함수(매개변수):\n",
    "- ㅁㅁㅁㅁ변수 = 초깃값\n",
    "- ㅁㅁㅁㅁ# 여러 가지 처리\n",
    "- ㅁㅁㅁㅁ# 여러 가지 처리\n",
    "- ㅁㅁㅁㅁ# 여러 가지 처리\n",
    "- ㅁㅁㅁㅁreturn"
   ]
  },
  {
   "cell_type": "markdown",
   "id": "f488b5fe",
   "metadata": {},
   "source": [
    "##### 범위 내부의 정수를 모두 더하는 함수"
   ]
  },
  {
   "cell_type": "code",
   "execution_count": 11,
   "id": "cc3b20fe",
   "metadata": {},
   "outputs": [
    {
     "name": "stdout",
     "output_type": "stream",
     "text": [
      "0 to 100: 5050\n",
      "0 to 1000: 500500\n",
      "50 to 100: 3825\n",
      "500 to 1000: 375750\n"
     ]
    }
   ],
   "source": [
    "# 함수 선언\n",
    "def sum_all(start,end):\n",
    "    # 변수 선언\n",
    "    output = 0\n",
    "    # 반복문 돌려 숫자 더하기\n",
    "    for i in range(start, end+1):\n",
    "        output+= i\n",
    "    # 리턴\n",
    "    return output\n",
    "\n",
    "# 함수 호출\n",
    "print(\"0 to 100:\", sum_all(0,100))\n",
    "print(\"0 to 1000:\", sum_all(0,1000))\n",
    "print(\"50 to 100:\", sum_all(50,100))\n",
    "print(\"500 to 1000:\", sum_all(500,1000))"
   ]
  },
  {
   "cell_type": "markdown",
   "id": "bd881344",
   "metadata": {},
   "source": [
    "##### 기본 매개변수와 키워드 매개변수를 활용해 범위의 정수를 더하는 함수"
   ]
  },
  {
   "cell_type": "code",
   "execution_count": 12,
   "id": "912f373e",
   "metadata": {},
   "outputs": [
    {
     "name": "stdout",
     "output_type": "stream",
     "text": [
      "A. 550\n",
      "B. 5050\n",
      "C. 2550\n"
     ]
    }
   ],
   "source": [
    "# 함수 선언\n",
    "def sum_all(start=0, end=100, step=1):\n",
    "    # 변수 선언\n",
    "    output = 0\n",
    "    # 반복문 돌려 숫자 더하기\n",
    "    for i in range(start, end+1,step):\n",
    "        output+= i\n",
    "    # 리턴\n",
    "    return output\n",
    "\n",
    "# 함수 호출\n",
    "print(\"A.\", sum_all(0,100,10))\n",
    "print(\"B.\", sum_all(end=100))\n",
    "print(\"C.\", sum_all(end=100, step=2))"
   ]
  },
  {
   "cell_type": "markdown",
   "id": "60b83932",
   "metadata": {},
   "source": [
    "### 핵심포인트\n",
    "- 호출: 함수를 실행하는 행위\n",
    "- 매개변수: 함수의 괄호 내부에 넣는 것\n",
    "- 리턴값: 함수의 최종적인 결과\n",
    "- 가변 매개변수 함수: 매개변수를 원하는 만큼 받을 수 있는 함수\n",
    "- 기본 매개변수: 매개변수에 아무것도 넣지 않아도 들어가는 값"
   ]
  },
  {
   "cell_type": "markdown",
   "id": "149a6a47",
   "metadata": {},
   "source": [
    "### 확인문제"
   ]
  },
  {
   "cell_type": "code",
   "execution_count": 13,
   "id": "eba1c4f1",
   "metadata": {},
   "outputs": [
    {
     "name": "stdout",
     "output_type": "stream",
     "text": [
      "21\n"
     ]
    }
   ],
   "source": [
    "# f(x) = 2x+1\n",
    "\n",
    "def f(x):\n",
    "    return 2*int(x)+1\n",
    "\n",
    "print(f(10))"
   ]
  },
  {
   "cell_type": "code",
   "execution_count": 15,
   "id": "a1781fbf",
   "metadata": {},
   "outputs": [
    {
     "name": "stdout",
     "output_type": "stream",
     "text": [
      "121\n"
     ]
    }
   ],
   "source": [
    "# f(x) = x^2+2x+1\n",
    "\n",
    "def f(x):\n",
    "    return int(x)**2+2*int(x)+1\n",
    "\n",
    "print(f(10))"
   ]
  },
  {
   "cell_type": "code",
   "execution_count": 18,
   "id": "a4c0e73a",
   "metadata": {},
   "outputs": [
    {
     "name": "stdout",
     "output_type": "stream",
     "text": [
      "3150\n"
     ]
    }
   ],
   "source": [
    "# 매개변수로 전달된 값들을 모두 곱해서 리턴하는 가변 매개변수 함수 만들기\n",
    "# 실행결과 3150\n",
    "\n",
    "def mul(*values):\n",
    "    output = 1\n",
    "    for value in values:\n",
    "        output *= value\n",
    "    return output\n",
    "\n",
    "print(mul(5, 7, 9, 10))"
   ]
  }
 ],
 "metadata": {
  "kernelspec": {
   "display_name": "python3_7_6",
   "language": "python",
   "name": "py3_7_6"
  },
  "language_info": {
   "codemirror_mode": {
    "name": "ipython",
    "version": 3
   },
   "file_extension": ".py",
   "mimetype": "text/x-python",
   "name": "python",
   "nbconvert_exporter": "python",
   "pygments_lexer": "ipython3",
   "version": "3.7.6"
  }
 },
 "nbformat": 4,
 "nbformat_minor": 5
}
