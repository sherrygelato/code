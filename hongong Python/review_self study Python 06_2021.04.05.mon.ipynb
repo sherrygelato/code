{
 "cells": [
  {
   "cell_type": "markdown",
   "id": "superb-melissa",
   "metadata": {},
   "source": [
    "# 6. 예외 처리\n",
    "### 06-1 구문 오류와 예외\n",
    "- 구문 오류, 예외(런타임 에러), 기본 예외 처리, try except 구문\n",
    "\n",
    "\n",
    "### 오류의 종류 (2 가지)\n",
    "- 1) 프로그램 실행 전에 발생하는 오류\n",
    "- 2) 프로그램 실행 중에 발생하는 오류\n",
    "\n",
    "\n",
    "#### 구문오류\n",
    "- 괄호의 개수, 들여쓰기 등으로 프로그램이 실행되기 전 발생하는 오류"
   ]
  },
  {
   "cell_type": "code",
   "execution_count": 1,
   "id": "rapid-interference",
   "metadata": {},
   "outputs": [
    {
     "ename": "SyntaxError",
     "evalue": "EOL while scanning string literal (<ipython-input-1-354a3ea11e2d>, line 5)",
     "output_type": "error",
     "traceback": [
      "\u001b[1;36m  File \u001b[1;32m\"<ipython-input-1-354a3ea11e2d>\"\u001b[1;36m, line \u001b[1;32m5\u001b[0m\n\u001b[1;33m    print(\"# 예외를 강제로 발생시켜 볼게요!) # 따옴표 열고 닫기 주의\u001b[0m\n\u001b[1;37m                                              ^\u001b[0m\n\u001b[1;31mSyntaxError\u001b[0m\u001b[1;31m:\u001b[0m EOL while scanning string literal\n"
     ]
    }
   ],
   "source": [
    "# 프로그램 시작\n",
    "print(\"# 프로그램이 시작되었습니다!\")\n",
    "\n",
    "# 구문 오류 발생 코드\n",
    "print(\"# 예외를 강제로 발생시켜 볼게요!) # 따옴표 열고 닫기 주의"
   ]
  },
  {
   "cell_type": "code",
   "execution_count": 2,
   "id": "governing-hydrogen",
   "metadata": {},
   "outputs": [
    {
     "name": "stdout",
     "output_type": "stream",
     "text": [
      "# 프로그램이 시작되었습니다!\n",
      "# 예외를 강제로 발생시켜 볼게요!\n"
     ]
    }
   ],
   "source": [
    "# 프로그램 시작\n",
    "print(\"# 프로그램이 시작되었습니다!\")\n",
    "\n",
    "# 구문 오류 발생 코드\n",
    "print(\"# 예외를 강제로 발생시켜 볼게요!\") # 따옴표 열고 닫기 주의"
   ]
  },
  {
   "cell_type": "markdown",
   "id": "representative-characteristic",
   "metadata": {},
   "source": [
    "#### 예외\n",
    "- 예외 또는 런타임 오류는 실행 중에 발생하는 오류"
   ]
  },
  {
   "cell_type": "code",
   "execution_count": 3,
   "id": "conceptual-virtue",
   "metadata": {},
   "outputs": [
    {
     "name": "stdout",
     "output_type": "stream",
     "text": [
      "# 프로그램이 시작되었습니다!\n"
     ]
    },
    {
     "ename": "NameError",
     "evalue": "name 'list_a' is not defined",
     "output_type": "error",
     "traceback": [
      "\u001b[1;31m---------------------------------------------------------------------------\u001b[0m",
      "\u001b[1;31mNameError\u001b[0m                                 Traceback (most recent call last)",
      "\u001b[1;32m<ipython-input-3-0a8fc3bda27c>\u001b[0m in \u001b[0;36m<module>\u001b[1;34m\u001b[0m\n\u001b[0;32m      3\u001b[0m \u001b[1;33m\u001b[0m\u001b[0m\n\u001b[0;32m      4\u001b[0m \u001b[1;31m# 예외 발생 코드\u001b[0m\u001b[1;33m\u001b[0m\u001b[1;33m\u001b[0m\u001b[1;33m\u001b[0m\u001b[0m\n\u001b[1;32m----> 5\u001b[1;33m \u001b[0mlist_a\u001b[0m\u001b[1;33m[\u001b[0m\u001b[1;36m1\u001b[0m\u001b[1;33m]\u001b[0m\u001b[1;33m\u001b[0m\u001b[1;33m\u001b[0m\u001b[0m\n\u001b[0m",
      "\u001b[1;31mNameError\u001b[0m: name 'list_a' is not defined"
     ]
    }
   ],
   "source": [
    "# 프로그램 시작\n",
    "print(\"# 프로그램이 시작되었습니다!\")\n",
    "\n",
    "# 예외 발생 코드\n",
    "list_a[1]"
   ]
  },
  {
   "cell_type": "code",
   "execution_count": 4,
   "id": "complex-coral",
   "metadata": {},
   "outputs": [
    {
     "name": "stdout",
     "output_type": "stream",
     "text": [
      "# 프로그램이 시작되었습니다!\n"
     ]
    },
    {
     "data": {
      "text/plain": [
       "2"
      ]
     },
     "execution_count": 4,
     "metadata": {},
     "output_type": "execute_result"
    }
   ],
   "source": [
    "# 프로그램 시작\n",
    "print(\"# 프로그램이 시작되었습니다!\")\n",
    "\n",
    "# 예외 발생 코드\n",
    "list_a = [1,2,3,4,5] # 정의해줌\n",
    "list_a[1]"
   ]
  },
  {
   "cell_type": "markdown",
   "id": "educational-secret",
   "metadata": {},
   "source": [
    "### 기본 예외 처리\n",
    "- 예외 처리: 예외를 해결하는 모든 것 (2 가지)\n",
    "    - 조건문 사용\n",
    "    - try 구문 사용"
   ]
  },
  {
   "cell_type": "markdown",
   "id": "sorted-israel",
   "metadata": {},
   "source": [
    "#### 예외 상황 확인"
   ]
  },
  {
   "cell_type": "code",
   "execution_count": 72,
   "id": "vital-laundry",
   "metadata": {},
   "outputs": [
    {
     "name": "stdout",
     "output_type": "stream",
     "text": [
      "정수입력> 7\n",
      "원의 반지름: 7\n",
      "원의 둘레: 43.96\n",
      "원의 넓이: 153.86\n"
     ]
    }
   ],
   "source": [
    "# 숫자 입력\n",
    "number_input_a = int(input(\"정수입력> \"))\n",
    "\n",
    "# 출력\n",
    "print(\"원의 반지름:\", number_input_a)\n",
    "print(\"원의 둘레:\", 2*3.14*number_input_a)\n",
    "print(\"원의 넓이:\", 3.14*number_input_a*number_input_a)"
   ]
  },
  {
   "cell_type": "code",
   "execution_count": 73,
   "id": "temporal-simpson",
   "metadata": {},
   "outputs": [
    {
     "name": "stdout",
     "output_type": "stream",
     "text": [
      "정수입력> 3.2\n"
     ]
    },
    {
     "ename": "ValueError",
     "evalue": "invalid literal for int() with base 10: '3.2'",
     "output_type": "error",
     "traceback": [
      "\u001b[1;31m---------------------------------------------------------------------------\u001b[0m",
      "\u001b[1;31mValueError\u001b[0m                                Traceback (most recent call last)",
      "\u001b[1;32m<ipython-input-73-921335b27d1c>\u001b[0m in \u001b[0;36m<module>\u001b[1;34m\u001b[0m\n\u001b[0;32m      1\u001b[0m \u001b[1;31m# 숫자 입력\u001b[0m\u001b[1;33m\u001b[0m\u001b[1;33m\u001b[0m\u001b[1;33m\u001b[0m\u001b[0m\n\u001b[1;32m----> 2\u001b[1;33m \u001b[0mnumber_input_a\u001b[0m \u001b[1;33m=\u001b[0m \u001b[0mint\u001b[0m\u001b[1;33m(\u001b[0m\u001b[0minput\u001b[0m\u001b[1;33m(\u001b[0m\u001b[1;34m\"정수입력> \"\u001b[0m\u001b[1;33m)\u001b[0m\u001b[1;33m)\u001b[0m\u001b[1;33m\u001b[0m\u001b[1;33m\u001b[0m\u001b[0m\n\u001b[0m\u001b[0;32m      3\u001b[0m \u001b[1;33m\u001b[0m\u001b[0m\n\u001b[0;32m      4\u001b[0m \u001b[1;31m# 출력\u001b[0m\u001b[1;33m\u001b[0m\u001b[1;33m\u001b[0m\u001b[1;33m\u001b[0m\u001b[0m\n\u001b[0;32m      5\u001b[0m \u001b[0mprint\u001b[0m\u001b[1;33m(\u001b[0m\u001b[1;34m\"원의 반지름:\"\u001b[0m\u001b[1;33m,\u001b[0m \u001b[0mnumber_input_a\u001b[0m\u001b[1;33m)\u001b[0m\u001b[1;33m\u001b[0m\u001b[1;33m\u001b[0m\u001b[0m\n",
      "\u001b[1;31mValueError\u001b[0m: invalid literal for int() with base 10: '3.2'"
     ]
    }
   ],
   "source": [
    "# 숫자 입력\n",
    "number_input_a = int(input(\"정수입력> \"))\n",
    "\n",
    "# 출력\n",
    "print(\"원의 반지름:\", number_input_a)\n",
    "print(\"원의 둘레:\", 2*3.14*number_input_a)\n",
    "print(\"원의 넓이:\", 3.14*number_input_a*number_input_a)"
   ]
  },
  {
   "cell_type": "markdown",
   "id": "appropriate-timeline",
   "metadata": {},
   "source": [
    "#### 조건문으로 예외 처리하기\n",
    "##### 문자열의 isdigit() 숫자로만 구성되었는지"
   ]
  },
  {
   "cell_type": "code",
   "execution_count": 79,
   "id": "sexual-requirement",
   "metadata": {},
   "outputs": [
    {
     "name": "stdout",
     "output_type": "stream",
     "text": [
      "정수입력> 8\n",
      "원의 반지름: 8\n",
      "원의 둘레: 50.24\n",
      "원의 넓이: 200.96\n"
     ]
    }
   ],
   "source": [
    "# 숫자 입력\n",
    "user_input_a = input(\"정수입력> \")\n",
    "\n",
    "# 사용자 입력이 숫자로만 구성되어 있을 때\n",
    "if user_input_a.isdigit():\n",
    "    # 숫자로 변환\n",
    "    number_input_a = int(user_input_a)\n",
    "# 출력\n",
    "    print(\"원의 반지름:\", number_input_a)\n",
    "    print(\"원의 둘레:\", 2*3.14*number_input_a)\n",
    "    print(\"원의 넓이:\", 3.14*number_input_a*number_input_a)\n",
    "else:\n",
    "    print(\"정수를 입력하지 않았습니다.\")"
   ]
  },
  {
   "cell_type": "code",
   "execution_count": 80,
   "id": "suffering-subject",
   "metadata": {},
   "outputs": [
    {
     "name": "stdout",
     "output_type": "stream",
     "text": [
      "정수입력> yes!\n",
      "정수를 입력하지 않았습니다.\n"
     ]
    }
   ],
   "source": [
    "# 숫자 입력\n",
    "user_input_a = input(\"정수입력> \")\n",
    "\n",
    "# 사용자 입력이 숫자로만 구성되어 있을 때\n",
    "if user_input_a.isdigit():\n",
    "    # 숫자로 변환\n",
    "    number_input_a = int(user_input_a)\n",
    "# 출력\n",
    "    print(\"원의 반지름:\", number_input_a)\n",
    "    print(\"원의 둘레:\", 2*3.14*number_input_a)\n",
    "    print(\"원의 넓이:\", 3.14*number_input_a*number_input_a)\n",
    "else:\n",
    "    print(\"정수를 입력하지 않았습니다.\")"
   ]
  },
  {
   "cell_type": "markdown",
   "id": "innocent-calibration",
   "metadata": {},
   "source": [
    "### try except 구문\n",
    "- 예외를 처리할 수 있는 구문 제공\n",
    "\n",
    "\n",
    "- try:\n",
    "- ㅁㅁㅁㅁ예외가 발생할 가능성이 있는 코드\n",
    "- except:\n",
    "- ㅁㅁㅁㅁ예외가 발생했을 때 실행할 코드\n",
    "\n",
    "\n",
    "- 어떤 상황에 예외가 발생하는지 완벽하게 이해하고 있지 않아도 프로그램이 강제로 죽어 버리는 상황을 막을 수 있음. "
   ]
  },
  {
   "cell_type": "markdown",
   "id": "db592473",
   "metadata": {},
   "source": [
    "##### try except 구문"
   ]
  },
  {
   "cell_type": "code",
   "execution_count": 82,
   "id": "informal-tolerance",
   "metadata": {},
   "outputs": [
    {
     "name": "stdout",
     "output_type": "stream",
     "text": [
      "정수 입력> yes\n",
      "무언가 잘못되었습니다.\n"
     ]
    }
   ],
   "source": [
    "# try except 구문으로 예외 처리\n",
    "try:\n",
    "    #  숫자로 변환\n",
    "    number_input_a = int(input(\"정수 입력> \")) # 예외가 발생할 가능성이 있는 구문\n",
    "    # 출력\n",
    "    print(\"원의 반지름:\", number_input_a)\n",
    "    print(\"원의 둘레:\", 2*3.14*number_input_a)\n",
    "    print(\"원의 넓이:\", 3.14*number_input_a*number_input_a)\n",
    "except:\n",
    "    print(\"무언가 잘못되었습니다.\") # 예외가 발생했을 때 실행할 구문"
   ]
  },
  {
   "cell_type": "markdown",
   "id": "developing-celtic",
   "metadata": {},
   "source": [
    "### try except 구문과 pass 키워드 조합\n",
    "- try:\n",
    "- ㅁㅁㅁㅁ예외가 발생할 가능성이 있는 코드\n",
    "- except:\n",
    "- ㅁㅁㅁㅁpass"
   ]
  },
  {
   "cell_type": "markdown",
   "id": "statistical-discovery",
   "metadata": {},
   "source": [
    "##### 숫자로 변환되는 것들만 리스트에 넣기"
   ]
  },
  {
   "cell_type": "code",
   "execution_count": 5,
   "id": "present-increase",
   "metadata": {},
   "outputs": [
    {
     "name": "stdout",
     "output_type": "stream",
     "text": [
      "['52', '273', '32', '스파이', '103'] 내부에 있는 숫자는\n",
      "['52', '273', '32', '103']입니다.\n"
     ]
    }
   ],
   "source": [
    "# 변수 선언\n",
    "list_input_a = [\"52\", \"273\", \"32\", \"스파이\", \"103\"]\n",
    "\n",
    "# 반복 적용\n",
    "list_number = []\n",
    "for item in list_input_a:\n",
    "    # 숫자로 변환해서 리스트에 추가\n",
    "    try:\n",
    "        float(item) # 예외가 발생하면 알아서 다음으로 진행은 안 되겠지?\n",
    "        list_number.append(item) # 예외 없이 통과했으면 리스트에 넣어줘!\n",
    "    except:\n",
    "        pass\n",
    "\n",
    "# 출력\n",
    "print(\"{} 내부에 있는 숫자는\".format(list_input_a))\n",
    "print(\"{}입니다.\".format(list_number))"
   ]
  },
  {
   "cell_type": "markdown",
   "id": "fuzzy-pendant",
   "metadata": {},
   "source": [
    "### try except else 구문\n",
    "- try:\n",
    "- ㅁㅁㅁㅁ예외가 발생할 가능성이 있는 코드\n",
    "- except:\n",
    "- ㅁㅁㅁㅁ예외가 발생했을 때 실행할 코드\n",
    "- else:\n",
    "- ㅁㅁㅁㅁ예외가 발생하지 않았을 때 실행할 코드"
   ]
  },
  {
   "cell_type": "markdown",
   "id": "3630c1fc",
   "metadata": {},
   "source": [
    "##### try except else 구문"
   ]
  },
  {
   "cell_type": "code",
   "execution_count": 6,
   "id": "handed-bulgarian",
   "metadata": {},
   "outputs": [
    {
     "name": "stdout",
     "output_type": "stream",
     "text": [
      "정수 입력> 7\n",
      "원의 반지름: 7\n",
      "원의 둘레: 43.96\n",
      "원의 넓이: 153.86\n"
     ]
    }
   ],
   "source": [
    "try:\n",
    "    # 숫자로 변환\n",
    "    number_input_a = int(input(\"정수 입력> \"))\n",
    "except:\n",
    "    print(\"정수를 입력하지 않았습니다.\")\n",
    "else:\n",
    "    # 출력합니다.\n",
    "    print(\"원의 반지름:\", number_input_a)\n",
    "    print(\"원의 둘레:\", 2*3.14*number_input_a)\n",
    "    print(\"원의 넓이:\", 3.14*number_input_a*number_input_a)"
   ]
  },
  {
   "cell_type": "code",
   "execution_count": 7,
   "id": "alert-fashion",
   "metadata": {},
   "outputs": [
    {
     "name": "stdout",
     "output_type": "stream",
     "text": [
      "정수 입력> yes\n",
      "정수를 입력하지 않았습니다.\n"
     ]
    }
   ],
   "source": [
    "# try except else 구문\n",
    "try:\n",
    "    # 숫자로 변환\n",
    "    number_input_a = int(input(\"정수 입력> \"))\n",
    "except:\n",
    "    print(\"정수를 입력하지 않았습니다.\")\n",
    "else:\n",
    "    # 출력합니다.\n",
    "    print(\"원의 반지름:\", number_input_a)\n",
    "    print(\"원의 둘레:\", 2*3.14*number_input_a)\n",
    "    print(\"원의 넓이:\", 3.14*number_input_a*number_input_a)"
   ]
  },
  {
   "cell_type": "markdown",
   "id": "opposite-ontario",
   "metadata": {},
   "source": [
    "### finally 구문\n",
    "- try:\n",
    "- ㅁㅁㅁㅁ예외가 발생할 가능성이 있는 코드\n",
    "- except:\n",
    "- ㅁㅁㅁㅁ예외가 발생했을 때 실행할 코드\n",
    "- else:\n",
    "- ㅁㅁㅁㅁ예외가 발생하지 않았을 때 실행할 코드\n",
    "- finally:\n",
    "- ㅁㅁㅁㅁ반드시 무조건 실행할 코드"
   ]
  },
  {
   "cell_type": "markdown",
   "id": "009baf25",
   "metadata": {},
   "source": [
    "##### try except 구문으로 예외 처리"
   ]
  },
  {
   "cell_type": "code",
   "execution_count": 8,
   "id": "exposed-destiny",
   "metadata": {},
   "outputs": [
    {
     "name": "stdout",
     "output_type": "stream",
     "text": [
      "정수 입력> 273\n",
      "원의 반지름: 273\n",
      "원의 둘레: 1714.44\n",
      "원의 넓이: 234021.06\n",
      "예외가 발생하지 않았습니다.\n",
      "일단 프로그램이 어떻게든 끝났습니다.\n"
     ]
    }
   ],
   "source": [
    "try:\n",
    "    # 숫자로 변환\n",
    "    number_input_a = int(input(\"정수 입력> \"))\n",
    "    # 출력합니다.\n",
    "    print(\"원의 반지름:\", number_input_a)\n",
    "    print(\"원의 둘레:\", 2*3.14*number_input_a)\n",
    "    print(\"원의 넓이:\", 3.14*number_input_a*number_input_a)\n",
    "except:\n",
    "    print(\"정수를 입력해달라고 했잖아요?!\")\n",
    "else:\n",
    "    print(\"예외가 발생하지 않았습니다.\")\n",
    "finally:\n",
    "    print(\"일단 프로그램이 어떻게든 끝났습니다.\")"
   ]
  },
  {
   "cell_type": "code",
   "execution_count": 9,
   "id": "seeing-newton",
   "metadata": {},
   "outputs": [
    {
     "name": "stdout",
     "output_type": "stream",
     "text": [
      "정수 입력> yes\n",
      "정수를 입력해달라고 했잖아요?!\n",
      "일단 프로그램이 어떻게든 끝났습니다.\n"
     ]
    }
   ],
   "source": [
    "# try except 구문으로 예외 처리\n",
    "try:\n",
    "    # 숫자로 변환\n",
    "    number_input_a = int(input(\"정수 입력> \"))\n",
    "    # 출력합니다.\n",
    "    print(\"원의 반지름:\", number_input_a)\n",
    "    print(\"원의 둘레:\", 2*3.14*number_input_a)\n",
    "    print(\"원의 넓이:\", 3.14*number_input_a*number_input_a)\n",
    "except:\n",
    "    print(\"정수를 입력해달라고 했잖아요?!\")\n",
    "else:\n",
    "    print(\"예외가 발생하지 않았습니다.\")\n",
    "finally:\n",
    "    print(\"일단 프로그램이 어떻게든 끝났습니다.\")"
   ]
  },
  {
   "cell_type": "markdown",
   "id": "39d5b0de",
   "metadata": {},
   "source": [
    "- try 구문은 단독으로 사용하지 못하며, except나 finally 구문과 함께 사용한다.\n",
    "- else 구문은 반드시 except 구문 뒤에 사용한다. "
   ]
  },
  {
   "cell_type": "markdown",
   "id": "passive-postcard",
   "metadata": {},
   "source": [
    "### finally에 대한 오해"
   ]
  },
  {
   "cell_type": "markdown",
   "id": "latin-maine",
   "metadata": {},
   "source": [
    "##### 파일이 제대로 닫혔는지 확인"
   ]
  },
  {
   "cell_type": "code",
   "execution_count": 10,
   "id": "attended-cooler",
   "metadata": {},
   "outputs": [
    {
     "name": "stdout",
     "output_type": "stream",
     "text": [
      "# 파일이 제대로 닫혔는지 확인\n",
      "file.closed: True\n"
     ]
    }
   ],
   "source": [
    "# try except 구문\n",
    "try:\n",
    "    # 파일 열기\n",
    "    file = open(\"info.txt\", \"w\")\n",
    "    # 여러가지 처리 수행\n",
    "    # 파일 닫기\n",
    "    file.close()\n",
    "except Exception as e:\n",
    "    print()\n",
    "    \n",
    "print(\"# 파일이 제대로 닫혔는지 확인\")\n",
    "print(\"file.closed:\", file.closed)"
   ]
  },
  {
   "cell_type": "markdown",
   "id": "copyrighted-parliament",
   "metadata": {},
   "source": [
    "##### 파일 처리 중간에 예외 발생"
   ]
  },
  {
   "cell_type": "code",
   "execution_count": 11,
   "id": "younger-hormone",
   "metadata": {},
   "outputs": [
    {
     "name": "stdout",
     "output_type": "stream",
     "text": [
      "name '예외' is not defined\n",
      "# 파일이 제대로 닫혔는지 확인\n",
      "file.closed: False\n"
     ]
    }
   ],
   "source": [
    "# try except 구문\n",
    "try:\n",
    "    # 파일 열기\n",
    "    file = open(\"info.txt\", \"w\")\n",
    "    # 여러가지 처리 수행\n",
    "    예외.발생하라()\n",
    "    # 파일 닫기\n",
    "    file.close()\n",
    "except Exception as e:\n",
    "    print(e)\n",
    "    \n",
    "print(\"# 파일이 제대로 닫혔는지 확인\")\n",
    "print(\"file.closed:\", file.closed)"
   ]
  },
  {
   "cell_type": "markdown",
   "id": "political-flood",
   "metadata": {},
   "source": [
    "##### finally 구문 사용해 파일 닫기"
   ]
  },
  {
   "cell_type": "code",
   "execution_count": 12,
   "id": "editorial-accuracy",
   "metadata": {},
   "outputs": [
    {
     "name": "stdout",
     "output_type": "stream",
     "text": [
      "name '예외' is not defined\n",
      "# 파일이 제대로 닫혔는지 확인\n",
      "file.closed: True\n"
     ]
    }
   ],
   "source": [
    "# try except 구문\n",
    "try:\n",
    "    # 파일 열기\n",
    "    file = open(\"info.txt\", \"w\")\n",
    "    # 여러가지 처리 수행\n",
    "    예외.발생하라()\n",
    "except Exception as e:\n",
    "    print(e)\n",
    "finally:\n",
    "    # 파일 닫기\n",
    "    file.close()\n",
    "    \n",
    "print(\"# 파일이 제대로 닫혔는지 확인\")\n",
    "print(\"file.closed:\", file.closed)"
   ]
  },
  {
   "cell_type": "markdown",
   "id": "round-point",
   "metadata": {},
   "source": [
    "##### try except 구문 끝난 후 파일 닫기"
   ]
  },
  {
   "cell_type": "code",
   "execution_count": 13,
   "id": "considerable-tulsa",
   "metadata": {},
   "outputs": [
    {
     "name": "stdout",
     "output_type": "stream",
     "text": [
      "name '예외' is not defined\n",
      "# 파일이 제대로 닫혔는지 확인\n",
      "file.closed: True\n"
     ]
    }
   ],
   "source": [
    "# try except 구문\n",
    "try:\n",
    "    # 파일 열기\n",
    "    file = open(\"info.txt\", \"w\")\n",
    "    # 여러가지 처리 수행\n",
    "    예외.발생하라()\n",
    "except Exception as e:\n",
    "    print(e)\n",
    "finally:\n",
    "    # 파일 닫기\n",
    "    file.close()\n",
    "    \n",
    "print(\"# 파일이 제대로 닫혔는지 확인\")\n",
    "print(\"file.closed:\", file.closed)"
   ]
  },
  {
   "cell_type": "markdown",
   "id": "intense-appliance",
   "metadata": {},
   "source": [
    "### try 구문 내부에서 return 키워드 사용하는 경우\n",
    "##### finally 구문은 반복문 또는 함수 내부에 있을 때 위력 발휘"
   ]
  },
  {
   "cell_type": "code",
   "execution_count": 14,
   "id": "stupid-redhead",
   "metadata": {},
   "outputs": [
    {
     "name": "stdout",
     "output_type": "stream",
     "text": [
      "test() 함수의 첫 줄입니다.\n",
      "try 구문이 실행되었습니다.\n",
      "finally 구문이 실행되었습니다.\n"
     ]
    }
   ],
   "source": [
    "# test() 함수 선언\n",
    "def test():\n",
    "    print(\"test() 함수의 첫 줄입니다.\")\n",
    "    try:\n",
    "        print(\"try 구문이 실행되었습니다.\")\n",
    "        return\n",
    "        print(\"try 구문의 return 키워드 뒤 입니다.\")\n",
    "    except:\n",
    "        print(\"except 구문이 실행되었습니다.\")\n",
    "    else:\n",
    "        print(\"else 구문이 실행되었습니다.\")\n",
    "    finally:\n",
    "        print(\"finally 구문이 실행되었습니다.\")\n",
    "    print(\"test() 함수의 마지막 줄 입니다\")\n",
    "\n",
    "# test() 함수 호출\n",
    "test()"
   ]
  },
  {
   "cell_type": "markdown",
   "id": "junior-equality",
   "metadata": {},
   "source": [
    "##### finally 키워드 활용"
   ]
  },
  {
   "cell_type": "code",
   "execution_count": 15,
   "id": "powered-remainder",
   "metadata": {},
   "outputs": [],
   "source": [
    "# 함수 선언\n",
    "def write_text_file(filename, text):\n",
    "    # try except 구문 사용\n",
    "    try:\n",
    "        # 파일 열기\n",
    "        file = open(filename, \"w\")\n",
    "        # 파일에 텍스트 입력\n",
    "        file.write(text)\n",
    "        # 여러가지 처리 수행\n",
    "        return\n",
    "    except Exception as e:\n",
    "        print(e)\n",
    "    finally:\n",
    "        # 파일 닫기\n",
    "        file.close()\n",
    "    \n",
    "# 함수 호출\n",
    "write_text_file(\"test.txt\", \"안녕하세요!\")"
   ]
  },
  {
   "cell_type": "markdown",
   "id": "informed-atlanta",
   "metadata": {},
   "source": [
    "##### 반복문과 함께 사용하는 경우"
   ]
  },
  {
   "cell_type": "code",
   "execution_count": 16,
   "id": "owned-economy",
   "metadata": {},
   "outputs": [
    {
     "name": "stdout",
     "output_type": "stream",
     "text": [
      "프로그램이 시작되었습니다.\n",
      "try 구문이 실행되었습니다.\n",
      "finally 구문이 실행되었습니다.\n",
      "프로그램이 종료되었습니다.\n"
     ]
    }
   ],
   "source": [
    "print(\"프로그램이 시작되었습니다.\")\n",
    "\n",
    "while True:\n",
    "    try:\n",
    "        print(\"try 구문이 실행되었습니다.\")\n",
    "        break\n",
    "        print(\"try 구문의 break 키워드 뒤 입니다.\")\n",
    "    except:\n",
    "        print(\"except 구문이 실행되었습니다.\")\n",
    "    finally:\n",
    "        print(\"finally 구문이 실행되었습니다.\")\n",
    "    print(\"while 반복문의 마지막 줄 입니다\")\n",
    "print(\"프로그램이 종료되었습니다.\")"
   ]
  },
  {
   "cell_type": "markdown",
   "id": "3488cf63",
   "metadata": {},
   "source": [
    "### 핵심포인트\n",
    "- 구문오류: 프로그램의 문법적인 오류로 프로그램이 실행조차 되지 않게 만드는 오류\n",
    "- 예외(런타임 에러): 프로그램 실행 중 발생하는 오류. try catch 구문 등으로 처리할 수 있다. 반대로 구문 오류는 실행 자체가 안 되므로 try catch 구문으로 처리할 수 없다.\n",
    "- 기본 예외 처리: 조건문 등을 사용해 예외를 처리하는 기본적인 방법\n",
    "- try except 구문: 예외 처리에 특화된 구문"
   ]
  },
  {
   "cell_type": "markdown",
   "id": "forced-prairie",
   "metadata": {},
   "source": [
    "### 확인문제"
   ]
  },
  {
   "cell_type": "code",
   "execution_count": 18,
   "id": "catholic-magazine",
   "metadata": {},
   "outputs": [
    {
     "data": {
      "text/plain": [
       "3"
      ]
     },
     "execution_count": 18,
     "metadata": {},
     "output_type": "execute_result"
    }
   ],
   "source": [
    "# 리스트 내부에서 특정 값이 어디 있는지 확인 시 리스트.index() 사용\n",
    "\n",
    "numbers = [52, 273, 32, 103, 90, 10, 275]\n",
    "\n",
    "numbers.index(103)"
   ]
  },
  {
   "cell_type": "code",
   "execution_count": 19,
   "id": "8f4f2feb",
   "metadata": {},
   "outputs": [
    {
     "data": {
      "text/plain": [
       "0"
      ]
     },
     "execution_count": 19,
     "metadata": {},
     "output_type": "execute_result"
    }
   ],
   "source": [
    "# 해당 값이 여러 개 있을 경우 첫 번째의 값 출력\n",
    "\n",
    "numbers = [1,1,1,1,1,1,1]\n",
    "\n",
    "numbers.index(1)"
   ]
  },
  {
   "cell_type": "code",
   "execution_count": 20,
   "id": "3c1cbb85",
   "metadata": {},
   "outputs": [
    {
     "ename": "ValueError",
     "evalue": "1000000 is not in list",
     "output_type": "error",
     "traceback": [
      "\u001b[1;31m---------------------------------------------------------------------------\u001b[0m",
      "\u001b[1;31mValueError\u001b[0m                                Traceback (most recent call last)",
      "\u001b[1;32m<ipython-input-20-1dec9e625bab>\u001b[0m in \u001b[0;36m<module>\u001b[1;34m\u001b[0m\n\u001b[0;32m      2\u001b[0m \u001b[0mnumbers\u001b[0m \u001b[1;33m=\u001b[0m \u001b[1;33m[\u001b[0m\u001b[1;36m52\u001b[0m\u001b[1;33m,\u001b[0m \u001b[1;36m273\u001b[0m\u001b[1;33m,\u001b[0m \u001b[1;36m32\u001b[0m\u001b[1;33m,\u001b[0m \u001b[1;36m103\u001b[0m\u001b[1;33m,\u001b[0m \u001b[1;36m90\u001b[0m\u001b[1;33m,\u001b[0m \u001b[1;36m10\u001b[0m\u001b[1;33m,\u001b[0m \u001b[1;36m275\u001b[0m\u001b[1;33m]\u001b[0m\u001b[1;33m\u001b[0m\u001b[1;33m\u001b[0m\u001b[0m\n\u001b[0;32m      3\u001b[0m \u001b[1;33m\u001b[0m\u001b[0m\n\u001b[1;32m----> 4\u001b[1;33m \u001b[0mnumbers\u001b[0m\u001b[1;33m.\u001b[0m\u001b[0mindex\u001b[0m\u001b[1;33m(\u001b[0m\u001b[1;36m1000000\u001b[0m\u001b[1;33m)\u001b[0m\u001b[1;33m\u001b[0m\u001b[1;33m\u001b[0m\u001b[0m\n\u001b[0m",
      "\u001b[1;31mValueError\u001b[0m: 1000000 is not in list"
     ]
    }
   ],
   "source": [
    "# 리스트의 없는 값에 접근하려고 할 때 ValueError 예외를 발생한다.\n",
    "numbers = [52, 273, 32, 103, 90, 10, 275]\n",
    "\n",
    "numbers.index(1000000)"
   ]
  },
  {
   "cell_type": "code",
   "execution_count": 21,
   "id": "5d4d90c3",
   "metadata": {},
   "outputs": [
    {
     "name": "stdout",
     "output_type": "stream",
     "text": [
      "# (1) 요소 내부에 있는 값 찾기\n",
      "- 52는 0 위치에 있습니다.\n",
      "\n",
      "# (2) 요소 내부에 없는 값 찾기\n",
      "- 리스트 내부에 없는 값입니다.\n",
      "\n",
      "--- 정상적으로 종료되었습니다. ---\n"
     ]
    }
   ],
   "source": [
    "# 문제\n",
    "\n",
    "numbers = [52, 273, 32, 103, 90, 10, 275]\n",
    "\n",
    "print(\"# (1) 요소 내부에 있는 값 찾기\")\n",
    "print(\"- {}는 {} 위치에 있습니다.\".format(52, numbers.index(52)))\n",
    "print()\n",
    "\n",
    "print(\"# (2) 요소 내부에 없는 값 찾기\")\n",
    "number = 10000\n",
    "if number in numbers:\n",
    "    print(\"- {}는 {} 위치에 있습니다.\".format(number, numbers.index(number)))\n",
    "else:\n",
    "    print(\"- 리스트 내부에 없는 값입니다.\")\n",
    "print()\n",
    "\n",
    "print(\"--- 정상적으로 종료되었습니다. ---\")"
   ]
  },
  {
   "cell_type": "code",
   "execution_count": 22,
   "id": "4a14da14",
   "metadata": {},
   "outputs": [
    {
     "ename": "TypeError",
     "evalue": "unsupported operand type(s) for +: 'int' and 'str'",
     "output_type": "error",
     "traceback": [
      "\u001b[1;31m---------------------------------------------------------------------------\u001b[0m",
      "\u001b[1;31mTypeError\u001b[0m                                 Traceback (most recent call last)",
      "\u001b[1;32m<ipython-input-22-48b368a99d40>\u001b[0m in \u001b[0;36m<module>\u001b[1;34m\u001b[0m\n\u001b[0;32m      1\u001b[0m \u001b[1;31m# 구문 오류, 예외 발생 예상되는 것 찾기\u001b[0m\u001b[1;33m\u001b[0m\u001b[1;33m\u001b[0m\u001b[1;33m\u001b[0m\u001b[0m\n\u001b[0;32m      2\u001b[0m \u001b[1;33m\u001b[0m\u001b[0m\n\u001b[1;32m----> 3\u001b[1;33m \u001b[0moutput\u001b[0m \u001b[1;33m=\u001b[0m \u001b[1;36m10\u001b[0m \u001b[1;33m+\u001b[0m \u001b[1;34m\"개\"\u001b[0m \u001b[1;31m# 구문 예외, 숫자와 문자열의 연산은 불가능\u001b[0m\u001b[1;33m\u001b[0m\u001b[1;33m\u001b[0m\u001b[0m\n\u001b[0m",
      "\u001b[1;31mTypeError\u001b[0m: unsupported operand type(s) for +: 'int' and 'str'"
     ]
    }
   ],
   "source": [
    "# 구문 오류, 예외 발생 예상되는 것 찾기\n",
    "\n",
    "output = 10 + \"개\" # 예외, 숫자와 문자열의 연산은 불가능"
   ]
  },
  {
   "cell_type": "code",
   "execution_count": 23,
   "id": "20fa2f3a",
   "metadata": {},
   "outputs": [
    {
     "ename": "ValueError",
     "evalue": "invalid literal for int() with base 10: '안녕하세요'",
     "output_type": "error",
     "traceback": [
      "\u001b[1;31m---------------------------------------------------------------------------\u001b[0m",
      "\u001b[1;31mValueError\u001b[0m                                Traceback (most recent call last)",
      "\u001b[1;32m<ipython-input-23-03e524d5fb04>\u001b[0m in \u001b[0;36m<module>\u001b[1;34m\u001b[0m\n\u001b[1;32m----> 1\u001b[1;33m \u001b[0mint\u001b[0m\u001b[1;33m(\u001b[0m\u001b[1;34m\"안녕하세요\"\u001b[0m\u001b[1;33m)\u001b[0m \u001b[1;31m# 구문 오류, int(숫자), str(\"문자열\")\u001b[0m\u001b[1;33m\u001b[0m\u001b[1;33m\u001b[0m\u001b[0m\n\u001b[0m",
      "\u001b[1;31mValueError\u001b[0m: invalid literal for int() with base 10: '안녕하세요'"
     ]
    }
   ],
   "source": [
    "int(\"안녕하세요\") # 예외, int(숫자), str(\"문자열\")"
   ]
  },
  {
   "cell_type": "code",
   "execution_count": 24,
   "id": "c63ef90d",
   "metadata": {},
   "outputs": [
    {
     "ename": "SyntaxError",
     "evalue": "invalid syntax (<ipython-input-24-d184e6e4df4e>, line 1)",
     "output_type": "error",
     "traceback": [
      "\u001b[1;36m  File \u001b[1;32m\"<ipython-input-24-d184e6e4df4e>\"\u001b[1;36m, line \u001b[1;32m1\u001b[0m\n\u001b[1;33m    cursor.close) # 구문 오류\u001b[0m\n\u001b[1;37m                ^\u001b[0m\n\u001b[1;31mSyntaxError\u001b[0m\u001b[1;31m:\u001b[0m invalid syntax\n"
     ]
    }
   ],
   "source": [
    "cursor.close) # 구문 오류"
   ]
  },
  {
   "cell_type": "code",
   "execution_count": 25,
   "id": "568a7873",
   "metadata": {},
   "outputs": [
    {
     "ename": "IndexError",
     "evalue": "list index out of range",
     "output_type": "error",
     "traceback": [
      "\u001b[1;31m---------------------------------------------------------------------------\u001b[0m",
      "\u001b[1;31mIndexError\u001b[0m                                Traceback (most recent call last)",
      "\u001b[1;32m<ipython-input-25-58ad7b6e4aad>\u001b[0m in \u001b[0;36m<module>\u001b[1;34m\u001b[0m\n\u001b[1;32m----> 1\u001b[1;33m \u001b[1;33m[\u001b[0m\u001b[1;36m1\u001b[0m\u001b[1;33m,\u001b[0m\u001b[1;36m2\u001b[0m\u001b[1;33m,\u001b[0m\u001b[1;36m3\u001b[0m\u001b[1;33m,\u001b[0m\u001b[1;36m4\u001b[0m\u001b[1;33m,\u001b[0m\u001b[1;36m5\u001b[0m\u001b[1;33m]\u001b[0m\u001b[1;33m[\u001b[0m\u001b[1;36m10\u001b[0m\u001b[1;33m]\u001b[0m \u001b[1;31m# 예외\u001b[0m\u001b[1;33m\u001b[0m\u001b[1;33m\u001b[0m\u001b[0m\n\u001b[0m",
      "\u001b[1;31mIndexError\u001b[0m: list index out of range"
     ]
    }
   ],
   "source": [
    "[1,2,3,4,5][10] # 예외, 인덱스 밖"
   ]
  }
 ],
 "metadata": {
  "kernelspec": {
   "display_name": "python3_7_6",
   "language": "python",
   "name": "py3_7_6"
  },
  "language_info": {
   "codemirror_mode": {
    "name": "ipython",
    "version": 3
   },
   "file_extension": ".py",
   "mimetype": "text/x-python",
   "name": "python",
   "nbconvert_exporter": "python",
   "pygments_lexer": "ipython3",
   "version": "3.7.6"
  }
 },
 "nbformat": 4,
 "nbformat_minor": 5
}
