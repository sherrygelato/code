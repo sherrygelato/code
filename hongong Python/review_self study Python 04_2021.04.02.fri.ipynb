{
 "cells": [
  {
   "cell_type": "markdown",
   "id": "14f78fcc",
   "metadata": {},
   "source": [
    "# 혼자 공부하는 파이썬\n",
    "\n",
    "# 4. 반복문\n",
    "\n",
    "## 04-1 리스트와 반복문\n",
    "- 인덱스, for 반복문"
   ]
  },
  {
   "cell_type": "markdown",
   "id": "guided-adelaide",
   "metadata": {},
   "source": [
    "### remove(): 값을 지정하여 제거하기 \n",
    "###### 리스트.remove(값)"
   ]
  },
  {
   "cell_type": "code",
   "execution_count": 1,
   "id": "warming-situation",
   "metadata": {},
   "outputs": [
    {
     "name": "stdout",
     "output_type": "stream",
     "text": [
      "[1, 1, 2]\n"
     ]
    }
   ],
   "source": [
    "list_c = [1,2,1,2]     # 리스트 선언\n",
    "list_c.remove(2)\n",
    "print(list_c)     # 중복 시 앞의 값만 제거 됨, 중복된 여러 값 제거하려면 반복문과 조합해서 해야 함. while 반복문 참고."
   ]
  },
  {
   "cell_type": "markdown",
   "id": "polyphonic-moral",
   "metadata": {},
   "source": [
    "### clear(): 리스트 내부 요소를 모두 제거하기 \n",
    "###### 리스트.clear()"
   ]
  },
  {
   "cell_type": "code",
   "execution_count": 2,
   "id": "outer-mobile",
   "metadata": {},
   "outputs": [
    {
     "name": "stdout",
     "output_type": "stream",
     "text": [
      "[]\n"
     ]
    }
   ],
   "source": [
    "list_d = [0,1,2,3,4,5]\n",
    "list_d.clear()\n",
    "print(list_d)"
   ]
  },
  {
   "cell_type": "markdown",
   "id": "royal-worry",
   "metadata": {},
   "source": [
    "### in/not in 연산자: 특정 값이 리스트 내부에 있는지 확인\n",
    "##### 값 in 리스트, 출력은 True나 False"
   ]
  },
  {
   "cell_type": "code",
   "execution_count": 3,
   "id": "prostate-commitment",
   "metadata": {},
   "outputs": [
    {
     "name": "stdout",
     "output_type": "stream",
     "text": [
      "True\n",
      "False\n",
      "False\n",
      "True\n"
     ]
    }
   ],
   "source": [
    "list_a = [273, 32, 103, 57, 52]\n",
    "print(273 in list_a)\n",
    "print(99 in list_a)\n",
    "print(20 in list_a)\n",
    "print(52 in list_a)"
   ]
  },
  {
   "cell_type": "markdown",
   "id": "french-absence",
   "metadata": {},
   "source": [
    "##### in 연산자 사용 후 전체를 not으로 감싸는 방법도 있으나 not in 연산자를 사용하는 것이 읽기 쉬움."
   ]
  },
  {
   "cell_type": "code",
   "execution_count": 4,
   "id": "signed-facial",
   "metadata": {},
   "outputs": [
    {
     "name": "stdout",
     "output_type": "stream",
     "text": [
      "False\n",
      "True\n",
      "True\n",
      "False\n"
     ]
    }
   ],
   "source": [
    "list_a = [273, 32, 103, 57, 52]\n",
    "print(273 not in list_a)\n",
    "print(99 not in list_a)\n",
    "print(20 not in list_a)\n",
    "print(52 not in list_a)"
   ]
  },
  {
   "cell_type": "markdown",
   "id": "crazy-variance",
   "metadata": {},
   "source": [
    "### for 반복문: 반복을 지시하는 방법"
   ]
  },
  {
   "cell_type": "code",
   "execution_count": 5,
   "id": "sharing-portland",
   "metadata": {},
   "outputs": [
    {
     "name": "stdout",
     "output_type": "stream",
     "text": [
      "출력\n",
      "출력\n",
      "출력\n",
      "출력\n",
      "출력\n"
     ]
    }
   ],
   "source": [
    "print(\"출력\")\n",
    "print(\"출력\")\n",
    "print(\"출력\")\n",
    "print(\"출력\")\n",
    "print(\"출력\")"
   ]
  },
  {
   "cell_type": "code",
   "execution_count": 6,
   "id": "loaded-credit",
   "metadata": {},
   "outputs": [
    {
     "name": "stdout",
     "output_type": "stream",
     "text": [
      "출력\n",
      "출력\n",
      "출력\n",
      "출력\n",
      "출력\n"
     ]
    }
   ],
   "source": [
    "for i in range(5):        # range에는 반복할 수 있는 자료를 넣음\n",
    "    print(\"출력\")         # i는 인덱스를 나타냄. "
   ]
  },
  {
   "cell_type": "markdown",
   "id": "ultimate-least",
   "metadata": {},
   "source": [
    "### for 반복문: 리스트와 함께 사용하기\n",
    "##### for 반복자/코드 in 반복할 수 있는 것:\n",
    "##### 반복할 수 있는 것에는 문자열, 리스트, 딕셔너리, 범위 등"
   ]
  },
  {
   "cell_type": "markdown",
   "id": "13503b32",
   "metadata": {},
   "source": [
    "##### for 반복문과 리스트\n",
    "##### 리스트에 있는 요소 하나하나가 반복자/코드라는 변수(이하 element)에 들어가며, 차례차례 반복되어 출력하게 됨."
   ]
  },
  {
   "cell_type": "code",
   "execution_count": 7,
   "id": "invisible-glossary",
   "metadata": {},
   "outputs": [
    {
     "name": "stdout",
     "output_type": "stream",
     "text": [
      "273\n",
      "32\n",
      "103\n",
      "57\n",
      "52\n"
     ]
    }
   ],
   "source": [
    "# 리스트를 선언합니다.\n",
    "array = [273, 32, 103, 57, 52]\n",
    "\n",
    "# 리스트에 반복문을 적용합니다.\n",
    "for element in array:             # element: 요소. 리스트 내부 각 내용\n",
    "    # 출력합니다.\n",
    "    print(element)               "
   ]
  },
  {
   "cell_type": "markdown",
   "id": "requested-england",
   "metadata": {},
   "source": [
    "##### for 반복문과 문자열"
   ]
  },
  {
   "cell_type": "code",
   "execution_count": 8,
   "id": "average-border",
   "metadata": {},
   "outputs": [
    {
     "name": "stdout",
     "output_type": "stream",
     "text": [
      "= 안\n",
      "= 녕\n",
      "= 하\n",
      "= 세\n",
      "= 요\n"
     ]
    }
   ],
   "source": [
    "for character in \"안녕하세요\":\n",
    "    print(\"=\", character)"
   ]
  },
  {
   "cell_type": "markdown",
   "id": "owned-research",
   "metadata": {},
   "source": [
    "## 핵심 포인트\n",
    "#### 리스트: 여러 가지 자료를 저장할 수 있는 자료형\n",
    "#### 요소: 리스트 내부에 있는 각각의 내용\n",
    "#### 인덱스: 리스트 내부에서 값의 위치\n",
    "#### for 반복문: 특정 코드를 반복해서 실행할 때 사용하는 기본적인 구문"
   ]
  },
  {
   "cell_type": "markdown",
   "id": "authorized-quantum",
   "metadata": {},
   "source": [
    "## 확인문제"
   ]
  },
  {
   "cell_type": "code",
   "execution_count": 9,
   "id": "demanding-simon",
   "metadata": {},
   "outputs": [
    {
     "name": "stdout",
     "output_type": "stream",
     "text": [
      "1:  [0, 1, 2, 3, 4, 5, 6, 7, 0, 1, 2, 3, 4, 5, 6, 7]\n",
      "\n",
      "2:  [0, 1, 2, 3, 4, 5, 6, 7, 0, 1, 2, 3, 4, 5, 6, 7, 10]\n",
      "\n",
      "3:  [0, 1, 2, 0, 3, 4, 5, 6, 7, 0, 1, 2, 3, 4, 5, 6, 7, 10]\n",
      "\n",
      "4:  [0, 1, 2, 0, 4, 5, 6, 7, 0, 1, 2, 3, 4, 5, 6, 7, 10]\n",
      "\n",
      "5:  [0, 1, 2, 4, 5, 6, 7, 0, 1, 2, 3, 4, 5, 6, 7, 10]\n",
      "\n",
      "6:  []\n"
     ]
    }
   ],
   "source": [
    "list_a = [0,1,2,3,4,5,6,7]\n",
    "\n",
    "list_a.extend(list_a)\n",
    "print(\"1: \", list_a)\n",
    "\n",
    "print()\n",
    "\n",
    "list_a.append(10)\n",
    "print(\"2: \", list_a)     \n",
    "\n",
    "print()\n",
    "\n",
    "list_a.insert(3,0)\n",
    "print(\"3: \", list_a)\n",
    "\n",
    "print()\n",
    "\n",
    "list_a.remove(3)\n",
    "print(\"4: \", list_a)\n",
    "\n",
    "print()\n",
    "\n",
    "list_a.pop(3)\n",
    "print(\"5: \", list_a)\n",
    "\n",
    "print()\n",
    "\n",
    "list_a.clear()\n",
    "print(\"6: \", list_a)"
   ]
  },
  {
   "cell_type": "code",
   "execution_count": 10,
   "id": "failing-colors",
   "metadata": {},
   "outputs": [
    {
     "name": "stdout",
     "output_type": "stream",
     "text": [
      "- 100 이상의 수:  273\n",
      "- 100 이상의 수:  103\n",
      "- 100 이상의 수:  800\n"
     ]
    }
   ],
   "source": [
    "numbers = [273, 103, 5, 32, 65, 9, 72, 800, 99]\n",
    "\n",
    "for numbers in numbers:\n",
    "    if int(numbers) > 100:\n",
    "        print(\"- 100 이상의 수: \", numbers)"
   ]
  },
  {
   "cell_type": "code",
   "execution_count": 11,
   "id": "applied-grenada",
   "metadata": {},
   "outputs": [
    {
     "name": "stdout",
     "output_type": "stream",
     "text": [
      "273는 홀수입니다.\n",
      "103는 홀수입니다.\n",
      "5는 홀수입니다.\n",
      "32는 짝수입니다.\n",
      "65는 홀수입니다.\n",
      "9는 홀수입니다.\n",
      "72는 짝수입니다.\n",
      "800는 짝수입니다.\n",
      "99는 홀수입니다.\n",
      "\n",
      "\n",
      "273 는 3 자릿수 입니다.\n",
      "103 는 3 자릿수 입니다.\n",
      "5 는 1 자릿수 입니다.\n",
      "32 는 2 자릿수 입니다.\n",
      "65 는 2 자릿수 입니다.\n",
      "9 는 1 자릿수 입니다.\n",
      "72 는 2 자릿수 입니다.\n",
      "800 는 3 자릿수 입니다.\n",
      "99 는 2 자릿수 입니다.\n",
      "\n",
      "\n",
      "273는 3 자릿수 입니다.\n",
      "103는 3 자릿수 입니다.\n",
      "5는 1 자릿수 입니다.\n",
      "32는 2 자릿수 입니다.\n",
      "65는 2 자릿수 입니다.\n",
      "9는 1 자릿수 입니다.\n",
      "72는 2 자릿수 입니다.\n",
      "800는 3 자릿수 입니다.\n",
      "99는 2 자릿수 입니다.\n"
     ]
    }
   ],
   "source": [
    "numbers = [273, 103, 5, 32, 65, 9, 72, 800, 99]\n",
    "\n",
    "# 첫번째 문제\n",
    "for number in numbers:\n",
    "    if number % 2 == 0:\n",
    "        print(\"{}는 짝수입니다.\".format(number))\n",
    "    else:\n",
    "        print(\"{}는 홀수입니다.\".format(number))\n",
    "        \n",
    "print()        \n",
    "print()\n",
    "# 두번째 문제\n",
    "\n",
    "for number in numbers:\n",
    "    print(number, \"는\", len(str(number)), \"자릿수 입니다.\")\n",
    "\n",
    "print()        \n",
    "print()\n",
    "# 두번째 문제\n",
    "\n",
    "for number in numbers:\n",
    "    print(\"{}는 {} 자릿수 입니다.\".format(number,len(str(number))))"
   ]
  },
  {
   "cell_type": "code",
   "execution_count": 12,
   "id": "technological-leonard",
   "metadata": {},
   "outputs": [
    {
     "name": "stdout",
     "output_type": "stream",
     "text": [
      "1\n",
      "2\n",
      "3\n",
      "4\n",
      "5\n",
      "6\n",
      "7\n",
      "8\n",
      "9\n"
     ]
    }
   ],
   "source": [
    "list_of_list = [\n",
    "    [1,2,3],\n",
    "    [4,5,6,7],\n",
    "    [8,9,],\n",
    "]\n",
    "for list_key in list_of_list:\n",
    "    for number in list_key:\n",
    "        print(number)"
   ]
  },
  {
   "cell_type": "code",
   "execution_count": 13,
   "id": "cordless-belly",
   "metadata": {},
   "outputs": [
    {
     "name": "stdout",
     "output_type": "stream",
     "text": [
      "[[1, 4, 7], [2, 5, 8], [3, 6, 9]]\n"
     ]
    }
   ],
   "source": [
    "numbers = [1,2,3,4,5,6,7,8,9]\n",
    "output = [[],[],[]]\n",
    "\n",
    "for number in numbers:\n",
    "    output[(number+2)%3].append(number)\n",
    "    \n",
    "print(output)"
   ]
  },
  {
   "cell_type": "markdown",
   "id": "discrete-complaint",
   "metadata": {},
   "source": [
    "# 4-2. 딕셔너리와 반복문\n",
    "- keyword: 딕셔너리, 키, 값\n",
    "\n",
    "##### 딕셔너리: 키를 기반으로 값을 저장하는 것\n",
    "##### 예, 7: 손흥민    "
   ]
  },
  {
   "cell_type": "markdown",
   "id": "motivated-emergency",
   "metadata": {},
   "source": [
    "## 딕셔너리 선언하기"
   ]
  },
  {
   "cell_type": "code",
   "execution_count": 14,
   "id": "stuck-hundred",
   "metadata": {},
   "outputs": [],
   "source": [
    "dict_a = {\n",
    "    \"name\": \"어밴저스 엔드게임\",     # 딕셔너리는 '키:값'의 형태. 키는 문자열, 숫자, 불, 리스트로 선언. 문자열은 따옴표\n",
    "    \"type\": \"히어로 무비\"            # 딕셔너리 = {}\n",
    "}"
   ]
  },
  {
   "cell_type": "markdown",
   "id": "aware-leadership",
   "metadata": {},
   "source": [
    "## 딕셔너리의 요소에 접근하기"
   ]
  },
  {
   "cell_type": "code",
   "execution_count": 15,
   "id": "lovely-treaty",
   "metadata": {},
   "outputs": [
    {
     "name": "stdout",
     "output_type": "stream",
     "text": [
      "{'name': '어밴저스 엔드게임', 'type': '히어로 무비'}\n",
      "어밴저스 엔드게임\n",
      "히어로 무비\n"
     ]
    }
   ],
   "source": [
    "print(dict_a)\n",
    "print(dict_a[\"name\"])     # 특정 키 값만 출력 시 리스트처럼 대괄호에 인덱스처럼 키를 입력함.\n",
    "print(dict_a[\"type\"])     # 딕셔너리[키]"
   ]
  },
  {
   "cell_type": "code",
   "execution_count": 16,
   "id": "creative-reference",
   "metadata": {},
   "outputs": [],
   "source": [
    "dict_b = {\n",
    "    \"director\": [\"안소니 루소\", \"조 루소\"],\n",
    "    \"cast\": [\"아이언맨\", \"타노스\", \"토르\", \"닥터스트레인지\", \"헐크\"]\n",
    "}"
   ]
  },
  {
   "cell_type": "code",
   "execution_count": 17,
   "id": "rural-seventh",
   "metadata": {},
   "outputs": [
    {
     "name": "stdout",
     "output_type": "stream",
     "text": [
      "{'director': ['안소니 루소', '조 루소'], 'cast': ['아이언맨', '타노스', '토르', '닥터스트레인지', '헐크']}\n",
      "['안소니 루소', '조 루소']\n"
     ]
    }
   ],
   "source": [
    "print(dict_b)\n",
    "print(dict_b[\"director\"])"
   ]
  },
  {
   "cell_type": "markdown",
   "id": "formal-therapist",
   "metadata": {},
   "source": [
    "#### 딕셔너리의 요소에 접근하기"
   ]
  },
  {
   "cell_type": "code",
   "execution_count": 18,
   "id": "assigned-factory",
   "metadata": {},
   "outputs": [
    {
     "name": "stdout",
     "output_type": "stream",
     "text": [
      "name:  7D 건조 망고\n",
      "type:  당절임\n",
      "ingredient:  ['망고', '설탕', '메타중아황산나트륨', '치자황색소']\n",
      "origin:  필리핀\n",
      "\n",
      "name:  8D 건조 망고\n",
      "\n",
      "['망고', '설탕', '메타중아황산나트륨', '치자황색소']\n",
      "설탕\n"
     ]
    }
   ],
   "source": [
    "# 딕셔너리 선언\n",
    "dictionary = {\n",
    "    \"name\": \"7D 건조 망고\",\n",
    "    \"type\": \"당절임\",\n",
    "    \"ingredient\": [\"망고\", \"설탕\", \"메타중아황산나트륨\", \"치자황색소\"],\n",
    "    \"origin\": \"필리핀\"\n",
    "}\n",
    "\n",
    "# 출력\n",
    "print(\"name: \", dictionary[\"name\"])\n",
    "print(\"type: \", dictionary[\"type\"])\n",
    "print(\"ingredient: \", dictionary[\"ingredient\"])\n",
    "print(\"origin: \", dictionary[\"origin\"])\n",
    "print()\n",
    "\n",
    "# 값 변경\n",
    "dictionary[\"name\"] = \"8D 건조 망고\"     # 키로 불러들여 값을 변경, 리스트는 [인텍스]지만, 딕셔너리는 [키]\n",
    "print(\"name: \", dictionary[\"name\"])\n",
    "print()\n",
    "\n",
    "# 딕셔너리 중 리스트 안의 특정 값 출력\n",
    "print(dictionary[\"ingredient\"])\n",
    "print(dictionary[\"ingredient\"][1])"
   ]
  },
  {
   "cell_type": "markdown",
   "id": "behavioral-bleeding",
   "metadata": {},
   "source": [
    "### 딕셔너리의 문자열 키와 관련된 실수\n",
    "\n",
    "##### NameError, 이름 지정/정의 안함"
   ]
  },
  {
   "cell_type": "code",
   "execution_count": 19,
   "id": "interested-apparel",
   "metadata": {},
   "outputs": [
    {
     "ename": "NameError",
     "evalue": "name 'name' is not defined",
     "output_type": "error",
     "traceback": [
      "\u001b[1;31m---------------------------------------------------------------------------\u001b[0m",
      "\u001b[1;31mNameError\u001b[0m                                 Traceback (most recent call last)",
      "\u001b[1;32m<ipython-input-19-9039f3af1a80>\u001b[0m in \u001b[0;36m<module>\u001b[1;34m\u001b[0m\n\u001b[0;32m      1\u001b[0m dict_key = {\n\u001b[1;32m----> 2\u001b[1;33m     \u001b[0mname\u001b[0m\u001b[1;33m:\u001b[0m \u001b[1;34m\"7D 건조 망고\"\u001b[0m\u001b[1;33m,\u001b[0m\u001b[1;33m\u001b[0m\u001b[1;33m\u001b[0m\u001b[0m\n\u001b[0m\u001b[0;32m      3\u001b[0m     \u001b[0mtype\u001b[0m\u001b[1;33m:\u001b[0m \u001b[1;34m\"당절임\"\u001b[0m\u001b[1;33m\u001b[0m\u001b[1;33m\u001b[0m\u001b[0m\n\u001b[0;32m      4\u001b[0m }\n",
      "\u001b[1;31mNameError\u001b[0m: name 'name' is not defined"
     ]
    }
   ],
   "source": [
    "dict_key = {\n",
    "    name: \"7D 건조 망고\",\n",
    "    type: \"당절임\"\n",
    "}"
   ]
  },
  {
   "cell_type": "code",
   "execution_count": 20,
   "id": "delayed-hollow",
   "metadata": {},
   "outputs": [
    {
     "name": "stdout",
     "output_type": "stream",
     "text": [
      "{'이름': '7D 건조 망고', <class 'type'>: '당절임'}\n"
     ]
    }
   ],
   "source": [
    "name = \"이름\"\n",
    "dict_key = {\n",
    "    name: \"7D 건조 망고\",\n",
    "    type: \"당절임\"\n",
    "}\n",
    "print(dict_key)     # type은 type()가 식별해줌. 이게 키로 들어가서 오류 발생 안함. 키가 문자열일 때 반드시 따옴표!"
   ]
  },
  {
   "cell_type": "markdown",
   "id": "difficult-billy",
   "metadata": {},
   "source": [
    "### 딕셔너리에 값 추가하기/제거하기\n",
    "\n",
    "##### 추가: 딕셔너리[새로운 키] = 새로운 값\n",
    "##### 제거: del 딕셔너리[키]"
   ]
  },
  {
   "cell_type": "code",
   "execution_count": 21,
   "id": "employed-harassment",
   "metadata": {},
   "outputs": [
    {
     "name": "stdout",
     "output_type": "stream",
     "text": [
      "{'name': '7D 건조 망고', 'type': '당절임', 'ingredient': ['망고', '설탕', '메타중아황산나트륨', '치자황색소'], 'origin': '필리핀', 'price': 5000}\n",
      "\n",
      "{'name': '8D 건조 망고', 'type': '당절임', 'ingredient': ['망고', '설탕', '메타중아황산나트륨', '치자황색소'], 'origin': '필리핀', 'price': 5000}\n",
      "\n",
      "{'name': '8D 건조 망고', 'type': '당절임', 'origin': '필리핀', 'price': 5000}\n"
     ]
    }
   ],
   "source": [
    "dictionary = {\n",
    "    \"name\": \"7D 건조 망고\",\n",
    "    \"type\": \"당절임\",\n",
    "    \"ingredient\": [\"망고\", \"설탕\", \"메타중아황산나트륨\", \"치자황색소\"],\n",
    "    \"origin\": \"필리핀\"\n",
    "}\n",
    "dictionary[\"price\"] = 5000     # 새로운 자료 추가\n",
    "print(dictionary)\n",
    "print()\n",
    "dictionary[\"name\"] = \"8D 건조 망고\"     # 새로운 값 대체\n",
    "print(dictionary)\n",
    "print()\n",
    "del dictionary[\"ingredient\"]    # 특정 값 제거\n",
    "print(dictionary)"
   ]
  },
  {
   "cell_type": "markdown",
   "id": "single-tomato",
   "metadata": {},
   "source": [
    "#### 딕셔너리에 요소 추가하기"
   ]
  },
  {
   "cell_type": "code",
   "execution_count": 22,
   "id": "institutional-drinking",
   "metadata": {},
   "outputs": [
    {
     "name": "stdout",
     "output_type": "stream",
     "text": [
      "요소 추가 이전:  {}\n",
      "요소 추가 이후:  {'name': '새로운 이름', 'head': '새로운 정신', 'body': '새로운 몸'}\n"
     ]
    }
   ],
   "source": [
    "# 딕셔너리 선언\n",
    "dictionary = {}\n",
    "\n",
    "# 요소 추가 전에 내용 출력\n",
    "print(\"요소 추가 이전: \", dictionary)\n",
    "\n",
    "# 딕셔너리에 요소를 추가\n",
    "dictionary[\"name\"] = \"새로운 이름\"\n",
    "dictionary[\"head\"] = \"새로운 정신\"\n",
    "dictionary[\"body\"] = \"새로운 몸\"\n",
    "\n",
    "# 출력\n",
    "print(\"요소 추가 이후: \", dictionary)"
   ]
  },
  {
   "cell_type": "markdown",
   "id": "recognized-carol",
   "metadata": {},
   "source": [
    "#### 딕셔너리에 요소 제거하기"
   ]
  },
  {
   "cell_type": "code",
   "execution_count": 23,
   "id": "administrative-wireless",
   "metadata": {},
   "outputs": [
    {
     "name": "stdout",
     "output_type": "stream",
     "text": [
      "요소 추가 이전:  {'name': '7D 건조 망고', 'type': '당절임'}\n",
      "요소 추가 이후:  {}\n"
     ]
    }
   ],
   "source": [
    "# 딕셔너리 선언\n",
    "dictionary = {\n",
    "    \"name\": \"7D 건조 망고\",\n",
    "    \"type\": \"당절임\"\n",
    "}\n",
    "\n",
    "# 요소 추가 전에 내용 출력\n",
    "print(\"요소 추가 이전: \", dictionary)\n",
    "\n",
    "# 딕셔너리에 요소를 제거\n",
    "del dictionary[\"name\"]\n",
    "del dictionary[\"type\"]\n",
    "\n",
    "# 출력\n",
    "print(\"요소 추가 이후: \", dictionary)"
   ]
  },
  {
   "cell_type": "markdown",
   "id": "seeing-stage",
   "metadata": {},
   "source": [
    "### KeyError 예외\n",
    "##### 딕셔너리에 존재하지 않는 키에 접근하면 발생. '키'를 기반으로 값을 저장하기에 그러함. 값을 제거할 때도 마찬가지."
   ]
  },
  {
   "cell_type": "code",
   "execution_count": 24,
   "id": "visible-relief",
   "metadata": {},
   "outputs": [
    {
     "ename": "KeyError",
     "evalue": "'key'",
     "output_type": "error",
     "traceback": [
      "\u001b[1;31m---------------------------------------------------------------------------\u001b[0m",
      "\u001b[1;31mKeyError\u001b[0m                                  Traceback (most recent call last)",
      "\u001b[1;32m<ipython-input-24-b4fb43361e69>\u001b[0m in \u001b[0;36m<module>\u001b[1;34m\u001b[0m\n\u001b[0;32m      1\u001b[0m \u001b[0mdictionary\u001b[0m \u001b[1;33m=\u001b[0m \u001b[1;33m{\u001b[0m\u001b[1;33m}\u001b[0m\u001b[1;33m\u001b[0m\u001b[1;33m\u001b[0m\u001b[0m\n\u001b[1;32m----> 2\u001b[1;33m \u001b[0mdictionary\u001b[0m\u001b[1;33m[\u001b[0m\u001b[1;34m\"key\"\u001b[0m\u001b[1;33m]\u001b[0m\u001b[1;33m\u001b[0m\u001b[1;33m\u001b[0m\u001b[0m\n\u001b[0m",
      "\u001b[1;31mKeyError\u001b[0m: 'key'"
     ]
    }
   ],
   "source": [
    "dictionary = {}\n",
    "dictionary[\"key\"]"
   ]
  },
  {
   "cell_type": "code",
   "execution_count": 25,
   "id": "patient-athens",
   "metadata": {},
   "outputs": [
    {
     "ename": "KeyError",
     "evalue": "'key'",
     "output_type": "error",
     "traceback": [
      "\u001b[1;31m---------------------------------------------------------------------------\u001b[0m",
      "\u001b[1;31mKeyError\u001b[0m                                  Traceback (most recent call last)",
      "\u001b[1;32m<ipython-input-25-f8b66b00136b>\u001b[0m in \u001b[0;36m<module>\u001b[1;34m\u001b[0m\n\u001b[1;32m----> 1\u001b[1;33m \u001b[1;32mdel\u001b[0m \u001b[0mdictionary\u001b[0m\u001b[1;33m[\u001b[0m\u001b[1;34m\"key\"\u001b[0m\u001b[1;33m]\u001b[0m\u001b[1;33m\u001b[0m\u001b[1;33m\u001b[0m\u001b[0m\n\u001b[0m",
      "\u001b[1;31mKeyError\u001b[0m: 'key'"
     ]
    }
   ],
   "source": [
    "del dictionary[\"key\"]"
   ]
  },
  {
   "cell_type": "markdown",
   "id": "sonic-policy",
   "metadata": {},
   "source": [
    "### 딕셔너리 내부에 키가 있는지 확인하기\n",
    "##### 딕셔너리에 존재하지 않는 키에 접근 시 KeyError가 발생하기에 존재 유무 확인함"
   ]
  },
  {
   "cell_type": "markdown",
   "id": "advised-report",
   "metadata": {},
   "source": [
    "### in 키워드\n",
    "##### 딕셔너리 내부의 값의 유무 확인"
   ]
  },
  {
   "cell_type": "markdown",
   "id": "threatened-center",
   "metadata": {},
   "source": [
    "#### 키가 존재하는지 확인하고 값에 접근하기"
   ]
  },
  {
   "cell_type": "code",
   "execution_count": 26,
   "id": "acknowledged-lemon",
   "metadata": {},
   "outputs": [
    {
     "name": "stdout",
     "output_type": "stream",
     "text": [
      "> 접근하고자 하는 키: name\n",
      "7D 건조 망고\n"
     ]
    }
   ],
   "source": [
    "# 딕셔너리 선언\n",
    "dictionary = {\n",
    "    'name': \"7D 건조 망고\",\n",
    "    'type': \"당절임\",\n",
    "    'ingredint': [\"망고\", \"설탕\", \"메타중아황산나트륨\", \"치자황색소\"],\n",
    "    'origin': \"필리핀\"\n",
    "}\n",
    "\n",
    "\n",
    "# 입력값 받기\n",
    "key = input(\"> 접근하고자 하는 키: \")\n",
    "\n",
    "# 출력\n",
    "if key in dictionary:\n",
    "    print(dictionary[key])\n",
    "else:\n",
    "    print(\"존재하지 않는 키에 접근하고 있습니다.\")"
   ]
  },
  {
   "cell_type": "markdown",
   "id": "connected-citizen",
   "metadata": {},
   "source": [
    "### get() 함수\n",
    "##### 딕셔너리의 키로 값을 추출, 딕셔너리[키]를 입력할 때와 같은 기능을 수행하지만, 존재하지 않는 키에 접근할 경우 KeyError 발생하지 않고 None을 출력함."
   ]
  },
  {
   "cell_type": "markdown",
   "id": "recovered-master",
   "metadata": {},
   "source": [
    "#### 키가 존재하지 않을 때 None을 출력하는지 확인"
   ]
  },
  {
   "cell_type": "code",
   "execution_count": 27,
   "id": "irish-february",
   "metadata": {},
   "outputs": [
    {
     "name": "stdout",
     "output_type": "stream",
     "text": [
      "값: None\n",
      "존재하지 않는 키에 접근하고 있습니다.\n"
     ]
    }
   ],
   "source": [
    "# 딕셔너리 선언\n",
    "dictionary = {\n",
    "    'name': \"7D 건조 망고\",\n",
    "    'type': \"당절임\",\n",
    "    'ingredint': [\"망고\", \"설탕\", \"메타중아황산나트륨\", \"치자황색소\"],\n",
    "    'origin': \"필리핀\"\n",
    "}\n",
    "\n",
    "# 존재하지 않는 키에 접근\n",
    "value = dictionary.get(\"존재하지 않는 키\")\n",
    "print(\"값:\", None)\n",
    "\n",
    "# None 확인\n",
    "if value == None :\n",
    "    print(\"존재하지 않는 키에 접근하고 있습니다.\")"
   ]
  },
  {
   "cell_type": "markdown",
   "id": "guilty-sacramento",
   "metadata": {},
   "source": [
    "### for 반복문: 딕셔너리와 함께 사용하기\n",
    "##### for 반복문과 딕셔너리의 조합 \n",
    "##### for 키 변수/ 코드 in 딕셔너리 :"
   ]
  },
  {
   "cell_type": "markdown",
   "id": "refined-annex",
   "metadata": {},
   "source": [
    "#### for 반복문과 딕셔너리 "
   ]
  },
  {
   "cell_type": "code",
   "execution_count": 28,
   "id": "furnished-solution",
   "metadata": {},
   "outputs": [
    {
     "name": "stdout",
     "output_type": "stream",
     "text": [
      "name : 7D 건조 망고\n",
      "type : 당절임\n",
      "ingredint : ['망고', '설탕', '메타중아황산나트륨', '치자황색소']\n",
      "origin : 필리핀\n"
     ]
    }
   ],
   "source": [
    "# 딕셔너리 선언\n",
    "dictionary = {\n",
    "    'name': \"7D 건조 망고\",\n",
    "    'type': \"당절임\",\n",
    "    'ingredint': [\"망고\", \"설탕\", \"메타중아황산나트륨\", \"치자황색소\"],\n",
    "    'origin': \"필리핀\"\n",
    "}\n",
    "\n",
    "# for 반복문 사용\n",
    "for key in dictionary:     # for 반복문은 요소를 차례대로 세로로 나열한다는 것을 기억하자.\n",
    "    # 출력\n",
    "    print(key, \":\", dictionary[key])     # 딕셔너리의 키값 : 딕셔너리의 키의 값(요소)"
   ]
  },
  {
   "cell_type": "markdown",
   "id": "atomic-washington",
   "metadata": {},
   "source": [
    "##### 갑자기 헷갈리니까 넣는 대목"
   ]
  },
  {
   "cell_type": "code",
   "execution_count": 29,
   "id": "numerical-noise",
   "metadata": {},
   "outputs": [
    {
     "name": "stdout",
     "output_type": "stream",
     "text": [
      "name\n",
      "type\n",
      "ingredint\n",
      "origin\n"
     ]
    }
   ],
   "source": [
    "# 딕셔너리 선언\n",
    "dictionary = {\n",
    "    'name': \"7D 건조 망고\",\n",
    "    'type': \"당절임\",\n",
    "    'ingredint': [\"망고\", \"설탕\", \"메타중아황산나트륨\", \"치자황색소\"],\n",
    "    'origin': \"필리핀\"\n",
    "}\n",
    "\n",
    "# for 반복문 사용\n",
    "for key in dictionary:     # for 반복문은 요소를 차례대로 세로로 나열한다는 것을 기억하자.\n",
    "    # 출력\n",
    "    print(key)     # 딕셔너리의 키"
   ]
  },
  {
   "cell_type": "code",
   "execution_count": 30,
   "id": "dense-mobile",
   "metadata": {},
   "outputs": [
    {
     "name": "stdout",
     "output_type": "stream",
     "text": [
      "7D 건조 망고\n",
      "당절임\n",
      "['망고', '설탕', '메타중아황산나트륨', '치자황색소']\n",
      "필리핀\n"
     ]
    }
   ],
   "source": [
    "# 딕셔너리 선언\n",
    "dictionary = {\n",
    "    'name': \"7D 건조 망고\",\n",
    "    'type': \"당절임\",\n",
    "    'ingredint': [\"망고\", \"설탕\", \"메타중아황산나트륨\", \"치자황색소\"],\n",
    "    'origin': \"필리핀\"\n",
    "}\n",
    "\n",
    "# for 반복문 사용\n",
    "for key in dictionary:     # for 반복문은 요소를 차례대로 세로로 나열한다는 것을 기억하자.\n",
    "    # 출력\n",
    "    print(dictionary[key])     #딕셔너리의 키의 값(요소)"
   ]
  },
  {
   "cell_type": "markdown",
   "id": "solved-collins",
   "metadata": {},
   "source": [
    "## 핵심 포인트\n",
    "##### 딕셔너리 : 키를 기반으로 여러 자료를 저장하는 자료형\n",
    "##### 키 : 딕셔너리 내부에서 값을 접근할 때 사용\n",
    "##### 값 : 딕셔너리 내부에 있는  각각의 내용"
   ]
  },
  {
   "cell_type": "markdown",
   "id": "progressive-system",
   "metadata": {},
   "source": [
    "## 확인문제"
   ]
  },
  {
   "cell_type": "code",
   "execution_count": 31,
   "id": "warming-rachel",
   "metadata": {},
   "outputs": [
    {
     "name": "stdout",
     "output_type": "stream",
     "text": [
      "{'name': '구름'}\n",
      "\n",
      "{}\n"
     ]
    }
   ],
   "source": [
    "dict_a = {}\n",
    "\n",
    "dict_a['name'] = '구름'\n",
    "print(dict_a)\n",
    "\n",
    "print()\n",
    "\n",
    "del dict_a['name']\n",
    "print(dict_a)"
   ]
  },
  {
   "cell_type": "code",
   "execution_count": 32,
   "id": "moderate-hostel",
   "metadata": {},
   "outputs": [
    {
     "name": "stdout",
     "output_type": "stream",
     "text": [
      "# 우리 동네 애완 동물들\n",
      "구름 5살\n",
      "초코 3살\n",
      "아지 1살\n",
      "호랑이 1살\n"
     ]
    }
   ],
   "source": [
    "pets = [\n",
    "    {\"name\": \"구름\", \"age\": 5},\n",
    "    {\"name\": \"초코\", \"age\": 3},\n",
    "    {\"name\": \"아지\", \"age\": 1},\n",
    "    {\"name\": \"호랑이\", \"age\": 1}\n",
    "]\n",
    "\n",
    "print(\"# 우리 동네 애완 동물들\")\n",
    "for pet in pets:\n",
    "    print(pet[\"name\"],str(pet[\"age\"])+\"살\") # 키라서 pet[\"name\"],숫자는 문자열로 바꾸고 문자열+문자열로 합쳐야 함."
   ]
  },
  {
   "cell_type": "code",
   "execution_count": 33,
   "id": "important-creation",
   "metadata": {},
   "outputs": [
    {
     "name": "stdout",
     "output_type": "stream",
     "text": [
      "{1: 3, 2: 4, 6: 1, 8: 2, 4: 3, 3: 3, 9: 3, 5: 2, 7: 2}\n"
     ]
    }
   ],
   "source": [
    "# 숫자 무작위로 입력해도 상관 없음\n",
    "numbers = [1,2,6,8,4,3,2,1,9,5,4,9,7,2,1,3,5,4,8,9,7,2,3]\n",
    "counter = {}\n",
    "\n",
    "for number in numbers:\n",
    "    if number in counter:\n",
    "        counter[number] = counter[number]+1\n",
    "    else:\n",
    "        counter[number] = 1\n",
    "\n",
    "print(counter)"
   ]
  },
  {
   "cell_type": "code",
   "execution_count": 34,
   "id": "equipped-dancing",
   "metadata": {},
   "outputs": [],
   "source": [
    "# type(\"문자열\") is str : 문자열 확인\n",
    "# type([]) is list : 리스트 확인\n",
    "# type({}) is str : 딕셔너리 확인"
   ]
  },
  {
   "cell_type": "code",
   "execution_count": 35,
   "id": "violent-remove",
   "metadata": {},
   "outputs": [
    {
     "name": "stdout",
     "output_type": "stream",
     "text": [
      "name : 기사\n",
      "level : 12\n",
      "sword : 불꽃의 검\n",
      "armor : 풀플레이트\n",
      "skill : 베기\n",
      "skill : 세게 베기\n",
      "skill : 아주 세게 베기\n"
     ]
    }
   ],
   "source": [
    "character = {\n",
    "    \"name\" : \"기사\",\n",
    "    \"level\" : 12,\n",
    "    \"items\" : {\n",
    "        \"sword\" : \"불꽃의 검\",\n",
    "        \"armor\" : \"풀플레이트\"\n",
    "    },\n",
    "    \"skill\" : [\"베기\", \"세게 베기\", \"아주 세게 베기\"]\n",
    "}\n",
    "\n",
    "# for 반복문 사용합니다.\n",
    "for key in character:\n",
    "    if type(character[key]) is dict:\n",
    "        for small_key in character[key]:\n",
    "            print(small_key, \":\", character[key][small_key])\n",
    "    elif type(character[key]) is list:\n",
    "        for item in character[key]:\n",
    "            print(key, \":\", item)\n",
    "    else:\n",
    "        print(key, \":\", character[key])"
   ]
  },
  {
   "cell_type": "markdown",
   "id": "ruled-gardening",
   "metadata": {},
   "source": [
    "# 4-3. 반복문과 while 반복문\n",
    "- 범위, while 반복문, break 키워드, continue 키워드\n",
    "\n",
    "##### 특정 횟수/ 특정 시간동안 반복한다, 어떤 조건이 될 때까지 반복한다."
   ]
  },
  {
   "cell_type": "markdown",
   "id": "blond-nickel",
   "metadata": {},
   "source": [
    "### 범위 range() :자료형의 사용법\n",
    "#### 1. 매개변수에 숫자 한 개를 넣는 방법\n",
    "##### range(A) : 0부터 A-1까지의 정수로 범위\n",
    "#### 2. 매개변수에 숫자 두 개를 넣는 방법\n",
    "##### range(A, B) : A부터 B-1까지의 정수로 범위\n",
    "#### 3. 매개변수에 숫자 세 개를 넣는 방법\n",
    "##### range(A, B, C) : A부터 B-1까지의 정수로 범위 만드는데, 앞뒤 숫자가 C만큼의 차이를 가짐"
   ]
  },
  {
   "cell_type": "code",
   "execution_count": 36,
   "id": "relative-specialist",
   "metadata": {
    "scrolled": true
   },
   "outputs": [
    {
     "name": "stdout",
     "output_type": "stream",
     "text": [
      "range(0, 5)\n",
      "range(0, 10)\n",
      "[0, 1, 2, 3, 4, 5, 6, 7, 8, 9]\n"
     ]
    }
   ],
   "source": [
    "a = range(5)     # 범위\n",
    "\n",
    "print(a)\n",
    "print(range(10))\n",
    "print(list(range(10))) # 범위를 리스트로 변경하면 범위 내부에 어떤 값이 들어 있는지 확인할 수 있음"
   ]
  },
  {
   "cell_type": "code",
   "execution_count": 37,
   "id": "written-adapter",
   "metadata": {},
   "outputs": [
    {
     "name": "stdout",
     "output_type": "stream",
     "text": [
      "[0, 1, 2, 3, 4]\n",
      "[5, 6, 7, 8, 9]\n"
     ]
    }
   ],
   "source": [
    "print(list(range(0,5)))  # 0 ~ n-1\n",
    "print(list(range(5,10)))"
   ]
  },
  {
   "cell_type": "code",
   "execution_count": 38,
   "id": "fixed-cosmetic",
   "metadata": {},
   "outputs": [
    {
     "name": "stdout",
     "output_type": "stream",
     "text": [
      "[0, 2, 4, 6, 8]\n",
      "[0, 3, 6, 9]\n"
     ]
    }
   ],
   "source": [
    "print(list(range(0,10,2)))     # # 0 ~ n-1, 뒤는 2칸씩\n",
    "print(list(range(0,10,3)))"
   ]
  },
  {
   "cell_type": "code",
   "execution_count": 39,
   "id": "configured-regression",
   "metadata": {},
   "outputs": [
    {
     "data": {
      "text/plain": [
       "[0, 2, 4, 6, 8, 10]"
      ]
     },
     "execution_count": 39,
     "metadata": {},
     "output_type": "execute_result"
    }
   ],
   "source": [
    "list(range(0,10+1,2))    # 제로인덱스니까 n+1"
   ]
  },
  {
   "cell_type": "code",
   "execution_count": 40,
   "id": "super-enforcement",
   "metadata": {},
   "outputs": [
    {
     "ename": "TypeError",
     "evalue": "'float' object cannot be interpreted as an integer",
     "output_type": "error",
     "traceback": [
      "\u001b[1;31m---------------------------------------------------------------------------\u001b[0m",
      "\u001b[1;31mTypeError\u001b[0m                                 Traceback (most recent call last)",
      "\u001b[1;32m<ipython-input-40-7e325466bae3>\u001b[0m in \u001b[0;36m<module>\u001b[1;34m\u001b[0m\n\u001b[0;32m      1\u001b[0m \u001b[0mn\u001b[0m \u001b[1;33m=\u001b[0m \u001b[1;36m10\u001b[0m\u001b[1;33m\u001b[0m\u001b[1;33m\u001b[0m\u001b[0m\n\u001b[1;32m----> 2\u001b[1;33m \u001b[0ma\u001b[0m \u001b[1;33m=\u001b[0m \u001b[0mrange\u001b[0m\u001b[1;33m(\u001b[0m\u001b[1;36m0\u001b[0m\u001b[1;33m,\u001b[0m \u001b[0mn\u001b[0m\u001b[1;33m/\u001b[0m\u001b[1;36m2\u001b[0m\u001b[1;33m)\u001b[0m    \u001b[1;31m# range 함수는 정수로 해야함. int나 // 몫\u001b[0m\u001b[1;33m\u001b[0m\u001b[1;33m\u001b[0m\u001b[0m\n\u001b[0m",
      "\u001b[1;31mTypeError\u001b[0m: 'float' object cannot be interpreted as an integer"
     ]
    }
   ],
   "source": [
    "n = 10\n",
    "a = range(0, n/2)    # range 함수는 정수로 해야함. int나 // 몫"
   ]
  },
  {
   "cell_type": "code",
   "execution_count": 41,
   "id": "strange-powder",
   "metadata": {},
   "outputs": [
    {
     "name": "stdout",
     "output_type": "stream",
     "text": [
      "[0, 1, 2, 3, 4]\n",
      "range(0, 5)\n"
     ]
    }
   ],
   "source": [
    "n = 10\n",
    "a = range(0, int(n/2))\n",
    "print(list(a))\n",
    "print(a)"
   ]
  },
  {
   "cell_type": "markdown",
   "id": "367d0b5e",
   "metadata": {},
   "source": [
    "### for 반복문: 범위와 함께 사용하기\n",
    "\n",
    "- for 숫자 변수 in 범위:\n",
    "- ㅁㅁㅁㅁ코드"
   ]
  },
  {
   "cell_type": "markdown",
   "id": "b4783ddf",
   "metadata": {},
   "source": [
    "##### for 반복문과 범위"
   ]
  },
  {
   "cell_type": "code",
   "execution_count": 42,
   "id": "developed-poultry",
   "metadata": {},
   "outputs": [
    {
     "name": "stdout",
     "output_type": "stream",
     "text": [
      "0=반복 변수\n",
      "1=반복 변수\n",
      "2=반복 변수\n",
      "3=반복 변수\n",
      "4=반복 변수\n",
      "\n",
      "5=반복 변수\n",
      "6=반복 변수\n",
      "7=반복 변수\n",
      "8=반복 변수\n",
      "9=반복 변수\n",
      "\n",
      "0=반복 변수\n",
      "3=반복 변수\n",
      "6=반복 변수\n",
      "9=반복 변수\n",
      "\n"
     ]
    }
   ],
   "source": [
    "# for 반복문과 범위를 함께 조합해서 사용합니다.\n",
    "for i in range(5):\n",
    "    print(str(i)+\"=반복 변수\")\n",
    "print()\n",
    "\n",
    "for i in range(5,10):\n",
    "    print(str(i)+\"=반복 변수\")\n",
    "print()    \n",
    "\n",
    "for i in range(0,10,3):\n",
    "    print(str(i)+\"=반복 변수\")\n",
    "print()    "
   ]
  },
  {
   "cell_type": "markdown",
   "id": "3203a0f1",
   "metadata": {},
   "source": [
    "### for 반복문: 리스트와 범위 조합하기"
   ]
  },
  {
   "cell_type": "code",
   "execution_count": 43,
   "id": "decimal-advertiser",
   "metadata": {},
   "outputs": [
    {
     "name": "stdout",
     "output_type": "stream",
     "text": [
      "273\n",
      "32\n",
      "103\n",
      "57\n",
      "52\n"
     ]
    }
   ],
   "source": [
    "# 리스트를 선언합니다.\n",
    "array = [273, 32, 103, 57, 52]\n",
    "# 리스트에 반복문을 적용합니다.\n",
    "for element in array:\n",
    "    # 출력합니다.\n",
    "    print(element)"
   ]
  },
  {
   "cell_type": "markdown",
   "id": "e5577a9d",
   "metadata": {},
   "source": [
    "##### 리스트와 범위를 조합해서 사용하기"
   ]
  },
  {
   "cell_type": "code",
   "execution_count": 44,
   "id": "terminal-scale",
   "metadata": {},
   "outputs": [
    {
     "name": "stdout",
     "output_type": "stream",
     "text": [
      "0번째 반복: 273\n",
      "1번째 반복: 32\n",
      "2번째 반복: 103\n",
      "3번째 반복: 57\n",
      "4번째 반복: 52\n"
     ]
    }
   ],
   "source": [
    "# 리스트를 선언합니다.\n",
    "array = [273, 32, 103, 57, 52]\n",
    "# 리스트에 반복문을 적용합니다.\n",
    "for i in range(len(array)):\n",
    "    # 출력합니다.\n",
    "    print(\"{}번째 반복: {}\". format(i, array[i]))"
   ]
  },
  {
   "cell_type": "markdown",
   "id": "17422c44",
   "metadata": {},
   "source": [
    "### for 반복문: 반대로 반복하기(역반복문)"
   ]
  },
  {
   "cell_type": "markdown",
   "id": "6730854c",
   "metadata": {},
   "source": [
    "##### 반대로 반복하기(1)"
   ]
  },
  {
   "cell_type": "code",
   "execution_count": 45,
   "id": "editorial-doctor",
   "metadata": {},
   "outputs": [
    {
     "name": "stdout",
     "output_type": "stream",
     "text": [
      "현재 반복 변수: 4\n",
      "현재 반복 변수: 3\n",
      "현재 반복 변수: 2\n",
      "현재 반복 변수: 1\n",
      "현재 반복 변수: 0\n"
     ]
    }
   ],
   "source": [
    "# 역반복문\n",
    "for i in range(4, 0 -1, -1): # 0-1: 0까지 반복하고 싶어서 이 코드를 사용함\n",
    "    print(\"현재 반복 변수: {}\".format(i))"
   ]
  },
  {
   "cell_type": "markdown",
   "id": "390b2966",
   "metadata": {},
   "source": [
    "##### 반대로 반복하기(2)¶"
   ]
  },
  {
   "cell_type": "code",
   "execution_count": 46,
   "id": "0ff2ab6e",
   "metadata": {},
   "outputs": [
    {
     "name": "stdout",
     "output_type": "stream",
     "text": [
      "현재 반복 변수: 4\n",
      "현재 반복 변수: 3\n",
      "현재 반복 변수: 2\n",
      "현재 반복 변수: 1\n",
      "현재 반복 변수: 0\n"
     ]
    }
   ],
   "source": [
    "# 역반복문\n",
    "for i in reversed(range(5)): \n",
    "    print(\"현재 반복 변수: {}\".format(i))"
   ]
  },
  {
   "cell_type": "markdown",
   "id": "8bde6ab1",
   "metadata": {},
   "source": [
    "### while 반복문\n",
    "특정 횟수만큼 반복할 땐 for문을 사용하나, 범용적으로 사용할 때에는 while문을 씀\n",
    "- while 불 표현식:\n",
    "- ㅁㅁㅁㅁ 문장"
   ]
  },
  {
   "cell_type": "markdown",
   "id": "8d4bb77f",
   "metadata": {},
   "source": [
    "##### 무한 반복"
   ]
  },
  {
   "cell_type": "code",
   "execution_count": 47,
   "id": "437f58c4",
   "metadata": {},
   "outputs": [],
   "source": [
    "# while 반복문을 사용합니다.\n",
    "#while True:\n",
    "    #\".\"을 출력합니다\n",
    "    # 기본적으로 end가 \"\\n\"이라 줄바꿈이 일어나는데\n",
    "    # 빈 문자열 \"\"로 바꿔서 줄바꿈이 일어나지 않는다\n",
    "    # print(\".\", end=\"\")\n",
    "    # 무한하게 반복되므로 출력하지 않겠음"
   ]
  },
  {
   "cell_type": "markdown",
   "id": "f30d9591",
   "metadata": {},
   "source": [
    "### while 반복문: for 반복문처럼 사용하기\n",
    "##### while 반복문을 for 반복문처럼 사용하기"
   ]
  },
  {
   "cell_type": "code",
   "execution_count": 48,
   "id": "89bd0155",
   "metadata": {},
   "outputs": [
    {
     "name": "stdout",
     "output_type": "stream",
     "text": [
      "0번째 반복입니다.\n",
      "1번째 반복입니다.\n",
      "2번째 반복입니다.\n",
      "3번째 반복입니다.\n",
      "4번째 반복입니다.\n",
      "5번째 반복입니다.\n",
      "6번째 반복입니다.\n",
      "7번째 반복입니다.\n",
      "8번째 반복입니다.\n",
      "9번째 반복입니다.\n"
     ]
    }
   ],
   "source": [
    "# 반복 변수를 기반으로 반복하기\n",
    "i = 0\n",
    "while i < 10:\n",
    "    print(\"{}번째 반복입니다.\".format(i))\n",
    "    i += 1"
   ]
  },
  {
   "cell_type": "markdown",
   "id": "3b3cb4bf",
   "metadata": {},
   "source": [
    "### while 반복문: 상태를 기반으로 반복하기\n",
    "##### 해당하는 값 모두 제거하기"
   ]
  },
  {
   "cell_type": "code",
   "execution_count": 50,
   "id": "713195a7",
   "metadata": {},
   "outputs": [
    {
     "name": "stdout",
     "output_type": "stream",
     "text": [
      "[1, 1]\n"
     ]
    }
   ],
   "source": [
    "# 변수를 선언합니다.\n",
    "list_test = [1,2,1,2]\n",
    "value = 2\n",
    "\n",
    "# list_test 내부에 value가 있다면 반복\n",
    "while value in list_test:\n",
    "    list_test.remove(value)\n",
    "    \n",
    "print(list_test) # 리스트 내부에 있는 모든 2가 제거될 때까지 반복"
   ]
  },
  {
   "cell_type": "markdown",
   "id": "8c67031e",
   "metadata": {},
   "source": [
    "### while 반복문: 시간을 기반으로 반복하기\n",
    "- 유닉스 타임: 세계 표준시 ( 1970년 1월 1일 0시 0분 0초)"
   ]
  },
  {
   "cell_type": "code",
   "execution_count": 51,
   "id": "f2d34a0d",
   "metadata": {},
   "outputs": [
    {
     "data": {
      "text/plain": [
       "1619844892.7333276"
      ]
     },
     "execution_count": 51,
     "metadata": {},
     "output_type": "execute_result"
    }
   ],
   "source": [
    "import time\n",
    "\n",
    "time.time()"
   ]
  },
  {
   "cell_type": "markdown",
   "id": "6d8f7fa7",
   "metadata": {},
   "source": [
    "##### 5초동안 반복하기"
   ]
  },
  {
   "cell_type": "code",
   "execution_count": 54,
   "id": "905845c6",
   "metadata": {},
   "outputs": [
    {
     "name": "stdout",
     "output_type": "stream",
     "text": [
      "5초동안 33325691번 반복했습니다.\n"
     ]
    }
   ],
   "source": [
    "# 시간과 관련된 기능을 가져오고, 변수 선언\n",
    "import time\n",
    "number = 0\n",
    "\n",
    "# 5초동안 반복\n",
    "target_tick = time.time() + 5\n",
    "while time.time() < target_tick:\n",
    "    number += 1 \n",
    "\n",
    "print(\"5초동안 {}번 반복했습니다.\".format(number))"
   ]
  },
  {
   "cell_type": "markdown",
   "id": "4a07cb5d",
   "metadata": {},
   "source": [
    "### while 반복문: break/continue 키워드\n",
    "- break 키워드 : 반복문을 벗어날 때 쓰는 키워드. 일반적으로 무한 반복문을 만들고, 내부의 반복을 벗어날 때 많이 쓰임.\n",
    "##### break 키워드"
   ]
  },
  {
   "cell_type": "code",
   "execution_count": 56,
   "id": "f0ce0889",
   "metadata": {},
   "outputs": [
    {
     "name": "stdout",
     "output_type": "stream",
     "text": [
      "0번째 반복문입니다.\n",
      ">종료하시겠습니까?(y/n):n\n",
      "1번째 반복문입니다.\n",
      ">종료하시겠습니까?(y/n):n\n",
      "2번째 반복문입니다.\n",
      ">종료하시겠습니까?(y/n):y\n",
      "반복을 종료합니다.\n"
     ]
    }
   ],
   "source": [
    "# 변수 선언\n",
    "i = 0\n",
    "\n",
    "# 무한 반복\n",
    "while True:\n",
    "    # 몇 번째 반복인지 출력\n",
    "    print(\"{}번째 반복문입니다.\".format(i))\n",
    "    i = i + 1\n",
    "    # 반복을 종료합니다.\n",
    "    input_text = input(\">종료하시겠습니까?(y/n):\")\n",
    "    if input_text in [\"y\", \"Y\"]:\n",
    "        print(\"반복을 종료합니다.\")\n",
    "        break"
   ]
  },
  {
   "cell_type": "markdown",
   "id": "64171be7",
   "metadata": {},
   "source": [
    "- continue 키워드: 현재 반복을 생략하고, 다음 반복으로 넘어갈 때 사용하는 키워드. \n",
    "##### continue 키워드"
   ]
  },
  {
   "cell_type": "code",
   "execution_count": 57,
   "id": "e9f2e8ac",
   "metadata": {},
   "outputs": [
    {
     "name": "stdout",
     "output_type": "stream",
     "text": [
      "15\n",
      "20\n",
      "25\n"
     ]
    }
   ],
   "source": [
    "# 변수 선언\n",
    "numbers = [5, 15, 6, 20, 7, 25]\n",
    "\n",
    "# 반복문\n",
    "for number in numbers:\n",
    "    # number가 10보다 작으면 다음 반복으로 넘어갑니다.\n",
    "    if number<10:\n",
    "        continue\n",
    "    #출력합니다\n",
    "    print(number)"
   ]
  },
  {
   "cell_type": "markdown",
   "id": "2e4bd9f6",
   "metadata": {},
   "source": [
    "### 핵심포인트\n",
    "- 범위: 정수의 범위를 나타내는 값. range()로 생성\n",
    "- while 반복문: 조건식 기반으로 특정 코드를 반복해서 실행할 때 사용하는 구문\n",
    "- break 키워드: 반복문을 벗어날 때 사용\n",
    "- continue 키워드: 반복문의 현재 반복을 생략할 때 사용"
   ]
  },
  {
   "cell_type": "markdown",
   "id": "e5f9f351",
   "metadata": {},
   "source": [
    "### 확인문제"
   ]
  },
  {
   "cell_type": "code",
   "execution_count": 60,
   "id": "80b97a91",
   "metadata": {},
   "outputs": [
    {
     "name": "stdout",
     "output_type": "stream",
     "text": [
      "[3, 6, 9]\n"
     ]
    }
   ],
   "source": [
    "a = list(range(3,10,3))\n",
    "print(a)"
   ]
  },
  {
   "cell_type": "code",
   "execution_count": 62,
   "id": "daa57ad3",
   "metadata": {},
   "outputs": [
    {
     "name": "stdout",
     "output_type": "stream",
     "text": [
      "{'name': '기사', 'hp': 200, 'mp': 30, 'level': 5}\n"
     ]
    }
   ],
   "source": [
    "# 딕셔너리로 만들어보세요.\n",
    "\n",
    "# 숫자는 무작위로 입력해도 상관없다.\n",
    "key_list = [\"name\", \"hp\",\"mp\",\"level\"]\n",
    "value_list = [\"기사\", 200, 30,5]\n",
    "character = {}\n",
    "\n",
    "character['name'] = '기사'\n",
    "character['hp'] = 200\n",
    "character['mp'] = 30\n",
    "character['level'] = 5\n",
    "\n",
    "print(character)"
   ]
  },
  {
   "cell_type": "code",
   "execution_count": 71,
   "id": "30777b98",
   "metadata": {},
   "outputs": [
    {
     "name": "stdout",
     "output_type": "stream",
     "text": [
      "{'hp': 200, 'mp': 30, 'level': 5}\n"
     ]
    }
   ],
   "source": [
    "# 딕셔너리로 만들어보세요.\n",
    "\n",
    "# 숫자는 무작위로 입력해도 상관없다.\n",
    "key_list = [\"name\", \"hp\",\"mp\",\"level\"]\n",
    "value_list = [\"기사\", 200, 30,5]\n",
    "character = {}\n",
    "\n",
    "for i in range(1, len(key_list)):\n",
    "    character[key_list[i]] = value_list[i]\n",
    "\n",
    "print(character)"
   ]
  },
  {
   "cell_type": "code",
   "execution_count": 72,
   "id": "389465cc",
   "metadata": {},
   "outputs": [
    {
     "name": "stdout",
     "output_type": "stream",
     "text": [
      "141를 더할 때 10000을 넘으며 그때의 값은 10011입니다.\n"
     ]
    }
   ],
   "source": [
    "# 1부터 숫자를 하나씩 증가시키면서 더하는 경우\n",
    "\n",
    "limit = 10000\n",
    "i = 1\n",
    "# sum은 파이썬 내부에서 사용하는 식별자므로 sum_value라는 변수 이름 사용하라\n",
    "sum_value = 0\n",
    "while sum_value < limit:\n",
    "    sum_value += i\n",
    "    i += 1\n",
    "    \n",
    "print(\"{}를 더할 때 {}을 넘으며 그때의 값은 {}입니다.\".format(i-1, limit, sum_value))"
   ]
  },
  {
   "cell_type": "code",
   "execution_count": 76,
   "id": "38ba59ed",
   "metadata": {},
   "outputs": [
    {
     "name": "stdout",
     "output_type": "stream",
     "text": [
      "최대가 되는 경우: 50 * 50 = 2500\n"
     ]
    }
   ],
   "source": [
    "# 1부터 100까지의 숫자를 1*99, 2*98, ... 98*2, 99*1\n",
    "# 최대가 되는 경우 50*50 = 2500\n",
    "\n",
    "max_value = 0\n",
    "a = 0\n",
    "b = 0\n",
    "\n",
    "for i in range(1,100):\n",
    "    j = 100 -i\n",
    "    # 최댓값 구하기\n",
    "    curr = i * j\n",
    "    if max_value < curr:\n",
    "        a = i\n",
    "        b = j\n",
    "        max_value = curr\n",
    "    \n",
    "print(\"최대가 되는 경우: {} * {} = {}\".format(a,b,max_value))"
   ]
  },
  {
   "cell_type": "code",
   "execution_count": 77,
   "id": "55e9f787",
   "metadata": {},
   "outputs": [
    {
     "name": "stdout",
     "output_type": "stream",
     "text": [
      "최대가 되는 경우: 50 * 50 = 2500\n"
     ]
    }
   ],
   "source": [
    "# 1부터 100까지의 숫자를 1*99, 2*98, ... 98*2, 99*1\n",
    "# 최대가 되는 경우 50*50 = 2500\n",
    "\n",
    "max_value = 0\n",
    "a = 0\n",
    "b = 0\n",
    "\n",
    "for i in range(1,100//2+1):\n",
    "    j = 100 -i\n",
    "    # 최댓값 구하기\n",
    "    curr = i * j\n",
    "    if max_value < curr:\n",
    "        a = i\n",
    "        b = j\n",
    "        max_value = curr\n",
    "    \n",
    "print(\"최대가 되는 경우: {} * {} = {}\".format(a,b,max_value))"
   ]
  },
  {
   "cell_type": "markdown",
   "id": "a6af7e2b",
   "metadata": {},
   "source": [
    "# 4-3. 반복문과 while 반복문\n",
    "- enumerate(), items(), 리스트내포"
   ]
  },
  {
   "cell_type": "markdown",
   "id": "d6e7da61",
   "metadata": {},
   "source": [
    "### 리스트에 적용할 수 있는 기본 함수: 최솟값 min(), 최댓값 max(), 합계sum()"
   ]
  },
  {
   "cell_type": "code",
   "execution_count": 78,
   "id": "2db9801a",
   "metadata": {},
   "outputs": [
    {
     "data": {
      "text/plain": [
       "32"
      ]
     },
     "execution_count": 78,
     "metadata": {},
     "output_type": "execute_result"
    }
   ],
   "source": [
    "numbers = [103, 52, 273, 32, 77]\n",
    "min(numbers)"
   ]
  },
  {
   "cell_type": "code",
   "execution_count": 79,
   "id": "749fcbf6",
   "metadata": {},
   "outputs": [
    {
     "data": {
      "text/plain": [
       "537"
      ]
     },
     "execution_count": 79,
     "metadata": {},
     "output_type": "execute_result"
    }
   ],
   "source": [
    "sum(numbers)"
   ]
  },
  {
   "cell_type": "code",
   "execution_count": 80,
   "id": "48a64237",
   "metadata": {},
   "outputs": [
    {
     "data": {
      "text/plain": [
       "273"
      ]
     },
     "execution_count": 80,
     "metadata": {},
     "output_type": "execute_result"
    }
   ],
   "source": [
    "max(numbers)"
   ]
  },
  {
   "cell_type": "code",
   "execution_count": 81,
   "id": "2255d4df",
   "metadata": {},
   "outputs": [
    {
     "data": {
      "text/plain": [
       "52"
      ]
     },
     "execution_count": 81,
     "metadata": {},
     "output_type": "execute_result"
    }
   ],
   "source": [
    "min(103, 52, 273)"
   ]
  },
  {
   "cell_type": "code",
   "execution_count": 82,
   "id": "2e87160a",
   "metadata": {},
   "outputs": [
    {
     "data": {
      "text/plain": [
       "273"
      ]
     },
     "execution_count": 82,
     "metadata": {},
     "output_type": "execute_result"
    }
   ],
   "source": [
    "max(103, 52, 273)"
   ]
  },
  {
   "cell_type": "markdown",
   "id": "f710ac8c",
   "metadata": {},
   "source": [
    "### 리스트 뒤집기: reversed()"
   ]
  },
  {
   "cell_type": "markdown",
   "id": "2237cfa9",
   "metadata": {},
   "source": [
    "reversed() 함수"
   ]
  },
  {
   "cell_type": "code",
   "execution_count": 84,
   "id": "9a763a54",
   "metadata": {},
   "outputs": [
    {
     "name": "stdout",
     "output_type": "stream",
     "text": [
      "# reversed() 함수\n",
      "reversed([1,2,3,4,5]):  <list_reverseiterator object at 0x00000260227E63C8>\n",
      "list(reversed([1,2,3,4,5])):  [5, 4, 3, 2, 1]\n",
      "\n",
      "# reversed() 함수와 반복문\n",
      "for i in reversed([1,2,3,4,5]):\n",
      "- 5\n",
      "- 4\n",
      "- 3\n",
      "- 2\n",
      "- 1\n"
     ]
    }
   ],
   "source": [
    "# 리스트를 선언하고 뒤집는다.\n",
    "list_a = [1,2,3,4,5]\n",
    "list_reversed = reversed(list_a)\n",
    "\n",
    "# 출력\n",
    "print(\"# reversed() 함수\")\n",
    "print(\"reversed([1,2,3,4,5]): \", list_reversed)\n",
    "print(\"list(reversed([1,2,3,4,5])): \", list(list_reversed))\n",
    "print()\n",
    "\n",
    "# 반복문을 적용\n",
    "print(\"# reversed() 함수와 반복문\")\n",
    "print(\"for i in reversed([1,2,3,4,5]):\")\n",
    "for i in reversed(list_a):\n",
    "    print(\"-\", i)"
   ]
  },
  {
   "cell_type": "markdown",
   "id": "ca485a6e",
   "metadata": {},
   "source": [
    "reversed() 함수의 결과가 제너레이터다."
   ]
  },
  {
   "cell_type": "code",
   "execution_count": 88,
   "id": "50d6d1a3",
   "metadata": {},
   "outputs": [
    {
     "name": "stdout",
     "output_type": "stream",
     "text": [
      "첫번째 반복문: 6\n",
      "첫번째 반복문: 5\n",
      "첫번째 반복문: 4\n",
      "첫번째 반복문: 3\n",
      "첫번째 반복문: 2\n",
      "첫번째 반복문: 1\n"
     ]
    }
   ],
   "source": [
    "temp = reversed([1,2,3,4,5,6])\n",
    "\n",
    "for i in temp:\n",
    "    print(\"첫번째 반복문: {}\".format(i))\n",
    "    \n",
    "for i in temp:\n",
    "    print(\"두번째 반복문: {}\".format(i))"
   ]
  },
  {
   "cell_type": "markdown",
   "id": "93000dc1",
   "metadata": {},
   "source": [
    "두번째 반복문은 출력되지 않는데, 이건 함수의 결과가 __제너레이터__ 이기 때문이다.\n",
    "- 필요한 시점에 for문 내부에 함수를 넣어 사용한다."
   ]
  },
  {
   "cell_type": "code",
   "execution_count": 89,
   "id": "bc3a90d0",
   "metadata": {},
   "outputs": [
    {
     "name": "stdout",
     "output_type": "stream",
     "text": [
      "첫번째 반복문: 6\n",
      "첫번째 반복문: 5\n",
      "첫번째 반복문: 4\n",
      "첫번째 반복문: 3\n",
      "첫번째 반복문: 2\n",
      "첫번째 반복문: 1\n",
      "두번째 반복문: 6\n",
      "두번째 반복문: 5\n",
      "두번째 반복문: 4\n",
      "두번째 반복문: 3\n",
      "두번째 반복문: 2\n",
      "두번째 반복문: 1\n"
     ]
    }
   ],
   "source": [
    "temp = [1,2,3,4,5,6]\n",
    "\n",
    "for i in reversed(temp):\n",
    "    print(\"첫번째 반복문: {}\".format(i))\n",
    "    \n",
    "for i in reversed(temp):\n",
    "    print(\"두번째 반복문: {}\".format(i))"
   ]
  },
  {
   "cell_type": "markdown",
   "id": "8673ab0b",
   "metadata": {},
   "source": [
    "#### 확장 슬라이싱\n",
    "- 리스트를 뒤집을 수 있는 추가적인 방법. 리스트에 [::-1]을 붙인다."
   ]
  },
  {
   "cell_type": "code",
   "execution_count": 90,
   "id": "ba4e510e",
   "metadata": {},
   "outputs": [
    {
     "data": {
      "text/plain": [
       "[1, 2, 3, 4, 5, 6]"
      ]
     },
     "execution_count": 90,
     "metadata": {},
     "output_type": "execute_result"
    }
   ],
   "source": [
    "temp = [1,2,3,4,5,6]\n",
    "temp"
   ]
  },
  {
   "cell_type": "code",
   "execution_count": 91,
   "id": "aa5942ab",
   "metadata": {},
   "outputs": [
    {
     "data": {
      "text/plain": [
       "[6, 5, 4, 3, 2, 1]"
      ]
     },
     "execution_count": 91,
     "metadata": {},
     "output_type": "execute_result"
    }
   ],
   "source": [
    "temp[::-1]"
   ]
  },
  {
   "cell_type": "code",
   "execution_count": 92,
   "id": "0eedcfc2",
   "metadata": {},
   "outputs": [
    {
     "data": {
      "text/plain": [
       "[1, 2, 3, 4, 5, 6]"
      ]
     },
     "execution_count": 92,
     "metadata": {},
     "output_type": "execute_result"
    }
   ],
   "source": [
    "temp"
   ]
  },
  {
   "cell_type": "code",
   "execution_count": 93,
   "id": "d922585d",
   "metadata": {},
   "outputs": [
    {
     "data": {
      "text/plain": [
       "'요세하녕안'"
      ]
     },
     "execution_count": 93,
     "metadata": {},
     "output_type": "execute_result"
    }
   ],
   "source": [
    "\"안녕하세요\"[::-1]"
   ]
  },
  {
   "cell_type": "markdown",
   "id": "c91dc1d8",
   "metadata": {},
   "source": [
    "### 현재 인덱스가 몇 번째인지 확인하기: enumerate()\n",
    "- 함수와 반복문 조합하기"
   ]
  },
  {
   "cell_type": "code",
   "execution_count": 94,
   "id": "60a3bc3c",
   "metadata": {},
   "outputs": [
    {
     "name": "stdout",
     "output_type": "stream",
     "text": [
      "0번째 요소는 요소A입니다.\n",
      "1번째 요소는 요소B입니다.\n",
      "2번째 요소는 요소C입니다.\n"
     ]
    }
   ],
   "source": [
    "example_list = [\"요소A\", \"요소B\", \"요소C\"]\n",
    "i = 0\n",
    "for item in example_list:\n",
    "    print(\"{}번째 요소는 {}입니다.\".format(i, item))\n",
    "    i += 1"
   ]
  },
  {
   "cell_type": "code",
   "execution_count": 95,
   "id": "de3fef1c",
   "metadata": {},
   "outputs": [
    {
     "name": "stdout",
     "output_type": "stream",
     "text": [
      "0번째 요소는 요소A입니다.\n",
      "1번째 요소는 요소B입니다.\n",
      "2번째 요소는 요소C입니다.\n"
     ]
    }
   ],
   "source": [
    "example_list = [\"요소A\", \"요소B\", \"요소C\"]\n",
    "for i in range(len(example_list)):\n",
    "    print(\"{}번째 요소는 {}입니다.\".format(i, example_list[i]))"
   ]
  },
  {
   "cell_type": "markdown",
   "id": "bdc96066",
   "metadata": {},
   "source": [
    "##### enumerate() 함수와 리스트"
   ]
  },
  {
   "cell_type": "code",
   "execution_count": 97,
   "id": "bfc4691b",
   "metadata": {
    "scrolled": true
   },
   "outputs": [
    {
     "name": "stdout",
     "output_type": "stream",
     "text": [
      "# 단순 출력\n",
      "['요소A', '요소B', '요소C']\n",
      "\n",
      "# enumerate() 함수를 적용해 출력\n",
      "<enumerate object at 0x0000026022838188>\n",
      "\n",
      "# list()함수로 강제 전환해 출력\n",
      "[(0, '요소A'), (1, '요소B'), (2, '요소C')]\n",
      "\n",
      "# 반복문과 조합하기\n",
      "0번째 요소는 요소A입니다.\n",
      "1번째 요소는 요소B입니다.\n",
      "2번째 요소는 요소C입니다.\n"
     ]
    }
   ],
   "source": [
    "# 변수를 선언\n",
    "example_list = [\"요소A\", \"요소B\", \"요소C\"]\n",
    "\n",
    "# 출력\n",
    "print(\"# 단순 출력\")\n",
    "print(example_list)\n",
    "print()\n",
    "\n",
    "# enumerate() 함수를 적용해 출력\n",
    "print(\"# enumerate() 함수를 적용해 출력\")\n",
    "print(enumerate(example_list))\n",
    "print()\n",
    "\n",
    "# list()함수로 강제 전환해 출력\n",
    "print(\"# list()함수로 강제 전환해 출력\")\n",
    "print(list(enumerate(example_list)))\n",
    "print()\n",
    "\n",
    "# for 반복문과 enumerate() 함수 조합해서 사용\n",
    "print(\"# 반복문과 조합하기\")\n",
    "for i, value in enumerate(example_list):\n",
    "    print(\"{}번째 요소는 {}입니다.\".format(i, value))"
   ]
  },
  {
   "cell_type": "markdown",
   "id": "eb93252c",
   "metadata": {},
   "source": [
    "### 딕셔너리의 items() 함수와 반복문 조합하기\n",
    "##### 딕셔너리의 items() 함수와 반복문"
   ]
  },
  {
   "cell_type": "code",
   "execution_count": 99,
   "id": "1fb4cc06",
   "metadata": {},
   "outputs": [
    {
     "name": "stdout",
     "output_type": "stream",
     "text": [
      "딕셔너리의 items() 함수\n",
      "items(): dict_items([('키A', '값A'), ('키B', '값B'), ('키C', '값C')])\n",
      "\n",
      "# for 반복문과 items()함수와 반복문 조합하기\n",
      "dictionary[키A]= 값A\n",
      "dictionary[키B]= 값B\n",
      "dictionary[키C]= 값C\n"
     ]
    }
   ],
   "source": [
    "# 변수 선언\n",
    "example_dictionary = {\n",
    "    \"키A\": \"값A\",\n",
    "    \"키B\": \"값B\",\n",
    "    \"키C\": \"값C\",\n",
    "}\n",
    "\n",
    "# 딕셔너리의 items() 결과 출력\n",
    "print(\"딕셔너리의 items() 함수\")\n",
    "print(\"items():\", example_dictionary.items())\n",
    "print()\n",
    "\n",
    "# for 반복문과 items()함수와 반복문 조합하기\n",
    "print(\"# for 반복문과 items()함수와 반복문 조합하기\")\n",
    "for key, element in example_dictionary.items():\n",
    "    print(\"dictionary[{}]= {}\".format(key, element))"
   ]
  },
  {
   "cell_type": "markdown",
   "id": "9e7ea0bd",
   "metadata": {},
   "source": [
    "### 리스트 내포\n",
    "- 리스트 이름 = [ 표현식 for 반복자 in 반복할 수 있는 것]\n",
    "- 리스트 이름 = [ 표현식 for 반복자 in 반복할 수 있는 것 if 조건문]\n",
    "\n",
    "\n",
    "##### 반복문을 사용한 리스트 생성"
   ]
  },
  {
   "cell_type": "code",
   "execution_count": 100,
   "id": "fad1052e",
   "metadata": {},
   "outputs": [
    {
     "name": "stdout",
     "output_type": "stream",
     "text": [
      "[0, 4, 16, 36, 64, 100, 144, 196, 256, 324]\n"
     ]
    }
   ],
   "source": [
    "# 변수 선언\n",
    "array = []\n",
    "\n",
    "# 반복문 적용\n",
    "for i in range(0, 20, 2):\n",
    "    array.append(i*i)\n",
    "    \n",
    "#출력\n",
    "print(array)"
   ]
  },
  {
   "cell_type": "markdown",
   "id": "84484cd1",
   "metadata": {},
   "source": [
    "##### 리스트 안에 for문 사용하기"
   ]
  },
  {
   "cell_type": "code",
   "execution_count": 103,
   "id": "8c0830d0",
   "metadata": {},
   "outputs": [
    {
     "name": "stdout",
     "output_type": "stream",
     "text": [
      "[0, 4, 16, 36, 64, 100, 144, 196, 256, 324]\n"
     ]
    }
   ],
   "source": [
    "# 리스트 선언\n",
    "array = [i*i for i in range(0,20,2)]\n",
    "#출력\n",
    "print(array)"
   ]
  },
  {
   "cell_type": "markdown",
   "id": "b73d0ea6",
   "metadata": {},
   "source": [
    "##### 조건을 활용한 리스트 내포"
   ]
  },
  {
   "cell_type": "code",
   "execution_count": 104,
   "id": "95a0add7",
   "metadata": {},
   "outputs": [
    {
     "name": "stdout",
     "output_type": "stream",
     "text": [
      "['사과', '자두', '초콜릿', '바나나', '체리']\n"
     ]
    }
   ],
   "source": [
    "# 리스트 선언\n",
    "array = [\"사과\", \"자두\", \"초콜릿\", \"바나나\", \"체리\"]\n",
    "output = [fruit for fruit in array if fruit != \"초콜릿\"]\n",
    "\n",
    "# 출력\n",
    "print(array)"
   ]
  },
  {
   "cell_type": "markdown",
   "id": "8824f12b",
   "metadata": {},
   "source": [
    "### 구문 내부에 여러 줄 문자열을 사용했을 때의 문제점\n",
    "##### if 조건문과 여러 줄 문자열(1)"
   ]
  },
  {
   "cell_type": "code",
   "execution_count": 105,
   "id": "fe5adff7",
   "metadata": {},
   "outputs": [
    {
     "name": "stdout",
     "output_type": "stream",
     "text": [
      "정수 입력>10\n",
      "    입력한 문자열은 10입니다.\n",
      "    10은(는) 짝수입니다.\n"
     ]
    }
   ],
   "source": [
    "# 변수 선언\n",
    "number = int(input(\"정수 입력>\"))\n",
    "\n",
    "# if 조건문으로 홀수 짝수 구분\n",
    "if number % 2 == 0:\n",
    "    print(\"\"\"\\\n",
    "    입력한 문자열은 {}입니다.\n",
    "    {}은(는) 짝수입니다.\"\"\".format(number, number))\n",
    "else:\n",
    "    print(\"\"\"\\\n",
    "    입력한 문자열은 {}입니다.\n",
    "    {}은(는) 홀수입니다.\"\"\".format(number, number)) "
   ]
  },
  {
   "cell_type": "markdown",
   "id": "a917a5fc",
   "metadata": {},
   "source": [
    "ㄴ 위와 같이 생각지도 못한 들여쓰기가 실행되었다."
   ]
  },
  {
   "cell_type": "markdown",
   "id": "693d0d36",
   "metadata": {},
   "source": [
    "##### if 조건문과 여러 줄 문자열(2)"
   ]
  },
  {
   "cell_type": "code",
   "execution_count": 106,
   "id": "18681ee5",
   "metadata": {},
   "outputs": [
    {
     "name": "stdout",
     "output_type": "stream",
     "text": [
      "정수 입력>10\n",
      "입력한 문자열은 10입니다.\n",
      "10은(는) 짝수입니다.\n"
     ]
    }
   ],
   "source": [
    "# 변수 선언\n",
    "number = int(input(\"정수 입력>\"))\n",
    "\n",
    "# if 조건문으로 홀수 짝수 구분\n",
    "if number % 2 == 0:\n",
    "    print(\"\"\"입력한 문자열은 {}입니다.\n",
    "{}은(는) 짝수입니다.\"\"\".format(number, number))\n",
    "    \n",
    "else:\n",
    "    print(\"\"\"입력한 문자열은 {}입니다.\n",
    "{}은(는) 홀수입니다.\"\"\".format(number, number)) "
   ]
  },
  {
   "cell_type": "markdown",
   "id": "2c623d80",
   "metadata": {},
   "source": [
    "실행결과는 제대로 나오나 이상한 구조가 되었다. 때문에 여러 줄 문자열을 if 조건문, for 반복문, while 반복문 등의 구문에서 잘 사용하지 않는다."
   ]
  },
  {
   "cell_type": "markdown",
   "id": "5e60f3a7",
   "metadata": {},
   "source": [
    "##### if 조건문과 긴 문자열"
   ]
  },
  {
   "cell_type": "code",
   "execution_count": 107,
   "id": "fe59c354",
   "metadata": {},
   "outputs": [
    {
     "name": "stdout",
     "output_type": "stream",
     "text": [
      "정수 입력>10\n",
      "입력한 문자열은 10입니다.\n",
      "10은(는) 짝수입니다.\n"
     ]
    }
   ],
   "source": [
    "# 변수 선언\n",
    "number = int(input(\"정수 입력>\"))\n",
    "\n",
    "# if 조건문으로 홀수 짝수 구분\n",
    "if number % 2 == 0:\n",
    "    print(\"\"\"입력한 문자열은 {}입니다.\\n{}은(는) 짝수입니다.\"\"\".format(number, number))\n",
    "    \n",
    "else:\n",
    "    print(\"\"\"입력한 문자열은 {}입니다.\\n{}은(는) 홀수입니다.\"\"\".format(number, number)) "
   ]
  },
  {
   "cell_type": "markdown",
   "id": "f5d89311",
   "metadata": {},
   "source": [
    "##### 괄호로 문자열 연결하기"
   ]
  },
  {
   "cell_type": "code",
   "execution_count": 110,
   "id": "6b44a682",
   "metadata": {},
   "outputs": [
    {
     "name": "stdout",
     "output_type": "stream",
     "text": [
      "test: 이렇게 입력해도하나의 문자열로 연결되어생성됩니다\n",
      "type(test): <class 'str'>\n"
     ]
    }
   ],
   "source": [
    "# 변수 선언\n",
    "test = (\n",
    "    \"이렇게 입력해도\"\n",
    "    \"하나의 문자열로 연결되어\"\n",
    "    \"생성됩니다\"\n",
    ")\n",
    "\n",
    "# 출력\n",
    "print(\"test:\", test)\n",
    "print(\"type(test):\", type(test))"
   ]
  },
  {
   "cell_type": "markdown",
   "id": "153bf6f2",
   "metadata": {},
   "source": [
    "##### 튜플 자료형의 구분"
   ]
  },
  {
   "cell_type": "code",
   "execution_count": 111,
   "id": "d74e4479",
   "metadata": {},
   "outputs": [
    {
     "name": "stdout",
     "output_type": "stream",
     "text": [
      "test2: ('쉼표로 연결하면', '문자열이 아니라', '튜플이 생성됩니다')\n",
      "type(test): <class 'tuple'>\n"
     ]
    }
   ],
   "source": [
    "# 변수 선언\n",
    "test2 = (\n",
    "    \"쉼표로 연결하면\",\n",
    "    \"문자열이 아니라\",\n",
    "    \"튜플이 생성됩니다\"\n",
    ")\n",
    "\n",
    "# 출력\n",
    "print(\"test2:\", test2)\n",
    "print(\"type(test):\", type(test2))"
   ]
  },
  {
   "cell_type": "markdown",
   "id": "e2dd1c94",
   "metadata": {},
   "source": [
    "##### 여러 줄 문자열과  if 구문을 조합했을 때의 문제 해결(1)"
   ]
  },
  {
   "cell_type": "code",
   "execution_count": 113,
   "id": "23175712",
   "metadata": {},
   "outputs": [
    {
     "name": "stdout",
     "output_type": "stream",
     "text": [
      "정수 입력>10\n",
      "입력한 문자열은 10입니다.\n",
      "10은(는) 짝수입니다.\n"
     ]
    }
   ],
   "source": [
    "# 변수 선언\n",
    "number = int(input(\"정수 입력>\"))\n",
    "\n",
    "# if 조건문으로 홀수 짝수 구분\n",
    "if number % 2 == 0:\n",
    "    print((\n",
    "        \"입력한 문자열은 {}입니다.\\n\"\n",
    "        \"{}은(는) 짝수입니다.\"\n",
    "    ).format(number, number))\n",
    "    \n",
    "else:\n",
    "    print((\"입력한 문자열은 {}입니다.\\n\"\n",
    "           \"{}은(는) 홀수입니다.\"\n",
    "    ).format(number, number)) "
   ]
  },
  {
   "cell_type": "markdown",
   "id": "c7bc6789",
   "metadata": {},
   "source": [
    "### 문자열의 join() 함수\n",
    "- 리스트의 요소를 문자열로 연결한다.\n",
    "- 문자열.join(문자열로 구성된 리스트)"
   ]
  },
  {
   "cell_type": "code",
   "execution_count": 114,
   "id": "15b7c591",
   "metadata": {},
   "outputs": [
    {
     "name": "stdout",
     "output_type": "stream",
     "text": [
      "1::2::3::4::5\n"
     ]
    }
   ],
   "source": [
    "print(\"::\".join([\"1\", \"2\", \"3\", \"4\", \"5\"]))"
   ]
  },
  {
   "cell_type": "code",
   "execution_count": 115,
   "id": "0eb6d577",
   "metadata": {},
   "outputs": [
    {
     "name": "stdout",
     "output_type": "stream",
     "text": [
      "12345\n"
     ]
    }
   ],
   "source": [
    "print(\"\".join([\"1\", \"2\", \"3\", \"4\", \"5\"]))"
   ]
  },
  {
   "cell_type": "markdown",
   "id": "25124303",
   "metadata": {},
   "source": [
    "##### 여러 줄 문자열과 if 구문을 조합했을 때의 문제 해결(2)"
   ]
  },
  {
   "cell_type": "code",
   "execution_count": 118,
   "id": "e400e595",
   "metadata": {},
   "outputs": [
    {
     "name": "stdout",
     "output_type": "stream",
     "text": [
      "정수 입력> 14\n",
      "입력한 문자열은 14 입니다.\n",
      "14은(는) 짝수입니다.\n"
     ]
    }
   ],
   "source": [
    "# 변수 선언\n",
    "number = int(input(\"정수 입력> \"))\n",
    "\n",
    "# if 조건문으로 홀수 짝수를 구분\n",
    "if number % 2 == 0:\n",
    "    print(\"\\n\".join([\n",
    "        \"입력한 문자열은 {} 입니다.\",\n",
    "        \"{}은(는) 짝수입니다.\"\n",
    "    ]).format(number, number))\n",
    "else:\n",
    "    print(\"\\n\".join([\n",
    "        \"입력한 문자열은 {} 입니다.\",\n",
    "        \"{}은(는) 홀수입니다.\"\n",
    "    ]).format(number, number))"
   ]
  },
  {
   "cell_type": "markdown",
   "id": "ec3ae6bd",
   "metadata": {},
   "source": [
    "### 이터레이터\n",
    "- 내부에 있는 요소들을 차례차례 꺼낼 수 있는 객체\n",
    "- for 반복자 in 반복할 수 있는 것\n",
    "\n",
    "\n",
    "- 이터레이터: 이터러블 중에서 next()함수를 적용해 하나하나 꺼낼 수 있는 요소"
   ]
  },
  {
   "cell_type": "markdown",
   "id": "6ea37c54",
   "metadata": {},
   "source": [
    "##### reversed() 함수와 이터레이터"
   ]
  },
  {
   "cell_type": "code",
   "execution_count": 122,
   "id": "36c3cf46",
   "metadata": {},
   "outputs": [
    {
     "name": "stdout",
     "output_type": "stream",
     "text": [
      "reversed_numbers: <list_reverseiterator object at 0x0000026022818C88>\n",
      "6\n",
      "5\n",
      "4\n",
      "3\n",
      "2\n",
      "1\n"
     ]
    }
   ],
   "source": [
    "# 변수 선언\n",
    "numbers = [1,2,3,4,5,6]\n",
    "r_num = reversed(numbers)\n",
    "\n",
    "# reversed_numbers 출력\n",
    "print(\"reversed_numbers:\", r_num)\n",
    "print(next(r_num))\n",
    "print(next(r_num))\n",
    "print(next(r_num))\n",
    "print(next(r_num))\n",
    "print(next(r_num))\n",
    "print(next(r_num))"
   ]
  },
  {
   "cell_type": "markdown",
   "id": "db9971a7",
   "metadata": {},
   "source": [
    "### 핵심포인트\n",
    "- enumerate(): 리스트를 매개변수로 넣을 경우 인덱스와 값을 쌍으로 사용해 반복문을 돌릴 수 있게 해준다.\n",
    "- items(): 키와 쌍으로 사용해 반복문을 돌릴 수 있게 해주는 딕셔너리 함수\n",
    "- 리스트 내포: 반복문과 조건문을 대괄호[] 안에 넣는 형태를 사용해서 리스트를 생성(list comprehensions)"
   ]
  },
  {
   "cell_type": "markdown",
   "id": "e242e561",
   "metadata": {},
   "source": [
    "### 확인문제"
   ]
  },
  {
   "cell_type": "markdown",
   "id": "85e3e6b0",
   "metadata": {},
   "source": [
    "##### 10진수와 2진수 변환"
   ]
  },
  {
   "cell_type": "code",
   "execution_count": 123,
   "id": "d34e989c",
   "metadata": {},
   "outputs": [
    {
     "data": {
      "text/plain": [
       "'1010'"
      ]
     },
     "execution_count": 123,
     "metadata": {},
     "output_type": "execute_result"
    }
   ],
   "source": [
    "\"{:b}\".format(10)"
   ]
  },
  {
   "cell_type": "code",
   "execution_count": 124,
   "id": "b433c791",
   "metadata": {},
   "outputs": [
    {
     "data": {
      "text/plain": [
       "10"
      ]
     },
     "execution_count": 124,
     "metadata": {},
     "output_type": "execute_result"
    }
   ],
   "source": [
    "int(\"1010\", 2)"
   ]
  },
  {
   "cell_type": "markdown",
   "id": "79a2317b",
   "metadata": {},
   "source": [
    "##### 10진수와 8진수 변환"
   ]
  },
  {
   "cell_type": "code",
   "execution_count": 126,
   "id": "6fedd24c",
   "metadata": {},
   "outputs": [
    {
     "data": {
      "text/plain": [
       "'12'"
      ]
     },
     "execution_count": 126,
     "metadata": {},
     "output_type": "execute_result"
    }
   ],
   "source": [
    "\"{:o}\".format(10)"
   ]
  },
  {
   "cell_type": "code",
   "execution_count": 127,
   "id": "c82b7840",
   "metadata": {},
   "outputs": [
    {
     "data": {
      "text/plain": [
       "10"
      ]
     },
     "execution_count": 127,
     "metadata": {},
     "output_type": "execute_result"
    }
   ],
   "source": [
    "int(\"12\", 8)"
   ]
  },
  {
   "cell_type": "markdown",
   "id": "c91450f4",
   "metadata": {},
   "source": [
    "##### 10진수와 16진수 변환"
   ]
  },
  {
   "cell_type": "code",
   "execution_count": 128,
   "id": "acfba043",
   "metadata": {},
   "outputs": [
    {
     "data": {
      "text/plain": [
       "'a'"
      ]
     },
     "execution_count": 128,
     "metadata": {},
     "output_type": "execute_result"
    }
   ],
   "source": [
    "\"{:x}\".format(10)"
   ]
  },
  {
   "cell_type": "code",
   "execution_count": 129,
   "id": "45e6fd21",
   "metadata": {},
   "outputs": [
    {
     "data": {
      "text/plain": [
       "16"
      ]
     },
     "execution_count": 129,
     "metadata": {},
     "output_type": "execute_result"
    }
   ],
   "source": [
    "int(\"10\",16)"
   ]
  },
  {
   "cell_type": "markdown",
   "id": "1e23e164",
   "metadata": {},
   "source": [
    "##### 반복 가능한 객체(문자열, 리스트, 범위 등)의 count() 함수"
   ]
  },
  {
   "cell_type": "code",
   "execution_count": 130,
   "id": "69ca2b2d",
   "metadata": {},
   "outputs": [
    {
     "data": {
      "text/plain": [
       "2"
      ]
     },
     "execution_count": 130,
     "metadata": {},
     "output_type": "execute_result"
    }
   ],
   "source": [
    "\"안녕안녕하세요\".count(\"안\")"
   ]
  },
  {
   "cell_type": "markdown",
   "id": "676a2a0d",
   "metadata": {},
   "source": [
    "##### 1~100 사이에 있는 숫자 중 2진수로 변환했을 때 0이 하나만 포함된 숫자를 찾고, 그 숫자들의 합을 구하는 코드 만들기"
   ]
  },
  {
   "cell_type": "code",
   "execution_count": 131,
   "id": "9be9a895",
   "metadata": {},
   "outputs": [
    {
     "name": "stdout",
     "output_type": "stream",
     "text": [
      "2 : 10\n",
      "5 : 101\n",
      "6 : 110\n",
      "11 : 1011\n",
      "13 : 1101\n",
      "14 : 1110\n",
      "23 : 10111\n",
      "27 : 11011\n",
      "29 : 11101\n",
      "30 : 11110\n",
      "47 : 101111\n",
      "55 : 110111\n",
      "59 : 111011\n",
      "61 : 111101\n",
      "62 : 111110\n",
      "95 : 1011111\n",
      "합계: 539\n"
     ]
    }
   ],
   "source": [
    "# 리스트 내포를 사용해본 코드\n",
    "output = [i for i in range(1, 101)\n",
    "    if \"{:b}\".format(i).count(\"0\") == 1]\n",
    "\n",
    "\n",
    "for i in output:\n",
    "    print(\"{} : {}\".format(i, \"{:b}\".format(i)))\n",
    "print(\"합계:\", sum(output))"
   ]
  }
 ],
 "metadata": {
  "kernelspec": {
   "display_name": "python3_7_6",
   "language": "python",
   "name": "py3_7_6"
  },
  "language_info": {
   "codemirror_mode": {
    "name": "ipython",
    "version": 3
   },
   "file_extension": ".py",
   "mimetype": "text/x-python",
   "name": "python",
   "nbconvert_exporter": "python",
   "pygments_lexer": "ipython3",
   "version": "3.7.6"
  }
 },
 "nbformat": 4,
 "nbformat_minor": 5
}
