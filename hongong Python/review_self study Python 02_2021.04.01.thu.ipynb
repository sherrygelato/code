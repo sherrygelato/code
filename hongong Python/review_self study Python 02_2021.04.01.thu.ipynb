{
 "cells": [
  {
   "cell_type": "markdown",
   "id": "6224fdb7",
   "metadata": {},
   "source": [
    "# 혼자 공부하는 파이썬\n",
    "\n",
    "# 2. 자료형\n",
    "\n",
    "## 02-1 자료형과 문자열\n",
    "- 문자열 연산자, type(), len()"
   ]
  },
  {
   "cell_type": "code",
   "execution_count": 1,
   "id": "flush-potter",
   "metadata": {},
   "outputs": [
    {
     "name": "stdout",
     "output_type": "stream",
     "text": [
      "안녕\n"
     ]
    },
    {
     "data": {
      "text/plain": [
       "'안녕하세요'"
      ]
     },
     "execution_count": 1,
     "metadata": {},
     "output_type": "execute_result"
    }
   ],
   "source": [
    "hello=\"안녕하세요\"     # 문자열을 변수에 저장\n",
    "print(hello[0:2])\n",
    "hello"
   ]
  },
  {
   "cell_type": "code",
   "execution_count": 2,
   "id": "starting-quantum",
   "metadata": {},
   "outputs": [
    {
     "ename": "IndexError",
     "evalue": "string index out of range",
     "output_type": "error",
     "traceback": [
      "\u001b[1;31m---------------------------------------------------------------------------\u001b[0m",
      "\u001b[1;31mIndexError\u001b[0m                                Traceback (most recent call last)",
      "\u001b[1;32m<ipython-input-2-31d7842c8b75>\u001b[0m in \u001b[0;36m<module>\u001b[1;34m\u001b[0m\n\u001b[1;32m----> 1\u001b[1;33m \u001b[0mprint\u001b[0m\u001b[1;33m(\u001b[0m\u001b[1;34m\"안녕하세요\"\u001b[0m\u001b[1;33m[\u001b[0m\u001b[1;36m10\u001b[0m\u001b[1;33m]\u001b[0m\u001b[1;33m)\u001b[0m\u001b[1;33m\u001b[0m\u001b[1;33m\u001b[0m\u001b[0m\n\u001b[0m",
      "\u001b[1;31mIndexError\u001b[0m: string index out of range"
     ]
    }
   ],
   "source": [
    "print(\"안녕하세요\"[10])"
   ]
  },
  {
   "cell_type": "markdown",
   "id": "central-sharing",
   "metadata": {},
   "source": [
    "문자열의 수를 넘는 부분 선택하여 오류 나옴"
   ]
  },
  {
   "cell_type": "code",
   "execution_count": 6,
   "id": "declared-skirt",
   "metadata": {},
   "outputs": [
    {
     "name": "stdout",
     "output_type": "stream",
     "text": [
      "5\n"
     ]
    }
   ],
   "source": [
    "print(len(\"안녕하세요\"))          # 문자열 길이 구하기"
   ]
  },
  {
   "cell_type": "markdown",
   "id": "c635f5cd",
   "metadata": {},
   "source": [
    "### 확인문제"
   ]
  },
  {
   "cell_type": "code",
   "execution_count": 7,
   "id": "judicial-reunion",
   "metadata": {},
   "outputs": [
    {
     "name": "stdout",
     "output_type": "stream",
     "text": [
      "# 연습문제\n",
      "\\\\\\\\\n",
      "--------\n"
     ]
    }
   ],
   "source": [
    "print(\"# 연습문제\")\n",
    "print(\"\\\\\\\\\\\\\\\\\")\n",
    "print(\"-\"*8)"
   ]
  },
  {
   "cell_type": "code",
   "execution_count": 8,
   "id": "scenic-bride",
   "metadata": {},
   "outputs": [
    {
     "name": "stdout",
     "output_type": "stream",
     "text": [
      "녕\n",
      "하\n",
      "세\n",
      "요\n"
     ]
    },
    {
     "ename": "IndexError",
     "evalue": "string index out of range",
     "output_type": "error",
     "traceback": [
      "\u001b[1;31m---------------------------------------------------------------------------\u001b[0m",
      "\u001b[1;31mIndexError\u001b[0m                                Traceback (most recent call last)",
      "\u001b[1;32m<ipython-input-8-a61e9f15cd9d>\u001b[0m in \u001b[0;36m<module>\u001b[1;34m\u001b[0m\n\u001b[0;32m      3\u001b[0m \u001b[0mprint\u001b[0m\u001b[1;33m(\u001b[0m\u001b[1;34m\"안녕하세요\"\u001b[0m\u001b[1;33m[\u001b[0m\u001b[1;36m3\u001b[0m\u001b[1;33m]\u001b[0m\u001b[1;33m)\u001b[0m\u001b[1;33m\u001b[0m\u001b[1;33m\u001b[0m\u001b[0m\n\u001b[0;32m      4\u001b[0m \u001b[0mprint\u001b[0m\u001b[1;33m(\u001b[0m\u001b[1;34m\"안녕하세요\"\u001b[0m\u001b[1;33m[\u001b[0m\u001b[1;36m4\u001b[0m\u001b[1;33m]\u001b[0m\u001b[1;33m)\u001b[0m\u001b[1;33m\u001b[0m\u001b[1;33m\u001b[0m\u001b[0m\n\u001b[1;32m----> 5\u001b[1;33m \u001b[0mprint\u001b[0m\u001b[1;33m(\u001b[0m\u001b[1;34m\"안녕하세요\"\u001b[0m\u001b[1;33m[\u001b[0m\u001b[1;36m5\u001b[0m\u001b[1;33m]\u001b[0m\u001b[1;33m)\u001b[0m\u001b[1;33m\u001b[0m\u001b[1;33m\u001b[0m\u001b[0m\n\u001b[0m",
      "\u001b[1;31mIndexError\u001b[0m: string index out of range"
     ]
    }
   ],
   "source": [
    "print(\"안녕하세요\"[1])\n",
    "print(\"안녕하세요\"[2])\n",
    "print(\"안녕하세요\"[3])\n",
    "print(\"안녕하세요\"[4])\n",
    "print(\"안녕하세요\"[5])"
   ]
  },
  {
   "cell_type": "markdown",
   "id": "freelance-purple",
   "metadata": {},
   "source": [
    "5행에서 오류가 발생한다. 그 이유는 해당 문자열은 제로 인덱스로 [5]에 해당하는 문자열이 없다."
   ]
  },
  {
   "cell_type": "code",
   "execution_count": 9,
   "id": "selective-bernard",
   "metadata": {},
   "outputs": [
    {
     "name": "stdout",
     "output_type": "stream",
     "text": [
      "녕하\n",
      "하세\n",
      "녕하세요\n",
      "안녕하\n"
     ]
    }
   ],
   "source": [
    "print(\"안녕하세요\"[1:3])\n",
    "print(\"안녕하세요\"[2:4])\n",
    "print(\"안녕하세요\"[1:])\n",
    "print(\"안녕하세요\"[:3])"
   ]
  },
  {
   "cell_type": "markdown",
   "id": "e727de86",
   "metadata": {},
   "source": [
    "## 02-3 숫자\n",
    "- 숫자 자료형, 숫자 연산자, 연산자, 우선순위"
   ]
  },
  {
   "cell_type": "code",
   "execution_count": 10,
   "id": "understood-express",
   "metadata": {},
   "outputs": [
    {
     "name": "stdout",
     "output_type": "stream",
     "text": [
      "273\n",
      "52.723\n"
     ]
    }
   ],
   "source": [
    "print(273)\n",
    "print(52.723)"
   ]
  },
  {
   "cell_type": "code",
   "execution_count": 11,
   "id": "bound-alabama",
   "metadata": {},
   "outputs": [
    {
     "name": "stdout",
     "output_type": "stream",
     "text": [
      "<class 'int'>\n",
      "<class 'float'>\n"
     ]
    }
   ],
   "source": [
    "print(type(52))\n",
    "print(type(52.273))"
   ]
  },
  {
   "cell_type": "markdown",
   "id": "reduced-structure",
   "metadata": {},
   "source": [
    "int integer 정수 \\\n",
    "float floating point 부동 소수점(실수)"
   ]
  },
  {
   "cell_type": "code",
   "execution_count": 12,
   "id": "another-prayer",
   "metadata": {},
   "outputs": [
    {
     "name": "stdout",
     "output_type": "stream",
     "text": [
      "0\n",
      "<class 'int'>\n"
     ]
    }
   ],
   "source": [
    "print(0)\n",
    "print(type(0))"
   ]
  },
  {
   "cell_type": "code",
   "execution_count": 13,
   "id": "convenient-samuel",
   "metadata": {},
   "outputs": [
    {
     "name": "stdout",
     "output_type": "stream",
     "text": [
      "0.0\n",
      "<class 'float'>\n"
     ]
    }
   ],
   "source": [
    "print(0.0)\n",
    "print(type(0.0))"
   ]
  },
  {
   "cell_type": "code",
   "execution_count": 14,
   "id": "annual-pulse",
   "metadata": {},
   "outputs": [
    {
     "data": {
      "text/plain": [
       "52.273"
      ]
     },
     "execution_count": 14,
     "metadata": {},
     "output_type": "execute_result"
    }
   ],
   "source": [
    "0.52273e2     # 지수 표현"
   ]
  },
  {
   "cell_type": "code",
   "execution_count": 15,
   "id": "horizontal-restaurant",
   "metadata": {},
   "outputs": [
    {
     "data": {
      "text/plain": [
       "0.0052273"
      ]
     },
     "execution_count": 15,
     "metadata": {},
     "output_type": "execute_result"
    }
   ],
   "source": [
    "0.52273e-2"
   ]
  },
  {
   "cell_type": "code",
   "execution_count": 16,
   "id": "angry-milan",
   "metadata": {},
   "outputs": [
    {
     "name": "stdout",
     "output_type": "stream",
     "text": [
      "5+7= 12\n",
      "5-7= -2\n",
      "5*7= 35\n",
      "5/7= 0.7142857142857143\n"
     ]
    }
   ],
   "source": [
    "print(\"5+7=\", 5+7)\n",
    "print(\"5-7=\", 5-7)\n",
    "print(\"5*7=\", 5*7)\n",
    "print(\"5/7=\", 5/7)"
   ]
  },
  {
   "cell_type": "code",
   "execution_count": 18,
   "id": "fourth-integrity",
   "metadata": {},
   "outputs": [
    {
     "name": "stdout",
     "output_type": "stream",
     "text": [
      "3/2= 1.5\n",
      "3//2= 1\n"
     ]
    }
   ],
   "source": [
    "print(\"3/2=\", 3/2)\n",
    "print(\"3//2=\", 3//2)     # 숫자를 나누고 정수만 남긴 \"정수 나누기 연산자\""
   ]
  },
  {
   "cell_type": "code",
   "execution_count": 22,
   "id": "healthy-berry",
   "metadata": {},
   "outputs": [
    {
     "name": "stdout",
     "output_type": "stream",
     "text": [
      "5%2= 1\n"
     ]
    }
   ],
   "source": [
    "print(\"5%2=\", 5%2) # 숫자를 나누었을 때 남은 나머지"
   ]
  },
  {
   "cell_type": "code",
   "execution_count": 23,
   "id": "insured-creator",
   "metadata": {},
   "outputs": [
    {
     "name": "stdout",
     "output_type": "stream",
     "text": [
      "2**1= 2\n",
      "2**2= 4\n",
      "2**3= 8\n",
      "2**4= 16\n"
     ]
    }
   ],
   "source": [
    "# 제곱 연산자 : **\n",
    "print(\"2**1=\", 2**1)\n",
    "print(\"2**2=\", 2**2)\n",
    "print(\"2**3=\", 2**3)\n",
    "print(\"2**4=\", 2**4)"
   ]
  },
  {
   "cell_type": "code",
   "execution_count": 24,
   "id": "certified-adoption",
   "metadata": {},
   "outputs": [
    {
     "name": "stdout",
     "output_type": "stream",
     "text": [
      "0.0\n"
     ]
    }
   ],
   "source": [
    "print(2+2-2*2/2*2)"
   ]
  },
  {
   "cell_type": "code",
   "execution_count": 25,
   "id": "varied-cemetery",
   "metadata": {},
   "outputs": [
    {
     "name": "stdout",
     "output_type": "stream",
     "text": [
      "4.0\n"
     ]
    }
   ],
   "source": [
    "print(2-2+2/2*2+2)"
   ]
  },
  {
   "cell_type": "code",
   "execution_count": 27,
   "id": "comic-following",
   "metadata": {},
   "outputs": [
    {
     "data": {
      "text/plain": [
       "11"
      ]
     },
     "execution_count": 27,
     "metadata": {},
     "output_type": "execute_result"
    }
   ],
   "source": [
    "5+3*2"
   ]
  },
  {
   "cell_type": "code",
   "execution_count": 28,
   "id": "beneficial-progressive",
   "metadata": {},
   "outputs": [
    {
     "data": {
      "text/plain": [
       "16"
      ]
     },
     "execution_count": 28,
     "metadata": {},
     "output_type": "execute_result"
    }
   ],
   "source": [
    "(5+3)*2"
   ]
  },
  {
   "cell_type": "code",
   "execution_count": 29,
   "id": "earlier-shanghai",
   "metadata": {},
   "outputs": [
    {
     "data": {
      "text/plain": [
       "11"
      ]
     },
     "execution_count": 29,
     "metadata": {},
     "output_type": "execute_result"
    }
   ],
   "source": [
    "5+(3*2)"
   ]
  },
  {
   "cell_type": "code",
   "execution_count": 30,
   "id": "thermal-multimedia",
   "metadata": {},
   "outputs": [
    {
     "ename": "TypeError",
     "evalue": "can only concatenate str (not \"int\") to str",
     "output_type": "error",
     "traceback": [
      "\u001b[1;31m---------------------------------------------------------------------------\u001b[0m",
      "\u001b[1;31mTypeError\u001b[0m                                 Traceback (most recent call last)",
      "\u001b[1;32m<ipython-input-30-1e55f8239ed3>\u001b[0m in \u001b[0;36m<module>\u001b[1;34m\u001b[0m\n\u001b[0;32m      2\u001b[0m \u001b[0mstring\u001b[0m \u001b[1;33m=\u001b[0m \u001b[1;34m\"문자열\"\u001b[0m\u001b[1;33m\u001b[0m\u001b[1;33m\u001b[0m\u001b[0m\n\u001b[0;32m      3\u001b[0m \u001b[0mnumber\u001b[0m \u001b[1;33m=\u001b[0m \u001b[1;36m273\u001b[0m\u001b[1;33m\u001b[0m\u001b[1;33m\u001b[0m\u001b[0m\n\u001b[1;32m----> 4\u001b[1;33m \u001b[0mstring\u001b[0m \u001b[1;33m+\u001b[0m \u001b[0mnumber\u001b[0m\u001b[1;33m\u001b[0m\u001b[1;33m\u001b[0m\u001b[0m\n\u001b[0m",
      "\u001b[1;31mTypeError\u001b[0m: can only concatenate str (not \"int\") to str"
     ]
    }
   ],
   "source": [
    "# TypeError \n",
    "string = \"문자열\"\n",
    "number = 273\n",
    "string + number"
   ]
  },
  {
   "cell_type": "markdown",
   "id": "bc627e5c",
   "metadata": {},
   "source": [
    "#### 문자열 연산자의 우선순위"
   ]
  },
  {
   "cell_type": "code",
   "execution_count": 31,
   "id": "express-cartridge",
   "metadata": {},
   "outputs": [
    {
     "name": "stdout",
     "output_type": "stream",
     "text": [
      "안녕하세요하세요하세요\n"
     ]
    }
   ],
   "source": [
    "print(\"안녕\"+\"하세요\"*3)"
   ]
  },
  {
   "cell_type": "code",
   "execution_count": 32,
   "id": "proper-commonwealth",
   "metadata": {},
   "outputs": [
    {
     "name": "stdout",
     "output_type": "stream",
     "text": [
      "안녕하세요안녕하세요안녕하세요\n"
     ]
    }
   ],
   "source": [
    "print((\"안녕\"+\"하세요\")*3)"
   ]
  },
  {
   "cell_type": "code",
   "execution_count": 33,
   "id": "external-extreme",
   "metadata": {},
   "outputs": [
    {
     "name": "stdout",
     "output_type": "stream",
     "text": [
      "안녕하세요하세요하세요\n"
     ]
    }
   ],
   "source": [
    "print(\"안녕\"+(\"하세요\"*3))"
   ]
  },
  {
   "cell_type": "markdown",
   "id": "505cd2b0",
   "metadata": {},
   "source": [
    "### 확인문제"
   ]
  },
  {
   "cell_type": "code",
   "execution_count": 34,
   "id": "mature-still",
   "metadata": {},
   "outputs": [
    {
     "name": "stdout",
     "output_type": "stream",
     "text": [
      "# 기본적인 연산\n",
      "15 + 4 = 19\n",
      "15 - 4 = 11\n",
      "15 * 4 = 60\n",
      "15 / 4 = 3.75\n"
     ]
    }
   ],
   "source": [
    "print(\"# 기본적인 연산\")\n",
    "print(15, \"+\", 4, \"=\", 15+4)\n",
    "print(15, \"-\", 4, \"=\", 15-4)\n",
    "print(15, \"*\", 4, \"=\", 15*4)\n",
    "print(15, \"/\", 4, \"=\", 15/4)"
   ]
  },
  {
   "cell_type": "code",
   "execution_count": 36,
   "id": "turned-easter",
   "metadata": {},
   "outputs": [
    {
     "name": "stdout",
     "output_type": "stream",
     "text": [
      "3462를 17로 나누었을 때의\n",
      "- 몫: 203\n",
      "- 나머지: 11\n"
     ]
    }
   ],
   "source": [
    "print(\"3462를 17로 나누었을 때의\")\n",
    "print(\"- 몫:\", 3462//17)\n",
    "print(\"- 나머지:\", 3462%17)"
   ]
  },
  {
   "cell_type": "markdown",
   "id": "baf0db0c",
   "metadata": {},
   "source": [
    "## 02-3 변수와 입력\n",
    "- 변수 선언, 변수 할당, 변수 참조, input(), int(), float(), str()"
   ]
  },
  {
   "cell_type": "code",
   "execution_count": 37,
   "id": "circular-accident",
   "metadata": {},
   "outputs": [
    {
     "data": {
      "text/plain": [
       "3.14159265"
      ]
     },
     "execution_count": 37,
     "metadata": {},
     "output_type": "execute_result"
    }
   ],
   "source": [
    "pi=3.14159265\n",
    "pi"
   ]
  },
  {
   "cell_type": "code",
   "execution_count": 38,
   "id": "victorian-catering",
   "metadata": {},
   "outputs": [
    {
     "data": {
      "text/plain": [
       "5.14159265"
      ]
     },
     "execution_count": 38,
     "metadata": {},
     "output_type": "execute_result"
    }
   ],
   "source": [
    "pi=3.14159265\n",
    "pi+2"
   ]
  },
  {
   "cell_type": "code",
   "execution_count": 39,
   "id": "premium-amazon",
   "metadata": {},
   "outputs": [
    {
     "data": {
      "text/plain": [
       "1.1415926500000002"
      ]
     },
     "execution_count": 39,
     "metadata": {},
     "output_type": "execute_result"
    }
   ],
   "source": [
    "pi=3.14159265\n",
    "pi-2"
   ]
  },
  {
   "cell_type": "code",
   "execution_count": 40,
   "id": "fiscal-favor",
   "metadata": {},
   "outputs": [
    {
     "data": {
      "text/plain": [
       "6.2831853"
      ]
     },
     "execution_count": 40,
     "metadata": {},
     "output_type": "execute_result"
    }
   ],
   "source": [
    "pi=3.14159265\n",
    "pi*2"
   ]
  },
  {
   "cell_type": "code",
   "execution_count": 41,
   "id": "static-master",
   "metadata": {},
   "outputs": [
    {
     "data": {
      "text/plain": [
       "1.570796325"
      ]
     },
     "execution_count": 41,
     "metadata": {},
     "output_type": "execute_result"
    }
   ],
   "source": [
    "pi=3.14159265\n",
    "pi/2"
   ]
  },
  {
   "cell_type": "code",
   "execution_count": 42,
   "id": "thermal-windsor",
   "metadata": {},
   "outputs": [
    {
     "data": {
      "text/plain": [
       "1.1415926500000002"
      ]
     },
     "execution_count": 42,
     "metadata": {},
     "output_type": "execute_result"
    }
   ],
   "source": [
    "pi=3.14159265\n",
    "pi%2"
   ]
  },
  {
   "cell_type": "code",
   "execution_count": 43,
   "id": "premium-darkness",
   "metadata": {},
   "outputs": [
    {
     "data": {
      "text/plain": [
       "9.869604378534024"
      ]
     },
     "execution_count": 43,
     "metadata": {},
     "output_type": "execute_result"
    }
   ],
   "source": [
    "pi=3.14159265\n",
    "pi*pi"
   ]
  },
  {
   "cell_type": "markdown",
   "id": "34a19108",
   "metadata": {},
   "source": [
    "##### 원의 둘레와 넓이 구하기"
   ]
  },
  {
   "cell_type": "code",
   "execution_count": 44,
   "id": "extra-watch",
   "metadata": {},
   "outputs": [
    {
     "name": "stdout",
     "output_type": "stream",
     "text": [
      "원주율 = 3.14159265\n",
      "반지름 = 10\n",
      "원의 둘레 = 62.831853\n",
      "원의 넓이 = 314.159265\n"
     ]
    }
   ],
   "source": [
    "#변수 선언과 할당\n",
    "pi = 3.14159265\n",
    "r = 10\n",
    "\n",
    "#변수 참조\n",
    "print(\"원주율 =\", pi)\n",
    "print(\"반지름 =\", r)\n",
    "print(\"원의 둘레 =\", 2*pi*r) #원의 둘레\n",
    "print(\"원의 넓이 =\", pi*r*r) # 원의 넓이"
   ]
  },
  {
   "cell_type": "code",
   "execution_count": 45,
   "id": "aging-athletics",
   "metadata": {},
   "outputs": [
    {
     "name": "stdout",
     "output_type": "stream",
     "text": [
      "number: 160\n"
     ]
    }
   ],
   "source": [
    "number = 100\n",
    "number += 10\n",
    "number += 20\n",
    "number += 30\n",
    "print(\"number:\", number)"
   ]
  },
  {
   "cell_type": "code",
   "execution_count": 46,
   "id": "small-following",
   "metadata": {},
   "outputs": [
    {
     "name": "stdout",
     "output_type": "stream",
     "text": [
      "string: 안녕하세요!!\n"
     ]
    }
   ],
   "source": [
    "string = \"안녕하세요\"\n",
    "string += \"!\"\n",
    "string += \"!\"\n",
    "print(\"string:\", string)"
   ]
  },
  {
   "cell_type": "code",
   "execution_count": 47,
   "id": "after-bailey",
   "metadata": {},
   "outputs": [
    {
     "name": "stdout",
     "output_type": "stream",
     "text": [
      "인사맛을 입력하세요>안녕하세요\n"
     ]
    },
    {
     "data": {
      "text/plain": [
       "'안녕하세요'"
      ]
     },
     "execution_count": 47,
     "metadata": {},
     "output_type": "execute_result"
    }
   ],
   "source": [
    "input(\"인사맛을 입력하세요>\")"
   ]
  },
  {
   "cell_type": "code",
   "execution_count": 49,
   "id": "chicken-confidentiality",
   "metadata": {},
   "outputs": [
    {
     "name": "stdout",
     "output_type": "stream",
     "text": [
      "인사말을 입력하세요>안녕하세요\n",
      "안녕하세요\n"
     ]
    }
   ],
   "source": [
    "string = input(\"인사말을 입력하세요>\")\n",
    "print(string)"
   ]
  },
  {
   "cell_type": "code",
   "execution_count": 50,
   "id": "alpha-reach",
   "metadata": {},
   "outputs": [
    {
     "name": "stdout",
     "output_type": "stream",
     "text": [
      "<class 'str'>\n"
     ]
    }
   ],
   "source": [
    "print(type(string))"
   ]
  },
  {
   "cell_type": "code",
   "execution_count": 54,
   "id": "opened-measure",
   "metadata": {},
   "outputs": [
    {
     "name": "stdout",
     "output_type": "stream",
     "text": [
      "숫자를 입력하세요>12345\n",
      "12345\n",
      "<class 'str'>\n"
     ]
    }
   ],
   "source": [
    "number = input(\"숫자를 입력하세요>\")\n",
    "print(number)\n",
    "print(type(number))"
   ]
  },
  {
   "cell_type": "code",
   "execution_count": 53,
   "id": "shaped-crash",
   "metadata": {},
   "outputs": [
    {
     "name": "stdout",
     "output_type": "stream",
     "text": [
      "<class 'str'>\n"
     ]
    }
   ],
   "source": [
    "print(type(number))"
   ]
  },
  {
   "cell_type": "markdown",
   "id": "16e274ff",
   "metadata": {},
   "source": [
    "##### 입력 자료형 확인하기"
   ]
  },
  {
   "cell_type": "code",
   "execution_count": 55,
   "id": "enabling-trainer",
   "metadata": {},
   "outputs": [
    {
     "name": "stdout",
     "output_type": "stream",
     "text": [
      "입력>52273\n",
      "자료: 52273\n",
      "자료형: <class 'str'>\n"
     ]
    }
   ],
   "source": [
    "# 입력을 받습니다.\n",
    "string = input(\"입력>\")\n",
    "\n",
    "# 출력합니다.\n",
    "print(\"자료:\", string)\n",
    "print(\"자료형:\", type(string))"
   ]
  },
  {
   "cell_type": "code",
   "execution_count": 56,
   "id": "flush-toyota",
   "metadata": {},
   "outputs": [
    {
     "name": "stdout",
     "output_type": "stream",
     "text": [
      "입력>True\n",
      "자료: True\n",
      "자료형: <class 'str'>\n"
     ]
    }
   ],
   "source": [
    "# 입력을 받습니다.\n",
    "string = input(\"입력>\")\n",
    "\n",
    "# 출력합니다.\n",
    "print(\"자료:\", string)\n",
    "print(\"자료형:\", type(string))"
   ]
  },
  {
   "cell_type": "markdown",
   "id": "0d086908",
   "metadata": {},
   "source": [
    "##### 입력받고 더하기"
   ]
  },
  {
   "cell_type": "code",
   "execution_count": 57,
   "id": "noble-elite",
   "metadata": {},
   "outputs": [
    {
     "name": "stdout",
     "output_type": "stream",
     "text": [
      "입력>300\n"
     ]
    },
    {
     "ename": "TypeError",
     "evalue": "can only concatenate str (not \"int\") to str",
     "output_type": "error",
     "traceback": [
      "\u001b[1;31m---------------------------------------------------------------------------\u001b[0m",
      "\u001b[1;31mTypeError\u001b[0m                                 Traceback (most recent call last)",
      "\u001b[1;32m<ipython-input-57-7ac0baadb0d9>\u001b[0m in \u001b[0;36m<module>\u001b[1;34m\u001b[0m\n\u001b[0;32m      3\u001b[0m \u001b[1;33m\u001b[0m\u001b[0m\n\u001b[0;32m      4\u001b[0m \u001b[1;31m# 출력합니다.\u001b[0m\u001b[1;33m\u001b[0m\u001b[1;33m\u001b[0m\u001b[1;33m\u001b[0m\u001b[0m\n\u001b[1;32m----> 5\u001b[1;33m \u001b[0mprint\u001b[0m\u001b[1;33m(\u001b[0m\u001b[1;34m\"입력+100:\"\u001b[0m\u001b[1;33m,\u001b[0m \u001b[0mstring\u001b[0m\u001b[1;33m+\u001b[0m\u001b[1;36m100\u001b[0m\u001b[1;33m)\u001b[0m\u001b[1;33m\u001b[0m\u001b[1;33m\u001b[0m\u001b[0m\n\u001b[0m",
      "\u001b[1;31mTypeError\u001b[0m: can only concatenate str (not \"int\") to str"
     ]
    }
   ],
   "source": [
    "# 입력을 받습니다.\n",
    "string = input(\"입력>\")\n",
    "\n",
    "# 출력합니다.\n",
    "print(\"입력+100:\", string+100)"
   ]
  },
  {
   "cell_type": "code",
   "execution_count": 60,
   "id": "therapeutic-election",
   "metadata": {},
   "outputs": [
    {
     "name": "stdout",
     "output_type": "stream",
     "text": [
      "입력>300\n",
      "입력+100: 400\n"
     ]
    }
   ],
   "source": [
    "# 입력을 받습니다.\n",
    "string = int(input(\"입력>\"))\n",
    "\n",
    "# 출력합니다.\n",
    "print(\"입력+100:\", string+100)"
   ]
  },
  {
   "cell_type": "markdown",
   "id": "83676679",
   "metadata": {},
   "source": [
    "##### int() 함수 활용하기"
   ]
  },
  {
   "cell_type": "code",
   "execution_count": 62,
   "id": "harmful-float",
   "metadata": {},
   "outputs": [
    {
     "name": "stdout",
     "output_type": "stream",
     "text": [
      "입력A> 273\n",
      "입력B> 52\n",
      "문자열 자료: 27352\n",
      "숫자 자료: 325\n"
     ]
    }
   ],
   "source": [
    "string_a = input(\"입력A> \")\n",
    "int_a = int(string_a)\n",
    "\n",
    "string_b = input(\"입력B> \")\n",
    "int_b = int(string_b)\n",
    "\n",
    "print(\"문자열 자료:\", string_a+string_b)\n",
    "print(\"숫자 자료:\", int_a+int_b)"
   ]
  },
  {
   "cell_type": "markdown",
   "id": "cf232b54",
   "metadata": {},
   "source": [
    "##### int() 함수와 float() 함수 활용하기"
   ]
  },
  {
   "cell_type": "code",
   "execution_count": 63,
   "id": "neutral-theory",
   "metadata": {},
   "outputs": [
    {
     "name": "stdout",
     "output_type": "stream",
     "text": [
      "<class 'int'> 52\n",
      "<class 'float'> 52.273\n"
     ]
    }
   ],
   "source": [
    "output_a = int(\"52\")\n",
    "output_b = float(\"52.273\")\n",
    "\n",
    "print(type(output_a), output_a)\n",
    "print(type(output_b), output_b)"
   ]
  },
  {
   "cell_type": "markdown",
   "id": "6e29c2fc",
   "metadata": {},
   "source": [
    "##### int() 함수와 float() 함수 조합하기"
   ]
  },
  {
   "cell_type": "code",
   "execution_count": 64,
   "id": "polyphonic-biotechnology",
   "metadata": {},
   "outputs": [
    {
     "name": "stdout",
     "output_type": "stream",
     "text": [
      "첫번째 숫자> 273\n",
      "두번째 숫자> 52\n",
      "덧셈 결과: 325.0\n",
      "뺄셈 결과: 221.0\n",
      "곱셈 결과: 14196.0\n",
      "나눗셈 결과: 5.25\n"
     ]
    }
   ],
   "source": [
    "input_a=float(input(\"첫번째 숫자> \"))\n",
    "input_b=float(input(\"두번째 숫자> \"))\n",
    "\n",
    "print(\"덧셈 결과:\", input_a+input_b)\n",
    "print(\"뺄셈 결과:\", input_a-input_b)\n",
    "print(\"곱셈 결과:\", input_a*input_b)\n",
    "print(\"나눗셈 결과:\", input_a/input_b)"
   ]
  },
  {
   "cell_type": "code",
   "execution_count": 65,
   "id": "appreciated-plant",
   "metadata": {},
   "outputs": [
    {
     "ename": "NameError",
     "evalue": "name '안녕하세요' is not defined",
     "output_type": "error",
     "traceback": [
      "\u001b[1;31m---------------------------------------------------------------------------\u001b[0m",
      "\u001b[1;31mNameError\u001b[0m                                 Traceback (most recent call last)",
      "\u001b[1;32m<ipython-input-65-0a0e3568f838>\u001b[0m in \u001b[0;36m<module>\u001b[1;34m\u001b[0m\n\u001b[1;32m----> 1\u001b[1;33m \u001b[0mint\u001b[0m\u001b[1;33m(\u001b[0m\u001b[0m안녕하세요\u001b[0m\u001b[1;33m)\u001b[0m\u001b[1;33m\u001b[0m\u001b[1;33m\u001b[0m\u001b[0m\n\u001b[0m\u001b[0;32m      2\u001b[0m \u001b[0mfloat\u001b[0m\u001b[1;33m(\u001b[0m\u001b[1;34m\"안녕하세요\"\u001b[0m\u001b[1;33m)\u001b[0m\u001b[1;33m\u001b[0m\u001b[1;33m\u001b[0m\u001b[0m\n",
      "\u001b[1;31mNameError\u001b[0m: name '안녕하세요' is not defined"
     ]
    }
   ],
   "source": [
    "int(안녕하세요)\n",
    "float(\"안녕하세요\") # 숫자가 아닌 것을 숫자로 반환하려고 할 때"
   ]
  },
  {
   "cell_type": "code",
   "execution_count": 66,
   "id": "persistent-karma",
   "metadata": {},
   "outputs": [
    {
     "ename": "ValueError",
     "evalue": "invalid literal for int() with base 10: '52.273'",
     "output_type": "error",
     "traceback": [
      "\u001b[1;31m---------------------------------------------------------------------------\u001b[0m",
      "\u001b[1;31mValueError\u001b[0m                                Traceback (most recent call last)",
      "\u001b[1;32m<ipython-input-66-f84a6a76605f>\u001b[0m in \u001b[0;36m<module>\u001b[1;34m\u001b[0m\n\u001b[1;32m----> 1\u001b[1;33m \u001b[0mint\u001b[0m\u001b[1;33m(\u001b[0m\u001b[1;34m\"52.273\"\u001b[0m\u001b[1;33m)\u001b[0m\u001b[1;33m\u001b[0m\u001b[1;33m\u001b[0m\u001b[0m\n\u001b[0m",
      "\u001b[1;31mValueError\u001b[0m: invalid literal for int() with base 10: '52.273'"
     ]
    }
   ],
   "source": [
    "int(\"52.273\") # 소수점이 있는 숫자 형식의 문자열을 int() 함수로 변환하려고 할 때"
   ]
  },
  {
   "cell_type": "code",
   "execution_count": 67,
   "id": "acting-myanmar",
   "metadata": {},
   "outputs": [
    {
     "ename": "SyntaxError",
     "evalue": "invalid syntax (<ipython-input-67-0d9d311d7f9c>, line 1)",
     "output_type": "error",
     "traceback": [
      "\u001b[1;36m  File \u001b[1;32m\"<ipython-input-67-0d9d311d7f9c>\"\u001b[1;36m, line \u001b[1;32m1\u001b[0m\n\u001b[1;33m    str(다른 자료형)\u001b[0m\n\u001b[1;37m             ^\u001b[0m\n\u001b[1;31mSyntaxError\u001b[0m\u001b[1;31m:\u001b[0m invalid syntax\n"
     ]
    }
   ],
   "source": [
    "str(다른 자료형)"
   ]
  },
  {
   "cell_type": "markdown",
   "id": "53380601",
   "metadata": {},
   "source": [
    "##### str() 함수를 사용해 숫자를 문자열로 변환하기"
   ]
  },
  {
   "cell_type": "code",
   "execution_count": 68,
   "id": "civil-egypt",
   "metadata": {},
   "outputs": [
    {
     "name": "stdout",
     "output_type": "stream",
     "text": [
      "<class 'str'> 52\n",
      "<class 'str'> 52.273\n"
     ]
    }
   ],
   "source": [
    "output_a=str(52)\n",
    "output_b=str(52.273)\n",
    "print(type(output_a), output_a)\n",
    "print(type(output_b), output_b)"
   ]
  },
  {
   "cell_type": "markdown",
   "id": "caa6abb8",
   "metadata": {},
   "source": [
    "### 확인문제"
   ]
  },
  {
   "cell_type": "code",
   "execution_count": 72,
   "id": "descending-update",
   "metadata": {},
   "outputs": [
    {
     "name": "stdout",
     "output_type": "stream",
     "text": [
      "숫자 입력> 1\n",
      "\n",
      "1 inch\n",
      "2.54 cm\n"
     ]
    }
   ],
   "source": [
    "str_input=input(\"숫자 입력> \")\n",
    "num_input=int(str_input)\n",
    "\n",
    "print()\n",
    "print(num_input, \"inch\")\n",
    "print((num_input*2.54), \"cm\")"
   ]
  },
  {
   "cell_type": "code",
   "execution_count": 73,
   "id": "suburban-party",
   "metadata": {},
   "outputs": [
    {
     "name": "stdout",
     "output_type": "stream",
     "text": [
      "원의 반지름 입력> 2\n",
      "\n",
      "반지름: 2\n",
      "둘레: 12.56\n",
      "넓이: 12.56\n"
     ]
    }
   ],
   "source": [
    "str_input=input(\"원의 반지름 입력> \")\n",
    "num_input=int(str_input)\n",
    "print()\n",
    "print(\"반지름:\", num_input)\n",
    "print(\"둘레:\", 2*3.14*int(str_input))\n",
    "print(\"넓이:\", 3.14*int(str_input)**2)"
   ]
  },
  {
   "cell_type": "code",
   "execution_count": 76,
   "id": "extra-mobile",
   "metadata": {},
   "outputs": [
    {
     "name": "stdout",
     "output_type": "stream",
     "text": [
      "문자열 입력>안녕하세요\n",
      "문자열 입력>아침입니다\n",
      "\n",
      "안녕하세요 아침입니다\n",
      "아침입니다 안녕하세요\n"
     ]
    }
   ],
   "source": [
    "a= input(\"문자열 입력>\")\n",
    "b= input(\"문자열 입력>\")\n",
    "print()\n",
    "print(a, b)\n",
    "print(b, a)"
   ]
  },
  {
   "cell_type": "code",
   "execution_count": 77,
   "id": "answering-davis",
   "metadata": {},
   "outputs": [
    {
     "name": "stdout",
     "output_type": "stream",
     "text": [
      "문자열 입력>안녕하세요\n",
      "문자열 입력>아침입니다\n",
      "\n",
      "안녕하세요 아침입니다\n",
      "\n",
      "\n",
      "아침입니다 안녕하세요\n"
     ]
    }
   ],
   "source": [
    "a= input(\"문자열 입력>\")\n",
    "b= input(\"문자열 입력>\")\n",
    "print()\n",
    "print(a, b)\n",
    "print()\n",
    "# 변수 교체 : 스왑\n",
    "a, b = b, a\n",
    "print()\n",
    "print(a, b)"
   ]
  },
  {
   "cell_type": "markdown",
   "id": "growing-version",
   "metadata": {},
   "source": [
    "## 02-4 숫자와 문자열의 다양한 기능\n",
    "- format(), upper(), lower(), strip(), find(), in 연산자, split()"
   ]
  },
  {
   "cell_type": "markdown",
   "id": "40a16cf7",
   "metadata": {},
   "source": [
    "##### format() 함수로 숫자를 문자열로 변환하기"
   ]
  },
  {
   "cell_type": "code",
   "execution_count": 78,
   "id": "endless-haiti",
   "metadata": {},
   "outputs": [
    {
     "name": "stdout",
     "output_type": "stream",
     "text": [
      "10\n",
      "<class 'str'>\n"
     ]
    }
   ],
   "source": [
    "# format() 함수로 숫자를 문자열로 변환하기\n",
    "string_a = \"{}\".format(10)\n",
    "\n",
    "# 출력하기\n",
    "print(string_a)\n",
    "print(type(string_a))"
   ]
  },
  {
   "cell_type": "markdown",
   "id": "84a722ac",
   "metadata": {},
   "source": [
    "##### format() 함수의 다양한 형태"
   ]
  },
  {
   "cell_type": "code",
   "execution_count": 79,
   "id": "better-promotion",
   "metadata": {},
   "outputs": [
    {
     "name": "stdout",
     "output_type": "stream",
     "text": [
      "5000만원\n",
      "파이썬 열공하여 첫 연봉 5000만 원 만들기\n",
      "3000 4000 5000\n",
      "1 문자열 True\n"
     ]
    }
   ],
   "source": [
    "# format()함수로 숫자를 문자열로 변환하기\n",
    "format_a = \"{}만원\".format(5000)\n",
    "format_b = \"파이썬 열공하여 첫 연봉 {}만 원 만들기\".format(5000)\n",
    "format_c = \"{} {} {}\".format(3000, 4000, 5000)\n",
    "format_d = \"{} {} {}\".format(1,\"문자열\",True)\n",
    "\n",
    "#출력하기\n",
    "print(format_a)\n",
    "print(format_b)\n",
    "print(format_c)\n",
    "print(format_d)"
   ]
  },
  {
   "cell_type": "markdown",
   "id": "fb247e30",
   "metadata": {},
   "source": [
    "##### 정수를 특정 칸에 출력하기"
   ]
  },
  {
   "cell_type": "code",
   "execution_count": 80,
   "id": "noted-documentation",
   "metadata": {},
   "outputs": [
    {
     "name": "stdout",
     "output_type": "stream",
     "text": [
      "#기본\n",
      "52\n",
      "#특정 칸에 출력하기\n",
      "   52\n",
      "        52\n",
      "#빈칸을 0으로 채우기\n",
      "00052\n",
      "-0052\n"
     ]
    }
   ],
   "source": [
    "# 정수\n",
    "output_a=\"{:d}\".format(52)\n",
    "\n",
    "#특정 칸에 출력하기\n",
    "output_b=\"{:5d}\".format(52)\n",
    "output_c=\"{:10d}\".format(52)\n",
    "\n",
    "#빈칸을 0으로 채우기\n",
    "output_d=\"{:05d}\".format(52)\n",
    "output_e=\"{:05d}\".format(-52)\n",
    "\n",
    "print(\"#기본\")\n",
    "print(output_a)\n",
    "print(\"#특정 칸에 출력하기\")\n",
    "print(output_b)\n",
    "print(output_c)\n",
    "print(\"#빈칸을 0으로 채우기\")\n",
    "print(output_d)\n",
    "print(output_e)"
   ]
  },
  {
   "cell_type": "markdown",
   "id": "cc2e1c89",
   "metadata": {},
   "source": [
    "##### 기호 붙여 출력하기"
   ]
  },
  {
   "cell_type": "code",
   "execution_count": 81,
   "id": "induced-drill",
   "metadata": {},
   "outputs": [
    {
     "name": "stdout",
     "output_type": "stream",
     "text": [
      "# 기호와 함께 출력하기\n",
      "+52\n",
      "-52\n",
      " 52\n",
      "-52\n"
     ]
    }
   ],
   "source": [
    "# 기호와 함께 출력하기\n",
    "output_f = \"{:+d}\".format(52)\n",
    "output_g = \"{:+d}\".format(-52)\n",
    "output_h = \"{: d}\".format(52)\n",
    "output_i = \"{: d}\".format(-52)\n",
    "\n",
    "print(\"# 기호와 함께 출력하기\")\n",
    "print(output_f)\n",
    "print(output_g)\n",
    "print(output_h)\n",
    "print(output_i)"
   ]
  },
  {
   "cell_type": "markdown",
   "id": "07a73dff",
   "metadata": {},
   "source": [
    "##### 조합해 보기"
   ]
  },
  {
   "cell_type": "code",
   "execution_count": 82,
   "id": "sharing-potential",
   "metadata": {},
   "outputs": [
    {
     "name": "stdout",
     "output_type": "stream",
     "text": [
      "#조합하기\n",
      "  +52\n",
      "  -52\n",
      "+  52\n",
      "-  52\n",
      "+0052\n",
      "-0052\n"
     ]
    }
   ],
   "source": [
    "#조합하기\n",
    "output_h=\"{:+5d}\".format(52) # 뒤로 밀기\n",
    "output_i=\"{:+5d}\".format(-52)\n",
    "output_j=\"{:=+5d}\".format(52) # 앞으로 밀기\n",
    "output_k=\"{:=+5d}\".format(-52)\n",
    "output_l=\"{:+05d}\".format(52) # 0으로 채우기\n",
    "output_m=\"{:+05d}\".format(-52)\n",
    "\n",
    "print(\"#조합하기\")\n",
    "print(output_h)\n",
    "print(output_i)\n",
    "print(output_j)\n",
    "print(output_k)\n",
    "print(output_l)\n",
    "print(output_m)"
   ]
  },
  {
   "cell_type": "markdown",
   "id": "1205e9d2",
   "metadata": {},
   "source": [
    "##### float 자료형 기본"
   ]
  },
  {
   "cell_type": "code",
   "execution_count": 6,
   "id": "large-copper",
   "metadata": {},
   "outputs": [
    {
     "name": "stdout",
     "output_type": "stream",
     "text": [
      "52.273000\n",
      "      52.273000\n",
      "     +52.273000\n",
      "+0000052.273000\n"
     ]
    }
   ],
   "source": [
    "# 소숫점\n",
    "output_a = \"{:f}\".format(52.273)\n",
    "output_b = \"{:15f}\".format(52.273)    # 15칸을 만듦\n",
    "output_c = \"{:+15f}\".format(52.273)   # 15칸을 만드는데 +추가 (so 14칸)\n",
    "output_d = \"{:+015f}\".format(52.273)  # 15칸에 +추가하고 나머지 14칸 0\n",
    "\n",
    "print(output_a)\n",
    "print(output_b)\n",
    "print(output_c)\n",
    "print(output_d)"
   ]
  },
  {
   "cell_type": "markdown",
   "id": "abb71114",
   "metadata": {},
   "source": [
    "##### 소수점 아래 자릿수 지정하기"
   ]
  },
  {
   "cell_type": "code",
   "execution_count": 7,
   "id": "faced-printing",
   "metadata": {},
   "outputs": [
    {
     "name": "stdout",
     "output_type": "stream",
     "text": [
      "         52.273\n",
      "          52.27\n",
      "           52.3\n"
     ]
    }
   ],
   "source": [
    "output_a = \"{:15.3f}\".format(52.273)     #15칸 만드는데 소숫점 3자리까지\n",
    "output_b = \"{:15.2f}\".format(52.273)     #소숫점도 1칸이야\n",
    "output_c = \"{:15.1f}\".format(52.273)\n",
    "\n",
    "print(output_a)\n",
    "print(output_b)\n",
    "print(output_c)"
   ]
  },
  {
   "cell_type": "markdown",
   "id": "116f971a",
   "metadata": {},
   "source": [
    "##### 의미 없는 소수점 제거하기"
   ]
  },
  {
   "cell_type": "code",
   "execution_count": 9,
   "id": "lesbian-nurse",
   "metadata": {},
   "outputs": [
    {
     "name": "stdout",
     "output_type": "stream",
     "text": [
      "52.0\n",
      "52\n"
     ]
    }
   ],
   "source": [
    "#소숫점 제거하기 {:g}\n",
    "output_a = 52.0\n",
    "output_b = \"{:g}\".format(output_a)\n",
    "print(output_a)\n",
    "print(output_b)"
   ]
  },
  {
   "cell_type": "code",
   "execution_count": 12,
   "id": "interpreted-return",
   "metadata": {},
   "outputs": [
    {
     "name": "stdout",
     "output_type": "stream",
     "text": [
      "HELLO PYTHON PROGRAMMING...!\n",
      "hello python programming...!\n"
     ]
    }
   ],
   "source": [
    "# upper() 알파펫 대문자와 lower() 알파벳 소문자\n",
    "a = \"Hello Python Programming...!\"\n",
    "print(a.upper())\n",
    "\n",
    "b = \"Hello Python Programming...!\"\n",
    "print(b.lower())"
   ]
  },
  {
   "cell_type": "code",
   "execution_count": 18,
   "id": "center-proposal",
   "metadata": {},
   "outputs": [
    {
     "name": "stdout",
     "output_type": "stream",
     "text": [
      "\n",
      "        안녕하세요.\n",
      "문자열의 함수를 알아봅니다\n",
      "\n",
      "안녕하세요.\n",
      "문자열의 함수를 알아봅니다\n"
     ]
    }
   ],
   "source": [
    "# 문자열 양옆 공백 제거하기: strip()       따옴표 세번은 여러 줄 문자열 입력 시\n",
    "input_a = \"\"\"\n",
    "        안녕하세요.\n",
    "문자열의 함수를 알아봅니다\n",
    "\"\"\"\n",
    "\n",
    "print(input_a)\n",
    "print(input_a.strip())"
   ]
  },
  {
   "cell_type": "markdown",
   "id": "stock-doctor",
   "metadata": {},
   "source": [
    "문자열의 구성 파악하기: is00() \\\n",
    "isalnum() : 문자열이 알파벳 또는 숫자로 구성되어 있는지 확인 \\\n",
    "isalpha() : 문자열이 알파벳으로만 구성되어 있는지 확인 \\\n",
    "isidentifier() : 문자열이 식별자로 사용할 수 있는 것인지 확인 \\\n",
    "isdecimal() : 문자열이 정수 형태인지 확인 \\\n",
    "isdigit() : 문자열이 숫자로 인식될 수 잇는 것인지 확인 \\\n",
    "isspace() : 문자열이 공백으로만 구성되어 있는지 확인 \\\n",
    "islower() : 문자열이 소문자로만 구성 확인 \\\n",
    "isupper() : 문자열이 대문자로만 구성 확인 \\"
   ]
  },
  {
   "cell_type": "code",
   "execution_count": 21,
   "id": "underlying-hawaii",
   "metadata": {},
   "outputs": [
    {
     "name": "stdout",
     "output_type": "stream",
     "text": [
      "True\n",
      "True\n"
     ]
    }
   ],
   "source": [
    "print(\"TrainA10\".isalnum())\n",
    "print(\"10\".isdigit())"
   ]
  },
  {
   "cell_type": "code",
   "execution_count": 26,
   "id": "gothic-refund",
   "metadata": {},
   "outputs": [
    {
     "name": "stdout",
     "output_type": "stream",
     "text": [
      "0\n",
      "2\n"
     ]
    }
   ],
   "source": [
    "# 문자열 찾기 find()\n",
    "output_a=\"안녕안녕하세요\".find(\"안녕\")\n",
    "print(output_a)     ## 왼부터 인덱스로 알려줌\n",
    "\n",
    "output_b =\"안녕안녕하세요\".rfind(\"안녕\")\n",
    "print(output_b)     ## 오부터"
   ]
  },
  {
   "cell_type": "code",
   "execution_count": 29,
   "id": "decent-leather",
   "metadata": {},
   "outputs": [
    {
     "name": "stdout",
     "output_type": "stream",
     "text": [
      "True\n",
      "False\n"
     ]
    }
   ],
   "source": [
    "# in 연산자 (T or F)\n",
    "print(\"안녕\" in \"안녕하세요\")\n",
    "print(\"잘자\" in \"안녕하세요\")"
   ]
  },
  {
   "cell_type": "code",
   "execution_count": 35,
   "id": "unusual-subdivision",
   "metadata": {},
   "outputs": [
    {
     "name": "stdout",
     "output_type": "stream",
     "text": [
      "['10', '20', '30', '40', '50']\n"
     ]
    }
   ],
   "source": [
    "# 문자열 자르기 split()\n",
    "a = \"10 20 30 40 50\".split(\" \")     #괄호 안을 기준으로 자름\n",
    "print(a)"
   ]
  },
  {
   "cell_type": "markdown",
   "id": "0f09e5e2",
   "metadata": {},
   "source": [
    "### 확인문제"
   ]
  },
  {
   "cell_type": "code",
   "execution_count": 49,
   "id": "close-focus",
   "metadata": {},
   "outputs": [
    {
     "name": "stdout",
     "output_type": "stream",
     "text": [
      "> 1번째 숫자: 100\n",
      "> 2번째 숫자: 200\n",
      "\n",
      "100+200=300\n"
     ]
    }
   ],
   "source": [
    "a = input(\"> 1번째 숫자: \")\n",
    "b = input(\"> 2번째 숫자: \")\n",
    "\n",
    "print()\n",
    "\n",
    "print(\"{}+{}={}\".format(int(a), int(b), int(a)+int(b)))"
   ]
  },
  {
   "cell_type": "code",
   "execution_count": 50,
   "id": "continental-gibson",
   "metadata": {},
   "outputs": [
    {
     "name": "stdout",
     "output_type": "stream",
     "text": [
      "> 1번째 숫자: 100\n",
      "> 2번째 숫자: 200\n",
      "\n",
      "100+200=300\n"
     ]
    }
   ],
   "source": [
    "a = input(\"> 1번째 숫자: \")\n",
    "b = input(\"> 2번째 숫자: \")\n",
    "\n",
    "print()\n",
    "\n",
    "print(\"{}+{}={}\".format(a,b, int(a)+int(b)))"
   ]
  },
  {
   "cell_type": "code",
   "execution_count": 51,
   "id": "controversial-smoke",
   "metadata": {},
   "outputs": [
    {
     "name": "stdout",
     "output_type": "stream",
     "text": [
      "A 지점: hello\n",
      "B 지점: HELLO\n"
     ]
    }
   ],
   "source": [
    "string = \"hello\"\n",
    "\n",
    "# string.upper()를 실행하고 string 출력하기\n",
    "string.upper()\n",
    "print(\"A 지점:\", string)\n",
    "\n",
    "# string.upper() 실행하기\n",
    "print(\"B 지점:\", string.upper())"
   ]
  }
 ],
 "metadata": {
  "kernelspec": {
   "display_name": "python3_7_6",
   "language": "python",
   "name": "py3_7_6"
  },
  "language_info": {
   "codemirror_mode": {
    "name": "ipython",
    "version": 3
   },
   "file_extension": ".py",
   "mimetype": "text/x-python",
   "name": "python",
   "nbconvert_exporter": "python",
   "pygments_lexer": "ipython3",
   "version": "3.7.6"
  }
 },
 "nbformat": 4,
 "nbformat_minor": 5
}
