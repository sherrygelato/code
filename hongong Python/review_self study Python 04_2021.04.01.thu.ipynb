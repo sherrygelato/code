{
 "cells": [
  {
   "cell_type": "markdown",
   "id": "dcb77fc2",
   "metadata": {},
   "source": [
    "# 혼자 공부하는 파이썬\n",
    "\n",
    "# 4. 반복문\n",
    "\n",
    "## 04-1 리스트와 반복문\n",
    "- 리스트, 요소"
   ]
  },
  {
   "cell_type": "code",
   "execution_count": 1,
   "id": "55d9ca21",
   "metadata": {},
   "outputs": [
    {
     "data": {
      "text/plain": [
       "[1, 2, 3, 4]"
      ]
     },
     "execution_count": 1,
     "metadata": {},
     "output_type": "execute_result"
    }
   ],
   "source": [
    "# 리스트 = [대괄호]에 요소element들을 넣는다.\n",
    "[1,2,3,4]"
   ]
  },
  {
   "cell_type": "code",
   "execution_count": 2,
   "id": "9d09bd0c",
   "metadata": {
    "scrolled": true
   },
   "outputs": [
    {
     "data": {
      "text/plain": [
       "['안']"
      ]
     },
     "execution_count": 2,
     "metadata": {},
     "output_type": "execute_result"
    }
   ],
   "source": [
    "[\"안\", ]"
   ]
  },
  {
   "cell_type": "code",
   "execution_count": 3,
   "id": "scientific-statistics",
   "metadata": {},
   "outputs": [
    {
     "name": "stdout",
     "output_type": "stream",
     "text": [
      "[273, 32, 103, '문자열', True, False]\n"
     ]
    }
   ],
   "source": [
    "array = [273, 32, 103, \"문자열\", True, False]\n",
    "print(array)"
   ]
  },
  {
   "cell_type": "code",
   "execution_count": 4,
   "id": "urban-freeware",
   "metadata": {},
   "outputs": [
    {
     "name": "stdout",
     "output_type": "stream",
     "text": [
      "273\n",
      "32\n",
      "103\n",
      "[32, 103]\n"
     ]
    }
   ],
   "source": [
    "list_a = [273, 32, 103, \"문자열\", True, False]\n",
    "print(list_a[0])\n",
    "print(list_a[1])\n",
    "print(list_a[2])\n",
    "print(list_a[1:3])"
   ]
  },
  {
   "cell_type": "code",
   "execution_count": 5,
   "id": "sensitive-aruba",
   "metadata": {},
   "outputs": [
    {
     "name": "stdout",
     "output_type": "stream",
     "text": [
      "['변경', 32, 103, '문자열', True, False]\n"
     ]
    }
   ],
   "source": [
    "list_a = [273, 32, 103, \"문자열\", True, False]\n",
    "list_a[0] = \"변경\" # 특정 요소를 변경할 수 있다\n",
    "print(list_a)"
   ]
  },
  {
   "cell_type": "code",
   "execution_count": 6,
   "id": "dominant-victim",
   "metadata": {},
   "outputs": [
    {
     "name": "stdout",
     "output_type": "stream",
     "text": [
      "False\n",
      "True\n",
      "문자열\n"
     ]
    }
   ],
   "source": [
    "list_a = [273, 32, 103, \"문자열\", True, False] # 뒤에서부터 요소 선택 가능\n",
    "print(list_a[-1])\n",
    "print(list_a[-2])\n",
    "print(list_a[-3])"
   ]
  },
  {
   "cell_type": "code",
   "execution_count": 7,
   "id": "cleared-australian",
   "metadata": {},
   "outputs": [
    {
     "name": "stdout",
     "output_type": "stream",
     "text": [
      "문\n"
     ]
    }
   ],
   "source": [
    "list_a = [273, 32, 103, \"문자열\", True, False]\n",
    "print(list_a[3][0]) # 리스트 3번째 인덱스의 문자열 0번째 인덱스"
   ]
  },
  {
   "cell_type": "code",
   "execution_count": 8,
   "id": "liable-prize",
   "metadata": {},
   "outputs": [
    {
     "name": "stdout",
     "output_type": "stream",
     "text": [
      "[4, 5, 6]\n",
      "5\n",
      "4\n"
     ]
    }
   ],
   "source": [
    "list_a = [[1,2,3], [4,5,6],[7,8,9]] # 리스트 안의 리스트\n",
    "print(list_a[1])\n",
    "print(list_a[1][1])\n",
    "print(list_a[1][0])"
   ]
  },
  {
   "cell_type": "code",
   "execution_count": 9,
   "id": "express-offering",
   "metadata": {},
   "outputs": [
    {
     "ename": "IndexError",
     "evalue": "list index out of range",
     "output_type": "error",
     "traceback": [
      "\u001b[1;31m---------------------------------------------------------------------------\u001b[0m",
      "\u001b[1;31mIndexError\u001b[0m                                Traceback (most recent call last)",
      "\u001b[1;32m<ipython-input-9-9df3d63213d0>\u001b[0m in \u001b[0;36m<module>\u001b[1;34m\u001b[0m\n\u001b[0;32m      1\u001b[0m \u001b[0mlist_a\u001b[0m \u001b[1;33m=\u001b[0m \u001b[1;33m[\u001b[0m\u001b[1;36m273\u001b[0m\u001b[1;33m,\u001b[0m \u001b[1;36m32\u001b[0m\u001b[1;33m,\u001b[0m \u001b[1;36m103\u001b[0m\u001b[1;33m]\u001b[0m\u001b[1;33m\u001b[0m\u001b[1;33m\u001b[0m\u001b[0m\n\u001b[1;32m----> 2\u001b[1;33m \u001b[0mlist_a\u001b[0m\u001b[1;33m[\u001b[0m\u001b[1;36m3\u001b[0m\u001b[1;33m]\u001b[0m \u001b[1;31m# 인덱스에러\u001b[0m\u001b[1;33m\u001b[0m\u001b[1;33m\u001b[0m\u001b[0m\n\u001b[0m",
      "\u001b[1;31mIndexError\u001b[0m: list index out of range"
     ]
    }
   ],
   "source": [
    "list_a = [273, 32, 103]\n",
    "list_a[3] # 인덱스에러"
   ]
  },
  {
   "cell_type": "markdown",
   "id": "b00e7376",
   "metadata": {},
   "source": [
    "##### 리스트 연산자"
   ]
  },
  {
   "cell_type": "code",
   "execution_count": 10,
   "id": "pretty-serbia",
   "metadata": {
    "scrolled": true
   },
   "outputs": [
    {
     "name": "stdout",
     "output_type": "stream",
     "text": [
      "# 리스트\n",
      "list_a = [1, 2, 3]\n",
      "list_b = [4, 5, 6]\n",
      "\n",
      "# 리스트 기본 연산자\n",
      "list_a + list_b =  [1, 2, 3, 4, 5, 6]\n",
      "list_a *3 = [1, 2, 3, 1, 2, 3, 1, 2, 3]\n",
      "\n",
      "# 길이 구하기\n",
      "len(list_a) =  3\n"
     ]
    }
   ],
   "source": [
    "# 리스트를 선언합니다.\n",
    "list_a = [1,2,3]\n",
    "list_b = [4,5,6]\n",
    "\n",
    "# 출력합니다.\n",
    "print(\"# 리스트\")\n",
    "print(\"list_a =\", list_a)\n",
    "print(\"list_b =\", list_b)\n",
    "print()\n",
    "\n",
    "# 기본 연산자\n",
    "print(\"# 리스트 기본 연산자\")\n",
    "print(\"list_a + list_b = \", list_a + list_b)\n",
    "print(\"list_a *3 =\", list_a *3)\n",
    "print()\n",
    "\n",
    "# 함수\n",
    "print(\"# 길이 구하기\")\n",
    "print(\"len(list_a) = \", len(list_a))    # len() : 문자열의 경우 문자열의 글자 수, 리스트 변수 시 요소의 개수"
   ]
  },
  {
   "cell_type": "markdown",
   "id": "mechanical-attack",
   "metadata": {},
   "source": [
    "### 리스트에 요소 추가하기 : append, insert \n",
    "#### 리스트명.append(요소)\n",
    "#### 리스트명.insert(위치,요소)"
   ]
  },
  {
   "cell_type": "markdown",
   "id": "9adf2a73",
   "metadata": {},
   "source": [
    "##### 리스트에 요소 추가하기"
   ]
  },
  {
   "cell_type": "code",
   "execution_count": 11,
   "id": "efficient-indicator",
   "metadata": {},
   "outputs": [
    {
     "name": "stdout",
     "output_type": "stream",
     "text": [
      "# 리스트 뒤에 요소 추가하기\n",
      "[1, 2, 3, 4, 5]\n",
      "\n",
      "# 리스트 중간에 요소 추가하기\n",
      "[10, 1, 2, 3, 4, 5]\n"
     ]
    }
   ],
   "source": [
    "# 리스트를 선언합니다.\n",
    "list_a = [1,2,3]\n",
    "\n",
    "# 리스트 뒤에 요소 추가하기\n",
    "print(\"# 리스트 뒤에 요소 추가하기\")\n",
    "list_a.append(4)\n",
    "list_a.append(5)\n",
    "print(list_a)\n",
    "print()\n",
    "\n",
    "# 리스트 중간에 요소 추가하기\n",
    "print(\"# 리스트 중간에 요소 추가하기\")\n",
    "list_a.insert(0,10)\n",
    "print(list_a)"
   ]
  },
  {
   "cell_type": "markdown",
   "id": "sophisticated-storm",
   "metadata": {},
   "source": [
    "### 한번에 여러 요소 추가할 때 : extend"
   ]
  },
  {
   "cell_type": "code",
   "execution_count": 12,
   "id": "respiratory-camcorder",
   "metadata": {},
   "outputs": [
    {
     "name": "stdout",
     "output_type": "stream",
     "text": [
      "[1, 2, 3, 4, 5, 6]\n"
     ]
    }
   ],
   "source": [
    "list_a = [1,2,3]\n",
    "list_a.extend([4,5,6])\n",
    "print(list_a)"
   ]
  },
  {
   "cell_type": "markdown",
   "id": "hungarian-racing",
   "metadata": {},
   "source": [
    "### 리스트 연산자와 요소 추가(extend) 차이"
   ]
  },
  {
   "cell_type": "code",
   "execution_count": 13,
   "id": "supreme-tuner",
   "metadata": {},
   "outputs": [
    {
     "name": "stdout",
     "output_type": "stream",
     "text": [
      "[1, 2, 3, 4, 5, 6]\n",
      "[1, 2, 3]\n",
      "[4, 5, 6]\n"
     ]
    }
   ],
   "source": [
    "list_a = [1,2,3]\n",
    "list_b = [4,5,6]\n",
    "print(list_a + list_b) \n",
    "print(list_a)\n",
    "print(list_b)"
   ]
  },
  {
   "cell_type": "code",
   "execution_count": 14,
   "id": "passive-documentation",
   "metadata": {},
   "outputs": [
    {
     "name": "stdout",
     "output_type": "stream",
     "text": [
      "[1, 2, 3, 4, 5, 6]\n",
      "[4, 5, 6]\n"
     ]
    }
   ],
   "source": [
    "list_a = [1,2,3]\n",
    "list_b = [4,5,6]\n",
    "list_a.extend(list_b)\n",
    "print(list_a)\n",
    "print(list_b)"
   ]
  },
  {
   "cell_type": "markdown",
   "id": "prerequisite-bumper",
   "metadata": {},
   "source": [
    "연결 연산자 +는 원본에 어떤 영향 없기에 비파괴적, append(), insert(), extend() 함수 같이 영향 있는 함수/ 연산은 파괴적이라 표현"
   ]
  },
  {
   "cell_type": "markdown",
   "id": "another-filter",
   "metadata": {},
   "source": [
    "### 리스트에 요소 제거하기\n",
    "인덱스로 제거 : del, pop \\\n",
    "값으로 제거"
   ]
  },
  {
   "cell_type": "markdown",
   "id": "4544f2c6",
   "metadata": {},
   "source": [
    "##### 리스트 연결 연산자와 요소 추가의 차이"
   ]
  },
  {
   "cell_type": "code",
   "execution_count": 15,
   "id": "congressional-bracelet",
   "metadata": {},
   "outputs": [
    {
     "name": "stdout",
     "output_type": "stream",
     "text": [
      "# 리스트의 요소 하나 제거하기\n",
      "del list_a[1]: [0, 2, 3, 4, 5]\n",
      "pop(2): [0, 2, 4, 5]\n"
     ]
    }
   ],
   "source": [
    "# del 리스트명[인덱스]\n",
    "# 리스트명.pop(인덱스)\n",
    "\n",
    "list_a = [0,1,2,3,4,5]\n",
    "print(\"# 리스트의 요소 하나 제거하기\")\n",
    "\n",
    "# 제거 방법 - del\n",
    "del list_a[1]\n",
    "print(\"del list_a[1]:\", list_a)\n",
    "\n",
    "# 제거 방법 - pop\n",
    "list_a.pop(2)\n",
    "print(\"pop(2):\", list_a)"
   ]
  },
  {
   "cell_type": "code",
   "execution_count": 16,
   "id": "close-clock",
   "metadata": {},
   "outputs": [
    {
     "name": "stdout",
     "output_type": "stream",
     "text": [
      "[0, 1, 2, 6]\n"
     ]
    }
   ],
   "source": [
    "list_b = [0,1,2,3,4,5,6]\n",
    "del list_b[3:6]\n",
    "print(list_b)"
   ]
  },
  {
   "cell_type": "code",
   "execution_count": 17,
   "id": "handy-immigration",
   "metadata": {},
   "outputs": [
    {
     "name": "stdout",
     "output_type": "stream",
     "text": [
      "[3, 4, 5, 6]\n"
     ]
    }
   ],
   "source": [
    "list_c = [0,1,2,3,4,5,6]\n",
    "del list_c[:3]\n",
    "print(list_c)"
   ]
  },
  {
   "cell_type": "code",
   "execution_count": 18,
   "id": "regulation-allergy",
   "metadata": {},
   "outputs": [
    {
     "name": "stdout",
     "output_type": "stream",
     "text": [
      "[0, 1, 2]\n"
     ]
    }
   ],
   "source": [
    "list_d = [0,1,2,3,4,5,6]\n",
    "del list_d[3:]\n",
    "print(list_d)"
   ]
  }
 ],
 "metadata": {
  "kernelspec": {
   "display_name": "python3_7_6",
   "language": "python",
   "name": "py3_7_6"
  },
  "language_info": {
   "codemirror_mode": {
    "name": "ipython",
    "version": 3
   },
   "file_extension": ".py",
   "mimetype": "text/x-python",
   "name": "python",
   "nbconvert_exporter": "python",
   "pygments_lexer": "ipython3",
   "version": "3.7.6"
  }
 },
 "nbformat": 4,
 "nbformat_minor": 5
}
