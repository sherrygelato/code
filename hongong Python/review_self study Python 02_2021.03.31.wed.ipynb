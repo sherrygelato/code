{
 "cells": [
  {
   "cell_type": "markdown",
   "id": "f9fbb9d5",
   "metadata": {},
   "source": [
    "# 혼자 공부하는 파이썬\n",
    "\n",
    "# 2. 자료형\n",
    "\n",
    "## 02-1 자료형과 문자열\n",
    "- 자료형, 문자열, 이스케이프 문자, 문자열 연산자"
   ]
  },
  {
   "cell_type": "code",
   "execution_count": 30,
   "id": "charming-junior",
   "metadata": {},
   "outputs": [
    {
     "name": "stdout",
     "output_type": "stream",
     "text": [
      "<class 'str'>\n",
      "<class 'int'>\n"
     ]
    }
   ],
   "source": [
    "print(type(\"안녕하세요\"))  # string 문자열 따옴표 \"\", ''\n",
    "print(type(273))           # integer 정수"
   ]
  },
  {
   "cell_type": "code",
   "execution_count": 31,
   "id": "artistic-amendment",
   "metadata": {},
   "outputs": [
    {
     "name": "stdout",
     "output_type": "stream",
     "text": [
      "안녕하세요\n"
     ]
    }
   ],
   "source": [
    "print(\"안녕하세요\")"
   ]
  },
  {
   "cell_type": "code",
   "execution_count": 32,
   "id": "adapted-solid",
   "metadata": {},
   "outputs": [
    {
     "name": "stdout",
     "output_type": "stream",
     "text": [
      "안녕하세요\n"
     ]
    }
   ],
   "source": [
    "print('안녕하세요')"
   ]
  },
  {
   "cell_type": "code",
   "execution_count": 36,
   "id": "other-karen",
   "metadata": {},
   "outputs": [
    {
     "ename": "SyntaxError",
     "evalue": "invalid syntax (<ipython-input-36-62076470e3f2>, line 1)",
     "output_type": "error",
     "traceback": [
      "\u001b[1;36m  File \u001b[1;32m\"<ipython-input-36-62076470e3f2>\"\u001b[1;36m, line \u001b[1;32m1\u001b[0m\n\u001b[1;33m    print(\"\"안녕하세요\"라고 말했습니다\")   # SyntaxError 구문오류 따옴표나 괄호 열고 닫기 확인\u001b[0m\n\u001b[1;37m                ^\u001b[0m\n\u001b[1;31mSyntaxError\u001b[0m\u001b[1;31m:\u001b[0m invalid syntax\n"
     ]
    }
   ],
   "source": [
    "print(\"\"안녕하세요\"라고 말했습니다\")   # SyntaxError 구문오류 따옴표나 괄호 열고 닫기 확인"
   ]
  },
  {
   "cell_type": "code",
   "execution_count": 39,
   "id": "asian-pacific",
   "metadata": {},
   "outputs": [
    {
     "name": "stdout",
     "output_type": "stream",
     "text": [
      "\"안녕하세요\"라고 말했습니다\n",
      "'배가 고픕니다'라고 생각했습니다\n"
     ]
    }
   ],
   "source": [
    "print('\"안녕하세요\"라고 말했습니다')\n",
    "print(\"'배가 고픕니다'라고 생각했습니다\")"
   ]
  },
  {
   "cell_type": "markdown",
   "id": "f6170ffc",
   "metadata": {},
   "source": [
    "이스케이프 문자"
   ]
  },
  {
   "cell_type": "code",
   "execution_count": 40,
   "id": "intended-mumbai",
   "metadata": {},
   "outputs": [
    {
     "name": "stdout",
     "output_type": "stream",
     "text": [
      "\"안녕하세요\"라고 말했습니다\n",
      "'패가 고픕니다'라고 생각했습니다\n"
     ]
    }
   ],
   "source": [
    "print(\"\\\"안녕하세요\\\"라고 말했습니다\")\n",
    "print('\\'배가 고픕니다\\'라고 생각했습니다')      # \\와 같이 따옴표 사용하면(\\\", \\') 단순한 따옴표로 인식"
   ]
  },
  {
   "cell_type": "code",
   "execution_count": 45,
   "id": "colonial-bangladesh",
   "metadata": {},
   "outputs": [
    {
     "name": "stdout",
     "output_type": "stream",
     "text": [
      "안녕하세요\n",
      "안녕하세요\n",
      "안녕하세요\t안녕하세요\n"
     ]
    }
   ],
   "source": [
    "print(\"안녕하세요\\n안녕하세요\")     # \\n 줄바꾸기\n",
    "print(\"안녕하세요\\t안녕하세요\")     # \\t 탭"
   ]
  },
  {
   "cell_type": "markdown",
   "id": "3356199d",
   "metadata": {},
   "source": [
    "##### 이스케이프 문자(\\t)로 탭 이용하기"
   ]
  },
  {
   "cell_type": "code",
   "execution_count": 46,
   "id": "imported-fossil",
   "metadata": {},
   "outputs": [
    {
     "name": "stdout",
     "output_type": "stream",
     "text": [
      "이름\t나이\t지역\n",
      "윤인성\t25\t강서구\n",
      "윤아린\t24\t강서구\n",
      "구름\t3\t강서구\n"
     ]
    }
   ],
   "source": [
    "print(\"이름\\t나이\\t지역\")\n",
    "print(\"윤인성\\t25\\t강서구\")\n",
    "print(\"윤아린\\t24\\t강서구\")\n",
    "print(\"구름\\t3\\t강서구\")"
   ]
  },
  {
   "cell_type": "code",
   "execution_count": 49,
   "id": "checked-rental",
   "metadata": {},
   "outputs": [
    {
     "name": "stdout",
     "output_type": "stream",
     "text": [
      "\\ \\ \\ \\\n"
     ]
    }
   ],
   "source": [
    " print(\"\\\\ \\\\ \\\\ \\\\\")    # 역슬레시는 어디에.....?"
   ]
  },
  {
   "cell_type": "code",
   "execution_count": 50,
   "id": "daily-chocolate",
   "metadata": {},
   "outputs": [
    {
     "name": "stdout",
     "output_type": "stream",
     "text": [
      "동해물과 백두산이 마르고 닳도록\n",
      "하느님이 보우하사 우리나라 만세\n",
      "무궁화 삼천리 화려강산 대한사람\n",
      "대한으로 길이 보전하세\n"
     ]
    }
   ],
   "source": [
    "print(\"동해물과 백두산이 마르고 닳도록\\n하느님이 보우하사 우리나라 만세\\n무궁화 삼천리 화려강산 대한사람\\n대한으로 길이 보전하세\")"
   ]
  },
  {
   "cell_type": "code",
   "execution_count": 52,
   "id": "closing-pillow",
   "metadata": {
    "scrolled": true
   },
   "outputs": [
    {
     "name": "stdout",
     "output_type": "stream",
     "text": [
      "동해물과 백두산이 마르고 닳도록\n",
      "하느님이 보우하사 우리나라 만세 \n",
      "무궁화 삼천리 화려강산 대한사람\n",
      "대한으로 길이 보전하세\n"
     ]
    }
   ],
   "source": [
    "print(\"\"\"동해물과 백두산이 마르고 닳도록\n",
    "하느님이 보우하사 우리나라 만세 \n",
    "무궁화 삼천리 화려강산 대한사람\n",
    "대한으로 길이 보전하세\"\"\")                       # 따옴표 세개 연속으로 쓰고 줄바꿈 하면 고대로 줄바꿈 출력됨"
   ]
  },
  {
   "cell_type": "code",
   "execution_count": 53,
   "id": "binding-quarterly",
   "metadata": {},
   "outputs": [
    {
     "name": "stdout",
     "output_type": "stream",
     "text": [
      "\n",
      "동해물과 백두산이 마르고 닳도록\n",
      "하느님이 보우하사 우리나라 만세 \n",
      "무궁화 삼천리 화려강산 대한사람\n",
      "대한으로 길이 보전하세\n",
      "\n"
     ]
    }
   ],
   "source": [
    "print(\"\"\"\n",
    "동해물과 백두산이 마르고 닳도록\n",
    "하느님이 보우하사 우리나라 만세 \n",
    "무궁화 삼천리 화려강산 대한사람\n",
    "대한으로 길이 보전하세\n",
    "\"\"\") "
   ]
  },
  {
   "cell_type": "code",
   "execution_count": 54,
   "id": "maritime-booth",
   "metadata": {},
   "outputs": [
    {
     "name": "stdout",
     "output_type": "stream",
     "text": [
      "동해물과 백두산이 마르고 닳도록\n",
      "하느님이 보우하사 우리나라 만세 \n",
      "무궁화 삼천리 화려강산 대한사람\n",
      "대한으로 길이 보전하세\n"
     ]
    }
   ],
   "source": [
    "print(\"\"\"\\\n",
    "동해물과 백두산이 마르고 닳도록\n",
    "하느님이 보우하사 우리나라 만세 \n",
    "무궁화 삼천리 화려강산 대한사람\n",
    "대한으로 길이 보전하세\\\n",
    "\"\"\")                                              # 줄바꿈 출력하지 않겠다고 \\로 선언"
   ]
  },
  {
   "cell_type": "code",
   "execution_count": 55,
   "id": "continued-payroll",
   "metadata": {},
   "outputs": [
    {
     "name": "stdout",
     "output_type": "stream",
     "text": [
      "안녕하세요\n",
      "안녕하세요!\n"
     ]
    }
   ],
   "source": [
    "print(\"안녕\"+\"하세요\")\n",
    "print(\"안녕하세요\"+\"!\")"
   ]
  },
  {
   "cell_type": "code",
   "execution_count": 57,
   "id": "fifth-dating",
   "metadata": {},
   "outputs": [
    {
     "ename": "TypeError",
     "evalue": "can only concatenate str (not \"int\") to str",
     "output_type": "error",
     "traceback": [
      "\u001b[1;31m---------------------------------------------------------------------------\u001b[0m",
      "\u001b[1;31mTypeError\u001b[0m                                 Traceback (most recent call last)",
      "\u001b[1;32m<ipython-input-57-ef1142912980>\u001b[0m in \u001b[0;36m<module>\u001b[1;34m\u001b[0m\n\u001b[1;32m----> 1\u001b[1;33m \u001b[0mprint\u001b[0m\u001b[1;33m(\u001b[0m\u001b[1;34m\"안녕하세요\"\u001b[0m\u001b[1;33m+\u001b[0m\u001b[1;36m1\u001b[0m\u001b[1;33m)\u001b[0m\u001b[1;33m\u001b[0m\u001b[1;33m\u001b[0m\u001b[0m\n\u001b[0m",
      "\u001b[1;31mTypeError\u001b[0m: can only concatenate str (not \"int\") to str"
     ]
    }
   ],
   "source": [
    "print(\"안녕하세요\"+1) "
   ]
  },
  {
   "cell_type": "code",
   "execution_count": 58,
   "id": "closed-eight",
   "metadata": {},
   "outputs": [
    {
     "name": "stdout",
     "output_type": "stream",
     "text": [
      "안녕하세요1\n"
     ]
    }
   ],
   "source": [
    "print(\"안녕하세요\"+\"1\")"
   ]
  },
  {
   "cell_type": "code",
   "execution_count": 60,
   "id": "aggressive-pakistan",
   "metadata": {},
   "outputs": [
    {
     "name": "stdout",
     "output_type": "stream",
     "text": [
      "안녕하세요안녕하세요안녕하세요\n",
      "안녕하세요안녕하세요안녕하세요\n"
     ]
    }
   ],
   "source": [
    " print(\"안녕하세요\"*3)\n",
    "print(3*\"안녕하세요\")"
   ]
  },
  {
   "cell_type": "markdown",
   "id": "bf598924",
   "metadata": {},
   "source": [
    "##### 문자 선택 연산자의 결과 출력하기"
   ]
  },
  {
   "cell_type": "code",
   "execution_count": 61,
   "id": "involved-likelihood",
   "metadata": {},
   "outputs": [
    {
     "name": "stdout",
     "output_type": "stream",
     "text": [
      "문자 선택 연산자에 대해 알아볼까요?\n",
      "안\n",
      "녕\n",
      "하\n",
      "세\n",
      "요\n"
     ]
    }
   ],
   "source": [
    "print(\"문자 선택 연산자에 대해 알아볼까요?\")\n",
    "print(\"안녕하세요\"[0])\n",
    "print(\"안녕하세요\"[1])\n",
    "print(\"안녕하세요\"[2])\n",
    "print(\"안녕하세요\"[3])\n",
    "print(\"안녕하세요\"[4])"
   ]
  },
  {
   "cell_type": "markdown",
   "id": "b3c5cea5",
   "metadata": {},
   "source": [
    "##### 뒤에서부터 선택하기"
   ]
  },
  {
   "cell_type": "code",
   "execution_count": 62,
   "id": "pointed-insured",
   "metadata": {},
   "outputs": [
    {
     "name": "stdout",
     "output_type": "stream",
     "text": [
      "문자를 뒤에서부터 선택해 볼까요?\n",
      "요\n",
      "세\n",
      "하\n",
      "녕\n",
      "안\n"
     ]
    }
   ],
   "source": [
    "print(\"문자를 뒤에서부터 선택해 볼까요?\")\n",
    "print(\"안녕하세요\"[-1])\n",
    "print(\"안녕하세요\"[-2])\n",
    "print(\"안녕하세요\"[-3])\n",
    "print(\"안녕하세요\"[-4])\n",
    "print(\"안녕하세요\"[-5])"
   ]
  },
  {
   "cell_type": "code",
   "execution_count": 67,
   "id": "advisory-boulder",
   "metadata": {},
   "outputs": [
    {
     "name": "stdout",
     "output_type": "stream",
     "text": [
      "녕하세\n"
     ]
    }
   ],
   "source": [
    "print(\"안녕하세요\"[1:4])     # 슬라이싱에서는 0부터 시작하며 마지막 숫자를 포함하지 않음"
   ]
  },
  {
   "cell_type": "code",
   "execution_count": 64,
   "id": "boxed-reviewer",
   "metadata": {},
   "outputs": [
    {
     "name": "stdout",
     "output_type": "stream",
     "text": [
      "안녕\n",
      "녕하\n",
      "하세\n"
     ]
    }
   ],
   "source": [
    "print(\"안녕하세요\"[0:2])\n",
    "print(\"안녕하세요\"[1:3])\n",
    "print(\"안녕하세요\"[2:4])"
   ]
  },
  {
   "cell_type": "code",
   "execution_count": 66,
   "id": "combined-redhead",
   "metadata": {},
   "outputs": [
    {
     "name": "stdout",
     "output_type": "stream",
     "text": [
      "녕하세요\n",
      "안녕하\n"
     ]
    }
   ],
   "source": [
    "print(\"안녕하세요\"[1:])\n",
    "print(\"안녕하세요\"[:3])"
   ]
  },
  {
   "cell_type": "code",
   "execution_count": 68,
   "id": "earned-monday",
   "metadata": {},
   "outputs": [
    {
     "name": "stdout",
     "output_type": "stream",
     "text": [
      "녕\n"
     ]
    }
   ],
   "source": [
    "print(\"안녕하세요\"[1:-3])"
   ]
  }
 ],
 "metadata": {
  "kernelspec": {
   "display_name": "python3_7_6",
   "language": "python",
   "name": "py3_7_6"
  },
  "language_info": {
   "codemirror_mode": {
    "name": "ipython",
    "version": 3
   },
   "file_extension": ".py",
   "mimetype": "text/x-python",
   "name": "python",
   "nbconvert_exporter": "python",
   "pygments_lexer": "ipython3",
   "version": "3.7.6"
  }
 },
 "nbformat": 4,
 "nbformat_minor": 5
}
