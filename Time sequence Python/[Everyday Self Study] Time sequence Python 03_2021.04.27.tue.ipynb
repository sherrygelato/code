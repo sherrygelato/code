{
 "cells": [
  {
   "cell_type": "markdown",
   "id": "bf289247",
   "metadata": {},
   "source": [
    "# 03장. 계산해 볼까요?\n",
    "\n",
    "## 01. 어디에나 있는 수식\n",
    "- 올바른 수식 작성을 위해여:\n",
    "   - 연산자 우선 순위\n",
    "   - 수학 시간에 배우지 않았던 새로운 연산자\n",
    "   - 연산의 방향\n",
    "\n",
    "\n",
    "## 02. 산술 연산자"
   ]
  },
  {
   "cell_type": "code",
   "execution_count": 1,
   "id": "69820c32",
   "metadata": {},
   "outputs": [
    {
     "data": {
      "text/plain": [
       "19"
      ]
     },
     "execution_count": 1,
     "metadata": {},
     "output_type": "execute_result"
    }
   ],
   "source": [
    "2+17"
   ]
  },
  {
   "cell_type": "code",
   "execution_count": 2,
   "id": "49ea01c4",
   "metadata": {},
   "outputs": [
    {
     "data": {
      "text/plain": [
       "-15"
      ]
     },
     "execution_count": 2,
     "metadata": {},
     "output_type": "execute_result"
    }
   ],
   "source": [
    "2-17"
   ]
  },
  {
   "cell_type": "code",
   "execution_count": 3,
   "id": "1e24634b",
   "metadata": {},
   "outputs": [
    {
     "data": {
      "text/plain": [
       "34"
      ]
     },
     "execution_count": 3,
     "metadata": {},
     "output_type": "execute_result"
    }
   ],
   "source": [
    "2*17"
   ]
  },
  {
   "cell_type": "code",
   "execution_count": 4,
   "id": "b9b304ad",
   "metadata": {},
   "outputs": [
    {
     "data": {
      "text/plain": [
       "289"
      ]
     },
     "execution_count": 4,
     "metadata": {},
     "output_type": "execute_result"
    }
   ],
   "source": [
    "17**2"
   ]
  },
  {
   "cell_type": "code",
   "execution_count": 5,
   "id": "06046c03",
   "metadata": {},
   "outputs": [
    {
     "data": {
      "text/plain": [
       "1280"
      ]
     },
     "execution_count": 5,
     "metadata": {},
     "output_type": "execute_result"
    }
   ],
   "source": [
    "10*2**7"
   ]
  },
  {
   "cell_type": "code",
   "execution_count": 6,
   "id": "b36eecee",
   "metadata": {},
   "outputs": [
    {
     "data": {
      "text/plain": [
       "256"
      ]
     },
     "execution_count": 6,
     "metadata": {},
     "output_type": "execute_result"
    }
   ],
   "source": [
    "2**2**3"
   ]
  },
  {
   "cell_type": "code",
   "execution_count": 7,
   "id": "a6d0ed66",
   "metadata": {},
   "outputs": [
    {
     "data": {
      "text/plain": [
       "3.4"
      ]
     },
     "execution_count": 7,
     "metadata": {},
     "output_type": "execute_result"
    }
   ],
   "source": [
    "17/5 # 실수 나눗셈"
   ]
  },
  {
   "cell_type": "code",
   "execution_count": 8,
   "id": "bda0dfeb",
   "metadata": {},
   "outputs": [
    {
     "data": {
      "text/plain": [
       "3"
      ]
     },
     "execution_count": 8,
     "metadata": {},
     "output_type": "execute_result"
    }
   ],
   "source": [
    "17//5 # 정수 몫"
   ]
  },
  {
   "cell_type": "code",
   "execution_count": 9,
   "id": "3357b31c",
   "metadata": {},
   "outputs": [
    {
     "name": "stdout",
     "output_type": "stream",
     "text": [
      "나누어지는 수를 입력하시오: 17\n",
      "나누는 수를 입력하시오: 5\n",
      "나눗셈의 몫= 3\n",
      "나눗셈의 나머지= 2\n"
     ]
    }
   ],
   "source": [
    "p = int(input(\"나누어지는 수를 입력하시오: \"))\n",
    "q = int(input(\"나누는 수를 입력하시오: \"))\n",
    "print(\"나눗셈의 몫=\", p // q)\n",
    "print(\"나눗셈의 나머지=\", p % q)"
   ]
  },
  {
   "cell_type": "code",
   "execution_count": 10,
   "id": "a4ab4200",
   "metadata": {},
   "outputs": [
    {
     "name": "stdout",
     "output_type": "stream",
     "text": [
      "16 분 40 초\n"
     ]
    }
   ],
   "source": [
    "sec = 1000\n",
    "min = 1000 // 60\n",
    "remainder = 1000 % 60\n",
    "print(min, '분', remainder, '초')"
   ]
  },
  {
   "cell_type": "markdown",
   "id": "a3a1f506",
   "metadata": {},
   "source": [
    "## 03. 대입 연산자 '='\n",
    "- '변수' = '수식 또는 값'"
   ]
  },
  {
   "cell_type": "code",
   "execution_count": 11,
   "id": "200dc7ea",
   "metadata": {},
   "outputs": [
    {
     "name": "stdout",
     "output_type": "stream",
     "text": [
      "100\n",
      "100\n"
     ]
    }
   ],
   "source": [
    "x = y = 100\n",
    "print(x)\n",
    "print(y)"
   ]
  },
  {
   "cell_type": "markdown",
   "id": "dfbed30a",
   "metadata": {},
   "source": [
    "## 04. 복합 대입 연산자\n",
    "- 대입 연산자와 다른 연산자를 합쳐 놓은 것"
   ]
  },
  {
   "cell_type": "code",
   "execution_count": 12,
   "id": "3ec0e187",
   "metadata": {},
   "outputs": [
    {
     "name": "stdout",
     "output_type": "stream",
     "text": [
      "초깃값 x= 1000\n",
      "x += 2 후의 x= 1002\n",
      "x -= 2 후의 x= 1000\n"
     ]
    }
   ],
   "source": [
    "x = 1000\n",
    "print(\"초깃값 x=\", x)\n",
    "x += 2;  \n",
    "print(\"x += 2 후의 x=\", x)\n",
    "x -= 2;  \n",
    "print(\"x -= 2 후의 x=\", x)"
   ]
  },
  {
   "cell_type": "markdown",
   "id": "f667bf0c",
   "metadata": {},
   "source": [
    "## 05. 연산자의 우선순위"
   ]
  },
  {
   "cell_type": "code",
   "execution_count": 13,
   "id": "fc668fb2",
   "metadata": {},
   "outputs": [
    {
     "name": "stdout",
     "output_type": "stream",
     "text": [
      "첫 번째 수: 100\n",
      "두 번째 수: 90\n",
      "세 번째 수: 80\n",
      "평균 = 90.0\n"
     ]
    }
   ],
   "source": [
    "x = int(input(\"첫 번째 수: \"))\n",
    "y = int(input(\"두 번째 수: \"))\n",
    "z = int(input(\"세 번째 수: \"))\n",
    "\n",
    "avg = (x + y + z) / 3\n",
    "print(\"평균 =\", avg)"
   ]
  },
  {
   "cell_type": "markdown",
   "id": "38d0f56e",
   "metadata": {},
   "source": [
    "## Lab. 다항식의 계산\n",
    "- x=-1, y=3일 때, (-y)3+2x2y의 값을 계산하여 출력하는 프로그램"
   ]
  },
  {
   "cell_type": "code",
   "execution_count": 14,
   "id": "d1158183",
   "metadata": {},
   "outputs": [
    {
     "name": "stdout",
     "output_type": "stream",
     "text": [
      "다항식의 계산 결과: -21\n"
     ]
    }
   ],
   "source": [
    "x=-1\n",
    "y=3\n",
    "print(\"다항식의 계산 결과:\", (-y)**3 + 2*(x**2)*y)"
   ]
  },
  {
   "cell_type": "markdown",
   "id": "1b683c21",
   "metadata": {},
   "source": [
    "## Lab. 화씨온도를 섭씨온도로 변환하기"
   ]
  },
  {
   "cell_type": "code",
   "execution_count": 15,
   "id": "f25292ac",
   "metadata": {},
   "outputs": [
    {
     "name": "stdout",
     "output_type": "stream",
     "text": [
      "화씨온도: 100\n",
      "섭씨온도: 37.77777777777778\n"
     ]
    }
   ],
   "source": [
    "f = int(input(\"화씨온도: \"))\n",
    "c = (f-32)*5/9\n",
    "print(\"섭씨온도:\", c)"
   ]
  },
  {
   "cell_type": "markdown",
   "id": "65080fc3",
   "metadata": {},
   "source": [
    "## Lab. 두 점 사이의 거리 구하기\n",
    "- 사용자로부터 두 점의 좌표 (x1, y1)과 (x2, y2)를 입력받아 두 점 사이의 거리를 계산하는 프로그램"
   ]
  },
  {
   "cell_type": "code",
   "execution_count": 16,
   "id": "a4a302c7",
   "metadata": {},
   "outputs": [
    {
     "name": "stdout",
     "output_type": "stream",
     "text": [
      "x1: 0\n",
      "y1: 0\n",
      "x2: 100\n",
      "y2: 100\n",
      "두 점 사이의 거리= 141.4213562373095\n"
     ]
    }
   ],
   "source": [
    "x1 = int(input(\"x1: \"))\n",
    "y1 = int(input(\"y1: \"))\n",
    "x2 = int(input(\"x2: \"))\n",
    "y2 = int(input(\"y2: \"))\n",
    "print(\"두 점 사이의 거리=\", ((x2-x1)**2 + (y2-y1)**2)**0.5)"
   ]
  },
  {
   "cell_type": "markdown",
   "id": "43f5aae3",
   "metadata": {},
   "source": [
    "## Lab. 두 점 사이의 거리 확인하기\n",
    "- t.setheading( ) : 터틀의 머리 방향을 특정한 각도로 설정합니다."
   ]
  },
  {
   "cell_type": "code",
   "execution_count": 17,
   "id": "18e2b159",
   "metadata": {},
   "outputs": [],
   "source": [
    "# import turtle\n",
    "# t = turtle.Turtle()\n",
    "# t.shape(\"turtle\")\n",
    "\n",
    "# t.goto(0,0)\n",
    "# t.setheading(45)\n",
    "# t.forward(141.4)\n",
    "\n",
    "# t.up()\n",
    "# t.goto(0,0)\n",
    "# t.down()\n",
    "# t.setheading(0)\n",
    "# t.forward(100)\n",
    "# t.setheading(90)\n",
    "# t.forward(100)"
   ]
  },
  {
   "cell_type": "markdown",
   "id": "6a55ec14",
   "metadata": {},
   "source": [
    "## Lab. 그리니치 표준시-세계시간의 기준점"
   ]
  },
  {
   "cell_type": "code",
   "execution_count": 19,
   "id": "5e639bf6",
   "metadata": {},
   "outputs": [
    {
     "name": "stdout",
     "output_type": "stream",
     "text": [
      "현재 한국 시간: 20시55분\n"
     ]
    }
   ],
   "source": [
    "import time\n",
    "\n",
    "fseconds = time.time() \n",
    "total_sec = int(fseconds)\n",
    "total_min = total_sec // 60     \n",
    "minute = total_min % 60\n",
    "total_hour = total_min // 60   \n",
    "hour = total_hour % 24 + 9\n",
    "print(\"현재 한국 시간: \" + str(hour) + \"시\"+ str(minute) + \"분\")"
   ]
  },
  {
   "cell_type": "markdown",
   "id": "11ea534c",
   "metadata": {},
   "source": [
    "## Lab. 계산대 프로그램"
   ]
  },
  {
   "cell_type": "code",
   "execution_count": 22,
   "id": "8be7afb4",
   "metadata": {},
   "outputs": [
    {
     "name": "stdout",
     "output_type": "stream",
     "text": [
      "투입한 돈: 5000\n",
      "물건가격: 2600\n",
      "거스름돈:  2400\n",
      "500원 동전의 개수: 4\n",
      "100원 동전의 개수: 4\n"
     ]
    }
   ],
   "source": [
    "m = int(input(\"투입한 돈: \"))\n",
    "p = int(input(\"물건가격: \"))\n",
    "\n",
    "c = m - p\n",
    "print(\"거스름돈: \", c)\n",
    "coin500s = c // 500\n",
    "c = c % 500\n",
    "\n",
    "coin100s = c // 100\n",
    "\n",
    "print(\"500원 동전의 개수:\", coin500s)\n",
    "print(\"100원 동전의 개수:\", coin100s)"
   ]
  },
  {
   "cell_type": "markdown",
   "id": "5ab7a8c1",
   "metadata": {},
   "source": [
    "--- seYi"
   ]
  }
 ],
 "metadata": {
  "kernelspec": {
   "display_name": "python3_7_6",
   "language": "python",
   "name": "py3_7_6"
  },
  "language_info": {
   "codemirror_mode": {
    "name": "ipython",
    "version": 3
   },
   "file_extension": ".py",
   "mimetype": "text/x-python",
   "name": "python",
   "nbconvert_exporter": "python",
   "pygments_lexer": "ipython3",
   "version": "3.7.6"
  }
 },
 "nbformat": 4,
 "nbformat_minor": 5
}
