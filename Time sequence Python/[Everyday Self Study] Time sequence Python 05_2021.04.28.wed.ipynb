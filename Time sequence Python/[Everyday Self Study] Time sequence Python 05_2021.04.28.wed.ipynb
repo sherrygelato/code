{
 "cells": [
  {
   "cell_type": "markdown",
   "id": "cbbb37c1",
   "metadata": {},
   "source": [
    "# 05장. 조건을 따져보세요."
   ]
  },
  {
   "cell_type": "markdown",
   "id": "b50beb77",
   "metadata": {},
   "source": [
    "## 01. 왜 조건을 따져봐야 하나요?\n",
    "- __조건__ 을 따져서 서로 __다른 동작__ 을 하도록 하는 것\n",
    "- 프로그래밍에서 조건을 따지는 방법: __질문(question)__ 후 __결정(decision)__\n",
    "\n",
    "\n",
    "- 순차 구조(sequence) : 명령어들이 순차적으로 실행되는 구조\n",
    "- 선택 구조(selection) : 둘 중의 하나의 명령을 선택하여 실행되는 구조\n",
    "- 반복 구조(iteration) : 동일한 명령이 반복되면서 실행되는 구조"
   ]
  },
  {
   "cell_type": "markdown",
   "id": "e01f8edc",
   "metadata": {},
   "source": [
    "## 02. 참과 거짓 그리고 관계 연산자\n",
    "- 조건식: 조건에 해당하는 부분을 수식으로 나타낸 것\n",
    "- 관계 연산자(relational operator): ==, !=, <, >, >=, <="
   ]
  },
  {
   "cell_type": "markdown",
   "id": "fb7b41c4",
   "metadata": {},
   "source": [
    "## 03. 조건문(만약에)\n",
    "- if 구조:\n",
    "     - 조건이 참?\n",
    "             - 참일 때 명령문 출력\n",
    "             - 거짓일 때 출력\n",
    "             \n",
    "             \n",
    "- if~ else 구조:\n",
    "     - 조건이 참?\n",
    "             - 참일 때 명령문1 출력\n",
    "             - 거짓일 때 명령문2 출력\n",
    "             \n",
    "             \n",
    "- if~ elif~ else 구조:\n",
    "     - 조건1이 참?\n",
    "             - 참일 때 명령문1 출력\n",
    "             - 거짓일 때 조건2가 참?\n",
    "                       - 참일 때 명령문1 출력\n",
    "                       - 거짓일 때 명령문2 출력"
   ]
  },
  {
   "cell_type": "code",
   "execution_count": 1,
   "id": "efacf745",
   "metadata": {},
   "outputs": [
    {
     "name": "stdout",
     "output_type": "stream",
     "text": [
      "합격입니다!\n",
      "수고하셨습니다.\n"
     ]
    }
   ],
   "source": [
    "score = 90\n",
    "if score >= 60:\n",
    "    print(\"합격입니다!\")\n",
    "print(\"수고하셨습니다.\")"
   ]
  },
  {
   "cell_type": "markdown",
   "id": "2c1e9266",
   "metadata": {},
   "source": [
    "# 04. if와 if~else"
   ]
  },
  {
   "cell_type": "code",
   "execution_count": 2,
   "id": "b6cc0a24",
   "metadata": {},
   "outputs": [
    {
     "name": "stdout",
     "output_type": "stream",
     "text": [
      "합격입니다.\n",
      "수고하셨습니다.\n"
     ]
    }
   ],
   "source": [
    "# if문\n",
    "\n",
    "if score >= 60: # if (조건식): # 문장이 아직 종료되지 않음\n",
    "    print(\"합격입니다.\") # 조건이 참일 때 실행되는 문장\n",
    "print(\"수고하셨습니다.\") # 항상 출력됨"
   ]
  },
  {
   "cell_type": "code",
   "execution_count": 3,
   "id": "f3459516",
   "metadata": {},
   "outputs": [
    {
     "name": "stdout",
     "output_type": "stream",
     "text": [
      "합격입니다.\n"
     ]
    }
   ],
   "source": [
    "# if~else문\n",
    "\n",
    "if score >= 60: # if (조건식):\n",
    "    print(\"합격입니다.\") # 조건식이 참일 때 실행되는 문장\n",
    "else: # 그렇지 않으면\n",
    "    print(\"불합격입니다.\") # 조건식이 거짓일 때 실행되는 문장, else절"
   ]
  },
  {
   "cell_type": "code",
   "execution_count": 4,
   "id": "e146e471",
   "metadata": {},
   "outputs": [],
   "source": [
    "# 블록문\n",
    "\n",
    "if score > 90:\n",
    "    print(\"합격입니다.\")\n",
    "    print(\"장학금도 받을 수 있습니다.\") # 여러 문장들을 묶은 것"
   ]
  },
  {
   "cell_type": "markdown",
   "id": "0bb4e749",
   "metadata": {},
   "source": [
    "## 05. if를 좀 더 이해시켜 줄 예제"
   ]
  },
  {
   "cell_type": "code",
   "execution_count": 5,
   "id": "0d95e7b1",
   "metadata": {},
   "outputs": [
    {
     "name": "stdout",
     "output_type": "stream",
     "text": [
      "언어를 선택하세요(1=한국어, 2=영어, 3=프랑스어, 4=독일어)1\n",
      "안녕\n"
     ]
    }
   ],
   "source": [
    "language = int(input(\"언어를 선택하세요(1=한국어, 2=영어, 3=프랑스어, 4=독일어)\"))\n",
    "\n",
    "if language == 1:\n",
    "    print(\"안녕\")\n",
    "    \n",
    "if language == 2:\n",
    "    print(\"Hello\")\n",
    "    \n",
    "if language == 3:\n",
    "    print(\"Bonjour\")\n",
    "    \n",
    "if language == 4:\n",
    "    print(\"Guten morgen\")   "
   ]
  },
  {
   "cell_type": "code",
   "execution_count": 6,
   "id": "0fba1ec7",
   "metadata": {},
   "outputs": [
    {
     "name": "stdout",
     "output_type": "stream",
     "text": [
      "언어를 선택하세요(1=한국어, 2=영어, 3=프랑스어, 4=독일어)4\n",
      "Guten morgen\n"
     ]
    }
   ],
   "source": [
    "language = int(input(\"언어를 선택하세요(1=한국어, 2=영어, 3=프랑스어, 4=독일어)\"))\n",
    "\n",
    "if language == 1:\n",
    "    print(\"안녕\")\n",
    "    \n",
    "if language == 2:\n",
    "    print(\"Hello\")\n",
    "    \n",
    "if language == 3:\n",
    "    print(\"Bonjour\")\n",
    "    \n",
    "if language == 4:\n",
    "    print(\"Guten morgen\")  "
   ]
  },
  {
   "cell_type": "markdown",
   "id": "9830c6fe",
   "metadata": {},
   "source": [
    "## 06. if-else를 좀 더 이해시켜 줄 예제"
   ]
  },
  {
   "cell_type": "code",
   "execution_count": 7,
   "id": "6016a282",
   "metadata": {},
   "outputs": [
    {
     "name": "stdout",
     "output_type": "stream",
     "text": [
      "나이를 입력하시오: 14\n",
      "영화를 관람할 수 없습니다.\n"
     ]
    }
   ],
   "source": [
    "age = int(input(\"나이를 입력하시오: \"))\n",
    "\n",
    "if age >= 15:\n",
    "    print(\"영화를 관람할 수 있습니다.\")\n",
    "else:\n",
    "    print(\"영화를 관람할 수 없습니다.\")"
   ]
  },
  {
   "cell_type": "code",
   "execution_count": 8,
   "id": "c51a63eb",
   "metadata": {},
   "outputs": [
    {
     "name": "stdout",
     "output_type": "stream",
     "text": [
      "나이를 입력하시오: 19\n",
      "영화를 관람할 수 있습니다.\n"
     ]
    }
   ],
   "source": [
    "age = int(input(\"나이를 입력하시오: \"))\n",
    "\n",
    "if age >= 15:\n",
    "    print(\"영화를 관람할 수 있습니다.\")\n",
    "else:\n",
    "    print(\"영화를 관람할 수 없습니다.\")"
   ]
  },
  {
   "cell_type": "code",
   "execution_count": 9,
   "id": "ee0309dd",
   "metadata": {},
   "outputs": [
    {
     "name": "stdout",
     "output_type": "stream",
     "text": [
      "정수를 입력하시오: 10\n",
      "짝수입니다.\n"
     ]
    }
   ],
   "source": [
    "num = int(input(\"정수를 입력하시오: \"))\n",
    "\n",
    "if num % 2 ==0 :\n",
    "    print(\"짝수입니다.\")\n",
    "else:\n",
    "    print(\"홀수입니다.\")"
   ]
  },
  {
   "cell_type": "code",
   "execution_count": 10,
   "id": "51b9cc1f",
   "metadata": {},
   "outputs": [
    {
     "name": "stdout",
     "output_type": "stream",
     "text": [
      "정수를 입력하시오: 23\n",
      "홀수입니다.\n"
     ]
    }
   ],
   "source": [
    "num = int(input(\"정수를 입력하시오: \"))\n",
    "\n",
    "if num % 2 ==0 :\n",
    "    print(\"짝수입니다.\")\n",
    "else:\n",
    "    print(\"홀수입니다.\")"
   ]
  },
  {
   "cell_type": "markdown",
   "id": "f48cabd9",
   "metadata": {},
   "source": [
    "## 07. 복잡한 조건의 표현-논리 연산자\n",
    "- x and y : x와 y가 모두 참일 때 참. 하나라도 거짓이면 거짓\n",
    "- x or y : x나 y 중에서 하나만 참이면 참, 모두 거짓이면 거짓 ( 카드 할인)\n",
    "- not x : x가 참이면 거짓, x가 거짓이면 참"
   ]
  },
  {
   "cell_type": "code",
   "execution_count": 11,
   "id": "b3242c9d",
   "metadata": {},
   "outputs": [
    {
     "data": {
      "text/plain": [
       "True"
      ]
     },
     "execution_count": 11,
     "metadata": {},
     "output_type": "execute_result"
    }
   ],
   "source": [
    "1 == 1 and 2 == 2"
   ]
  },
  {
   "cell_type": "code",
   "execution_count": 12,
   "id": "44f0fe0f",
   "metadata": {},
   "outputs": [
    {
     "data": {
      "text/plain": [
       "False"
      ]
     },
     "execution_count": 12,
     "metadata": {},
     "output_type": "execute_result"
    }
   ],
   "source": [
    "1 == 1 and 1 == 2"
   ]
  },
  {
   "cell_type": "code",
   "execution_count": 13,
   "id": "a8354016",
   "metadata": {},
   "outputs": [
    {
     "data": {
      "text/plain": [
       "False"
      ]
     },
     "execution_count": 13,
     "metadata": {},
     "output_type": "execute_result"
    }
   ],
   "source": [
    "1 == 2 and 2 == 3"
   ]
  },
  {
   "cell_type": "code",
   "execution_count": 14,
   "id": "c3fea8cf",
   "metadata": {},
   "outputs": [
    {
     "data": {
      "text/plain": [
       "True"
      ]
     },
     "execution_count": 14,
     "metadata": {},
     "output_type": "execute_result"
    }
   ],
   "source": [
    "1 == 1 or 2 == 2"
   ]
  },
  {
   "cell_type": "code",
   "execution_count": 15,
   "id": "cfd7f2bd",
   "metadata": {},
   "outputs": [
    {
     "data": {
      "text/plain": [
       "True"
      ]
     },
     "execution_count": 15,
     "metadata": {},
     "output_type": "execute_result"
    }
   ],
   "source": [
    "1 == 1 or 1 == 2"
   ]
  },
  {
   "cell_type": "code",
   "execution_count": 16,
   "id": "e079e1f6",
   "metadata": {},
   "outputs": [
    {
     "data": {
      "text/plain": [
       "False"
      ]
     },
     "execution_count": 16,
     "metadata": {},
     "output_type": "execute_result"
    }
   ],
   "source": [
    "1 == 2 or 2 == 3"
   ]
  },
  {
   "cell_type": "code",
   "execution_count": 17,
   "id": "96a8aa9c",
   "metadata": {},
   "outputs": [
    {
     "data": {
      "text/plain": [
       "False"
      ]
     },
     "execution_count": 17,
     "metadata": {},
     "output_type": "execute_result"
    }
   ],
   "source": [
    "not 1 == 1"
   ]
  },
  {
   "cell_type": "code",
   "execution_count": 19,
   "id": "8e528916",
   "metadata": {},
   "outputs": [
    {
     "data": {
      "text/plain": [
       "True"
      ]
     },
     "execution_count": 19,
     "metadata": {},
     "output_type": "execute_result"
    }
   ],
   "source": [
    "not 1 == 2"
   ]
  },
  {
   "cell_type": "markdown",
   "id": "49357b10",
   "metadata": {},
   "source": [
    "## 08. if-elif-else"
   ]
  },
  {
   "cell_type": "code",
   "execution_count": 20,
   "id": "43e24964",
   "metadata": {},
   "outputs": [
    {
     "name": "stdout",
     "output_type": "stream",
     "text": [
      "정수를 입력하시오: 10\n",
      "양수입니다.\n"
     ]
    }
   ],
   "source": [
    "num = int(input(\"정수를 입력하시오: \"))\n",
    "if num > 0:\n",
    "    print(\"양수입니다.\")\n",
    "elif num == 0:\n",
    "    print(\"0입니다.\")\n",
    "else:\n",
    "    print(\"음수입니다.\")    "
   ]
  },
  {
   "cell_type": "code",
   "execution_count": 21,
   "id": "8b084d1a",
   "metadata": {},
   "outputs": [
    {
     "name": "stdout",
     "output_type": "stream",
     "text": [
      "정수를 입력하시오: 0\n",
      "0입니다.\n"
     ]
    }
   ],
   "source": [
    "num = int(input(\"정수를 입력하시오: \"))\n",
    "if num > 0:\n",
    "    print(\"양수입니다.\")\n",
    "elif num == 0:\n",
    "    print(\"0입니다.\")\n",
    "else:\n",
    "    print(\"음수입니다.\") "
   ]
  },
  {
   "cell_type": "code",
   "execution_count": 22,
   "id": "c1524204",
   "metadata": {},
   "outputs": [
    {
     "name": "stdout",
     "output_type": "stream",
     "text": [
      "정수를 입력하시오: -3\n",
      "음수입니다.\n"
     ]
    }
   ],
   "source": [
    "num = int(input(\"정수를 입력하시오: \"))\n",
    "if num > 0:\n",
    "    print(\"양수입니다.\")\n",
    "elif num == 0:\n",
    "    print(\"0입니다.\")\n",
    "else:\n",
    "    print(\"음수입니다.\") "
   ]
  },
  {
   "cell_type": "markdown",
   "id": "db46b215",
   "metadata": {},
   "source": [
    "## 09. if의 중첩"
   ]
  },
  {
   "cell_type": "code",
   "execution_count": 23,
   "id": "250bec2c",
   "metadata": {},
   "outputs": [
    {
     "name": "stdout",
     "output_type": "stream",
     "text": [
      "정수를 입력하시오: 10\n",
      "양수입니다.\n"
     ]
    }
   ],
   "source": [
    "num = int(input(\"정수를 입력하시오: \"))\n",
    "if num >= 0:\n",
    "    if num == 0:\n",
    "        print(\"0입니다.\")\n",
    "    else:\n",
    "        print(\"양수입니다.\")\n",
    "else:\n",
    "    print(\"음수입니다.\") "
   ]
  },
  {
   "cell_type": "code",
   "execution_count": 24,
   "id": "65d1cfff",
   "metadata": {},
   "outputs": [
    {
     "name": "stdout",
     "output_type": "stream",
     "text": [
      "정수를 입력하시오: 0\n",
      "0입니다.\n"
     ]
    }
   ],
   "source": [
    "num = int(input(\"정수를 입력하시오: \"))\n",
    "if num >= 0:\n",
    "    if num == 0:\n",
    "        print(\"0입니다.\")\n",
    "    else:\n",
    "        print(\"양수입니다.\")\n",
    "else:\n",
    "    print(\"음수입니다.\") "
   ]
  },
  {
   "cell_type": "code",
   "execution_count": 25,
   "id": "0073e7e2",
   "metadata": {},
   "outputs": [
    {
     "name": "stdout",
     "output_type": "stream",
     "text": [
      "정수를 입력하시오: -3\n",
      "음수입니다.\n"
     ]
    }
   ],
   "source": [
    "num = int(input(\"정수를 입력하시오: \"))\n",
    "if num >= 0:\n",
    "    if num == 0:\n",
    "        print(\"0입니다.\")\n",
    "    else:\n",
    "        print(\"양수입니다.\")\n",
    "else:\n",
    "    print(\"음수입니다.\") "
   ]
  },
  {
   "cell_type": "markdown",
   "id": "573ae799",
   "metadata": {},
   "source": [
    "## Lab. 직각삼각형 판별하기"
   ]
  },
  {
   "cell_type": "code",
   "execution_count": 26,
   "id": "0f8d05cd",
   "metadata": {},
   "outputs": [
    {
     "name": "stdout",
     "output_type": "stream",
     "text": [
      "변a의 길이: 3\n",
      "변b의 길이: 5\n",
      "변c의 길이: 6\n",
      "직각삼각형이 아닙니다.\n"
     ]
    }
   ],
   "source": [
    "a = int(input(\"변a의 길이: \"))\n",
    "b = int(input(\"변b의 길이: \"))\n",
    "c = int(input(\"변c의 길이: \"))\n",
    "\n",
    "if c * c == a * a + b * b:\n",
    "    print(\"직각삼각형입니다.\")\n",
    "else:\n",
    "    print(\"직각삼각형이 아닙니다.\")"
   ]
  },
  {
   "cell_type": "code",
   "execution_count": 27,
   "id": "92f25b03",
   "metadata": {},
   "outputs": [
    {
     "name": "stdout",
     "output_type": "stream",
     "text": [
      "변a의 길이: 3\n",
      "변b의 길이: 4\n",
      "변c의 길이: 5\n",
      "직각삼각형입니다.\n"
     ]
    }
   ],
   "source": [
    "a = int(input(\"변a의 길이: \"))\n",
    "b = int(input(\"변b의 길이: \"))\n",
    "c = int(input(\"변c의 길이: \"))\n",
    "\n",
    "if c * c == a * a + b * b:\n",
    "    print(\"직각삼각형입니다.\")\n",
    "else:\n",
    "    print(\"직각삼각형이 아닙니다.\")"
   ]
  },
  {
   "cell_type": "markdown",
   "id": "4b9d2cd3",
   "metadata": {},
   "source": [
    "## Lab. 정수의 종류를 판별하는 스마트 터틀"
   ]
  },
  {
   "cell_type": "code",
   "execution_count": 28,
   "id": "9ddf9c91",
   "metadata": {},
   "outputs": [],
   "source": [
    "# import turtle\n",
    "# t = turtle.Turtle()\n",
    "# t.shape(\"turtle\")\n",
    "\n",
    "# t.penup()\t\t# 펜을 올려서 그림이 그려지지 않게 합니다. \n",
    "# t.goto(100, 100)\t\t# 터틀을 (100, 100)으로 이동시킵니다.\n",
    "# t.write(\"입력된 정수는 양의 정수입니다.\")\n",
    "# t.goto(100, 0)\n",
    "# t.write(\"입력된 정수는 0입니다.\")\n",
    "# t.goto(100, -100)\n",
    "# t.write(\"입력된 정수는 음의 정수입니다.\")\n",
    "\n",
    "# t.goto(0, 0)\t\t\t# (0, 0) 위치로 터틀을 이동시킵니다.\n",
    "# t.pendown()\t\t\t# 펜을 내려서 그림이 그려지게 합니다. down( )도 있습니다.\n",
    "# s = turtle.textinput(\"\", \"숫자를 입력하시오: \")\n",
    "# n = int(s)\n",
    "\n",
    "# if n > 0 :\n",
    "#     t.goto(100, 100)\n",
    "# if n == 0 :\n",
    "#     t.goto(100, 0)\n",
    "# if n < 0 :\n",
    "#     t.goto(100, -100)"
   ]
  },
  {
   "cell_type": "markdown",
   "id": "5c4b4ff2",
   "metadata": {},
   "source": [
    "## Lab. 주민등록번호 뒷자리 의미, 이런 뜻이?!"
   ]
  },
  {
   "cell_type": "code",
   "execution_count": 29,
   "id": "0d2bb16d",
   "metadata": {},
   "outputs": [
    {
     "name": "stdout",
     "output_type": "stream",
     "text": [
      "주민등록번호의 성별 정보 번호를 생성합니다.\n",
      "생성번호: 4\n",
      "여성입니다\n",
      "프로그램을 종료합니다.\n"
     ]
    }
   ],
   "source": [
    "import random\t\t\t\t# 난수 모듈을 불러옴\n",
    "\n",
    "print(\"주민등록번호의 성별 정보 번호를 생성합니다.\")\n",
    "gender = random.randrange(4)\n",
    "gender = gender + 1\n",
    "\n",
    "print(\"생성번호: \" + str(gender))\t   \t# 문자와 숫자 연결하여 출력할 때를 주의\n",
    "\n",
    "if gender == 1 or gender == 3:\t# gender가 1 또는 3이면 남성\n",
    "\tprint(\"남성입니다\")\n",
    "else :\t\t\t\t\t# gender가 2 또는 4이면 여성\n",
    "\tprint(\"여성입니다\")\n",
    "print(\"프로그램을 종료합니다.\")"
   ]
  },
  {
   "cell_type": "markdown",
   "id": "d5cc296a",
   "metadata": {},
   "source": [
    "## Lab. 동전 던지기 게임"
   ]
  },
  {
   "cell_type": "code",
   "execution_count": 30,
   "id": "fed57c0d",
   "metadata": {},
   "outputs": [],
   "source": [
    "# import turtle\t\t\t# 터틀 그래픽 모듈을 불러옴\n",
    "# import random \t\t\t# 난수 모듈을 불러옴\n",
    "\n",
    "# screen = turtle.Screen()\n",
    "# image1 = \"d:\\\\front.gif\"\n",
    "# image2 = \"d:\\\\back.gif\"\n",
    "\n",
    "# screen.addshape(image1)\n",
    "# screen.addshape(image2)\n",
    "\n",
    "# t1 = turtle.Turtle()\t\t# 터틀 생성\n",
    "# coin = random.randint(0, 1)\t# 동전의 앞, 뒤 정보 만들기\n",
    "\n",
    "# if coin == 0 :\n",
    "#     t1.shape(image1)\n",
    "#     t1.stamp()\n",
    "# else : \n",
    "#     t1.shape(image2)\n",
    "#     t1.stamp()\t"
   ]
  },
  {
   "cell_type": "markdown",
   "id": "b33cf4fa",
   "metadata": {},
   "source": [
    "## Lab. 찌릿찌릿 전기회로"
   ]
  },
  {
   "cell_type": "code",
   "execution_count": 31,
   "id": "277c4800",
   "metadata": {},
   "outputs": [
    {
     "name": "stdout",
     "output_type": "stream",
     "text": [
      "1번 전지가 있습니까? (Y/N) y\n",
      "2번 전지가 있습니까? (Y/N) n\n",
      "직렬연결 : 전구에 불이 꺼집니다.\n",
      "병렬연결 : 전구에 불이 켜집니다.\n"
     ]
    }
   ],
   "source": [
    "a = input(\"1번 전지가 있습니까? (Y/N) \")\n",
    "b = input(\"2번 전지가 있습니까? (Y/N) \")\n",
    "\n",
    "if a.upper() == 'Y' and b.upper() == 'Y':\n",
    "    print(\"직렬연결 : 전구에 불이 켜집니다.\")\n",
    "else :\n",
    "    print(\"직렬연결 : 전구에 불이 꺼집니다.\")\n",
    "\n",
    "if a.upper() == 'Y' or b.upper() == 'Y':\n",
    "    print(\"병렬연결 : 전구에 불이 켜집니다.\")\n",
    "else :\n",
    "    print(\"병렬연결 : 전구에 불이 꺼집니다.\")"
   ]
  },
  {
   "cell_type": "code",
   "execution_count": 32,
   "id": "7f8f78bc",
   "metadata": {},
   "outputs": [
    {
     "name": "stdout",
     "output_type": "stream",
     "text": [
      "1번 전지가 있습니까? (Y/N) y\n",
      "2번 전지가 있습니까? (Y/N) y\n",
      "직렬연결 : 전구에 불이 켜집니다.\n",
      "병렬연결 : 전구에 불이 켜집니다.\n"
     ]
    }
   ],
   "source": [
    "a = input(\"1번 전지가 있습니까? (Y/N) \")\n",
    "b = input(\"2번 전지가 있습니까? (Y/N) \")\n",
    "\n",
    "if a.upper() == 'Y' and b.upper() == 'Y':\n",
    "    print(\"직렬연결 : 전구에 불이 켜집니다.\")\n",
    "else :\n",
    "    print(\"직렬연결 : 전구에 불이 꺼집니다.\")\n",
    "\n",
    "if a.upper() == 'Y' or b.upper() == 'Y':\n",
    "    print(\"병렬연결 : 전구에 불이 켜집니다.\")\n",
    "else :\n",
    "    print(\"병렬연결 : 전구에 불이 꺼집니다.\")"
   ]
  },
  {
   "cell_type": "markdown",
   "id": "14d96132",
   "metadata": {},
   "source": [
    "## Lab. 윤년 판단"
   ]
  },
  {
   "cell_type": "code",
   "execution_count": 33,
   "id": "6bfbee63",
   "metadata": {},
   "outputs": [
    {
     "name": "stdout",
     "output_type": "stream",
     "text": [
      "연도를 입력하시오: 2021\n",
      "2021 년은 윤년이 아닙니다.\n"
     ]
    }
   ],
   "source": [
    "year = int(input(\"연도를 입력하시오: \"))\n",
    "if ( (year % 4 ==0 and year % 100 != 0) or year % 400 == 0):\n",
    "    print(year, \"년은 윤년입니다.\")\n",
    "else :\n",
    "    print(year, \"년은 윤년이 아닙니다.\")"
   ]
  },
  {
   "cell_type": "markdown",
   "id": "4a10621c",
   "metadata": {},
   "source": [
    "## Lab. 이차방정식의 판별식"
   ]
  },
  {
   "cell_type": "code",
   "execution_count": 34,
   "id": "764a1625",
   "metadata": {},
   "outputs": [
    {
     "name": "stdout",
     "output_type": "stream",
     "text": [
      "a값 입력: 3\n",
      "b값 입력: 6\n",
      "c값 입력: 9\n",
      "방정식은 서로 다른 두 허근입니다.\n"
     ]
    }
   ],
   "source": [
    "a=float(input(\"a값 입력: \"))\n",
    "b=float(input(\"b값 입력: \"))\n",
    "c=float(input(\"c값 입력: \"))\n",
    "\n",
    "D = b*b - 4*a*c\n",
    "\n",
    "if D > 0 :\n",
    "    print(\"방정식의 근은 서로 다른 두 실근입니다.\")\n",
    "elif D == 0 :\n",
    "    print(\"방정식은 서로 같은 두 실근(중근)입니다.\")\n",
    "else :\n",
    "    print(\"방정식은 서로 다른 두 허근입니다.\")"
   ]
  },
  {
   "cell_type": "code",
   "execution_count": 35,
   "id": "410642ce",
   "metadata": {},
   "outputs": [
    {
     "name": "stdout",
     "output_type": "stream",
     "text": [
      "a값 입력: 1\n",
      "b값 입력: 4\n",
      "c값 입력: 4\n",
      "방정식은 서로 같은 두 실근(중근)입니다.\n"
     ]
    }
   ],
   "source": [
    "a=float(input(\"a값 입력: \"))\n",
    "b=float(input(\"b값 입력: \"))\n",
    "c=float(input(\"c값 입력: \"))\n",
    "\n",
    "D = b*b - 4*a*c\n",
    "\n",
    "if D > 0 :\n",
    "    print(\"방정식의 근은 서로 다른 두 실근입니다.\")\n",
    "elif D == 0 :\n",
    "    print(\"방정식은 서로 같은 두 실근(중근)입니다.\")\n",
    "else :\n",
    "    print(\"방정식은 서로 다른 두 허근입니다.\")"
   ]
  },
  {
   "cell_type": "markdown",
   "id": "9a96bbb8",
   "metadata": {},
   "source": [
    "## Lab. 사용자가 원하는 도형 그리기"
   ]
  },
  {
   "cell_type": "code",
   "execution_count": 36,
   "id": "f0aa25f7",
   "metadata": {},
   "outputs": [],
   "source": [
    "# import turtle\n",
    "# t = turtle.Turtle()\n",
    "# t.shape(\"turtle\")\n",
    "\n",
    "# s = turtle.textinput(\"\", \"도형을 입력하시오: \")\n",
    "# if s == \"직사각형\" :\n",
    "#     s = turtle.textinput(\"\",\"가로: \")\n",
    "#     w=int(s)\n",
    "#     s = turtle.textinput(\"\",\"세로: \")\n",
    "#     h=int(s)\n",
    "#     t.forward(w)\n",
    "#     t.left(90)\n",
    "#     t.forward(h)\n",
    "#     t.left(90)\n",
    "#     t.forward(w)\n",
    "#     t.left(90)\n",
    "#     t.forward(h)\n",
    "\n",
    "# elif s == \"정삼각형\" :\n",
    "#     s = turtle.textinput(\"\",\"한 변의 길이: \")\n",
    "#     w=int(s)\n",
    "#     t.forward(w)\n",
    "#     t.left(120)\n",
    "#     t.forward(w)\n",
    "#     t.left(120)\n",
    "#     t.forward(w)\n",
    "#     t.left(120)\n",
    "\n",
    "# elif s == \"원\" :\n",
    "#     s = turtle.textinput(\"\",\"반지름의 길이: \")\n",
    "#     w=int(s)\n",
    "#     t.circle(w)"
   ]
  },
  {
   "cell_type": "markdown",
   "id": "b16075d7",
   "metadata": {},
   "source": [
    "## Lab. 두 원의 위치 관계 시뮬레이션"
   ]
  },
  {
   "cell_type": "code",
   "execution_count": 37,
   "id": "caea9cc5",
   "metadata": {},
   "outputs": [],
   "source": [
    "# import turtle\n",
    "# t = turtle.Turtle( )\n",
    "# t.shape(\"turtle\")\n",
    "# x1 = int(input(\"큰 원의 중심좌표 x1: \"))\n",
    "# y1 = int(input(\"큰 원의 중심좌표 y1: \"))\n",
    "# r1 = int(input(\"큰 원의 반지름: \"))\n",
    "# x2 = int(input(\"작은 원의 중심좌표 x2: \"))\n",
    "# y2 = int(input(\"작은 원의 중심좌표 y2: \"))\n",
    "# r2 = int(input(\"작은 원의 반지름: \"))\n",
    "\n",
    "# t.penup( )\n",
    "# t.goto(x1, y1)\n",
    "# yy1 = y1 - r1\t\t# circle( )의 특성으로 인해 원을 그리는 위치 조정\n",
    "# t.goto(x1, yy1)\n",
    "# t.pendown( )\n",
    "# t.circle(r1)\n",
    "\n",
    "# t.penup( )\n",
    "# t.goto(x2, y2)\n",
    "# yy2 = y2 - r2\t\t# circle( )의 특성으로 인해 원을 그리는 위치 조정\n",
    "# t.goto(x2, yy2)\n",
    "# t.pendown( )\n",
    "# t.circle(r2)\n",
    "\n",
    "# dist = ((x1 - x2) * (x1 - x2) + (y1 - y2) * (y1 - y2)) ** 0.5  \t#두 원의 중심사이의 거리\n",
    "\n",
    "# if dist == 0:\n",
    "#     turtle.write(\"동심원\")\n",
    "# elif dist == r1 - r2:\n",
    "#     turtle.write(\"내접\")\n",
    "# elif r1 - r2 < dist < r1 + r2:\n",
    "#     turtle.write(\"두 점에서 만납니다.\")\n",
    "# elif dist > r1 + r2:\n",
    "#     turtle.write(\"만나지 않고 외부에 있습니다.\")\n",
    "# elif dist == r1 + r2:\n",
    "#     turtle.write(\"외접\")\n",
    "# elif dist < r1 - r2:\n",
    "#     turtle.write(\"만나지 않고 내부에 있습니다.\")"
   ]
  },
  {
   "cell_type": "markdown",
   "id": "8247585d",
   "metadata": {},
   "source": [
    "--- seYi"
   ]
  }
 ],
 "metadata": {
  "kernelspec": {
   "display_name": "python3_7_6",
   "language": "python",
   "name": "py3_7_6"
  },
  "language_info": {
   "codemirror_mode": {
    "name": "ipython",
    "version": 3
   },
   "file_extension": ".py",
   "mimetype": "text/x-python",
   "name": "python",
   "nbconvert_exporter": "python",
   "pygments_lexer": "ipython3",
   "version": "3.7.6"
  }
 },
 "nbformat": 4,
 "nbformat_minor": 5
}
