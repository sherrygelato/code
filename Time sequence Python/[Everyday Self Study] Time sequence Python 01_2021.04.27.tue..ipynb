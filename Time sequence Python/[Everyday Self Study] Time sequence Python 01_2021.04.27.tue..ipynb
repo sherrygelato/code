{
 "cells": [
  {
   "cell_type": "markdown",
   "id": "5d75f77c",
   "metadata": {},
   "source": [
    "# 1장. 파이썬을 소개합니다"
   ]
  },
  {
   "cell_type": "markdown",
   "id": "9419225e",
   "metadata": {},
   "source": [
    "## 01. 프로그래밍이 무엇이죠?\n",
    "- 프로그램(program)은 컴퓨터에 어떤 일을 어떻게 시킬지를 기록해 놓은 작업 지시서\n",
    "- 작업의 지시가 컴퓨터에서 작동하려면 프로그래밍 언어로 만들어져야 함.\n",
    "- 프로그래머 : 프로그래밍 언어를 이용하여 논리적이고 명확하게 프로그램을 작성하여 문제를 해결하는 사람\n",
    "\n",
    "\n",
    "## 02. 프로그래밍을 배우면 무엇을 할 수 있을까요?\n",
    "- 분해, 패턴 인식, 알고리즘 설계\n",
    "- 컴퓨터를 여러분 마음대로 제어할 수 있음\n",
    "- 생각하는 방법, 창의력, 논리적인 사고방식과 문재해결력\n",
    "\n",
    "\n",
    "## 03. 두근두근 파이썬\n",
    "- 문법이 쉽고, 오픈 소스이면서도 강력한 언어이며, 코드가 간결함\n",
    "\n",
    "\n",
    "## 06. 파이썬 첫걸음 - 계산하기"
   ]
  },
  {
   "cell_type": "code",
   "execution_count": 1,
   "id": "5aed0ab6",
   "metadata": {
    "scrolled": true
   },
   "outputs": [
    {
     "data": {
      "text/plain": [
       "2"
      ]
     },
     "execution_count": 1,
     "metadata": {},
     "output_type": "execute_result"
    }
   ],
   "source": [
    "1+1"
   ]
  },
  {
   "cell_type": "code",
   "execution_count": 2,
   "id": "1ee4d79a",
   "metadata": {},
   "outputs": [
    {
     "name": "stdout",
     "output_type": "stream",
     "text": [
      "Hello!\n"
     ]
    }
   ],
   "source": [
    "print(\"Hello!\")"
   ]
  },
  {
   "cell_type": "code",
   "execution_count": 3,
   "id": "c030eba0",
   "metadata": {},
   "outputs": [
    {
     "data": {
      "text/plain": [
       "5"
      ]
     },
     "execution_count": 3,
     "metadata": {},
     "output_type": "execute_result"
    }
   ],
   "source": [
    "2+3"
   ]
  },
  {
   "cell_type": "code",
   "execution_count": 4,
   "id": "85102d52",
   "metadata": {},
   "outputs": [
    {
     "data": {
      "text/plain": [
       "-1"
      ]
     },
     "execution_count": 4,
     "metadata": {},
     "output_type": "execute_result"
    }
   ],
   "source": [
    "2-3"
   ]
  },
  {
   "cell_type": "code",
   "execution_count": 5,
   "id": "60dfe31a",
   "metadata": {},
   "outputs": [
    {
     "data": {
      "text/plain": [
       "6"
      ]
     },
     "execution_count": 5,
     "metadata": {},
     "output_type": "execute_result"
    }
   ],
   "source": [
    "2*3"
   ]
  },
  {
   "cell_type": "code",
   "execution_count": 6,
   "id": "b14a6db5",
   "metadata": {},
   "outputs": [
    {
     "data": {
      "text/plain": [
       "0.6666666666666666"
      ]
     },
     "execution_count": 6,
     "metadata": {},
     "output_type": "execute_result"
    }
   ],
   "source": [
    "2/3"
   ]
  },
  {
   "cell_type": "code",
   "execution_count": 7,
   "id": "e9cf2e6b",
   "metadata": {},
   "outputs": [
    {
     "data": {
      "text/plain": [
       "23153542"
      ]
     },
     "execution_count": 7,
     "metadata": {},
     "output_type": "execute_result"
    }
   ],
   "source": [
    "2345*9876-5678"
   ]
  },
  {
   "cell_type": "markdown",
   "id": "871196b1",
   "metadata": {},
   "source": [
    "## 07. 파이썬 첫걸음 - 문자 출력하기"
   ]
  },
  {
   "cell_type": "code",
   "execution_count": 8,
   "id": "b5ae1e99",
   "metadata": {},
   "outputs": [
    {
     "name": "stdout",
     "output_type": "stream",
     "text": [
      "강아지\n"
     ]
    }
   ],
   "source": [
    "print(\"강아지\")"
   ]
  },
  {
   "cell_type": "code",
   "execution_count": 9,
   "id": "68e4d70a",
   "metadata": {},
   "outputs": [
    {
     "name": "stdout",
     "output_type": "stream",
     "text": [
      "강아지고양이\n"
     ]
    }
   ],
   "source": [
    "print(\"강아지\"+\"고양이\")"
   ]
  },
  {
   "cell_type": "code",
   "execution_count": 10,
   "id": "5630fbc3",
   "metadata": {},
   "outputs": [
    {
     "name": "stdout",
     "output_type": "stream",
     "text": [
      "반가워요반가워요반가워요반가워요반가워요반가워요반가워요반가워요반가워요반가워요반가워요반가워요반가워요반가워요반가워요반가워요반가워요반가워요반가워요반가워요\n"
     ]
    }
   ],
   "source": [
    "print(\"반가워요\"*20)"
   ]
  },
  {
   "cell_type": "code",
   "execution_count": 11,
   "id": "0efa4eb0",
   "metadata": {},
   "outputs": [
    {
     "name": "stdout",
     "output_type": "stream",
     "text": [
      "100200\n"
     ]
    }
   ],
   "source": [
    "print('100'+'200')"
   ]
  },
  {
   "cell_type": "code",
   "execution_count": 12,
   "id": "2b732791",
   "metadata": {},
   "outputs": [
    {
     "name": "stdout",
     "output_type": "stream",
     "text": [
      "300\n"
     ]
    }
   ],
   "source": [
    "print(100+200)"
   ]
  },
  {
   "cell_type": "markdown",
   "id": "01e25eb1",
   "metadata": {},
   "source": [
    "## 08. 파이썬 첫걸음 – 그리기1"
   ]
  },
  {
   "cell_type": "code",
   "execution_count": 13,
   "id": "3f5ee2d1",
   "metadata": {},
   "outputs": [],
   "source": [
    "# import turtle\n",
    "# t = turtle.Turtle()\n",
    "# t.shape('turtle')"
   ]
  },
  {
   "cell_type": "code",
   "execution_count": 14,
   "id": "6500bf9f",
   "metadata": {},
   "outputs": [],
   "source": [
    "# t.forward(100)"
   ]
  },
  {
   "cell_type": "code",
   "execution_count": 15,
   "id": "bb80f14f",
   "metadata": {},
   "outputs": [],
   "source": [
    "# t.left(90)\n",
    "# t.forward(50)"
   ]
  },
  {
   "cell_type": "markdown",
   "id": "eed5bdb1",
   "metadata": {},
   "source": [
    "## 09. 파이썬 첫걸음 – 그리기2"
   ]
  },
  {
   "cell_type": "code",
   "execution_count": 16,
   "id": "790b8406",
   "metadata": {},
   "outputs": [],
   "source": [
    "# 정사각형\n",
    "\n",
    "# import turtle\n",
    "# t = turtle.Turtle()\n",
    "# t.shape('turtle')\n",
    "# t.forward(100)\n",
    "# t.right(90)\n",
    "# t.forward(100)\n",
    "# t.right(90)\n",
    "# t.forward(100)\n",
    "# t.right(90)\n",
    "# t.forward(100)"
   ]
  },
  {
   "cell_type": "code",
   "execution_count": 17,
   "id": "7d682140",
   "metadata": {},
   "outputs": [],
   "source": [
    "# 정삼각형\n",
    "\n",
    "# import turtle\n",
    "# t = turtle.Turtle()\n",
    "# t.shape('turtle')\n",
    "# t.forward(100)\n",
    "# t.left(120)\n",
    "# t.forward(100)\n",
    "# t.left(120)\n",
    "# t.forward(100)"
   ]
  },
  {
   "cell_type": "markdown",
   "id": "803c12a9",
   "metadata": {},
   "source": [
    "## 10. 스크립트 모드"
   ]
  },
  {
   "cell_type": "code",
   "execution_count": 18,
   "id": "8a20876c",
   "metadata": {},
   "outputs": [
    {
     "name": "stdout",
     "output_type": "stream",
     "text": [
      "내가 제일 좋아하는 음식은 피자!\n",
      "피자피자피자피자피자피자피자피자피자피자\n",
      "얌얌얌얌얌얌얌얌얌얌얌얌얌얌얌얌얌얌얌얌\n"
     ]
    }
   ],
   "source": [
    "print(\"내가 제일 좋아하는 음식은 피자!\")\n",
    "print(\"피자\"*10)\n",
    "print(\"얌얌\"*10)"
   ]
  },
  {
   "cell_type": "markdown",
   "id": "8e43af6e",
   "metadata": {},
   "source": [
    "## 11. 읽으면 도움이 돼요 - 주석"
   ]
  },
  {
   "cell_type": "code",
   "execution_count": 19,
   "id": "777cc167",
   "metadata": {},
   "outputs": [
    {
     "name": "stdout",
     "output_type": "stream",
     "text": [
      "안녕\n"
     ]
    }
   ],
   "source": [
    "# 파이썬 프로그램\n",
    "print(\"안녕\") # '안녕' 출력"
   ]
  },
  {
   "cell_type": "code",
   "execution_count": 20,
   "id": "dfb94271",
   "metadata": {},
   "outputs": [
    {
     "name": "stdout",
     "output_type": "stream",
     "text": [
      "파이파이파이파이파이파이파이파이파이파이\n"
     ]
    }
   ],
   "source": [
    "print(\"파이\"*10) # '파이' 10번 출력"
   ]
  },
  {
   "cell_type": "code",
   "execution_count": 21,
   "id": "ca959f40",
   "metadata": {},
   "outputs": [
    {
     "name": "stdout",
     "output_type": "stream",
     "text": [
      "프로그래밍 공부를 즐기셨으면 합니다.\n",
      "화이팅!화이팅!화이팅!화이팅!화이팅!\n"
     ]
    }
   ],
   "source": [
    "print(\"프로그래밍 공부를 즐기셨으면 합니다.\")\n",
    "# print(\"안녕!\" * 3)\n",
    "print(\"화이팅!\" * 5)"
   ]
  },
  {
   "cell_type": "markdown",
   "id": "1d9ce816",
   "metadata": {},
   "source": [
    "## 12. 문제가 생겼어요 - 오류"
   ]
  },
  {
   "cell_type": "markdown",
   "id": "7f8fead7",
   "metadata": {},
   "source": [
    "### # 문법 오류"
   ]
  },
  {
   "cell_type": "code",
   "execution_count": 22,
   "id": "f67907d4",
   "metadata": {},
   "outputs": [
    {
     "ename": "NameError",
     "evalue": "name 'pront' is not defined",
     "output_type": "error",
     "traceback": [
      "\u001b[1;31m---------------------------------------------------------------------------\u001b[0m",
      "\u001b[1;31mNameError\u001b[0m                                 Traceback (most recent call last)",
      "\u001b[1;32m<ipython-input-22-976ce4665b79>\u001b[0m in \u001b[0;36m<module>\u001b[1;34m\u001b[0m\n\u001b[1;32m----> 1\u001b[1;33m \u001b[0mpront\u001b[0m\u001b[1;33m(\u001b[0m\u001b[1;34m\"Hello World!\"\u001b[0m\u001b[1;33m)\u001b[0m\u001b[1;33m\u001b[0m\u001b[1;33m\u001b[0m\u001b[0m\n\u001b[0m",
      "\u001b[1;31mNameError\u001b[0m: name 'pront' is not defined"
     ]
    }
   ],
   "source": [
    "pront(\"Hello World!\")"
   ]
  },
  {
   "cell_type": "code",
   "execution_count": 23,
   "id": "bd89d1b0",
   "metadata": {},
   "outputs": [
    {
     "ename": "SyntaxError",
     "evalue": "invalid syntax (<ipython-input-23-c913c1dffb59>, line 1)",
     "output_type": "error",
     "traceback": [
      "\u001b[1;36m  File \u001b[1;32m\"<ipython-input-23-c913c1dffb59>\"\u001b[1;36m, line \u001b[1;32m1\u001b[0m\n\u001b[1;33m    1+\u001b[0m\n\u001b[1;37m      ^\u001b[0m\n\u001b[1;31mSyntaxError\u001b[0m\u001b[1;31m:\u001b[0m invalid syntax\n"
     ]
    }
   ],
   "source": [
    "1+"
   ]
  },
  {
   "cell_type": "code",
   "execution_count": 24,
   "id": "a18cfeae",
   "metadata": {},
   "outputs": [
    {
     "ename": "SyntaxError",
     "evalue": "invalid syntax (<ipython-input-24-3676b7c1f834>, line 1)",
     "output_type": "error",
     "traceback": [
      "\u001b[1;36m  File \u001b[1;32m\"<ipython-input-24-3676b7c1f834>\"\u001b[1;36m, line \u001b[1;32m1\u001b[0m\n\u001b[1;33m    3+*2\u001b[0m\n\u001b[1;37m      ^\u001b[0m\n\u001b[1;31mSyntaxError\u001b[0m\u001b[1;31m:\u001b[0m invalid syntax\n"
     ]
    }
   ],
   "source": [
    "3+*2"
   ]
  },
  {
   "cell_type": "markdown",
   "id": "f53c054f",
   "metadata": {},
   "source": [
    "### # 실행 중간에 발생하는 오류"
   ]
  },
  {
   "cell_type": "code",
   "execution_count": 25,
   "id": "1621e9d8",
   "metadata": {},
   "outputs": [
    {
     "name": "stdout",
     "output_type": "stream",
     "text": [
      "안녕하세요? 파이썬에 오신 것을 환영합니다!\n",
      "프로그래밍 공부를 즐기셨으면 합니다.\n"
     ]
    },
    {
     "ename": "TypeError",
     "evalue": "can only concatenate str (not \"int\") to str",
     "output_type": "error",
     "traceback": [
      "\u001b[1;31m---------------------------------------------------------------------------\u001b[0m",
      "\u001b[1;31mTypeError\u001b[0m                                 Traceback (most recent call last)",
      "\u001b[1;32m<ipython-input-25-bbf35cc6869d>\u001b[0m in \u001b[0;36m<module>\u001b[1;34m\u001b[0m\n\u001b[0;32m      1\u001b[0m \u001b[0mprint\u001b[0m\u001b[1;33m(\u001b[0m\u001b[1;34m\"안녕하세요? 파이썬에 오신 것을 환영합니다!\"\u001b[0m\u001b[1;33m)\u001b[0m\u001b[1;33m\u001b[0m\u001b[1;33m\u001b[0m\u001b[0m\n\u001b[0;32m      2\u001b[0m \u001b[0mprint\u001b[0m\u001b[1;33m(\u001b[0m\u001b[1;34m\"프로그래밍 공부를 즐기셨으면 합니다.\"\u001b[0m\u001b[1;33m)\u001b[0m\u001b[1;33m\u001b[0m\u001b[1;33m\u001b[0m\u001b[0m\n\u001b[1;32m----> 3\u001b[1;33m \u001b[0mprint\u001b[0m\u001b[1;33m(\u001b[0m\u001b[1;34m\"안녕!\"\u001b[0m \u001b[1;33m+\u001b[0m \u001b[1;36m3\u001b[0m\u001b[1;33m)\u001b[0m \u001b[1;31m# \"안녕\"을 3번 출력하려 합니다.\u001b[0m\u001b[1;33m\u001b[0m\u001b[1;33m\u001b[0m\u001b[0m\n\u001b[0m",
      "\u001b[1;31mTypeError\u001b[0m: can only concatenate str (not \"int\") to str"
     ]
    }
   ],
   "source": [
    "print(\"안녕하세요? 파이썬에 오신 것을 환영합니다!\")\n",
    "print(\"프로그래밍 공부를 즐기셨으면 합니다.\")\n",
    "print(\"안녕!\" + 3) # \"안녕\"을 3번 출력하려 합니다."
   ]
  },
  {
   "cell_type": "code",
   "execution_count": 26,
   "id": "81489c42",
   "metadata": {},
   "outputs": [
    {
     "name": "stdout",
     "output_type": "stream",
     "text": [
      "안녕하세요? 파이썬에 오신 것을 환영합니다!\n",
      "프로그래밍 공부를 즐기셨으면 합니다.\n",
      "안녕!안녕!안녕!\n"
     ]
    }
   ],
   "source": [
    "# 수정 후)\n",
    "\n",
    "print(\"안녕하세요? 파이썬에 오신 것을 환영합니다!\")\n",
    "print(\"프로그래밍 공부를 즐기셨으면 합니다.\")\n",
    "print(\"안녕!\" * 3) # \"안녕\"을 3번 출력하려 합니다."
   ]
  },
  {
   "cell_type": "markdown",
   "id": "b5d1a044",
   "metadata": {},
   "source": [
    "## 13. 파이썬으로 무엇을 할 수 있을까?"
   ]
  },
  {
   "cell_type": "code",
   "execution_count": 27,
   "id": "ab09b869",
   "metadata": {},
   "outputs": [],
   "source": [
    "# import turtle\n",
    "\n",
    "# colors = ['red', 'purple', 'blue', 'green', 'yellow', 'orange']\n",
    "# t = turtle.Turtle()\n",
    "\n",
    "# turtle.bgcolor('black')\n",
    "# t.speed(8)\n",
    "# t.width(3)\n",
    "# length=10\n",
    "\n",
    "# while length < 500:\n",
    "#     t.forward(length)\n",
    "#     t.pencolor(colors[length%6])\n",
    "#     t.right(89)\n",
    "#     length += 5"
   ]
  },
  {
   "cell_type": "markdown",
   "id": "bcd53914",
   "metadata": {},
   "source": [
    "## Lab. print() 실습"
   ]
  },
  {
   "cell_type": "code",
   "execution_count": 28,
   "id": "dfe7e71d",
   "metadata": {},
   "outputs": [
    {
     "name": "stdout",
     "output_type": "stream",
     "text": [
      "시간순삭 파이썬\n"
     ]
    }
   ],
   "source": [
    "print('시간순삭 파이썬')"
   ]
  },
  {
   "cell_type": "code",
   "execution_count": 29,
   "id": "ecab38b7",
   "metadata": {},
   "outputs": [
    {
     "name": "stdout",
     "output_type": "stream",
     "text": [
      "9*8은 72 입니다.\n"
     ]
    }
   ],
   "source": [
    "print('9*8은', 9*8, '입니다.')"
   ]
  },
  {
   "cell_type": "code",
   "execution_count": 30,
   "id": "1cd12c74",
   "metadata": {},
   "outputs": [
    {
     "name": "stdout",
     "output_type": "stream",
     "text": [
      "너무  반짝반짝  눈이 부셔  No No No No \n",
      "너무  깜짝깜짝  놀란 나는  Oh Oh Oh Oh \n",
      "너무  짜릿짜릿  몸이 떨려  Gee Gee Gee Gee \n"
     ]
    }
   ],
   "source": [
    "print(\"너무 \", \"반짝\" * 2, \" 눈이 부셔 \", \"No \" * 4)\n",
    "print(\"너무 \", \"깜짝\" * 2, \" 놀란 나는 \", \"Oh \" * 4)\n",
    "print(\"너무 \", \"짜릿\" * 2, \" 몸이 떨려 \", \"Gee \" * 4)"
   ]
  },
  {
   "cell_type": "markdown",
   "id": "4b603e95",
   "metadata": {},
   "source": [
    "## Lab. 원과 다각형 그리기"
   ]
  },
  {
   "cell_type": "code",
   "execution_count": null,
   "id": "cc2805c8",
   "metadata": {},
   "outputs": [],
   "source": [
    "# 1. 원 그리기\n",
    "\n",
    "# import turtle\n",
    "\n",
    "# t = turtle.Turtle()\n",
    "# t.shape(\"turtle\")\n",
    "# t.circle(100) #반지름이 100인 원을 그림"
   ]
  },
  {
   "cell_type": "code",
   "execution_count": 31,
   "id": "485d2154",
   "metadata": {},
   "outputs": [],
   "source": [
    "# 2. 정육각형 그리기\n",
    "\n",
    "# import turtle\n",
    "\n",
    "# t = turtle.Turtle()\n",
    "# t.shape(\"turtle\")\n",
    "# t.forward(100)\n",
    "# t.left(60)\n",
    "# t.forward(100)\n",
    "# t.left(60)\n",
    "# t.forward(100)\n",
    "# t.left(60)\n",
    "# t.forward(100)\n",
    "# t.left(60)\n",
    "# t.forward(100)\n",
    "# t.left(60)\n",
    "# t.forward(100)"
   ]
  },
  {
   "cell_type": "markdown",
   "id": "f7d02d2f",
   "metadata": {},
   "source": [
    "## Lab. 터틀 그래픽 더 살펴보기"
   ]
  },
  {
   "cell_type": "code",
   "execution_count": 32,
   "id": "aab1d6cf",
   "metadata": {},
   "outputs": [],
   "source": [
    "# 1.\n",
    "\n",
    "# import turtle\n",
    "# t = turtle.Turtle()\n",
    "# t.shape(\"turtle\")\n",
    "# t.width(10)\n",
    "\n",
    "# t.forward(100)\n",
    "# t.left(90)\n",
    "# t.forward(100)"
   ]
  },
  {
   "cell_type": "code",
   "execution_count": 33,
   "id": "39e06b2e",
   "metadata": {},
   "outputs": [],
   "source": [
    "# 2.\n",
    "\n",
    "# import turtle\n",
    "\n",
    "# t = turtle.Turtle()\n",
    "# t.shape(\"turtle\")\n",
    "# t.color(\"blue\")\n",
    "\n",
    "# t.forward(100)\n",
    "# t.left(90)\n",
    "# t.forward(100)"
   ]
  },
  {
   "cell_type": "code",
   "execution_count": 34,
   "id": "657e6e79",
   "metadata": {},
   "outputs": [],
   "source": [
    "# 3.\n",
    "\n",
    "# import turtle\n",
    "# t = turtle.Turtle()\n",
    "# t.shape(\"square\")\n",
    "\n",
    "# t.forward(100)\n",
    "# t.left(90)\n",
    "# t.forward(100)"
   ]
  },
  {
   "cell_type": "code",
   "execution_count": 35,
   "id": "ed5b594b",
   "metadata": {},
   "outputs": [],
   "source": [
    "# 4. \n",
    "\n",
    "# import turtle\n",
    "# t = turtle.Turtle()\n",
    "# t.shape(\"turtle\")\n",
    "\n",
    "# t.down()\t  # 펜 내림\n",
    "# t.goto(100, 0)    #(100, 0) 선 이동\n",
    "# t.up()\t\t  # 펜 올림\n",
    "# t.goto(0, 200)    #(0, 200) 선 이동\n",
    "# t.down()\t  # 펜 내림\n",
    "# t.goto(100,200)\t  # (100,200) 선을 이동"
   ]
  },
  {
   "cell_type": "markdown",
   "id": "8ceb5ebc",
   "metadata": {},
   "source": [
    "--- seYi"
   ]
  }
 ],
 "metadata": {
  "kernelspec": {
   "display_name": "python3_7_6",
   "language": "python",
   "name": "py3_7_6"
  },
  "language_info": {
   "codemirror_mode": {
    "name": "ipython",
    "version": 3
   },
   "file_extension": ".py",
   "mimetype": "text/x-python",
   "name": "python",
   "nbconvert_exporter": "python",
   "pygments_lexer": "ipython3",
   "version": "3.7.6"
  }
 },
 "nbformat": 4,
 "nbformat_minor": 5
}
