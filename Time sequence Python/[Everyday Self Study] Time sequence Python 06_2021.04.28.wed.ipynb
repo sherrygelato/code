{
 "cells": [
  {
   "cell_type": "markdown",
   "id": "df9d0b88",
   "metadata": {},
   "source": [
    "# 반복해 봅시다"
   ]
  },
  {
   "cell_type": "markdown",
   "id": "ae7511b5",
   "metadata": {},
   "source": [
    "## 01. 왜 반복이 중요할까요?\n",
    "- 루프"
   ]
  },
  {
   "cell_type": "code",
   "execution_count": 2,
   "id": "fa01a97e",
   "metadata": {},
   "outputs": [
    {
     "name": "stdout",
     "output_type": "stream",
     "text": [
      "방문을 환영합니다!\n",
      "방문을 환영합니다!\n",
      "방문을 환영합니다!\n",
      "방문을 환영합니다!\n",
      "방문을 환영합니다!\n"
     ]
    }
   ],
   "source": [
    "print(\"방문을 환영합니다!\")\n",
    "print(\"방문을 환영합니다!\")\n",
    "print(\"방문을 환영합니다!\")\n",
    "print(\"방문을 환영합니다!\")\n",
    "print(\"방문을 환영합니다!\")"
   ]
  },
  {
   "cell_type": "code",
   "execution_count": 3,
   "id": "59446e30",
   "metadata": {},
   "outputs": [
    {
     "name": "stdout",
     "output_type": "stream",
     "text": [
      "방문을 환영합니다!\n",
      "방문을 환영합니다!\n",
      "방문을 환영합니다!\n",
      "방문을 환영합니다!\n",
      "방문을 환영합니다!\n"
     ]
    }
   ],
   "source": [
    "for i in range(5):\n",
    "    print(\"방문을 환영합니다!\")"
   ]
  },
  {
   "cell_type": "markdown",
   "id": "ad4d9196",
   "metadata": {},
   "source": [
    "## 02. 횟수 제어 반복-for\n",
    "- 반복의 횟수를 미리 아는 경우에 사용, for 루프\n",
    "- for (변수) in range(종료값):\n",
    "       문장"
   ]
  },
  {
   "cell_type": "code",
   "execution_count": 4,
   "id": "d895ba9b",
   "metadata": {},
   "outputs": [
    {
     "name": "stdout",
     "output_type": "stream",
     "text": [
      "방문을 환영합니다.\n",
      "방문을 환영합니다.\n",
      "방문을 환영합니다.\n",
      "방문을 환영합니다.\n",
      "방문을 환영합니다.\n"
     ]
    }
   ],
   "source": [
    "for i in range(5):\n",
    "    print(\"방문을 환영합니다.\") # 들여쓰기 주의"
   ]
  },
  {
   "cell_type": "markdown",
   "id": "66629978",
   "metadata": {},
   "source": [
    "## 03. range( )함수\n",
    "- range(start=0, stop, step=1)"
   ]
  },
  {
   "cell_type": "code",
   "execution_count": 5,
   "id": "bb53bd74",
   "metadata": {},
   "outputs": [
    {
     "name": "stdout",
     "output_type": "stream",
     "text": [
      "1 2 3 4 5 "
     ]
    }
   ],
   "source": [
    "for i in range(1, 6, 1):\n",
    "    print(i, end=\" \")"
   ]
  },
  {
   "cell_type": "code",
   "execution_count": 7,
   "id": "a6eb1abb",
   "metadata": {},
   "outputs": [
    {
     "name": "stdout",
     "output_type": "stream",
     "text": [
      "10 9 8 7 6 5 4 3 2 1 "
     ]
    }
   ],
   "source": [
    "for i in range(10, 0, -1):\n",
    "    print(i, end=\" \")"
   ]
  },
  {
   "cell_type": "markdown",
   "id": "8e0b3771",
   "metadata": {},
   "source": [
    "## 04. 횟수 제어 반복을 좀 더 이해시켜 줄 예제"
   ]
  },
  {
   "cell_type": "code",
   "execution_count": 9,
   "id": "37010313",
   "metadata": {},
   "outputs": [
    {
     "name": "stdout",
     "output_type": "stream",
     "text": [
      "1부터 100까지의 합은  5050 입니다\n"
     ]
    }
   ],
   "source": [
    "sum = 0\n",
    "for i in range(1, 101):\n",
    "    sum += i\n",
    "print(\"1부터 100까지의 합은 \", sum,\"입니다\")"
   ]
  },
  {
   "cell_type": "code",
   "execution_count": 10,
   "id": "90ab8e67",
   "metadata": {},
   "outputs": [
    {
     "name": "stdout",
     "output_type": "stream",
     "text": [
      "정수를 입력하시오: 10\n",
      "10 !은 3628800 이다.\n"
     ]
    }
   ],
   "source": [
    "n = int(input(\"정수를 입력하시오: \"))\n",
    "fact = 1\n",
    "\n",
    "for a in range(1, n+1):\n",
    "    fact = fact*a\n",
    "\n",
    "print(n, \"!은\", fact, \"이다.\")"
   ]
  },
  {
   "cell_type": "markdown",
   "id": "9f6edabd",
   "metadata": {},
   "source": [
    "## 05. 조건 제어 반복-while\n",
    "- 어떤 조건이 만족되는 동안 반복\n",
    "- 반복의 횟수는 모르지만, 반복의 조건은 알고 있는 경우에 주로 사용하는 반복"
   ]
  },
  {
   "cell_type": "code",
   "execution_count": 11,
   "id": "9610befe",
   "metadata": {},
   "outputs": [
    {
     "name": "stdout",
     "output_type": "stream",
     "text": [
      "엄마 다 됐어?아니\n",
      "엄마 다 됐어?그래\n",
      "먹자\n"
     ]
    }
   ],
   "source": [
    "response = \"아니\"\n",
    "while response == \"아니\":\n",
    "    response = input(\"엄마 다 됐어?\");\n",
    "print(\"먹자\")"
   ]
  },
  {
   "cell_type": "markdown",
   "id": "b01fe5e6",
   "metadata": {},
   "source": [
    "## 06. 조건 제어 반복을 좀 더 이해시켜 줄 예제"
   ]
  },
  {
   "cell_type": "code",
   "execution_count": 12,
   "id": "569c57a4",
   "metadata": {},
   "outputs": [
    {
     "name": "stdout",
     "output_type": "stream",
     "text": [
      "1부터 100까지의 합은 5050 입니다.\n"
     ]
    }
   ],
   "source": [
    "count = 1\n",
    "sum = 0\n",
    "while count <= 100:\n",
    "    sum = sum+count\n",
    "    count = count + 1\n",
    "print(\"1부터 100까지의 합은\", sum, \"입니다.\")"
   ]
  },
  {
   "cell_type": "code",
   "execution_count": 13,
   "id": "5bc9f319",
   "metadata": {},
   "outputs": [
    {
     "name": "stdout",
     "output_type": "stream",
     "text": [
      "암호를 입력하시오: 12345567\n",
      "암호를 입력하시오: pythonisfun\n",
      "로그인 성공\n"
     ]
    }
   ],
   "source": [
    "password = \"\"\n",
    "while password != \"pythonisfun\":\n",
    "    password = input(\"암호를 입력하시오: \")\n",
    "print(\"로그인 성공\")"
   ]
  },
  {
   "cell_type": "markdown",
   "id": "871856ce",
   "metadata": {},
   "source": [
    "## 07. 중첩 반복문"
   ]
  },
  {
   "cell_type": "code",
   "execution_count": 14,
   "id": "17caebac",
   "metadata": {},
   "outputs": [
    {
     "name": "stdout",
     "output_type": "stream",
     "text": [
      "**********\n",
      "**********\n",
      "**********\n",
      "**********\n",
      "**********\n"
     ]
    }
   ],
   "source": [
    "for i in range(5):\n",
    "    for j in range(10):\n",
    "        print(\"*\", end=\"\")\n",
    "    print(\"\")"
   ]
  },
  {
   "cell_type": "code",
   "execution_count": 15,
   "id": "7cf7fa4a",
   "metadata": {},
   "outputs": [
    {
     "name": "stdout",
     "output_type": "stream",
     "text": [
      "*\n",
      "**\n",
      "***\n",
      "****\n",
      "*****\n"
     ]
    }
   ],
   "source": [
    "for i in range(1, 6):\n",
    "    for j in range(1, i+1):\n",
    "        print(\"*\", end=\"\")\n",
    "    print(\"\")"
   ]
  },
  {
   "cell_type": "markdown",
   "id": "543fb3a0",
   "metadata": {},
   "source": [
    "## 08. 무한 반복\n",
    "- 반복이 무한히 발생하는 것\n",
    "- 특정 조건에서 그 무한 반복을 멈추는 것을 생각해줘야 함"
   ]
  },
  {
   "cell_type": "code",
   "execution_count": 16,
   "id": "20cf52f5",
   "metadata": {},
   "outputs": [
    {
     "name": "stdout",
     "output_type": "stream",
     "text": [
      "신호등 색상을 입력하시오:red\n",
      "신호등 색상을 입력하시오:blue\n",
      "전진!!\n"
     ]
    }
   ],
   "source": [
    "sign = True\n",
    "\n",
    "while sign:\n",
    "    light = input(\"신호등 색상을 입력하시오:\")\n",
    "    if light == 'blue':\n",
    "        sign = False\n",
    "print(\"전진!!\")"
   ]
  },
  {
   "cell_type": "markdown",
   "id": "e8cf3205",
   "metadata": {},
   "source": [
    "## 09. break와 continue"
   ]
  },
  {
   "cell_type": "code",
   "execution_count": 17,
   "id": "44297e49",
   "metadata": {},
   "outputs": [
    {
     "name": "stdout",
     "output_type": "stream",
     "text": [
      "전진!!\n"
     ]
    }
   ],
   "source": [
    "while sign:\n",
    "    light = input(\"신호등 색상을 입력하시오:\")\n",
    "    if light == 'blue':\n",
    "        break\n",
    "print(\"전진!!\") "
   ]
  },
  {
   "cell_type": "code",
   "execution_count": 18,
   "id": "7b431312",
   "metadata": {},
   "outputs": [
    {
     "name": "stdout",
     "output_type": "stream",
     "text": [
      "1\n",
      "3\n",
      "5\n",
      "7\n",
      "9\n"
     ]
    }
   ],
   "source": [
    "for n in range(10):\n",
    "    if n % 2 == 0:\n",
    "        continue\n",
    "    print(n)"
   ]
  },
  {
   "cell_type": "markdown",
   "id": "73a1bcf4",
   "metadata": {},
   "source": [
    "## Lab. 코드를 줄여보아요."
   ]
  },
  {
   "cell_type": "code",
   "execution_count": 19,
   "id": "f985cd39",
   "metadata": {},
   "outputs": [],
   "source": [
    "# import turtle\n",
    "# t = turtle.Turtle()\t\n",
    "# for count in range(6):\n",
    "#     t.circle(100)\n",
    "#     t.left(360/6)"
   ]
  },
  {
   "cell_type": "markdown",
   "id": "f3bb2a90",
   "metadata": {},
   "source": [
    "## Lab. 도돌이표"
   ]
  },
  {
   "cell_type": "code",
   "execution_count": 20,
   "id": "a90c33ea",
   "metadata": {},
   "outputs": [
    {
     "name": "stdout",
     "output_type": "stream",
     "text": [
      "연주 순서\n",
      "A B C D C D "
     ]
    }
   ],
   "source": [
    "print(\"연주 순서\")\n",
    "print(\"A\", end=\" \")\n",
    "print(\"B\", end=\" \")\n",
    "\n",
    "for i in range(2):\n",
    "    print(\"C\", end=\" \")\n",
    "    print(\"D\", end=\" \")"
   ]
  },
  {
   "cell_type": "markdown",
   "id": "78159e23",
   "metadata": {},
   "source": [
    "## Lab. n각형 그리기"
   ]
  },
  {
   "cell_type": "code",
   "execution_count": 21,
   "id": "ae2f998a",
   "metadata": {},
   "outputs": [],
   "source": [
    "# import turtle\n",
    "# t = turtle.Turtle()\n",
    "# t.shape(\"turtle\")\n",
    "\n",
    "# s = turtle.textinput(\"\", \"몇 각형을 원하시나요?:\")\n",
    "# n = int(s)\n",
    "\n",
    "# for i in range(n):\n",
    "#     t.forward(100)\n",
    "#     t.left(360/n)"
   ]
  },
  {
   "cell_type": "markdown",
   "id": "fde78d79",
   "metadata": {},
   "source": [
    "## Lab. 랜덤 워크 시뮬레이션"
   ]
  },
  {
   "cell_type": "code",
   "execution_count": 22,
   "id": "bc7af1cd",
   "metadata": {},
   "outputs": [],
   "source": [
    "# import turtle\n",
    "# import random\n",
    "# t = turtle.Turtle( )\n",
    "# t.shape(\"turtle\")\n",
    "\n",
    "# for i in range(30):\t\t\n",
    "#    length = random.randint(1, 100)\n",
    "#    t.forward(length)\n",
    "#    angle = random.randint(-180, 180)\n",
    "#    t.right(angle) "
   ]
  },
  {
   "cell_type": "markdown",
   "id": "641b6616",
   "metadata": {},
   "source": [
    "## Lab. 범인 찾기 게임"
   ]
  },
  {
   "cell_type": "code",
   "execution_count": 23,
   "id": "c69c8f3b",
   "metadata": {},
   "outputs": [
    {
     "name": "stdout",
     "output_type": "stream",
     "text": [
      "방 번호를 입력 하세요: 1\n",
      "범인 체포!\n",
      "게임 종료\n",
      "점수: 10 점\n"
     ]
    }
   ],
   "source": [
    "import random\n",
    "score = 0\n",
    "\n",
    "while True :\n",
    "    room = random.randint(1, 3)\n",
    "    n = int(input(\"방 번호를 입력 하세요: \"))\n",
    "\n",
    "    if n == room :\n",
    "        print(\"범인 체포!\")\n",
    "        score += 10\n",
    "        break\n",
    "    elif n > 3 :\n",
    "        print(n,\"번 방은 없습니다.\")\n",
    "    else:\n",
    "        print(\"범인이 없습니다.\")\n",
    "        score -= 10\n",
    "\n",
    "\n",
    "print(\"게임 종료\")\n",
    "print(\"점수:\", score,\"점\")"
   ]
  },
  {
   "cell_type": "markdown",
   "id": "36db2823",
   "metadata": {},
   "source": [
    "## Lab. 몬드리안 터틀"
   ]
  },
  {
   "cell_type": "code",
   "execution_count": 24,
   "id": "cfb32ea6",
   "metadata": {},
   "outputs": [
    {
     "ename": "Terminator",
     "evalue": "",
     "output_type": "error",
     "traceback": [
      "\u001b[1;31m---------------------------------------------------------------------------\u001b[0m",
      "\u001b[1;31mTerminator\u001b[0m                                Traceback (most recent call last)",
      "\u001b[1;32m<ipython-input-24-c4bd11542580>\u001b[0m in \u001b[0;36m<module>\u001b[1;34m\u001b[0m\n\u001b[0;32m     20\u001b[0m     \u001b[1;32mfor\u001b[0m \u001b[0mj\u001b[0m \u001b[1;32min\u001b[0m \u001b[0mrange\u001b[0m\u001b[1;33m(\u001b[0m\u001b[1;36m4\u001b[0m\u001b[1;33m)\u001b[0m \u001b[1;33m:\u001b[0m      \u001b[1;31m# 사각형을 그린다.\u001b[0m\u001b[1;33m\u001b[0m\u001b[1;33m\u001b[0m\u001b[0m\n\u001b[0;32m     21\u001b[0m         \u001b[0mt\u001b[0m\u001b[1;33m.\u001b[0m\u001b[0mforward\u001b[0m\u001b[1;33m(\u001b[0m\u001b[0mlength\u001b[0m\u001b[1;33m)\u001b[0m\u001b[1;33m\u001b[0m\u001b[1;33m\u001b[0m\u001b[0m\n\u001b[1;32m---> 22\u001b[1;33m         \u001b[0mt\u001b[0m\u001b[1;33m.\u001b[0m\u001b[0mright\u001b[0m\u001b[1;33m(\u001b[0m\u001b[1;36m90\u001b[0m\u001b[1;33m)\u001b[0m\u001b[1;33m\u001b[0m\u001b[1;33m\u001b[0m\u001b[0m\n\u001b[0m\u001b[0;32m     23\u001b[0m     \u001b[0mt\u001b[0m\u001b[1;33m.\u001b[0m\u001b[0mend_fill\u001b[0m\u001b[1;33m(\u001b[0m \u001b[1;33m)\u001b[0m\u001b[1;33m\u001b[0m\u001b[1;33m\u001b[0m\u001b[0m\n",
      "\u001b[1;32mC:\\ProgramData\\Anaconda3\\envs\\py3_7_6\\lib\\turtle.py\u001b[0m in \u001b[0;36mright\u001b[1;34m(self, angle)\u001b[0m\n\u001b[0;32m   1676\u001b[0m         \u001b[1;36m337.0\u001b[0m\u001b[1;33m\u001b[0m\u001b[1;33m\u001b[0m\u001b[0m\n\u001b[0;32m   1677\u001b[0m         \"\"\"\n\u001b[1;32m-> 1678\u001b[1;33m         \u001b[0mself\u001b[0m\u001b[1;33m.\u001b[0m\u001b[0m_rotate\u001b[0m\u001b[1;33m(\u001b[0m\u001b[1;33m-\u001b[0m\u001b[0mangle\u001b[0m\u001b[1;33m)\u001b[0m\u001b[1;33m\u001b[0m\u001b[1;33m\u001b[0m\u001b[0m\n\u001b[0m\u001b[0;32m   1679\u001b[0m \u001b[1;33m\u001b[0m\u001b[0m\n\u001b[0;32m   1680\u001b[0m     \u001b[1;32mdef\u001b[0m \u001b[0mleft\u001b[0m\u001b[1;33m(\u001b[0m\u001b[0mself\u001b[0m\u001b[1;33m,\u001b[0m \u001b[0mangle\u001b[0m\u001b[1;33m)\u001b[0m\u001b[1;33m:\u001b[0m\u001b[1;33m\u001b[0m\u001b[1;33m\u001b[0m\u001b[0m\n",
      "\u001b[1;32mC:\\ProgramData\\Anaconda3\\envs\\py3_7_6\\lib\\turtle.py\u001b[0m in \u001b[0;36m_rotate\u001b[1;34m(self, angle)\u001b[0m\n\u001b[0;32m   3274\u001b[0m             \u001b[1;32mfor\u001b[0m \u001b[0m_\u001b[0m \u001b[1;32min\u001b[0m \u001b[0mrange\u001b[0m\u001b[1;33m(\u001b[0m\u001b[0msteps\u001b[0m\u001b[1;33m)\u001b[0m\u001b[1;33m:\u001b[0m\u001b[1;33m\u001b[0m\u001b[1;33m\u001b[0m\u001b[0m\n\u001b[0;32m   3275\u001b[0m                 \u001b[0mself\u001b[0m\u001b[1;33m.\u001b[0m\u001b[0m_orient\u001b[0m \u001b[1;33m=\u001b[0m \u001b[0mself\u001b[0m\u001b[1;33m.\u001b[0m\u001b[0m_orient\u001b[0m\u001b[1;33m.\u001b[0m\u001b[0mrotate\u001b[0m\u001b[1;33m(\u001b[0m\u001b[0mdelta\u001b[0m\u001b[1;33m)\u001b[0m\u001b[1;33m\u001b[0m\u001b[1;33m\u001b[0m\u001b[0m\n\u001b[1;32m-> 3276\u001b[1;33m                 \u001b[0mself\u001b[0m\u001b[1;33m.\u001b[0m\u001b[0m_update\u001b[0m\u001b[1;33m(\u001b[0m\u001b[1;33m)\u001b[0m\u001b[1;33m\u001b[0m\u001b[1;33m\u001b[0m\u001b[0m\n\u001b[0m\u001b[0;32m   3277\u001b[0m         \u001b[0mself\u001b[0m\u001b[1;33m.\u001b[0m\u001b[0m_orient\u001b[0m \u001b[1;33m=\u001b[0m \u001b[0mneworient\u001b[0m\u001b[1;33m\u001b[0m\u001b[1;33m\u001b[0m\u001b[0m\n\u001b[0;32m   3278\u001b[0m         \u001b[0mself\u001b[0m\u001b[1;33m.\u001b[0m\u001b[0m_update\u001b[0m\u001b[1;33m(\u001b[0m\u001b[1;33m)\u001b[0m\u001b[1;33m\u001b[0m\u001b[1;33m\u001b[0m\u001b[0m\n",
      "\u001b[1;32mC:\\ProgramData\\Anaconda3\\envs\\py3_7_6\\lib\\turtle.py\u001b[0m in \u001b[0;36m_update\u001b[1;34m(self)\u001b[0m\n\u001b[0;32m   2658\u001b[0m             \u001b[1;32mreturn\u001b[0m\u001b[1;33m\u001b[0m\u001b[1;33m\u001b[0m\u001b[0m\n\u001b[0;32m   2659\u001b[0m         \u001b[1;32melif\u001b[0m \u001b[0mscreen\u001b[0m\u001b[1;33m.\u001b[0m\u001b[0m_tracing\u001b[0m \u001b[1;33m==\u001b[0m \u001b[1;36m1\u001b[0m\u001b[1;33m:\u001b[0m\u001b[1;33m\u001b[0m\u001b[1;33m\u001b[0m\u001b[0m\n\u001b[1;32m-> 2660\u001b[1;33m             \u001b[0mself\u001b[0m\u001b[1;33m.\u001b[0m\u001b[0m_update_data\u001b[0m\u001b[1;33m(\u001b[0m\u001b[1;33m)\u001b[0m\u001b[1;33m\u001b[0m\u001b[1;33m\u001b[0m\u001b[0m\n\u001b[0m\u001b[0;32m   2661\u001b[0m             \u001b[0mself\u001b[0m\u001b[1;33m.\u001b[0m\u001b[0m_drawturtle\u001b[0m\u001b[1;33m(\u001b[0m\u001b[1;33m)\u001b[0m\u001b[1;33m\u001b[0m\u001b[1;33m\u001b[0m\u001b[0m\n\u001b[0;32m   2662\u001b[0m             \u001b[0mscreen\u001b[0m\u001b[1;33m.\u001b[0m\u001b[0m_update\u001b[0m\u001b[1;33m(\u001b[0m\u001b[1;33m)\u001b[0m                  \u001b[1;31m# TurtleScreenBase\u001b[0m\u001b[1;33m\u001b[0m\u001b[1;33m\u001b[0m\u001b[0m\n",
      "\u001b[1;32mC:\\ProgramData\\Anaconda3\\envs\\py3_7_6\\lib\\turtle.py\u001b[0m in \u001b[0;36m_update_data\u001b[1;34m(self)\u001b[0m\n\u001b[0;32m   2644\u001b[0m \u001b[1;33m\u001b[0m\u001b[0m\n\u001b[0;32m   2645\u001b[0m     \u001b[1;32mdef\u001b[0m \u001b[0m_update_data\u001b[0m\u001b[1;33m(\u001b[0m\u001b[0mself\u001b[0m\u001b[1;33m)\u001b[0m\u001b[1;33m:\u001b[0m\u001b[1;33m\u001b[0m\u001b[1;33m\u001b[0m\u001b[0m\n\u001b[1;32m-> 2646\u001b[1;33m         \u001b[0mself\u001b[0m\u001b[1;33m.\u001b[0m\u001b[0mscreen\u001b[0m\u001b[1;33m.\u001b[0m\u001b[0m_incrementudc\u001b[0m\u001b[1;33m(\u001b[0m\u001b[1;33m)\u001b[0m\u001b[1;33m\u001b[0m\u001b[1;33m\u001b[0m\u001b[0m\n\u001b[0m\u001b[0;32m   2647\u001b[0m         \u001b[1;32mif\u001b[0m \u001b[0mself\u001b[0m\u001b[1;33m.\u001b[0m\u001b[0mscreen\u001b[0m\u001b[1;33m.\u001b[0m\u001b[0m_updatecounter\u001b[0m \u001b[1;33m!=\u001b[0m \u001b[1;36m0\u001b[0m\u001b[1;33m:\u001b[0m\u001b[1;33m\u001b[0m\u001b[1;33m\u001b[0m\u001b[0m\n\u001b[0;32m   2648\u001b[0m             \u001b[1;32mreturn\u001b[0m\u001b[1;33m\u001b[0m\u001b[1;33m\u001b[0m\u001b[0m\n",
      "\u001b[1;32mC:\\ProgramData\\Anaconda3\\envs\\py3_7_6\\lib\\turtle.py\u001b[0m in \u001b[0;36m_incrementudc\u001b[1;34m(self)\u001b[0m\n\u001b[0;32m   1290\u001b[0m         \u001b[1;32mif\u001b[0m \u001b[1;32mnot\u001b[0m \u001b[0mTurtleScreen\u001b[0m\u001b[1;33m.\u001b[0m\u001b[0m_RUNNING\u001b[0m\u001b[1;33m:\u001b[0m\u001b[1;33m\u001b[0m\u001b[1;33m\u001b[0m\u001b[0m\n\u001b[0;32m   1291\u001b[0m             \u001b[0mTurtleScreen\u001b[0m\u001b[1;33m.\u001b[0m\u001b[0m_RUNNING\u001b[0m \u001b[1;33m=\u001b[0m \u001b[1;32mTrue\u001b[0m\u001b[1;33m\u001b[0m\u001b[1;33m\u001b[0m\u001b[0m\n\u001b[1;32m-> 1292\u001b[1;33m             \u001b[1;32mraise\u001b[0m \u001b[0mTerminator\u001b[0m\u001b[1;33m\u001b[0m\u001b[1;33m\u001b[0m\u001b[0m\n\u001b[0m\u001b[0;32m   1293\u001b[0m         \u001b[1;32mif\u001b[0m \u001b[0mself\u001b[0m\u001b[1;33m.\u001b[0m\u001b[0m_tracing\u001b[0m \u001b[1;33m>\u001b[0m \u001b[1;36m0\u001b[0m\u001b[1;33m:\u001b[0m\u001b[1;33m\u001b[0m\u001b[1;33m\u001b[0m\u001b[0m\n\u001b[0;32m   1294\u001b[0m             \u001b[0mself\u001b[0m\u001b[1;33m.\u001b[0m\u001b[0m_updatecounter\u001b[0m \u001b[1;33m+=\u001b[0m \u001b[1;36m1\u001b[0m\u001b[1;33m\u001b[0m\u001b[1;33m\u001b[0m\u001b[0m\n",
      "\u001b[1;31mTerminator\u001b[0m: "
     ]
    }
   ],
   "source": [
    "# import turtle, random\n",
    "\n",
    "# t = turtle.Turtle( )\n",
    "# t.pensize(3)\n",
    "\n",
    "# for i in range(20) :\t\t# 20개의 도형을 만듭니다.\n",
    "#     r = random.random( )      # 0.0에서 1.0 사이의 난수 값 생성\n",
    "#     g = random.random( )\n",
    "#     b = random.random( )\n",
    "\n",
    "#     x = random.randint(-300,300)      # -300에서 300 사이의 난수 값 생성\n",
    "#     y = random.randint(-300,300)\n",
    "#     length = random.randint(10,300)\n",
    "\n",
    "#     t.penup()\n",
    "#     t.goto(x,y)\n",
    "#     t.pendown()\n",
    "#     t.color(r, g, b)\n",
    "#     t.begin_fill( )\n",
    "#     for j in range(4) :      # 사각형을 그린다. \n",
    "#         t.forward(length)\n",
    "#         t.right(90)\n",
    "#     t.end_fill( )"
   ]
  },
  {
   "cell_type": "markdown",
   "id": "a97e2a33",
   "metadata": {},
   "source": [
    "## Lab. 모든 약수 구하기"
   ]
  },
  {
   "cell_type": "code",
   "execution_count": 25,
   "id": "44e9df50",
   "metadata": {},
   "outputs": [
    {
     "name": "stdout",
     "output_type": "stream",
     "text": [
      "자연수 입력: 6\n",
      "1 2 3 6 "
     ]
    }
   ],
   "source": [
    "n = int(input(\"자연수 입력: \"))\n",
    "\n",
    "for m in range(1, n+1):\n",
    "    if n % m == 0 :\n",
    "        print(m, end=\" \")"
   ]
  },
  {
   "cell_type": "markdown",
   "id": "3f2c8fee",
   "metadata": {},
   "source": [
    "## Lab. 최대공약수 구하기"
   ]
  },
  {
   "cell_type": "code",
   "execution_count": 27,
   "id": "ad5abb3e",
   "metadata": {},
   "outputs": [
    {
     "name": "stdout",
     "output_type": "stream",
     "text": [
      "정수1 입력: 100\n",
      "정수2 입력: 722\n",
      "두 수의 최대공약수: 2\n"
     ]
    }
   ],
   "source": [
    "n = int(input(\"정수1 입력: \"))\n",
    "m = int(input(\"정수2 입력: \"))\n",
    "\n",
    "if n < m :\n",
    "        n, m = m, n\n",
    "\n",
    "while m > 0 :\n",
    "        r = n % m\n",
    "        n, m = m, r\n",
    "        \n",
    "if n != 1 :\n",
    "        print(\"두 수의 최대공약수:\", n)\n",
    "else:\n",
    "        print(\"두 수는 서로소이다\")"
   ]
  },
  {
   "cell_type": "code",
   "execution_count": 28,
   "id": "d0dce47f",
   "metadata": {},
   "outputs": [
    {
     "name": "stdout",
     "output_type": "stream",
     "text": [
      "정수1 입력: 3\n",
      "정수2 입력: 5\n",
      "두 수는 서로소이다\n"
     ]
    }
   ],
   "source": [
    "n = int(input(\"정수1 입력: \"))\n",
    "m = int(input(\"정수2 입력: \"))\n",
    "\n",
    "if n < m :\n",
    "        n, m = m, n\n",
    "\n",
    "while m > 0 :\n",
    "        r = n % m\n",
    "        n, m = m, r\n",
    "        \n",
    "if n != 1 :\n",
    "        print(\"두 수의 최대공약수:\", n)\n",
    "else:\n",
    "        print(\"두 수는 서로소이다\")"
   ]
  },
  {
   "cell_type": "markdown",
   "id": "8846b146",
   "metadata": {},
   "source": [
    "## Lab. 별 그리는 터틀"
   ]
  },
  {
   "cell_type": "code",
   "execution_count": 29,
   "id": "0cfdea46",
   "metadata": {},
   "outputs": [],
   "source": [
    "# import turtle\n",
    "# t = turtle.Turtle()\n",
    "# t.color(\"blue\")\n",
    "# t.shape(\"turtle\")\n",
    "\n",
    "# i = 0\n",
    "# while i < 5:\n",
    "#     t.forward(50)\n",
    "#     t.right(144)\n",
    "#     i = i + 1"
   ]
  },
  {
   "cell_type": "markdown",
   "id": "97c7cae4",
   "metadata": {},
   "source": [
    "## Lab. 숫자 맞추기 게임"
   ]
  },
  {
   "cell_type": "code",
   "execution_count": 30,
   "id": "a772259d",
   "metadata": {},
   "outputs": [
    {
     "name": "stdout",
     "output_type": "stream",
     "text": [
      "1부터 100 사이의 숫자를 맞추시오\n",
      "숫자를 입력하시오: 50\n",
      "낮음!\n",
      "숫자를 입력하시오: 86\n",
      "높음!\n",
      "숫자를 입력하시오: 87\n",
      "높음!\n",
      "숫자를 입력하시오: 60\n",
      "낮음!\n",
      "숫자를 입력하시오: 70\n",
      "낮음!\n",
      "숫자를 입력하시오: 85\n",
      "축하합니다. 시도횟수= 6\n"
     ]
    }
   ],
   "source": [
    "import random\n",
    "\n",
    "tries = 1\t\t# 게임 시도 횟수를 저장합니다.\n",
    "guess = 0\t\t# 사용자가 입력한 수를 저장합니다.\n",
    "answer = random.randint(1, 100)\t# 1~100 사이의 임의의 수를 저장합니다.\n",
    "\n",
    "\n",
    "print(\"1부터 100 사이의 숫자를 맞추시오\")\n",
    "guess = int(input(\"숫자를 입력하시오: \"))\n",
    "\n",
    "while guess != answer:\n",
    "   tries = tries + 1\n",
    "   if guess < answer:\n",
    "       print(\"낮음!\")\n",
    "   elif guess > answer:\n",
    "       print(\"높음!\")\n",
    "       \n",
    "   guess = int(input(\"숫자를 입력하시오: \"))\n",
    "\n",
    "if guess == answer:\n",
    "    print(\"축하합니다. 시도횟수=\", tries)"
   ]
  },
  {
   "cell_type": "markdown",
   "id": "0d36833d",
   "metadata": {},
   "source": [
    "--- seYi"
   ]
  }
 ],
 "metadata": {
  "kernelspec": {
   "display_name": "python3_7_6",
   "language": "python",
   "name": "py3_7_6"
  },
  "language_info": {
   "codemirror_mode": {
    "name": "ipython",
    "version": 3
   },
   "file_extension": ".py",
   "mimetype": "text/x-python",
   "name": "python",
   "nbconvert_exporter": "python",
   "pygments_lexer": "ipython3",
   "version": "3.7.6"
  }
 },
 "nbformat": 4,
 "nbformat_minor": 5
}
