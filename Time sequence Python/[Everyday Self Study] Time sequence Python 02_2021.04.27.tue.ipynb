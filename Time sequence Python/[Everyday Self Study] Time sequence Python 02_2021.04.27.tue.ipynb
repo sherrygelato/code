{
 "cells": [
  {
   "cell_type": "markdown",
   "id": "da138e5c",
   "metadata": {},
   "source": [
    "# 2장. 변수를 소개합니다"
   ]
  },
  {
   "cell_type": "markdown",
   "id": "90fb5354",
   "metadata": {},
   "source": [
    "## 01. 변수가 무엇이죠?"
   ]
  },
  {
   "cell_type": "code",
   "execution_count": 1,
   "id": "059aa7ad",
   "metadata": {},
   "outputs": [
    {
     "name": "stdout",
     "output_type": "stream",
     "text": [
      "100\n"
     ]
    }
   ],
   "source": [
    "x = 100\n",
    "print(x)"
   ]
  },
  {
   "cell_type": "markdown",
   "id": "0da0df23",
   "metadata": {},
   "source": [
    "## 02. 변수는 수를 저장합니다."
   ]
  },
  {
   "cell_type": "code",
   "execution_count": 2,
   "id": "b2b42e3a",
   "metadata": {},
   "outputs": [
    {
     "name": "stdout",
     "output_type": "stream",
     "text": [
      "200\n"
     ]
    }
   ],
   "source": [
    "x = 100\n",
    "x = 200\n",
    "print(x)"
   ]
  },
  {
   "cell_type": "code",
   "execution_count": 3,
   "id": "49a1789c",
   "metadata": {},
   "outputs": [
    {
     "name": "stdout",
     "output_type": "stream",
     "text": [
      "300\n"
     ]
    }
   ],
   "source": [
    "x = 100\n",
    "y = 200\n",
    "sum = x+y\n",
    "print(sum)"
   ]
  },
  {
   "cell_type": "markdown",
   "id": "356d9c4a",
   "metadata": {},
   "source": [
    "## 03. '='는 특별해요\n",
    "- 대입을 뜻함"
   ]
  },
  {
   "cell_type": "code",
   "execution_count": 4,
   "id": "9a0818e7",
   "metadata": {},
   "outputs": [
    {
     "name": "stdout",
     "output_type": "stream",
     "text": [
      "x= 200\n",
      "y= 200\n"
     ]
    }
   ],
   "source": [
    "x = 100\n",
    "y = 200\n",
    "x = y\n",
    "print('x=',x)\n",
    "print('y=',y)"
   ]
  },
  {
   "cell_type": "code",
   "execution_count": 5,
   "id": "055b72f4",
   "metadata": {},
   "outputs": [
    {
     "name": "stdout",
     "output_type": "stream",
     "text": [
      "11\n"
     ]
    }
   ],
   "source": [
    "score = 10\n",
    "score = score + 1\n",
    "print(score)"
   ]
  },
  {
   "cell_type": "markdown",
   "id": "8d4c720f",
   "metadata": {},
   "source": [
    "## 04. 변수는 문자열을 저장합니다"
   ]
  },
  {
   "cell_type": "code",
   "execution_count": 6,
   "id": "ecec5bc9",
   "metadata": {},
   "outputs": [
    {
     "name": "stdout",
     "output_type": "stream",
     "text": [
      "홍길동\n",
      "성춘향\n",
      "서울시 종로구 1번지\n"
     ]
    }
   ],
   "source": [
    "name1 = '홍길동'\n",
    "name2 = '성춘향'\n",
    "address = '서울시 종로구 1번지'\n",
    "\n",
    "print(name1)\n",
    "print(name2)\n",
    "print(address)"
   ]
  },
  {
   "cell_type": "code",
   "execution_count": 7,
   "id": "433ecd47",
   "metadata": {},
   "outputs": [
    {
     "name": "stdout",
     "output_type": "stream",
     "text": [
      "2345\n",
      "79\n"
     ]
    }
   ],
   "source": [
    "print('23'+'45')\n",
    "print(23+56)"
   ]
  },
  {
   "cell_type": "markdown",
   "id": "02373408",
   "metadata": {},
   "source": [
    "## 05. 변수의 이름 짓기\n",
    "- 규칙:\\\n",
    "1) 영문자와 숫자, 언더바(_) 이용\\\n",
    "2) 중간에 공백이 있어선 안됨\\\n",
    "3) 숫자로 시작할 수 없음\\\n",
    "4) 영문자는 대/소문자를 구별함"
   ]
  },
  {
   "cell_type": "markdown",
   "id": "2bd6db6f",
   "metadata": {},
   "source": [
    "## 06. 한 번에 여러 값을 출력하기"
   ]
  },
  {
   "cell_type": "code",
   "execution_count": 8,
   "id": "8f14034c",
   "metadata": {},
   "outputs": [
    {
     "name": "stdout",
     "output_type": "stream",
     "text": [
      "100 과 200 의 합은 300 입니다.\n"
     ]
    }
   ],
   "source": [
    "x = 100\n",
    "y = 200\n",
    "sum = x+y\n",
    "print(x,'과',y,'의 합은', sum,'입니다.')"
   ]
  },
  {
   "cell_type": "markdown",
   "id": "a2d3c9e5",
   "metadata": {},
   "source": [
    "## 07. 문자열 입력받기"
   ]
  },
  {
   "cell_type": "code",
   "execution_count": 9,
   "id": "e4bbdec5",
   "metadata": {},
   "outputs": [
    {
     "name": "stdout",
     "output_type": "stream",
     "text": [
      "5\n"
     ]
    }
   ],
   "source": [
    "a = input()"
   ]
  },
  {
   "cell_type": "code",
   "execution_count": 10,
   "id": "c141efd0",
   "metadata": {},
   "outputs": [
    {
     "data": {
      "text/plain": [
       "'5'"
      ]
     },
     "execution_count": 10,
     "metadata": {},
     "output_type": "execute_result"
    }
   ],
   "source": [
    "a"
   ]
  },
  {
   "cell_type": "code",
   "execution_count": 11,
   "id": "4574bb6f",
   "metadata": {},
   "outputs": [
    {
     "name": "stdout",
     "output_type": "stream",
     "text": [
      "입력Hello\n"
     ]
    }
   ],
   "source": [
    "a = input('입력')"
   ]
  },
  {
   "cell_type": "code",
   "execution_count": 12,
   "id": "b774484e",
   "metadata": {},
   "outputs": [
    {
     "data": {
      "text/plain": [
       "'Hello'"
      ]
     },
     "execution_count": 12,
     "metadata": {},
     "output_type": "execute_result"
    }
   ],
   "source": [
    "a"
   ]
  },
  {
   "cell_type": "code",
   "execution_count": 13,
   "id": "408f2c33",
   "metadata": {},
   "outputs": [
    {
     "name": "stdout",
     "output_type": "stream",
     "text": [
      "이름을 입력하시오:홍길동\n",
      "홍길동 씨, 안녕하세요?\n",
      "파이썬에 오신 것을 환영합니다.\n"
     ]
    }
   ],
   "source": [
    "name = input('이름을 입력하시오:')\n",
    "print(name, '씨, 안녕하세요?')\n",
    "print(\"파이썬에 오신 것을 환영합니다.\")"
   ]
  },
  {
   "cell_type": "markdown",
   "id": "7b38b0a1",
   "metadata": {},
   "source": [
    "## 08. 수 입력받기"
   ]
  },
  {
   "cell_type": "code",
   "execution_count": 15,
   "id": "7f8e9330",
   "metadata": {},
   "outputs": [
    {
     "name": "stdout",
     "output_type": "stream",
     "text": [
      "첫 번째 정수를 입력하시오:300\n",
      "두 번째 정수를 입력하시오:400\n",
      "300 과 400 의 합은 700 입니다.\n"
     ]
    }
   ],
   "source": [
    "x = int(input('첫 번째 정수를 입력하시오:'))\n",
    "y = int(input('두 번째 정수를 입력하시오:'))\n",
    "sum = x + y\n",
    "print(x,'과', y, '의 합은', sum, '입니다.')"
   ]
  },
  {
   "cell_type": "code",
   "execution_count": 16,
   "id": "d4ed9c29",
   "metadata": {},
   "outputs": [
    {
     "name": "stdout",
     "output_type": "stream",
     "text": [
      "첫 번째 정수를 입력하시오:300\n",
      "두 번째 정수를 입력하시오:400\n",
      "300 + 400 = 700\n",
      "300 - 400 = -100\n",
      "300 * 400 = 120000\n",
      "300 / 400 = 0.75\n"
     ]
    }
   ],
   "source": [
    "x = int(input('첫 번째 정수를 입력하시오:'))\n",
    "y = int(input('두 번째 정수를 입력하시오:'))\n",
    "\n",
    "print(x,\"+\", y, \"=\", x + y)\n",
    "print(x,\"-\", y, \"=\", x - y)\n",
    "print(x,\"*\", y, \"=\", x * y)\n",
    "print(x,\"/\", y, \"=\", x / y)"
   ]
  },
  {
   "cell_type": "markdown",
   "id": "cfede0cd",
   "metadata": {},
   "source": [
    "## Lab. 변수는 어디에 유용할까?"
   ]
  },
  {
   "cell_type": "code",
   "execution_count": 17,
   "id": "e6b8c43b",
   "metadata": {},
   "outputs": [
    {
     "name": "stdout",
     "output_type": "stream",
     "text": [
      "반지름이 10인 원의 넓이: 314.0\n",
      "반지름이 20인 원의 넓이: 1256.0\n",
      "반지름이 30인 원의 넓이: 2826.0\n",
      "반지름이 40인 원의 넓이: 5024.0\n",
      "반지름이 50인 원의 넓이: 7850.0\n"
     ]
    }
   ],
   "source": [
    "print(\"반지름이 10인 원의 넓이:\", 10 * 10 * 3.14)\n",
    "print(\"반지름이 20인 원의 넓이:\", 20 * 20 * 3.14)\n",
    "print(\"반지름이 30인 원의 넓이:\", 30 * 30 * 3.14)\n",
    "print(\"반지름이 40인 원의 넓이:\", 40 * 40 * 3.14)\n",
    "print(\"반지름이 50인 원의 넓이:\", 50 * 50 * 3.14)"
   ]
  },
  {
   "cell_type": "markdown",
   "id": "5db8896f",
   "metadata": {},
   "source": [
    "## Lab. 내가 원하는 원 그리기"
   ]
  },
  {
   "cell_type": "code",
   "execution_count": 18,
   "id": "7e595b92",
   "metadata": {},
   "outputs": [],
   "source": [
    "# import turtle\n",
    "# t = turtle.Turtle()\n",
    "# t.shape(\"turtle\")\n",
    "\n",
    "# radius = int(input(\"원의 반지름을 입력하시오: \"))\n",
    "# color = input(\"원의 색깔을 입력하시오: \")\n",
    "# t.color(color)\n",
    "# t.begin_fill()\n",
    "# t.circle(radius)\n",
    "# t.end_fill()"
   ]
  },
  {
   "cell_type": "markdown",
   "id": "30b3e1fc",
   "metadata": {},
   "source": [
    "## Lab. 천둥번개가 발생한 곳은 얼마나 떨어져 있나?"
   ]
  },
  {
   "cell_type": "code",
   "execution_count": 19,
   "id": "8ccd4e0b",
   "metadata": {},
   "outputs": [
    {
     "name": "stdout",
     "output_type": "stream",
     "text": [
      "측정 시간(초) 입력:3\n",
      "자신의 위치에서 번개가 친 장소까지의 거리= 1020 m\n"
     ]
    }
   ],
   "source": [
    "s = int(input(\"측정 시간(초) 입력:\"))\n",
    "d = 340 * s\n",
    "print(\"자신의 위치에서 번개가 친 장소까지의 거리=\", d, \"m\")"
   ]
  },
  {
   "cell_type": "markdown",
   "id": "649588f4",
   "metadata": {},
   "source": [
    "--- seYi"
   ]
  }
 ],
 "metadata": {
  "kernelspec": {
   "display_name": "python3_7_6",
   "language": "python",
   "name": "py3_7_6"
  },
  "language_info": {
   "codemirror_mode": {
    "name": "ipython",
    "version": 3
   },
   "file_extension": ".py",
   "mimetype": "text/x-python",
   "name": "python",
   "nbconvert_exporter": "python",
   "pygments_lexer": "ipython3",
   "version": "3.7.6"
  }
 },
 "nbformat": 4,
 "nbformat_minor": 5
}
