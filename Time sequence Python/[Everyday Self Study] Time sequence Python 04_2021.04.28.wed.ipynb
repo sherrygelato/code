{
 "cells": [
  {
   "cell_type": "markdown",
   "id": "3fb01e00",
   "metadata": {},
   "source": [
    "# 04장. 자료의 종류에는 어떤 것들이 있나요?\n",
    "\n",
    "## 01. 파이썬에서 사용할 수 있는 자료의 종류\n",
    "- 모든 프로그램은 자료(data)를 처리함.\n",
    "- 자료는 종류에 따라 자료형(data type)으로 구분 지어 놓음\n",
    "- 자료형: 정수, 실수, 문자열 등"
   ]
  },
  {
   "cell_type": "code",
   "execution_count": 1,
   "id": "52f6a644",
   "metadata": {},
   "outputs": [
    {
     "name": "stdout",
     "output_type": "stream",
     "text": [
      "x= 10\n",
      "x= 3.14\n",
      "x= Hello World!\n"
     ]
    }
   ],
   "source": [
    "x = 10\n",
    "print('x=',x)\n",
    "\n",
    "x = 3.14\n",
    "print('x=',x)\n",
    "\n",
    "x = 'Hello World!'\n",
    "print('x=',x)"
   ]
  },
  {
   "cell_type": "markdown",
   "id": "6fdf022c",
   "metadata": {},
   "source": [
    "## 02. 정수형과 실수형\n",
    "- 수치형 데이터(정수, 실수, 복소수)는 산술연산을 할 수 있음"
   ]
  },
  {
   "cell_type": "code",
   "execution_count": 4,
   "id": "98ce3781",
   "metadata": {},
   "outputs": [
    {
     "name": "stdout",
     "output_type": "stream",
     "text": [
      "123\n",
      "<class 'int'>\n"
     ]
    }
   ],
   "source": [
    "x = 123\n",
    "print(x)\n",
    "print(type(x))"
   ]
  },
  {
   "cell_type": "code",
   "execution_count": 5,
   "id": "7717abef",
   "metadata": {},
   "outputs": [
    {
     "name": "stdout",
     "output_type": "stream",
     "text": [
      "-123\n",
      "<class 'int'>\n"
     ]
    }
   ],
   "source": [
    "x = -123\n",
    "print(x)\n",
    "print(type(x))"
   ]
  },
  {
   "cell_type": "code",
   "execution_count": 6,
   "id": "011b0455",
   "metadata": {},
   "outputs": [
    {
     "name": "stdout",
     "output_type": "stream",
     "text": [
      "0\n",
      "<class 'int'>\n"
     ]
    }
   ],
   "source": [
    "x = 0\n",
    "print(x)\n",
    "print(type(x))"
   ]
  },
  {
   "cell_type": "code",
   "execution_count": 7,
   "id": "1098d4e1",
   "metadata": {},
   "outputs": [
    {
     "name": "stdout",
     "output_type": "stream",
     "text": [
      "3.14\n",
      "<class 'float'>\n"
     ]
    }
   ],
   "source": [
    "x = 3.14\n",
    "print(x)\n",
    "print(type(x))"
   ]
  },
  {
   "cell_type": "code",
   "execution_count": 8,
   "id": "1ff9268f",
   "metadata": {},
   "outputs": [
    {
     "name": "stdout",
     "output_type": "stream",
     "text": [
      "-3.14\n",
      "<class 'float'>\n"
     ]
    }
   ],
   "source": [
    "x = -3.14\n",
    "print(x)\n",
    "print(type(x))"
   ]
  },
  {
   "cell_type": "code",
   "execution_count": 9,
   "id": "41c0e1d5",
   "metadata": {},
   "outputs": [
    {
     "name": "stdout",
     "output_type": "stream",
     "text": [
      "0.0\n",
      "<class 'float'>\n"
     ]
    }
   ],
   "source": [
    "x = 0.0\n",
    "print(x)\n",
    "print(type(x))"
   ]
  },
  {
   "cell_type": "markdown",
   "id": "84697308",
   "metadata": {},
   "source": [
    "## 03. 문자열이란?\n",
    "- 문자열(string): 문자들의 나열(sequence of characters)\n",
    "- 작은따옴표와 큰따옴표를 사용"
   ]
  },
  {
   "cell_type": "code",
   "execution_count": 11,
   "id": "caf4c3a8",
   "metadata": {},
   "outputs": [
    {
     "data": {
      "text/plain": [
       "'hello'"
      ]
     },
     "execution_count": 11,
     "metadata": {},
     "output_type": "execute_result"
    }
   ],
   "source": [
    "'hello'"
   ]
  },
  {
   "cell_type": "code",
   "execution_count": 12,
   "id": "eefbb9c9",
   "metadata": {},
   "outputs": [
    {
     "data": {
      "text/plain": [
       "'hello'"
      ]
     },
     "execution_count": 12,
     "metadata": {},
     "output_type": "execute_result"
    }
   ],
   "source": [
    "msg = \"hello\"\n",
    "msg"
   ]
  },
  {
   "cell_type": "code",
   "execution_count": 13,
   "id": "f65cac67",
   "metadata": {},
   "outputs": [
    {
     "name": "stdout",
     "output_type": "stream",
     "text": [
      "hello\n"
     ]
    }
   ],
   "source": [
    "print(msg)"
   ]
  },
  {
   "cell_type": "markdown",
   "id": "ab43da33",
   "metadata": {},
   "source": [
    "## 04. 문자열을 만드는 방법\n",
    "- 큰 따옴표나 작은 따옴표를 한 쌍으로 열고 닫음: “ “, ‘ ‘"
   ]
  },
  {
   "cell_type": "code",
   "execution_count": 14,
   "id": "38eb0185",
   "metadata": {},
   "outputs": [
    {
     "ename": "SyntaxError",
     "evalue": "EOL while scanning string literal (<ipython-input-14-a9ad6e48ae0b>, line 1)",
     "output_type": "error",
     "traceback": [
      "\u001b[1;36m  File \u001b[1;32m\"<ipython-input-14-a9ad6e48ae0b>\"\u001b[1;36m, line \u001b[1;32m1\u001b[0m\n\u001b[1;33m    msg = \"hello'\u001b[0m\n\u001b[1;37m                 ^\u001b[0m\n\u001b[1;31mSyntaxError\u001b[0m\u001b[1;31m:\u001b[0m EOL while scanning string literal\n"
     ]
    }
   ],
   "source": [
    "msg = \"hello'"
   ]
  },
  {
   "cell_type": "code",
   "execution_count": 15,
   "id": "3e63bc2e",
   "metadata": {},
   "outputs": [
    {
     "name": "stdout",
     "output_type": "stream",
     "text": [
      "She said 'Hi'\n"
     ]
    }
   ],
   "source": [
    "msg=\"She said 'Hi'\"\n",
    "print(msg)"
   ]
  },
  {
   "cell_type": "markdown",
   "id": "309be89b",
   "metadata": {},
   "source": [
    "## 05. 100과 \"100\"을 구별해요"
   ]
  },
  {
   "cell_type": "code",
   "execution_count": 16,
   "id": "ffa12e59",
   "metadata": {},
   "outputs": [
    {
     "name": "stdout",
     "output_type": "stream",
     "text": [
      "300\n"
     ]
    }
   ],
   "source": [
    "print(100+200)"
   ]
  },
  {
   "cell_type": "code",
   "execution_count": 17,
   "id": "9b12fc15",
   "metadata": {},
   "outputs": [
    {
     "name": "stdout",
     "output_type": "stream",
     "text": [
      "100200\n"
     ]
    }
   ],
   "source": [
    "print(\"100\"+\"200\")"
   ]
  },
  {
   "cell_type": "markdown",
   "id": "d9f911cc",
   "metadata": {},
   "source": [
    "## 06. 문자열을 숫자로 변환\n",
    "- input( )은 사용자가 입력한 데이터를 문자열 형태로 돌려줌"
   ]
  },
  {
   "cell_type": "code",
   "execution_count": 18,
   "id": "47184b0d",
   "metadata": {},
   "outputs": [
    {
     "name": "stdout",
     "output_type": "stream",
     "text": [
      "정수를 입력하시오: 100\n",
      "정수를 입력하시오: 200\n",
      "300\n"
     ]
    }
   ],
   "source": [
    "t = input(\"정수를 입력하시오: \")\n",
    "x = int(t)\n",
    "\n",
    "t = input(\"정수를 입력하시오: \")\n",
    "y = int(t)\n",
    "\n",
    "print(x+y)"
   ]
  },
  {
   "cell_type": "code",
   "execution_count": 20,
   "id": "0b8ef9b0",
   "metadata": {},
   "outputs": [
    {
     "name": "stdout",
     "output_type": "stream",
     "text": [
      "실수를 입력하시오: 3.14\n",
      "실수를 입력하시오: 9.87\n",
      "13.01\n"
     ]
    }
   ],
   "source": [
    "x = float(input(\"실수를 입력하시오: \"))\n",
    "y = float(input(\"실수를 입력하시오: \"))\n",
    "\n",
    "print(x+y)"
   ]
  },
  {
   "cell_type": "markdown",
   "id": "2fe68e46",
   "metadata": {},
   "source": [
    "## 07. 숫자를 문자열로 변환"
   ]
  },
  {
   "cell_type": "code",
   "execution_count": 21,
   "id": "91f0726f",
   "metadata": {},
   "outputs": [
    {
     "ename": "TypeError",
     "evalue": "can only concatenate str (not \"int\") to str",
     "output_type": "error",
     "traceback": [
      "\u001b[1;31m---------------------------------------------------------------------------\u001b[0m",
      "\u001b[1;31mTypeError\u001b[0m                                 Traceback (most recent call last)",
      "\u001b[1;32m<ipython-input-21-108880556c04>\u001b[0m in \u001b[0;36m<module>\u001b[1;34m\u001b[0m\n\u001b[1;32m----> 1\u001b[1;33m \u001b[0mprint\u001b[0m\u001b[1;33m(\u001b[0m\u001b[1;34m\"나는 현재\"\u001b[0m \u001b[1;33m+\u001b[0m \u001b[1;36m17\u001b[0m \u001b[1;33m+\u001b[0m \u001b[1;34m\"살이다.\"\u001b[0m\u001b[1;33m)\u001b[0m\u001b[1;33m\u001b[0m\u001b[1;33m\u001b[0m\u001b[0m\n\u001b[0m",
      "\u001b[1;31mTypeError\u001b[0m: can only concatenate str (not \"int\") to str"
     ]
    }
   ],
   "source": [
    "print(\"나는 현재\" + 17 + \"살이다.\")"
   ]
  },
  {
   "cell_type": "code",
   "execution_count": 23,
   "id": "30885bb7",
   "metadata": {},
   "outputs": [
    {
     "name": "stdout",
     "output_type": "stream",
     "text": [
      "나는 현재 17살이다.\n"
     ]
    }
   ],
   "source": [
    "print(\"나는 현재 \" + str(17) + \"살이다.\")"
   ]
  },
  {
   "cell_type": "code",
   "execution_count": 24,
   "id": "3782136a",
   "metadata": {},
   "outputs": [
    {
     "name": "stdout",
     "output_type": "stream",
     "text": [
      "원주율은 3.14입니다.\n"
     ]
    }
   ],
   "source": [
    "print(\"원주율은 \" + str(3.14) + \"입니다.\")"
   ]
  },
  {
   "cell_type": "markdown",
   "id": "15fe5e00",
   "metadata": {},
   "source": [
    "## 08. 파이썬은 문자열 처리의 마술사"
   ]
  },
  {
   "cell_type": "code",
   "execution_count": 25,
   "id": "be725af4",
   "metadata": {},
   "outputs": [
    {
     "data": {
      "text/plain": [
       "'HelloWorld'"
      ]
     },
     "execution_count": 25,
     "metadata": {},
     "output_type": "execute_result"
    }
   ],
   "source": [
    "'Hello' + 'World'"
   ]
  },
  {
   "cell_type": "code",
   "execution_count": 26,
   "id": "db5de285",
   "metadata": {},
   "outputs": [
    {
     "name": "stdout",
     "output_type": "stream",
     "text": [
      "홍길동\n"
     ]
    }
   ],
   "source": [
    "fist_name = '길동'\n",
    "lask_name = '홍'\n",
    "\n",
    "name = lask_name+fist_name\n",
    "\n",
    "print(name)"
   ]
  },
  {
   "cell_type": "code",
   "execution_count": 27,
   "id": "81d12ac0",
   "metadata": {},
   "outputs": [
    {
     "name": "stdout",
     "output_type": "stream",
     "text": [
      "Congratulations!Congratulations!Congratulations!\n"
     ]
    }
   ],
   "source": [
    "message = 'Congratulations!'\n",
    "print(message * 3)"
   ]
  },
  {
   "cell_type": "code",
   "execution_count": 28,
   "id": "9a06a90b",
   "metadata": {},
   "outputs": [
    {
     "name": "stdout",
     "output_type": "stream",
     "text": [
      "==============================\n"
     ]
    }
   ],
   "source": [
    "line = \"=\"*30\n",
    "print(line)"
   ]
  },
  {
   "cell_type": "code",
   "execution_count": 29,
   "id": "19708ebd",
   "metadata": {},
   "outputs": [
    {
     "name": "stdout",
     "output_type": "stream",
     "text": [
      "상품의 가격은 1000원 입니다\n"
     ]
    }
   ],
   "source": [
    "price = 1000\n",
    "print(\"상품의 가격은 %s원 입니다\" % price)"
   ]
  },
  {
   "cell_type": "code",
   "execution_count": 30,
   "id": "584bacdc",
   "metadata": {},
   "outputs": [
    {
     "name": "stdout",
     "output_type": "stream",
     "text": [
      "이렇게 정다운\n",
      "너 하나 나 하나는\n",
      "어디서 무엇이 되어\n",
      "다시 만나랴.\n"
     ]
    }
   ],
   "source": [
    "poem = \"이렇게 정다운\\n너 하나 나 하나는\\n어디서 무엇이 되어\\n다시 만나랴.\"\n",
    "print(poem)"
   ]
  },
  {
   "cell_type": "code",
   "execution_count": 31,
   "id": "26659460",
   "metadata": {},
   "outputs": [
    {
     "name": "stdout",
     "output_type": "stream",
     "text": [
      "이렇게 정다운\n",
      "너 하나 나 하나는\n",
      "어디서 무엇이 되어\n",
      "다시 만나랴.\n"
     ]
    }
   ],
   "source": [
    "poem = '''이렇게 정다운\n",
    "너 하나 나 하나는\n",
    "어디서 무엇이 되어\n",
    "다시 만나랴.'''\n",
    "print(poem)"
   ]
  },
  {
   "cell_type": "markdown",
   "id": "5e222db0",
   "metadata": {},
   "source": [
    "## 09. 필요한 문자열을 뽑아서 쓰자\n",
    "- 문자열 변수 s[a : b]: 인덱스 a부터 b-1까지의 문자열 (a < b)\n",
    "\n",
    "\n",
    "- s[a:b:c]:\n",
    "    - a < b이고 c > 0이면, a부터 b-1까지의 c간격의 문자열\n",
    "    - a > b이고 c < 0이면, a부터 b+1까지의 c간격의 문자열\n",
    "    \n",
    "    \n",
    "- s[0: :1]: s[0]에서부터 문자열 끝까지 1간격의 문자열, s 문자열 전체\n",
    "\n",
    "\n",
    "- s[-1: :-1]: s[-1]에서부터 문자열 처음까지 -1간격의 문자열, s 문자열 거꾸로 전체\n",
    "\n",
    "\n",
    "- s[:]: s 문자열 전체"
   ]
  },
  {
   "cell_type": "code",
   "execution_count": 32,
   "id": "9db6cdb5",
   "metadata": {},
   "outputs": [
    {
     "name": "stdout",
     "output_type": "stream",
     "text": [
      "H\n",
      "e\n",
      "n\n"
     ]
    }
   ],
   "source": [
    "s = \"Hello Python\"\n",
    "print(s[0])\n",
    "print(s[1])\n",
    "print(s[-1])"
   ]
  },
  {
   "cell_type": "code",
   "execution_count": 33,
   "id": "4679bac9",
   "metadata": {},
   "outputs": [
    {
     "name": "stdout",
     "output_type": "stream",
     "text": [
      "Pyt\n",
      "Pyth\n",
      "HloPt\n",
      "nohtyP\n"
     ]
    }
   ],
   "source": [
    "s = \"Hello Python\"\n",
    "print(s[6:9])\n",
    "print(s[-6:-2])\n",
    "print(s[0:10:2])\n",
    "print(s[-1:-7:-1])"
   ]
  },
  {
   "cell_type": "markdown",
   "id": "4bc4328f",
   "metadata": {},
   "source": [
    "## Lab. 소금물의 농도는?\n",
    "- 소금물의 농도 = (소금의 양/소금물의 양) * 100(%)"
   ]
  },
  {
   "cell_type": "code",
   "execution_count": 35,
   "id": "ad5f2b6e",
   "metadata": {},
   "outputs": [
    {
     "name": "stdout",
     "output_type": "stream",
     "text": [
      "소금물의 농도를 구하는 프로그램입니다\n",
      "소금의 양은 몇 g입니까? 50\n",
      "물의 양은 몇 g입니까? 80\n",
      "소금물의 농도: 38.46153846153847%\n"
     ]
    }
   ],
   "source": [
    "print(\"소금물의 농도를 구하는 프로그램입니다\")\n",
    "salt = int(input(\"소금의 양은 몇 g입니까? \"))\n",
    "water = int(input(\"물의 양은 몇 g입니까? \"))\n",
    "density = salt / (salt+water) * 100\n",
    "print(\"소금물의 농도: \" + str(density) + \"%\")"
   ]
  },
  {
   "cell_type": "markdown",
   "id": "c0544f83",
   "metadata": {},
   "source": [
    "## Lab. 간단한 챗봇(ChatBot) 프로그램"
   ]
  },
  {
   "cell_type": "code",
   "execution_count": 36,
   "id": "35bb8cb6",
   "metadata": {},
   "outputs": [
    {
     "name": "stdout",
     "output_type": "stream",
     "text": [
      "안녕하세요\n",
      "이름이 뭐예요? 홍길동\n",
      "만나서 반갑습니다. 홍길동님\n",
      "홍길동님 이름의 길이는 다음과 같군요: 3\n",
      "나이가 어떻게 되요? 20\n",
      "내년이면 21세가 되시는 군요\n"
     ]
    }
   ],
   "source": [
    "print(\"안녕하세요\")\n",
    "name = input('이름이 뭐예요? ')\n",
    "print(\"만나서 반갑습니다. \" + name + \"님\")\n",
    "print(name + \"님 이름의 길이는 다음과 같군요:\", end=' ')\n",
    "print(len(name))\n",
    "age = int(input(\"나이가 어떻게 되요? \"))         \n",
    "print(\"내년이면 \"+ str(age+1)+ \"세가 되시는 군요\")"
   ]
  },
  {
   "cell_type": "markdown",
   "id": "92fd3d00",
   "metadata": {},
   "source": [
    "## Lab. 거북이와 인사해봐요"
   ]
  },
  {
   "cell_type": "code",
   "execution_count": 37,
   "id": "16cdb299",
   "metadata": {},
   "outputs": [],
   "source": [
    "# import turtle\n",
    "# t = turtle.Turtle()\n",
    "# t.shape(\"turtle\")\n",
    "\n",
    "# s = turtle.textinput(\"\", \"이름을 입력하시오: \")\n",
    "# t.write(\"안녕하세요?\" + s +\"씨, 터틀 인사드립니다.\");\n",
    "\n",
    "# #사각형 그리기    \n",
    "# t.left(90)\n",
    "# t.forward(100)\n",
    "# t.left(90)\n",
    "# t.forward(100)\n",
    "# t.left(90)\n",
    "# t.forward(100)\n",
    "# t.left(90)\n",
    "# t.forward(100)"
   ]
  },
  {
   "cell_type": "markdown",
   "id": "10e4a0ed",
   "metadata": {},
   "source": [
    "## Lab. 암호프로그램 만들기"
   ]
  },
  {
   "cell_type": "code",
   "execution_count": 38,
   "id": "69ca8305",
   "metadata": {},
   "outputs": [
    {
     "name": "stdout",
     "output_type": "stream",
     "text": [
      "평문: 도서관에서 보자\n",
      "암호문: 자보 서에관서도\n"
     ]
    }
   ],
   "source": [
    "P = \"도서관에서 보자\"\n",
    "\n",
    "print(\"평문:\",P)\n",
    "print(\"암호문:\", P[-1: -9 :-1])"
   ]
  },
  {
   "cell_type": "markdown",
   "id": "a1fe49da",
   "metadata": {},
   "source": [
    "## Lab. 2050년에 나는 몇살?"
   ]
  },
  {
   "cell_type": "code",
   "execution_count": 39,
   "id": "56ffe71a",
   "metadata": {},
   "outputs": [
    {
     "name": "stdout",
     "output_type": "stream",
     "text": [
      "올해는 2021년입니다.\n",
      "당신의 나이를 입력 하세요: 17\n",
      "2050년에는 46살이군요.\n"
     ]
    }
   ],
   "source": [
    "import time\n",
    "now = time.time()\n",
    "thisYear = int(1970 + now//(365*24*3600))\n",
    "print(\"올해는 \" + str(thisYear)+\"년입니다.\")\n",
    "age = int(input(\"당신의 나이를 입력 하세요: \"))\n",
    "print(\"2050년에는 \"+str(age + 2050-thisYear)+\"살이군요.\")"
   ]
  },
  {
   "cell_type": "markdown",
   "id": "f4e4c143",
   "metadata": {},
   "source": [
    "--- seYi"
   ]
  }
 ],
 "metadata": {
  "kernelspec": {
   "display_name": "python3_7_6",
   "language": "python",
   "name": "py3_7_6"
  },
  "language_info": {
   "codemirror_mode": {
    "name": "ipython",
    "version": 3
   },
   "file_extension": ".py",
   "mimetype": "text/x-python",
   "name": "python",
   "nbconvert_exporter": "python",
   "pygments_lexer": "ipython3",
   "version": "3.7.6"
  }
 },
 "nbformat": 4,
 "nbformat_minor": 5
}
