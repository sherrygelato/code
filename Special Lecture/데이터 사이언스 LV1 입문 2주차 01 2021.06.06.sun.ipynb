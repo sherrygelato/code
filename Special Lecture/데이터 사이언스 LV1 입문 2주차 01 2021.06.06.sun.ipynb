{
 "cells": [
  {
   "cell_type": "markdown",
   "id": "e709819a",
   "metadata": {},
   "source": [
    "https://book.coalastudy.com/data-science-lv1/week2/stage1"
   ]
  },
  {
   "cell_type": "code",
   "execution_count": 1,
   "id": "21378862",
   "metadata": {},
   "outputs": [
    {
     "name": "stdout",
     "output_type": "stream",
     "text": [
      "Hello World!\n"
     ]
    }
   ],
   "source": [
    "print('Hello World!')"
   ]
  },
  {
   "cell_type": "markdown",
   "id": "9b76165c",
   "metadata": {},
   "source": [
    "# 큰 제목: 안녕하세요?\n",
    "\n",
    "\n",
    "## 작은 제목: 테스트입니다.\n",
    "\n",
    "\n",
    "*기울기*\n",
    "\n",
    "\n",
    "**진하게**\n",
    "\n",
    "\n",
    "`파이썬` `데이터` `사이언스`"
   ]
  },
  {
   "cell_type": "markdown",
   "id": "9abe69cb",
   "metadata": {},
   "source": [
    "# 큰 제목\n",
    "\n",
    "## 제목\n",
    "\n",
    "### 제목\n",
    "\n",
    "#### 제목\n",
    "\n",
    "##### 제목\n",
    "\n",
    "###### 제목"
   ]
  },
  {
   "cell_type": "markdown",
   "id": "e42753fc",
   "metadata": {},
   "source": [
    "# 순서 없는 리스트\n",
    "- 순서 없는 리스트 목록1\n",
    "- 순서 없는 리스트 목록2\n",
    "  - 앞에 두칸 띄고\n",
    "    - 또 두칸 띄고\n",
    "    \n",
    "    \n",
    "# 순서 있는 리스트\n",
    "1. 순서 있는 리스트 목록1\n",
    "1. 순서 있는 리스트 목록2\n",
    "1. 순서 있는 리스트 목록3"
   ]
  },
  {
   "cell_type": "markdown",
   "id": "44dbc9b6",
   "metadata": {},
   "source": [
    "# 이미지, 링크\n",
    "\n",
    "---\n",
    "\n",
    "\n",
    "## 이미지\n",
    "![이미지설명](https://gblobscdn.gitbook.com/assets%2F-LeR-GoH6BL7vjJGC8as%2F-LeR-Xs49WNTJmZIKLYU%2F-LeR-ZFXrydshp0H0zgm%2Fimage%20(387).png?alt=media)\n",
    "\n",
    "\n",
    "## 링크\n",
    "[링크](http://naver.com)"
   ]
  },
  {
   "cell_type": "markdown",
   "id": "cffcf566",
   "metadata": {},
   "source": [
    "# 기타\n",
    "\n",
    "---\n",
    "\n",
    "\n",
    "## 글자 진하게\n",
    "** 진하게 표시**\n",
    "\n",
    "\n",
    "## 코드 넣기\n",
    "```python\n",
    "mag = input('내용을 입력해주세요')\n",
    "print('파이썬 코드', mag)\n",
    "```\n",
    "\n",
    "## 글 중간에 코드 넣기\n",
    "글 중간에 `코드` 넣기\n",
    "\n",
    "\n",
    "## 인용구\n",
    "> 인용(끝에 스페이스바 2번!)  \n",
    "> 내용"
   ]
  },
  {
   "cell_type": "markdown",
   "id": "ef3e8305",
   "metadata": {},
   "source": [
    "# 표\n",
    "이름|전화번호|이메일\n",
    "-|-|-\n",
    "A|010|a@a.com\n",
    "B|010|b@b.com"
   ]
  },
  {
   "cell_type": "code",
   "execution_count": 2,
   "id": "7ae7c213",
   "metadata": {},
   "outputs": [],
   "source": [
    "# 라이브러리 import 하기\n",
    "\n",
    "import pandas as pd\n",
    "import numpy as np"
   ]
  },
  {
   "cell_type": "markdown",
   "id": "e17a11ea",
   "metadata": {},
   "source": [
    "# # 미션 1"
   ]
  },
  {
   "cell_type": "markdown",
   "id": "37663cfe",
   "metadata": {},
   "source": [
    "# # 마크다운 연습기\n",
    "\n",
    "---\n",
    "\n",
    "\n",
    "## # 지금까지 배운 내용\n",
    "1. 큰 제목 넣기\n",
    "2. 리스트 넣기\n",
    "3. 표 넣기\n",
    "4. 기타\n",
    "\n",
    "\n",
    "---\n",
    "\n",
    "\n",
    "## # 정리\n",
    "문법|사용법\n",
    "-|-\n",
    "큰 제목|#을 사용\n",
    "리스트|-혹은 1.사용\n",
    "\n",
    "\n",
    "---\n",
    "\n",
    "\n",
    "## # 마무리\n",
    "```python\n",
    "print('Hello World!')\n",
    "```"
   ]
  },
  {
   "cell_type": "markdown",
   "id": "3ad22df7",
   "metadata": {},
   "source": [
    "https://book.coalastudy.com/data-science-lv1/week2/stage2"
   ]
  },
  {
   "cell_type": "markdown",
   "id": "4baf7048",
   "metadata": {},
   "source": [
    "## 1. 변수\n",
    "- 무언가를 저장해두는 곳\n",
    "- 숫자 혹은 문자 같은 자료를 잠시 저장해두는 곳"
   ]
  },
  {
   "cell_type": "markdown",
   "id": "235be616",
   "metadata": {},
   "source": [
    "### # 숫자"
   ]
  },
  {
   "cell_type": "code",
   "execution_count": 3,
   "id": "6a1f1143",
   "metadata": {},
   "outputs": [
    {
     "name": "stdout",
     "output_type": "stream",
     "text": [
      "1 2 -1231 -123.53323\n"
     ]
    }
   ],
   "source": [
    "a = 1\n",
    "b = 2\n",
    "c = -1231\n",
    "d = -123.53323\n",
    "print(a,b,c,d)"
   ]
  },
  {
   "cell_type": "code",
   "execution_count": 4,
   "id": "36471af2",
   "metadata": {},
   "outputs": [
    {
     "name": "stdout",
     "output_type": "stream",
     "text": [
      "454\n"
     ]
    }
   ],
   "source": [
    "add = 133 +321\n",
    "print(add)"
   ]
  },
  {
   "cell_type": "code",
   "execution_count": 5,
   "id": "20c49e67",
   "metadata": {},
   "outputs": [
    {
     "name": "stdout",
     "output_type": "stream",
     "text": [
      "13\n"
     ]
    }
   ],
   "source": [
    "res = 3 + (2 * 5)\n",
    "print(res)"
   ]
  },
  {
   "cell_type": "code",
   "execution_count": 6,
   "id": "c1554e7e",
   "metadata": {},
   "outputs": [
    {
     "name": "stdout",
     "output_type": "stream",
     "text": [
      "4.333333333333333\n"
     ]
    }
   ],
   "source": [
    "res = res / 3\n",
    "print(res)"
   ]
  },
  {
   "cell_type": "code",
   "execution_count": 7,
   "id": "adcf8d04",
   "metadata": {},
   "outputs": [
    {
     "name": "stdout",
     "output_type": "stream",
     "text": [
      "-1228\n"
     ]
    }
   ],
   "source": [
    "print(1 + 2 - 1231)"
   ]
  },
  {
   "cell_type": "code",
   "execution_count": 8,
   "id": "00c4f8ec",
   "metadata": {},
   "outputs": [
    {
     "name": "stdout",
     "output_type": "stream",
     "text": [
      "-1228\n"
     ]
    }
   ],
   "source": [
    "print(a + b + c)"
   ]
  },
  {
   "cell_type": "markdown",
   "id": "14c7225b",
   "metadata": {},
   "source": [
    "### # 문자열"
   ]
  },
  {
   "cell_type": "code",
   "execution_count": 9,
   "id": "5e2a990c",
   "metadata": {},
   "outputs": [
    {
     "name": "stdout",
     "output_type": "stream",
     "text": [
      "Hello Wolrd\n",
      "안녕 세상\n"
     ]
    }
   ],
   "source": [
    "a = 'Hello Wolrd'\n",
    "print(a)\n",
    "\n",
    "b = '안녕 세상'\n",
    "print(b)"
   ]
  },
  {
   "cell_type": "code",
   "execution_count": 10,
   "id": "acac9b2b",
   "metadata": {},
   "outputs": [
    {
     "name": "stdout",
     "output_type": "stream",
     "text": [
      "Hi!\n"
     ]
    }
   ],
   "source": [
    "a = 'Hi!'\n",
    "print(a)"
   ]
  },
  {
   "cell_type": "code",
   "execution_count": 11,
   "id": "fbf89935",
   "metadata": {},
   "outputs": [
    {
     "name": "stdout",
     "output_type": "stream",
     "text": [
      "Hi!\n"
     ]
    }
   ],
   "source": [
    "b = a\n",
    "print(b)"
   ]
  },
  {
   "cell_type": "code",
   "execution_count": 12,
   "id": "4b578d80",
   "metadata": {},
   "outputs": [
    {
     "name": "stdout",
     "output_type": "stream",
     "text": [
      "여러줄에 걸쳐 글을 쓰려면?\n",
      "크리스티아누\n",
      "호날두\n",
      "두스\n",
      "산투스\n",
      "아베이루\n"
     ]
    }
   ],
   "source": [
    "longName = '''여러줄에 걸쳐 글을 쓰려면?\n",
    "크리스티아누\n",
    "호날두\n",
    "두스\n",
    "산투스\n",
    "아베이루'''\n",
    "print(longName)"
   ]
  },
  {
   "cell_type": "code",
   "execution_count": 13,
   "id": "87268045",
   "metadata": {},
   "outputs": [
    {
     "name": "stdout",
     "output_type": "stream",
     "text": [
      "1\n"
     ]
    }
   ],
   "source": [
    "# 참고\n",
    "print(10 % 3)"
   ]
  },
  {
   "cell_type": "markdown",
   "id": "25c606ce",
   "metadata": {},
   "source": [
    "## 미션\n",
    "변수 활용 퀴즈"
   ]
  },
  {
   "cell_type": "code",
   "execution_count": 15,
   "id": "9cfea63f",
   "metadata": {},
   "outputs": [
    {
     "name": "stdout",
     "output_type": "stream",
     "text": [
      "my name is Django\n"
     ]
    }
   ],
   "source": [
    "# 1. 문자를 더하면?\n",
    "\n",
    "a = 'my name is '\n",
    "b = 'Django'\n",
    "print(a+b)"
   ]
  },
  {
   "cell_type": "code",
   "execution_count": 16,
   "id": "ab7ec201",
   "metadata": {},
   "outputs": [
    {
     "name": "stdout",
     "output_type": "stream",
     "text": [
      "12344321\n"
     ]
    }
   ],
   "source": [
    "# 2. 문자형에 들어 있는 숫자끼리 더하면?\n",
    "num1 = '1234'\n",
    "num2 = '4321'\n",
    "print(num1 + num2)"
   ]
  },
  {
   "cell_type": "code",
   "execution_count": 17,
   "id": "517dc5e8",
   "metadata": {},
   "outputs": [
    {
     "name": "stdout",
     "output_type": "stream",
     "text": [
      "P\n"
     ]
    }
   ],
   "source": [
    "# 3. K는 어떤 값이 될까요?\n",
    "K = 'P'\n",
    "P = 123\n",
    "print(K)"
   ]
  },
  {
   "cell_type": "code",
   "execution_count": 18,
   "id": "7846d916",
   "metadata": {},
   "outputs": [
    {
     "name": "stdout",
     "output_type": "stream",
     "text": [
      "hi,hello\n"
     ]
    }
   ],
   "source": [
    "# 참고\n",
    "\n",
    "a = 'hi'\n",
    "print(a + ',' + 'hello')"
   ]
  },
  {
   "cell_type": "markdown",
   "id": "e46c6a86",
   "metadata": {},
   "source": [
    "## 2. if\n",
    "- 특정 조건에서 이 구문을 실행하라\n",
    "- 제시한 조건이 맞으면 범위 안의 구문(탭)을 실행하는 기능을 가지고 있다"
   ]
  },
  {
   "cell_type": "code",
   "execution_count": 19,
   "id": "2dac7752",
   "metadata": {},
   "outputs": [
    {
     "name": "stdout",
     "output_type": "stream",
     "text": [
      "성인입니다\n"
     ]
    }
   ],
   "source": [
    "age = 25\n",
    "if age > 19:\n",
    "    print('성인입니다')\n",
    "else:\n",
    "    print('청소년입니다')"
   ]
  },
  {
   "cell_type": "code",
   "execution_count": 20,
   "id": "f12801fb",
   "metadata": {},
   "outputs": [
    {
     "name": "stdout",
     "output_type": "stream",
     "text": [
      "중학생 할인혜택이 적용됩니다.\n"
     ]
    }
   ],
   "source": [
    "age = 15\n",
    "\n",
    "if age >= 14 and age <= 16:\n",
    "    print('중학생 할인혜택이 적용됩니다.')\n",
    "else:\n",
    "    print('할인 대상자가 아닙니다.')"
   ]
  },
  {
   "cell_type": "code",
   "execution_count": 21,
   "id": "ac578923",
   "metadata": {},
   "outputs": [
    {
     "name": "stdout",
     "output_type": "stream",
     "text": [
      "우\n"
     ]
    }
   ],
   "source": [
    "score = 85\n",
    "\n",
    "if score >= 90:\n",
    "    print('수')\n",
    "elif score >= 80:\n",
    "    print('우')\n",
    "elif score >= 70:\n",
    "    print('미')\n",
    "elif score >= 60:\n",
    "    print('양')\n",
    "else:\n",
    "    print('가')"
   ]
  },
  {
   "cell_type": "code",
   "execution_count": 22,
   "id": "8ed7a036",
   "metadata": {},
   "outputs": [
    {
     "name": "stdout",
     "output_type": "stream",
     "text": [
      "우\n"
     ]
    }
   ],
   "source": [
    "score = 85\n",
    "\n",
    "if score >= 90:\n",
    "    print('수')\n",
    "if score < 90 and score >= 80:\n",
    "    print('우')\n",
    "if score < 80 and score >= 70:\n",
    "    print('미')\n",
    "if score < 70 and score >= 60:\n",
    "    print('양')\n",
    "if score < 60:\n",
    "    print('가')"
   ]
  },
  {
   "cell_type": "code",
   "execution_count": 23,
   "id": "59aae412",
   "metadata": {},
   "outputs": [
    {
     "name": "stdout",
     "output_type": "stream",
     "text": [
      "불합격\n"
     ]
    }
   ],
   "source": [
    "age = 25\n",
    "score = 75\n",
    "\n",
    "if age >= 20:\n",
    "    if score >= 80:\n",
    "        print('합격')\n",
    "    else:\n",
    "        print('불합격')\n",
    "else:\n",
    "    if score >= 70:\n",
    "        print('합격')\n",
    "    else:\n",
    "        print('불합격')"
   ]
  },
  {
   "cell_type": "markdown",
   "id": "b29ac9da",
   "metadata": {},
   "source": [
    "## list, dictionary \n",
    "- 데이터를 담는 표, 이름표로 담는 표는 딕셔너리"
   ]
  },
  {
   "cell_type": "code",
   "execution_count": 25,
   "id": "8511d5aa",
   "metadata": {},
   "outputs": [
    {
     "name": "stdout",
     "output_type": "stream",
     "text": [
      "박청용\n",
      "650101\n",
      "1100\n"
     ]
    }
   ],
   "source": [
    "myname = \"박청용\"\n",
    "birth = 650101\n",
    "addr = \"서울 마포 공덕\"\n",
    "\n",
    "person_info = [myname, birth, addr, \"남자\", 1100]\n",
    "\n",
    "print(person_info[0])\n",
    "print(person_info[1])\n",
    "print(person_info[4])"
   ]
  },
  {
   "cell_type": "code",
   "execution_count": 26,
   "id": "b45e2016",
   "metadata": {},
   "outputs": [
    {
     "name": "stdout",
     "output_type": "stream",
     "text": [
      "박청용\n",
      "650101\n",
      "1100\n"
     ]
    }
   ],
   "source": [
    "myname = \"박청용\"\n",
    "birth = 650101\n",
    "addr = \"서울 마포 공덕\"\n",
    "\n",
    "user_info = {\n",
    "    \"name\": myname,\n",
    "    \"birth\": birth,\n",
    "    \"address\": addr,\n",
    "    \"gender\": \"남자\",\n",
    "    \"point\": 1100\n",
    "}\n",
    "\n",
    "print(user_info[\"name\"])\n",
    "print(user_info[\"birth\"])\n",
    "print(user_info[\"point\"])"
   ]
  },
  {
   "cell_type": "code",
   "execution_count": 28,
   "id": "22472759",
   "metadata": {},
   "outputs": [
    {
     "name": "stdout",
     "output_type": "stream",
     "text": [
      "['박청용', 650101, '서울 마포 공덕', '남자', 1100]\n",
      "['박지성', 810225, '맨체스터', '남자', 13000]\n",
      "맨체스터\n",
      "서울 마포 공덕\n"
     ]
    }
   ],
   "source": [
    "person_info2 = [\"박지성\", 810225, \"맨체스터\", \"남자\", 13000]\n",
    "user_list = [person_info, person_info2, user_info]\n",
    "\n",
    "print(user_list[0])\n",
    "print(user_list[1])\n",
    "print(user_list[1][2])\n",
    "print(user_list[2][\"address\"])"
   ]
  },
  {
   "cell_type": "markdown",
   "id": "eb79d50c",
   "metadata": {},
   "source": [
    "# Challenge1 - 전화번호부 만들기"
   ]
  },
  {
   "cell_type": "code",
   "execution_count": 29,
   "id": "dc15bb31",
   "metadata": {},
   "outputs": [
    {
     "name": "stdout",
     "output_type": "stream",
     "text": [
      "1단계: 전체 출력하기\n",
      "[{'name': '박지성', 'phone': '01040281234'}, {'name': '이청용', 'phone': '01012344321'}, {'name': '손흥민', 'phone': '01007070202'}]\n",
      "-----------------\n",
      "2단계: 이청용 정보만 출력하기\n",
      "{'name': '이청용', 'phone': '01012344321'}\n"
     ]
    }
   ],
   "source": [
    "phonebook = [{\n",
    "    'name': '박지성',\n",
    "    'phone': '01040281234'\n",
    "}, {\n",
    "    'name': '이청용',\n",
    "    'phone': '01012344321'\n",
    "}, {\n",
    "    'name': '손흥민',\n",
    "    'phone': '01007070202'\n",
    "}]\n",
    "\n",
    "# 1단계\n",
    "print('1단계: 전체 출력하기')\n",
    "print(phonebook)\n",
    "\n",
    "# 2단계\n",
    "print('-----------------')\n",
    "print('2단계: 이청용 정보만 출력하기')\n",
    "print(phonebook[1])"
   ]
  },
  {
   "cell_type": "markdown",
   "id": "f9a34b9f",
   "metadata": {},
   "source": [
    "1. phonebook은 어떤 자료형 일까요?  [                  ] ex. 숫자형, 문자형, 리스트, 딕셔너리, …\n",
    "\n",
    "2. phonebook 안에 넣을 수 있는 자료형 중 3가지만 적어주세요.  [                  ] [                  ] [                  ] (무수히 많음)\n",
    "\n",
    "3. phonebook의 첫번째 값만 출력하려면 어떤 구문이 필요할까요?  [                                                             ]\n",
    "\n",
    "\n",
    "---\n",
    "\n",
    "1. 딕셔너리\n",
    "2. 문자열, 숫자, 리스트 등\n",
    "3. 인덱싱"
   ]
  },
  {
   "cell_type": "code",
   "execution_count": 32,
   "id": "b199128b",
   "metadata": {},
   "outputs": [
    {
     "data": {
      "text/plain": [
       "{'name': '박지성', 'phone': '01040281234'}"
      ]
     },
     "execution_count": 32,
     "metadata": {},
     "output_type": "execute_result"
    }
   ],
   "source": [
    "phonebook[0]"
   ]
  },
  {
   "cell_type": "code",
   "execution_count": null,
   "id": "19ab64e9",
   "metadata": {},
   "outputs": [],
   "source": []
  }
 ],
 "metadata": {
  "kernelspec": {
   "display_name": "python3_7_6",
   "language": "python",
   "name": "py3_7_6"
  },
  "language_info": {
   "codemirror_mode": {
    "name": "ipython",
    "version": 3
   },
   "file_extension": ".py",
   "mimetype": "text/x-python",
   "name": "python",
   "nbconvert_exporter": "python",
   "pygments_lexer": "ipython3",
   "version": "3.7.6"
  }
 },
 "nbformat": 4,
 "nbformat_minor": 5
}
